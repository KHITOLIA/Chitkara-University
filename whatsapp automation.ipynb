{
 "cells": [
  {
   "cell_type": "code",
   "execution_count": 23,
   "id": "1527330a-75ee-45f2-a307-20251903d381",
   "metadata": {
    "scrolled": true
   },
   "outputs": [],
   "source": [
    "# !pip install pywhatkit \n",
    "# !pip install webdriver_manager selenium\n"
   ]
  },
  {
   "cell_type": "code",
   "execution_count": 1,
   "id": "2a69a53d-315c-4eb7-a7e1-bf83244309f0",
   "metadata": {},
   "outputs": [
    {
     "name": "stdout",
     "output_type": "stream",
     "text": [
      "In 41 Seconds WhatsApp will open and after 15 Seconds Message will be Delivered!\n"
     ]
    }
   ],
   "source": [
    "import pywhatkit as kit\n",
    "kit.sendwhatmsg(\"+918700327248\", \"moti soja!\", 23, 34)"
   ]
  },
  {
   "cell_type": "code",
   "execution_count": 34,
   "id": "04f72d64-9d90-4377-8fe2-0188309c34ab",
   "metadata": {
    "scrolled": true
   },
   "outputs": [],
   "source": [
    "# !pip install selenium"
   ]
  },
  {
   "cell_type": "code",
   "execution_count": 35,
   "id": "6eb0b083-9e2d-4525-910b-08cc00b1a86f",
   "metadata": {},
   "outputs": [],
   "source": [
    "# from selenium import webdriver\n",
    "# from selenium.webdriver.chrome.options import Options\n",
    "# from webdriver_manager.chrome import ChromeDriverManager\n",
    "# from selenium.webdriver.chrome.service import Service\n",
    "\n",
    "# # Chrome options for fully hidden mode\n",
    "# chrome_options = Options()\n",
    "# chrome_options.add_argument(\"--headless=new\")  # Newer headless implementation\n",
    "# chrome_options.add_argument(\"--disable-gpu\")\n",
    "# chrome_options.add_argument(\"--no-sandbox\")\n",
    "# chrome_options.add_argument(\"--disable-dev-shm-usage\")  # Helps on Linux systems\n",
    "# chrome_options.add_argument(\"--window-size=1920x1080\")\n",
    "# chrome_options.add_argument(\"--disable-extensions\")\n",
    "# chrome_options.add_argument(\"--remote-debugging-port=9222\")\n",
    "\n",
    "# # Set up WebDriver service\n",
    "# service = Service(ChromeDriverManager().install())\n",
    "\n",
    "# # Initialize WebDriver\n",
    "# driver = webdriver.Chrome(service=service, options=chrome_options)\n",
    "\n",
    "# # Open WhatsApp Web\n",
    "# driver.get(\"https://web.whatsapp.com\")\n",
    "\n",
    "# print(\"WhatsApp Web running in fully hidden mode.\")\n",
    "\n",
    "# # kit.sendwhatmsg(\"+917827458285\", \"Hello this is Tushar\", 23, 9)\n",
    "# # Close browser when done\n",
    "# driver.quit()\n"
   ]
  },
  {
   "cell_type": "code",
   "execution_count": null,
   "id": "5d0fa989-ea49-45ee-abc5-9012eb08d170",
   "metadata": {},
   "outputs": [],
   "source": []
  },
  {
   "cell_type": "code",
   "execution_count": null,
   "id": "63216a93-13b9-4795-9401-6085264d0a56",
   "metadata": {},
   "outputs": [],
   "source": []
  }
 ],
 "metadata": {
  "kernelspec": {
   "display_name": "Python 3 (ipykernel)",
   "language": "python",
   "name": "python3"
  },
  "language_info": {
   "codemirror_mode": {
    "name": "ipython",
    "version": 3
   },
   "file_extension": ".py",
   "mimetype": "text/x-python",
   "name": "python",
   "nbconvert_exporter": "python",
   "pygments_lexer": "ipython3",
   "version": "3.12.7"
  }
 },
 "nbformat": 4,
 "nbformat_minor": 5
}
