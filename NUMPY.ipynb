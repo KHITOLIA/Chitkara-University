{
 "cells": [
  {
   "cell_type": "code",
   "execution_count": 1,
   "id": "05bc627e",
   "metadata": {},
   "outputs": [
    {
     "name": "stdout",
     "output_type": "stream",
     "text": [
      "Requirement already satisfied: numpy in c:\\users\\lenovo\\anaconda3\\lib\\site-packages (1.24.3)\n"
     ]
    }
   ],
   "source": [
    "!pip install numpy"
   ]
  },
  {
   "cell_type": "code",
   "execution_count": 2,
   "id": "51b2adcb",
   "metadata": {},
   "outputs": [],
   "source": [
    "import numpy as np"
   ]
  },
  {
   "cell_type": "code",
   "execution_count": 10,
   "id": "e7ee4826",
   "metadata": {},
   "outputs": [],
   "source": [
    "a = np.array([1,2,3,4,5])"
   ]
  },
  {
   "cell_type": "code",
   "execution_count": 11,
   "id": "03b90804",
   "metadata": {},
   "outputs": [
    {
     "data": {
      "text/plain": [
       "numpy.ndarray"
      ]
     },
     "execution_count": 11,
     "metadata": {},
     "output_type": "execute_result"
    }
   ],
   "source": [
    "type(a)"
   ]
  },
  {
   "cell_type": "code",
   "execution_count": 12,
   "id": "e3415a1b",
   "metadata": {},
   "outputs": [],
   "source": [
    "A = np.array([[1],\n",
    "              [2],\n",
    "              [3],\n",
    "              [4]])"
   ]
  },
  {
   "cell_type": "code",
   "execution_count": 13,
   "id": "17324409",
   "metadata": {},
   "outputs": [
    {
     "data": {
      "text/plain": [
       "(4, 1)"
      ]
     },
     "execution_count": 13,
     "metadata": {},
     "output_type": "execute_result"
    }
   ],
   "source": [
    "A.shape"
   ]
  },
  {
   "cell_type": "code",
   "execution_count": 14,
   "id": "f13d3caa",
   "metadata": {},
   "outputs": [
    {
     "data": {
      "text/plain": [
       "(5,)"
      ]
     },
     "execution_count": 14,
     "metadata": {},
     "output_type": "execute_result"
    }
   ],
   "source": [
    "a.shape"
   ]
  },
  {
   "cell_type": "code",
   "execution_count": 2,
   "id": "2d875a05",
   "metadata": {},
   "outputs": [],
   "source": [
    "np.zeros((3,3))  "
   ]
  },
  {
   "cell_type": "code",
   "execution_count": 18,
   "id": "27834f05",
   "metadata": {},
   "outputs": [
    {
     "data": {
      "text/plain": [
       "array([[1., 1., 1.],\n",
       "       [1., 1., 1.],\n",
       "       [1., 1., 1.]])"
      ]
     },
     "execution_count": 18,
     "metadata": {},
     "output_type": "execute_result"
    }
   ],
   "source": [
    "np.ones((3,3))"
   ]
  },
  {
   "cell_type": "code",
   "execution_count": 1,
   "id": "00d30891",
   "metadata": {},
   "outputs": [],
   "source": [
    "# np.eye(3,3)"
   ]
  },
  {
   "cell_type": "code",
   "execution_count": 25,
   "id": "6c26bc37",
   "metadata": {},
   "outputs": [
    {
     "data": {
      "text/plain": [
       "array([[9., 9., 9.],\n",
       "       [9., 9., 9.],\n",
       "       [9., 9., 9.]])"
      ]
     },
     "execution_count": 25,
     "metadata": {},
     "output_type": "execute_result"
    }
   ],
   "source": [
    "np.full((3,3), 9, dtype = 'float')"
   ]
  },
  {
   "cell_type": "code",
   "execution_count": 23,
   "id": "1bced054",
   "metadata": {},
   "outputs": [],
   "source": [
    "np.full?"
   ]
  },
  {
   "cell_type": "code",
   "execution_count": 26,
   "id": "78ccd7c6",
   "metadata": {},
   "outputs": [
    {
     "data": {
      "text/plain": [
       "array([[1., 0., 0., 0., 0., 0.],\n",
       "       [0., 1., 0., 0., 0., 0.],\n",
       "       [0., 0., 1., 0., 0., 0.],\n",
       "       [0., 0., 0., 1., 0., 0.],\n",
       "       [0., 0., 0., 0., 1., 0.],\n",
       "       [0., 0., 0., 0., 0., 1.]])"
      ]
     },
     "execution_count": 26,
     "metadata": {},
     "output_type": "execute_result"
    }
   ],
   "source": [
    "np.eye(6)"
   ]
  },
  {
   "cell_type": "code",
   "execution_count": 27,
   "id": "6456b818",
   "metadata": {},
   "outputs": [
    {
     "data": {
      "text/plain": [
       "array([[0.57620164, 0.60998501, 0.75631441, 0.60471438, 0.15566361],\n",
       "       [0.21825602, 0.74175892, 0.83339078, 0.59660581, 0.78716336],\n",
       "       [0.77960005, 0.85334616, 0.85779535, 0.76775911, 0.2924296 ]])"
      ]
     },
     "execution_count": 27,
     "metadata": {},
     "output_type": "execute_result"
    }
   ],
   "source": [
    "np.random.random((3,5))"
   ]
  },
  {
   "cell_type": "code",
   "execution_count": 30,
   "id": "e811bb1d",
   "metadata": {},
   "outputs": [],
   "source": [
    "np.random.random?"
   ]
  },
  {
   "cell_type": "code",
   "execution_count": 38,
   "id": "4076077f",
   "metadata": {},
   "outputs": [],
   "source": [
    "rn = np.random.random((4,5))"
   ]
  },
  {
   "cell_type": "code",
   "execution_count": 39,
   "id": "55e5a423",
   "metadata": {},
   "outputs": [
    {
     "data": {
      "text/plain": [
       "array([[0.63334193, 0.25975105, 0.6143291 , 0.42794802, 0.22553967],\n",
       "       [0.55825117, 0.62206631, 0.64632793, 0.2765891 , 0.39920853],\n",
       "       [0.34493556, 0.68360804, 0.83986665, 0.00276292, 0.02783969],\n",
       "       [0.52003849, 0.74954213, 0.66814523, 0.46288574, 0.07739931]])"
      ]
     },
     "execution_count": 39,
     "metadata": {},
     "output_type": "execute_result"
    }
   ],
   "source": [
    "rn"
   ]
  },
  {
   "cell_type": "code",
   "execution_count": 40,
   "id": "049deef9",
   "metadata": {},
   "outputs": [
    {
     "data": {
      "text/plain": [
       "array([[0.63334193, 0.25975105, 0.6143291 , 0.42794802, 0.22553967]])"
      ]
     },
     "execution_count": 40,
     "metadata": {},
     "output_type": "execute_result"
    }
   ],
   "source": [
    "rn[:1]"
   ]
  },
  {
   "cell_type": "code",
   "execution_count": 41,
   "id": "5879aeaf",
   "metadata": {},
   "outputs": [
    {
     "data": {
      "text/plain": [
       "array([0.22553967])"
      ]
     },
     "execution_count": 41,
     "metadata": {},
     "output_type": "execute_result"
    }
   ],
   "source": [
    "rn[:1,4]"
   ]
  },
  {
   "cell_type": "code",
   "execution_count": 42,
   "id": "2f9959e9",
   "metadata": {},
   "outputs": [
    {
     "data": {
      "text/plain": [
       "array([[0.63334193, 0.25975105, 0.6143291 ],\n",
       "       [0.55825117, 0.62206631, 0.64632793],\n",
       "       [0.34493556, 0.68360804, 0.83986665]])"
      ]
     },
     "execution_count": 42,
     "metadata": {},
     "output_type": "execute_result"
    }
   ],
   "source": [
    "rn[:3,:3]"
   ]
  },
  {
   "cell_type": "code",
   "execution_count": 44,
   "id": "8d4a3da4",
   "metadata": {},
   "outputs": [
    {
     "data": {
      "text/plain": [
       "array([[0.63334193, 0.25975105, 0.6143291 , 0.42794802, 0.22553967],\n",
       "       [0.55825117, 0.62206631, 0.64632793, 0.2765891 , 0.39920853],\n",
       "       [0.34493556, 0.68360804, 0.83986665, 0.00276292, 0.02783969],\n",
       "       [0.52003849, 0.74954213, 0.66814523, 0.46288574, 0.07739931]])"
      ]
     },
     "execution_count": 44,
     "metadata": {},
     "output_type": "execute_result"
    }
   ],
   "source": [
    "rn"
   ]
  },
  {
   "cell_type": "code",
   "execution_count": 46,
   "id": "7a9885b3",
   "metadata": {},
   "outputs": [
    {
     "data": {
      "text/plain": [
       "array([[0.62206631, 0.64632793],\n",
       "       [0.68360804, 0.83986665]])"
      ]
     },
     "execution_count": 46,
     "metadata": {},
     "output_type": "execute_result"
    }
   ],
   "source": [
    "rn[1:3,1:3]"
   ]
  },
  {
   "cell_type": "code",
   "execution_count": 47,
   "id": "5fc3b55c",
   "metadata": {},
   "outputs": [],
   "source": [
    "x = np.array([[1, 2], [4, 5]])\n",
    "\n",
    "y = np.array([[3, 4], [5, 6]])"
   ]
  },
  {
   "cell_type": "code",
   "execution_count": 48,
   "id": "c14438da",
   "metadata": {},
   "outputs": [
    {
     "name": "stdout",
     "output_type": "stream",
     "text": [
      "(2, 2) (2, 2)\n"
     ]
    }
   ],
   "source": [
    "print(x.shape, y.shape)"
   ]
  },
  {
   "cell_type": "code",
   "execution_count": 49,
   "id": "1e3c80d6",
   "metadata": {},
   "outputs": [
    {
     "name": "stdout",
     "output_type": "stream",
     "text": [
      "[[ 4  6]\n",
      " [ 9 11]] [[-2 -2]\n",
      " [-1 -1]] [[ 3  8]\n",
      " [20 30]] [[0.33333333 0.5       ]\n",
      " [0.8        0.83333333]]\n"
     ]
    }
   ],
   "source": [
    "print((x + y), (x - y), (x * y), (x / y))"
   ]
  },
  {
   "cell_type": "code",
   "execution_count": 50,
   "id": "1410f2dc",
   "metadata": {},
   "outputs": [
    {
     "data": {
      "text/plain": [
       "array([[ 4,  6],\n",
       "       [ 9, 11]])"
      ]
     },
     "execution_count": 50,
     "metadata": {},
     "output_type": "execute_result"
    }
   ],
   "source": [
    "np.add(x, y)"
   ]
  },
  {
   "cell_type": "code",
   "execution_count": 51,
   "id": "f641fab4",
   "metadata": {},
   "outputs": [
    {
     "data": {
      "text/plain": [
       "array([[-2, -2],\n",
       "       [-1, -1]])"
      ]
     },
     "execution_count": 51,
     "metadata": {},
     "output_type": "execute_result"
    }
   ],
   "source": [
    "np.subtract(x, y)"
   ]
  },
  {
   "cell_type": "code",
   "execution_count": 52,
   "id": "1f902629",
   "metadata": {},
   "outputs": [
    {
     "data": {
      "text/plain": [
       "array([[ 3,  8],\n",
       "       [20, 30]])"
      ]
     },
     "execution_count": 52,
     "metadata": {},
     "output_type": "execute_result"
    }
   ],
   "source": [
    "np.multiply(x, y)"
   ]
  },
  {
   "cell_type": "code",
   "execution_count": 53,
   "id": "6d7f1429",
   "metadata": {},
   "outputs": [
    {
     "data": {
      "text/plain": [
       "array([[0.33333333, 0.5       ],\n",
       "       [0.8       , 0.83333333]])"
      ]
     },
     "execution_count": 53,
     "metadata": {},
     "output_type": "execute_result"
    }
   ],
   "source": [
    "np.divide(x, y)"
   ]
  },
  {
   "cell_type": "code",
   "execution_count": 56,
   "id": "493da7d1",
   "metadata": {},
   "outputs": [
    {
     "name": "stdout",
     "output_type": "stream",
     "text": [
      "[[1 2]\n",
      " [4 5]] [[3 4]\n",
      " [5 6]]\n"
     ]
    }
   ],
   "source": [
    "print(x, y)"
   ]
  },
  {
   "cell_type": "code",
   "execution_count": 54,
   "id": "3e4f2d3f",
   "metadata": {},
   "outputs": [
    {
     "data": {
      "text/plain": [
       "array([[13, 16],\n",
       "       [37, 46]])"
      ]
     },
     "execution_count": 54,
     "metadata": {},
     "output_type": "execute_result"
    }
   ],
   "source": [
    "np.matmul(x, y)"
   ]
  },
  {
   "cell_type": "code",
   "execution_count": 57,
   "id": "edf1e7fb",
   "metadata": {},
   "outputs": [
    {
     "data": {
      "text/plain": [
       "array([[13, 16],\n",
       "       [37, 46]])"
      ]
     },
     "execution_count": 57,
     "metadata": {},
     "output_type": "execute_result"
    }
   ],
   "source": [
    "np.dot(x, y)"
   ]
  },
  {
   "cell_type": "code",
   "execution_count": 58,
   "id": "fddb1ba5",
   "metadata": {},
   "outputs": [
    {
     "data": {
      "text/plain": [
       "array([[13, 16],\n",
       "       [37, 46]])"
      ]
     },
     "execution_count": 58,
     "metadata": {},
     "output_type": "execute_result"
    }
   ],
   "source": [
    "x.dot(y)"
   ]
  },
  {
   "cell_type": "code",
   "execution_count": 59,
   "id": "0c4548f7",
   "metadata": {},
   "outputs": [],
   "source": [
    "a = np.array([1,2,3,4,5])\n",
    "b = np.array([1,2,3,4,5])"
   ]
  },
  {
   "cell_type": "code",
   "execution_count": 60,
   "id": "ab0bd913",
   "metadata": {},
   "outputs": [
    {
     "data": {
      "text/plain": [
       "15"
      ]
     },
     "execution_count": 60,
     "metadata": {},
     "output_type": "execute_result"
    }
   ],
   "source": [
    "np.sum(a)"
   ]
  },
  {
   "cell_type": "code",
   "execution_count": 61,
   "id": "c308fca5",
   "metadata": {},
   "outputs": [
    {
     "data": {
      "text/plain": [
       "15"
      ]
     },
     "execution_count": 61,
     "metadata": {},
     "output_type": "execute_result"
    }
   ],
   "source": [
    "np.sum(a, axis = 0)"
   ]
  },
  {
   "cell_type": "code",
   "execution_count": 63,
   "id": "5de2cede",
   "metadata": {},
   "outputs": [],
   "source": [
    "# np.sum(a, axis = 1)"
   ]
  },
  {
   "cell_type": "code",
   "execution_count": 106,
   "id": "7a5943f3",
   "metadata": {},
   "outputs": [],
   "source": [
    "# Stacking "
   ]
  },
  {
   "cell_type": "code",
   "execution_count": 108,
   "id": "05bdd60e",
   "metadata": {},
   "outputs": [],
   "source": [
    "# np.sum(a, axis = 1)"
   ]
  },
  {
   "cell_type": "code",
   "execution_count": 109,
   "id": "8a1b680e",
   "metadata": {},
   "outputs": [],
   "source": [
    "a = np.array([1,2,3,4,5])\n",
    "b = np.array([1,2,3,4,5])"
   ]
  },
  {
   "cell_type": "code",
   "execution_count": 116,
   "id": "b63d9cf3",
   "metadata": {},
   "outputs": [],
   "source": [
    "A = np.stack((a,b) ,axis = 0)"
   ]
  },
  {
   "cell_type": "code",
   "execution_count": 117,
   "id": "5ce69840",
   "metadata": {},
   "outputs": [
    {
     "data": {
      "text/plain": [
       "array([[1, 2, 3, 4, 5],\n",
       "       [1, 2, 3, 4, 5]])"
      ]
     },
     "execution_count": 117,
     "metadata": {},
     "output_type": "execute_result"
    }
   ],
   "source": [
    "A"
   ]
  },
  {
   "cell_type": "code",
   "execution_count": 118,
   "id": "53c72c79",
   "metadata": {},
   "outputs": [],
   "source": [
    "B = np.stack((a,b) ,axis = 1)"
   ]
  },
  {
   "cell_type": "code",
   "execution_count": 119,
   "id": "0051d3af",
   "metadata": {},
   "outputs": [
    {
     "data": {
      "text/plain": [
       "array([[1, 1],\n",
       "       [2, 2],\n",
       "       [3, 3],\n",
       "       [4, 4],\n",
       "       [5, 5]])"
      ]
     },
     "execution_count": 119,
     "metadata": {},
     "output_type": "execute_result"
    }
   ],
   "source": [
    "B"
   ]
  },
  {
   "cell_type": "code",
   "execution_count": 120,
   "id": "09009ed3",
   "metadata": {},
   "outputs": [
    {
     "data": {
      "text/plain": [
       "(2, 5)"
      ]
     },
     "execution_count": 120,
     "metadata": {},
     "output_type": "execute_result"
    }
   ],
   "source": [
    "A.shape"
   ]
  },
  {
   "cell_type": "code",
   "execution_count": 121,
   "id": "b06ff2e1",
   "metadata": {},
   "outputs": [
    {
     "data": {
      "text/plain": [
       "(5, 2)"
      ]
     },
     "execution_count": 121,
     "metadata": {},
     "output_type": "execute_result"
    }
   ],
   "source": [
    "B.shape"
   ]
  },
  {
   "cell_type": "code",
   "execution_count": 124,
   "id": "766b4d19",
   "metadata": {},
   "outputs": [
    {
     "data": {
      "text/plain": [
       "array([[1, 1],\n",
       "       [2, 2],\n",
       "       [3, 3],\n",
       "       [4, 4],\n",
       "       [5, 5]])"
      ]
     },
     "execution_count": 124,
     "metadata": {},
     "output_type": "execute_result"
    }
   ],
   "source": [
    "A.T"
   ]
  },
  {
   "cell_type": "code",
   "execution_count": 125,
   "id": "a99d9dd0",
   "metadata": {},
   "outputs": [],
   "source": [
    "A = np.random.random((4,3))"
   ]
  },
  {
   "cell_type": "code",
   "execution_count": 128,
   "id": "b425729d",
   "metadata": {},
   "outputs": [
    {
     "data": {
      "text/plain": [
       "array([[0.09337184, 0.31798133, 0.07378833],\n",
       "       [0.18620169, 0.14868189, 0.11484589],\n",
       "       [0.31136546, 0.46481103, 0.61821909],\n",
       "       [0.59189817, 0.1678292 , 0.73714758]])"
      ]
     },
     "execution_count": 128,
     "metadata": {},
     "output_type": "execute_result"
    }
   ],
   "source": [
    "A"
   ]
  },
  {
   "cell_type": "code",
   "execution_count": 129,
   "id": "f322c7ca",
   "metadata": {},
   "outputs": [
    {
     "data": {
      "text/plain": [
       "array([[0.09337184, 0.31798133],\n",
       "       [0.07378833, 0.18620169],\n",
       "       [0.14868189, 0.11484589],\n",
       "       [0.31136546, 0.46481103],\n",
       "       [0.61821909, 0.59189817],\n",
       "       [0.1678292 , 0.73714758]])"
      ]
     },
     "execution_count": 129,
     "metadata": {},
     "output_type": "execute_result"
    }
   ],
   "source": [
    "A.reshape((6,2))"
   ]
  },
  {
   "cell_type": "code",
   "execution_count": 130,
   "id": "2f2d30fb",
   "metadata": {},
   "outputs": [
    {
     "data": {
      "text/plain": [
       "array([[0.09337184],\n",
       "       [0.31798133],\n",
       "       [0.07378833],\n",
       "       [0.18620169],\n",
       "       [0.14868189],\n",
       "       [0.11484589],\n",
       "       [0.31136546],\n",
       "       [0.46481103],\n",
       "       [0.61821909],\n",
       "       [0.59189817],\n",
       "       [0.1678292 ],\n",
       "       [0.73714758]])"
      ]
     },
     "execution_count": 130,
     "metadata": {},
     "output_type": "execute_result"
    }
   ],
   "source": [
    "A.reshape((12,1))"
   ]
  },
  {
   "cell_type": "code",
   "execution_count": 134,
   "id": "7673d4be",
   "metadata": {},
   "outputs": [
    {
     "data": {
      "text/plain": [
       "array([[0.09337184, 0.31798133, 0.07378833],\n",
       "       [0.18620169, 0.14868189, 0.11484589],\n",
       "       [0.31136546, 0.46481103, 0.61821909],\n",
       "       [0.59189817, 0.1678292 , 0.73714758]])"
      ]
     },
     "execution_count": 134,
     "metadata": {},
     "output_type": "execute_result"
    }
   ],
   "source": [
    "A"
   ]
  },
  {
   "cell_type": "code",
   "execution_count": 131,
   "id": "a3e9802c",
   "metadata": {},
   "outputs": [
    {
     "data": {
      "text/plain": [
       "array([[0.09337184, 0.31798133, 0.07378833, 0.18620169, 0.14868189,\n",
       "        0.11484589],\n",
       "       [0.31136546, 0.46481103, 0.61821909, 0.59189817, 0.1678292 ,\n",
       "        0.73714758]])"
      ]
     },
     "execution_count": 131,
     "metadata": {},
     "output_type": "execute_result"
    }
   ],
   "source": [
    "A.reshape((2,6))"
   ]
  },
  {
   "cell_type": "code",
   "execution_count": 132,
   "id": "a52e53aa",
   "metadata": {},
   "outputs": [
    {
     "data": {
      "text/plain": [
       "array([[0.09337184, 0.31798133, 0.07378833, 0.18620169],\n",
       "       [0.14868189, 0.11484589, 0.31136546, 0.46481103],\n",
       "       [0.61821909, 0.59189817, 0.1678292 , 0.73714758]])"
      ]
     },
     "execution_count": 132,
     "metadata": {},
     "output_type": "execute_result"
    }
   ],
   "source": [
    "A.reshape((-1, 4))"
   ]
  },
  {
   "cell_type": "code",
   "execution_count": 133,
   "id": "de84dba4",
   "metadata": {},
   "outputs": [
    {
     "data": {
      "text/plain": [
       "array([[0.09337184, 0.31798133],\n",
       "       [0.07378833, 0.18620169],\n",
       "       [0.14868189, 0.11484589],\n",
       "       [0.31136546, 0.46481103],\n",
       "       [0.61821909, 0.59189817],\n",
       "       [0.1678292 , 0.73714758]])"
      ]
     },
     "execution_count": 133,
     "metadata": {},
     "output_type": "execute_result"
    }
   ],
   "source": [
    "A.reshape((6,-1))"
   ]
  },
  {
   "cell_type": "code",
   "execution_count": 135,
   "id": "5f9456ee",
   "metadata": {},
   "outputs": [],
   "source": [
    "c = np.arange(10)"
   ]
  },
  {
   "cell_type": "code",
   "execution_count": 136,
   "id": "a2b7a4fa",
   "metadata": {},
   "outputs": [
    {
     "data": {
      "text/plain": [
       "array([0, 1, 2, 3, 4, 5, 6, 7, 8, 9])"
      ]
     },
     "execution_count": 136,
     "metadata": {},
     "output_type": "execute_result"
    }
   ],
   "source": [
    "c"
   ]
  },
  {
   "cell_type": "code",
   "execution_count": 137,
   "id": "9b1c9fe3",
   "metadata": {},
   "outputs": [],
   "source": [
    "np.random.shuffle(c)"
   ]
  },
  {
   "cell_type": "code",
   "execution_count": 138,
   "id": "691b5b41",
   "metadata": {},
   "outputs": [],
   "source": [
    "np.random.shuffle?"
   ]
  },
  {
   "cell_type": "code",
   "execution_count": 139,
   "id": "aeba2d57",
   "metadata": {},
   "outputs": [
    {
     "data": {
      "text/plain": [
       "array([0, 1, 2, 3, 4, 5, 6, 7, 8, 9])"
      ]
     },
     "execution_count": 139,
     "metadata": {},
     "output_type": "execute_result"
    }
   ],
   "source": [
    "arr = np.arange(10)\n",
    "arr"
   ]
  },
  {
   "cell_type": "code",
   "execution_count": 140,
   "id": "9cae39a5",
   "metadata": {},
   "outputs": [
    {
     "data": {
      "text/plain": [
       "array([2, 4, 0, 3, 1, 9, 8, 6, 5, 7])"
      ]
     },
     "execution_count": 140,
     "metadata": {},
     "output_type": "execute_result"
    }
   ],
   "source": [
    "np.random.shuffle(arr)\n",
    "arr"
   ]
  },
  {
   "cell_type": "code",
   "execution_count": 225,
   "id": "3df5afb5",
   "metadata": {},
   "outputs": [
    {
     "data": {
      "text/plain": [
       "array([[0.06864312, 0.72166996, 0.91529535, 0.97270711],\n",
       "       [0.61623412, 0.01299955, 0.79658476, 0.73999322]])"
      ]
     },
     "execution_count": 225,
     "metadata": {},
     "output_type": "execute_result"
    }
   ],
   "source": [
    "np.random.random((2,4))"
   ]
  },
  {
   "cell_type": "code",
   "execution_count": 226,
   "id": "bc5af405",
   "metadata": {},
   "outputs": [
    {
     "data": {
      "text/plain": [
       "array([[0.25846296, 0.86030928, 0.98889482, 0.46225352],\n",
       "       [0.49749089, 0.09290454, 0.89042228, 0.7912065 ]])"
      ]
     },
     "execution_count": 226,
     "metadata": {},
     "output_type": "execute_result"
    }
   ],
   "source": [
    "np.random.rand(2,4)"
   ]
  },
  {
   "cell_type": "code",
   "execution_count": 227,
   "id": "57e2645c",
   "metadata": {},
   "outputs": [
    {
     "data": {
      "text/plain": [
       "array([13, 22, 44, 27, 43, 18, 12, 16, 44, 16])"
      ]
     },
     "execution_count": 227,
     "metadata": {},
     "output_type": "execute_result"
    }
   ],
   "source": [
    "np.random.randint(2,50,10)"
   ]
  },
  {
   "cell_type": "code",
   "execution_count": 230,
   "id": "3c24fff4",
   "metadata": {},
   "outputs": [
    {
     "data": {
      "text/plain": [
       "array([[41, 29, 48,  5],\n",
       "       [23, 22, 46, 17],\n",
       "       [34, 37, 16,  9]])"
      ]
     },
     "execution_count": 230,
     "metadata": {},
     "output_type": "execute_result"
    }
   ],
   "source": [
    "np.random.randint(2,50,(3,4))"
   ]
  },
  {
   "cell_type": "code",
   "execution_count": 231,
   "id": "a87e1cf9",
   "metadata": {},
   "outputs": [
    {
     "data": {
      "text/plain": [
       "array([[-0.20270058, -0.49620653, -2.69866966],\n",
       "       [ 1.18782647, -0.17027033,  0.96056747]])"
      ]
     },
     "execution_count": 231,
     "metadata": {},
     "output_type": "execute_result"
    }
   ],
   "source": [
    "np.random.randn(2,3)"
   ]
  },
  {
   "cell_type": "code",
   "execution_count": 238,
   "id": "6a8e9a59",
   "metadata": {},
   "outputs": [],
   "source": [
    "a = np.array([[1,2,3,4,5],\n",
    "             [3,4,5,7,8]])\n"
   ]
  },
  {
   "cell_type": "code",
   "execution_count": 239,
   "id": "2458863e",
   "metadata": {},
   "outputs": [
    {
     "data": {
      "text/plain": [
       "42"
      ]
     },
     "execution_count": 239,
     "metadata": {},
     "output_type": "execute_result"
    }
   ],
   "source": [
    "np.sum(a)"
   ]
  },
  {
   "cell_type": "code",
   "execution_count": 240,
   "id": "90e41e0a",
   "metadata": {},
   "outputs": [
    {
     "data": {
      "text/plain": [
       "array([ 4,  6,  8, 11, 13])"
      ]
     },
     "execution_count": 240,
     "metadata": {},
     "output_type": "execute_result"
    }
   ],
   "source": [
    "np.sum(a, axis = 0)"
   ]
  },
  {
   "cell_type": "code",
   "execution_count": 241,
   "id": "747d7dda",
   "metadata": {},
   "outputs": [
    {
     "data": {
      "text/plain": [
       "array([15, 27])"
      ]
     },
     "execution_count": 241,
     "metadata": {},
     "output_type": "execute_result"
    }
   ],
   "source": [
    "np.sum(a , axis = 1)"
   ]
  },
  {
   "cell_type": "code",
   "execution_count": 242,
   "id": "e674d71a",
   "metadata": {},
   "outputs": [
    {
     "data": {
      "text/plain": [
       "array([[1, 2, 3, 4, 5],\n",
       "       [3, 4, 5, 7, 8]])"
      ]
     },
     "execution_count": 242,
     "metadata": {},
     "output_type": "execute_result"
    }
   ],
   "source": [
    "a"
   ]
  },
  {
   "cell_type": "code",
   "execution_count": 243,
   "id": "e460581c",
   "metadata": {},
   "outputs": [
    {
     "data": {
      "text/plain": [
       "1"
      ]
     },
     "execution_count": 243,
     "metadata": {},
     "output_type": "execute_result"
    }
   ],
   "source": [
    "np.min(a)"
   ]
  },
  {
   "cell_type": "code",
   "execution_count": 244,
   "id": "e1a419f9",
   "metadata": {},
   "outputs": [
    {
     "data": {
      "text/plain": [
       "array([1, 2, 3, 4, 5])"
      ]
     },
     "execution_count": 244,
     "metadata": {},
     "output_type": "execute_result"
    }
   ],
   "source": [
    "np.min(a, axis = 0)"
   ]
  },
  {
   "cell_type": "code",
   "execution_count": 245,
   "id": "ea8b7ab5",
   "metadata": {},
   "outputs": [
    {
     "data": {
      "text/plain": [
       "array([1, 3])"
      ]
     },
     "execution_count": 245,
     "metadata": {},
     "output_type": "execute_result"
    }
   ],
   "source": [
    "np.min(a, axis = 1)"
   ]
  },
  {
   "cell_type": "code",
   "execution_count": 246,
   "id": "64307b76",
   "metadata": {},
   "outputs": [
    {
     "data": {
      "text/plain": [
       "array([[1, 2, 3, 4, 5],\n",
       "       [3, 4, 5, 7, 8]])"
      ]
     },
     "execution_count": 246,
     "metadata": {},
     "output_type": "execute_result"
    }
   ],
   "source": [
    "a "
   ]
  },
  {
   "cell_type": "markdown",
   "id": "9046381d",
   "metadata": {},
   "source": [
    "# mean = sum of observation / Total no of observation"
   ]
  },
  {
   "cell_type": "code",
   "execution_count": 248,
   "id": "3d90add1",
   "metadata": {},
   "outputs": [
    {
     "data": {
      "text/plain": [
       "4.2"
      ]
     },
     "execution_count": 248,
     "metadata": {},
     "output_type": "execute_result"
    }
   ],
   "source": [
    "np.mean(a)"
   ]
  },
  {
   "cell_type": "code",
   "execution_count": 249,
   "id": "25f0140a",
   "metadata": {},
   "outputs": [
    {
     "data": {
      "text/plain": [
       "array([2. , 3. , 4. , 5.5, 6.5])"
      ]
     },
     "execution_count": 249,
     "metadata": {},
     "output_type": "execute_result"
    }
   ],
   "source": [
    "np.mean(a, axis = 0)"
   ]
  },
  {
   "cell_type": "code",
   "execution_count": 250,
   "id": "02c724ae",
   "metadata": {},
   "outputs": [
    {
     "data": {
      "text/plain": [
       "array([3. , 5.4])"
      ]
     },
     "execution_count": 250,
     "metadata": {},
     "output_type": "execute_result"
    }
   ],
   "source": [
    "np.mean(a, axis = 1)"
   ]
  },
  {
   "cell_type": "code",
   "execution_count": 251,
   "id": "dee29ee2",
   "metadata": {},
   "outputs": [
    {
     "data": {
      "text/plain": [
       "4.0"
      ]
     },
     "execution_count": 251,
     "metadata": {},
     "output_type": "execute_result"
    }
   ],
   "source": [
    "np.median(a)"
   ]
  },
  {
   "cell_type": "code",
   "execution_count": 252,
   "id": "9c033d5f",
   "metadata": {},
   "outputs": [
    {
     "data": {
      "text/plain": [
       "array([2. , 3. , 4. , 5.5, 6.5])"
      ]
     },
     "execution_count": 252,
     "metadata": {},
     "output_type": "execute_result"
    }
   ],
   "source": [
    "np.median(a, axis = 0)"
   ]
  },
  {
   "cell_type": "code",
   "execution_count": 253,
   "id": "4b3c71f9",
   "metadata": {},
   "outputs": [
    {
     "data": {
      "text/plain": [
       "array([3., 5.])"
      ]
     },
     "execution_count": 253,
     "metadata": {},
     "output_type": "execute_result"
    }
   ],
   "source": [
    "np.median(a, axis = 1)"
   ]
  },
  {
   "cell_type": "code",
   "execution_count": 254,
   "id": "c117e204",
   "metadata": {},
   "outputs": [
    {
     "data": {
      "text/plain": [
       "array([[1, 2, 3, 4, 5],\n",
       "       [3, 4, 5, 7, 8]])"
      ]
     },
     "execution_count": 254,
     "metadata": {},
     "output_type": "execute_result"
    }
   ],
   "source": [
    "a"
   ]
  },
  {
   "cell_type": "code",
   "execution_count": 258,
   "id": "5ed60969",
   "metadata": {},
   "outputs": [
    {
     "data": {
      "text/plain": [
       "2.039607805437114"
      ]
     },
     "execution_count": 258,
     "metadata": {},
     "output_type": "execute_result"
    }
   ],
   "source": [
    "u = np.mean(a)\n",
    "std = np.sqrt(np.mean(abs(a-u)**2))\n",
    "std"
   ]
  },
  {
   "cell_type": "code",
   "execution_count": 259,
   "id": "16360222",
   "metadata": {},
   "outputs": [
    {
     "data": {
      "text/plain": [
       "2.039607805437114"
      ]
     },
     "execution_count": 259,
     "metadata": {},
     "output_type": "execute_result"
    }
   ],
   "source": [
    "np.std(a)"
   ]
  },
  {
   "cell_type": "code",
   "execution_count": 260,
   "id": "bc071be8",
   "metadata": {},
   "outputs": [
    {
     "data": {
      "text/plain": [
       "4.16"
      ]
     },
     "execution_count": 260,
     "metadata": {},
     "output_type": "execute_result"
    }
   ],
   "source": [
    "var = std**2\n",
    "var"
   ]
  },
  {
   "cell_type": "code",
   "execution_count": 261,
   "id": "a1a97545",
   "metadata": {},
   "outputs": [
    {
     "data": {
      "text/plain": [
       "4.16"
      ]
     },
     "execution_count": 261,
     "metadata": {},
     "output_type": "execute_result"
    }
   ],
   "source": [
    "np.var(a)"
   ]
  },
  {
   "cell_type": "code",
   "execution_count": null,
   "id": "d4a759b2",
   "metadata": {},
   "outputs": [],
   "source": []
  }
 ],
 "metadata": {
  "kernelspec": {
   "display_name": "Python 3 (ipykernel)",
   "language": "python",
   "name": "python3"
  },
  "language_info": {
   "codemirror_mode": {
    "name": "ipython",
    "version": 3
   },
   "file_extension": ".py",
   "mimetype": "text/x-python",
   "name": "python",
   "nbconvert_exporter": "python",
   "pygments_lexer": "ipython3",
   "version": "3.11.5"
  }
 },
 "nbformat": 4,
 "nbformat_minor": 5
}
