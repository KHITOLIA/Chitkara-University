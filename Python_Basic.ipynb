{
 "cells": [
  {
   "cell_type": "code",
   "execution_count": 1,
   "id": "00de3529",
   "metadata": {},
   "outputs": [],
   "source": [
    "a = 1"
   ]
  },
  {
   "cell_type": "code",
   "execution_count": 2,
   "id": "4124cffe",
   "metadata": {},
   "outputs": [
    {
     "name": "stdout",
     "output_type": "stream",
     "text": [
      "1\n"
     ]
    }
   ],
   "source": [
    "print(a)"
   ]
  },
  {
   "cell_type": "code",
   "execution_count": 3,
   "id": "bec28afb",
   "metadata": {},
   "outputs": [],
   "source": [
    "a = 4.0"
   ]
  },
  {
   "cell_type": "code",
   "execution_count": 4,
   "id": "a1032692",
   "metadata": {},
   "outputs": [
    {
     "name": "stdout",
     "output_type": "stream",
     "text": [
      "4.0\n"
     ]
    }
   ],
   "source": [
    "print(a)"
   ]
  },
  {
   "cell_type": "code",
   "execution_count": 5,
   "id": "b1375ba7",
   "metadata": {},
   "outputs": [
    {
     "name": "stdout",
     "output_type": "stream",
     "text": [
      "<class 'float'>\n"
     ]
    }
   ],
   "source": [
    "print(type(a))"
   ]
  },
  {
   "cell_type": "code",
   "execution_count": 6,
   "id": "6c4f3092",
   "metadata": {},
   "outputs": [
    {
     "name": "stdout",
     "output_type": "stream",
     "text": [
      "<class 'int'>\n"
     ]
    }
   ],
   "source": [
    "b = -4\n",
    "print(type(b))"
   ]
  },
  {
   "cell_type": "code",
   "execution_count": 7,
   "id": "373a7723",
   "metadata": {},
   "outputs": [
    {
     "name": "stdout",
     "output_type": "stream",
     "text": [
      "<class 'str'>\n"
     ]
    }
   ],
   "source": [
    "c = '4'\n",
    "print(type(c))"
   ]
  },
  {
   "cell_type": "code",
   "execution_count": 8,
   "id": "ebccdde6",
   "metadata": {},
   "outputs": [
    {
     "name": "stdout",
     "output_type": "stream",
     "text": [
      "<class 'str'>\n"
     ]
    }
   ],
   "source": [
    "c = 'Hello world'\n",
    "print(type(c))"
   ]
  },
  {
   "cell_type": "code",
   "execution_count": 9,
   "id": "29ff87c5",
   "metadata": {},
   "outputs": [
    {
     "name": "stdout",
     "output_type": "stream",
     "text": [
      "<class 'bool'>\n"
     ]
    }
   ],
   "source": [
    "d = True\n",
    "print(type(d))"
   ]
  },
  {
   "cell_type": "code",
   "execution_count": 10,
   "id": "3e8481e9",
   "metadata": {},
   "outputs": [
    {
     "name": "stdout",
     "output_type": "stream",
     "text": [
      "hello world, my name is tushar\n"
     ]
    }
   ],
   "source": [
    "print('hello world, my name is tushar')"
   ]
  },
  {
   "cell_type": "code",
   "execution_count": 11,
   "id": "4a44930e",
   "metadata": {},
   "outputs": [
    {
     "data": {
      "text/plain": [
       "<function print(*args, sep=' ', end='\\n', file=None, flush=False)>"
      ]
     },
     "execution_count": 11,
     "metadata": {},
     "output_type": "execute_result"
    }
   ],
   "source": [
    "print"
   ]
  },
  {
   "cell_type": "code",
   "execution_count": 12,
   "id": "f1726eca",
   "metadata": {},
   "outputs": [
    {
     "name": "stdout",
     "output_type": "stream",
     "text": [
      "hello world, my name is Tushar\n"
     ]
    }
   ],
   "source": [
    "print('hello world, my name is Tushar',flush = True)   # looks like it is typing  "
   ]
  },
  {
   "cell_type": "code",
   "execution_count": 13,
   "id": "10b47f16",
   "metadata": {},
   "outputs": [
    {
     "name": "stdout",
     "output_type": "stream",
     "text": [
      "<built-in function print>\n"
     ]
    }
   ],
   "source": [
    "print(print)"
   ]
  },
  {
   "cell_type": "code",
   "execution_count": 14,
   "id": "14212ff1",
   "metadata": {},
   "outputs": [],
   "source": [
    "def sum(a, b):\n",
    "    print(a+b)\n",
    "    print(a)"
   ]
  },
  {
   "cell_type": "code",
   "execution_count": 15,
   "id": "cbe92c89",
   "metadata": {},
   "outputs": [
    {
     "name": "stdout",
     "output_type": "stream",
     "text": [
      "7\n",
      "3\n"
     ]
    }
   ],
   "source": [
    "sum(3,4)"
   ]
  },
  {
   "cell_type": "code",
   "execution_count": 16,
   "id": "6fdf1290",
   "metadata": {},
   "outputs": [
    {
     "name": "stdout",
     "output_type": "stream",
     "text": [
      "7\n",
      "3\n"
     ]
    }
   ],
   "source": [
    "a = sum(3,4)"
   ]
  },
  {
   "cell_type": "code",
   "execution_count": 17,
   "id": "7d918651",
   "metadata": {},
   "outputs": [
    {
     "name": "stdout",
     "output_type": "stream",
     "text": [
      "None\n"
     ]
    }
   ],
   "source": [
    "print(a)"
   ]
  },
  {
   "cell_type": "code",
   "execution_count": 18,
   "id": "3dbb54e3",
   "metadata": {},
   "outputs": [
    {
     "data": {
      "text/plain": [
       "<function __main__.sum(a, b)>"
      ]
     },
     "execution_count": 18,
     "metadata": {},
     "output_type": "execute_result"
    }
   ],
   "source": [
    "sum"
   ]
  },
  {
   "cell_type": "code",
   "execution_count": 19,
   "id": "de5138cc",
   "metadata": {},
   "outputs": [
    {
     "name": "stdout",
     "output_type": "stream",
     "text": [
      "<function sum at 0x000002827C806020>\n"
     ]
    }
   ],
   "source": [
    "print(sum)"
   ]
  },
  {
   "cell_type": "code",
   "execution_count": 20,
   "id": "a78aafe9",
   "metadata": {},
   "outputs": [
    {
     "name": "stdout",
     "output_type": "stream",
     "text": [
      "5\n",
      "2\n"
     ]
    }
   ],
   "source": [
    "a = 2\n",
    "b = 3\n",
    "sum(a, b)"
   ]
  },
  {
   "cell_type": "code",
   "execution_count": 21,
   "id": "ef36995a",
   "metadata": {},
   "outputs": [],
   "source": [
    "a = 323"
   ]
  },
  {
   "cell_type": "code",
   "execution_count": 22,
   "id": "26c7244b",
   "metadata": {},
   "outputs": [
    {
     "data": {
      "text/plain": [
       "2759456503184"
      ]
     },
     "execution_count": 22,
     "metadata": {},
     "output_type": "execute_result"
    }
   ],
   "source": [
    "id(a)"
   ]
  },
  {
   "cell_type": "code",
   "execution_count": 23,
   "id": "69e8415a",
   "metadata": {},
   "outputs": [],
   "source": [
    "def memory(a):\n",
    "    print(\"The value of the argument is = \", c)\n",
    "    print(\"The memory address of a is = \",id(c) )\n",
    "    print(\"The type of function :\", type(c))"
   ]
  },
  {
   "cell_type": "code",
   "execution_count": 24,
   "id": "407d150b",
   "metadata": {},
   "outputs": [
    {
     "name": "stdout",
     "output_type": "stream",
     "text": [
      "The value of the argument is =  Hello world\n",
      "The memory address of a is =  2759457695664\n",
      "The type of function : <class 'str'>\n"
     ]
    }
   ],
   "source": [
    "memory('1')"
   ]
  },
  {
   "cell_type": "code",
   "execution_count": 25,
   "id": "00b60585",
   "metadata": {},
   "outputs": [],
   "source": [
    "c = '3'"
   ]
  },
  {
   "cell_type": "code",
   "execution_count": 26,
   "id": "7611881f",
   "metadata": {},
   "outputs": [
    {
     "data": {
      "text/plain": [
       "51"
      ]
     },
     "execution_count": 26,
     "metadata": {},
     "output_type": "execute_result"
    }
   ],
   "source": [
    "ord(c)  #function for Ascii value"
   ]
  },
  {
   "cell_type": "code",
   "execution_count": 27,
   "id": "0e5893d7",
   "metadata": {},
   "outputs": [
    {
     "name": "stdout",
     "output_type": "stream",
     "text": [
      "The value of the argument is =  3\n",
      "The memory address of a is =  140731847032048\n",
      "The type of function : <class 'str'>\n"
     ]
    }
   ],
   "source": [
    "memory(sum)   #memory address of that sum function"
   ]
  },
  {
   "cell_type": "code",
   "execution_count": 28,
   "id": "c591d573",
   "metadata": {},
   "outputs": [
    {
     "name": "stdout",
     "output_type": "stream",
     "text": [
      "<class 'builtin_function_or_method'>\n"
     ]
    }
   ],
   "source": [
    "print(type(print))"
   ]
  },
  {
   "cell_type": "code",
   "execution_count": 29,
   "id": "298fd215",
   "metadata": {},
   "outputs": [
    {
     "data": {
      "text/plain": [
       "2759362651184"
      ]
     },
     "execution_count": 29,
     "metadata": {},
     "output_type": "execute_result"
    }
   ],
   "source": [
    "id(print)"
   ]
  },
  {
   "cell_type": "code",
   "execution_count": 30,
   "id": "d9acd4c0",
   "metadata": {},
   "outputs": [],
   "source": [
    "a = 10\n",
    "aa = print"
   ]
  },
  {
   "cell_type": "code",
   "execution_count": 31,
   "id": "99f11f56",
   "metadata": {},
   "outputs": [
    {
     "ename": "TypeError",
     "evalue": "'int' object is not callable",
     "output_type": "error",
     "traceback": [
      "\u001b[1;31m---------------------------------------------------------------------------\u001b[0m",
      "\u001b[1;31mTypeError\u001b[0m                                 Traceback (most recent call last)",
      "Cell \u001b[1;32mIn[31], line 1\u001b[0m\n\u001b[1;32m----> 1\u001b[0m a()\n",
      "\u001b[1;31mTypeError\u001b[0m: 'int' object is not callable"
     ]
    }
   ],
   "source": [
    "a()"
   ]
  },
  {
   "cell_type": "code",
   "execution_count": 32,
   "id": "38d59121",
   "metadata": {},
   "outputs": [
    {
     "name": "stdout",
     "output_type": "stream",
     "text": [
      "Hello world\n"
     ]
    }
   ],
   "source": [
    "aa('Hello world')"
   ]
  },
  {
   "cell_type": "code",
   "execution_count": 33,
   "id": "5325cc91",
   "metadata": {},
   "outputs": [
    {
     "name": "stdout",
     "output_type": "stream",
     "text": [
      "Enter the number : \n"
     ]
    },
    {
     "data": {
      "text/plain": [
       "''"
      ]
     },
     "execution_count": 33,
     "metadata": {},
     "output_type": "execute_result"
    }
   ],
   "source": [
    "b = input\n",
    "b('Enter the number : ')  # this b act as a variable now "
   ]
  },
  {
   "cell_type": "code",
   "execution_count": 34,
   "id": "dcb871fd",
   "metadata": {},
   "outputs": [],
   "source": [
    "def summer(a,b):\n",
    "    print(a+b)\n",
    "    print(a)\n",
    "    print(b)\n",
    "    return (a + b),(a-b) #return the value of (a+b), (a-b) for future use."
   ]
  },
  {
   "cell_type": "code",
   "execution_count": 35,
   "id": "40a27864",
   "metadata": {},
   "outputs": [
    {
     "name": "stdout",
     "output_type": "stream",
     "text": [
      "30\n",
      "10\n",
      "20\n"
     ]
    },
    {
     "data": {
      "text/plain": [
       "(30, -10)"
      ]
     },
     "execution_count": 35,
     "metadata": {},
     "output_type": "execute_result"
    }
   ],
   "source": [
    "summer(10,20)"
   ]
  },
  {
   "cell_type": "code",
   "execution_count": 36,
   "id": "a6cd7ca9",
   "metadata": {},
   "outputs": [
    {
     "name": "stdout",
     "output_type": "stream",
     "text": [
      "30\n",
      "10\n",
      "20\n",
      "(30, -10)\n"
     ]
    }
   ],
   "source": [
    "print(summer(10,20))"
   ]
  },
  {
   "cell_type": "code",
   "execution_count": 37,
   "id": "5d1153b2",
   "metadata": {},
   "outputs": [],
   "source": [
    "def calc(a,b):\n",
    "    return (a+b),(a-b),(a*b),(a/b)    "
   ]
  },
  {
   "cell_type": "code",
   "execution_count": 38,
   "id": "5af73871",
   "metadata": {},
   "outputs": [
    {
     "data": {
      "text/plain": [
       "(7, -1, 12, 0.75)"
      ]
     },
     "execution_count": 38,
     "metadata": {},
     "output_type": "execute_result"
    }
   ],
   "source": [
    "calc(3,4)"
   ]
  },
  {
   "cell_type": "code",
   "execution_count": 39,
   "id": "a2665258",
   "metadata": {},
   "outputs": [],
   "source": [
    "add, sub,mul,div = calc(3,4)  #here we have to generate 4 variables so that function return the values in them "
   ]
  },
  {
   "cell_type": "code",
   "execution_count": 40,
   "id": "77b04903",
   "metadata": {},
   "outputs": [
    {
     "data": {
      "text/plain": [
       "(7, -1)"
      ]
     },
     "execution_count": 40,
     "metadata": {},
     "output_type": "execute_result"
    }
   ],
   "source": [
    "add,sub"
   ]
  },
  {
   "cell_type": "code",
   "execution_count": 41,
   "id": "0540effb",
   "metadata": {},
   "outputs": [],
   "source": [
    "add,_,_,_ = calc(3,4)"
   ]
  },
  {
   "cell_type": "code",
   "execution_count": 42,
   "id": "396a0253",
   "metadata": {},
   "outputs": [
    {
     "data": {
      "text/plain": [
       "7"
      ]
     },
     "execution_count": 42,
     "metadata": {},
     "output_type": "execute_result"
    }
   ],
   "source": [
    "add"
   ]
  },
  {
   "cell_type": "code",
   "execution_count": 43,
   "id": "7b58a38f",
   "metadata": {},
   "outputs": [
    {
     "name": "stdout",
     "output_type": "stream",
     "text": [
      "Hello Tushar\n"
     ]
    }
   ],
   "source": [
    "def name_printer(name):\n",
    "    print(\"Hello\",name)\n",
    "    return 'hello '+name\n",
    "name = name_printer('Tushar')\n"
   ]
  },
  {
   "cell_type": "code",
   "execution_count": 44,
   "id": "396c1dae",
   "metadata": {},
   "outputs": [],
   "source": [
    "def first(name):\n",
    "  return name\n",
    "def second(name):\n",
    "    return name\n"
   ]
  },
  {
   "cell_type": "code",
   "execution_count": 45,
   "id": "321da212",
   "metadata": {},
   "outputs": [],
   "source": [
    "fname = first('TUSHAR')\n",
    "Sname = second('KHITOLIYA')\n",
    "def Full_name(fname,sname):\n",
    "    return (fname+Sname)\n"
   ]
  },
  {
   "cell_type": "code",
   "execution_count": 46,
   "id": "94adde59",
   "metadata": {},
   "outputs": [
    {
     "name": "stdout",
     "output_type": "stream",
     "text": [
      "TUSHARKHITOLIYA\n"
     ]
    }
   ],
   "source": [
    "print(Full_name(fname,Sname))"
   ]
  },
  {
   "cell_type": "code",
   "execution_count": 47,
   "id": "b1edb0d2",
   "metadata": {},
   "outputs": [
    {
     "name": "stdout",
     "output_type": "stream",
     "text": [
      "TUSHAR KHITOLIYA\n"
     ]
    }
   ],
   "source": [
    "def first(name):\n",
    "  return name\n",
    "def second(name):\n",
    "    return name\n",
    "def name(a,b,c,d):\n",
    "    print(a(c),b(d))\n",
    "    \n",
    "name(first,second,'TUSHAR','KHITOLIYA')   # Arguments go hand in hand "
   ]
  },
  {
   "cell_type": "code",
   "execution_count": 48,
   "id": "bac5ea32",
   "metadata": {},
   "outputs": [],
   "source": [
    "# if\n",
    "# elif\n",
    "# else"
   ]
  },
  {
   "cell_type": "code",
   "execution_count": 49,
   "id": "1ef53917",
   "metadata": {},
   "outputs": [],
   "source": [
    "b = 2"
   ]
  },
  {
   "cell_type": "code",
   "execution_count": 50,
   "id": "39094755",
   "metadata": {},
   "outputs": [
    {
     "data": {
      "text/plain": [
       "False"
      ]
     },
     "execution_count": 50,
     "metadata": {},
     "output_type": "execute_result"
    }
   ],
   "source": [
    "b == 29"
   ]
  },
  {
   "cell_type": "code",
   "execution_count": 51,
   "id": "3d79b111",
   "metadata": {},
   "outputs": [
    {
     "data": {
      "text/plain": [
       "False"
      ]
     },
     "execution_count": 51,
     "metadata": {},
     "output_type": "execute_result"
    }
   ],
   "source": [
    "b>100"
   ]
  },
  {
   "cell_type": "code",
   "execution_count": 52,
   "id": "7cc93e3b",
   "metadata": {},
   "outputs": [
    {
     "data": {
      "text/plain": [
       "2"
      ]
     },
     "execution_count": 52,
     "metadata": {},
     "output_type": "execute_result"
    }
   ],
   "source": [
    "b"
   ]
  },
  {
   "cell_type": "code",
   "execution_count": 53,
   "id": "5aaa3d0a",
   "metadata": {},
   "outputs": [
    {
     "name": "stdout",
     "output_type": "stream",
     "text": [
      "Value not in scale\n"
     ]
    }
   ],
   "source": [
    "if b>10:\n",
    "    print('the value of b is greater than 10')\n",
    "elif b>20:\n",
    "    print(\"the value of b is greater than 20 but less than 30\")\n",
    "else:\n",
    "    print('Value not in scale')"
   ]
  },
  {
   "cell_type": "code",
   "execution_count": 54,
   "id": "2757d8df",
   "metadata": {},
   "outputs": [
    {
     "name": "stdout",
     "output_type": "stream",
     "text": [
      "Hi\n"
     ]
    }
   ],
   "source": [
    "var = 9\n",
    "if var==9:\n",
    "    print('Hi')\n",
    "elif var==10:\n",
    "    print('Hello')\n",
    "else:\n",
    "    print('Bye')"
   ]
  },
  {
   "cell_type": "code",
   "execution_count": 55,
   "id": "e946c48a",
   "metadata": {},
   "outputs": [],
   "source": [
    "def odd_even(a,b):\n",
    "    if a%2==0:\n",
    "        print('even')\n",
    "    else:\n",
    "        print('odd')"
   ]
  },
  {
   "cell_type": "code",
   "execution_count": 73,
   "id": "a9c037f6",
   "metadata": {},
   "outputs": [
    {
     "name": "stdout",
     "output_type": "stream",
     "text": [
      "hi\n"
     ]
    }
   ],
   "source": [
    "if b>10:\n",
    "    print('hi')\n",
    "elif b>20:\n",
    "    print('hello')\n",
    "elif b>30:\n",
    "    print('bye')"
   ]
  },
  {
   "cell_type": "code",
   "execution_count": 1,
   "id": "b4fdb5ad",
   "metadata": {},
   "outputs": [],
   "source": [
    "# it is an iterative process that follows a nature "
   ]
  },
  {
   "cell_type": "code",
   "execution_count": 56,
   "id": "ebc7a7bf",
   "metadata": {},
   "outputs": [
    {
     "name": "stdout",
     "output_type": "stream",
     "text": [
      "hello world\n",
      "hello world\n",
      "hello world\n"
     ]
    }
   ],
   "source": [
    "for i in range(3):\n",
    "    print('hello world')"
   ]
  },
  {
   "cell_type": "code",
   "execution_count": 57,
   "id": "9b83eb37",
   "metadata": {},
   "outputs": [
    {
     "name": "stdout",
     "output_type": "stream",
     "text": [
      "0\n",
      "1\n",
      "2\n",
      "3\n",
      "4\n",
      "5\n",
      "6\n",
      "7\n",
      "8\n",
      "9\n"
     ]
    }
   ],
   "source": [
    "for i in range(10):\n",
    "    print(i)"
   ]
  },
  {
   "cell_type": "code",
   "execution_count": 59,
   "id": "4c6b59a5",
   "metadata": {},
   "outputs": [],
   "source": [
    "def fact(a):\n",
    "    x=  1\n",
    "    for i in range(0,a):\n",
    "        x = x*(i+1)\n",
    "        \n",
    "    return x\n",
    "    "
   ]
  },
  {
   "cell_type": "code",
   "execution_count": 60,
   "id": "551b4047",
   "metadata": {},
   "outputs": [
    {
     "data": {
      "text/plain": [
       "120"
      ]
     },
     "execution_count": 60,
     "metadata": {},
     "output_type": "execute_result"
    }
   ],
   "source": [
    "fact(5)"
   ]
  },
  {
   "cell_type": "code",
   "execution_count": 61,
   "id": "850099c9",
   "metadata": {},
   "outputs": [
    {
     "name": "stdout",
     "output_type": "stream",
     "text": [
      "hi\n",
      "hi\n",
      "hi\n",
      "hi\n",
      "hi\n",
      "hi\n",
      "hi\n",
      "hi\n",
      "hi\n",
      "hi\n",
      "hi\n"
     ]
    }
   ],
   "source": [
    "num = 0\n",
    "while num<=10:\n",
    "    print('hi')\n",
    "    num+=1"
   ]
  },
  {
   "cell_type": "code",
   "execution_count": 62,
   "id": "489d9a9e",
   "metadata": {},
   "outputs": [],
   "source": [
    "a = 1"
   ]
  },
  {
   "cell_type": "code",
   "execution_count": 63,
   "id": "8765cf0a",
   "metadata": {},
   "outputs": [
    {
     "data": {
      "text/plain": [
       "int"
      ]
     },
     "execution_count": 63,
     "metadata": {},
     "output_type": "execute_result"
    }
   ],
   "source": [
    "type(a)"
   ]
  },
  {
   "cell_type": "code",
   "execution_count": 64,
   "id": "ae19ee62",
   "metadata": {},
   "outputs": [
    {
     "name": "stdout",
     "output_type": "stream",
     "text": [
      "6\n"
     ]
    },
    {
     "data": {
      "text/plain": [
       "'6'"
      ]
     },
     "execution_count": 64,
     "metadata": {},
     "output_type": "execute_result"
    }
   ],
   "source": [
    "input()"
   ]
  },
  {
   "cell_type": "code",
   "execution_count": 66,
   "id": "6798e43a",
   "metadata": {},
   "outputs": [
    {
     "name": "stdout",
     "output_type": "stream",
     "text": [
      "5\n"
     ]
    },
    {
     "data": {
      "text/plain": [
       "5"
      ]
     },
     "execution_count": 66,
     "metadata": {},
     "output_type": "execute_result"
    }
   ],
   "source": [
    "int(input())"
   ]
  },
  {
   "cell_type": "code",
   "execution_count": 67,
   "id": "571774d3",
   "metadata": {},
   "outputs": [
    {
     "data": {
      "text/plain": [
       "str"
      ]
     },
     "execution_count": 67,
     "metadata": {},
     "output_type": "execute_result"
    }
   ],
   "source": [
    "a = '7'\n",
    "type(a)"
   ]
  },
  {
   "cell_type": "code",
   "execution_count": 68,
   "id": "d24c3061",
   "metadata": {},
   "outputs": [
    {
     "data": {
      "text/plain": [
       "int"
      ]
     },
     "execution_count": 68,
     "metadata": {},
     "output_type": "execute_result"
    }
   ],
   "source": [
    "type(int(a))"
   ]
  },
  {
   "cell_type": "code",
   "execution_count": 69,
   "id": "32dbb2b3",
   "metadata": {},
   "outputs": [
    {
     "data": {
      "text/plain": [
       "str"
      ]
     },
     "execution_count": 69,
     "metadata": {},
     "output_type": "execute_result"
    }
   ],
   "source": [
    "type(a)"
   ]
  },
  {
   "cell_type": "code",
   "execution_count": 70,
   "id": "1aca2af0",
   "metadata": {},
   "outputs": [],
   "source": [
    "a = int(a)"
   ]
  },
  {
   "cell_type": "code",
   "execution_count": 71,
   "id": "698a06f7",
   "metadata": {},
   "outputs": [],
   "source": [
    "b = 29"
   ]
  },
  {
   "cell_type": "code",
   "execution_count": 72,
   "id": "5acc1202",
   "metadata": {},
   "outputs": [
    {
     "data": {
      "text/plain": [
       "True"
      ]
     },
     "execution_count": 72,
     "metadata": {},
     "output_type": "execute_result"
    }
   ],
   "source": [
    "b==29"
   ]
  },
  {
   "cell_type": "code",
   "execution_count": 76,
   "id": "a21a8810",
   "metadata": {},
   "outputs": [
    {
     "data": {
      "text/plain": [
       "29"
      ]
     },
     "execution_count": 76,
     "metadata": {},
     "output_type": "execute_result"
    }
   ],
   "source": [
    "b"
   ]
  },
  {
   "cell_type": "code",
   "execution_count": 77,
   "id": "8d06ee43",
   "metadata": {},
   "outputs": [
    {
     "name": "stdout",
     "output_type": "stream",
     "text": [
      "hi\n"
     ]
    }
   ],
   "source": [
    "if b>10:\n",
    "    print('hi')\n",
    "elif b>20:\n",
    "    print('hello')\n",
    "elif b>30:\n",
    "    print('bye')\n",
    "else:\n",
    "    print('chal gya')\n",
    "    "
   ]
  },
  {
   "cell_type": "code",
   "execution_count": 78,
   "id": "83e6ed7a",
   "metadata": {},
   "outputs": [
    {
     "name": "stdout",
     "output_type": "stream",
     "text": [
      "chal gya\n"
     ]
    }
   ],
   "source": [
    "b = 30\n",
    "if b<10:\n",
    "    print('hi')\n",
    "elif b<20:\n",
    "    print('hello')\n",
    "elif b<30:\n",
    "    print('bye')\n",
    "else:\n",
    "    print('chal gya')\n",
    "    "
   ]
  },
  {
   "cell_type": "code",
   "execution_count": 79,
   "id": "521001ed",
   "metadata": {},
   "outputs": [],
   "source": [
    "def odd_even():\n",
    "    a = int(input('enter the value : '))\n",
    "    if a%2==0:\n",
    "        print('even')\n",
    "    else:\n",
    "        print('odd')\n"
   ]
  },
  {
   "cell_type": "code",
   "execution_count": 80,
   "id": "8c114f45",
   "metadata": {},
   "outputs": [
    {
     "name": "stdout",
     "output_type": "stream",
     "text": [
      "enter the value : 45\n",
      "odd\n"
     ]
    }
   ],
   "source": [
    "odd_even()"
   ]
  },
  {
   "cell_type": "code",
   "execution_count": 81,
   "id": "57ff3c8b",
   "metadata": {},
   "outputs": [
    {
     "name": "stdout",
     "output_type": "stream",
     "text": [
      "0\n",
      "1\n",
      "2\n",
      "3\n",
      "4\n"
     ]
    }
   ],
   "source": [
    "for i in range(5):\n",
    "    print(i)"
   ]
  },
  {
   "cell_type": "code",
   "execution_count": 82,
   "id": "9610ccb1",
   "metadata": {},
   "outputs": [
    {
     "name": "stdout",
     "output_type": "stream",
     "text": [
      "hehe\n"
     ]
    }
   ],
   "source": [
    "a = 10\n",
    "if a>5 or a<15:\n",
    "    print('hehe')\n",
    "elif a<20 and a>5:\n",
    "    print('okay dokey')  #  it will not go in the elif loop cuz if condition was true"
   ]
  },
  {
   "cell_type": "code",
   "execution_count": 83,
   "id": "c0695f7a",
   "metadata": {},
   "outputs": [
    {
     "name": "stdout",
     "output_type": "stream",
     "text": [
      "h\n",
      "e\n",
      "l\n",
      "l\n",
      "o\n",
      " \n",
      "w\n",
      "o\n",
      "r\n",
      "l\n",
      "d\n"
     ]
    }
   ],
   "source": [
    "st = 'hello world'\n",
    "for i in st:\n",
    "    print(i)\n",
    "    \n",
    "    "
   ]
  },
  {
   "cell_type": "code",
   "execution_count": 84,
   "id": "df0d19c6",
   "metadata": {},
   "outputs": [
    {
     "name": "stdout",
     "output_type": "stream",
     "text": [
      "hello\n",
      "hello\n",
      "hello\n",
      "hello\n",
      "hello\n",
      "hello\n",
      "hello\n",
      "hello\n",
      "hello\n"
     ]
    }
   ],
   "source": [
    "num = 1\n",
    "while num<10:\n",
    "    print('hello')\n",
    "    num+=1"
   ]
  },
  {
   "cell_type": "code",
   "execution_count": 85,
   "id": "8080b710",
   "metadata": {},
   "outputs": [
    {
     "data": {
      "text/plain": [
       "10"
      ]
     },
     "execution_count": 85,
     "metadata": {},
     "output_type": "execute_result"
    }
   ],
   "source": [
    "num"
   ]
  },
  {
   "cell_type": "code",
   "execution_count": 86,
   "id": "eba78cb6",
   "metadata": {},
   "outputs": [],
   "source": [
    "#break\n",
    "#continue"
   ]
  },
  {
   "cell_type": "code",
   "execution_count": 88,
   "id": "fb074518",
   "metadata": {},
   "outputs": [
    {
     "name": "stdout",
     "output_type": "stream",
     "text": [
      "emter : 3\n",
      "hello\n",
      "emter : 76\n",
      "hello\n",
      "emter : 9\n",
      "hi\n",
      "emter : \n"
     ]
    },
    {
     "ename": "ValueError",
     "evalue": "invalid literal for int() with base 10: ''",
     "output_type": "error",
     "traceback": [
      "\u001b[1;31m---------------------------------------------------------------------------\u001b[0m",
      "\u001b[1;31mValueError\u001b[0m                                Traceback (most recent call last)",
      "Cell \u001b[1;32mIn[88], line 2\u001b[0m\n\u001b[0;32m      1\u001b[0m \u001b[38;5;28;01mwhile\u001b[39;00m \u001b[38;5;28;01mTrue\u001b[39;00m:\n\u001b[1;32m----> 2\u001b[0m     a \u001b[38;5;241m=\u001b[39m \u001b[38;5;28mint\u001b[39m(\u001b[38;5;28minput\u001b[39m(\u001b[38;5;124m\"\u001b[39m\u001b[38;5;124memter : \u001b[39m\u001b[38;5;124m\"\u001b[39m))\n\u001b[0;32m      3\u001b[0m     \u001b[38;5;28;01mif\u001b[39;00m a\u001b[38;5;241m==\u001b[39m\u001b[38;5;241m9\u001b[39m:\n\u001b[0;32m      4\u001b[0m         \u001b[38;5;28mprint\u001b[39m(\u001b[38;5;124m'\u001b[39m\u001b[38;5;124mhi\u001b[39m\u001b[38;5;124m'\u001b[39m)\n",
      "\u001b[1;31mValueError\u001b[0m: invalid literal for int() with base 10: ''"
     ]
    }
   ],
   "source": [
    "while True:\n",
    "    a = int(input(\"emter : \"))\n",
    "    if a==9:\n",
    "        print('hi')\n",
    "    else:\n",
    "        print('hello')\n",
    "        "
   ]
  },
  {
   "cell_type": "code",
   "execution_count": 90,
   "id": "540d9963",
   "metadata": {},
   "outputs": [
    {
     "name": "stdout",
     "output_type": "stream",
     "text": [
      "tha value of j : 0\n",
      "tha value of j : 1\n",
      "tha value of j : 2\n",
      "the value of i :  0\n",
      "the value of i :  1\n",
      "the value of i :  2\n",
      "the value of i :  3\n",
      "tha value of j : 3\n",
      "tha value of j : 4\n"
     ]
    }
   ],
   "source": [
    "for j in range(5):\n",
    "    print('tha value of j :',j)\n",
    "    if j==2:\n",
    "        for i in range(10):\n",
    "            print('the value of i : ', i)\n",
    "            if i==3:\n",
    "                break"
   ]
  },
  {
   "cell_type": "code",
   "execution_count": 91,
   "id": "cd63c251",
   "metadata": {},
   "outputs": [
    {
     "name": "stdout",
     "output_type": "stream",
     "text": [
      "value of j :  0\n",
      "0\n",
      "1\n",
      "value of j :  1\n",
      "0\n",
      "1\n",
      "value of j :  2\n"
     ]
    }
   ],
   "source": [
    "for j in range(5):\n",
    "    print(\"value of j : \",j)\n",
    "    if j==2:\n",
    "        break\n",
    "    for i in range(5):\n",
    "        if i==2:\n",
    "            break\n",
    "        else:\n",
    "            print(i)"
   ]
  },
  {
   "cell_type": "code",
   "execution_count": 92,
   "id": "cdb97cad",
   "metadata": {},
   "outputs": [
    {
     "name": "stdout",
     "output_type": "stream",
     "text": [
      "enter the number : 2\n",
      "Password incorrect\n",
      "enter the number : 3\n",
      "Password incorrect\n",
      "enter the number : 5\n",
      "Password incorrect\n",
      "enter the number : 6\n",
      "Password incorrect\n",
      "enter the number : 9\n",
      "Password correct\n"
     ]
    }
   ],
   "source": [
    "while True:\n",
    "    n = int(input('enter the number : '))\n",
    "    if n==9:\n",
    "        print('Password correct')\n",
    "        break\n",
    "    else:\n",
    "        print('Password incorrect')\n",
    "    "
   ]
  },
  {
   "cell_type": "code",
   "execution_count": 93,
   "id": "6f09a204",
   "metadata": {},
   "outputs": [
    {
     "name": "stdout",
     "output_type": "stream",
     "text": [
      "enter the value : 3\n",
      "0\n",
      "enter the value : 4\n",
      "code goes back to top\n",
      "enter the value : 2\n",
      "2\n",
      "enter the value : 1\n",
      "3\n",
      "enter the value : 6\n",
      "4\n",
      "enter the value : 7\n",
      "5\n",
      "enter the value : 4\n",
      "code goes back to top\n",
      "enter the value : 4\n",
      "code goes back to top\n",
      "enter the value : 7\n",
      "8\n",
      "enter the value : 4\n",
      "code goes back to top\n"
     ]
    }
   ],
   "source": [
    "for i in range(10):\n",
    "    a = int(input('enter the value : '))\n",
    "    if a==4:\n",
    "        print('code goes back to top')\n",
    "        continue\n",
    "    elif a==0:\n",
    "        break\n",
    "    print(i)"
   ]
  },
  {
   "cell_type": "code",
   "execution_count": 3,
   "id": "2f1c8e1a",
   "metadata": {},
   "outputs": [
    {
     "name": "stdout",
     "output_type": "stream",
     "text": [
      "enter the value : 23\n",
      "23 is a prime\n"
     ]
    }
   ],
   "source": [
    "n = int(input('enter the value : '))\n",
    "flag = False\n",
    "if n==1:    \n",
    "    print('special')\n",
    "elif n>1:\n",
    "    for i in range(2,n):\n",
    "        if n%i==0:\n",
    "            flag = True\n",
    "            break\n",
    "    if flag:\n",
    "        print(n, 'is not a prime')\n",
    "    else:\n",
    "        print(n,'is a prime')"
   ]
  },
  {
   "cell_type": "code",
   "execution_count": 7,
   "id": "57c1ef31",
   "metadata": {},
   "outputs": [],
   "source": [
    "def factor(n):\n",
    "    for i in range(1,n+1):\n",
    "        if n%i==0:\n",
    "            print(i,'is the factor of ',n) \n",
    "        elif n%i != 0:\n",
    "            print(i,'is not a factor of ', n)"
   ]
  },
  {
   "cell_type": "code",
   "execution_count": 9,
   "id": "5ad0049a",
   "metadata": {},
   "outputs": [
    {
     "name": "stdout",
     "output_type": "stream",
     "text": [
      "1 is the factor of  20\n",
      "2 is the factor of  20\n",
      "3 is not a factor of  20\n",
      "4 is the factor of  20\n",
      "5 is the factor of  20\n",
      "6 is not a factor of  20\n",
      "7 is not a factor of  20\n",
      "8 is not a factor of  20\n",
      "9 is not a factor of  20\n",
      "10 is the factor of  20\n",
      "11 is not a factor of  20\n",
      "12 is not a factor of  20\n",
      "13 is not a factor of  20\n",
      "14 is not a factor of  20\n",
      "15 is not a factor of  20\n",
      "16 is not a factor of  20\n",
      "17 is not a factor of  20\n",
      "18 is not a factor of  20\n",
      "19 is not a factor of  20\n",
      "20 is the factor of  20\n"
     ]
    }
   ],
   "source": [
    "factor(20)"
   ]
  },
  {
   "cell_type": "code",
   "execution_count": 10,
   "id": "7861c749",
   "metadata": {},
   "outputs": [],
   "source": [
    "#In built data structures\n",
    "#string\n",
    "#list\n",
    "#tuple\n",
    "#dictionary\n",
    "#set"
   ]
  },
  {
   "cell_type": "code",
   "execution_count": 22,
   "id": "a3fe24ea",
   "metadata": {},
   "outputs": [
    {
     "name": "stdout",
     "output_type": "stream",
     "text": [
      "tushar\n",
      "khitoliya tushar\n"
     ]
    }
   ],
   "source": [
    "name = 'tushar'\n",
    "print(name)\n",
    "n = 'khitoliya'\n",
    "print(n,name)"
   ]
  },
  {
   "cell_type": "code",
   "execution_count": 23,
   "id": "0c4f8592",
   "metadata": {},
   "outputs": [
    {
     "name": "stdout",
     "output_type": "stream",
     "text": [
      "hello khitoliya tushar\n"
     ]
    }
   ],
   "source": [
    "print('hello {} {}'.format(n,name))"
   ]
  },
  {
   "cell_type": "code",
   "execution_count": 24,
   "id": "9c0a4a60",
   "metadata": {},
   "outputs": [
    {
     "name": "stdout",
     "output_type": "stream",
     "text": [
      "hello tushar\n"
     ]
    }
   ],
   "source": [
    "print(f\"hello {name}\")"
   ]
  },
  {
   "cell_type": "code",
   "execution_count": 25,
   "id": "b89043e0",
   "metadata": {},
   "outputs": [
    {
     "data": {
      "text/plain": [
       "'tushar'"
      ]
     },
     "execution_count": 25,
     "metadata": {},
     "output_type": "execute_result"
    }
   ],
   "source": [
    "name = \"   tushar   \"\n",
    "name.strip()"
   ]
  },
  {
   "cell_type": "code",
   "execution_count": 26,
   "id": "2ca0abcc",
   "metadata": {},
   "outputs": [
    {
     "data": {
      "text/plain": [
       "'   tushar   '"
      ]
     },
     "execution_count": 26,
     "metadata": {},
     "output_type": "execute_result"
    }
   ],
   "source": [
    "name"
   ]
  },
  {
   "cell_type": "code",
   "execution_count": 27,
   "id": "284d3af9",
   "metadata": {},
   "outputs": [],
   "source": [
    "name = name.strip()"
   ]
  },
  {
   "cell_type": "code",
   "execution_count": 18,
   "id": "c89f1895",
   "metadata": {},
   "outputs": [
    {
     "data": {
      "text/plain": [
       "'whar'"
      ]
     },
     "execution_count": 18,
     "metadata": {},
     "output_type": "execute_result"
    }
   ],
   "source": [
    "name.replace('tus','w')"
   ]
  },
  {
   "cell_type": "code",
   "execution_count": 19,
   "id": "0769f908",
   "metadata": {},
   "outputs": [
    {
     "name": "stdout",
     "output_type": "stream",
     "text": [
      "enter the password :     Tushar 3432 True \n",
      "try again\n",
      "enter the password :   Tushar\n",
      "password authenticated\n"
     ]
    }
   ],
   "source": [
    "while True:\n",
    "    a = input('enter the password : ').strip()\n",
    "    if a=='Tushar':\n",
    "        print('password authenticated')\n",
    "        break\n",
    "    else:\n",
    "        print('try again')"
   ]
  },
  {
   "cell_type": "code",
   "execution_count": 28,
   "id": "024e6b28",
   "metadata": {},
   "outputs": [
    {
     "name": "stdout",
     "output_type": "stream",
     "text": [
      "enter the password :     Tushar erwr 22324\n",
      "password authenticated\n"
     ]
    }
   ],
   "source": [
    "while True:\n",
    "    a = input('enter the password : ').strip().split()[0]\n",
    "    if a=='Tushar':\n",
    "        print('password authenticated')\n",
    "        break\n",
    "    else:\n",
    "        print('try again')"
   ]
  },
  {
   "cell_type": "code",
   "execution_count": 29,
   "id": "1a3ebce2",
   "metadata": {},
   "outputs": [
    {
     "data": {
      "text/plain": [
       "['harry', 'Potter']"
      ]
     },
     "execution_count": 29,
     "metadata": {},
     "output_type": "execute_result"
    }
   ],
   "source": [
    "name = 'harry Potter'\n",
    "name.split()"
   ]
  },
  {
   "cell_type": "code",
   "execution_count": 30,
   "id": "663caa12",
   "metadata": {},
   "outputs": [
    {
     "data": {
      "text/plain": [
       "'harry'"
      ]
     },
     "execution_count": 30,
     "metadata": {},
     "output_type": "execute_result"
    }
   ],
   "source": [
    "name.split()[0]"
   ]
  },
  {
   "cell_type": "code",
   "execution_count": 31,
   "id": "ce23d25a",
   "metadata": {},
   "outputs": [
    {
     "name": "stdout",
     "output_type": "stream",
     "text": [
      "harry\n"
     ]
    }
   ],
   "source": [
    "print(name.split()[0])"
   ]
  },
  {
   "cell_type": "code",
   "execution_count": 32,
   "id": "ceb782d0",
   "metadata": {},
   "outputs": [],
   "source": [
    " #operations\n",
    "\n",
    "# strip()\n",
    "# split()\n",
    "# occurence of any character : count()\n",
    "# to replace something : replace()    "
   ]
  },
  {
   "cell_type": "code",
   "execution_count": 33,
   "id": "7ec29798",
   "metadata": {},
   "outputs": [
    {
     "data": {
      "text/plain": [
       "3"
      ]
     },
     "execution_count": 33,
     "metadata": {},
     "output_type": "execute_result"
    }
   ],
   "source": [
    "st = 'harry potter'\n",
    "st.count('r')"
   ]
  },
  {
   "cell_type": "code",
   "execution_count": 34,
   "id": "58c1442d",
   "metadata": {},
   "outputs": [
    {
     "data": {
      "text/plain": [
       "'rrry potter'"
      ]
     },
     "execution_count": 34,
     "metadata": {},
     "output_type": "execute_result"
    }
   ],
   "source": [
    "st.replace('ha','r')"
   ]
  },
  {
   "cell_type": "code",
   "execution_count": 35,
   "id": "f0c5e0a0",
   "metadata": {},
   "outputs": [
    {
     "data": {
      "text/plain": [
       "True"
      ]
     },
     "execution_count": 35,
     "metadata": {},
     "output_type": "execute_result"
    }
   ],
   "source": [
    "st.startswith('ha')"
   ]
  },
  {
   "cell_type": "code",
   "execution_count": 36,
   "id": "51803c48",
   "metadata": {},
   "outputs": [
    {
     "name": "stdout",
     "output_type": "stream",
     "text": [
      "H\n",
      "A\n",
      "R\n",
      "R\n",
      "Y\n",
      "\u0000\n",
      "P\n",
      "O\n",
      "T\n",
      "T\n",
      "E\n",
      "R\n"
     ]
    }
   ],
   "source": [
    "def count_(string):\n",
    "    for i in string:\n",
    "        print(chr(ord(i) - 32))\n",
    "count_('harry potter')        \n",
    "# chr?"
   ]
  },
  {
   "cell_type": "code",
   "execution_count": 37,
   "id": "20924708",
   "metadata": {},
   "outputs": [
    {
     "data": {
      "text/plain": [
       "'HARRY POTTER'"
      ]
     },
     "execution_count": 37,
     "metadata": {},
     "output_type": "execute_result"
    }
   ],
   "source": [
    "st.upper()"
   ]
  },
  {
   "cell_type": "code",
   "execution_count": 38,
   "id": "718822d0",
   "metadata": {},
   "outputs": [],
   "source": [
    "st = st.upper()"
   ]
  },
  {
   "cell_type": "code",
   "execution_count": 39,
   "id": "68ad5df5",
   "metadata": {},
   "outputs": [
    {
     "data": {
      "text/plain": [
       "'HARRY POTTER'"
      ]
     },
     "execution_count": 39,
     "metadata": {},
     "output_type": "execute_result"
    }
   ],
   "source": [
    "st"
   ]
  },
  {
   "cell_type": "code",
   "execution_count": 40,
   "id": "c62f4cb4",
   "metadata": {},
   "outputs": [
    {
     "data": {
      "text/plain": [
       "False"
      ]
     },
     "execution_count": 40,
     "metadata": {},
     "output_type": "execute_result"
    }
   ],
   "source": [
    "st.isalpha()"
   ]
  },
  {
   "cell_type": "code",
   "execution_count": 41,
   "id": "4ce32422",
   "metadata": {},
   "outputs": [
    {
     "data": {
      "text/plain": [
       "'RETTOP YRRAH'"
      ]
     },
     "execution_count": 41,
     "metadata": {},
     "output_type": "execute_result"
    }
   ],
   "source": [
    "st[::-1] #reverse"
   ]
  },
  {
   "cell_type": "code",
   "execution_count": 42,
   "id": "5460320c",
   "metadata": {},
   "outputs": [],
   "source": [
    "#list"
   ]
  },
  {
   "cell_type": "code",
   "execution_count": 52,
   "id": "db5b3479",
   "metadata": {},
   "outputs": [],
   "source": [
    "a = ['purab',19,34.53,True,[32,45,23,4,324,4]]"
   ]
  },
  {
   "cell_type": "code",
   "execution_count": 53,
   "id": "92502aa1",
   "metadata": {},
   "outputs": [
    {
     "data": {
      "text/plain": [
       "4"
      ]
     },
     "execution_count": 53,
     "metadata": {},
     "output_type": "execute_result"
    }
   ],
   "source": [
    "a[4][3]"
   ]
  },
  {
   "cell_type": "code",
   "execution_count": 54,
   "id": "47ed2306",
   "metadata": {},
   "outputs": [],
   "source": [
    "a.append('hi')"
   ]
  },
  {
   "cell_type": "code",
   "execution_count": 55,
   "id": "b00e785c",
   "metadata": {},
   "outputs": [
    {
     "data": {
      "text/plain": [
       "['purab', 19, 34.53, True, [32, 45, 23, 4, 324, 4], 'hi']"
      ]
     },
     "execution_count": 55,
     "metadata": {},
     "output_type": "execute_result"
    }
   ],
   "source": [
    "a"
   ]
  },
  {
   "cell_type": "code",
   "execution_count": 56,
   "id": "22cdc463",
   "metadata": {},
   "outputs": [],
   "source": [
    "a.insert(2,3)"
   ]
  },
  {
   "cell_type": "code",
   "execution_count": 57,
   "id": "eca91853",
   "metadata": {},
   "outputs": [
    {
     "data": {
      "text/plain": [
       "['purab', 19, 3, 34.53, True, [32, 45, 23, 4, 324, 4], 'hi']"
      ]
     },
     "execution_count": 57,
     "metadata": {},
     "output_type": "execute_result"
    }
   ],
   "source": [
    "a"
   ]
  },
  {
   "cell_type": "code",
   "execution_count": 58,
   "id": "62f529cb",
   "metadata": {},
   "outputs": [
    {
     "data": {
      "text/plain": [
       "'hi'"
      ]
     },
     "execution_count": 58,
     "metadata": {},
     "output_type": "execute_result"
    }
   ],
   "source": [
    "a.pop()   #always return the deleted item "
   ]
  },
  {
   "cell_type": "code",
   "execution_count": 59,
   "id": "b9f47952",
   "metadata": {},
   "outputs": [],
   "source": [
    "b= a.pop(5)"
   ]
  },
  {
   "cell_type": "code",
   "execution_count": 60,
   "id": "d38320c8",
   "metadata": {},
   "outputs": [
    {
     "data": {
      "text/plain": [
       "[32, 45, 23, 4, 324, 4]"
      ]
     },
     "execution_count": 60,
     "metadata": {},
     "output_type": "execute_result"
    }
   ],
   "source": [
    "b"
   ]
  },
  {
   "cell_type": "code",
   "execution_count": 61,
   "id": "72896604",
   "metadata": {},
   "outputs": [],
   "source": [
    "a.remove('purab')"
   ]
  },
  {
   "cell_type": "code",
   "execution_count": 62,
   "id": "b6c141b4",
   "metadata": {},
   "outputs": [
    {
     "data": {
      "text/plain": [
       "[32, 45, 23, 4, 324, 4]"
      ]
     },
     "execution_count": 62,
     "metadata": {},
     "output_type": "execute_result"
    }
   ],
   "source": [
    "b"
   ]
  },
  {
   "cell_type": "code",
   "execution_count": 63,
   "id": "eaf2ef82",
   "metadata": {},
   "outputs": [
    {
     "data": {
      "text/plain": [
       "[324, 45, 32, 23, 4, 4]"
      ]
     },
     "execution_count": 63,
     "metadata": {},
     "output_type": "execute_result"
    }
   ],
   "source": [
    "sorted(b, reverse = True)"
   ]
  },
  {
   "cell_type": "code",
   "execution_count": 64,
   "id": "3a8cecef",
   "metadata": {},
   "outputs": [
    {
     "data": {
      "text/plain": [
       "[4, 4, 23, 32, 45, 324]"
      ]
     },
     "execution_count": 64,
     "metadata": {},
     "output_type": "execute_result"
    }
   ],
   "source": [
    "sorted(b)"
   ]
  },
  {
   "cell_type": "code",
   "execution_count": 1,
   "id": "fe594907",
   "metadata": {},
   "outputs": [],
   "source": [
    "tup = (2,3,4,56,6,7,True,range(3,4),'Tushar')"
   ]
  },
  {
   "cell_type": "code",
   "execution_count": 2,
   "id": "b6069674",
   "metadata": {},
   "outputs": [
    {
     "name": "stdout",
     "output_type": "stream",
     "text": [
      "<class 'tuple'>\n"
     ]
    }
   ],
   "source": [
    "print(type(tup))"
   ]
  },
  {
   "cell_type": "code",
   "execution_count": 3,
   "id": "dc28d4ac",
   "metadata": {},
   "outputs": [
    {
     "data": {
      "text/plain": [
       "9"
      ]
     },
     "execution_count": 3,
     "metadata": {},
     "output_type": "execute_result"
    }
   ],
   "source": [
    "len(tup)"
   ]
  },
  {
   "cell_type": "code",
   "execution_count": 4,
   "id": "27d2d611",
   "metadata": {},
   "outputs": [
    {
     "ename": "TypeError",
     "evalue": "'tuple' object does not support item assignment",
     "output_type": "error",
     "traceback": [
      "\u001b[1;31m---------------------------------------------------------------------------\u001b[0m",
      "\u001b[1;31mTypeError\u001b[0m                                 Traceback (most recent call last)",
      "Cell \u001b[1;32mIn[4], line 1\u001b[0m\n\u001b[1;32m----> 1\u001b[0m tup[\u001b[38;5;241m19\u001b[39m] \u001b[38;5;241m=\u001b[39m \u001b[38;5;241m232\u001b[39m\n",
      "\u001b[1;31mTypeError\u001b[0m: 'tuple' object does not support item assignment"
     ]
    }
   ],
   "source": [
    "tup[19] = 232"
   ]
  },
  {
   "cell_type": "code",
   "execution_count": 6,
   "id": "5263f39d",
   "metadata": {},
   "outputs": [],
   "source": [
    "new_tup = tup + (True,)"
   ]
  },
  {
   "cell_type": "code",
   "execution_count": 7,
   "id": "3ea7cb91",
   "metadata": {},
   "outputs": [
    {
     "data": {
      "text/plain": [
       "(2, 3, 4, 56, 6, 7, True, range(3, 4), 'Tushar', True)"
      ]
     },
     "execution_count": 7,
     "metadata": {},
     "output_type": "execute_result"
    }
   ],
   "source": [
    "new_tup"
   ]
  },
  {
   "cell_type": "code",
   "execution_count": 8,
   "id": "29835108",
   "metadata": {},
   "outputs": [],
   "source": [
    "new_tup = list(new_tup)"
   ]
  },
  {
   "cell_type": "code",
   "execution_count": 9,
   "id": "af4f42db",
   "metadata": {},
   "outputs": [],
   "source": [
    "#now you can perform any operation of list and then again return back it to tuple"
   ]
  },
  {
   "cell_type": "code",
   "execution_count": 10,
   "id": "8e7ef311",
   "metadata": {},
   "outputs": [],
   "source": [
    "new_tup.append(23)"
   ]
  },
  {
   "cell_type": "code",
   "execution_count": 11,
   "id": "0de8dc40",
   "metadata": {},
   "outputs": [
    {
     "data": {
      "text/plain": [
       "'Tushar'"
      ]
     },
     "execution_count": 11,
     "metadata": {},
     "output_type": "execute_result"
    }
   ],
   "source": [
    "new_tup.pop(-3)"
   ]
  },
  {
   "cell_type": "code",
   "execution_count": 13,
   "id": "406bf776",
   "metadata": {},
   "outputs": [],
   "source": [
    "new_tup.remove(56)"
   ]
  },
  {
   "cell_type": "code",
   "execution_count": 14,
   "id": "37e832b0",
   "metadata": {},
   "outputs": [
    {
     "data": {
      "text/plain": [
       "[2, 3, 4, 6, 7, True, range(3, 4), True, 23]"
      ]
     },
     "execution_count": 14,
     "metadata": {},
     "output_type": "execute_result"
    }
   ],
   "source": [
    "new_tup"
   ]
  },
  {
   "cell_type": "code",
   "execution_count": 15,
   "id": "4fe1be5a",
   "metadata": {},
   "outputs": [],
   "source": [
    "new_tup.insert(4,'Tushar')"
   ]
  },
  {
   "cell_type": "code",
   "execution_count": 16,
   "id": "86fec3d7",
   "metadata": {},
   "outputs": [
    {
     "data": {
      "text/plain": [
       "[2, 3, 4, 6, 'Tushar', 7, True, range(3, 4), True, 23]"
      ]
     },
     "execution_count": 16,
     "metadata": {},
     "output_type": "execute_result"
    }
   ],
   "source": [
    "new_tup"
   ]
  },
  {
   "cell_type": "code",
   "execution_count": 17,
   "id": "86d9b305",
   "metadata": {},
   "outputs": [],
   "source": [
    "new_tup = tuple(new_tup)"
   ]
  },
  {
   "cell_type": "code",
   "execution_count": 18,
   "id": "37926932",
   "metadata": {},
   "outputs": [
    {
     "data": {
      "text/plain": [
       "(2, 3, 4, 6, 'Tushar', 7, True, range(3, 4), True, 23)"
      ]
     },
     "execution_count": 18,
     "metadata": {},
     "output_type": "execute_result"
    }
   ],
   "source": [
    "new_tup"
   ]
  },
  {
   "cell_type": "code",
   "execution_count": 19,
   "id": "c1b0ac05",
   "metadata": {},
   "outputs": [],
   "source": [
    "#Dictionary"
   ]
  },
  {
   "cell_type": "code",
   "execution_count": 20,
   "id": "7bd9cfd1",
   "metadata": {},
   "outputs": [],
   "source": [
    "a = {\n",
    "    'a':[1,2,4,45],\n",
    "    'b':'Tushar',\n",
    "    'c':(1,2,3,4),\n",
    "    'd':11,\n",
    "    'e':{\n",
    "        'ai':'Jarvis',\n",
    "        'work':'machine learning'\n",
    "        \n",
    "    }\n",
    "}"
   ]
  },
  {
   "cell_type": "code",
   "execution_count": 21,
   "id": "512fde75",
   "metadata": {},
   "outputs": [
    {
     "name": "stdout",
     "output_type": "stream",
     "text": [
      "<class 'dict'>\n"
     ]
    }
   ],
   "source": [
    "print(type(a))"
   ]
  },
  {
   "cell_type": "code",
   "execution_count": 22,
   "id": "26bfc592",
   "metadata": {},
   "outputs": [
    {
     "data": {
      "text/plain": [
       "dict_items([('a', [1, 2, 4, 45]), ('b', 'Tushar'), ('c', (1, 2, 3, 4)), ('d', 11), ('e', {'ai': 'Jarvis', 'work': 'machine learning'})])"
      ]
     },
     "execution_count": 22,
     "metadata": {},
     "output_type": "execute_result"
    }
   ],
   "source": [
    "a.items()"
   ]
  },
  {
   "cell_type": "code",
   "execution_count": 23,
   "id": "e8a96c10",
   "metadata": {},
   "outputs": [
    {
     "data": {
      "text/plain": [
       "dict_keys(['a', 'b', 'c', 'd', 'e'])"
      ]
     },
     "execution_count": 23,
     "metadata": {},
     "output_type": "execute_result"
    }
   ],
   "source": [
    "a.keys()"
   ]
  },
  {
   "cell_type": "code",
   "execution_count": 24,
   "id": "b7824298",
   "metadata": {},
   "outputs": [
    {
     "data": {
      "text/plain": [
       "dict_values([[1, 2, 4, 45], 'Tushar', (1, 2, 3, 4), 11, {'ai': 'Jarvis', 'work': 'machine learning'}])"
      ]
     },
     "execution_count": 24,
     "metadata": {},
     "output_type": "execute_result"
    }
   ],
   "source": [
    "a.values()"
   ]
  },
  {
   "cell_type": "code",
   "execution_count": 28,
   "id": "31a1f117",
   "metadata": {},
   "outputs": [
    {
     "name": "stdout",
     "output_type": "stream",
     "text": [
      "('a', [1, 2, 4, 45])\n",
      "('b', 'Tushar')\n",
      "('c', (1, 2, 3, 4))\n",
      "('d', 11)\n",
      "('e', {'ai': 'Jarvis', 'work': 'machine learning'})\n"
     ]
    }
   ],
   "source": [
    "for i in a.items():\n",
    "    print(i)"
   ]
  },
  {
   "cell_type": "code",
   "execution_count": 38,
   "id": "e8c9bf6c",
   "metadata": {},
   "outputs": [
    {
     "name": "stdout",
     "output_type": "stream",
     "text": [
      "Jarvis\n",
      "machine learning\n"
     ]
    }
   ],
   "source": [
    "for i in a['e'].values():\n",
    "    print(i)"
   ]
  },
  {
   "cell_type": "code",
   "execution_count": 40,
   "id": "3992d9ea",
   "metadata": {},
   "outputs": [
    {
     "data": {
      "text/plain": [
       "(1, 2, 3, 4)"
      ]
     },
     "execution_count": 40,
     "metadata": {},
     "output_type": "execute_result"
    }
   ],
   "source": [
    "a.get('c')  #directly access the key through get function"
   ]
  },
  {
   "cell_type": "code",
   "execution_count": 45,
   "id": "528aaf10",
   "metadata": {},
   "outputs": [],
   "source": [
    "a = { 1,2,3,34,4,65.0,6}"
   ]
  },
  {
   "cell_type": "code",
   "execution_count": 46,
   "id": "ec3fa247",
   "metadata": {},
   "outputs": [
    {
     "name": "stdout",
     "output_type": "stream",
     "text": [
      "<class 'set'>\n"
     ]
    }
   ],
   "source": [
    "print(type(a))"
   ]
  },
  {
   "cell_type": "code",
   "execution_count": 47,
   "id": "4f33deb2",
   "metadata": {},
   "outputs": [],
   "source": [
    "aa = {21,4,5,76,7,43,4,5,5}\n"
   ]
  },
  {
   "cell_type": "code",
   "execution_count": 48,
   "id": "95dc9ca6",
   "metadata": {},
   "outputs": [
    {
     "data": {
      "text/plain": [
       "{4}"
      ]
     },
     "execution_count": 48,
     "metadata": {},
     "output_type": "execute_result"
    }
   ],
   "source": [
    "a.intersection(aa)"
   ]
  },
  {
   "cell_type": "code",
   "execution_count": 49,
   "id": "65be0e6c",
   "metadata": {},
   "outputs": [
    {
     "data": {
      "text/plain": [
       "{1, 2, 3, 4, 5, 6, 7, 21, 34, 43, 65.0, 76}"
      ]
     },
     "execution_count": 49,
     "metadata": {},
     "output_type": "execute_result"
    }
   ],
   "source": [
    "a.union(aa)"
   ]
  },
  {
   "cell_type": "code",
   "execution_count": 50,
   "id": "007744b1",
   "metadata": {},
   "outputs": [
    {
     "data": {
      "text/plain": [
       "{1, 2, 3, 4, 5, 6, 7, 21, 34, 43, 65.0, 76}"
      ]
     },
     "execution_count": 50,
     "metadata": {},
     "output_type": "execute_result"
    }
   ],
   "source": [
    "aa.union(a)"
   ]
  },
  {
   "cell_type": "code",
   "execution_count": 51,
   "id": "a92471b5",
   "metadata": {},
   "outputs": [
    {
     "name": "stdout",
     "output_type": "stream",
     "text": [
      "{50, 51, 52, 53, 54, 55, 56, 57, 58, 59, 60, 61, 62, 63, 64, 65, 66, 67, 68, 69, 70, 71, 72, 73, 74, 75, 76, 77, 78, 79, 80, 81, 82, 83, 84, 85, 86, 87, 88, 89, 90, 91, 92, 93, 94, 95, 96, 97, 98, 99}\n"
     ]
    }
   ],
   "source": [
    "a = []\n",
    "for i in range(50,100):\n",
    "    a.append(i)\n",
    "aa = []\n",
    "for i in range(50,150):\n",
    "    aa.append(i)\n",
    "print(set(a).intersection(set(aa)))"
   ]
  },
  {
   "cell_type": "code",
   "execution_count": 42,
   "id": "9413e356",
   "metadata": {},
   "outputs": [],
   "source": [
    "d = {\n",
    "    'a':[1,2,2,2,3,4,4,5,65,76,75,76,65],\n",
    "    'b':[32,23,2,34,3,43,43,4.3,3,4,4.3,4,8,9,98,7,7]\n",
    "}"
   ]
  },
  {
   "cell_type": "code",
   "execution_count": 43,
   "id": "c521e1dd",
   "metadata": {},
   "outputs": [
    {
     "name": "stdout",
     "output_type": "stream",
     "text": [
      "{1, 2, 3, 4, 5, 65, 75, 76}\n",
      "{32, 2, 3, 34, 4.3, 4, 98, 8, 9, 7, 43, 23}\n"
     ]
    }
   ],
   "source": [
    "for i in d.items():\n",
    "    print(set(i[1]))"
   ]
  },
  {
   "cell_type": "code",
   "execution_count": 44,
   "id": "10dfdadd",
   "metadata": {},
   "outputs": [
    {
     "name": "stdout",
     "output_type": "stream",
     "text": [
      "1 2 3 43 ; erwer\n"
     ]
    }
   ],
   "source": [
    "print(1,2,3,43,';','erwer')"
   ]
  },
  {
   "cell_type": "code",
   "execution_count": 52,
   "id": "d7041064",
   "metadata": {},
   "outputs": [
    {
     "name": "stdout",
     "output_type": "stream",
     "text": [
      "{50, 51, 52, 53, 54, 55, 56, 57, 58, 59, 60, 61, 62, 63, 64, 65, 66, 67, 68, 69, 70, 71, 72, 73, 74, 75, 76, 77, 78, 79, 80, 81, 82, 83, 84, 85, 86, 87, 88, 89, 90, 91, 92, 93, 94, 95, 96, 97, 98, 99, 100, 101, 102, 103, 104, 105, 106, 107, 108, 109, 110, 111, 112, 113, 114, 115, 116, 117, 118, 119, 120, 121, 122, 123, 124, 125, 126, 127, 128, 129, 130, 131, 132, 133, 134, 135, 136, 137, 138, 139, 140, 141, 142, 143, 144, 145, 146, 147, 148, 149}\n"
     ]
    }
   ],
   "source": [
    "print(set(a).union\n",
    "      (set(aa)))"
   ]
  },
  {
   "cell_type": "code",
   "execution_count": 30,
   "id": "b1691e03",
   "metadata": {},
   "outputs": [
    {
     "name": "stdout",
     "output_type": "stream",
     "text": [
      "[8, 7, 6, 5, 4, 3, 2, 1]\n"
     ]
    }
   ],
   "source": [
    "def reverse(l1):\n",
    "    l2 = []\n",
    "    for i in l1:\n",
    "        l2.insert(0,i)\n",
    "    l1 = l2\n",
    "    print(l1)\n",
    "l1 = [1,2,3,4,5,6,7,8]\n",
    "reverse(l1)"
   ]
  },
  {
   "cell_type": "code",
   "execution_count": 31,
   "id": "8467cacf",
   "metadata": {},
   "outputs": [],
   "source": [
    "a = 'The quick brown fox jumps over the lazy dog'\n",
    "def func(a):\n",
    "    b = []\n",
    "    c = a.upper()\n",
    "    for i in c:\n",
    "        if i not in b:\n",
    "            b.append(i)\n",
    "            count = c.count(i)\n",
    "            print('occurence of' ,i, \"are\", count)"
   ]
  },
  {
   "cell_type": "code",
   "execution_count": 32,
   "id": "642b64e1",
   "metadata": {},
   "outputs": [
    {
     "name": "stdout",
     "output_type": "stream",
     "text": [
      "occurence of T are 2\n",
      "occurence of H are 2\n",
      "occurence of E are 3\n",
      "occurence of   are 8\n",
      "occurence of Q are 1\n",
      "occurence of U are 2\n",
      "occurence of I are 1\n",
      "occurence of C are 1\n",
      "occurence of K are 1\n",
      "occurence of B are 1\n",
      "occurence of R are 2\n",
      "occurence of O are 4\n",
      "occurence of W are 1\n",
      "occurence of N are 1\n",
      "occurence of F are 1\n",
      "occurence of X are 1\n",
      "occurence of J are 1\n",
      "occurence of M are 1\n",
      "occurence of P are 1\n",
      "occurence of S are 1\n",
      "occurence of V are 1\n",
      "occurence of L are 1\n",
      "occurence of A are 1\n",
      "occurence of Z are 1\n",
      "occurence of Y are 1\n",
      "occurence of D are 1\n",
      "occurence of G are 1\n"
     ]
    }
   ],
   "source": [
    "func(a)"
   ]
  },
  {
   "cell_type": "code",
   "execution_count": 5,
   "id": "5a0581b8",
   "metadata": {},
   "outputs": [],
   "source": [
    "d = {\n",
    "    'a':[1,2,2,2,3,4,4,5,65,76,75,76,65],\n",
    "    'b':[32,23,2,34,3,43,43,4.3,3,4,4.3,4,8,9,98,7,7]\n",
    "}\n",
    "# find the intersection and union of these two key values"
   ]
  },
  {
   "cell_type": "code",
   "execution_count": 13,
   "id": "4f07755d",
   "metadata": {},
   "outputs": [],
   "source": [
    "A = set(d['a'])"
   ]
  },
  {
   "cell_type": "code",
   "execution_count": 12,
   "id": "5c2c913e",
   "metadata": {},
   "outputs": [],
   "source": [
    "B = set(d['b'])"
   ]
  },
  {
   "cell_type": "code",
   "execution_count": 14,
   "id": "fed5d3ab",
   "metadata": {},
   "outputs": [
    {
     "data": {
      "text/plain": [
       "{1, 2, 3, 4, 4.3, 5, 7, 8, 9, 23, 32, 34, 43, 65, 75, 76, 98}"
      ]
     },
     "execution_count": 14,
     "metadata": {},
     "output_type": "execute_result"
    }
   ],
   "source": [
    "A.union(B)"
   ]
  },
  {
   "cell_type": "code",
   "execution_count": 15,
   "id": "1a3b266e",
   "metadata": {},
   "outputs": [
    {
     "data": {
      "text/plain": [
       "{2, 3, 4}"
      ]
     },
     "execution_count": 15,
     "metadata": {},
     "output_type": "execute_result"
    }
   ],
   "source": [
    "A.intersection(B)"
   ]
  },
  {
   "cell_type": "code",
   "execution_count": 16,
   "id": "cf9a7d09",
   "metadata": {},
   "outputs": [],
   "source": [
    "def adder(a,b):\n",
    "    return a+b"
   ]
  },
  {
   "cell_type": "code",
   "execution_count": 17,
   "id": "703fea6b",
   "metadata": {},
   "outputs": [
    {
     "name": "stdout",
     "output_type": "stream",
     "text": [
      "7\n"
     ]
    }
   ],
   "source": [
    "print(adder(3,4))"
   ]
  },
  {
   "cell_type": "code",
   "execution_count": 18,
   "id": "2af4e86b",
   "metadata": {},
   "outputs": [],
   "source": [
    "def addr(a,b,c,*args):\n",
    "    print(a+b+c)\n",
    "    print(args)\n",
    "    print(*args)"
   ]
  },
  {
   "cell_type": "code",
   "execution_count": 19,
   "id": "3942c107",
   "metadata": {},
   "outputs": [
    {
     "name": "stdout",
     "output_type": "stream",
     "text": [
      "9\n",
      "(23, 43, 4, 5)\n",
      "23 43 4 5\n"
     ]
    }
   ],
   "source": [
    "addr(2,3,4,23,43,4,5)"
   ]
  },
  {
   "cell_type": "code",
   "execution_count": 20,
   "id": "6fc721bb",
   "metadata": {},
   "outputs": [
    {
     "data": {
      "text/plain": [
       "19"
      ]
     },
     "execution_count": 20,
     "metadata": {},
     "output_type": "execute_result"
    }
   ],
   "source": [
    "def add(a,b,*x):\n",
    "    a = a+b\n",
    "    for i in x:\n",
    "        a = a+i\n",
    "    return a    \n",
    "add(1,2,2,2,3,4,5)        "
   ]
  },
  {
   "cell_type": "code",
   "execution_count": 21,
   "id": "e1d0691b",
   "metadata": {},
   "outputs": [],
   "source": [
    "def printer(*XYZ):\n",
    "    for i in XYZ:\n",
    "        print(i)"
   ]
  },
  {
   "cell_type": "code",
   "execution_count": 22,
   "id": "8230c6a6",
   "metadata": {},
   "outputs": [
    {
     "name": "stdout",
     "output_type": "stream",
     "text": [
      "1\n",
      "2\n",
      "43\n",
      "4\n",
      "5\n",
      "6\n",
      "6\n",
      "324\n"
     ]
    }
   ],
   "source": [
    "printer(1,2,43,4,5,6,6,'324')"
   ]
  },
  {
   "cell_type": "code",
   "execution_count": 23,
   "id": "25c63950",
   "metadata": {},
   "outputs": [],
   "source": [
    "def addr(a,b,c,*args):\n",
    "    print(a+b+c)\n",
    "    print(*args)"
   ]
  },
  {
   "cell_type": "code",
   "execution_count": 24,
   "id": "5d4c1f94",
   "metadata": {},
   "outputs": [
    {
     "name": "stdout",
     "output_type": "stream",
     "text": [
      "6\n",
      "3 4 4 5 65\n"
     ]
    }
   ],
   "source": [
    "addr(1,2,3,3,4,4,5,65)"
   ]
  },
  {
   "cell_type": "code",
   "execution_count": 25,
   "id": "4ae59301",
   "metadata": {},
   "outputs": [],
   "source": [
    "def adderr(a, *args, **kwargs):\n",
    "    print(a)\n",
    "    print(args)\n",
    "    print(kwargs)\n",
    "    "
   ]
  },
  {
   "cell_type": "code",
   "execution_count": 26,
   "id": "623264ed",
   "metadata": {},
   "outputs": [
    {
     "name": "stdout",
     "output_type": "stream",
     "text": [
      "2\n",
      "(3, 4, 5, 45)\n",
      "{'name_1': 'Harsh', 'name_2': 'Mathew'}\n"
     ]
    }
   ],
   "source": [
    "adderr(2,3,4,5,45,name_1 = 'Harsh',name_2 = 'Mathew')"
   ]
  },
  {
   "cell_type": "code",
   "execution_count": 27,
   "id": "ae2374fa",
   "metadata": {},
   "outputs": [],
   "source": [
    "def addrrrr(a,name,*args, **kwargs):\n",
    "    print(a)\n",
    "    print(name)\n",
    "    print(args)\n",
    "    print(kwargs)"
   ]
  },
  {
   "cell_type": "code",
   "execution_count": 29,
   "id": "082ec616",
   "metadata": {},
   "outputs": [
    {
     "name": "stdout",
     "output_type": "stream",
     "text": [
      "212\n",
      "hello\n",
      "(2, 3, 4, 5, 6, 6, 7)\n",
      "{'function': 'add', 'func': 'sunm'}\n",
      "1\n",
      "Tushar\n",
      "(23, 3, 4, 5, 6, 6, 'hello moto')\n",
      "{}\n"
     ]
    }
   ],
   "source": [
    "addrrrr(212,'hello',2,3,4,5,6,6,7,function = 'add',func = 'sunm')\n",
    "addrrrr(1,'Tushar',23,3,4,5,6,6,'hello moto')"
   ]
  },
  {
   "cell_type": "code",
   "execution_count": 130,
   "id": "b81bd4ea",
   "metadata": {},
   "outputs": [],
   "source": [
    "class Student:\n",
    "    mentor = 'Tushar'\n",
    "    age = 40"
   ]
  },
  {
   "cell_type": "code",
   "execution_count": 131,
   "id": "f8606132",
   "metadata": {},
   "outputs": [],
   "source": [
    "a = Student()"
   ]
  },
  {
   "cell_type": "code",
   "execution_count": 132,
   "id": "95b42bec",
   "metadata": {},
   "outputs": [
    {
     "name": "stdout",
     "output_type": "stream",
     "text": [
      "Tushar 40\n"
     ]
    }
   ],
   "source": [
    "print(a.mentor,a.age)"
   ]
  },
  {
   "cell_type": "code",
   "execution_count": 133,
   "id": "b9f2975a",
   "metadata": {},
   "outputs": [],
   "source": [
    "class Student:\n",
    "    mentor = 'Tushar'\n",
    "    age = 40\n",
    "    name = None\n",
    "    \n",
    "    def hello(self,name_person,age_person):\n",
    "        self.name = name_person\n",
    "        self.age = age_person\n",
    "        print(self.name,self.age)"
   ]
  },
  {
   "cell_type": "code",
   "execution_count": 134,
   "id": "d6d0dcf8",
   "metadata": {},
   "outputs": [],
   "source": [
    "a = Student()"
   ]
  },
  {
   "cell_type": "code",
   "execution_count": 135,
   "id": "07c6b11f",
   "metadata": {},
   "outputs": [
    {
     "name": "stdout",
     "output_type": "stream",
     "text": [
      "Lakshay 19\n"
     ]
    }
   ],
   "source": [
    "a.hello('Lakshay',19)"
   ]
  },
  {
   "cell_type": "code",
   "execution_count": 138,
   "id": "ecaa5100",
   "metadata": {},
   "outputs": [
    {
     "name": "stdout",
     "output_type": "stream",
     "text": [
      "enter the name : Kashish\n",
      "enter the age : 25\n",
      "Kashish 25\n"
     ]
    }
   ],
   "source": [
    "a.hello(input(\"enter the name : \"), int(input(\"enter the age : \")))"
   ]
  },
  {
   "cell_type": "code",
   "execution_count": 139,
   "id": "8869627e",
   "metadata": {},
   "outputs": [],
   "source": [
    "class Student:\n",
    "    mentor = 'Tushar'\n",
    "    age = 40\n",
    "    name = None\n",
    "    \n",
    "    def __init__(self,name_person,age_person,mentor):\n",
    "        self.name = name_person\n",
    "        self.age = age_person\n",
    "        self.mentor = mentor\n",
    "        print(self.name,self.age,self.mentor)\n",
    "    \n",
    "#     def hello(self,name_person,age_person):\n",
    "#         self.name = name_person\n",
    "#         self.age = age_person\n",
    "#         print(self.name,self.age)"
   ]
  },
  {
   "cell_type": "code",
   "execution_count": 140,
   "id": "51408842",
   "metadata": {},
   "outputs": [
    {
     "name": "stdout",
     "output_type": "stream",
     "text": [
      "Lakshay 19 Purab\n"
     ]
    }
   ],
   "source": [
    "a = Student('Lakshay',19,'Purab')"
   ]
  },
  {
   "cell_type": "code",
   "execution_count": 141,
   "id": "8c246d3e",
   "metadata": {},
   "outputs": [
    {
     "data": {
      "text/plain": [
       "'Purab'"
      ]
     },
     "execution_count": 141,
     "metadata": {},
     "output_type": "execute_result"
    }
   ],
   "source": [
    "a.mentor"
   ]
  },
  {
   "cell_type": "code",
   "execution_count": 142,
   "id": "4b747df5",
   "metadata": {},
   "outputs": [],
   "source": [
    "class Car:\n",
    "    def __init__(self,model,mileage):\n",
    "        self.model = model\n",
    "        self.mileage = mileage\n",
    "        print(self.model,self.mileage)\n",
    "    def __add__(self,other):\n",
    "        return int(self.mileage) + int(other.mileage)\n",
    "    \n",
    "    def __eq__(self,other):\n",
    "        return str(self.mileage) == str(other.mileage)\n",
    "    \n",
    "    def __str__(self):\n",
    "        return \"{} {}\".format(self.model,self.mileage)"
   ]
  },
  {
   "cell_type": "code",
   "execution_count": 143,
   "id": "6ec78a11",
   "metadata": {},
   "outputs": [
    {
     "name": "stdout",
     "output_type": "stream",
     "text": [
      "False\n"
     ]
    }
   ],
   "source": [
    "print(C1 == C2)"
   ]
  },
  {
   "cell_type": "code",
   "execution_count": 144,
   "id": "19eb9451",
   "metadata": {},
   "outputs": [
    {
     "name": "stdout",
     "output_type": "stream",
     "text": [
      "Tesla 8\n",
      "BMW 7\n"
     ]
    }
   ],
   "source": [
    "C1 = Car('Tesla',8)\n",
    "C2 = Car('BMW',7)"
   ]
  },
  {
   "cell_type": "code",
   "execution_count": 145,
   "id": "646c704c",
   "metadata": {},
   "outputs": [
    {
     "data": {
      "text/plain": [
       "'BMW 7'"
      ]
     },
     "execution_count": 145,
     "metadata": {},
     "output_type": "execute_result"
    }
   ],
   "source": [
    "str(C2)"
   ]
  },
  {
   "cell_type": "code",
   "execution_count": 146,
   "id": "d8d15cf7",
   "metadata": {},
   "outputs": [],
   "source": [
    "class Dog:\n",
    "    \n",
    "    def __init__(self,name,breed):\n",
    "        self.name = name\n",
    "        self.breed = breed\n",
    "        self.total_tricks = []\n",
    "        \n",
    "    def trick(self,tricks):\n",
    "        self.total_tricks.append(tricks)\n",
    "        print(f'{self.name}, {self.breed}, {self.total_tricks}')"
   ]
  },
  {
   "cell_type": "code",
   "execution_count": 147,
   "id": "55dab46a",
   "metadata": {},
   "outputs": [],
   "source": [
    "a = Dog('max','german')"
   ]
  },
  {
   "cell_type": "code",
   "execution_count": 148,
   "id": "9b2f55be",
   "metadata": {},
   "outputs": [
    {
     "name": "stdout",
     "output_type": "stream",
     "text": [
      "max, german, ['sit']\n"
     ]
    }
   ],
   "source": [
    "a.trick('sit')"
   ]
  },
  {
   "cell_type": "code",
   "execution_count": 149,
   "id": "a6cf15bb",
   "metadata": {},
   "outputs": [
    {
     "data": {
      "text/plain": [
       "['sit']"
      ]
     },
     "execution_count": 149,
     "metadata": {},
     "output_type": "execute_result"
    }
   ],
   "source": [
    "a.total_tricks"
   ]
  },
  {
   "cell_type": "code",
   "execution_count": 150,
   "id": "483dd0dd",
   "metadata": {},
   "outputs": [],
   "source": [
    "b = Dog('shero','pomerian')"
   ]
  },
  {
   "cell_type": "code",
   "execution_count": 151,
   "id": "c851eeca",
   "metadata": {},
   "outputs": [
    {
     "name": "stdout",
     "output_type": "stream",
     "text": [
      "shero, pomerian, ['dance']\n"
     ]
    }
   ],
   "source": [
    "b.trick('dance')"
   ]
  },
  {
   "cell_type": "code",
   "execution_count": 152,
   "id": "aa8d8f4d",
   "metadata": {},
   "outputs": [
    {
     "data": {
      "text/plain": [
       "['dance']"
      ]
     },
     "execution_count": 152,
     "metadata": {},
     "output_type": "execute_result"
    }
   ],
   "source": [
    "b.total_tricks"
   ]
  },
  {
   "cell_type": "markdown",
   "id": "bace2cfd",
   "metadata": {},
   "source": [
    "# Inheritence"
   ]
  },
  {
   "cell_type": "code",
   "execution_count": 50,
   "id": "8b0994ab",
   "metadata": {},
   "outputs": [],
   "source": [
    "class School_member:\n",
    "    \n",
    "    def __init__(self,name,age):\n",
    "        \n",
    "        self.name = name\n",
    "        self.age = age\n",
    "        print(\"Initialised Member : \",self.name)\n",
    "        \n",
    "    def tell(self):\n",
    "        \n",
    "        print(f\"Name : {self.name}\")\n",
    "        print(f\"Age : {self.age}\")\n",
    "        \n",
    "class Teachers(School_member):\n",
    "    \n",
    "    def __init__(self,T_name,T_age,T_subject):\n",
    "        School_member.__init__(self,T_name,T_age)\n",
    "        self.subject = T_subject\n",
    "        \n",
    "    def tell(self):\n",
    "        School_member.tell(self)\n",
    "        print(f\"Subject : {self.subject}\")"
   ]
  },
  {
   "cell_type": "code",
   "execution_count": 51,
   "id": "ac9b0342",
   "metadata": {},
   "outputs": [
    {
     "name": "stdout",
     "output_type": "stream",
     "text": [
      "Initialised Member :  Tushar\n",
      "Initialised Member :  Kashish\n"
     ]
    }
   ],
   "source": [
    "a = Teachers('Tushar',40,'AI/ML')\n",
    "b = Teachers('Kashish',50,'Full stack')"
   ]
  },
  {
   "cell_type": "code",
   "execution_count": 88,
   "id": "c570d06d",
   "metadata": {},
   "outputs": [
    {
     "name": "stdout",
     "output_type": "stream",
     "text": [
      "Name : Tushar\n",
      "Age : 40\n",
      "Subject : AI/ML\n"
     ]
    }
   ],
   "source": [
    "a.tell()"
   ]
  },
  {
   "cell_type": "code",
   "execution_count": 89,
   "id": "4fa9c820",
   "metadata": {},
   "outputs": [
    {
     "name": "stdout",
     "output_type": "stream",
     "text": [
      "Name : Kashish\n",
      "Age : 50\n",
      "Subject : Full stack\n"
     ]
    }
   ],
   "source": [
    "b.tell()"
   ]
  },
  {
   "cell_type": "code",
   "execution_count": 21,
   "id": "d99a55f4",
   "metadata": {},
   "outputs": [],
   "source": [
    "users = {\n",
    "    'Tushar':'ABC',\n",
    "    'Kashish':'CBA'\n",
    "}"
   ]
  },
  {
   "cell_type": "code",
   "execution_count": 22,
   "id": "0c8cd59d",
   "metadata": {},
   "outputs": [
    {
     "name": "stdout",
     "output_type": "stream",
     "text": [
      "Tushar\n",
      "Kashish\n"
     ]
    }
   ],
   "source": [
    "for i in users:\n",
    "    print(i)"
   ]
  },
  {
   "cell_type": "code",
   "execution_count": 23,
   "id": "ca391c6b",
   "metadata": {},
   "outputs": [],
   "source": [
    "def show(username, password):\n",
    "    if username in users and users[username] == password:\n",
    "        print(\"authenticated\")\n",
    "        \n",
    "    else:\n",
    "        print(\"Not authenticated\")"
   ]
  },
  {
   "cell_type": "code",
   "execution_count": 24,
   "id": "e61e31a3",
   "metadata": {},
   "outputs": [
    {
     "name": "stdout",
     "output_type": "stream",
     "text": [
      "authenticated\n"
     ]
    }
   ],
   "source": [
    "show(\"Tushar\",\"ABC\")"
   ]
  },
  {
   "cell_type": "code",
   "execution_count": 25,
   "id": "4fb3942c",
   "metadata": {},
   "outputs": [],
   "source": [
    "def add(username, password, a,b):\n",
    "    if username in users and users[username] == password:\n",
    "        print(a+b)\n",
    "    else:\n",
    "        print(\"Not authenticated\")"
   ]
  },
  {
   "cell_type": "code",
   "execution_count": 26,
   "id": "9430d62f",
   "metadata": {},
   "outputs": [
    {
     "name": "stdout",
     "output_type": "stream",
     "text": [
      "5\n"
     ]
    }
   ],
   "source": [
    "add(\"Tushar\",\"ABC\",2,3)"
   ]
  },
  {
   "cell_type": "code",
   "execution_count": 27,
   "id": "a6351884",
   "metadata": {},
   "outputs": [
    {
     "data": {
      "text/plain": [
       "{'Tushar': 'ABC', 'Kashish': 'CBA'}"
      ]
     },
     "execution_count": 27,
     "metadata": {},
     "output_type": "execute_result"
    }
   ],
   "source": [
    "users"
   ]
  },
  {
   "cell_type": "code",
   "execution_count": 34,
   "id": "1e4a2574",
   "metadata": {},
   "outputs": [],
   "source": [
    "def add(a,b):\n",
    "    print(a+b)"
   ]
  },
  {
   "cell_type": "code",
   "execution_count": 35,
   "id": "3cdc5165",
   "metadata": {},
   "outputs": [],
   "source": [
    "def login_req(f):\n",
    "    def wrapper(username, password, *args, **kwargs):\n",
    "        if username in users and users[username] == password:\n",
    "            \n",
    "            #user authenticated\n",
    "            f(*args, **kwargs)\n",
    "        else:\n",
    "            \n",
    "            print(\"Not authenticated\")\n",
    "    return wrapper        "
   ]
  },
  {
   "cell_type": "code",
   "execution_count": 36,
   "id": "4e8f8ff8",
   "metadata": {},
   "outputs": [],
   "source": [
    "add = login_req(add)"
   ]
  },
  {
   "cell_type": "code",
   "execution_count": 37,
   "id": "6a7ed0d4",
   "metadata": {},
   "outputs": [],
   "source": [
    "protect_add = login_req(add)"
   ]
  },
  {
   "cell_type": "code",
   "execution_count": 38,
   "id": "10cb3f83",
   "metadata": {},
   "outputs": [
    {
     "name": "stdout",
     "output_type": "stream",
     "text": [
      "Not authenticated\n",
      "None\n"
     ]
    }
   ],
   "source": [
    "print(add(2,3))"
   ]
  },
  {
   "cell_type": "code",
   "execution_count": 39,
   "id": "e95d69f8",
   "metadata": {},
   "outputs": [
    {
     "name": "stdout",
     "output_type": "stream",
     "text": [
      "Not authenticated\n"
     ]
    }
   ],
   "source": [
    "protect_add('Tushar','ABC',2,3)"
   ]
  },
  {
   "cell_type": "code",
   "execution_count": 40,
   "id": "54da775e",
   "metadata": {},
   "outputs": [
    {
     "name": "stdout",
     "output_type": "stream",
     "text": [
      "5\n"
     ]
    }
   ],
   "source": [
    "add('Tushar','ABC',2,3)"
   ]
  },
  {
   "cell_type": "code",
   "execution_count": 41,
   "id": "31219d7e",
   "metadata": {},
   "outputs": [],
   "source": [
    "# def add(a,b):\n",
    "#     print(a+b)\n",
    "# add = login_req(add)    \n",
    "# add('Tushar','ABC',2,3)"
   ]
  },
  {
   "cell_type": "code",
   "execution_count": 42,
   "id": "bdceafe8",
   "metadata": {},
   "outputs": [
    {
     "name": "stdout",
     "output_type": "stream",
     "text": [
      "5\n"
     ]
    }
   ],
   "source": [
    "@login_req\n",
    "def add(a,b):\n",
    "    print(a+b)\n",
    "add('Tushar','ABC',2,3)    "
   ]
  },
  {
   "cell_type": "code",
   "execution_count": 43,
   "id": "d6980a09",
   "metadata": {},
   "outputs": [],
   "source": [
    "def add(a,b):\n",
    "    print(a+b)"
   ]
  },
  {
   "cell_type": "code",
   "execution_count": 44,
   "id": "98e0f945",
   "metadata": {},
   "outputs": [
    {
     "name": "stdout",
     "output_type": "stream",
     "text": [
      "<function add at 0x0000024820F1B600>\n"
     ]
    }
   ],
   "source": [
    "print(add)"
   ]
  },
  {
   "cell_type": "code",
   "execution_count": 45,
   "id": "f1d532b3",
   "metadata": {},
   "outputs": [],
   "source": [
    "a = add"
   ]
  },
  {
   "cell_type": "code",
   "execution_count": 46,
   "id": "fbdc99b9",
   "metadata": {},
   "outputs": [
    {
     "name": "stdout",
     "output_type": "stream",
     "text": [
      "5\n"
     ]
    }
   ],
   "source": [
    "a(2,3)"
   ]
  },
  {
   "cell_type": "code",
   "execution_count": 47,
   "id": "dbdff47f",
   "metadata": {},
   "outputs": [
    {
     "name": "stdout",
     "output_type": "stream",
     "text": [
      "5\n"
     ]
    }
   ],
   "source": [
    "def add(a,b):\n",
    "    print(a+b)\n",
    "add = login_req(add)    \n",
    "add('Tushar','ABC',2,3)"
   ]
  },
  {
   "cell_type": "code",
   "execution_count": 48,
   "id": "1cf5d4cd",
   "metadata": {},
   "outputs": [
    {
     "name": "stdout",
     "output_type": "stream",
     "text": [
      "5\n"
     ]
    }
   ],
   "source": [
    "@login_req\n",
    "def add(a,b):\n",
    "    print(a+b)\n",
    "add('Tushar','ABC',2,3)"
   ]
  },
  {
   "cell_type": "markdown",
   "id": "7f0a523b",
   "metadata": {},
   "source": [
    "# File handling"
   ]
  },
  {
   "cell_type": "code",
   "execution_count": 1,
   "id": "ff91f4f7",
   "metadata": {},
   "outputs": [],
   "source": [
    "open?"
   ]
  },
  {
   "cell_type": "code",
   "execution_count": 16,
   "id": "6c03c400",
   "metadata": {},
   "outputs": [],
   "source": [
    "file = open('ML.txt', 'r')"
   ]
  },
  {
   "cell_type": "code",
   "execution_count": 10,
   "id": "b5fcb7f7",
   "metadata": {},
   "outputs": [
    {
     "data": {
      "text/plain": [
       "'Machine learning (ML) is a field of study in artificial intelligence concerned with the development and study of statistical algorithms that can learn from data and generalize to unseen data, and thusperform tasks without explicit instructions.[1] Recently, generative artificial neural networks have been able to surpass many previous approaches in performance.Hello how are you ?'"
      ]
     },
     "execution_count": 10,
     "metadata": {},
     "output_type": "execute_result"
    }
   ],
   "source": [
    "file.read(-1)"
   ]
  },
  {
   "cell_type": "code",
   "execution_count": 13,
   "id": "751c3bb1",
   "metadata": {},
   "outputs": [
    {
     "data": {
      "text/plain": [
       "'Ma'"
      ]
     },
     "execution_count": 13,
     "metadata": {},
     "output_type": "execute_result"
    }
   ],
   "source": [
    "file.readline(2)"
   ]
  },
  {
   "cell_type": "code",
   "execution_count": 14,
   "id": "b0026952",
   "metadata": {},
   "outputs": [
    {
     "data": {
      "text/plain": [
       "'chine learning (ML) is a field of study in artificial intelligence concerned with the development and study of statistical algorithms that can learn from data and generalize to unseen data, and thusperform tasks without explicit instructions.[1] Recently, generative artificial neural networks have been able to surpass many previous approaches in performance.Hello how are you ?'"
      ]
     },
     "execution_count": 14,
     "metadata": {},
     "output_type": "execute_result"
    }
   ],
   "source": [
    "file.readline()"
   ]
  },
  {
   "cell_type": "code",
   "execution_count": 17,
   "id": "b9411c4f",
   "metadata": {},
   "outputs": [
    {
     "data": {
      "text/plain": [
       "['Machine learning (ML) is a field of study in artificial intelligence concerned with the development and study of statistical algorithms that can learn from data and generalize to unseen data, and thusperform tasks without explicit instructions.[1] Recently, generative artificial neural networks have been able to surpass many previous approaches in performance.Hello how are you ?']"
      ]
     },
     "execution_count": 17,
     "metadata": {},
     "output_type": "execute_result"
    }
   ],
   "source": [
    "file.readlines()"
   ]
  },
  {
   "cell_type": "code",
   "execution_count": 18,
   "id": "7bb261e8",
   "metadata": {},
   "outputs": [
    {
     "data": {
      "text/plain": [
       "3"
      ]
     },
     "execution_count": 18,
     "metadata": {},
     "output_type": "execute_result"
    }
   ],
   "source": [
    "file = open('file.txt','r')\n",
    "file.seek(3)"
   ]
  },
  {
   "cell_type": "code",
   "execution_count": 19,
   "id": "6ec1871a",
   "metadata": {},
   "outputs": [
    {
     "data": {
      "text/plain": [
       "'hine learning (ML) is a field of study in artificial intelligence concerned with the development \\nand study of statistical algorithms that can learn from data and generalize to unseen data, and thus\\n perform tasks without explicit instructions.[1] Recently, generative artificial neural networks hav\\ne been able to surpass many previous approaches in performance.\\nHello how are you ?'"
      ]
     },
     "execution_count": 19,
     "metadata": {},
     "output_type": "execute_result"
    }
   ],
   "source": [
    "file.read()"
   ]
  },
  {
   "cell_type": "code",
   "execution_count": 20,
   "id": "f00ad56c",
   "metadata": {},
   "outputs": [],
   "source": [
    "file.close()"
   ]
  },
  {
   "cell_type": "code",
   "execution_count": 21,
   "id": "8a55b271",
   "metadata": {},
   "outputs": [
    {
     "name": "stdout",
     "output_type": "stream",
     "text": [
      "Supervised learning algorithms build a mathematical model of a set of data that contains both the inupervised learning algorithms build a mathematical model of a set of data that contains both the inppervised learning algorithms build a mathematical model of a set of data that contains both the inpuervised learning algorithms build a mathematical model of a set of data that contains both the inputrvised learning algorithms build a mathematical model of a set of data that contains both the inputsvised learning algorithms build a mathematical model of a set of data that contains both the inputs ised learning algorithms build a mathematical model of a set of data that contains both the inputs ased learning algorithms build a mathematical model of a set of data that contains both the inputs and the desired outputs.[39] The data is known as training data, and consists of a set of training examples. Each training example has one or more inputs and the desired output, also known as a supervisory signal. In the mathematical model, each training example is represented by an array or vector, sometimes called a feature vector, and the training data is represented by a matrix. Through iterative optimization of an objective function, supervised learning algorithms learn a function that can be used to predict the output associated with new inputs.[40] An optimal function allows the algorithm to correctly determine the output for inputs that were not a part of the training data. An algorithm that improves the accuracy of its outputs or predictions over time is said to have learned to perform that task\n"
     ]
    }
   ],
   "source": [
    "with open('Machine.txt','r') as file:\n",
    "    print(file.read())"
   ]
  },
  {
   "cell_type": "code",
   "execution_count": 25,
   "id": "a187e5c9",
   "metadata": {},
   "outputs": [
    {
     "name": "stdout",
     "output_type": "stream",
     "text": [
      "Machine learning (ML) is a field of study in artificial intelligence concerned with the development \n",
      "\n"
     ]
    }
   ],
   "source": [
    "with open('file.txt','r') as file:\n",
    "    print(file.readlines()[0])   #indexing"
   ]
  },
  {
   "cell_type": "code",
   "execution_count": 28,
   "id": "9bba0c29",
   "metadata": {},
   "outputs": [],
   "source": [
    "with open('file.txt', 'w') as file:\n",
    "    file.write('Hello how are you ?')    # Delete the previous data and write the provided string"
   ]
  },
  {
   "cell_type": "code",
   "execution_count": 29,
   "id": "ec760a7b",
   "metadata": {},
   "outputs": [
    {
     "name": "stdout",
     "output_type": "stream",
     "text": [
      "['Hello how are you ?']\n"
     ]
    }
   ],
   "source": [
    "with open('file.txt', 'r') as file:\n",
    "    print(file.readlines())"
   ]
  },
  {
   "cell_type": "code",
   "execution_count": 30,
   "id": "1cc2309b",
   "metadata": {},
   "outputs": [],
   "source": [
    "st = 'Machine learning (ML) is a field of study in artificial intelligence concerned with the development and study of statistical algorithms that can learn from data and generalize to unseen data, and thusperform tasks without explicit instructions.[1] Recently, generative artificial neural networks have been able to surpass many previous approaches in performance.Hello how are you ?'"
   ]
  },
  {
   "cell_type": "code",
   "execution_count": 31,
   "id": "7f0ee0d0",
   "metadata": {},
   "outputs": [
    {
     "name": "stdout",
     "output_type": "stream",
     "text": [
      "enter the part of string : 100\n",
      "enter the part of string : 189\n",
      "enter the part of string : 190\n",
      "enter the part of string : 100\n",
      "enter the part of string : 890\n"
     ]
    }
   ],
   "source": [
    "file = open('ML.txt', 'w')\n",
    "for i in range(len(st)):\n",
    "    n = int(input('enter the part of string : '))\n",
    "    part_string = st[i:i+n]\n",
    "    file.write(part_string)\n",
    "    i = i+n\n",
    "    if i >=len(st):\n",
    "        break"
   ]
  },
  {
   "cell_type": "code",
   "execution_count": 35,
   "id": "8ad408aa",
   "metadata": {},
   "outputs": [],
   "source": [
    "file.close()"
   ]
  },
  {
   "cell_type": "code",
   "execution_count": 36,
   "id": "b3410fdb",
   "metadata": {},
   "outputs": [
    {
     "data": {
      "text/plain": [
       "'Machine learning (ML) is a field of study in artificial intelligence concerned with the development achine learning (ML) is a field of study in artificial intelligence concerned with the development and study of statistical algorithms that can learn from data and generalize to unseen datachine learning (ML) is a field of study in artificial intelligence concerned with the development and study of statistical algorithms that can learn from data and generalize to unseen data, hine learning (ML) is a field of study in artificial intelligence concerned with the development andine learning (ML) is a field of study in artificial intelligence concerned with the development and study of statistical algorithms that can learn from data and generalize to unseen data, and thusperform tasks without explicit instructions.[1] Recently, generative artificial neural networks have been able to surpass many previous approaches in performance.Hello how are you ?'"
      ]
     },
     "execution_count": 36,
     "metadata": {},
     "output_type": "execute_result"
    }
   ],
   "source": [
    "file = open('ML.txt','r')\n",
    "file.read()"
   ]
  },
  {
   "cell_type": "code",
   "execution_count": 37,
   "id": "daf1e3ad",
   "metadata": {},
   "outputs": [],
   "source": [
    "string = \"Supervised learning algorithms build a mathematical model of a set of data that contains both the inputs and the desired outputs.[39] The data is known as training data, and consists of a set of training examples. Each training example has one or more inputs and the desired output, also known as a supervisory signal. In the mathematical model, each training example is represented by an array or vector, sometimes called a feature vector, and the training data is represented by a matrix. Through iterative optimization of an objective function, supervised learning algorithms learn a function that can be used to predict the output associated with new inputs.[40] An optimal function allows the algorithm to correctly determine the output for inputs that were not a part of the training data. An algorithm that improves the accuracy of its outputs or predictions over time is said to have learned to perform that task\""
   ]
  },
  {
   "cell_type": "code",
   "execution_count": 38,
   "id": "58f08ebe",
   "metadata": {},
   "outputs": [],
   "source": [
    "d = {}\n",
    "count = 0\n",
    "idx = 0\n",
    "for i in range(len(string)):\n",
    "    if string[i] == '.':\n",
    "        d[count] = string[idx:i] + '.'\n",
    "        count += 1\n",
    "        idx = i\n",
    "    else:\n",
    "        pass"
   ]
  },
  {
   "cell_type": "code",
   "execution_count": 39,
   "id": "ecabbf8d",
   "metadata": {},
   "outputs": [
    {
     "data": {
      "text/plain": [
       "{0: 'Supervised learning algorithms build a mathematical model of a set of data that contains both the inputs and the desired outputs.',\n",
       " 1: '.[39] The data is known as training data, and consists of a set of training examples.',\n",
       " 2: '. Each training example has one or more inputs and the desired output, also known as a supervisory signal.',\n",
       " 3: '. In the mathematical model, each training example is represented by an array or vector, sometimes called a feature vector, and the training data is represented by a matrix.',\n",
       " 4: '. Through iterative optimization of an objective function, supervised learning algorithms learn a function that can be used to predict the output associated with new inputs.',\n",
       " 5: '.[40] An optimal function allows the algorithm to correctly determine the output for inputs that were not a part of the training data.'}"
      ]
     },
     "execution_count": 39,
     "metadata": {},
     "output_type": "execute_result"
    }
   ],
   "source": [
    "d"
   ]
  },
  {
   "cell_type": "code",
   "execution_count": 40,
   "id": "f0f843e2",
   "metadata": {},
   "outputs": [],
   "source": [
    "# different method using split function"
   ]
  },
  {
   "cell_type": "code",
   "execution_count": 43,
   "id": "4cdf6b5a",
   "metadata": {},
   "outputs": [],
   "source": [
    "string = \"Supervised learning algorithms build a mathematical model of a set of data that contains both the inputs and the desired outputs.[39] The data is known as training data, and consists of a set of training examples. Each training example has one or more inputs and the desired output, also known as a supervisory signal. In the mathematical model, each training example is represented by an array or vector, sometimes called a feature vector, and the training data is represented by a matrix. Through iterative optimization of an objective function, supervised learning algorithms learn a function that can be used to predict the output associated with new inputs.[40] An optimal function allows the algorithm to correctly determine the output for inputs that were not a part of the training data. An algorithm that improves the accuracy of its outputs or predictions over time is said to have learned to perform that task\"\n"
   ]
  },
  {
   "cell_type": "code",
   "execution_count": 44,
   "id": "de249e52",
   "metadata": {},
   "outputs": [],
   "source": [
    "d = {}\n",
    "l = string.split('.')\n",
    "count = 0\n",
    "for i in l:\n",
    "    d[count] = i\n",
    "    count+=1"
   ]
  },
  {
   "cell_type": "code",
   "execution_count": 45,
   "id": "5dcc2d5a",
   "metadata": {},
   "outputs": [
    {
     "data": {
      "text/plain": [
       "{0: 'Supervised learning algorithms build a mathematical model of a set of data that contains both the inputs and the desired outputs',\n",
       " 1: '[39] The data is known as training data, and consists of a set of training examples',\n",
       " 2: ' Each training example has one or more inputs and the desired output, also known as a supervisory signal',\n",
       " 3: ' In the mathematical model, each training example is represented by an array or vector, sometimes called a feature vector, and the training data is represented by a matrix',\n",
       " 4: ' Through iterative optimization of an objective function, supervised learning algorithms learn a function that can be used to predict the output associated with new inputs',\n",
       " 5: '[40] An optimal function allows the algorithm to correctly determine the output for inputs that were not a part of the training data',\n",
       " 6: ' An algorithm that improves the accuracy of its outputs or predictions over time is said to have learned to perform that task'}"
      ]
     },
     "execution_count": 45,
     "metadata": {},
     "output_type": "execute_result"
    }
   ],
   "source": [
    "d"
   ]
  },
  {
   "cell_type": "markdown",
   "id": "f8fbac1c",
   "metadata": {},
   "source": [
    "# Error Handling"
   ]
  },
  {
   "cell_type": "code",
   "execution_count": 46,
   "id": "d7c6663d",
   "metadata": {},
   "outputs": [],
   "source": [
    "def divider(a,b):\n",
    "    return a/b"
   ]
  },
  {
   "cell_type": "code",
   "execution_count": 47,
   "id": "e475afe6",
   "metadata": {},
   "outputs": [
    {
     "ename": "ZeroDivisionError",
     "evalue": "division by zero",
     "output_type": "error",
     "traceback": [
      "\u001b[1;31m---------------------------------------------------------------------------\u001b[0m",
      "\u001b[1;31mZeroDivisionError\u001b[0m                         Traceback (most recent call last)",
      "Cell \u001b[1;32mIn[47], line 1\u001b[0m\n\u001b[1;32m----> 1\u001b[0m divider(\u001b[38;5;241m10\u001b[39m,\u001b[38;5;241m0\u001b[39m)\n",
      "Cell \u001b[1;32mIn[46], line 2\u001b[0m, in \u001b[0;36mdivider\u001b[1;34m(a, b)\u001b[0m\n\u001b[0;32m      1\u001b[0m \u001b[38;5;28;01mdef\u001b[39;00m \u001b[38;5;21mdivider\u001b[39m(a,b):\n\u001b[1;32m----> 2\u001b[0m     \u001b[38;5;28;01mreturn\u001b[39;00m a\u001b[38;5;241m/\u001b[39mb\n",
      "\u001b[1;31mZeroDivisionError\u001b[0m: division by zero"
     ]
    }
   ],
   "source": [
    "divider(10,0)"
   ]
  },
  {
   "cell_type": "markdown",
   "id": "5e9df37f",
   "metadata": {},
   "source": [
    "# How to handle this error"
   ]
  },
  {
   "cell_type": "code",
   "execution_count": 49,
   "id": "cead8f39",
   "metadata": {},
   "outputs": [],
   "source": [
    "def divider(a,b):\n",
    "    try:\n",
    "        return a/b\n",
    "    except ZeroDivisionError:\n",
    "        print('something went wrong')"
   ]
  },
  {
   "cell_type": "code",
   "execution_count": 50,
   "id": "9b95a4c3",
   "metadata": {},
   "outputs": [
    {
     "name": "stdout",
     "output_type": "stream",
     "text": [
      "something went wrong\n"
     ]
    }
   ],
   "source": [
    "divider(10,0)"
   ]
  },
  {
   "cell_type": "code",
   "execution_count": 54,
   "id": "b5a64548",
   "metadata": {},
   "outputs": [],
   "source": [
    "def divider(a,b):\n",
    "    try:\n",
    "        return a/b\n",
    "    except TypeError:\n",
    "        print('Hello')\n",
    "    except ZeroDivisionError:\n",
    "        print('something went wrong')    "
   ]
  },
  {
   "cell_type": "code",
   "execution_count": 57,
   "id": "e866ec49",
   "metadata": {},
   "outputs": [
    {
     "name": "stdout",
     "output_type": "stream",
     "text": [
      "something went wrong\n"
     ]
    }
   ],
   "source": [
    "divider(9,0)"
   ]
  },
  {
   "cell_type": "code",
   "execution_count": 58,
   "id": "38a2f420",
   "metadata": {},
   "outputs": [
    {
     "name": "stdout",
     "output_type": "stream",
     "text": [
      "Hello\n"
     ]
    }
   ],
   "source": [
    "divider('wr','33')"
   ]
  },
  {
   "cell_type": "markdown",
   "id": "3bdb7344",
   "metadata": {},
   "source": [
    "# Json file"
   ]
  },
  {
   "cell_type": "markdown",
   "id": "464a382d",
   "metadata": {},
   "source": [
    "# fastest way to access data "
   ]
  },
  {
   "cell_type": "code",
   "execution_count": 65,
   "id": "4941f260",
   "metadata": {
    "collapsed": true
   },
   "outputs": [
    {
     "name": "stdout",
     "output_type": "stream",
     "text": [
      "\n",
      "{\n",
      "    \"intents\": [\n",
      "\n",
      "        \n",
      "        {\n",
      "            \"tag\":\"greeting\",\n",
      "            \"patterns\":[\"hello\",\"hii\",\"hey\",\"wake up\",\"jarvis\"\n",
      "            ],\n",
      "            \"responses\":[\"Hello Sir\",\"How Are You Sir.\",\"Always For You Sir\",\n",
      "                \"Hello\",\"Here's Your Assistant.\"\n",
      "            ]\n",
      "        },\n",
      "        {\n",
      "            \"tag\":\"bye\",\n",
      "            \"patterns\":[\"bye\",\"goodbye\",\"see you later\",\"sleep\",\"exit\"\n",
      "            ],\n",
      "            \"responses\":[\"Bye.\",\"I am Going.\",\"Bye Sir.\",\"Good Bye\",\n",
      "                \"It'll be Nice To Meet You Again.\",\"See You Later\"\n",
      "            ]\n",
      "        },\n",
      "        {\n",
      "            \"tag\":\"health\",\n",
      "            \"patterns\":[\"how are you\",\"how you\",\"are you fine?\",\"are you good\"\n",
      "            ],\n",
      "            \"responses\":[\"Fine.\",\"Perfect.\",\"Cool.\",\n",
      "                \"Like You.\",\"Are you Fine? I'm Fine.\"\n",
      "            ]\n",
      "        },\n",
      "        {\n",
      "            \"tag\":\"personal\",\n",
      "            \"patterns\":[\"naam kya hai tumhara\",\"what is your name\",\"your name\",\"who are you\"\n",
      "            ],\n",
      "            \"responses\":[\"Jarvis\",\"your personal AI.\",\"this is Jarvis sir\",\n",
      "                \"unlike human i'm just an ai.\",\"this is jarvis, Are you Fine?\"\n",
      "            ]\n",
      "        },\n",
      "        {\n",
      "            \"tag\": \"age\",\n",
      "            \"patterns\": [\n",
      "                \"how old are you\",\"when were you made\",\"what is your age\"\n",
      "            ],\n",
      "            \"responses\": [\n",
      "                \"I was made in 2023, if that's what you are asking!\"\n",
      "            ]\n",
      "        },\n",
      "        {\n",
      "            \"tag\": \"time\",\n",
      "            \"patterns\": [\n",
      "                \"time btao\",\"samay batao\",\"what's the time\"\n",
      "            ],\n",
      "            \"responses\": [\n",
      "                \"time\"\n",
      "            ]\n",
      "        },\n",
      "        {\n",
      "            \"tag\": \"date\",\n",
      "            \"patterns\": [\n",
      "                \"date\",\"tareek\",\"what is the date today\"\n",
      "            ],\n",
      "            \"responses\": [\n",
      "                \"date\"\n",
      "            ]\n",
      "        },\n",
      "        {\n",
      "            \"tag\": \"day\",\n",
      "            \"patterns\": [\n",
      "                \"what is day today\",\"aaj konsa din hai\",\"jarvis today is\"\n",
      "            ],\n",
      "            \"responses\": [\n",
      "                \"day\"\n",
      "            ]\n",
      "        },\n",
      "        {\n",
      "            \"tag\": \"music \",\n",
      "            \"patterns\": [\n",
      "                \"play any song\",\"media player on laptop\",\"mein se\",\"random song\",\"music sunao\",\"on\"\n",
      "            ],\n",
      "            \"responses\": [\n",
      "                \"music\"\n",
      "            ]\n",
      "        },\n",
      "        {\n",
      "            \"tag\": \"virtual studio\",\n",
      "            \"patterns\": [\n",
      "                \"lets code\",\"open vscode\",\"open my studio\",\"need to do some optimization in you\"\n",
      "            ],\n",
      "            \"responses\": [\n",
      "                \"virtual studio\"\n",
      "            ]\n",
      "        },\n",
      "        {\n",
      "            \"tag\": \"whatsapp\",\n",
      "            \"patterns\": [\n",
      "                \"whatsapp\",\"whatsapp web\",\"chatting\"\n",
      "            ],\n",
      "            \"responses\": [\n",
      "                \"whatsapp\"\n",
      "            ]\n",
      "        },\n",
      "        {\n",
      "            \"tag\": \"telegram\",\n",
      "            \"patterns\": [\"show telegram\",\"telegram bot\",\"save image on telegram\",\"send image on telegram\",\"check my telegram\"],\n",
      "            \"responses\": [\"telegram\"]\n",
      "        },\n",
      "        {\n",
      "            \"tag\": \"instagram\",\n",
      "            \"patterns\": [\"insta\",\"upload\",\"instagram\",\"reels\",\"pic\", \"like a post\",\"post\", \"share\",\"follow a user\"],\n",
      "            \"responses\": [\"instagram\"]\n",
      "        },\n",
      "        {\n",
      "            \"tag\": \"location\",\n",
      "            \"patterns\": [\"my location\", \"locate me\",\"find me\",\"find my\",\"dhundh mujhe\",\"merko dhundho\",\"location bata\",\"location kya hai neri\"],\n",
      "            \"responses\": [\"location\"]\n",
      "        },\n",
      "        {\n",
      "            \"tag\": \"screenshot\",\n",
      "            \"patterns\": [\"screen\", \"ss\", \"take screen\",\"take screen shot\",\"take ss\"],\n",
      "            \"responses\": [\"screenshot\"]\n",
      "        },\n",
      "        {\n",
      "            \"tag\": \"github\",\n",
      "            \"patterns\": [\"github\",\"github khol mera\", \"repository\", \"github page\",\"kar github par\",\"source code\",\"data science\",\"project\"],\n",
      "            \"responses\": [\"github\"]\n",
      "        },\n",
      "        {\n",
      "            \"tag\": \"alarm\",\n",
      "            \"patterns\": [\"alarm\",\"set alarm\", \"subha\", \"utha dena\",\"5 bje\",\"utha dio\",\"mera alarm set\"],\n",
      "            \"responses\": [\"alarm\"]\n",
      "        }\n",
      "        \n",
      "    ]\n",
      "}\n",
      "\n",
      "\n",
      "\n"
     ]
    }
   ],
   "source": [
    "with open('intent.json','r') as file:\n",
    "    print(file.read())"
   ]
  },
  {
   "cell_type": "code",
   "execution_count": 67,
   "id": "72bcdb23",
   "metadata": {
    "collapsed": true
   },
   "outputs": [
    {
     "name": "stdout",
     "output_type": "stream",
     "text": [
      "\n",
      "{\n",
      "    \"intents\": [\n",
      "\n",
      "        \n",
      "        {\n",
      "            \"tag\":\"greeting\",\n",
      "            \"patterns\":[\"hello\",\"hii\",\"hey\",\"wake up\",\"jarvis\"\n",
      "            ],\n",
      "            \"responses\":[\"Hello Sir\",\"How Are You Si\n"
     ]
    }
   ],
   "source": [
    "with open('intent.json','r') as file:\n",
    "    print(file.read(200))"
   ]
  },
  {
   "cell_type": "markdown",
   "id": "92ae9ceb",
   "metadata": {},
   "source": [
    "# This is very bad way of treating a json file. the above code consider json file as a string"
   ]
  },
  {
   "cell_type": "code",
   "execution_count": 3,
   "id": "557a171a",
   "metadata": {},
   "outputs": [],
   "source": [
    "import json"
   ]
  },
  {
   "cell_type": "code",
   "execution_count": 82,
   "id": "86ad31fa",
   "metadata": {},
   "outputs": [],
   "source": [
    "with open('intent.json','r') as file:\n",
    "    text = json.load(file) \n",
    "    \n",
    "    #convert the json file to dictionary"
   ]
  },
  {
   "cell_type": "code",
   "execution_count": 83,
   "id": "7473ea2d",
   "metadata": {
    "collapsed": true
   },
   "outputs": [
    {
     "data": {
      "text/plain": [
       "{'intents': [{'tag': 'greeting',\n",
       "   'patterns': ['hello', 'hii', 'hey', 'wake up', 'jarvis'],\n",
       "   'responses': ['Hello Sir',\n",
       "    'How Are You Sir.',\n",
       "    'Always For You Sir',\n",
       "    'Hello',\n",
       "    \"Here's Your Assistant.\"]},\n",
       "  {'tag': 'bye',\n",
       "   'patterns': ['bye', 'goodbye', 'see you later', 'sleep', 'exit'],\n",
       "   'responses': ['Bye.',\n",
       "    'I am Going.',\n",
       "    'Bye Sir.',\n",
       "    'Good Bye',\n",
       "    \"It'll be Nice To Meet You Again.\",\n",
       "    'See You Later']},\n",
       "  {'tag': 'health',\n",
       "   'patterns': ['how are you', 'how you', 'are you fine?', 'are you good'],\n",
       "   'responses': ['Fine.',\n",
       "    'Perfect.',\n",
       "    'Cool.',\n",
       "    'Like You.',\n",
       "    \"Are you Fine? I'm Fine.\"]},\n",
       "  {'tag': 'personal',\n",
       "   'patterns': ['naam kya hai tumhara',\n",
       "    'what is your name',\n",
       "    'your name',\n",
       "    'who are you'],\n",
       "   'responses': ['Jarvis',\n",
       "    'your personal AI.',\n",
       "    'this is Jarvis sir',\n",
       "    \"unlike human i'm just an ai.\",\n",
       "    'this is jarvis, Are you Fine?']},\n",
       "  {'tag': 'age',\n",
       "   'patterns': ['how old are you', 'when were you made', 'what is your age'],\n",
       "   'responses': [\"I was made in 2023, if that's what you are asking!\"]},\n",
       "  {'tag': 'time',\n",
       "   'patterns': ['time btao', 'samay batao', \"what's the time\"],\n",
       "   'responses': ['time']},\n",
       "  {'tag': 'date',\n",
       "   'patterns': ['date', 'tareek', 'what is the date today'],\n",
       "   'responses': ['date']},\n",
       "  {'tag': 'day',\n",
       "   'patterns': ['what is day today', 'aaj konsa din hai', 'jarvis today is'],\n",
       "   'responses': ['day']},\n",
       "  {'tag': 'music ',\n",
       "   'patterns': ['play any song',\n",
       "    'media player on laptop',\n",
       "    'mein se',\n",
       "    'random song',\n",
       "    'music sunao',\n",
       "    'on'],\n",
       "   'responses': ['music']},\n",
       "  {'tag': 'virtual studio',\n",
       "   'patterns': ['lets code',\n",
       "    'open vscode',\n",
       "    'open my studio',\n",
       "    'need to do some optimization in you'],\n",
       "   'responses': ['virtual studio']},\n",
       "  {'tag': 'whatsapp',\n",
       "   'patterns': ['whatsapp', 'whatsapp web', 'chatting'],\n",
       "   'responses': ['whatsapp']},\n",
       "  {'tag': 'telegram',\n",
       "   'patterns': ['show telegram',\n",
       "    'telegram bot',\n",
       "    'save image on telegram',\n",
       "    'send image on telegram',\n",
       "    'check my telegram'],\n",
       "   'responses': ['telegram']},\n",
       "  {'tag': 'instagram',\n",
       "   'patterns': ['insta',\n",
       "    'upload',\n",
       "    'instagram',\n",
       "    'reels',\n",
       "    'pic',\n",
       "    'like a post',\n",
       "    'post',\n",
       "    'share',\n",
       "    'follow a user'],\n",
       "   'responses': ['instagram']},\n",
       "  {'tag': 'location',\n",
       "   'patterns': ['my location',\n",
       "    'locate me',\n",
       "    'find me',\n",
       "    'find my',\n",
       "    'dhundh mujhe',\n",
       "    'merko dhundho',\n",
       "    'location bata',\n",
       "    'location kya hai neri'],\n",
       "   'responses': ['location']},\n",
       "  {'tag': 'screenshot',\n",
       "   'patterns': ['screen', 'ss', 'take screen', 'take screen shot', 'take ss'],\n",
       "   'responses': ['screenshot']},\n",
       "  {'tag': 'github',\n",
       "   'patterns': ['github',\n",
       "    'github khol mera',\n",
       "    'repository',\n",
       "    'github page',\n",
       "    'kar github par',\n",
       "    'source code',\n",
       "    'data science',\n",
       "    'project'],\n",
       "   'responses': ['github']},\n",
       "  {'tag': 'alarm',\n",
       "   'patterns': ['alarm',\n",
       "    'set alarm',\n",
       "    'subha',\n",
       "    'utha dena',\n",
       "    '5 bje',\n",
       "    'utha dio',\n",
       "    'mera alarm set'],\n",
       "   'responses': ['alarm']}]}"
      ]
     },
     "execution_count": 83,
     "metadata": {},
     "output_type": "execute_result"
    }
   ],
   "source": [
    "text  # here this is a dictionary but in previous code it consider as a string"
   ]
  },
  {
   "cell_type": "code",
   "execution_count": 84,
   "id": "042f89be",
   "metadata": {},
   "outputs": [
    {
     "name": "stdout",
     "output_type": "stream",
     "text": [
      "greeting\n"
     ]
    }
   ],
   "source": [
    "print(text['intents'][0]['tag'])"
   ]
  },
  {
   "cell_type": "markdown",
   "id": "9581e63e",
   "metadata": {},
   "source": [
    "# Now convert the dictionary to json file"
   ]
  },
  {
   "cell_type": "code",
   "execution_count": 12,
   "id": "8f34598b",
   "metadata": {},
   "outputs": [],
   "source": [
    "d = {\n",
    "    'a':1,\n",
    "    'b':'St'\n",
    "}"
   ]
  },
  {
   "cell_type": "code",
   "execution_count": 13,
   "id": "aa03d9e6",
   "metadata": {},
   "outputs": [],
   "source": [
    "with open('dummy.json','w') as file:\n",
    "    json.dump(d,file)"
   ]
  },
  {
   "cell_type": "code",
   "execution_count": 14,
   "id": "4065797a",
   "metadata": {},
   "outputs": [
    {
     "name": "stdout",
     "output_type": "stream",
     "text": [
      "{'a': 1, 'b': 'St'}\n"
     ]
    }
   ],
   "source": [
    "with open('dummy.json','r') as file:\n",
    "    print(json.load(file))\n",
    "    "
   ]
  },
  {
   "cell_type": "code",
   "execution_count": 8,
   "id": "a3144739",
   "metadata": {},
   "outputs": [],
   "source": [
    "json.dump?"
   ]
  },
  {
   "cell_type": "code",
   "execution_count": 15,
   "id": "9ce9fc5b",
   "metadata": {},
   "outputs": [],
   "source": [
    "d['c'] = '1234'\n",
    "with open('dummy.json','w') as file:\n",
    "    json.dump(d, file)"
   ]
  },
  {
   "cell_type": "code",
   "execution_count": 16,
   "id": "1d0ff15c",
   "metadata": {},
   "outputs": [
    {
     "name": "stdout",
     "output_type": "stream",
     "text": [
      "{'a': 1, 'b': 'St', 'c': '1234'}\n"
     ]
    }
   ],
   "source": [
    "with open('dummy.json','r') as file:\n",
    "    print(json.load(file))\n",
    "    "
   ]
  },
  {
   "cell_type": "code",
   "execution_count": null,
   "id": "36e09240",
   "metadata": {},
   "outputs": [],
   "source": [
    "# now again converts the dictionary to string"
   ]
  },
  {
   "cell_type": "code",
   "execution_count": 117,
   "id": "b480b90f",
   "metadata": {},
   "outputs": [],
   "source": [
    "str_ = json.dumps(d)"
   ]
  },
  {
   "cell_type": "code",
   "execution_count": 119,
   "id": "dbf1b71a",
   "metadata": {},
   "outputs": [
    {
     "data": {
      "text/plain": [
       "'{\"a\": 1, \"b\": \"St\", \"c\": \"1234\"}'"
      ]
     },
     "execution_count": 119,
     "metadata": {},
     "output_type": "execute_result"
    }
   ],
   "source": [
    "str_  # now this is string"
   ]
  },
  {
   "cell_type": "markdown",
   "id": "20ffb013",
   "metadata": {},
   "source": [
    "# NumPy"
   ]
  },
  {
   "cell_type": "code",
   "execution_count": 17,
   "id": "8803db0c",
   "metadata": {},
   "outputs": [],
   "source": [
    "import numpy as np"
   ]
  },
  {
   "cell_type": "code",
   "execution_count": 18,
   "id": "4f508eea",
   "metadata": {},
   "outputs": [],
   "source": [
    "a = np.array([1,2,3,4,5])"
   ]
  },
  {
   "cell_type": "code",
   "execution_count": 19,
   "id": "a920899d",
   "metadata": {},
   "outputs": [
    {
     "data": {
      "text/plain": [
       "numpy.ndarray"
      ]
     },
     "execution_count": 19,
     "metadata": {},
     "output_type": "execute_result"
    }
   ],
   "source": [
    "type(a)"
   ]
  },
  {
   "cell_type": "code",
   "execution_count": 20,
   "id": "3dd78c4e",
   "metadata": {},
   "outputs": [
    {
     "data": {
      "text/plain": [
       "(5,)"
      ]
     },
     "execution_count": 20,
     "metadata": {},
     "output_type": "execute_result"
    }
   ],
   "source": [
    "a.shape"
   ]
  },
  {
   "cell_type": "code",
   "execution_count": 21,
   "id": "4c1f6f2e",
   "metadata": {},
   "outputs": [],
   "source": [
    "a = np.array([[1],[2],[3],[4]])"
   ]
  },
  {
   "cell_type": "code",
   "execution_count": 22,
   "id": "7848c4f0",
   "metadata": {},
   "outputs": [
    {
     "data": {
      "text/plain": [
       "(4, 1)"
      ]
     },
     "execution_count": 22,
     "metadata": {},
     "output_type": "execute_result"
    }
   ],
   "source": [
    "a.shape"
   ]
  },
  {
   "cell_type": "code",
   "execution_count": 23,
   "id": "1405d4a4",
   "metadata": {},
   "outputs": [],
   "source": [
    "a = np.array([[1, 3], \n",
    "              [3, 4],\n",
    "             [3,44]])"
   ]
  },
  {
   "cell_type": "code",
   "execution_count": 24,
   "id": "96cf10bb",
   "metadata": {},
   "outputs": [
    {
     "data": {
      "text/plain": [
       "(3, 2)"
      ]
     },
     "execution_count": 24,
     "metadata": {},
     "output_type": "execute_result"
    }
   ],
   "source": [
    "a.shape"
   ]
  },
  {
   "cell_type": "code",
   "execution_count": 25,
   "id": "db046071",
   "metadata": {},
   "outputs": [
    {
     "data": {
      "text/plain": [
       "array([[0., 0., 0.],\n",
       "       [0., 0., 0.],\n",
       "       [0., 0., 0.]])"
      ]
     },
     "execution_count": 25,
     "metadata": {},
     "output_type": "execute_result"
    }
   ],
   "source": [
    "np.zeros((3,3))"
   ]
  },
  {
   "cell_type": "code",
   "execution_count": 26,
   "id": "6583f1e0",
   "metadata": {},
   "outputs": [
    {
     "data": {
      "text/plain": [
       "array([[1., 1., 1.],\n",
       "       [1., 1., 1.],\n",
       "       [1., 1., 1.]])"
      ]
     },
     "execution_count": 26,
     "metadata": {},
     "output_type": "execute_result"
    }
   ],
   "source": [
    "np.ones((3,3))"
   ]
  },
  {
   "cell_type": "code",
   "execution_count": 28,
   "id": "1ff02154",
   "metadata": {},
   "outputs": [
    {
     "data": {
      "text/plain": [
       "array([[1., 0., 0.],\n",
       "       [0., 1., 0.],\n",
       "       [0., 0., 1.]])"
      ]
     },
     "execution_count": 28,
     "metadata": {},
     "output_type": "execute_result"
    }
   ],
   "source": [
    "np.eye(3,3)"
   ]
  },
  {
   "cell_type": "code",
   "execution_count": 29,
   "id": "4e7204de",
   "metadata": {},
   "outputs": [
    {
     "data": {
      "text/plain": [
       "array([[0.44251755, 0.71988201, 0.59963642],\n",
       "       [0.4610237 , 0.58298742, 0.18040315],\n",
       "       [0.25138671, 0.87724376, 0.37118566]])"
      ]
     },
     "execution_count": 29,
     "metadata": {},
     "output_type": "execute_result"
    }
   ],
   "source": [
    "np.random.random((3,3))"
   ]
  },
  {
   "cell_type": "code",
   "execution_count": 30,
   "id": "b9a7e67b",
   "metadata": {},
   "outputs": [
    {
     "data": {
      "text/plain": [
       "array([[5, 5, 5],\n",
       "       [5, 5, 5],\n",
       "       [5, 5, 5]])"
      ]
     },
     "execution_count": 30,
     "metadata": {},
     "output_type": "execute_result"
    }
   ],
   "source": [
    "np.full((3,3), 5)"
   ]
  },
  {
   "cell_type": "code",
   "execution_count": 31,
   "id": "7978dad3",
   "metadata": {},
   "outputs": [],
   "source": [
    "a = np.random.random((5,5))"
   ]
  },
  {
   "cell_type": "code",
   "execution_count": 32,
   "id": "c9c1492f",
   "metadata": {},
   "outputs": [
    {
     "data": {
      "text/plain": [
       "array([[0.18425932, 0.20732883, 0.31629626, 0.86686663, 0.97540775],\n",
       "       [0.22092176, 0.57877332, 0.06190764, 0.78348159, 0.33795186],\n",
       "       [0.41614651, 0.85643398, 0.86580689, 0.90849643, 0.40606574],\n",
       "       [0.13774473, 0.88284791, 0.03291847, 0.19535334, 0.99476738],\n",
       "       [0.05605704, 0.2614421 , 0.42733855, 0.37098481, 0.5559262 ]])"
      ]
     },
     "execution_count": 32,
     "metadata": {},
     "output_type": "execute_result"
    }
   ],
   "source": [
    "a"
   ]
  },
  {
   "cell_type": "code",
   "execution_count": 33,
   "id": "f2fea39e",
   "metadata": {},
   "outputs": [
    {
     "data": {
      "text/plain": [
       "array([[0.18425932, 0.20732883, 0.31629626, 0.86686663, 0.97540775],\n",
       "       [0.22092176, 0.57877332, 0.06190764, 0.78348159, 0.33795186],\n",
       "       [0.41614651, 0.85643398, 0.86580689, 0.90849643, 0.40606574],\n",
       "       [0.13774473, 0.88284791, 0.03291847, 0.19535334, 0.99476738],\n",
       "       [0.05605704, 0.2614421 , 0.42733855, 0.37098481, 0.5559262 ]])"
      ]
     },
     "execution_count": 33,
     "metadata": {},
     "output_type": "execute_result"
    }
   ],
   "source": [
    "a[:]"
   ]
  },
  {
   "cell_type": "code",
   "execution_count": 34,
   "id": "2ab37626",
   "metadata": {},
   "outputs": [
    {
     "data": {
      "text/plain": [
       "array([[0.18425932, 0.20732883, 0.31629626, 0.86686663, 0.97540775],\n",
       "       [0.22092176, 0.57877332, 0.06190764, 0.78348159, 0.33795186],\n",
       "       [0.41614651, 0.85643398, 0.86580689, 0.90849643, 0.40606574],\n",
       "       [0.13774473, 0.88284791, 0.03291847, 0.19535334, 0.99476738]])"
      ]
     },
     "execution_count": 34,
     "metadata": {},
     "output_type": "execute_result"
    }
   ],
   "source": [
    "a[:4]"
   ]
  },
  {
   "cell_type": "code",
   "execution_count": 35,
   "id": "6d7cf1ba",
   "metadata": {},
   "outputs": [
    {
     "data": {
      "text/plain": [
       "array([0.86686663, 0.78348159, 0.90849643, 0.19535334])"
      ]
     },
     "execution_count": 35,
     "metadata": {},
     "output_type": "execute_result"
    }
   ],
   "source": [
    "a[:4,3]"
   ]
  },
  {
   "cell_type": "code",
   "execution_count": 36,
   "id": "1f17d42a",
   "metadata": {},
   "outputs": [
    {
     "data": {
      "text/plain": [
       "array([[0.18425932, 0.20732883, 0.31629626, 0.86686663, 0.97540775],\n",
       "       [0.22092176, 0.57877332, 0.06190764, 0.78348159, 0.33795186]])"
      ]
     },
     "execution_count": 36,
     "metadata": {},
     "output_type": "execute_result"
    }
   ],
   "source": [
    "a[:2,:5]"
   ]
  },
  {
   "cell_type": "code",
   "execution_count": 37,
   "id": "49e35440",
   "metadata": {},
   "outputs": [],
   "source": [
    "x = np.array([[1, 2], \n",
    "              [3, 4]])\n",
    "\n",
    "y = np.array([[5, 4], \n",
    "              [6, 9]])"
   ]
  },
  {
   "cell_type": "code",
   "execution_count": 38,
   "id": "62cf18d5",
   "metadata": {},
   "outputs": [
    {
     "data": {
      "text/plain": [
       "array([[ 6,  6],\n",
       "       [ 9, 13]])"
      ]
     },
     "execution_count": 38,
     "metadata": {},
     "output_type": "execute_result"
    }
   ],
   "source": [
    "x + y "
   ]
  },
  {
   "cell_type": "code",
   "execution_count": 39,
   "id": "d76b1ba7",
   "metadata": {},
   "outputs": [
    {
     "data": {
      "text/plain": [
       "array([[-4, -2],\n",
       "       [-3, -5]])"
      ]
     },
     "execution_count": 39,
     "metadata": {},
     "output_type": "execute_result"
    }
   ],
   "source": [
    "x-y"
   ]
  },
  {
   "cell_type": "code",
   "execution_count": 40,
   "id": "2a69b3c1",
   "metadata": {},
   "outputs": [
    {
     "data": {
      "text/plain": [
       "array([[ 5,  8],\n",
       "       [18, 36]])"
      ]
     },
     "execution_count": 40,
     "metadata": {},
     "output_type": "execute_result"
    }
   ],
   "source": [
    "x*y"
   ]
  },
  {
   "cell_type": "code",
   "execution_count": 41,
   "id": "dbd11509",
   "metadata": {},
   "outputs": [
    {
     "data": {
      "text/plain": [
       "array([[0.2       , 0.5       ],\n",
       "       [0.5       , 0.44444444]])"
      ]
     },
     "execution_count": 41,
     "metadata": {},
     "output_type": "execute_result"
    }
   ],
   "source": [
    "x/y"
   ]
  },
  {
   "cell_type": "code",
   "execution_count": 42,
   "id": "7500637c",
   "metadata": {},
   "outputs": [
    {
     "data": {
      "text/plain": [
       "array([[ 6,  6],\n",
       "       [ 9, 13]])"
      ]
     },
     "execution_count": 42,
     "metadata": {},
     "output_type": "execute_result"
    }
   ],
   "source": [
    "np.add(x,y)"
   ]
  },
  {
   "cell_type": "code",
   "execution_count": 43,
   "id": "8f3e550e",
   "metadata": {},
   "outputs": [
    {
     "data": {
      "text/plain": [
       "array([[-4, -2],\n",
       "       [-3, -5]])"
      ]
     },
     "execution_count": 43,
     "metadata": {},
     "output_type": "execute_result"
    }
   ],
   "source": [
    "np.subtract(x, y)"
   ]
  },
  {
   "cell_type": "code",
   "execution_count": 44,
   "id": "56b2961b",
   "metadata": {},
   "outputs": [
    {
     "data": {
      "text/plain": [
       "array([[ 5,  8],\n",
       "       [18, 36]])"
      ]
     },
     "execution_count": 44,
     "metadata": {},
     "output_type": "execute_result"
    }
   ],
   "source": [
    "np.multiply(x,y)"
   ]
  },
  {
   "cell_type": "code",
   "execution_count": 45,
   "id": "8a7112cc",
   "metadata": {},
   "outputs": [
    {
     "data": {
      "text/plain": [
       "array([[0.2       , 0.5       ],\n",
       "       [0.5       , 0.44444444]])"
      ]
     },
     "execution_count": 45,
     "metadata": {},
     "output_type": "execute_result"
    }
   ],
   "source": [
    "np.divide(x,y)"
   ]
  },
  {
   "cell_type": "code",
   "execution_count": 46,
   "id": "83c32c93",
   "metadata": {},
   "outputs": [
    {
     "data": {
      "text/plain": [
       "12.0"
      ]
     },
     "execution_count": 46,
     "metadata": {},
     "output_type": "execute_result"
    }
   ],
   "source": [
    "np.sqrt(144)"
   ]
  },
  {
   "cell_type": "code",
   "execution_count": 47,
   "id": "8a15bb2a",
   "metadata": {},
   "outputs": [
    {
     "data": {
      "text/plain": [
       "array([[17, 22],\n",
       "       [39, 48]])"
      ]
     },
     "execution_count": 47,
     "metadata": {},
     "output_type": "execute_result"
    }
   ],
   "source": [
    "np.matmul(x,y)"
   ]
  },
  {
   "cell_type": "code",
   "execution_count": 48,
   "id": "8772533d",
   "metadata": {},
   "outputs": [
    {
     "data": {
      "text/plain": [
       "array([[17, 22],\n",
       "       [39, 48]])"
      ]
     },
     "execution_count": 48,
     "metadata": {},
     "output_type": "execute_result"
    }
   ],
   "source": [
    "np.dot(x,y)"
   ]
  },
  {
   "cell_type": "code",
   "execution_count": 49,
   "id": "b4b60e05",
   "metadata": {},
   "outputs": [
    {
     "data": {
      "text/plain": [
       "array([[17, 22],\n",
       "       [39, 48]])"
      ]
     },
     "execution_count": 49,
     "metadata": {},
     "output_type": "execute_result"
    }
   ],
   "source": [
    "x.dot(y)"
   ]
  },
  {
   "cell_type": "code",
   "execution_count": 50,
   "id": "3a757228",
   "metadata": {},
   "outputs": [
    {
     "data": {
      "text/plain": [
       "array([[17, 22],\n",
       "       [39, 48]])"
      ]
     },
     "execution_count": 50,
     "metadata": {},
     "output_type": "execute_result"
    }
   ],
   "source": [
    "x@y"
   ]
  },
  {
   "cell_type": "code",
   "execution_count": 51,
   "id": "a9dd86a7",
   "metadata": {},
   "outputs": [],
   "source": [
    "x = np.array([1,2,3,4,5,6,7])\n",
    "\n",
    "y = np.array([1,2,3,4,5,6,7])"
   ]
  },
  {
   "cell_type": "code",
   "execution_count": 52,
   "id": "53a0721b",
   "metadata": {},
   "outputs": [
    {
     "data": {
      "text/plain": [
       "28"
      ]
     },
     "execution_count": 52,
     "metadata": {},
     "output_type": "execute_result"
    }
   ],
   "source": [
    "np.sum(x, axis = 0)"
   ]
  },
  {
   "cell_type": "code",
   "execution_count": 54,
   "id": "544c76a9",
   "metadata": {},
   "outputs": [],
   "source": [
    "A = np.stack((x,y), axis = 0)"
   ]
  },
  {
   "cell_type": "code",
   "execution_count": 57,
   "id": "a0470b03",
   "metadata": {},
   "outputs": [
    {
     "data": {
      "text/plain": [
       "array([[1, 2, 3, 4, 5, 6, 7],\n",
       "       [1, 2, 3, 4, 5, 6, 7]])"
      ]
     },
     "execution_count": 57,
     "metadata": {},
     "output_type": "execute_result"
    }
   ],
   "source": [
    "A"
   ]
  },
  {
   "cell_type": "code",
   "execution_count": 55,
   "id": "c0f60a93",
   "metadata": {},
   "outputs": [
    {
     "data": {
      "text/plain": [
       "array([28, 28])"
      ]
     },
     "execution_count": 55,
     "metadata": {},
     "output_type": "execute_result"
    }
   ],
   "source": [
    "np.sum(A, axis = 1)"
   ]
  },
  {
   "cell_type": "code",
   "execution_count": 56,
   "id": "9b7e3300",
   "metadata": {},
   "outputs": [
    {
     "data": {
      "text/plain": [
       "array([ 2,  4,  6,  8, 10, 12, 14])"
      ]
     },
     "execution_count": 56,
     "metadata": {},
     "output_type": "execute_result"
    }
   ],
   "source": [
    "np.sum(A, axis = 0)"
   ]
  },
  {
   "cell_type": "code",
   "execution_count": null,
   "id": "b20234eb",
   "metadata": {},
   "outputs": [],
   "source": []
  }
 ],
 "metadata": {
  "kernelspec": {
   "display_name": "Python 3 (ipykernel)",
   "language": "python",
   "name": "python3"
  },
  "language_info": {
   "codemirror_mode": {
    "name": "ipython",
    "version": 3
   },
   "file_extension": ".py",
   "mimetype": "text/x-python",
   "name": "python",
   "nbconvert_exporter": "python",
   "pygments_lexer": "ipython3",
   "version": "3.11.5"
  }
 },
 "nbformat": 4,
 "nbformat_minor": 5
}
