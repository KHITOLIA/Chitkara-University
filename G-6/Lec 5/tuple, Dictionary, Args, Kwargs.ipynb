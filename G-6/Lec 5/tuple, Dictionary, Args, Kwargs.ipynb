{
 "cells": [
  {
   "cell_type": "markdown",
   "id": "3f3ed3a9",
   "metadata": {},
   "source": [
    "# Tuple"
   ]
  },
  {
   "cell_type": "code",
   "execution_count": 1,
   "id": "f9088460",
   "metadata": {},
   "outputs": [],
   "source": [
    "tup = (2,3,4,56,6,7,True,range(3,4),'Tushar')"
   ]
  },
  {
   "cell_type": "code",
   "execution_count": 2,
   "id": "fec17255",
   "metadata": {},
   "outputs": [
    {
     "name": "stdout",
     "output_type": "stream",
     "text": [
      "<class 'tuple'>\n"
     ]
    }
   ],
   "source": [
    "print(type(tup))"
   ]
  },
  {
   "cell_type": "code",
   "execution_count": 3,
   "id": "97f85951",
   "metadata": {},
   "outputs": [
    {
     "data": {
      "text/plain": [
       "9"
      ]
     },
     "execution_count": 3,
     "metadata": {},
     "output_type": "execute_result"
    }
   ],
   "source": [
    "len(tup)"
   ]
  },
  {
   "cell_type": "code",
   "execution_count": 4,
   "id": "35c9bb0a",
   "metadata": {},
   "outputs": [
    {
     "ename": "TypeError",
     "evalue": "'tuple' object does not support item assignment",
     "output_type": "error",
     "traceback": [
      "\u001b[1;31m---------------------------------------------------------------------------\u001b[0m",
      "\u001b[1;31mTypeError\u001b[0m                                 Traceback (most recent call last)",
      "Cell \u001b[1;32mIn[4], line 1\u001b[0m\n\u001b[1;32m----> 1\u001b[0m tup[\u001b[38;5;241m19\u001b[39m] \u001b[38;5;241m=\u001b[39m \u001b[38;5;241m232\u001b[39m\n",
      "\u001b[1;31mTypeError\u001b[0m: 'tuple' object does not support item assignment"
     ]
    }
   ],
   "source": [
    "tup[19] = 232"
   ]
  },
  {
   "cell_type": "code",
   "execution_count": 5,
   "id": "3e521bac",
   "metadata": {},
   "outputs": [],
   "source": [
    "new_tup = tup + (True,)"
   ]
  },
  {
   "cell_type": "code",
   "execution_count": 6,
   "id": "e7e9dadf",
   "metadata": {},
   "outputs": [
    {
     "data": {
      "text/plain": [
       "(2, 3, 4, 56, 6, 7, True, range(3, 4), 'Tushar', True)"
      ]
     },
     "execution_count": 6,
     "metadata": {},
     "output_type": "execute_result"
    }
   ],
   "source": [
    "new_tup"
   ]
  },
  {
   "cell_type": "code",
   "execution_count": 7,
   "id": "7046de99",
   "metadata": {},
   "outputs": [],
   "source": [
    "new_tup = list(new_tup)"
   ]
  },
  {
   "cell_type": "code",
   "execution_count": 8,
   "id": "a8ed9f4d",
   "metadata": {},
   "outputs": [],
   "source": [
    "#now you can perform any operation of list and then again return back it to tuple"
   ]
  },
  {
   "cell_type": "code",
   "execution_count": 9,
   "id": "cf31a071",
   "metadata": {},
   "outputs": [],
   "source": [
    "new_tup.append(23)"
   ]
  },
  {
   "cell_type": "code",
   "execution_count": 10,
   "id": "f0ba42a7",
   "metadata": {},
   "outputs": [
    {
     "data": {
      "text/plain": [
       "'Tushar'"
      ]
     },
     "execution_count": 10,
     "metadata": {},
     "output_type": "execute_result"
    }
   ],
   "source": [
    "new_tup.pop(-3)"
   ]
  },
  {
   "cell_type": "code",
   "execution_count": 11,
   "id": "27ffa2d8",
   "metadata": {},
   "outputs": [],
   "source": [
    "new_tup.remove(56)"
   ]
  },
  {
   "cell_type": "code",
   "execution_count": 12,
   "id": "6e7506a2",
   "metadata": {},
   "outputs": [
    {
     "data": {
      "text/plain": [
       "[2, 3, 4, 6, 7, True, range(3, 4), True, 23]"
      ]
     },
     "execution_count": 12,
     "metadata": {},
     "output_type": "execute_result"
    }
   ],
   "source": [
    "new_tup"
   ]
  },
  {
   "cell_type": "code",
   "execution_count": 13,
   "id": "f2a65f1f",
   "metadata": {},
   "outputs": [],
   "source": [
    "new_tup.insert(4,'Tushar')"
   ]
  },
  {
   "cell_type": "code",
   "execution_count": 14,
   "id": "55d1649f",
   "metadata": {},
   "outputs": [
    {
     "ename": "ValueError",
     "evalue": "list.remove(x): x not in list",
     "output_type": "error",
     "traceback": [
      "\u001b[1;31m---------------------------------------------------------------------------\u001b[0m",
      "\u001b[1;31mValueError\u001b[0m                                Traceback (most recent call last)",
      "Cell \u001b[1;32mIn[14], line 1\u001b[0m\n\u001b[1;32m----> 1\u001b[0m new_tup\u001b[38;5;241m.\u001b[39mremove(\u001b[38;5;241m56\u001b[39m)\n",
      "\u001b[1;31mValueError\u001b[0m: list.remove(x): x not in list"
     ]
    }
   ],
   "source": [
    "new_tup.remove(56)"
   ]
  },
  {
   "cell_type": "code",
   "execution_count": 15,
   "id": "16a529b5",
   "metadata": {},
   "outputs": [
    {
     "data": {
      "text/plain": [
       "[2, 3, 4, 6, 'Tushar', 7, True, range(3, 4), True, 23]"
      ]
     },
     "execution_count": 15,
     "metadata": {},
     "output_type": "execute_result"
    }
   ],
   "source": [
    "new_tup"
   ]
  },
  {
   "cell_type": "code",
   "execution_count": 16,
   "id": "a659022d",
   "metadata": {},
   "outputs": [],
   "source": [
    "new_tup.insert(4,'Tushar')"
   ]
  },
  {
   "cell_type": "code",
   "execution_count": 17,
   "id": "5704aed2",
   "metadata": {},
   "outputs": [
    {
     "data": {
      "text/plain": [
       "[2, 3, 4, 6, 'Tushar', 'Tushar', 7, True, range(3, 4), True, 23]"
      ]
     },
     "execution_count": 17,
     "metadata": {},
     "output_type": "execute_result"
    }
   ],
   "source": [
    "new_tup"
   ]
  },
  {
   "cell_type": "code",
   "execution_count": 18,
   "id": "3e56dfd0",
   "metadata": {},
   "outputs": [],
   "source": [
    "new_tup = tuple(new_tup)"
   ]
  },
  {
   "cell_type": "code",
   "execution_count": 19,
   "id": "6a137469",
   "metadata": {},
   "outputs": [
    {
     "data": {
      "text/plain": [
       "(2, 3, 4, 6, 'Tushar', 'Tushar', 7, True, range(3, 4), True, 23)"
      ]
     },
     "execution_count": 19,
     "metadata": {},
     "output_type": "execute_result"
    }
   ],
   "source": [
    "new_tup"
   ]
  },
  {
   "cell_type": "markdown",
   "id": "96aee9bc",
   "metadata": {},
   "source": [
    "# Dictionary"
   ]
  },
  {
   "cell_type": "code",
   "execution_count": 20,
   "id": "94e11200",
   "metadata": {},
   "outputs": [],
   "source": [
    "a = {\n",
    "    'a':[1,2,4,45],\n",
    "    'b':'Tushar',\n",
    "    'c':(1,2,3,4),\n",
    "    'd':11,\n",
    "    'e':{\n",
    "        'ai':'Jarvis',\n",
    "        'work':'machine learning'\n",
    "        \n",
    "    }\n",
    "}"
   ]
  },
  {
   "cell_type": "code",
   "execution_count": 21,
   "id": "2aa012c3",
   "metadata": {},
   "outputs": [
    {
     "name": "stdout",
     "output_type": "stream",
     "text": [
      "<class 'dict'>\n"
     ]
    }
   ],
   "source": [
    "print(type(a))"
   ]
  },
  {
   "cell_type": "code",
   "execution_count": 22,
   "id": "59a2fdee",
   "metadata": {},
   "outputs": [
    {
     "data": {
      "text/plain": [
       "dict_items([('a', [1, 2, 4, 45]), ('b', 'Tushar'), ('c', (1, 2, 3, 4)), ('d', 11), ('e', {'ai': 'Jarvis', 'work': 'machine learning'})])"
      ]
     },
     "execution_count": 22,
     "metadata": {},
     "output_type": "execute_result"
    }
   ],
   "source": [
    "a.items()"
   ]
  },
  {
   "cell_type": "code",
   "execution_count": 23,
   "id": "ebe43df6",
   "metadata": {},
   "outputs": [
    {
     "data": {
      "text/plain": [
       "dict_keys(['a', 'b', 'c', 'd', 'e'])"
      ]
     },
     "execution_count": 23,
     "metadata": {},
     "output_type": "execute_result"
    }
   ],
   "source": [
    "a.keys()"
   ]
  },
  {
   "cell_type": "code",
   "execution_count": 24,
   "id": "786b17d5",
   "metadata": {},
   "outputs": [
    {
     "data": {
      "text/plain": [
       "dict_values([[1, 2, 4, 45], 'Tushar', (1, 2, 3, 4), 11, {'ai': 'Jarvis', 'work': 'machine learning'}])"
      ]
     },
     "execution_count": 24,
     "metadata": {},
     "output_type": "execute_result"
    }
   ],
   "source": [
    "a.values()"
   ]
  },
  {
   "cell_type": "code",
   "execution_count": 25,
   "id": "a3047d2e",
   "metadata": {},
   "outputs": [
    {
     "name": "stdout",
     "output_type": "stream",
     "text": [
      "('a', [1, 2, 4, 45])\n",
      "('b', 'Tushar')\n",
      "('c', (1, 2, 3, 4))\n",
      "('d', 11)\n",
      "('e', {'ai': 'Jarvis', 'work': 'machine learning'})\n"
     ]
    }
   ],
   "source": [
    "for i in a.items():\n",
    "    print(i)"
   ]
  },
  {
   "cell_type": "code",
   "execution_count": 26,
   "id": "5fec1e91",
   "metadata": {},
   "outputs": [
    {
     "name": "stdout",
     "output_type": "stream",
     "text": [
      "Jarvis\n",
      "machine learning\n"
     ]
    }
   ],
   "source": [
    "for i in a['e'].values():\n",
    "    print(i)"
   ]
  },
  {
   "cell_type": "code",
   "execution_count": 27,
   "id": "5fbc4def",
   "metadata": {},
   "outputs": [
    {
     "data": {
      "text/plain": [
       "(1, 2, 3, 4)"
      ]
     },
     "execution_count": 27,
     "metadata": {},
     "output_type": "execute_result"
    }
   ],
   "source": [
    "a.get('c')  #directly access the key through get function"
   ]
  },
  {
   "cell_type": "code",
   "execution_count": 30,
   "id": "bbad15bd",
   "metadata": {},
   "outputs": [],
   "source": [
    "aa = {21,4,5,76,7,43,4,5,5}\n"
   ]
  },
  {
   "cell_type": "code",
   "execution_count": null,
   "id": "e3539736",
   "metadata": {},
   "outputs": [],
   "source": []
  }
 ],
 "metadata": {
  "kernelspec": {
   "display_name": "Python 3 (ipykernel)",
   "language": "python",
   "name": "python3"
  },
  "language_info": {
   "codemirror_mode": {
    "name": "ipython",
    "version": 3
   },
   "file_extension": ".py",
   "mimetype": "text/x-python",
   "name": "python",
   "nbconvert_exporter": "python",
   "pygments_lexer": "ipython3",
   "version": "3.11.5"
  }
 },
 "nbformat": 4,
 "nbformat_minor": 5
}
