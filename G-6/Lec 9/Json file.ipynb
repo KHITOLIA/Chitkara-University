{
 "cells": [
  {
   "cell_type": "markdown",
   "id": "81bcf233",
   "metadata": {},
   "source": [
    "# Json file"
   ]
  },
  {
   "cell_type": "code",
   "execution_count": 1,
   "id": "3a54e091",
   "metadata": {},
   "outputs": [
    {
     "name": "stdout",
     "output_type": "stream",
     "text": [
      "\n",
      "{\n",
      "    \"intents\": [\n",
      "\n",
      "        \n",
      "        {\n",
      "            \"tag\":\"greeting\",\n",
      "            \"patterns\":[\"hello\",\"hii\",\"hey\",\"wake up\",\"jarvis\"\n",
      "            ],\n",
      "            \"responses\":[\"Hello Sir\",\"How Are You Sir.\",\"Always For You Sir\",\n",
      "                \"Hello\",\"Here's Your Assistant.\"\n",
      "            ]\n",
      "        },\n",
      "        {\n",
      "            \"tag\":\"bye\",\n",
      "            \"patterns\":[\"bye\",\"goodbye\",\"see you later\",\"sleep\",\"exit\"\n",
      "            ],\n",
      "            \"responses\":[\"Bye.\",\"I am Going.\",\"Bye Sir.\",\"Good Bye\",\n",
      "                \"It'll be Nice To Meet You Again.\",\"See You Later\"\n",
      "            ]\n",
      "        },\n",
      "        {\n",
      "            \"tag\":\"health\",\n",
      "            \"patterns\":[\"how are you\",\"how you\",\"are you fine?\",\"are you good\"\n",
      "            ],\n",
      "            \"responses\":[\"Fine.\",\"Perfect.\",\"Cool.\",\n",
      "                \"Like You.\",\"Are you Fine? I'm Fine.\"\n",
      "            ]\n",
      "        },\n",
      "        {\n",
      "            \"tag\":\"personal\",\n",
      "            \"patterns\":[\"naam kya hai tumhara\",\"what is your name\",\"your name\",\"who are you\"\n",
      "            ],\n",
      "            \"responses\":[\"Jarvis\",\"your personal AI.\",\"this is Jarvis sir\",\n",
      "                \"unlike human i'm just an ai.\",\"this is jarvis, Are you Fine?\"\n",
      "            ]\n",
      "        },\n",
      "        {\n",
      "            \"tag\": \"age\",\n",
      "            \"patterns\": [\n",
      "                \"how old are you\",\"when were you made\",\"what is your age\"\n",
      "            ],\n",
      "            \"responses\": [\n",
      "                \"I was made in 2023, if that's what you are asking!\"\n",
      "            ]\n",
      "        },\n",
      "        {\n",
      "            \"tag\": \"time\",\n",
      "            \"patterns\": [\n",
      "                \"time btao\",\"samay batao\",\"what's the time\"\n",
      "            ],\n",
      "            \"responses\": [\n",
      "                \"time\"\n",
      "            ]\n",
      "        },\n",
      "        {\n",
      "            \"tag\": \"date\",\n",
      "            \"patterns\": [\n",
      "                \"date\",\"tareek\",\"what is the date today\"\n",
      "            ],\n",
      "            \"responses\": [\n",
      "                \"date\"\n",
      "            ]\n",
      "        },\n",
      "        {\n",
      "            \"tag\": \"day\",\n",
      "            \"patterns\": [\n",
      "                \"what is day today\",\"aaj konsa din hai\",\"jarvis today is\"\n",
      "            ],\n",
      "            \"responses\": [\n",
      "                \"day\"\n",
      "            ]\n",
      "        },\n",
      "        {\n",
      "            \"tag\": \"music \",\n",
      "            \"patterns\": [\n",
      "                \"play any song\",\"media player on laptop\",\"mein se\",\"random song\",\"music sunao\",\"on\"\n",
      "            ],\n",
      "            \"responses\": [\n",
      "                \"music\"\n",
      "            ]\n",
      "        },\n",
      "        {\n",
      "            \"tag\": \"virtual studio\",\n",
      "            \"patterns\": [\n",
      "                \"lets code\",\"open vscode\",\"open my studio\",\"need to do some optimization in you\"\n",
      "            ],\n",
      "            \"responses\": [\n",
      "                \"virtual studio\"\n",
      "            ]\n",
      "        },\n",
      "        {\n",
      "            \"tag\": \"whatsapp\",\n",
      "            \"patterns\": [\n",
      "                \"whatsapp\",\"whatsapp web\",\"chatting\"\n",
      "            ],\n",
      "            \"responses\": [\n",
      "                \"whatsapp\"\n",
      "            ]\n",
      "        },\n",
      "        {\n",
      "            \"tag\": \"telegram\",\n",
      "            \"patterns\": [\"show telegram\",\"telegram bot\",\"save image on telegram\",\"send image on telegram\",\"check my telegram\"],\n",
      "            \"responses\": [\"telegram\"]\n",
      "        },\n",
      "        {\n",
      "            \"tag\": \"instagram\",\n",
      "            \"patterns\": [\"insta\",\"upload\",\"instagram\",\"reels\",\"pic\", \"like a post\",\"post\", \"share\",\"follow a user\"],\n",
      "            \"responses\": [\"instagram\"]\n",
      "        },\n",
      "        {\n",
      "            \"tag\": \"location\",\n",
      "            \"patterns\": [\"my location\", \"locate me\",\"find me\",\"find my\",\"dhundh mujhe\",\"merko dhundho\",\"location bata\",\"location kya hai neri\"],\n",
      "            \"responses\": [\"location\"]\n",
      "        },\n",
      "        {\n",
      "            \"tag\": \"screenshot\",\n",
      "            \"patterns\": [\"screen\", \"ss\", \"take screen\",\"take screen shot\",\"take ss\"],\n",
      "            \"responses\": [\"screenshot\"]\n",
      "        },\n",
      "        {\n",
      "            \"tag\": \"github\",\n",
      "            \"patterns\": [\"github\",\"github khol mera\", \"repository\", \"github page\",\"kar github par\",\"source code\",\"data science\",\"project\"],\n",
      "            \"responses\": [\"github\"]\n",
      "        },\n",
      "        {\n",
      "            \"tag\": \"alarm\",\n",
      "            \"patterns\": [\"alarm\",\"set alarm\", \"subha\", \"utha dena\",\"5 bje\",\"utha dio\",\"mera alarm set\"],\n",
      "            \"responses\": [\"alarm\"]\n",
      "        }\n",
      "        \n",
      "    ]\n",
      "}\n",
      "\n",
      "\n",
      "\n"
     ]
    }
   ],
   "source": [
    "with open('intent.json','r') as file:\n",
    "    print(file.read())"
   ]
  },
  {
   "cell_type": "code",
   "execution_count": 2,
   "id": "e51ba3cb",
   "metadata": {},
   "outputs": [
    {
     "name": "stdout",
     "output_type": "stream",
     "text": [
      "\n",
      "{\n",
      "    \"intents\": [\n",
      "\n",
      "        \n",
      "        {\n",
      "            \"tag\":\"greeting\",\n",
      "            \"patterns\":[\"hello\",\"hii\",\"hey\",\"wake up\",\"jarvis\"\n",
      "            ],\n",
      "            \"responses\":[\"Hello Sir\",\"How Are You Si\n"
     ]
    }
   ],
   "source": [
    "with open('intent.json','r') as file:\n",
    "    print(file.read(200))"
   ]
  },
  {
   "cell_type": "markdown",
   "id": "1dbf0cba",
   "metadata": {},
   "source": [
    "# This is very bad way of treating a json file. the above code consider json file as a string"
   ]
  },
  {
   "cell_type": "code",
   "execution_count": 3,
   "id": "d1199298",
   "metadata": {},
   "outputs": [],
   "source": [
    "import json"
   ]
  },
  {
   "cell_type": "code",
   "execution_count": 4,
   "id": "890a5597",
   "metadata": {},
   "outputs": [],
   "source": [
    "with open('intent.json','r') as file:\n",
    "    text = json.load(file) \n",
    "    \n",
    "    #convert the json file to dictionary"
   ]
  },
  {
   "cell_type": "code",
   "execution_count": 5,
   "id": "8574ce5f",
   "metadata": {},
   "outputs": [
    {
     "data": {
      "text/plain": [
       "{'intents': [{'tag': 'greeting',\n",
       "   'patterns': ['hello', 'hii', 'hey', 'wake up', 'jarvis'],\n",
       "   'responses': ['Hello Sir',\n",
       "    'How Are You Sir.',\n",
       "    'Always For You Sir',\n",
       "    'Hello',\n",
       "    \"Here's Your Assistant.\"]},\n",
       "  {'tag': 'bye',\n",
       "   'patterns': ['bye', 'goodbye', 'see you later', 'sleep', 'exit'],\n",
       "   'responses': ['Bye.',\n",
       "    'I am Going.',\n",
       "    'Bye Sir.',\n",
       "    'Good Bye',\n",
       "    \"It'll be Nice To Meet You Again.\",\n",
       "    'See You Later']},\n",
       "  {'tag': 'health',\n",
       "   'patterns': ['how are you', 'how you', 'are you fine?', 'are you good'],\n",
       "   'responses': ['Fine.',\n",
       "    'Perfect.',\n",
       "    'Cool.',\n",
       "    'Like You.',\n",
       "    \"Are you Fine? I'm Fine.\"]},\n",
       "  {'tag': 'personal',\n",
       "   'patterns': ['naam kya hai tumhara',\n",
       "    'what is your name',\n",
       "    'your name',\n",
       "    'who are you'],\n",
       "   'responses': ['Jarvis',\n",
       "    'your personal AI.',\n",
       "    'this is Jarvis sir',\n",
       "    \"unlike human i'm just an ai.\",\n",
       "    'this is jarvis, Are you Fine?']},\n",
       "  {'tag': 'age',\n",
       "   'patterns': ['how old are you', 'when were you made', 'what is your age'],\n",
       "   'responses': [\"I was made in 2023, if that's what you are asking!\"]},\n",
       "  {'tag': 'time',\n",
       "   'patterns': ['time btao', 'samay batao', \"what's the time\"],\n",
       "   'responses': ['time']},\n",
       "  {'tag': 'date',\n",
       "   'patterns': ['date', 'tareek', 'what is the date today'],\n",
       "   'responses': ['date']},\n",
       "  {'tag': 'day',\n",
       "   'patterns': ['what is day today', 'aaj konsa din hai', 'jarvis today is'],\n",
       "   'responses': ['day']},\n",
       "  {'tag': 'music ',\n",
       "   'patterns': ['play any song',\n",
       "    'media player on laptop',\n",
       "    'mein se',\n",
       "    'random song',\n",
       "    'music sunao',\n",
       "    'on'],\n",
       "   'responses': ['music']},\n",
       "  {'tag': 'virtual studio',\n",
       "   'patterns': ['lets code',\n",
       "    'open vscode',\n",
       "    'open my studio',\n",
       "    'need to do some optimization in you'],\n",
       "   'responses': ['virtual studio']},\n",
       "  {'tag': 'whatsapp',\n",
       "   'patterns': ['whatsapp', 'whatsapp web', 'chatting'],\n",
       "   'responses': ['whatsapp']},\n",
       "  {'tag': 'telegram',\n",
       "   'patterns': ['show telegram',\n",
       "    'telegram bot',\n",
       "    'save image on telegram',\n",
       "    'send image on telegram',\n",
       "    'check my telegram'],\n",
       "   'responses': ['telegram']},\n",
       "  {'tag': 'instagram',\n",
       "   'patterns': ['insta',\n",
       "    'upload',\n",
       "    'instagram',\n",
       "    'reels',\n",
       "    'pic',\n",
       "    'like a post',\n",
       "    'post',\n",
       "    'share',\n",
       "    'follow a user'],\n",
       "   'responses': ['instagram']},\n",
       "  {'tag': 'location',\n",
       "   'patterns': ['my location',\n",
       "    'locate me',\n",
       "    'find me',\n",
       "    'find my',\n",
       "    'dhundh mujhe',\n",
       "    'merko dhundho',\n",
       "    'location bata',\n",
       "    'location kya hai neri'],\n",
       "   'responses': ['location']},\n",
       "  {'tag': 'screenshot',\n",
       "   'patterns': ['screen', 'ss', 'take screen', 'take screen shot', 'take ss'],\n",
       "   'responses': ['screenshot']},\n",
       "  {'tag': 'github',\n",
       "   'patterns': ['github',\n",
       "    'github khol mera',\n",
       "    'repository',\n",
       "    'github page',\n",
       "    'kar github par',\n",
       "    'source code',\n",
       "    'data science',\n",
       "    'project'],\n",
       "   'responses': ['github']},\n",
       "  {'tag': 'alarm',\n",
       "   'patterns': ['alarm',\n",
       "    'set alarm',\n",
       "    'subha',\n",
       "    'utha dena',\n",
       "    '5 bje',\n",
       "    'utha dio',\n",
       "    'mera alarm set'],\n",
       "   'responses': ['alarm']}]}"
      ]
     },
     "execution_count": 5,
     "metadata": {},
     "output_type": "execute_result"
    }
   ],
   "source": [
    "text  # here this is a dictionary but in previous code it consider as a string"
   ]
  },
  {
   "cell_type": "code",
   "execution_count": null,
   "id": "e3613610",
   "metadata": {},
   "outputs": [],
   "source": [
    "print(text['intents'][0]['tag'])"
   ]
  },
  {
   "cell_type": "markdown",
   "id": "cb73f575",
   "metadata": {},
   "source": [
    "# Now convert the dictionary to json file"
   ]
  },
  {
   "cell_type": "code",
   "execution_count": 7,
   "id": "336d0949",
   "metadata": {},
   "outputs": [],
   "source": [
    "d = {\n",
    "    'a':1,\n",
    "    'b':'St'\n",
    "}"
   ]
  },
  {
   "cell_type": "code",
   "execution_count": 8,
   "id": "6344d2b0",
   "metadata": {},
   "outputs": [],
   "source": [
    "with open('dummy.json','w') as file:\n",
    "    json.dump(d,file)"
   ]
  },
  {
   "cell_type": "code",
   "execution_count": 9,
   "id": "8c05ad46",
   "metadata": {},
   "outputs": [
    {
     "name": "stdout",
     "output_type": "stream",
     "text": [
      "{'a': 1, 'b': 'St'}\n"
     ]
    }
   ],
   "source": [
    "with open('dummy.json','r') as file:\n",
    "    print(json.load(file))\n",
    "    "
   ]
  },
  {
   "cell_type": "code",
   "execution_count": 10,
   "id": "f6116c89",
   "metadata": {},
   "outputs": [],
   "source": [
    "d['c'] = '1234'\n",
    "with open('dummy.json','w') as file:\n",
    "    json.dump(d, file)"
   ]
  },
  {
   "cell_type": "code",
   "execution_count": 11,
   "id": "747b4cc1",
   "metadata": {},
   "outputs": [
    {
     "name": "stdout",
     "output_type": "stream",
     "text": [
      "{'a': 1, 'b': 'St', 'c': '1234'}\n"
     ]
    }
   ],
   "source": [
    "with open('dummy.json','r') as file:\n",
    "    print(json.load(file))\n",
    "    "
   ]
  },
  {
   "cell_type": "code",
   "execution_count": 12,
   "id": "80342531",
   "metadata": {},
   "outputs": [],
   "source": [
    "str_ = json.dumps(d)"
   ]
  },
  {
   "cell_type": "code",
   "execution_count": 13,
   "id": "3f22ed48",
   "metadata": {},
   "outputs": [
    {
     "data": {
      "text/plain": [
       "'{\"a\": 1, \"b\": \"St\", \"c\": \"1234\"}'"
      ]
     },
     "execution_count": 13,
     "metadata": {},
     "output_type": "execute_result"
    }
   ],
   "source": [
    "str_"
   ]
  },
  {
   "cell_type": "code",
   "execution_count": 14,
   "id": "5ac6770c",
   "metadata": {},
   "outputs": [
    {
     "name": "stdout",
     "output_type": "stream",
     "text": [
      "Reversed string: olleh\n"
     ]
    }
   ],
   "source": [
    "def reverse_string(s):\n",
    "    reversed_str = \"\"\n",
    "    for char in s:\n",
    "        reversed_str = char + reversed_str\n",
    "    return reversed_str\n",
    "\n",
    "# Example usage\n",
    "input_str = \"hello\"\n",
    "print(\"Reversed string:\", reverse_string(input_str))\n"
   ]
  },
  {
   "cell_type": "code",
   "execution_count": null,
   "id": "77351f26",
   "metadata": {},
   "outputs": [],
   "source": []
  }
 ],
 "metadata": {
  "kernelspec": {
   "display_name": "Python 3 (ipykernel)",
   "language": "python",
   "name": "python3"
  },
  "language_info": {
   "codemirror_mode": {
    "name": "ipython",
    "version": 3
   },
   "file_extension": ".py",
   "mimetype": "text/x-python",
   "name": "python",
   "nbconvert_exporter": "python",
   "pygments_lexer": "ipython3",
   "version": "3.11.5"
  }
 },
 "nbformat": 4,
 "nbformat_minor": 5
}
