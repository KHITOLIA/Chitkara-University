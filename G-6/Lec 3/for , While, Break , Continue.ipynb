{
 "cells": [
  {
   "cell_type": "markdown",
   "id": "d1491584",
   "metadata": {},
   "source": [
    "# While\n",
    "# Break\n",
    "# Continue"
   ]
  },
  {
   "cell_type": "code",
   "execution_count": 11,
   "id": "029e41a4",
   "metadata": {},
   "outputs": [
    {
     "name": "stdout",
     "output_type": "stream",
     "text": [
      "h\n",
      "e\n",
      "l\n",
      "l\n",
      "o\n",
      " \n",
      "w\n",
      "o\n",
      "r\n",
      "l\n",
      "d\n"
     ]
    }
   ],
   "source": [
    "st = 'hello world'\n",
    "for i in st:\n",
    "    print(i)\n",
    "    \n",
    "    "
   ]
  },
  {
   "cell_type": "code",
   "execution_count": 12,
   "id": "ed22b8e5",
   "metadata": {},
   "outputs": [
    {
     "name": "stdout",
     "output_type": "stream",
     "text": [
      "emter : 23\n",
      "hello\n",
      "emter : 1212\n",
      "hello\n",
      "emter : 93\n",
      "hello\n",
      "emter : \n"
     ]
    },
    {
     "ename": "ValueError",
     "evalue": "invalid literal for int() with base 10: ''",
     "output_type": "error",
     "traceback": [
      "\u001b[1;31m---------------------------------------------------------------------------\u001b[0m",
      "\u001b[1;31mValueError\u001b[0m                                Traceback (most recent call last)",
      "Cell \u001b[1;32mIn[12], line 2\u001b[0m\n\u001b[0;32m      1\u001b[0m \u001b[38;5;28;01mwhile\u001b[39;00m \u001b[38;5;28;01mTrue\u001b[39;00m:\n\u001b[1;32m----> 2\u001b[0m     a \u001b[38;5;241m=\u001b[39m \u001b[38;5;28mint\u001b[39m(\u001b[38;5;28minput\u001b[39m(\u001b[38;5;124m\"\u001b[39m\u001b[38;5;124memter : \u001b[39m\u001b[38;5;124m\"\u001b[39m))\n\u001b[0;32m      3\u001b[0m     \u001b[38;5;28;01mif\u001b[39;00m a\u001b[38;5;241m==\u001b[39m\u001b[38;5;241m9\u001b[39m:\n\u001b[0;32m      4\u001b[0m         \u001b[38;5;28mprint\u001b[39m(\u001b[38;5;124m'\u001b[39m\u001b[38;5;124mhi\u001b[39m\u001b[38;5;124m'\u001b[39m)\n",
      "\u001b[1;31mValueError\u001b[0m: invalid literal for int() with base 10: ''"
     ]
    }
   ],
   "source": [
    "while True:\n",
    "    a = int(input(\"emter : \"))\n",
    "    if a==9:\n",
    "        print('hi')\n",
    "    else:\n",
    "        print('hello')\n",
    "        "
   ]
  },
  {
   "cell_type": "code",
   "execution_count": 1,
   "id": "856692e6",
   "metadata": {},
   "outputs": [
    {
     "name": "stdout",
     "output_type": "stream",
     "text": [
      "hi\n",
      "hi\n",
      "hi\n",
      "hi\n",
      "hi\n",
      "hi\n",
      "hi\n",
      "hi\n",
      "hi\n",
      "hi\n",
      "hi\n"
     ]
    }
   ],
   "source": [
    "num = 0\n",
    "while num<=10:\n",
    "    print('hi')\n",
    "    num+=1"
   ]
  },
  {
   "cell_type": "code",
   "execution_count": 13,
   "id": "c49cc55d",
   "metadata": {},
   "outputs": [
    {
     "name": "stdout",
     "output_type": "stream",
     "text": [
      "tha value of j : 0\n",
      "tha value of j : 1\n",
      "tha value of j : 2\n",
      "the value of i :  0\n",
      "the value of i :  1\n",
      "the value of i :  2\n",
      "the value of i :  3\n",
      "tha value of j : 3\n",
      "tha value of j : 4\n"
     ]
    }
   ],
   "source": [
    "for j in range(5):\n",
    "    print('tha value of j :',j)\n",
    "    if j==2:\n",
    "        for i in range(10):\n",
    "            print('the value of i : ', i)\n",
    "            if i==3:\n",
    "                break"
   ]
  },
  {
   "cell_type": "code",
   "execution_count": 14,
   "id": "c5be6863",
   "metadata": {},
   "outputs": [
    {
     "name": "stdout",
     "output_type": "stream",
     "text": [
      "value of j :  0\n",
      "0\n",
      "1\n",
      "value of j :  1\n",
      "0\n",
      "1\n",
      "value of j :  2\n"
     ]
    }
   ],
   "source": [
    "for j in range(5):\n",
    "    print(\"value of j : \",j)\n",
    "    if j==2:\n",
    "        break\n",
    "    for i in range(5):\n",
    "        if i==2:\n",
    "            break\n",
    "        else:\n",
    "            print(i)"
   ]
  },
  {
   "cell_type": "code",
   "execution_count": 15,
   "id": "012c421f",
   "metadata": {},
   "outputs": [
    {
     "name": "stdout",
     "output_type": "stream",
     "text": [
      "enter the number : 32\n",
      "Password incorrect\n",
      "enter the number : 1212\n",
      "Password incorrect\n",
      "enter the number : 9\n",
      "Password correct\n"
     ]
    }
   ],
   "source": [
    "while True:\n",
    "    n = int(input('enter the number : '))\n",
    "    if n==9:\n",
    "        print('Password correct')\n",
    "        break\n",
    "    else:\n",
    "        print('Password incorrect')\n",
    "    "
   ]
  },
  {
   "cell_type": "code",
   "execution_count": 16,
   "id": "87f662ac",
   "metadata": {},
   "outputs": [
    {
     "name": "stdout",
     "output_type": "stream",
     "text": [
      "enter the value : 21\n",
      "0\n",
      "enter the value : 34\n",
      "1\n",
      "enter the value : 4\n",
      "code goes back to top\n",
      "enter the value : 3\n",
      "3\n",
      "enter the value : 1\n",
      "4\n",
      "enter the value : 1\n",
      "5\n",
      "enter the value : 2\n",
      "6\n",
      "enter the value : 34\n",
      "7\n",
      "enter the value : 4\n",
      "code goes back to top\n",
      "enter the value : 4\n",
      "code goes back to top\n"
     ]
    }
   ],
   "source": [
    "for i in range(10):\n",
    "    a = int(input('enter the value : '))\n",
    "    if a==4:\n",
    "        print('code goes back to top')\n",
    "        continue\n",
    "    elif a==0:\n",
    "        break\n",
    "    print(i)"
   ]
  },
  {
   "cell_type": "code",
   "execution_count": 17,
   "id": "7a4bf2e6",
   "metadata": {},
   "outputs": [
    {
     "name": "stdout",
     "output_type": "stream",
     "text": [
      "enter the value : 323\n",
      "323 is not a prime\n"
     ]
    }
   ],
   "source": [
    "n = int(input('enter the value : '))\n",
    "flag = False\n",
    "if n==1:    \n",
    "    print('special')\n",
    "elif n>1:\n",
    "    for i in range(2,n):\n",
    "        if n%i==0:\n",
    "            flag = True\n",
    "            break\n",
    "    if flag:\n",
    "        print(n, 'is not a prime')\n",
    "    else:\n",
    "        print(n,'is a prime')"
   ]
  },
  {
   "cell_type": "code",
   "execution_count": 18,
   "id": "01d25c4e",
   "metadata": {},
   "outputs": [],
   "source": [
    "def factor(n):\n",
    "    for i in range(1,n+1):\n",
    "        if n%i==0:\n",
    "            print(i,'is the factor of ',n) \n",
    "        elif n%i != 0:\n",
    "            print(i,'is not a factor of ', n)"
   ]
  },
  {
   "cell_type": "code",
   "execution_count": 19,
   "id": "7cb31a6d",
   "metadata": {},
   "outputs": [
    {
     "name": "stdout",
     "output_type": "stream",
     "text": [
      "1 is the factor of  20\n",
      "2 is the factor of  20\n",
      "3 is not a factor of  20\n",
      "4 is the factor of  20\n",
      "5 is the factor of  20\n",
      "6 is not a factor of  20\n",
      "7 is not a factor of  20\n",
      "8 is not a factor of  20\n",
      "9 is not a factor of  20\n",
      "10 is the factor of  20\n",
      "11 is not a factor of  20\n",
      "12 is not a factor of  20\n",
      "13 is not a factor of  20\n",
      "14 is not a factor of  20\n",
      "15 is not a factor of  20\n",
      "16 is not a factor of  20\n",
      "17 is not a factor of  20\n",
      "18 is not a factor of  20\n",
      "19 is not a factor of  20\n",
      "20 is the factor of  20\n"
     ]
    }
   ],
   "source": [
    "factor(20)"
   ]
  },
  {
   "cell_type": "code",
   "execution_count": null,
   "id": "ff2475fe",
   "metadata": {},
   "outputs": [],
   "source": []
  }
 ],
 "metadata": {
  "kernelspec": {
   "display_name": "Python 3 (ipykernel)",
   "language": "python",
   "name": "python3"
  },
  "language_info": {
   "codemirror_mode": {
    "name": "ipython",
    "version": 3
   },
   "file_extension": ".py",
   "mimetype": "text/x-python",
   "name": "python",
   "nbconvert_exporter": "python",
   "pygments_lexer": "ipython3",
   "version": "3.11.5"
  }
 },
 "nbformat": 4,
 "nbformat_minor": 5
}
