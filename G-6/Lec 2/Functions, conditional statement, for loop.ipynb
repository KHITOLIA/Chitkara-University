{
 "cells": [
  {
   "cell_type": "markdown",
   "id": "ef7cbc56",
   "metadata": {},
   "source": [
    "# Functions\n",
    "# condtional statements\n",
    "# For loop\n"
   ]
  },
  {
   "cell_type": "code",
   "execution_count": 1,
   "id": "815234a7",
   "metadata": {},
   "outputs": [
    {
     "name": "stdout",
     "output_type": "stream",
     "text": [
      "Hello Tushar\n"
     ]
    }
   ],
   "source": [
    "def name_printer(name):\n",
    "    print(\"Hello\",name)\n",
    "    return 'hello '+name\n",
    "name = name_printer('Tushar')\n"
   ]
  },
  {
   "cell_type": "code",
   "execution_count": 2,
   "id": "db39eae8",
   "metadata": {},
   "outputs": [],
   "source": [
    "def first(name):\n",
    "  return name\n",
    "def second(name):\n",
    "    return name\n"
   ]
  },
  {
   "cell_type": "code",
   "execution_count": 3,
   "id": "ba048890",
   "metadata": {},
   "outputs": [],
   "source": [
    "fname = first('TUSHAR')\n",
    "Sname = second('KHITOLIYA')\n",
    "def Full_name(fname,sname):\n",
    "    return (fname+Sname)\n"
   ]
  },
  {
   "cell_type": "code",
   "execution_count": 4,
   "id": "17729c5d",
   "metadata": {},
   "outputs": [
    {
     "name": "stdout",
     "output_type": "stream",
     "text": [
      "TUSHARKHITOLIYA\n"
     ]
    }
   ],
   "source": [
    "print(Full_name(fname,Sname))"
   ]
  },
  {
   "cell_type": "code",
   "execution_count": 5,
   "id": "c5d6628e",
   "metadata": {},
   "outputs": [
    {
     "name": "stdout",
     "output_type": "stream",
     "text": [
      "TUSHAR KHITOLIYA\n"
     ]
    }
   ],
   "source": [
    "def first(name):\n",
    "  return name\n",
    "def second(name):\n",
    "    return name\n",
    "def name(a,b,c,d):\n",
    "    print(a(c),b(d))\n",
    "    \n",
    "name(first,second,'TUSHAR','KHITOLIYA')   # Arguments go hand in hand "
   ]
  },
  {
   "cell_type": "markdown",
   "id": "a54e584a",
   "metadata": {},
   "source": [
    "# Condtional statements\n",
    "1. if\n",
    "2. elif\n",
    "3. else"
   ]
  },
  {
   "cell_type": "code",
   "execution_count": 6,
   "id": "97057ff2",
   "metadata": {},
   "outputs": [],
   "source": [
    "b = 2"
   ]
  },
  {
   "cell_type": "code",
   "execution_count": 7,
   "id": "e644ddb9",
   "metadata": {},
   "outputs": [
    {
     "data": {
      "text/plain": [
       "False"
      ]
     },
     "execution_count": 7,
     "metadata": {},
     "output_type": "execute_result"
    }
   ],
   "source": [
    "b == 29"
   ]
  },
  {
   "cell_type": "code",
   "execution_count": 8,
   "id": "230287f7",
   "metadata": {},
   "outputs": [
    {
     "data": {
      "text/plain": [
       "False"
      ]
     },
     "execution_count": 8,
     "metadata": {},
     "output_type": "execute_result"
    }
   ],
   "source": [
    "b>100"
   ]
  },
  {
   "cell_type": "code",
   "execution_count": 9,
   "id": "601b9d34",
   "metadata": {},
   "outputs": [
    {
     "data": {
      "text/plain": [
       "2"
      ]
     },
     "execution_count": 9,
     "metadata": {},
     "output_type": "execute_result"
    }
   ],
   "source": [
    "b"
   ]
  },
  {
   "cell_type": "code",
   "execution_count": 10,
   "id": "1ad09d0f",
   "metadata": {},
   "outputs": [
    {
     "name": "stdout",
     "output_type": "stream",
     "text": [
      "Value not in scale\n"
     ]
    }
   ],
   "source": [
    "if b>10:\n",
    "    print('the value of b is greater than 10')\n",
    "elif b>20:\n",
    "    print(\"the value of b is greater than 20 but less than 30\")\n",
    "else:\n",
    "    print('Value not in scale')"
   ]
  },
  {
   "cell_type": "code",
   "execution_count": 11,
   "id": "69bf28bb",
   "metadata": {},
   "outputs": [
    {
     "name": "stdout",
     "output_type": "stream",
     "text": [
      "Hi\n"
     ]
    }
   ],
   "source": [
    "var = 9\n",
    "if var==9:\n",
    "    print('Hi')\n",
    "elif var==10:\n",
    "    print('Hello')\n",
    "else:\n",
    "    print('Bye')"
   ]
  },
  {
   "cell_type": "code",
   "execution_count": 12,
   "id": "88cadb4c",
   "metadata": {},
   "outputs": [],
   "source": [
    "def odd_even(a,b):\n",
    "    if a%2==0:\n",
    "        print('even')\n",
    "    else:\n",
    "        print('odd')"
   ]
  },
  {
   "cell_type": "code",
   "execution_count": 13,
   "id": "2ccd0d4c",
   "metadata": {},
   "outputs": [],
   "source": [
    "if b>10:\n",
    "    print('hi')\n",
    "elif b>20:\n",
    "    print('hello')\n",
    "elif b>30:\n",
    "    print('bye')"
   ]
  },
  {
   "cell_type": "markdown",
   "id": "ba98fe0d",
   "metadata": {},
   "source": [
    "# For loop\n",
    "it is an iterative process that follows a nature "
   ]
  },
  {
   "cell_type": "code",
   "execution_count": 14,
   "id": "c8abea39",
   "metadata": {},
   "outputs": [
    {
     "name": "stdout",
     "output_type": "stream",
     "text": [
      "hello world\n",
      "hello world\n",
      "hello world\n"
     ]
    }
   ],
   "source": [
    "for i in range(3):\n",
    "    print('hello world')"
   ]
  },
  {
   "cell_type": "code",
   "execution_count": 15,
   "id": "1a72cf99",
   "metadata": {},
   "outputs": [
    {
     "name": "stdout",
     "output_type": "stream",
     "text": [
      "0\n",
      "1\n",
      "2\n",
      "3\n",
      "4\n",
      "5\n",
      "6\n",
      "7\n",
      "8\n",
      "9\n"
     ]
    }
   ],
   "source": [
    "for i in range(10):\n",
    "    print(i)"
   ]
  },
  {
   "cell_type": "code",
   "execution_count": 16,
   "id": "2d9bb3dd",
   "metadata": {},
   "outputs": [],
   "source": [
    "def fact(a):\n",
    "    x=  1\n",
    "    for i in range(0,a):\n",
    "        x = x*(i+1)\n",
    "        \n",
    "    return x\n",
    "    "
   ]
  },
  {
   "cell_type": "code",
   "execution_count": 17,
   "id": "66ecb9af",
   "metadata": {},
   "outputs": [
    {
     "data": {
      "text/plain": [
       "120"
      ]
     },
     "execution_count": 17,
     "metadata": {},
     "output_type": "execute_result"
    }
   ],
   "source": [
    "fact(5)"
   ]
  },
  {
   "cell_type": "code",
   "execution_count": null,
   "id": "73bdce29",
   "metadata": {},
   "outputs": [],
   "source": []
  }
 ],
 "metadata": {
  "kernelspec": {
   "display_name": "Python 3 (ipykernel)",
   "language": "python",
   "name": "python3"
  },
  "language_info": {
   "codemirror_mode": {
    "name": "ipython",
    "version": 3
   },
   "file_extension": ".py",
   "mimetype": "text/x-python",
   "name": "python",
   "nbconvert_exporter": "python",
   "pygments_lexer": "ipython3",
   "version": "3.11.5"
  }
 },
 "nbformat": 4,
 "nbformat_minor": 5
}
