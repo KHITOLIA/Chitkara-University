{
 "cells": [
  {
   "cell_type": "code",
   "execution_count": 2,
   "id": "f04fc20e",
   "metadata": {},
   "outputs": [],
   "source": [
    "print(a)\n",
    "1\n",
    "a = 4.0\n",
    "print(a)\n",
    "4.0\n",
    "print(type(a))\n",
    "<class 'float'>\n",
    "b = -4\n",
    "print(type(b))\n",
    "<class 'int'>\n",
    "c = '4'\n",
    "print(type(c))\n",
    "<class 'str'>\n",
    "c = 'Hello world'\n",
    "print(type(c))\n",
    "<class 'str'>\n",
    "d = True\n",
    "print(type(d))\n",
    "<class 'bool'>\n",
    "print('hello world, my name is tushar')\n",
    "hello world, my name is tushar\n",
    "print\n",
    "<function print(*args, sep=' ', end='\\n', file=None, flush=False)>\n",
    "print('hello world, my name is Tushar',flush = True)   # looks like it is typing  \n",
    "hello world, my name is Tushar\n",
    "print(print)\n",
    "<built-in function print>\n",
    "def sum(a, b):\n",
    "    print(a+b)\n",
    "    print(a)\n",
    "sum(3,4)\n",
    "7\n",
    "3\n",
    "a = sum(3,4)\n",
    "7\n",
    "3\n",
    "print(a)\n",
    "None\n",
    "sum\n",
    "<function __main__.sum(a, b)>\n",
    "print(sum)\n",
    "<function sum at 0x000002827C806020>\n",
    "a = 2\n",
    "b = 3\n",
    "sum(a, b)\n",
    "5\n",
    "2\n",
    "a = 323\n",
    "id(a)\n",
    "2759456503184\n",
    "def memory(a):\n",
    "    print(\"The value of the argument is = \", c)\n",
    "    print(\"The memory address of a is = \",id(c) )\n",
    "    print(\"The type of function :\", type(c))\n",
    "memory('1')"
   ]
  },
  {
   "cell_type": "code",
   "execution_count": 6,
   "id": "9b2968a5",
   "metadata": {},
   "outputs": [
    {
     "name": "stdout",
     "output_type": "stream",
     "text": [
      "4.0\n"
     ]
    }
   ],
   "source": [
    "print(a)"
   ]
  },
  {
   "cell_type": "code",
   "execution_count": 5,
   "id": "a12f91c8",
   "metadata": {},
   "outputs": [],
   "source": [
    "a = 4.0"
   ]
  },
  {
   "cell_type": "code",
   "execution_count": 7,
   "id": "26c50f05",
   "metadata": {},
   "outputs": [
    {
     "name": "stdout",
     "output_type": "stream",
     "text": [
      "<class 'float'>\n"
     ]
    }
   ],
   "source": [
    "print(type(a))"
   ]
  },
  {
   "cell_type": "code",
   "execution_count": 8,
   "id": "fad83e4f",
   "metadata": {},
   "outputs": [
    {
     "name": "stdout",
     "output_type": "stream",
     "text": [
      "<class 'int'>\n"
     ]
    }
   ],
   "source": [
    "b = -4\n",
    "print(type(b))"
   ]
  },
  {
   "cell_type": "code",
   "execution_count": 9,
   "id": "1b857b2e",
   "metadata": {},
   "outputs": [
    {
     "name": "stdout",
     "output_type": "stream",
     "text": [
      "<class 'str'>\n"
     ]
    }
   ],
   "source": [
    "c = '4'\n",
    "print(type(c))"
   ]
  },
  {
   "cell_type": "code",
   "execution_count": 10,
   "id": "d4d3116a",
   "metadata": {},
   "outputs": [
    {
     "name": "stdout",
     "output_type": "stream",
     "text": [
      "<class 'str'>\n"
     ]
    }
   ],
   "source": [
    "c = 'Hello world'\n",
    "print(type(c))"
   ]
  },
  {
   "cell_type": "code",
   "execution_count": 11,
   "id": "6de3b260",
   "metadata": {},
   "outputs": [
    {
     "name": "stdout",
     "output_type": "stream",
     "text": [
      "<class 'bool'>\n"
     ]
    }
   ],
   "source": [
    "d = True\n",
    "print(type(d))"
   ]
  },
  {
   "cell_type": "code",
   "execution_count": 12,
   "id": "7682db44",
   "metadata": {},
   "outputs": [
    {
     "name": "stdout",
     "output_type": "stream",
     "text": [
      "hello world, my name is tushar\n"
     ]
    }
   ],
   "source": [
    "print('hello world, my name is tushar')"
   ]
  },
  {
   "cell_type": "code",
   "execution_count": 13,
   "id": "8e9600e0",
   "metadata": {},
   "outputs": [
    {
     "data": {
      "text/plain": [
       "<function print(*args, sep=' ', end='\\n', file=None, flush=False)>"
      ]
     },
     "execution_count": 13,
     "metadata": {},
     "output_type": "execute_result"
    }
   ],
   "source": [
    "print"
   ]
  },
  {
   "cell_type": "code",
   "execution_count": 14,
   "id": "04f35fac",
   "metadata": {},
   "outputs": [
    {
     "name": "stdout",
     "output_type": "stream",
     "text": [
      "<built-in function print>\n"
     ]
    }
   ],
   "source": [
    "print(print)"
   ]
  },
  {
   "cell_type": "code",
   "execution_count": 15,
   "id": "5947a832",
   "metadata": {},
   "outputs": [],
   "source": [
    "def sum(a, b):\n",
    "    print(a+b)\n",
    "    print(a)"
   ]
  },
  {
   "cell_type": "code",
   "execution_count": 16,
   "id": "e3bf060d",
   "metadata": {},
   "outputs": [
    {
     "name": "stdout",
     "output_type": "stream",
     "text": [
      "7\n",
      "3\n"
     ]
    }
   ],
   "source": [
    "sum(3,4)"
   ]
  },
  {
   "cell_type": "code",
   "execution_count": 17,
   "id": "598523d2",
   "metadata": {},
   "outputs": [
    {
     "name": "stdout",
     "output_type": "stream",
     "text": [
      "7\n",
      "3\n"
     ]
    }
   ],
   "source": [
    "a = sum(3,4)"
   ]
  },
  {
   "cell_type": "code",
   "execution_count": 18,
   "id": "87dfc9d3",
   "metadata": {},
   "outputs": [
    {
     "name": "stdout",
     "output_type": "stream",
     "text": [
      "None\n"
     ]
    }
   ],
   "source": [
    "print(a)"
   ]
  },
  {
   "cell_type": "code",
   "execution_count": 19,
   "id": "6658dfd2",
   "metadata": {},
   "outputs": [
    {
     "data": {
      "text/plain": [
       "<function __main__.sum(a, b)>"
      ]
     },
     "execution_count": 19,
     "metadata": {},
     "output_type": "execute_result"
    }
   ],
   "source": [
    "sum"
   ]
  },
  {
   "cell_type": "code",
   "execution_count": 20,
   "id": "41a6bee6",
   "metadata": {},
   "outputs": [
    {
     "name": "stdout",
     "output_type": "stream",
     "text": [
      "<function sum at 0x0000025B2B48AAC0>\n"
     ]
    }
   ],
   "source": [
    "print(sum)"
   ]
  },
  {
   "cell_type": "code",
   "execution_count": 21,
   "id": "cc53bb40",
   "metadata": {},
   "outputs": [
    {
     "name": "stdout",
     "output_type": "stream",
     "text": [
      "5\n",
      "2\n"
     ]
    }
   ],
   "source": [
    "a = 2\n",
    "b = 3\n",
    "sum(a, b)"
   ]
  },
  {
   "cell_type": "code",
   "execution_count": 22,
   "id": "7844a8af",
   "metadata": {},
   "outputs": [],
   "source": [
    "a = 323"
   ]
  },
  {
   "cell_type": "code",
   "execution_count": 23,
   "id": "3bfae66f",
   "metadata": {},
   "outputs": [
    {
     "data": {
      "text/plain": [
       "2590607575504"
      ]
     },
     "execution_count": 23,
     "metadata": {},
     "output_type": "execute_result"
    }
   ],
   "source": [
    "id(a)"
   ]
  },
  {
   "cell_type": "code",
   "execution_count": 24,
   "id": "d2403c9e",
   "metadata": {},
   "outputs": [],
   "source": [
    "def memory(a):\n",
    "    print(\"The value of the argument is = \", c)\n",
    "    print(\"The memory address of a is = \",id(c) )\n",
    "    print(\"The type of function :\", type(c))"
   ]
  },
  {
   "cell_type": "code",
   "execution_count": 25,
   "id": "7b98a913",
   "metadata": {},
   "outputs": [
    {
     "name": "stdout",
     "output_type": "stream",
     "text": [
      "The value of the argument is =  Hello world\n",
      "The memory address of a is =  2590591415792\n",
      "The type of function : <class 'str'>\n"
     ]
    }
   ],
   "source": [
    "memory('1')"
   ]
  },
  {
   "cell_type": "code",
   "execution_count": 26,
   "id": "6e2167ec",
   "metadata": {},
   "outputs": [],
   "source": [
    "c = '3'"
   ]
  },
  {
   "cell_type": "code",
   "execution_count": 27,
   "id": "6b12e8f1",
   "metadata": {},
   "outputs": [
    {
     "data": {
      "text/plain": [
       "51"
      ]
     },
     "execution_count": 27,
     "metadata": {},
     "output_type": "execute_result"
    }
   ],
   "source": [
    "ord(c)  #function for Ascii value"
   ]
  },
  {
   "cell_type": "code",
   "execution_count": 28,
   "id": "e3bc79c8",
   "metadata": {},
   "outputs": [
    {
     "name": "stdout",
     "output_type": "stream",
     "text": [
      "The value of the argument is =  3\n",
      "The memory address of a is =  140728666766576\n",
      "The type of function : <class 'str'>\n"
     ]
    }
   ],
   "source": [
    "memory(sum)   #memory address of that sum function"
   ]
  },
  {
   "cell_type": "code",
   "execution_count": 29,
   "id": "71eb0ea5",
   "metadata": {},
   "outputs": [
    {
     "name": "stdout",
     "output_type": "stream",
     "text": [
      "<class 'builtin_function_or_method'>\n"
     ]
    }
   ],
   "source": [
    "print(type(print))"
   ]
  },
  {
   "cell_type": "code",
   "execution_count": 30,
   "id": "34107072",
   "metadata": {},
   "outputs": [
    {
     "data": {
      "text/plain": [
       "2590496760880"
      ]
     },
     "execution_count": 30,
     "metadata": {},
     "output_type": "execute_result"
    }
   ],
   "source": [
    "id(print)"
   ]
  },
  {
   "cell_type": "code",
   "execution_count": 31,
   "id": "a70a32d9",
   "metadata": {},
   "outputs": [],
   "source": [
    "a = 10\n",
    "aa = print"
   ]
  },
  {
   "cell_type": "code",
   "execution_count": 32,
   "id": "2490d702",
   "metadata": {},
   "outputs": [
    {
     "ename": "TypeError",
     "evalue": "'int' object is not callable",
     "output_type": "error",
     "traceback": [
      "\u001b[1;31m---------------------------------------------------------------------------\u001b[0m",
      "\u001b[1;31mTypeError\u001b[0m                                 Traceback (most recent call last)",
      "Cell \u001b[1;32mIn[32], line 1\u001b[0m\n\u001b[1;32m----> 1\u001b[0m a()\n",
      "\u001b[1;31mTypeError\u001b[0m: 'int' object is not callable"
     ]
    }
   ],
   "source": [
    "a()"
   ]
  },
  {
   "cell_type": "code",
   "execution_count": 33,
   "id": "3b3dec81",
   "metadata": {},
   "outputs": [
    {
     "name": "stdout",
     "output_type": "stream",
     "text": [
      "Hello world\n"
     ]
    }
   ],
   "source": [
    "aa('Hello world')"
   ]
  },
  {
   "cell_type": "code",
   "execution_count": 34,
   "id": "c696abe7",
   "metadata": {},
   "outputs": [
    {
     "name": "stdout",
     "output_type": "stream",
     "text": [
      "Enter the number : 23\n"
     ]
    },
    {
     "data": {
      "text/plain": [
       "'23'"
      ]
     },
     "execution_count": 34,
     "metadata": {},
     "output_type": "execute_result"
    }
   ],
   "source": [
    "b = input\n",
    "b('Enter the number : ')  # this b act as a variable now "
   ]
  },
  {
   "cell_type": "code",
   "execution_count": 35,
   "id": "9220accc",
   "metadata": {},
   "outputs": [],
   "source": [
    "def summer(a,b):\n",
    "    print(a+b)\n",
    "    print(a)\n",
    "    print(b)\n",
    "    return (a + b),(a-b) #return the value of (a+b), (a-b) for future use."
   ]
  },
  {
   "cell_type": "code",
   "execution_count": 36,
   "id": "a11d924c",
   "metadata": {},
   "outputs": [
    {
     "name": "stdout",
     "output_type": "stream",
     "text": [
      "30\n",
      "10\n",
      "20\n"
     ]
    },
    {
     "data": {
      "text/plain": [
       "(30, -10)"
      ]
     },
     "execution_count": 36,
     "metadata": {},
     "output_type": "execute_result"
    }
   ],
   "source": [
    "summer(10,20)"
   ]
  },
  {
   "cell_type": "code",
   "execution_count": 37,
   "id": "59f1db48",
   "metadata": {},
   "outputs": [
    {
     "name": "stdout",
     "output_type": "stream",
     "text": [
      "30\n",
      "10\n",
      "20\n",
      "(30, -10)\n"
     ]
    }
   ],
   "source": [
    "print(summer(10,20))"
   ]
  },
  {
   "cell_type": "code",
   "execution_count": 38,
   "id": "349c8fc6",
   "metadata": {},
   "outputs": [],
   "source": [
    "def calc(a,b):\n",
    "    return (a+b),(a-b),(a*b),(a/b)    "
   ]
  },
  {
   "cell_type": "code",
   "execution_count": 45,
   "id": "9b8385ee",
   "metadata": {},
   "outputs": [],
   "source": [
    "def calc(a,b):\n",
    "    return (a+b),(a-b),(a*b),(a/b)    \n"
   ]
  },
  {
   "cell_type": "code",
   "execution_count": null,
   "id": "a3582905",
   "metadata": {},
   "outputs": [],
   "source": []
  }
 ],
 "metadata": {
  "kernelspec": {
   "display_name": "Python 3 (ipykernel)",
   "language": "python",
   "name": "python3"
  },
  "language_info": {
   "codemirror_mode": {
    "name": "ipython",
    "version": 3
   },
   "file_extension": ".py",
   "mimetype": "text/x-python",
   "name": "python",
   "nbconvert_exporter": "python",
   "pygments_lexer": "ipython3",
   "version": "3.11.5"
  }
 },
 "nbformat": 4,
 "nbformat_minor": 5
}
