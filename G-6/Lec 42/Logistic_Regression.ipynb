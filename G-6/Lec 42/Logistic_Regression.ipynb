{
 "cells": [
  {
   "cell_type": "code",
   "execution_count": 1,
   "id": "6bfcce9c",
   "metadata": {},
   "outputs": [],
   "source": [
    "import matplotlib.pyplot as plt \n",
    "import pandas as pd\n",
    "import numpy as np\n",
    "import sklearn"
   ]
  },
  {
   "cell_type": "code",
   "execution_count": 2,
   "id": "03096d9c",
   "metadata": {},
   "outputs": [],
   "source": [
    "u_1 = np.array([2, 2])\n",
    "u_2 = np.array([-5, -3])"
   ]
  },
  {
   "cell_type": "code",
   "execution_count": 3,
   "id": "627dfcec",
   "metadata": {},
   "outputs": [],
   "source": [
    "cov_1 = np.array([[0.5, 2], [1, 1]])\n",
    "cov_2 = np.array([[1.5, 2], [2, 1]])"
   ]
  },
  {
   "cell_type": "code",
   "execution_count": 4,
   "id": "60dea6ea",
   "metadata": {},
   "outputs": [
    {
     "name": "stderr",
     "output_type": "stream",
     "text": [
      "C:\\Users\\Lenovo\\AppData\\Local\\Temp\\ipykernel_9480\\1953260279.py:1: RuntimeWarning: covariance is not symmetric positive-semidefinite.\n",
      "  d1 = np.random.multivariate_normal(u_1, cov_1, 500) # cat\n",
      "C:\\Users\\Lenovo\\AppData\\Local\\Temp\\ipykernel_9480\\1953260279.py:2: RuntimeWarning: covariance is not symmetric positive-semidefinite.\n",
      "  d2 = np.random.multivariate_normal(u_2, cov_2, 500) # dog\n"
     ]
    }
   ],
   "source": [
    "d1 = np.random.multivariate_normal(u_1, cov_1, 500) # cat\n",
    "d2 = np.random.multivariate_normal(u_2, cov_2, 500) # dog"
   ]
  },
  {
   "cell_type": "code",
   "execution_count": 5,
   "id": "f6c1788a",
   "metadata": {},
   "outputs": [
    {
     "data": {
      "text/plain": [
       "<matplotlib.collections.PathCollection at 0x262a6fe63d0>"
      ]
     },
     "execution_count": 5,
     "metadata": {},
     "output_type": "execute_result"
    },
    {
     "data": {
      "image/png": "[encoded data removed]",
      "text/plain": [
       "<Figure size 640x480 with 1 Axes>"
      ]
     },
     "metadata": {},
     "output_type": "display_data"
    }
   ],
   "source": [
    "plt.scatter(d1[:,0], d1[:, 1])\n",
    "plt.scatter(d2[:, 0], d2[:, 1])"
   ]
  },
  {
   "cell_type": "code",
   "execution_count": 6,
   "id": "e6f91e69",
   "metadata": {},
   "outputs": [],
   "source": [
    "dataset = np.ones((1000, 4))"
   ]
  },
  {
   "cell_type": "code",
   "execution_count": 7,
   "id": "4063c94c",
   "metadata": {},
   "outputs": [
    {
     "data": {
      "text/plain": [
       "(500, 2)"
      ]
     },
     "execution_count": 7,
     "metadata": {},
     "output_type": "execute_result"
    }
   ],
   "source": [
    "d1.shape"
   ]
  },
  {
   "cell_type": "code",
   "execution_count": 8,
   "id": "1523fcc2",
   "metadata": {},
   "outputs": [
    {
     "data": {
      "text/plain": [
       "array([[1., 1., 1., 1.],\n",
       "       [1., 1., 1., 1.],\n",
       "       [1., 1., 1., 1.],\n",
       "       [1., 1., 1., 1.]])"
      ]
     },
     "execution_count": 8,
     "metadata": {},
     "output_type": "execute_result"
    }
   ],
   "source": [
    "dataset[:4]"
   ]
  },
  {
   "cell_type": "code",
   "execution_count": 9,
   "id": "3a2fe401",
   "metadata": {},
   "outputs": [],
   "source": [
    "dataset[:500, 1:3] = d1"
   ]
  },
  {
   "cell_type": "code",
   "execution_count": 10,
   "id": "1d1acb39",
   "metadata": {},
   "outputs": [],
   "source": [
    "dataset[500:, 1:3] = d2"
   ]
  },
  {
   "cell_type": "code",
   "execution_count": 11,
   "id": "bd62de15",
   "metadata": {},
   "outputs": [],
   "source": [
    "dataset[:500,-1] = 0"
   ]
  },
  {
   "cell_type": "code",
   "execution_count": 12,
   "id": "d0fef225",
   "metadata": {},
   "outputs": [
    {
     "data": {
      "text/plain": [
       "array([[1.        , 1.08237942, 3.13414214, 0.        ],\n",
       "       [1.        , 3.32642052, 3.73630791, 0.        ],\n",
       "       [1.        , 1.1266789 , 2.58975514, 0.        ],\n",
       "       [1.        , 1.76816966, 1.09254968, 0.        ]])"
      ]
     },
     "execution_count": 12,
     "metadata": {},
     "output_type": "execute_result"
    }
   ],
   "source": [
    "dataset[:4]"
   ]
  },
  {
   "cell_type": "code",
   "execution_count": 13,
   "id": "6e3717ba",
   "metadata": {},
   "outputs": [
    {
     "data": {
      "text/plain": [
       "array([[ 1.        , -3.67775683, -2.11935368,  1.        ],\n",
       "       [ 1.        , -5.81564846, -2.14030639,  1.        ],\n",
       "       [ 1.        , -5.98752744, -4.74252631,  1.        ],\n",
       "       [ 1.        , -0.84476637,  0.38751886,  1.        ]])"
      ]
     },
     "execution_count": 13,
     "metadata": {},
     "output_type": "execute_result"
    }
   ],
   "source": [
    "dataset[-4:]"
   ]
  },
  {
   "cell_type": "code",
   "execution_count": 14,
   "id": "37b4820e",
   "metadata": {},
   "outputs": [],
   "source": [
    "np.random.shuffle(dataset)"
   ]
  },
  {
   "cell_type": "code",
   "execution_count": 15,
   "id": "071c8fa3",
   "metadata": {},
   "outputs": [
    {
     "data": {
      "text/plain": [
       "array([[ 1.        ,  1.27071507,  2.79797026,  0.        ],\n",
       "       [ 1.        , -6.4730023 , -3.83549361,  1.        ],\n",
       "       [ 1.        , -4.87953625, -2.48959371,  1.        ],\n",
       "       [ 1.        ,  1.4456642 ,  0.8276828 ,  0.        ]])"
      ]
     },
     "execution_count": 15,
     "metadata": {},
     "output_type": "execute_result"
    }
   ],
   "source": [
    "dataset[:4]"
   ]
  },
  {
   "cell_type": "code",
   "execution_count": 16,
   "id": "4739fec4",
   "metadata": {},
   "outputs": [
    {
     "data": {
      "text/plain": [
       "(1000, 4)"
      ]
     },
     "execution_count": 16,
     "metadata": {},
     "output_type": "execute_result"
    }
   ],
   "source": [
    "dataset.shape"
   ]
  },
  {
   "cell_type": "code",
   "execution_count": 17,
   "id": "c9bd019d",
   "metadata": {},
   "outputs": [],
   "source": [
    "x_train = dataset[:800, :-1]\n",
    "y_train = dataset[:800, -1 ]\n",
    "x_test = dataset[800:, :-1]\n",
    "y_test = dataset[800:, -1]"
   ]
  },
  {
   "cell_type": "code",
   "execution_count": 18,
   "id": "4066f858",
   "metadata": {},
   "outputs": [
    {
     "name": "stdout",
     "output_type": "stream",
     "text": [
      "(800, 3) (800,) (200,) (200, 3)\n"
     ]
    }
   ],
   "source": [
    "print(x_train.shape, y_train.shape, y_test.shape, x_test.shape)"
   ]
  },
  {
   "cell_type": "code",
   "execution_count": 19,
   "id": "f69b84df",
   "metadata": {},
   "outputs": [],
   "source": [
    "y_train = y_train.reshape((-1, 1))"
   ]
  },
  {
   "cell_type": "code",
   "execution_count": 20,
   "id": "eb88e03d",
   "metadata": {},
   "outputs": [
    {
     "name": "stdout",
     "output_type": "stream",
     "text": [
      "(800, 1)\n"
     ]
    }
   ],
   "source": [
    "print(y_train.shape)"
   ]
  },
  {
   "cell_type": "code",
   "execution_count": 21,
   "id": "f17dde71",
   "metadata": {},
   "outputs": [],
   "source": [
    "def sigmoid(x):\n",
    "    return 1/(1 + np.exp(-x))"
   ]
  },
  {
   "cell_type": "code",
   "execution_count": 22,
   "id": "63461004",
   "metadata": {},
   "outputs": [],
   "source": [
    "def hypothesis(X, theta):\n",
    "    return 1/(1 + np.exp(-(np.dot(X, theta))))\n",
    "    \n",
    "# def hypothesis(X, theta):\n",
    "#     return sigmoid(np.dot(X, theta))"
   ]
  },
  {
   "cell_type": "code",
   "execution_count": 23,
   "id": "e910ffea",
   "metadata": {},
   "outputs": [],
   "source": [
    "def cost(X, Y, theta):\n",
    "    \n",
    "    y_p = hypothesis(X, theta)\n",
    "    \n",
    "    loss = -1*(np.mean(Y*np.log(y_p) + (1- Y)*np.log(1 - y_p)))\n",
    "    \n",
    "    return loss"
   ]
  },
  {
   "cell_type": "code",
   "execution_count": 24,
   "id": "74b93fe9",
   "metadata": {},
   "outputs": [],
   "source": [
    "def gradient(X, Y, theta):\n",
    "    \n",
    "    y_p = hypothesis(X, theta)\n",
    "    \n",
    "    grad = np.dot(X.T , (Y - y_p))\n",
    "    \n",
    "    return grad/X.shape[0]"
   ]
  },
  {
   "cell_type": "code",
   "execution_count": 25,
   "id": "d762f252",
   "metadata": {},
   "outputs": [],
   "source": [
    "def gradient_descent(X, Y, learning_rate = 0.3, epochs = 100):\n",
    "    \n",
    "    m,n = X.shape\n",
    "    \n",
    "    theta = np.zeros((n , 1))\n",
    "    print(theta.shape)\n",
    "    cost_epoch = []\n",
    "    \n",
    "    for i in range(epochs):\n",
    "        \n",
    "        print('The algo is on epoch no : ',i, end = '\\r')\n",
    "        \n",
    "        loss = cost(X, Y, theta)\n",
    "        \n",
    "        grad = gradient(X, Y, theta)\n",
    "        \n",
    "        cost_epoch.append(loss)\n",
    "        \n",
    "        theta = theta + learning_rate*grad\n",
    "        \n",
    "    print(grad.shape, theta.shape)\n",
    "    return theta, cost_epoch    \n"
   ]
  },
  {
   "cell_type": "code",
   "execution_count": 26,
   "id": "96b29fc4",
   "metadata": {},
   "outputs": [
    {
     "name": "stdout",
     "output_type": "stream",
     "text": [
      "(3, 1)\n"
     ]
    },
    {
     "name": "stdout",
     "output_type": "stream",
     "text": [
      "The algo is on epoch no :  0\r",
      "The algo is on epoch no :  1\r",
      "The algo is on epoch no :  2\r",
      "The algo is on epoch no :  3\r",
      "The algo is on epoch no :  4\r",
      "The algo is on epoch no :  5\r",
      "The algo is on epoch no :  6\r",
      "The algo is on epoch no :  7\r",
      "The algo is on epoch no :  8\r",
      "The algo is on epoch no :  9\r",
      "The algo is on epoch no :  10\r",
      "The algo is on epoch no :  11\r",
      "The algo is on epoch no :  12\r",
      "The algo is on epoch no :  13\r",
      "The algo is on epoch no :  14\r",
      "The algo is on epoch no :  15\r",
      "The algo is on epoch no :  16\r",
      "The algo is on epoch no :  17\r",
      "The algo is on epoch no :  18\r",
      "The algo is on epoch no :  19\r",
      "The algo is on epoch no :  20\r",
      "The algo is on epoch no :  21\r",
      "The algo is on epoch no :  22\r",
      "The algo is on epoch no :  23\r",
      "The algo is on epoch no :  24\r",
      "The algo is on epoch no :  25\r",
      "The algo is on epoch no :  26\r",
      "The algo is on epoch no :  27\r",
      "The algo is on epoch no :  28\r",
      "The algo is on epoch no :  29\r",
      "The algo is on epoch no :  30\r",
      "The algo is on epoch no :  31\r",
      "The algo is on epoch no :  32\r",
      "The algo is on epoch no :  33\r",
      "The algo is on epoch no :  34\r",
      "The algo is on epoch no :  35\r",
      "The algo is on epoch no :  36\r",
      "The algo is on epoch no :  37\r",
      "The algo is on epoch no :  38\r",
      "The algo is on epoch no :  39\r",
      "The algo is on epoch no :  40\r",
      "The algo is on epoch no :  41\r",
      "The algo is on epoch no :  42\r",
      "The algo is on epoch no :  43\r",
      "The algo is on epoch no :  44\r",
      "The algo is on epoch no :  45\r",
      "The algo is on epoch no :  46\r",
      "The algo is on epoch no :  47\r",
      "The algo is on epoch no :  48\r",
      "The algo is on epoch no :  49\r",
      "The algo is on epoch no :  50\r",
      "The algo is on epoch no :  51\r",
      "The algo is on epoch no :  52\r",
      "The algo is on epoch no :  53\r",
      "The algo is on epoch no :  54\r",
      "The algo is on epoch no :  55\r",
      "The algo is on epoch no :  56\r",
      "The algo is on epoch no :  57\r",
      "The algo is on epoch no :  58\r",
      "The algo is on epoch no :  59\r",
      "The algo is on epoch no :  60\r",
      "The algo is on epoch no :  61\r",
      "The algo is on epoch no :  62\r",
      "The algo is on epoch no :  63\r",
      "The algo is on epoch no :  64\r",
      "The algo is on epoch no :  65\r",
      "The algo is on epoch no :  66\r",
      "The algo is on epoch no :  67\r",
      "The algo is on epoch no :  68\r",
      "The algo is on epoch no :  69\r",
      "The algo is on epoch no :  70\r",
      "The algo is on epoch no :  71\r",
      "The algo is on epoch no :  72\r",
      "The algo is on epoch no :  73\r",
      "The algo is on epoch no :  74\r",
      "The algo is on epoch no :  75\r",
      "The algo is on epoch no :  76\r",
      "The algo is on epoch no :  77\r",
      "The algo is on epoch no :  78\r",
      "The algo is on epoch no :  79\r",
      "The algo is on epoch no :  80\r",
      "The algo is on epoch no :  81\r",
      "The algo is on epoch no :  82\r",
      "The algo is on epoch no :  83\r",
      "The algo is on epoch no :  84\r",
      "The algo is on epoch no :  85\r",
      "The algo is on epoch no :  86\r",
      "The algo is on epoch no :  87\r",
      "The algo is on epoch no :  88\r",
      "The algo is on epoch no :  89\r",
      "The algo is on epoch no :  90\r",
      "The algo is on epoch no :  91\r",
      "The algo is on epoch no :  92\r",
      "The algo is on epoch no :  93\r",
      "The algo is on epoch no :  94\r",
      "The algo is on epoch no :  95\r",
      "The algo is on epoch no :  96\r",
      "The algo is on epoch no :  97\r",
      "The algo is on epoch no :  98\r",
      "The algo is on epoch no :  99\r",
      "The algo is on epoch no :  100\r",
      "The algo is on epoch no :  101\r",
      "The algo is on epoch no :  102\r",
      "The algo is on epoch no :  103\r",
      "The algo is on epoch no :  104\r",
      "The algo is on epoch no :  105\r",
      "The algo is on epoch no :  106\r",
      "The algo is on epoch no :  107\r",
      "The algo is on epoch no :  108\r",
      "The algo is on epoch no :  109\r",
      "The algo is on epoch no :  110\r",
      "The algo is on epoch no :  111\r",
      "The algo is on epoch no :  112\r",
      "The algo is on epoch no :  113\r",
      "The algo is on epoch no :  114\r",
      "The algo is on epoch no :  115\r",
      "The algo is on epoch no :  116\r",
      "The algo is on epoch no :  117\r",
      "The algo is on epoch no :  118\r",
      "The algo is on epoch no :  119\r",
      "The algo is on epoch no :  120\r",
      "The algo is on epoch no :  121\r",
      "The algo is on epoch no :  122\r",
      "The algo is on epoch no :  123\r",
      "The algo is on epoch no :  124\r",
      "The algo is on epoch no :  125\r",
      "The algo is on epoch no :  126\r",
      "The algo is on epoch no :  127\r",
      "The algo is on epoch no :  128\r",
      "The algo is on epoch no :  129\r",
      "The algo is on epoch no :  130\r",
      "The algo is on epoch no :  131\r",
      "The algo is on epoch no :  132\r",
      "The algo is on epoch no :  133\r",
      "The algo is on epoch no :  134\r",
      "The algo is on epoch no :  135\r",
      "The algo is on epoch no :  136\r",
      "The algo is on epoch no :  137\r",
      "The algo is on epoch no :  138\r",
      "The algo is on epoch no :  139\r",
      "The algo is on epoch no :  140\r",
      "The algo is on epoch no :  141\r",
      "The algo is on epoch no :  142\r",
      "The algo is on epoch no :  143\r",
      "The algo is on epoch no :  144\r",
      "The algo is on epoch no :  145\r",
      "The algo is on epoch no :  146\r",
      "The algo is on epoch no :  147\r",
      "The algo is on epoch no :  148\r",
      "The algo is on epoch no :  149\r",
      "The algo is on epoch no :  150\r",
      "The algo is on epoch no :  151\r",
      "The algo is on epoch no :  152\r",
      "The algo is on epoch no :  153\r",
      "The algo is on epoch no :  154\r",
      "The algo is on epoch no :  155\r",
      "The algo is on epoch no :  156\r",
      "The algo is on epoch no :  157\r",
      "The algo is on epoch no :  158\r",
      "The algo is on epoch no :  159\r",
      "The algo is on epoch no :  160\r",
      "The algo is on epoch no :  161\r",
      "The algo is on epoch no :  162\r",
      "The algo is on epoch no :  163\r",
      "The algo is on epoch no :  164\r",
      "The algo is on epoch no :  165\r",
      "The algo is on epoch no :  166\r",
      "The algo is on epoch no :  167\r",
      "The algo is on epoch no :  168\r",
      "The algo is on epoch no :  169\r",
      "The algo is on epoch no :  170\r",
      "The algo is on epoch no :  171\r",
      "The algo is on epoch no :  172\r",
      "The algo is on epoch no :  173\r",
      "The algo is on epoch no :  174\r",
      "The algo is on epoch no :  175\r",
      "The algo is on epoch no :  176\r",
      "The algo is on epoch no :  177\r",
      "The algo is on epoch no :  178\r",
      "The algo is on epoch no :  179\r",
      "The algo is on epoch no :  180\r",
      "The algo is on epoch no :  181\r",
      "The algo is on epoch no :  182\r",
      "The algo is on epoch no :  183\r",
      "The algo is on epoch no :  184\r",
      "The algo is on epoch no :  185\r",
      "The algo is on epoch no :  186\r",
      "The algo is on epoch no :  187\r",
      "The algo is on epoch no :  188\r",
      "The algo is on epoch no :  189\r",
      "The algo is on epoch no :  190\r",
      "The algo is on epoch no :  191\r",
      "The algo is on epoch no :  192\r",
      "The algo is on epoch no :  193\r",
      "The algo is on epoch no :  194\r",
      "The algo is on epoch no :  195\r",
      "The algo is on epoch no :  196\r",
      "The algo is on epoch no :  197\r",
      "The algo is on epoch no :  198\r",
      "The algo is on epoch no :  199\r",
      "The algo is on epoch no :  200\r",
      "The algo is on epoch no :  201\r",
      "The algo is on epoch no :  202\r",
      "The algo is on epoch no :  203\r",
      "The algo is on epoch no :  204\r",
      "The algo is on epoch no :  205\r",
      "The algo is on epoch no :  206\r",
      "The algo is on epoch no :  207\r",
      "The algo is on epoch no :  208\r",
      "The algo is on epoch no :  209\r",
      "The algo is on epoch no :  210\r",
      "The algo is on epoch no :  211\r",
      "The algo is on epoch no :  212\r",
      "The algo is on epoch no :  213\r",
      "The algo is on epoch no :  214\r",
      "The algo is on epoch no :  215\r",
      "The algo is on epoch no :  216\r",
      "The algo is on epoch no :  217\r",
      "The algo is on epoch no :  218\r",
      "The algo is on epoch no :  219\r",
      "The algo is on epoch no :  220\r",
      "The algo is on epoch no :  221\r",
      "The algo is on epoch no :  222\r",
      "The algo is on epoch no :  223\r",
      "The algo is on epoch no :  224\r",
      "The algo is on epoch no :  225\r",
      "The algo is on epoch no :  226\r",
      "The algo is on epoch no :  227\r",
      "The algo is on epoch no :  228\r",
      "The algo is on epoch no :  229\r",
      "The algo is on epoch no :  230\r",
      "The algo is on epoch no :  231\r",
      "The algo is on epoch no :  232\r",
      "The algo is on epoch no :  233\r",
      "The algo is on epoch no :  234\r",
      "The algo is on epoch no :  235\r",
      "The algo is on epoch no :  236\r",
      "The algo is on epoch no :  237\r",
      "The algo is on epoch no :  238\r",
      "The algo is on epoch no :  239\r",
      "The algo is on epoch no :  240\r",
      "The algo is on epoch no :  241\r",
      "The algo is on epoch no :  242\r",
      "The algo is on epoch no :  243\r",
      "The algo is on epoch no :  244\r",
      "The algo is on epoch no :  245\r",
      "The algo is on epoch no :  246\r",
      "The algo is on epoch no :  247\r",
      "The algo is on epoch no :  248\r",
      "The algo is on epoch no :  249\r",
      "The algo is on epoch no :  250\r",
      "The algo is on epoch no :  251\r",
      "The algo is on epoch no :  252\r",
      "The algo is on epoch no :  253\r",
      "The algo is on epoch no :  254\r",
      "The algo is on epoch no :  255\r",
      "The algo is on epoch no :  256\r",
      "The algo is on epoch no :  257\r",
      "The algo is on epoch no :  258\r",
      "The algo is on epoch no :  259\r",
      "The algo is on epoch no :  260\r",
      "The algo is on epoch no :  261\r",
      "The algo is on epoch no :  262\r",
      "The algo is on epoch no :  263\r",
      "The algo is on epoch no :  264\r",
      "The algo is on epoch no :  265\r",
      "The algo is on epoch no :  266\r",
      "The algo is on epoch no :  267\r",
      "The algo is on epoch no :  268\r",
      "The algo is on epoch no :  269\r",
      "The algo is on epoch no :  270\r",
      "The algo is on epoch no :  271\r",
      "The algo is on epoch no :  272\r",
      "The algo is on epoch no :  273\r",
      "The algo is on epoch no :  274\r",
      "The algo is on epoch no :  275\r",
      "The algo is on epoch no :  276\r",
      "The algo is on epoch no :  277\r",
      "The algo is on epoch no :  278\r",
      "The algo is on epoch no :  279\r",
      "The algo is on epoch no :  280\r",
      "The algo is on epoch no :  281\r",
      "The algo is on epoch no :  282\r",
      "The algo is on epoch no :  283\r",
      "The algo is on epoch no :  284\r",
      "The algo is on epoch no :  285\r",
      "The algo is on epoch no :  286\r",
      "The algo is on epoch no :  287\r",
      "The algo is on epoch no :  288\r",
      "The algo is on epoch no :  289\r",
      "The algo is on epoch no :  290\r",
      "The algo is on epoch no :  291\r",
      "The algo is on epoch no :  292\r",
      "The algo is on epoch no :  293\r",
      "The algo is on epoch no :  294\r",
      "The algo is on epoch no :  295\r",
      "The algo is on epoch no :  296\r",
      "The algo is on epoch no :  297\r",
      "The algo is on epoch no :  298\r",
      "The algo is on epoch no :  299\r",
      "The algo is on epoch no :  300\r",
      "The algo is on epoch no :  301\r",
      "The algo is on epoch no :  302\r",
      "The algo is on epoch no :  303\r",
      "The algo is on epoch no :  304\r",
      "The algo is on epoch no :  305\r",
      "The algo is on epoch no :  306\r",
      "The algo is on epoch no :  307\r",
      "The algo is on epoch no :  308\r",
      "The algo is on epoch no :  309\r",
      "The algo is on epoch no :  310\r",
      "The algo is on epoch no :  311\r",
      "The algo is on epoch no :  312\r",
      "The algo is on epoch no :  313\r",
      "The algo is on epoch no :  314\r",
      "The algo is on epoch no :  315\r",
      "The algo is on epoch no :  316\r",
      "The algo is on epoch no :  317\r",
      "The algo is on epoch no :  318\r",
      "The algo is on epoch no :  319\r",
      "The algo is on epoch no :  320\r",
      "The algo is on epoch no :  321\r",
      "The algo is on epoch no :  322\r",
      "The algo is on epoch no :  323\r",
      "The algo is on epoch no :  324\r",
      "The algo is on epoch no :  325\r",
      "The algo is on epoch no :  326\r",
      "The algo is on epoch no :  327\r",
      "The algo is on epoch no :  328\r",
      "The algo is on epoch no :  329\r",
      "The algo is on epoch no :  330\r",
      "The algo is on epoch no :  331\r",
      "The algo is on epoch no :  332\r",
      "The algo is on epoch no :  333\r",
      "The algo is on epoch no :  334\r",
      "The algo is on epoch no :  335\r",
      "The algo is on epoch no :  336\r",
      "The algo is on epoch no :  337\r",
      "The algo is on epoch no :  338\r",
      "The algo is on epoch no :  339\r",
      "The algo is on epoch no :  340\r",
      "The algo is on epoch no :  341\r",
      "The algo is on epoch no :  342\r",
      "The algo is on epoch no :  343\r",
      "The algo is on epoch no :  344\r",
      "The algo is on epoch no :  345\r",
      "The algo is on epoch no :  346\r",
      "The algo is on epoch no :  347\r",
      "The algo is on epoch no :  348\r",
      "The algo is on epoch no :  349\r",
      "The algo is on epoch no :  350\r",
      "The algo is on epoch no :  351\r",
      "The algo is on epoch no :  352\r",
      "The algo is on epoch no :  353\r",
      "The algo is on epoch no :  354\r",
      "The algo is on epoch no :  355\r",
      "The algo is on epoch no :  356\r",
      "The algo is on epoch no :  357\r",
      "The algo is on epoch no :  358\r",
      "The algo is on epoch no :  359\r",
      "The algo is on epoch no :  360\r",
      "The algo is on epoch no :  361\r",
      "The algo is on epoch no :  362\r",
      "The algo is on epoch no :  363\r",
      "The algo is on epoch no :  364\r",
      "The algo is on epoch no :  365\r",
      "The algo is on epoch no :  366\r",
      "The algo is on epoch no :  367\r",
      "The algo is on epoch no :  368\r",
      "The algo is on epoch no :  369\r",
      "The algo is on epoch no :  370\r",
      "The algo is on epoch no :  371\r",
      "The algo is on epoch no :  372\r",
      "The algo is on epoch no :  373\r",
      "The algo is on epoch no :  374\r",
      "The algo is on epoch no :  375\r",
      "The algo is on epoch no :  376\r",
      "The algo is on epoch no :  377\r",
      "The algo is on epoch no :  378\r",
      "The algo is on epoch no :  379\r",
      "The algo is on epoch no :  380\r",
      "The algo is on epoch no :  381\r",
      "The algo is on epoch no :  382\r",
      "The algo is on epoch no :  383\r",
      "The algo is on epoch no :  384\r",
      "The algo is on epoch no :  385\r",
      "The algo is on epoch no :  386\r",
      "The algo is on epoch no :  387\r",
      "The algo is on epoch no :  388\r",
      "The algo is on epoch no :  389\r",
      "The algo is on epoch no :  390\r",
      "The algo is on epoch no :  391\r",
      "The algo is on epoch no :  392\r",
      "The algo is on epoch no :  393\r",
      "The algo is on epoch no :  394\r",
      "The algo is on epoch no :  395\r",
      "The algo is on epoch no :  396\r",
      "The algo is on epoch no :  397\r",
      "The algo is on epoch no :  398\r",
      "The algo is on epoch no :  399\r",
      "The algo is on epoch no :  400\r",
      "The algo is on epoch no :  401\r",
      "The algo is on epoch no :  402\r",
      "The algo is on epoch no :  403\r",
      "The algo is on epoch no :  404\r",
      "The algo is on epoch no :  405\r",
      "The algo is on epoch no :  406\r",
      "The algo is on epoch no :  407\r",
      "The algo is on epoch no :  408\r",
      "The algo is on epoch no :  409\r",
      "The algo is on epoch no :  410\r",
      "The algo is on epoch no :  411\r",
      "The algo is on epoch no :  412\r",
      "The algo is on epoch no :  413\r",
      "The algo is on epoch no :  414\r",
      "The algo is on epoch no :  415\r",
      "The algo is on epoch no :  416\r",
      "The algo is on epoch no :  417\r",
      "The algo is on epoch no :  418\r",
      "The algo is on epoch no :  419\r",
      "The algo is on epoch no :  420\r",
      "The algo is on epoch no :  421\r",
      "The algo is on epoch no :  422\r",
      "The algo is on epoch no :  423\r",
      "The algo is on epoch no :  424\r",
      "The algo is on epoch no :  425\r",
      "The algo is on epoch no :  426\r",
      "The algo is on epoch no :  427\r",
      "The algo is on epoch no :  428\r",
      "The algo is on epoch no :  429\r",
      "The algo is on epoch no :  430\r",
      "The algo is on epoch no :  431\r",
      "The algo is on epoch no :  432\r",
      "The algo is on epoch no :  433\r",
      "The algo is on epoch no :  434\r",
      "The algo is on epoch no :  435\r",
      "The algo is on epoch no :  436\r",
      "The algo is on epoch no :  437\r",
      "The algo is on epoch no :  438\r",
      "The algo is on epoch no :  439\r",
      "The algo is on epoch no :  440\r",
      "The algo is on epoch no :  441\r",
      "The algo is on epoch no :  442\r",
      "The algo is on epoch no :  443\r",
      "The algo is on epoch no :  444\r",
      "The algo is on epoch no :  445\r",
      "The algo is on epoch no :  446\r",
      "The algo is on epoch no :  447\r",
      "The algo is on epoch no :  448\r",
      "The algo is on epoch no :  449\r",
      "The algo is on epoch no :  450\r",
      "The algo is on epoch no :  451\r",
      "The algo is on epoch no :  452\r",
      "The algo is on epoch no :  453\r",
      "The algo is on epoch no :  454\r",
      "The algo is on epoch no :  455\r",
      "The algo is on epoch no :  456\r",
      "The algo is on epoch no :  457\r",
      "The algo is on epoch no :  458\r",
      "The algo is on epoch no :  459\r",
      "The algo is on epoch no :  460\r",
      "The algo is on epoch no :  461\r",
      "The algo is on epoch no :  462\r",
      "The algo is on epoch no :  463\r",
      "The algo is on epoch no :  464\r",
      "The algo is on epoch no :  465\r",
      "The algo is on epoch no :  466\r",
      "The algo is on epoch no :  467\r",
      "The algo is on epoch no :  468\r",
      "The algo is on epoch no :  469\r",
      "The algo is on epoch no :  470\r",
      "The algo is on epoch no :  471\r",
      "The algo is on epoch no :  472\r",
      "The algo is on epoch no :  473\r",
      "The algo is on epoch no :  474\r",
      "The algo is on epoch no :  475\r",
      "The algo is on epoch no :  476\r",
      "The algo is on epoch no :  477\r",
      "The algo is on epoch no :  478\r",
      "The algo is on epoch no :  479\r",
      "The algo is on epoch no :  480\r",
      "The algo is on epoch no :  481\r",
      "The algo is on epoch no :  482\r",
      "The algo is on epoch no :  483\r",
      "The algo is on epoch no :  484\r",
      "The algo is on epoch no :  485\r",
      "The algo is on epoch no :  486\r",
      "The algo is on epoch no :  487\r",
      "The algo is on epoch no :  488\r",
      "The algo is on epoch no :  489\r",
      "The algo is on epoch no :  490\r",
      "The algo is on epoch no :  491\r",
      "The algo is on epoch no :  492\r",
      "The algo is on epoch no :  493\r",
      "The algo is on epoch no :  494\r",
      "The algo is on epoch no :  495\r",
      "The algo is on epoch no :  496\r",
      "The algo is on epoch no :  497\r",
      "The algo is on epoch no :  498\r",
      "The algo is on epoch no :  499\r",
      "The algo is on epoch no :  500\r",
      "The algo is on epoch no :  501\r",
      "The algo is on epoch no :  502\r",
      "The algo is on epoch no :  503\r",
      "The algo is on epoch no :  504\r",
      "The algo is on epoch no :  505\r",
      "The algo is on epoch no :  506\r",
      "The algo is on epoch no :  507\r",
      "The algo is on epoch no :  508\r",
      "The algo is on epoch no :  509\r",
      "The algo is on epoch no :  510\r",
      "The algo is on epoch no :  511\r",
      "The algo is on epoch no :  512\r",
      "The algo is on epoch no :  513\r",
      "The algo is on epoch no :  514\r",
      "The algo is on epoch no :  515\r",
      "The algo is on epoch no :  516\r",
      "The algo is on epoch no :  517\r",
      "The algo is on epoch no :  518\r",
      "The algo is on epoch no :  519\r",
      "The algo is on epoch no :  520\r",
      "The algo is on epoch no :  521\r",
      "The algo is on epoch no :  522\r",
      "The algo is on epoch no :  523\r",
      "The algo is on epoch no :  524\r",
      "The algo is on epoch no :  525\r",
      "The algo is on epoch no :  526\r",
      "The algo is on epoch no :  527\r",
      "The algo is on epoch no :  528\r",
      "The algo is on epoch no :  529\r",
      "The algo is on epoch no :  530\r",
      "The algo is on epoch no :  531\r",
      "The algo is on epoch no :  532\r",
      "The algo is on epoch no :  533\r",
      "The algo is on epoch no :  534\r",
      "The algo is on epoch no :  535\r",
      "The algo is on epoch no :  536\r",
      "The algo is on epoch no :  537\r",
      "The algo is on epoch no :  538\r",
      "The algo is on epoch no :  539\r",
      "The algo is on epoch no :  540\r",
      "The algo is on epoch no :  541\r",
      "The algo is on epoch no :  542\r",
      "The algo is on epoch no :  543\r",
      "The algo is on epoch no :  544\r",
      "The algo is on epoch no :  545\r",
      "The algo is on epoch no :  546\r",
      "The algo is on epoch no :  547\r",
      "The algo is on epoch no :  548\r",
      "The algo is on epoch no :  549\r",
      "The algo is on epoch no :  550\r",
      "The algo is on epoch no :  551\r",
      "The algo is on epoch no :  552\r",
      "The algo is on epoch no :  553\r",
      "The algo is on epoch no :  554\r",
      "The algo is on epoch no :  555\r",
      "The algo is on epoch no :  556\r",
      "The algo is on epoch no :  557\r",
      "The algo is on epoch no :  558\r",
      "The algo is on epoch no :  559\r",
      "The algo is on epoch no :  560\r",
      "The algo is on epoch no :  561\r",
      "The algo is on epoch no :  562\r",
      "The algo is on epoch no :  563\r",
      "The algo is on epoch no :  564\r",
      "The algo is on epoch no :  565\r",
      "The algo is on epoch no :  566\r",
      "The algo is on epoch no :  567\r",
      "The algo is on epoch no :  568\r",
      "The algo is on epoch no :  569\r",
      "The algo is on epoch no :  570\r",
      "The algo is on epoch no :  571\r",
      "The algo is on epoch no :  572\r",
      "The algo is on epoch no :  573\r",
      "The algo is on epoch no :  574\r",
      "The algo is on epoch no :  575\r",
      "The algo is on epoch no :  576\r",
      "The algo is on epoch no :  577\r",
      "The algo is on epoch no :  578\r",
      "The algo is on epoch no :  579\r",
      "The algo is on epoch no :  580\r",
      "The algo is on epoch no :  581\r",
      "The algo is on epoch no :  582\r",
      "The algo is on epoch no :  583\r",
      "The algo is on epoch no :  584\r",
      "The algo is on epoch no :  585\r",
      "The algo is on epoch no :  586\r",
      "The algo is on epoch no :  587\r",
      "The algo is on epoch no :  588\r",
      "The algo is on epoch no :  589\r",
      "The algo is on epoch no :  590\r",
      "The algo is on epoch no :  591\r",
      "The algo is on epoch no :  592\r",
      "The algo is on epoch no :  593\r",
      "The algo is on epoch no :  594\r",
      "The algo is on epoch no :  595\r",
      "The algo is on epoch no :  596\r",
      "The algo is on epoch no :  597\r",
      "The algo is on epoch no :  598\r",
      "The algo is on epoch no :  599\r",
      "The algo is on epoch no :  600\r",
      "The algo is on epoch no :  601\r",
      "The algo is on epoch no :  602\r",
      "The algo is on epoch no :  603\r",
      "The algo is on epoch no :  604\r",
      "The algo is on epoch no :  605\r",
      "The algo is on epoch no :  606\r",
      "The algo is on epoch no :  607\r",
      "The algo is on epoch no :  608\r",
      "The algo is on epoch no :  609\r",
      "The algo is on epoch no :  610\r",
      "The algo is on epoch no :  611\r",
      "The algo is on epoch no :  612\r",
      "The algo is on epoch no :  613\r",
      "The algo is on epoch no :  614\r",
      "The algo is on epoch no :  615\r",
      "The algo is on epoch no :  616\r",
      "The algo is on epoch no :  617\r",
      "The algo is on epoch no :  618\r",
      "The algo is on epoch no :  619\r",
      "The algo is on epoch no :  620\r",
      "The algo is on epoch no :  621\r",
      "The algo is on epoch no :  622\r",
      "The algo is on epoch no :  623\r",
      "The algo is on epoch no :  624\r",
      "The algo is on epoch no :  625\r",
      "The algo is on epoch no :  626\r",
      "The algo is on epoch no :  627\r",
      "The algo is on epoch no :  628\r",
      "The algo is on epoch no :  629\r",
      "The algo is on epoch no :  630\r",
      "The algo is on epoch no :  631\r",
      "The algo is on epoch no :  632\r",
      "The algo is on epoch no :  633\r",
      "The algo is on epoch no :  634\r",
      "The algo is on epoch no :  635\r",
      "The algo is on epoch no :  636\r",
      "The algo is on epoch no :  637\r",
      "The algo is on epoch no :  638\r",
      "The algo is on epoch no :  639\r",
      "The algo is on epoch no :  640\r",
      "The algo is on epoch no :  641\r",
      "The algo is on epoch no :  642\r",
      "The algo is on epoch no :  643\r",
      "The algo is on epoch no :  644\r",
      "The algo is on epoch no :  645\r",
      "The algo is on epoch no :  646\r",
      "The algo is on epoch no :  647\r",
      "The algo is on epoch no :  648\r",
      "The algo is on epoch no :  649\r",
      "The algo is on epoch no :  650\r",
      "The algo is on epoch no :  651\r",
      "The algo is on epoch no :  652\r",
      "The algo is on epoch no :  653\r",
      "The algo is on epoch no :  654\r",
      "The algo is on epoch no :  655\r",
      "The algo is on epoch no :  656\r",
      "The algo is on epoch no :  657\r",
      "The algo is on epoch no :  658\r",
      "The algo is on epoch no :  659\r",
      "The algo is on epoch no :  660\r",
      "The algo is on epoch no :  661\r",
      "The algo is on epoch no :  662\r",
      "The algo is on epoch no :  663\r",
      "The algo is on epoch no :  664\r",
      "The algo is on epoch no :  665\r",
      "The algo is on epoch no :  666\r",
      "The algo is on epoch no :  667\r",
      "The algo is on epoch no :  668\r",
      "The algo is on epoch no :  669\r",
      "The algo is on epoch no :  670\r",
      "The algo is on epoch no :  671\r",
      "The algo is on epoch no :  672\r",
      "The algo is on epoch no :  673\r",
      "The algo is on epoch no :  674\r",
      "The algo is on epoch no :  675\r",
      "The algo is on epoch no :  676\r",
      "The algo is on epoch no :  677\r",
      "The algo is on epoch no :  678\r",
      "The algo is on epoch no :  679\r",
      "The algo is on epoch no :  680\r",
      "The algo is on epoch no :  681\r",
      "The algo is on epoch no :  682\r",
      "The algo is on epoch no :  683\r",
      "The algo is on epoch no :  684\r",
      "The algo is on epoch no :  685\r",
      "The algo is on epoch no :  686\r",
      "The algo is on epoch no :  687\r",
      "The algo is on epoch no :  688\r",
      "The algo is on epoch no :  689\r",
      "The algo is on epoch no :  690\r",
      "The algo is on epoch no :  691\r",
      "The algo is on epoch no :  692\r",
      "The algo is on epoch no :  693\r",
      "The algo is on epoch no :  694\r",
      "The algo is on epoch no :  695\r",
      "The algo is on epoch no :  696\r",
      "The algo is on epoch no :  697\r",
      "The algo is on epoch no :  698\r",
      "The algo is on epoch no :  699\r",
      "The algo is on epoch no :  700\r",
      "The algo is on epoch no :  701\r",
      "The algo is on epoch no :  702\r",
      "The algo is on epoch no :  703\r",
      "The algo is on epoch no :  704\r",
      "The algo is on epoch no :  705\r",
      "The algo is on epoch no :  706\r",
      "The algo is on epoch no :  707\r",
      "The algo is on epoch no :  708\r",
      "The algo is on epoch no :  709\r",
      "The algo is on epoch no :  710\r",
      "The algo is on epoch no :  711\r",
      "The algo is on epoch no :  712\r",
      "The algo is on epoch no :  713\r",
      "The algo is on epoch no :  714\r",
      "The algo is on epoch no :  715\r",
      "The algo is on epoch no :  716\r",
      "The algo is on epoch no :  717\r",
      "The algo is on epoch no :  718\r",
      "The algo is on epoch no :  719\r",
      "The algo is on epoch no :  720\r",
      "The algo is on epoch no :  721\r",
      "The algo is on epoch no :  722\r",
      "The algo is on epoch no :  723\r",
      "The algo is on epoch no :  724\r",
      "The algo is on epoch no :  725\r",
      "The algo is on epoch no :  726\r",
      "The algo is on epoch no :  727\r",
      "The algo is on epoch no :  728\r",
      "The algo is on epoch no :  729\r",
      "The algo is on epoch no :  730\r",
      "The algo is on epoch no :  731\r",
      "The algo is on epoch no :  732\r",
      "The algo is on epoch no :  733\r",
      "The algo is on epoch no :  734\r",
      "The algo is on epoch no :  735\r",
      "The algo is on epoch no :  736\r",
      "The algo is on epoch no :  737\r",
      "The algo is on epoch no :  738\r",
      "The algo is on epoch no :  739\r",
      "The algo is on epoch no :  740\r",
      "The algo is on epoch no :  741\r",
      "The algo is on epoch no :  742\r",
      "The algo is on epoch no :  743\r",
      "The algo is on epoch no :  744\r",
      "The algo is on epoch no :  745\r",
      "The algo is on epoch no :  746\r",
      "The algo is on epoch no :  747\r",
      "The algo is on epoch no :  748\r",
      "The algo is on epoch no :  749\r",
      "The algo is on epoch no :  750\r",
      "The algo is on epoch no :  751\r",
      "The algo is on epoch no :  752\r",
      "The algo is on epoch no :  753\r",
      "The algo is on epoch no :  754\r",
      "The algo is on epoch no :  755\r",
      "The algo is on epoch no :  756\r",
      "The algo is on epoch no :  757\r",
      "The algo is on epoch no :  758\r",
      "The algo is on epoch no :  759\r",
      "The algo is on epoch no :  760\r",
      "The algo is on epoch no :  761\r",
      "The algo is on epoch no :  762\r",
      "The algo is on epoch no :  763\r",
      "The algo is on epoch no :  764\r",
      "The algo is on epoch no :  765\r",
      "The algo is on epoch no :  766\r",
      "The algo is on epoch no :  767\r",
      "The algo is on epoch no :  768\r",
      "The algo is on epoch no :  769\r",
      "The algo is on epoch no :  770\r",
      "The algo is on epoch no :  771\r",
      "The algo is on epoch no :  772\r",
      "The algo is on epoch no :  773\r",
      "The algo is on epoch no :  774\r",
      "The algo is on epoch no :  775\r",
      "The algo is on epoch no :  776\r",
      "The algo is on epoch no :  777\r",
      "The algo is on epoch no :  778\r",
      "The algo is on epoch no :  779\r",
      "The algo is on epoch no :  780\r",
      "The algo is on epoch no :  781\r",
      "The algo is on epoch no :  782\r",
      "The algo is on epoch no :  783\r",
      "The algo is on epoch no :  784\r",
      "The algo is on epoch no :  785\r",
      "The algo is on epoch no :  786\r",
      "The algo is on epoch no :  787\r",
      "The algo is on epoch no :  788\r",
      "The algo is on epoch no :  789\r",
      "The algo is on epoch no :  790\r",
      "The algo is on epoch no :  791\r",
      "The algo is on epoch no :  792\r",
      "The algo is on epoch no :  793\r",
      "The algo is on epoch no :  794\r",
      "The algo is on epoch no :  795\r",
      "The algo is on epoch no :  796\r",
      "The algo is on epoch no :  797\r",
      "The algo is on epoch no :  798\r",
      "The algo is on epoch no :  799\r",
      "The algo is on epoch no :  800\r",
      "The algo is on epoch no :  801\r",
      "The algo is on epoch no :  802\r",
      "The algo is on epoch no :  803\r",
      "The algo is on epoch no :  804\r",
      "The algo is on epoch no :  805\r",
      "The algo is on epoch no :  806\r",
      "The algo is on epoch no :  807\r",
      "The algo is on epoch no :  808\r",
      "The algo is on epoch no :  809\r",
      "The algo is on epoch no :  810\r",
      "The algo is on epoch no :  811\r",
      "The algo is on epoch no :  812\r",
      "The algo is on epoch no :  813\r",
      "The algo is on epoch no :  814\r",
      "The algo is on epoch no :  815\r",
      "The algo is on epoch no :  816\r",
      "The algo is on epoch no :  817\r",
      "The algo is on epoch no :  818\r",
      "The algo is on epoch no :  819\r",
      "The algo is on epoch no :  820\r",
      "The algo is on epoch no :  821\r",
      "The algo is on epoch no :  822\r",
      "The algo is on epoch no :  823\r",
      "The algo is on epoch no :  824\r",
      "The algo is on epoch no :  825\r",
      "The algo is on epoch no :  826\r",
      "The algo is on epoch no :  827\r",
      "The algo is on epoch no :  828\r",
      "The algo is on epoch no :  829\r",
      "The algo is on epoch no :  830\r",
      "The algo is on epoch no :  831\r",
      "The algo is on epoch no :  832\r",
      "The algo is on epoch no :  833\r",
      "The algo is on epoch no :  834\r",
      "The algo is on epoch no :  835\r",
      "The algo is on epoch no :  836\r",
      "The algo is on epoch no :  837\r",
      "The algo is on epoch no :  838\r",
      "The algo is on epoch no :  839\r",
      "The algo is on epoch no :  840\r",
      "The algo is on epoch no :  841\r",
      "The algo is on epoch no :  842\r",
      "The algo is on epoch no :  843\r",
      "The algo is on epoch no :  844\r",
      "The algo is on epoch no :  845\r",
      "The algo is on epoch no :  846\r",
      "The algo is on epoch no :  847\r",
      "The algo is on epoch no :  848\r",
      "The algo is on epoch no :  849\r",
      "The algo is on epoch no :  850\r",
      "The algo is on epoch no :  851\r",
      "The algo is on epoch no :  852\r",
      "The algo is on epoch no :  853\r",
      "The algo is on epoch no :  854\r",
      "The algo is on epoch no :  855\r",
      "The algo is on epoch no :  856\r",
      "The algo is on epoch no :  857\r",
      "The algo is on epoch no :  858\r",
      "The algo is on epoch no :  859\r",
      "The algo is on epoch no :  860\r",
      "The algo is on epoch no :  861\r",
      "The algo is on epoch no :  862\r",
      "The algo is on epoch no :  863\r",
      "The algo is on epoch no :  864\r",
      "The algo is on epoch no :  865\r",
      "The algo is on epoch no :  866\r",
      "The algo is on epoch no :  867\r",
      "The algo is on epoch no :  868\r",
      "The algo is on epoch no :  869\r",
      "The algo is on epoch no :  870\r",
      "The algo is on epoch no :  871\r",
      "The algo is on epoch no :  872\r",
      "The algo is on epoch no :  873\r",
      "The algo is on epoch no :  874\r",
      "The algo is on epoch no :  875\r",
      "The algo is on epoch no :  876\r",
      "The algo is on epoch no :  877\r",
      "The algo is on epoch no :  878\r",
      "The algo is on epoch no :  879\r",
      "The algo is on epoch no :  880\r",
      "The algo is on epoch no :  881\r",
      "The algo is on epoch no :  882\r",
      "The algo is on epoch no :  883\r",
      "The algo is on epoch no :  884\r",
      "The algo is on epoch no :  885\r",
      "The algo is on epoch no :  886\r",
      "The algo is on epoch no :  887\r",
      "The algo is on epoch no :  888\r",
      "The algo is on epoch no :  889\r",
      "The algo is on epoch no :  890\r",
      "The algo is on epoch no :  891\r",
      "The algo is on epoch no :  892\r",
      "The algo is on epoch no :  893\r",
      "The algo is on epoch no :  894\r",
      "The algo is on epoch no :  895\r",
      "The algo is on epoch no :  896\r",
      "The algo is on epoch no :  897\r",
      "The algo is on epoch no :  898\r",
      "The algo is on epoch no :  899\r",
      "The algo is on epoch no :  900\r",
      "The algo is on epoch no :  901\r",
      "The algo is on epoch no :  902\r",
      "The algo is on epoch no :  903\r",
      "The algo is on epoch no :  904\r",
      "The algo is on epoch no :  905\r",
      "The algo is on epoch no :  906\r",
      "The algo is on epoch no :  907\r",
      "The algo is on epoch no :  908\r",
      "The algo is on epoch no :  909\r",
      "The algo is on epoch no :  910\r",
      "The algo is on epoch no :  911\r",
      "The algo is on epoch no :  912\r",
      "The algo is on epoch no :  913\r",
      "The algo is on epoch no :  914\r",
      "The algo is on epoch no :  915\r",
      "The algo is on epoch no :  916\r",
      "The algo is on epoch no :  917\r",
      "The algo is on epoch no :  918\r",
      "The algo is on epoch no :  919\r",
      "The algo is on epoch no :  920\r",
      "The algo is on epoch no :  921\r",
      "The algo is on epoch no :  922\r",
      "The algo is on epoch no :  923\r",
      "The algo is on epoch no :  924\r",
      "The algo is on epoch no :  925\r",
      "The algo is on epoch no :  926\r",
      "The algo is on epoch no :  927\r",
      "The algo is on epoch no :  928\r",
      "The algo is on epoch no :  929\r",
      "The algo is on epoch no :  930\r",
      "The algo is on epoch no :  931\r",
      "The algo is on epoch no :  932\r",
      "The algo is on epoch no :  933\r",
      "The algo is on epoch no :  934\r",
      "The algo is on epoch no :  935\r",
      "The algo is on epoch no :  936\r",
      "The algo is on epoch no :  937\r",
      "The algo is on epoch no :  938\r",
      "The algo is on epoch no :  939\r",
      "The algo is on epoch no :  940\r",
      "The algo is on epoch no :  941\r",
      "The algo is on epoch no :  942\r",
      "The algo is on epoch no :  943\r",
      "The algo is on epoch no :  944\r",
      "The algo is on epoch no :  945\r",
      "The algo is on epoch no :  946\r",
      "The algo is on epoch no :  947\r",
      "The algo is on epoch no :  948\r",
      "The algo is on epoch no :  949\r",
      "The algo is on epoch no :  950\r",
      "The algo is on epoch no :  951\r",
      "The algo is on epoch no :  952\r",
      "The algo is on epoch no :  953\r",
      "The algo is on epoch no :  954\r",
      "The algo is on epoch no :  955\r",
      "The algo is on epoch no :  956\r",
      "The algo is on epoch no :  957\r",
      "The algo is on epoch no :  958\r",
      "The algo is on epoch no :  959\r",
      "The algo is on epoch no :  960\r",
      "The algo is on epoch no :  961\r",
      "The algo is on epoch no :  962\r",
      "The algo is on epoch no :  963\r",
      "The algo is on epoch no :  964\r",
      "The algo is on epoch no :  965\r",
      "The algo is on epoch no :  966\r",
      "The algo is on epoch no :  967\r",
      "The algo is on epoch no :  968\r",
      "The algo is on epoch no :  969\r",
      "The algo is on epoch no :  970\r",
      "The algo is on epoch no :  971\r",
      "The algo is on epoch no :  972\r",
      "The algo is on epoch no :  973\r",
      "The algo is on epoch no :  974\r",
      "The algo is on epoch no :  975\r",
      "The algo is on epoch no :  976\r",
      "The algo is on epoch no :  977\r",
      "The algo is on epoch no :  978\r",
      "The algo is on epoch no :  979\r",
      "The algo is on epoch no :  980\r",
      "The algo is on epoch no :  981\r",
      "The algo is on epoch no :  982\r",
      "The algo is on epoch no :  983\r",
      "The algo is on epoch no :  984\r",
      "The algo is on epoch no :  985\r",
      "The algo is on epoch no :  986\r",
      "The algo is on epoch no :  987\r",
      "The algo is on epoch no :  988\r",
      "The algo is on epoch no :  989\r",
      "The algo is on epoch no :  990\r",
      "The algo is on epoch no :  991\r",
      "The algo is on epoch no :  992\r",
      "The algo is on epoch no :  993\r",
      "The algo is on epoch no :  994\r",
      "The algo is on epoch no :  995\r",
      "The algo is on epoch no :  996\r",
      "The algo is on epoch no :  997\r",
      "The algo is on epoch no :  998\r",
      "The algo is on epoch no :  999\r",
      "(3, 1) (3, 1)\n"
     ]
    }
   ],
   "source": [
    "theta, cost = gradient_descent(x_train, y_train, learning_rate=0.003,epochs = 1000)"
   ]
  },
  {
   "cell_type": "code",
   "execution_count": 27,
   "id": "fd442927",
   "metadata": {},
   "outputs": [
    {
     "data": {
      "text/plain": [
       "array([[-0.17423545],\n",
       "       [-0.7703364 ],\n",
       "       [-0.5058429 ]])"
      ]
     },
     "execution_count": 27,
     "metadata": {},
     "output_type": "execute_result"
    }
   ],
   "source": [
    "theta"
   ]
  },
  {
   "cell_type": "code",
   "execution_count": 28,
   "id": "23a0167f",
   "metadata": {},
   "outputs": [
    {
     "data": {
      "text/plain": [
       "[<matplotlib.lines.Line2D at 0x262a78f6210>]"
      ]
     },
     "execution_count": 28,
     "metadata": {},
     "output_type": "execute_result"
    },
    {
     "data": {
      "image/png": "[encoded data removed]",
      "text/plain": [
       "<Figure size 640x480 with 1 Axes>"
      ]
     },
     "metadata": {},
     "output_type": "display_data"
    }
   ],
   "source": [
    "plt.plot(cost)"
   ]
  },
  {
   "cell_type": "code",
   "execution_count": 29,
   "id": "aadfb6ba",
   "metadata": {},
   "outputs": [],
   "source": [
    "y_test = y_test.reshape((-1, 1))"
   ]
  },
  {
   "cell_type": "code",
   "execution_count": 30,
   "id": "385ba277",
   "metadata": {},
   "outputs": [
    {
     "data": {
      "text/plain": [
       "(200, 1)"
      ]
     },
     "execution_count": 30,
     "metadata": {},
     "output_type": "execute_result"
    }
   ],
   "source": [
    "y_test.shape"
   ]
  },
  {
   "cell_type": "code",
   "execution_count": 31,
   "id": "79371e78",
   "metadata": {},
   "outputs": [],
   "source": [
    "def predict(X, theta):\n",
    "    \n",
    "    y_p = hypothesis(X, theta)\n",
    "    \n",
    "    y_pred = []\n",
    "\n",
    "    for i in y_p:\n",
    "        \n",
    "        if i >= 0.5:\n",
    "            y_pred.append(1)\n",
    "            \n",
    "        else:\n",
    "            y_pred.append(0)\n",
    "    y_pred = np.array(y_pred)        \n",
    "    \n",
    "    return y_pred"
   ]
  },
  {
   "cell_type": "code",
   "execution_count": 32,
   "id": "09318433",
   "metadata": {},
   "outputs": [],
   "source": [
    "pred = predict(x_test, theta)"
   ]
  },
  {
   "cell_type": "code",
   "execution_count": 33,
   "id": "202a862b",
   "metadata": {},
   "outputs": [],
   "source": [
    "pred = pred.reshape((-1, 1))"
   ]
  },
  {
   "cell_type": "code",
   "execution_count": 34,
   "id": "7072b052",
   "metadata": {},
   "outputs": [
    {
     "data": {
      "text/plain": [
       "(200, 1)"
      ]
     },
     "execution_count": 34,
     "metadata": {},
     "output_type": "execute_result"
    }
   ],
   "source": [
    "pred.shape"
   ]
  },
  {
   "cell_type": "code",
   "execution_count": 35,
   "id": "3b5da48d",
   "metadata": {},
   "outputs": [],
   "source": [
    "def accuracy(pred, label):\n",
    "    \n",
    "    temp = 0\n",
    "    \n",
    "    for i in range(pred.shape[0]):\n",
    "        if pred[i]==label[i]:\n",
    "            \n",
    "            temp += 1\n",
    "        else:\n",
    "            pass\n",
    "    print(\"Accuracy = \", (temp/pred.shape[0])*100, \"%\")    "
   ]
  },
  {
   "cell_type": "code",
   "execution_count": 36,
   "id": "4afe0780",
   "metadata": {},
   "outputs": [
    {
     "name": "stdout",
     "output_type": "stream",
     "text": [
      "Accuracy =  99.0 %\n"
     ]
    }
   ],
   "source": [
    "accuracy(pred, y_test)"
   ]
  },
  {
   "cell_type": "code",
   "execution_count": 37,
   "id": "71dd1d96",
   "metadata": {},
   "outputs": [
    {
     "data": {
      "text/plain": [
       "array([1])"
      ]
     },
     "execution_count": 37,
     "metadata": {},
     "output_type": "execute_result"
    }
   ],
   "source": [
    "predict(([-1, -3, 2]), theta)"
   ]
  },
  {
   "cell_type": "code",
   "execution_count": 38,
   "id": "69145be3",
   "metadata": {},
   "outputs": [],
   "source": [
    "from sklearn.linear_model import LogisticRegression\n",
    "from sklearn.model_selection import train_test_split\n",
    "from sklearn.metrics import f1_score, recall_score, precision_score\n",
    "data = pd.DataFrame(dataset)\n",
    "\n",
    "x_train, x_test, y_train, y_test = train_test_split(data.iloc[:, :-1], data.iloc[:,-1], test_size=0.2, random_state=43)"
   ]
  },
  {
   "cell_type": "code",
   "execution_count": 39,
   "id": "3135a085",
   "metadata": {},
   "outputs": [
    {
     "data": {
      "text/html": [
       "<style>#sk-container-id-1 {color: black;}#sk-container-id-1 pre{padding: 0;}#sk-container-id-1 div.sk-toggleable {background-color: white;}#sk-container-id-1 label.sk-toggleable__label {cursor: pointer;display: block;width: 100%;margin-bottom: 0;padding: 0.3em;box-sizing: border-box;text-align: center;}#sk-container-id-1 label.sk-toggleable__label-arrow:before {content: \"▸\";float: left;margin-right: 0.25em;color: #696969;}#sk-container-id-1 label.sk-toggleable__label-arrow:hover:before {color: black;}#sk-container-id-1 div.sk-estimator:hover label.sk-toggleable__label-arrow:before {color: black;}#sk-container-id-1 div.sk-toggleable__content {max-height: 0;max-width: 0;overflow: hidden;text-align: left;background-color: #f0f8ff;}#sk-container-id-1 div.sk-toggleable__content pre {margin: 0.2em;color: black;border-radius: 0.25em;background-color: #f0f8ff;}#sk-container-id-1 input.sk-toggleable__control:checked~div.sk-toggleable__content {max-height: 200px;max-width: 100%;overflow: auto;}#sk-container-id-1 input.sk-toggleable__control:checked~label.sk-toggleable__label-arrow:before {content: \"▾\";}#sk-container-id-1 div.sk-estimator input.sk-toggleable__control:checked~label.sk-toggleable__label {background-color: #d4ebff;}#sk-container-id-1 div.sk-label input.sk-toggleable__control:checked~label.sk-toggleable__label {background-color: #d4ebff;}#sk-container-id-1 input.sk-hidden--visually {border: 0;clip: rect(1px 1px 1px 1px);clip: rect(1px, 1px, 1px, 1px);height: 1px;margin: -1px;overflow: hidden;padding: 0;position: absolute;width: 1px;}#sk-container-id-1 div.sk-estimator {font-family: monospace;background-color: #f0f8ff;border: 1px dotted black;border-radius: 0.25em;box-sizing: border-box;margin-bottom: 0.5em;}#sk-container-id-1 div.sk-estimator:hover {background-color: #d4ebff;}#sk-container-id-1 div.sk-parallel-item::after {content: \"\";width: 100%;border-bottom: 1px solid gray;flex-grow: 1;}#sk-container-id-1 div.sk-label:hover label.sk-toggleable__label {background-color: #d4ebff;}#sk-container-id-1 div.sk-serial::before {content: \"\";position: absolute;border-left: 1px solid gray;box-sizing: border-box;top: 0;bottom: 0;left: 50%;z-index: 0;}#sk-container-id-1 div.sk-serial {display: flex;flex-direction: column;align-items: center;background-color: white;padding-right: 0.2em;padding-left: 0.2em;position: relative;}#sk-container-id-1 div.sk-item {position: relative;z-index: 1;}#sk-container-id-1 div.sk-parallel {display: flex;align-items: stretch;justify-content: center;background-color: white;position: relative;}#sk-container-id-1 div.sk-item::before, #sk-container-id-1 div.sk-parallel-item::before {content: \"\";position: absolute;border-left: 1px solid gray;box-sizing: border-box;top: 0;bottom: 0;left: 50%;z-index: -1;}#sk-container-id-1 div.sk-parallel-item {display: flex;flex-direction: column;z-index: 1;position: relative;background-color: white;}#sk-container-id-1 div.sk-parallel-item:first-child::after {align-self: flex-end;width: 50%;}#sk-container-id-1 div.sk-parallel-item:last-child::after {align-self: flex-start;width: 50%;}#sk-container-id-1 div.sk-parallel-item:only-child::after {width: 0;}#sk-container-id-1 div.sk-dashed-wrapped {border: 1px dashed gray;margin: 0 0.4em 0.5em 0.4em;box-sizing: border-box;padding-bottom: 0.4em;background-color: white;}#sk-container-id-1 div.sk-label label {font-family: monospace;font-weight: bold;display: inline-block;line-height: 1.2em;}#sk-container-id-1 div.sk-label-container {text-align: center;}#sk-container-id-1 div.sk-container {/* jupyter's `normalize.less` sets `[hidden] { display: none; }` but bootstrap.min.css set `[hidden] { display: none !important; }` so we also need the `!important` here to be able to override the default hidden behavior on the sphinx rendered scikit-learn.org. See: https://github.com/scikit-learn/scikit-learn/issues/21755 */display: inline-block !important;position: relative;}#sk-container-id-1 div.sk-text-repr-fallback {display: none;}</style><div id=\"sk-container-id-1\" class=\"sk-top-container\"><div class=\"sk-text-repr-fallback\"><pre>LogisticRegression()</pre><b>In a Jupyter environment, please rerun this cell to show the HTML representation or trust the notebook. <br />On GitHub, the HTML representation is unable to render, please try loading this page with nbviewer.org.</b></div><div class=\"sk-container\" hidden><div class=\"sk-item\"><div class=\"sk-estimator sk-toggleable\"><input class=\"sk-toggleable__control sk-hidden--visually\" id=\"sk-estimator-id-1\" type=\"checkbox\" checked><label for=\"sk-estimator-id-1\" class=\"sk-toggleable__label sk-toggleable__label-arrow\">LogisticRegression</label><div class=\"sk-toggleable__content\"><pre>LogisticRegression()</pre></div></div></div></div></div>"
      ],
      "text/plain": [
       "LogisticRegression()"
      ]
     },
     "execution_count": 39,
     "metadata": {},
     "output_type": "execute_result"
    }
   ],
   "source": [
    "model = LogisticRegression()\n",
    "model"
   ]
  },
  {
   "cell_type": "code",
   "execution_count": 40,
   "id": "c2cfd044",
   "metadata": {},
   "outputs": [
    {
     "data": {
      "text/html": [
       "<style>#sk-container-id-2 {color: black;}#sk-container-id-2 pre{padding: 0;}#sk-container-id-2 div.sk-toggleable {background-color: white;}#sk-container-id-2 label.sk-toggleable__label {cursor: pointer;display: block;width: 100%;margin-bottom: 0;padding: 0.3em;box-sizing: border-box;text-align: center;}#sk-container-id-2 label.sk-toggleable__label-arrow:before {content: \"▸\";float: left;margin-right: 0.25em;color: #696969;}#sk-container-id-2 label.sk-toggleable__label-arrow:hover:before {color: black;}#sk-container-id-2 div.sk-estimator:hover label.sk-toggleable__label-arrow:before {color: black;}#sk-container-id-2 div.sk-toggleable__content {max-height: 0;max-width: 0;overflow: hidden;text-align: left;background-color: #f0f8ff;}#sk-container-id-2 div.sk-toggleable__content pre {margin: 0.2em;color: black;border-radius: 0.25em;background-color: #f0f8ff;}#sk-container-id-2 input.sk-toggleable__control:checked~div.sk-toggleable__content {max-height: 200px;max-width: 100%;overflow: auto;}#sk-container-id-2 input.sk-toggleable__control:checked~label.sk-toggleable__label-arrow:before {content: \"▾\";}#sk-container-id-2 div.sk-estimator input.sk-toggleable__control:checked~label.sk-toggleable__label {background-color: #d4ebff;}#sk-container-id-2 div.sk-label input.sk-toggleable__control:checked~label.sk-toggleable__label {background-color: #d4ebff;}#sk-container-id-2 input.sk-hidden--visually {border: 0;clip: rect(1px 1px 1px 1px);clip: rect(1px, 1px, 1px, 1px);height: 1px;margin: -1px;overflow: hidden;padding: 0;position: absolute;width: 1px;}#sk-container-id-2 div.sk-estimator {font-family: monospace;background-color: #f0f8ff;border: 1px dotted black;border-radius: 0.25em;box-sizing: border-box;margin-bottom: 0.5em;}#sk-container-id-2 div.sk-estimator:hover {background-color: #d4ebff;}#sk-container-id-2 div.sk-parallel-item::after {content: \"\";width: 100%;border-bottom: 1px solid gray;flex-grow: 1;}#sk-container-id-2 div.sk-label:hover label.sk-toggleable__label {background-color: #d4ebff;}#sk-container-id-2 div.sk-serial::before {content: \"\";position: absolute;border-left: 1px solid gray;box-sizing: border-box;top: 0;bottom: 0;left: 50%;z-index: 0;}#sk-container-id-2 div.sk-serial {display: flex;flex-direction: column;align-items: center;background-color: white;padding-right: 0.2em;padding-left: 0.2em;position: relative;}#sk-container-id-2 div.sk-item {position: relative;z-index: 1;}#sk-container-id-2 div.sk-parallel {display: flex;align-items: stretch;justify-content: center;background-color: white;position: relative;}#sk-container-id-2 div.sk-item::before, #sk-container-id-2 div.sk-parallel-item::before {content: \"\";position: absolute;border-left: 1px solid gray;box-sizing: border-box;top: 0;bottom: 0;left: 50%;z-index: -1;}#sk-container-id-2 div.sk-parallel-item {display: flex;flex-direction: column;z-index: 1;position: relative;background-color: white;}#sk-container-id-2 div.sk-parallel-item:first-child::after {align-self: flex-end;width: 50%;}#sk-container-id-2 div.sk-parallel-item:last-child::after {align-self: flex-start;width: 50%;}#sk-container-id-2 div.sk-parallel-item:only-child::after {width: 0;}#sk-container-id-2 div.sk-dashed-wrapped {border: 1px dashed gray;margin: 0 0.4em 0.5em 0.4em;box-sizing: border-box;padding-bottom: 0.4em;background-color: white;}#sk-container-id-2 div.sk-label label {font-family: monospace;font-weight: bold;display: inline-block;line-height: 1.2em;}#sk-container-id-2 div.sk-label-container {text-align: center;}#sk-container-id-2 div.sk-container {/* jupyter's `normalize.less` sets `[hidden] { display: none; }` but bootstrap.min.css set `[hidden] { display: none !important; }` so we also need the `!important` here to be able to override the default hidden behavior on the sphinx rendered scikit-learn.org. See: https://github.com/scikit-learn/scikit-learn/issues/21755 */display: inline-block !important;position: relative;}#sk-container-id-2 div.sk-text-repr-fallback {display: none;}</style><div id=\"sk-container-id-2\" class=\"sk-top-container\"><div class=\"sk-text-repr-fallback\"><pre>LogisticRegression()</pre><b>In a Jupyter environment, please rerun this cell to show the HTML representation or trust the notebook. <br />On GitHub, the HTML representation is unable to render, please try loading this page with nbviewer.org.</b></div><div class=\"sk-container\" hidden><div class=\"sk-item\"><div class=\"sk-estimator sk-toggleable\"><input class=\"sk-toggleable__control sk-hidden--visually\" id=\"sk-estimator-id-2\" type=\"checkbox\" checked><label for=\"sk-estimator-id-2\" class=\"sk-toggleable__label sk-toggleable__label-arrow\">LogisticRegression</label><div class=\"sk-toggleable__content\"><pre>LogisticRegression()</pre></div></div></div></div></div>"
      ],
      "text/plain": [
       "LogisticRegression()"
      ]
     },
     "execution_count": 40,
     "metadata": {},
     "output_type": "execute_result"
    }
   ],
   "source": [
    "model.fit(x_train, y_train)"
   ]
  },
  {
   "cell_type": "code",
   "execution_count": 41,
   "id": "74050fe7",
   "metadata": {},
   "outputs": [],
   "source": [
    "pred = model.predict(x_test)"
   ]
  },
  {
   "cell_type": "code",
   "execution_count": 42,
   "id": "11a3ce4d",
   "metadata": {},
   "outputs": [
    {
     "name": "stdout",
     "output_type": "stream",
     "text": [
      "98.55072463768116 %\n"
     ]
    }
   ],
   "source": [
    "print((f1_score(y_test, pred))*100, \"%\")"
   ]
  },
  {
   "cell_type": "code",
   "execution_count": 43,
   "id": "a3509675",
   "metadata": {},
   "outputs": [
    {
     "data": {
      "text/plain": [
       "array([1.])"
      ]
     },
     "execution_count": 43,
     "metadata": {},
     "output_type": "execute_result"
    }
   ],
   "source": [
    "model.predict([[-1, -3, 2]])"
   ]
  },
  {
   "cell_type": "code",
   "execution_count": null,
   "id": "2a4462d7",
   "metadata": {},
   "outputs": [],
   "source": []
  }
 ],
 "metadata": {
  "kernelspec": {
   "display_name": "Python 3 (ipykernel)",
   "language": "python",
   "name": "python3"
  },
  "language_info": {
   "codemirror_mode": {
    "name": "ipython",
    "version": 3
   },
   "file_extension": ".py",
   "mimetype": "text/x-python",
   "name": "python",
   "nbconvert_exporter": "python",
   "pygments_lexer": "ipython3",
   "version": "3.11.5"
  }
 },
 "nbformat": 4,
 "nbformat_minor": 5
}
