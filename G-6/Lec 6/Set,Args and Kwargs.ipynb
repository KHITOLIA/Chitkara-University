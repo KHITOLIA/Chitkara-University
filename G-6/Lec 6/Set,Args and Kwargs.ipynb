{
 "cells": [
  {
   "cell_type": "markdown",
   "id": "e22e0f82",
   "metadata": {},
   "source": [
    "# Set"
   ]
  },
  {
   "cell_type": "code",
   "execution_count": 1,
   "id": "51190448",
   "metadata": {},
   "outputs": [],
   "source": [
    "a = { 1,2,3,34,4,65.0,6}"
   ]
  },
  {
   "cell_type": "code",
   "execution_count": 2,
   "id": "a3843795",
   "metadata": {},
   "outputs": [
    {
     "name": "stdout",
     "output_type": "stream",
     "text": [
      "<class 'set'>\n"
     ]
    }
   ],
   "source": [
    "print(type(a))"
   ]
  },
  {
   "cell_type": "code",
   "execution_count": 3,
   "id": "fc664620",
   "metadata": {},
   "outputs": [],
   "source": [
    "aa = {21,4,5,76,7,43,4,5,5}\n"
   ]
  },
  {
   "cell_type": "code",
   "execution_count": 4,
   "id": "2e9b860b",
   "metadata": {},
   "outputs": [
    {
     "data": {
      "text/plain": [
       "{1, 2, 3, 4, 5, 6, 7, 21, 34, 43, 65.0, 76}"
      ]
     },
     "execution_count": 4,
     "metadata": {},
     "output_type": "execute_result"
    }
   ],
   "source": [
    "a.union(aa)"
   ]
  },
  {
   "cell_type": "code",
   "execution_count": 5,
   "id": "f35c5e9c",
   "metadata": {},
   "outputs": [
    {
     "data": {
      "text/plain": [
       "{4}"
      ]
     },
     "execution_count": 5,
     "metadata": {},
     "output_type": "execute_result"
    }
   ],
   "source": [
    "a.intersection(aa)"
   ]
  },
  {
   "cell_type": "code",
   "execution_count": 6,
   "id": "e0f6be9d",
   "metadata": {},
   "outputs": [
    {
     "data": {
      "text/plain": [
       "{1, 2, 3, 4, 5, 6, 7, 21, 34, 43, 65.0, 76}"
      ]
     },
     "execution_count": 6,
     "metadata": {},
     "output_type": "execute_result"
    }
   ],
   "source": [
    "aa.union(a)"
   ]
  },
  {
   "cell_type": "code",
   "execution_count": 7,
   "id": "0ae2cf68",
   "metadata": {},
   "outputs": [
    {
     "name": "stdout",
     "output_type": "stream",
     "text": [
      "{50, 51, 52, 53, 54, 55, 56, 57, 58, 59, 60, 61, 62, 63, 64, 65, 66, 67, 68, 69, 70, 71, 72, 73, 74, 75, 76, 77, 78, 79, 80, 81, 82, 83, 84, 85, 86, 87, 88, 89, 90, 91, 92, 93, 94, 95, 96, 97, 98, 99}\n"
     ]
    }
   ],
   "source": [
    "a = []\n",
    "for i in range(50,100):\n",
    "    a.append(i)\n",
    "aa = []\n",
    "for i in range(50,150):\n",
    "    aa.append(i)\n",
    "print(set(a).intersection(set(aa)))"
   ]
  },
  {
   "cell_type": "code",
   "execution_count": 8,
   "id": "a46d59ad",
   "metadata": {},
   "outputs": [],
   "source": [
    "d = {\n",
    "    'a':[1,2,2,2,3,4,4,5,65,76,75,76,65],\n",
    "    'b':[32,23,2,34,3,43,43,4.3,3,4,4.3,4,8,9,98,7,7]\n",
    "}"
   ]
  },
  {
   "cell_type": "code",
   "execution_count": 9,
   "id": "f42a013a",
   "metadata": {},
   "outputs": [
    {
     "name": "stdout",
     "output_type": "stream",
     "text": [
      "{1, 2, 3, 4, 5, 65, 75, 76}\n",
      "{32, 2, 3, 34, 4.3, 4, 98, 8, 9, 7, 43, 23}\n"
     ]
    }
   ],
   "source": [
    "for i in d.items():\n",
    "    print(set(i[1]))"
   ]
  },
  {
   "cell_type": "code",
   "execution_count": 10,
   "id": "65ab7700",
   "metadata": {},
   "outputs": [
    {
     "name": "stdout",
     "output_type": "stream",
     "text": [
      "1 2 3 43 ; erwer\n"
     ]
    }
   ],
   "source": [
    "print(1,2,3,43,';','erwer')"
   ]
  },
  {
   "cell_type": "code",
   "execution_count": 11,
   "id": "25807e84",
   "metadata": {},
   "outputs": [
    {
     "name": "stdout",
     "output_type": "stream",
     "text": [
      "{50, 51, 52, 53, 54, 55, 56, 57, 58, 59, 60, 61, 62, 63, 64, 65, 66, 67, 68, 69, 70, 71, 72, 73, 74, 75, 76, 77, 78, 79, 80, 81, 82, 83, 84, 85, 86, 87, 88, 89, 90, 91, 92, 93, 94, 95, 96, 97, 98, 99, 100, 101, 102, 103, 104, 105, 106, 107, 108, 109, 110, 111, 112, 113, 114, 115, 116, 117, 118, 119, 120, 121, 122, 123, 124, 125, 126, 127, 128, 129, 130, 131, 132, 133, 134, 135, 136, 137, 138, 139, 140, 141, 142, 143, 144, 145, 146, 147, 148, 149}\n"
     ]
    }
   ],
   "source": [
    "print(set(a).union\n",
    "      (set(aa)))"
   ]
  },
  {
   "cell_type": "code",
   "execution_count": 12,
   "id": "8d310fcc",
   "metadata": {},
   "outputs": [
    {
     "name": "stdout",
     "output_type": "stream",
     "text": [
      "[8, 7, 6, 5, 4, 3, 2, 1]\n"
     ]
    }
   ],
   "source": [
    "def reverse(l1):\n",
    "    l2 = []\n",
    "    for i in l1:\n",
    "        l2.insert(0,i)\n",
    "    l1 = l2\n",
    "    print(l1)\n",
    "l1 = [1,2,3,4,5,6,7,8]\n",
    "reverse(l1)"
   ]
  },
  {
   "cell_type": "code",
   "execution_count": 13,
   "id": "2216045c",
   "metadata": {},
   "outputs": [],
   "source": [
    "a = 'The quick brown fox jumps over the lazy dog'\n",
    "def func(a):\n",
    "    b = []\n",
    "    c = a.upper()\n",
    "    for i in c:\n",
    "        if i not in b:\n",
    "            b.append(i)\n",
    "            count = c.count(i)\n",
    "            print('occurence of' ,i, \"are\", count)"
   ]
  },
  {
   "cell_type": "code",
   "execution_count": 14,
   "id": "4a3b8111",
   "metadata": {},
   "outputs": [
    {
     "name": "stdout",
     "output_type": "stream",
     "text": [
      "occurence of T are 2\n",
      "occurence of H are 2\n",
      "occurence of E are 3\n",
      "occurence of   are 8\n",
      "occurence of Q are 1\n",
      "occurence of U are 2\n",
      "occurence of I are 1\n",
      "occurence of C are 1\n",
      "occurence of K are 1\n",
      "occurence of B are 1\n",
      "occurence of R are 2\n",
      "occurence of O are 4\n",
      "occurence of W are 1\n",
      "occurence of N are 1\n",
      "occurence of F are 1\n",
      "occurence of X are 1\n",
      "occurence of J are 1\n",
      "occurence of M are 1\n",
      "occurence of P are 1\n",
      "occurence of S are 1\n",
      "occurence of V are 1\n",
      "occurence of L are 1\n",
      "occurence of A are 1\n",
      "occurence of Z are 1\n",
      "occurence of Y are 1\n",
      "occurence of D are 1\n",
      "occurence of G are 1\n"
     ]
    }
   ],
   "source": [
    "func(a)"
   ]
  },
  {
   "cell_type": "markdown",
   "id": "8343ab40",
   "metadata": {},
   "source": [
    "# Args and Kwargs"
   ]
  },
  {
   "cell_type": "code",
   "execution_count": 1,
   "id": "7c8240f6",
   "metadata": {},
   "outputs": [],
   "source": [
    "def addr(a,b,c,*args):\n",
    "    print(a+b+c)\n",
    "    print(args)\n",
    "    print(*args)"
   ]
  },
  {
   "cell_type": "code",
   "execution_count": 2,
   "id": "d0b0e7ff",
   "metadata": {},
   "outputs": [
    {
     "name": "stdout",
     "output_type": "stream",
     "text": [
      "9\n",
      "(23, 43, 4, 5)\n",
      "23 43 4 5\n"
     ]
    }
   ],
   "source": [
    "addr(2,3,4,23,43,4,5)"
   ]
  },
  {
   "cell_type": "code",
   "execution_count": 3,
   "id": "43fbfb77",
   "metadata": {},
   "outputs": [
    {
     "data": {
      "text/plain": [
       "19"
      ]
     },
     "execution_count": 3,
     "metadata": {},
     "output_type": "execute_result"
    }
   ],
   "source": [
    "def add(a,b,*x):\n",
    "    a = a+b\n",
    "    for i in x:\n",
    "        a = a+i\n",
    "    return a    \n",
    "add(1,2,2,2,3,4,5)        "
   ]
  },
  {
   "cell_type": "code",
   "execution_count": 4,
   "id": "82bb1944",
   "metadata": {},
   "outputs": [],
   "source": [
    "def printer(*XYZ):\n",
    "    for i in XYZ:\n",
    "        print(i)"
   ]
  },
  {
   "cell_type": "code",
   "execution_count": 5,
   "id": "b8446dc5",
   "metadata": {},
   "outputs": [
    {
     "name": "stdout",
     "output_type": "stream",
     "text": [
      "1\n",
      "2\n",
      "43\n",
      "4\n",
      "5\n",
      "6\n",
      "6\n",
      "324\n"
     ]
    }
   ],
   "source": [
    "printer(1,2,43,4,5,6,6,'324')"
   ]
  },
  {
   "cell_type": "code",
   "execution_count": null,
   "id": "76c25c04",
   "metadata": {},
   "outputs": [],
   "source": []
  }
 ],
 "metadata": {
  "kernelspec": {
   "display_name": "Python 3 (ipykernel)",
   "language": "python",
   "name": "python3"
  },
  "language_info": {
   "codemirror_mode": {
    "name": "ipython",
    "version": 3
   },
   "file_extension": ".py",
   "mimetype": "text/x-python",
   "name": "python",
   "nbconvert_exporter": "python",
   "pygments_lexer": "ipython3",
   "version": "3.11.5"
  }
 },
 "nbformat": 4,
 "nbformat_minor": 5
}
