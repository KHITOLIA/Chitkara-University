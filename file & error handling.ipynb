{
 "cells": [
  {
   "cell_type": "markdown",
   "id": "24ab4e22",
   "metadata": {},
   "source": [
    "# Text Files"
   ]
  },
  {
   "cell_type": "code",
   "execution_count": 6,
   "id": "563b7522",
   "metadata": {},
   "outputs": [
    {
     "name": "stdout",
     "output_type": "stream",
     "text": [
      "hello there\n",
      "hello again\n",
      "hello how are you\n"
     ]
    }
   ],
   "source": [
    "# opening a file\n",
    "f = open('hello.txt', 'r')\n",
    "type(f)\n",
    "\n",
    "# reading a file\n",
    "print(f.read())\n",
    "\n",
    "\n",
    "# closeing a file\n",
    "f.close()"
   ]
  },
  {
   "cell_type": "code",
   "execution_count": 13,
   "id": "6c84d810",
   "metadata": {},
   "outputs": [
    {
     "name": "stdout",
     "output_type": "stream",
     "text": [
      "16\n"
     ]
    }
   ],
   "source": [
    "# writing file in write mode\n",
    "\n",
    "f = open('hello.txt', 'w')\n",
    "# print(f.read())\n",
    "print(f.write('this a new line.'))\n",
    "f.close()"
   ]
  },
  {
   "cell_type": "code",
   "execution_count": 16,
   "id": "06329ae9",
   "metadata": {},
   "outputs": [],
   "source": [
    "# Reading from a file\n",
    "# . read\n",
    "# . readline\n",
    "# . readlines"
   ]
  },
  {
   "cell_type": "code",
   "execution_count": 18,
   "id": "4ecdb1c1",
   "metadata": {},
   "outputs": [],
   "source": [
    "f = open('hello.txt', 'r')\n",
    "content = f.read()"
   ]
  },
  {
   "cell_type": "code",
   "execution_count": 19,
   "id": "26f7b207",
   "metadata": {},
   "outputs": [
    {
     "data": {
      "text/plain": [
       "'this a new line.'"
      ]
     },
     "execution_count": 19,
     "metadata": {},
     "output_type": "execute_result"
    }
   ],
   "source": [
    "content"
   ]
  },
  {
   "cell_type": "code",
   "execution_count": 20,
   "id": "200eab17",
   "metadata": {},
   "outputs": [
    {
     "name": "stdout",
     "output_type": "stream",
     "text": [
      "this a new line.\n"
     ]
    }
   ],
   "source": [
    "print(content)"
   ]
  },
  {
   "cell_type": "code",
   "execution_count": 37,
   "id": "a410064f",
   "metadata": {},
   "outputs": [],
   "source": [
    "f.close()"
   ]
  },
  {
   "cell_type": "code",
   "execution_count": 32,
   "id": "44947e04",
   "metadata": {},
   "outputs": [
    {
     "data": {
      "text/plain": [
       "'this a new line.\\n'"
      ]
     },
     "execution_count": 32,
     "metadata": {},
     "output_type": "execute_result"
    }
   ],
   "source": [
    "f = open('hello.txt', 'r')\n",
    "f.readline()"
   ]
  },
  {
   "cell_type": "code",
   "execution_count": 35,
   "id": "c63b5d11",
   "metadata": {},
   "outputs": [
    {
     "data": {
      "text/plain": [
       "''"
      ]
     },
     "execution_count": 35,
     "metadata": {},
     "output_type": "execute_result"
    }
   ],
   "source": [
    "f.readline()"
   ]
  },
  {
   "cell_type": "code",
   "execution_count": 40,
   "id": "aadb1d25",
   "metadata": {},
   "outputs": [
    {
     "name": "stdout",
     "output_type": "stream",
     "text": [
      "this a new line.\n",
      "statement 2\n",
      "statement 3"
     ]
    }
   ],
   "source": [
    "f = open('hello.txt', 'r')\n",
    "for line in f.readlines():\n",
    "    print(line, end = \"\")\n",
    "f.close()    "
   ]
  },
  {
   "cell_type": "markdown",
   "id": "c6f56081",
   "metadata": {},
   "source": [
    "# moving the cursor"
   ]
  },
  {
   "cell_type": "code",
   "execution_count": 44,
   "id": "2781b785",
   "metadata": {},
   "outputs": [
    {
     "data": {
      "text/plain": [
       "'this a new line.\\nstatement 2\\nstatement 3'"
      ]
     },
     "execution_count": 44,
     "metadata": {},
     "output_type": "execute_result"
    }
   ],
   "source": [
    "f = open('hello.txt', 'r')\n",
    "f.read()"
   ]
  },
  {
   "cell_type": "code",
   "execution_count": 45,
   "id": "09aac19c",
   "metadata": {},
   "outputs": [
    {
     "data": {
      "text/plain": [
       "''"
      ]
     },
     "execution_count": 45,
     "metadata": {},
     "output_type": "execute_result"
    }
   ],
   "source": [
    "f.read()"
   ]
  },
  {
   "cell_type": "code",
   "execution_count": 46,
   "id": "080be2a9",
   "metadata": {},
   "outputs": [
    {
     "data": {
      "text/plain": [
       "10"
      ]
     },
     "execution_count": 46,
     "metadata": {},
     "output_type": "execute_result"
    }
   ],
   "source": [
    "f.seek(10)"
   ]
  },
  {
   "cell_type": "code",
   "execution_count": 47,
   "id": "3f77faab",
   "metadata": {},
   "outputs": [
    {
     "data": {
      "text/plain": [
       "' line.\\nstatement 2\\nstatement 3'"
      ]
     },
     "execution_count": 47,
     "metadata": {},
     "output_type": "execute_result"
    }
   ],
   "source": [
    "f.read()"
   ]
  },
  {
   "cell_type": "code",
   "execution_count": 48,
   "id": "4fe63cef",
   "metadata": {},
   "outputs": [],
   "source": [
    "f.seek(23)\n",
    "f.read()\n",
    "f.close()"
   ]
  },
  {
   "cell_type": "markdown",
   "id": "2b498f90",
   "metadata": {},
   "source": [
    "# with statement\n",
    "1. no need to close a file\n",
    "2. can perform file operation inside with block only\n",
    "3. cleaner way of file handling"
   ]
  },
  {
   "cell_type": "code",
   "execution_count": 52,
   "id": "164d437a",
   "metadata": {},
   "outputs": [
    {
     "name": "stdout",
     "output_type": "stream",
     "text": [
      "this a new line.\n",
      "statement 2\n",
      "statement 3\n"
     ]
    }
   ],
   "source": [
    "with open('hello.txt', 'r') as file:\n",
    "    print(file.read())\n",
    "    "
   ]
  },
  {
   "cell_type": "code",
   "execution_count": 53,
   "id": "ff5dac5b",
   "metadata": {},
   "outputs": [
    {
     "name": "stdout",
     "output_type": "stream",
     "text": [
      "this a new line.\n",
      "\n",
      "statement 2\n",
      "\n",
      "statement 3\n"
     ]
    }
   ],
   "source": [
    "with open('hello.txt', 'r') as file:\n",
    "    for line in file.readlines():\n",
    "        print(line)\n",
    "    "
   ]
  },
  {
   "cell_type": "code",
   "execution_count": 54,
   "id": "01ed3e17",
   "metadata": {},
   "outputs": [],
   "source": [
    "l = ['line 1', 'line 2', 'line 3', 'line 4']\n",
    "\n",
    "with open('something.txt' , 'w') as f:\n",
    "    for line in l:\n",
    "        f.write(line + \"\\n\")"
   ]
  },
  {
   "cell_type": "markdown",
   "id": "10b6905a",
   "metadata": {},
   "source": [
    "# Handling json file"
   ]
  },
  {
   "cell_type": "code",
   "execution_count": 57,
   "id": "a57f13fb",
   "metadata": {},
   "outputs": [],
   "source": [
    "import json"
   ]
  },
  {
   "cell_type": "code",
   "execution_count": 58,
   "id": "c49b26c7",
   "metadata": {},
   "outputs": [],
   "source": [
    "d = {\n",
    "    'name' : 'David',\n",
    "    'id' : 1244,\n",
    "    'email' : 'david@gmail.com',\n",
    "    'likes' : ['reading', 'anime'],\n",
    "}"
   ]
  },
  {
   "cell_type": "code",
   "execution_count": 59,
   "id": "bbf27371",
   "metadata": {},
   "outputs": [],
   "source": [
    "with open('profile.json', 'w') as f:\n",
    "    json.dump(d, f)"
   ]
  },
  {
   "cell_type": "code",
   "execution_count": 60,
   "id": "8634cdc0",
   "metadata": {},
   "outputs": [
    {
     "name": "stdout",
     "output_type": "stream",
     "text": [
      "{'name': 'David', 'id': 1244, 'email': 'david@gmail.com', 'likes': ['reading', 'anime']}\n",
      "<class 'dict'>\n"
     ]
    }
   ],
   "source": [
    "with open('profile.json', 'r') as f:\n",
    "    data = json.load(f)\n",
    "    print(data)\n",
    "    print(type(data))"
   ]
  },
  {
   "cell_type": "code",
   "execution_count": 66,
   "id": "f62e3f4e",
   "metadata": {},
   "outputs": [
    {
     "name": "stdout",
     "output_type": "stream",
     "text": [
      "{\"name\": \"David\", \"id\": 1244, \"email\": \"david@gmail.com\", \"likes\": [\"reading\", \"anime\"]} <class 'str'>\n"
     ]
    }
   ],
   "source": [
    "s = json.dumps(d)\n",
    "print(s, type(s))"
   ]
  },
  {
   "cell_type": "code",
   "execution_count": 63,
   "id": "c3287480",
   "metadata": {},
   "outputs": [
    {
     "name": "stdout",
     "output_type": "stream",
     "text": [
      "{'name': 'David', 'id': 1244, 'email': 'david@gmail.com', 'likes': ['reading', 'anime']} <class 'dict'>\n"
     ]
    }
   ],
   "source": [
    "print(d, type(d))"
   ]
  },
  {
   "cell_type": "code",
   "execution_count": 67,
   "id": "f6160048",
   "metadata": {},
   "outputs": [],
   "source": [
    "x = json.loads(s)"
   ]
  },
  {
   "cell_type": "code",
   "execution_count": 69,
   "id": "d0599bd5",
   "metadata": {},
   "outputs": [
    {
     "name": "stdout",
     "output_type": "stream",
     "text": [
      "{'name': 'David', 'id': 1244, 'email': 'david@gmail.com', 'likes': ['reading', 'anime']} <class 'dict'>\n"
     ]
    }
   ],
   "source": [
    "print(x, type(x))"
   ]
  },
  {
   "cell_type": "markdown",
   "id": "5767b848",
   "metadata": {},
   "source": [
    "# Error handling"
   ]
  },
  {
   "cell_type": "code",
   "execution_count": 74,
   "id": "a72b0c16",
   "metadata": {},
   "outputs": [
    {
     "ename": "SyntaxError",
     "evalue": "unterminated string literal (detected at line 2) (2354758124.py, line 2)",
     "output_type": "error",
     "traceback": [
      "\u001b[1;36m  Cell \u001b[1;32mIn[74], line 2\u001b[1;36m\u001b[0m\n\u001b[1;33m    print('hi)\u001b[0m\n\u001b[1;37m          ^\u001b[0m\n\u001b[1;31mSyntaxError\u001b[0m\u001b[1;31m:\u001b[0m unterminated string literal (detected at line 2)\n"
     ]
    }
   ],
   "source": [
    "# syntax error\n",
    "print('hi)"
   ]
  },
  {
   "cell_type": "code",
   "execution_count": 76,
   "id": "74f8b741",
   "metadata": {},
   "outputs": [
    {
     "ename": "ZeroDivisionError",
     "evalue": "division by zero",
     "output_type": "error",
     "traceback": [
      "\u001b[1;31m---------------------------------------------------------------------------\u001b[0m",
      "\u001b[1;31mZeroDivisionError\u001b[0m                         Traceback (most recent call last)",
      "Cell \u001b[1;32mIn[76], line 2\u001b[0m\n\u001b[0;32m      1\u001b[0m \u001b[38;5;66;03m# Exception\u001b[39;00m\n\u001b[1;32m----> 2\u001b[0m \u001b[38;5;28mprint\u001b[39m(\u001b[38;5;241m10\u001b[39m\u001b[38;5;241m/\u001b[39m\u001b[38;5;241m0\u001b[39m)\n",
      "\u001b[1;31mZeroDivisionError\u001b[0m: division by zero"
     ]
    }
   ],
   "source": [
    "# Exception\n",
    "print(10/0)"
   ]
  },
  {
   "cell_type": "code",
   "execution_count": 77,
   "id": "f74299a3",
   "metadata": {},
   "outputs": [
    {
     "ename": "IndexError",
     "evalue": "list index out of range",
     "output_type": "error",
     "traceback": [
      "\u001b[1;31m---------------------------------------------------------------------------\u001b[0m",
      "\u001b[1;31mIndexError\u001b[0m                                Traceback (most recent call last)",
      "Cell \u001b[1;32mIn[77], line 2\u001b[0m\n\u001b[0;32m      1\u001b[0m l \u001b[38;5;241m=\u001b[39m [\u001b[38;5;241m10\u001b[39m, \u001b[38;5;241m20\u001b[39m, \u001b[38;5;241m30\u001b[39m]\n\u001b[1;32m----> 2\u001b[0m l[\u001b[38;5;241m3\u001b[39m]\n",
      "\u001b[1;31mIndexError\u001b[0m: list index out of range"
     ]
    }
   ],
   "source": [
    "l = [10, 20, 30]\n",
    "l[3]"
   ]
  },
  {
   "cell_type": "code",
   "execution_count": 78,
   "id": "e1ffb97f",
   "metadata": {},
   "outputs": [
    {
     "ename": "NameError",
     "evalue": "name 'y' is not defined",
     "output_type": "error",
     "traceback": [
      "\u001b[1;31m---------------------------------------------------------------------------\u001b[0m",
      "\u001b[1;31mNameError\u001b[0m                                 Traceback (most recent call last)",
      "Cell \u001b[1;32mIn[78], line 1\u001b[0m\n\u001b[1;32m----> 1\u001b[0m \u001b[38;5;28mprint\u001b[39m(y)\n",
      "\u001b[1;31mNameError\u001b[0m: name 'y' is not defined"
     ]
    }
   ],
   "source": [
    "print(y)"
   ]
  },
  {
   "cell_type": "code",
   "execution_count": 79,
   "id": "e55eff7a",
   "metadata": {},
   "outputs": [
    {
     "ename": "TypeError",
     "evalue": "can only concatenate str (not \"int\") to str",
     "output_type": "error",
     "traceback": [
      "\u001b[1;31m---------------------------------------------------------------------------\u001b[0m",
      "\u001b[1;31mTypeError\u001b[0m                                 Traceback (most recent call last)",
      "Cell \u001b[1;32mIn[79], line 1\u001b[0m\n\u001b[1;32m----> 1\u001b[0m \u001b[38;5;124m'\u001b[39m\u001b[38;5;124mhello\u001b[39m\u001b[38;5;124m'\u001b[39m \u001b[38;5;241m+\u001b[39m \u001b[38;5;241m123\u001b[39m\n",
      "\u001b[1;31mTypeError\u001b[0m: can only concatenate str (not \"int\") to str"
     ]
    }
   ],
   "source": [
    "'hello' + 123"
   ]
  },
  {
   "cell_type": "markdown",
   "id": "a04e3472",
   "metadata": {},
   "source": [
    "# handling exception\n",
    "1. try\n",
    "2. except"
   ]
  },
  {
   "cell_type": "code",
   "execution_count": 84,
   "id": "bc7a81e7",
   "metadata": {},
   "outputs": [
    {
     "name": "stdout",
     "output_type": "stream",
     "text": [
      "3\n",
      "0\n",
      "some error occured\n"
     ]
    }
   ],
   "source": [
    "try:\n",
    "    a = int(input())\n",
    "    b = int(input())\n",
    "    print(a/b)\n",
    "except:\n",
    "    print('some error occured')"
   ]
  },
  {
   "cell_type": "code",
   "execution_count": 91,
   "id": "1891ec1f",
   "metadata": {},
   "outputs": [
    {
     "name": "stdout",
     "output_type": "stream",
     "text": [
      "5.0\n",
      "can not join non string values to str data type\n"
     ]
    }
   ],
   "source": [
    "try:\n",
    "    a = 10\n",
    "    b = 2\n",
    "    print(a/b)\n",
    "    s = \"hello\" + 123\n",
    "except ZeroDivisionError:\n",
    "    print('b can have non zero values only')\n",
    "except TypeError:\n",
    "    print('can not join non string values to str data type')\n",
    "except:\n",
    "    print('some error occured')    "
   ]
  },
  {
   "cell_type": "code",
   "execution_count": 99,
   "id": "600790d7",
   "metadata": {},
   "outputs": [
    {
     "name": "stdout",
     "output_type": "stream",
     "text": [
      "<class 'type'> : invalid literal for int() with base 10: 'hi'\n"
     ]
    }
   ],
   "source": [
    "try :\n",
    "#     print(10/0)\n",
    "#     st = \"hello\" + 123\n",
    "    int(\"hi\")\n",
    "except Exception as e:\n",
    "#     print(\"Error !!! :\", end = \" \")\n",
    "    print(type(e.__class__), \":\", e)    "
   ]
  },
  {
   "cell_type": "markdown",
   "id": "21537f99",
   "metadata": {},
   "source": [
    "# Raising a custom exception"
   ]
  },
  {
   "cell_type": "code",
   "execution_count": 102,
   "id": "93586e63",
   "metadata": {},
   "outputs": [],
   "source": [
    "class MyException(Exception):\n",
    "    def __init__(self, message):\n",
    "        self.message = message\n",
    "        \n",
    "    def __str__(self):\n",
    "        \n",
    "        return self.message"
   ]
  },
  {
   "cell_type": "code",
   "execution_count": 107,
   "id": "c597bf9c",
   "metadata": {},
   "outputs": [
    {
     "name": "stdout",
     "output_type": "stream",
     "text": [
      "Value error occured\n",
      "('Value error occured',)\n"
     ]
    }
   ],
   "source": [
    "try:\n",
    "#     raise MyException(\"My custom message\")\n",
    "    raise ValueError(\"Value error occured\")\n",
    "except Exception as e:\n",
    "    print(e)  # __str__\n",
    "    print(e.args)"
   ]
  },
  {
   "cell_type": "code",
   "execution_count": 109,
   "id": "34611e27",
   "metadata": {},
   "outputs": [
    {
     "name": "stdout",
     "output_type": "stream",
     "text": [
      "10 divided by 20 is 0.5\n",
      "Always executed\n"
     ]
    }
   ],
   "source": [
    "try:\n",
    "    a = 10\n",
    "    b = 20\n",
    "    result = a/b\n",
    "except Exception as e:\n",
    "    print(e)\n",
    "else:\n",
    "    print(f\"{a} divided by {b} is {result}\")\n",
    "finally:\n",
    "    print('Always executed')"
   ]
  },
  {
   "cell_type": "code",
   "execution_count": 110,
   "id": "4254f3d2",
   "metadata": {},
   "outputs": [
    {
     "name": "stdout",
     "output_type": "stream",
     "text": [
      "this a new line.\n",
      "statement 2\n",
      "statement 3\n"
     ]
    }
   ],
   "source": [
    "try:\n",
    "    f = open('hello.txt', 'r')\n",
    "    print(f.read())\n",
    "except Exception as e:\n",
    "    print(e.args)\n",
    "finally:\n",
    "    f.close()"
   ]
  },
  {
   "cell_type": "code",
   "execution_count": 120,
   "id": "60e9bd57",
   "metadata": {},
   "outputs": [],
   "source": [
    "def func():\n",
    "    try:\n",
    "        print('hello')\n",
    "        print('hi')\n",
    "        print(10/0)\n",
    "        return 1\n",
    "    except:\n",
    "        print(\"some\")\n",
    "        return 2\n",
    "    else:\n",
    "        return 3\n",
    "    finally:\n",
    "        print('always executed')\n",
    "        return 4"
   ]
  },
  {
   "cell_type": "code",
   "execution_count": 121,
   "id": "ab528337",
   "metadata": {},
   "outputs": [
    {
     "name": "stdout",
     "output_type": "stream",
     "text": [
      "hello\n",
      "hi\n",
      "some\n",
      "always executed\n"
     ]
    },
    {
     "data": {
      "text/plain": [
       "4"
      ]
     },
     "execution_count": 121,
     "metadata": {},
     "output_type": "execute_result"
    }
   ],
   "source": [
    "func()"
   ]
  },
  {
   "cell_type": "markdown",
   "id": "cad7a522",
   "metadata": {},
   "source": [
    "# Custom Classes with predefined cleanups"
   ]
  },
  {
   "cell_type": "code",
   "execution_count": 124,
   "id": "8489c451",
   "metadata": {},
   "outputs": [
    {
     "name": "stdout",
     "output_type": "stream",
     "text": [
      "this a new line.\n",
      "statement 2\n",
      "statement 3\n"
     ]
    }
   ],
   "source": [
    "with open('hello.txt', 'r') as f:\n",
    "    print(f.read())"
   ]
  },
  {
   "cell_type": "code",
   "execution_count": 125,
   "id": "9e360b8a",
   "metadata": {},
   "outputs": [],
   "source": [
    "class A:\n",
    "    \n",
    "    def __init__(self, x):\n",
    "        self.x = x\n",
    "        \n",
    "    def __enter__(self):\n",
    "        \n",
    "        return self\n",
    "    \n",
    "    def __exit__(self, *args):\n",
    "        print(*args)"
   ]
  },
  {
   "cell_type": "code",
   "execution_count": 128,
   "id": "3a446c31",
   "metadata": {},
   "outputs": [
    {
     "name": "stdout",
     "output_type": "stream",
     "text": [
      "10\n",
      "<class 'ZeroDivisionError'> division by zero <traceback object at 0x000001ED09971C80>\n"
     ]
    },
    {
     "ename": "ZeroDivisionError",
     "evalue": "division by zero",
     "output_type": "error",
     "traceback": [
      "\u001b[1;31m---------------------------------------------------------------------------\u001b[0m",
      "\u001b[1;31mZeroDivisionError\u001b[0m                         Traceback (most recent call last)",
      "Cell \u001b[1;32mIn[128], line 3\u001b[0m\n\u001b[0;32m      1\u001b[0m \u001b[38;5;28;01mwith\u001b[39;00m A(\u001b[38;5;241m10\u001b[39m) \u001b[38;5;28;01mas\u001b[39;00m a:\n\u001b[0;32m      2\u001b[0m     \u001b[38;5;28mprint\u001b[39m(a\u001b[38;5;241m.\u001b[39mx)\n\u001b[1;32m----> 3\u001b[0m     \u001b[38;5;28mprint\u001b[39m(\u001b[38;5;241m10\u001b[39m\u001b[38;5;241m/\u001b[39m\u001b[38;5;241m0\u001b[39m)\n",
      "\u001b[1;31mZeroDivisionError\u001b[0m: division by zero"
     ]
    }
   ],
   "source": [
    "with A(10) as a:\n",
    "    print(a.x)\n",
    "    print(10/0)"
   ]
  },
  {
   "cell_type": "code",
   "execution_count": null,
   "id": "ebb9148a",
   "metadata": {},
   "outputs": [],
   "source": []
  }
 ],
 "metadata": {
  "kernelspec": {
   "display_name": "Python 3 (ipykernel)",
   "language": "python",
   "name": "python3"
  },
  "language_info": {
   "codemirror_mode": {
    "name": "ipython",
    "version": 3
   },
   "file_extension": ".py",
   "mimetype": "text/x-python",
   "name": "python",
   "nbconvert_exporter": "python",
   "pygments_lexer": "ipython3",
   "version": "3.11.5"
  }
 },
 "nbformat": 4,
 "nbformat_minor": 5
}
