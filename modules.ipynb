{
 "cells": [
  {
   "cell_type": "code",
   "execution_count": 131,
   "id": "2e990faf",
   "metadata": {},
   "outputs": [],
   "source": [
    "# Alias and filtered import"
   ]
  },
  {
   "cell_type": "code",
   "execution_count": 138,
   "id": "162e5656",
   "metadata": {},
   "outputs": [],
   "source": [
    "import calculator as cal"
   ]
  },
  {
   "cell_type": "code",
   "execution_count": 136,
   "id": "8922cc8b",
   "metadata": {},
   "outputs": [],
   "source": [
    "# del calculator"
   ]
  },
  {
   "cell_type": "code",
   "execution_count": 139,
   "id": "5e093309",
   "metadata": {},
   "outputs": [
    {
     "data": {
      "text/plain": [
       "0.125"
      ]
     },
     "execution_count": 139,
     "metadata": {},
     "output_type": "execute_result"
    }
   ],
   "source": [
    "cal.divide(1, 8)"
   ]
  },
  {
   "cell_type": "code",
   "execution_count": 140,
   "id": "76ca3988",
   "metadata": {},
   "outputs": [
    {
     "data": {
      "text/plain": [
       "7"
      ]
     },
     "execution_count": 140,
     "metadata": {},
     "output_type": "execute_result"
    }
   ],
   "source": [
    "cal.add(3, 4)"
   ]
  },
  {
   "cell_type": "code",
   "execution_count": 141,
   "id": "24624744",
   "metadata": {},
   "outputs": [
    {
     "data": {
      "text/plain": [
       "0.8"
      ]
     },
     "execution_count": 141,
     "metadata": {},
     "output_type": "execute_result"
    }
   ],
   "source": [
    "cal.divide(4, 5)"
   ]
  },
  {
   "cell_type": "code",
   "execution_count": 142,
   "id": "8225f9d2",
   "metadata": {},
   "outputs": [
    {
     "data": {
      "text/plain": [
       "15"
      ]
     },
     "execution_count": 142,
     "metadata": {},
     "output_type": "execute_result"
    }
   ],
   "source": [
    "cal.multiply(5,3)"
   ]
  },
  {
   "cell_type": "code",
   "execution_count": 152,
   "id": "e20b4a29",
   "metadata": {},
   "outputs": [],
   "source": [
    "from calculator import(add as addition, multiply as prod,A as myclass)"
   ]
  },
  {
   "cell_type": "code",
   "execution_count": 144,
   "id": "7fc0e3d2",
   "metadata": {},
   "outputs": [
    {
     "data": {
      "text/plain": [
       "7"
      ]
     },
     "execution_count": 144,
     "metadata": {},
     "output_type": "execute_result"
    }
   ],
   "source": [
    "add(4, 3)"
   ]
  },
  {
   "cell_type": "code",
   "execution_count": 145,
   "id": "52737ad7",
   "metadata": {},
   "outputs": [
    {
     "data": {
      "text/plain": [
       "20"
      ]
     },
     "execution_count": 145,
     "metadata": {},
     "output_type": "execute_result"
    }
   ],
   "source": [
    "multiply(4, 5)"
   ]
  },
  {
   "cell_type": "code",
   "execution_count": 146,
   "id": "705b27a8",
   "metadata": {},
   "outputs": [],
   "source": [
    "def add(a,b, c):\n",
    "    return a+b+c"
   ]
  },
  {
   "cell_type": "code",
   "execution_count": 148,
   "id": "65decfa6",
   "metadata": {},
   "outputs": [
    {
     "data": {
      "text/plain": [
       "9"
      ]
     },
     "execution_count": 148,
     "metadata": {},
     "output_type": "execute_result"
    }
   ],
   "source": [
    "add(2,3, 4)"
   ]
  },
  {
   "cell_type": "code",
   "execution_count": 153,
   "id": "07a9142b",
   "metadata": {},
   "outputs": [
    {
     "data": {
      "text/plain": [
       "5"
      ]
     },
     "execution_count": 153,
     "metadata": {},
     "output_type": "execute_result"
    }
   ],
   "source": [
    "addition(2, 3)"
   ]
  },
  {
   "cell_type": "code",
   "execution_count": 154,
   "id": "91924f60",
   "metadata": {},
   "outputs": [
    {
     "data": {
      "text/plain": [
       "20"
      ]
     },
     "execution_count": 154,
     "metadata": {},
     "output_type": "execute_result"
    }
   ],
   "source": [
    "prod(4, 5)"
   ]
  },
  {
   "cell_type": "code",
   "execution_count": 155,
   "id": "4dd613db",
   "metadata": {},
   "outputs": [
    {
     "name": "stdout",
     "output_type": "stream",
     "text": [
      "10\n"
     ]
    }
   ],
   "source": [
    "obj = myclass(10)\n",
    "print(obj.x)"
   ]
  },
  {
   "cell_type": "markdown",
   "id": "37dfcf2c",
   "metadata": {},
   "source": [
    "# Executing module as a script"
   ]
  },
  {
   "cell_type": "code",
   "execution_count": 1,
   "id": "0b49ea0e",
   "metadata": {},
   "outputs": [
    {
     "name": "stdout",
     "output_type": "stream",
     "text": [
      "hello\n",
      "hello again\n",
      "300 200\n",
      "the script is executed as a module\n"
     ]
    }
   ],
   "source": [
    "!python3 calculator.py  "
   ]
  },
  {
   "cell_type": "code",
   "execution_count": 2,
   "id": "b5c3436d",
   "metadata": {},
   "outputs": [],
   "source": [
    "import calculator as cal"
   ]
  },
  {
   "cell_type": "code",
   "execution_count": 3,
   "id": "2f7b31cd",
   "metadata": {},
   "outputs": [
    {
     "data": {
      "text/plain": [
       "'calculator'"
      ]
     },
     "execution_count": 3,
     "metadata": {},
     "output_type": "execute_result"
    }
   ],
   "source": [
    "cal.__name__"
   ]
  },
  {
   "cell_type": "code",
   "execution_count": 4,
   "id": "ca080895",
   "metadata": {},
   "outputs": [
    {
     "data": {
      "text/plain": [
       "'__main__'"
      ]
     },
     "execution_count": 4,
     "metadata": {},
     "output_type": "execute_result"
    }
   ],
   "source": [
    "__name__"
   ]
  },
  {
   "cell_type": "markdown",
   "id": "32828c4f",
   "metadata": {},
   "source": [
    "# from module _name import "
   ]
  },
  {
   "cell_type": "code",
   "execution_count": 1,
   "id": "0f3c5b32",
   "metadata": {},
   "outputs": [],
   "source": [
    "from calculator import *"
   ]
  },
  {
   "cell_type": "code",
   "execution_count": 2,
   "id": "8d9b001e",
   "metadata": {},
   "outputs": [
    {
     "ename": "NameError",
     "evalue": "name 'calculator' is not defined",
     "output_type": "error",
     "traceback": [
      "\u001b[1;31m---------------------------------------------------------------------------\u001b[0m",
      "\u001b[1;31mNameError\u001b[0m                                 Traceback (most recent call last)",
      "Cell \u001b[1;32mIn[2], line 1\u001b[0m\n\u001b[1;32m----> 1\u001b[0m \u001b[38;5;28mtype\u001b[39m(calculator)\n",
      "\u001b[1;31mNameError\u001b[0m: name 'calculator' is not defined"
     ]
    }
   ],
   "source": [
    "type(calculator)"
   ]
  },
  {
   "cell_type": "code",
   "execution_count": 3,
   "id": "253b0cfd",
   "metadata": {},
   "outputs": [
    {
     "data": {
      "text/plain": [
       "7"
      ]
     },
     "execution_count": 3,
     "metadata": {},
     "output_type": "execute_result"
    }
   ],
   "source": [
    "add(3,4)"
   ]
  },
  {
   "cell_type": "code",
   "execution_count": 4,
   "id": "d9b85ee1",
   "metadata": {},
   "outputs": [
    {
     "data": {
      "text/plain": [
       "20"
      ]
     },
     "execution_count": 4,
     "metadata": {},
     "output_type": "execute_result"
    }
   ],
   "source": [
    "multiply(4, 5)"
   ]
  },
  {
   "cell_type": "code",
   "execution_count": 5,
   "id": "415aceb3",
   "metadata": {},
   "outputs": [
    {
     "data": {
      "text/plain": [
       "10"
      ]
     },
     "execution_count": 5,
     "metadata": {},
     "output_type": "execute_result"
    }
   ],
   "source": [
    "a = A(10)\n",
    "a.x"
   ]
  },
  {
   "cell_type": "code",
   "execution_count": 6,
   "id": "1217851a",
   "metadata": {},
   "outputs": [
    {
     "data": {
      "text/plain": [
       "100"
      ]
     },
     "execution_count": 6,
     "metadata": {},
     "output_type": "execute_result"
    }
   ],
   "source": [
    "x"
   ]
  },
  {
   "cell_type": "code",
   "execution_count": 7,
   "id": "61997ece",
   "metadata": {},
   "outputs": [
    {
     "name": "stdout",
     "output_type": "stream",
     "text": [
      "200\n"
     ]
    }
   ],
   "source": [
    "print(CONSTANT)"
   ]
  },
  {
   "cell_type": "code",
   "execution_count": 1,
   "id": "dcac2d16",
   "metadata": {},
   "outputs": [],
   "source": [
    "import calculator as cal"
   ]
  },
  {
   "cell_type": "code",
   "execution_count": 2,
   "id": "c732a50a",
   "metadata": {},
   "outputs": [
    {
     "data": {
      "text/plain": [
       "300"
      ]
     },
     "execution_count": 2,
     "metadata": {},
     "output_type": "execute_result"
    }
   ],
   "source": [
    "cal._C"
   ]
  },
  {
   "cell_type": "code",
   "execution_count": 3,
   "id": "b0c60788",
   "metadata": {},
   "outputs": [
    {
     "name": "stdout",
     "output_type": "stream",
     "text": [
      "Hi\n"
     ]
    }
   ],
   "source": [
    "cal._func()"
   ]
  },
  {
   "cell_type": "code",
   "execution_count": 4,
   "id": "8e722052",
   "metadata": {},
   "outputs": [],
   "source": [
    " from calculator import *"
   ]
  },
  {
   "cell_type": "code",
   "execution_count": 7,
   "id": "cb68332e",
   "metadata": {},
   "outputs": [
    {
     "data": {
      "text/plain": [
       "(7, 0.8, 30, -1, 100, 200)"
      ]
     },
     "execution_count": 7,
     "metadata": {},
     "output_type": "execute_result"
    }
   ],
   "source": [
    "add(3, 4), divide(4, 5), multiply(5,6), subtract(7, 8), x, CONSTANT"
   ]
  },
  {
   "cell_type": "code",
   "execution_count": 8,
   "id": "1317f409",
   "metadata": {},
   "outputs": [],
   "source": [
    "def func():\n",
    "    print(\"hi\")"
   ]
  },
  {
   "cell_type": "code",
   "execution_count": 9,
   "id": "e31a1977",
   "metadata": {},
   "outputs": [
    {
     "name": "stdout",
     "output_type": "stream",
     "text": [
      "hi\n"
     ]
    }
   ],
   "source": [
    "func()"
   ]
  },
  {
   "cell_type": "code",
   "execution_count": 10,
   "id": "52899ce5",
   "metadata": {},
   "outputs": [
    {
     "name": "stdout",
     "output_type": "stream",
     "text": [
      "hi\n"
     ]
    }
   ],
   "source": [
    "func()"
   ]
  },
  {
   "cell_type": "code",
   "execution_count": 11,
   "id": "1fcf7078",
   "metadata": {},
   "outputs": [],
   "source": [
    "import calculator\n"
   ]
  },
  {
   "cell_type": "code",
   "execution_count": 12,
   "id": "6eacd7fd",
   "metadata": {},
   "outputs": [
    {
     "data": {
      "text/plain": [
       "module"
      ]
     },
     "execution_count": 12,
     "metadata": {},
     "output_type": "execute_result"
    }
   ],
   "source": [
    "type(calculator)"
   ]
  },
  {
   "cell_type": "code",
   "execution_count": 13,
   "id": "30586f7e",
   "metadata": {},
   "outputs": [
    {
     "data": {
      "text/plain": [
       "200"
      ]
     },
     "execution_count": 13,
     "metadata": {},
     "output_type": "execute_result"
    }
   ],
   "source": [
    "cal.CONSTANT"
   ]
  },
  {
   "cell_type": "code",
   "execution_count": 14,
   "id": "36d94873",
   "metadata": {},
   "outputs": [
    {
     "name": "stdout",
     "output_type": "stream",
     "text": [
      "5\n",
      "6\n",
      "0.6666666666666666\n",
      "-1\n"
     ]
    }
   ],
   "source": [
    "a, b = 2, 3\n",
    "print(calculator.add(a,b))\n",
    "print(calculator.multiply(a,b))\n",
    "print(calculator.divide(a,b))\n",
    "print(calculator.subtract(a,b))"
   ]
  },
  {
   "cell_type": "code",
   "execution_count": 15,
   "id": "5b0aef0f",
   "metadata": {},
   "outputs": [
    {
     "data": {
      "text/plain": [
       "10"
      ]
     },
     "execution_count": 15,
     "metadata": {},
     "output_type": "execute_result"
    }
   ],
   "source": [
    "a = calculator.A(10)\n",
    "a.x"
   ]
  },
  {
   "cell_type": "code",
   "execution_count": null,
   "id": "bafd7618",
   "metadata": {},
   "outputs": [],
   "source": []
  }
 ],
 "metadata": {
  "kernelspec": {
   "display_name": "Python 3 (ipykernel)",
   "language": "python",
   "name": "python3"
  },
  "language_info": {
   "codemirror_mode": {
    "name": "ipython",
    "version": 3
   },
   "file_extension": ".py",
   "mimetype": "text/x-python",
   "name": "python",
   "nbconvert_exporter": "python",
   "pygments_lexer": "ipython3",
   "version": "3.11.5"
  }
 },
 "nbformat": 4,
 "nbformat_minor": 5
}
