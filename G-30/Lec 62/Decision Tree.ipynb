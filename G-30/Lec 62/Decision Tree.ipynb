{
 "cells": [
  {
   "cell_type": "code",
   "execution_count": 1,
   "id": "57c18a3d",
   "metadata": {},
   "outputs": [],
   "source": [
    "import pandas as pd\n",
    "import numpy as np\n",
    "import matplotlib.pyplot as plt\n",
    "from sklearn.tree import DecisionTreeClassifier"
   ]
  },
  {
   "cell_type": "code",
   "execution_count": 2,
   "id": "785a0d59",
   "metadata": {},
   "outputs": [],
   "source": [
    "tree = DecisionTreeClassifier()"
   ]
  },
  {
   "cell_type": "code",
   "execution_count": 3,
   "id": "012e5645",
   "metadata": {},
   "outputs": [
    {
     "data": {
      "text/html": [
       "<style>#sk-container-id-1 {color: black;}#sk-container-id-1 pre{padding: 0;}#sk-container-id-1 div.sk-toggleable {background-color: white;}#sk-container-id-1 label.sk-toggleable__label {cursor: pointer;display: block;width: 100%;margin-bottom: 0;padding: 0.3em;box-sizing: border-box;text-align: center;}#sk-container-id-1 label.sk-toggleable__label-arrow:before {content: \"▸\";float: left;margin-right: 0.25em;color: #696969;}#sk-container-id-1 label.sk-toggleable__label-arrow:hover:before {color: black;}#sk-container-id-1 div.sk-estimator:hover label.sk-toggleable__label-arrow:before {color: black;}#sk-container-id-1 div.sk-toggleable__content {max-height: 0;max-width: 0;overflow: hidden;text-align: left;background-color: #f0f8ff;}#sk-container-id-1 div.sk-toggleable__content pre {margin: 0.2em;color: black;border-radius: 0.25em;background-color: #f0f8ff;}#sk-container-id-1 input.sk-toggleable__control:checked~div.sk-toggleable__content {max-height: 200px;max-width: 100%;overflow: auto;}#sk-container-id-1 input.sk-toggleable__control:checked~label.sk-toggleable__label-arrow:before {content: \"▾\";}#sk-container-id-1 div.sk-estimator input.sk-toggleable__control:checked~label.sk-toggleable__label {background-color: #d4ebff;}#sk-container-id-1 div.sk-label input.sk-toggleable__control:checked~label.sk-toggleable__label {background-color: #d4ebff;}#sk-container-id-1 input.sk-hidden--visually {border: 0;clip: rect(1px 1px 1px 1px);clip: rect(1px, 1px, 1px, 1px);height: 1px;margin: -1px;overflow: hidden;padding: 0;position: absolute;width: 1px;}#sk-container-id-1 div.sk-estimator {font-family: monospace;background-color: #f0f8ff;border: 1px dotted black;border-radius: 0.25em;box-sizing: border-box;margin-bottom: 0.5em;}#sk-container-id-1 div.sk-estimator:hover {background-color: #d4ebff;}#sk-container-id-1 div.sk-parallel-item::after {content: \"\";width: 100%;border-bottom: 1px solid gray;flex-grow: 1;}#sk-container-id-1 div.sk-label:hover label.sk-toggleable__label {background-color: #d4ebff;}#sk-container-id-1 div.sk-serial::before {content: \"\";position: absolute;border-left: 1px solid gray;box-sizing: border-box;top: 0;bottom: 0;left: 50%;z-index: 0;}#sk-container-id-1 div.sk-serial {display: flex;flex-direction: column;align-items: center;background-color: white;padding-right: 0.2em;padding-left: 0.2em;position: relative;}#sk-container-id-1 div.sk-item {position: relative;z-index: 1;}#sk-container-id-1 div.sk-parallel {display: flex;align-items: stretch;justify-content: center;background-color: white;position: relative;}#sk-container-id-1 div.sk-item::before, #sk-container-id-1 div.sk-parallel-item::before {content: \"\";position: absolute;border-left: 1px solid gray;box-sizing: border-box;top: 0;bottom: 0;left: 50%;z-index: -1;}#sk-container-id-1 div.sk-parallel-item {display: flex;flex-direction: column;z-index: 1;position: relative;background-color: white;}#sk-container-id-1 div.sk-parallel-item:first-child::after {align-self: flex-end;width: 50%;}#sk-container-id-1 div.sk-parallel-item:last-child::after {align-self: flex-start;width: 50%;}#sk-container-id-1 div.sk-parallel-item:only-child::after {width: 0;}#sk-container-id-1 div.sk-dashed-wrapped {border: 1px dashed gray;margin: 0 0.4em 0.5em 0.4em;box-sizing: border-box;padding-bottom: 0.4em;background-color: white;}#sk-container-id-1 div.sk-label label {font-family: monospace;font-weight: bold;display: inline-block;line-height: 1.2em;}#sk-container-id-1 div.sk-label-container {text-align: center;}#sk-container-id-1 div.sk-container {/* jupyter's `normalize.less` sets `[hidden] { display: none; }` but bootstrap.min.css set `[hidden] { display: none !important; }` so we also need the `!important` here to be able to override the default hidden behavior on the sphinx rendered scikit-learn.org. See: https://github.com/scikit-learn/scikit-learn/issues/21755 */display: inline-block !important;position: relative;}#sk-container-id-1 div.sk-text-repr-fallback {display: none;}</style><div id=\"sk-container-id-1\" class=\"sk-top-container\"><div class=\"sk-text-repr-fallback\"><pre>DecisionTreeClassifier()</pre><b>In a Jupyter environment, please rerun this cell to show the HTML representation or trust the notebook. <br />On GitHub, the HTML representation is unable to render, please try loading this page with nbviewer.org.</b></div><div class=\"sk-container\" hidden><div class=\"sk-item\"><div class=\"sk-estimator sk-toggleable\"><input class=\"sk-toggleable__control sk-hidden--visually\" id=\"sk-estimator-id-1\" type=\"checkbox\" checked><label for=\"sk-estimator-id-1\" class=\"sk-toggleable__label sk-toggleable__label-arrow\">DecisionTreeClassifier</label><div class=\"sk-toggleable__content\"><pre>DecisionTreeClassifier()</pre></div></div></div></div></div>"
      ],
      "text/plain": [
       "DecisionTreeClassifier()"
      ]
     },
     "execution_count": 3,
     "metadata": {},
     "output_type": "execute_result"
    }
   ],
   "source": [
    "tree"
   ]
  },
  {
   "cell_type": "code",
   "execution_count": 4,
   "id": "a25ae62a",
   "metadata": {},
   "outputs": [
    {
     "name": "stdout",
     "output_type": "stream",
     "text": [
      "Accuracy: 1.0\n"
     ]
    }
   ],
   "source": [
    "# Import necessary libraries\n",
    "import pandas as pd\n",
    "from sklearn.datasets import load_iris\n",
    "from sklearn.model_selection import train_test_split\n",
    "from sklearn.tree import DecisionTreeClassifier\n",
    "from sklearn.metrics import accuracy_score\n",
    "\n",
    "# Load Iris dataset\n",
    "iris = load_iris()\n",
    "\n",
    "# Create a DataFrame from the Iris dataset\n",
    "df = pd.DataFrame(data=iris.data, columns=iris.feature_names)\n",
    "df['target'] = iris.target\n",
    "\n",
    "# Split data into features (X) and target (y)\n",
    "X = df.drop('target', axis=1)\n",
    "y = df['target']\n",
    "\n",
    "# Split data into training and testing sets\n",
    "X_train, X_test, y_train, y_test = train_test_split(X, y, test_size=0.2, random_state=42)\n",
    "\n",
    "# Initialize DecisionTreeClassifier\n",
    "clf = DecisionTreeClassifier()\n",
    "\n",
    "# Train the classifier\n",
    "clf.fit(X_train, y_train)\n",
    "\n",
    "# Predict the labels of the test set\n",
    "y_pred = clf.predict(X_test)\n",
    "\n",
    "# Calculate accuracy\n",
    "accuracy = accuracy_score(y_test, y_pred)\n",
    "print(\"Accuracy:\", accuracy)\n"
   ]
  },
  {
   "cell_type": "code",
   "execution_count": 6,
   "id": "e16e2e73",
   "metadata": {},
   "outputs": [
    {
     "name": "stdout",
     "output_type": "stream",
     "text": [
      "Fitting 5 folds for each of 72 candidates, totalling 360 fits\n",
      "[CV 1/5] END criterion=gini, max_depth=3, min_samples_leaf=1, min_samples_split=2;, score=0.958 total time=   0.0s\n",
      "[CV 2/5] END criterion=gini, max_depth=3, min_samples_leaf=1, min_samples_split=2;, score=1.000 total time=   0.0s\n",
      "[CV 3/5] END criterion=gini, max_depth=3, min_samples_leaf=1, min_samples_split=2;, score=0.833 total time=   0.0s\n",
      "[CV 4/5] END criterion=gini, max_depth=3, min_samples_leaf=1, min_samples_split=2;, score=0.958 total time=   0.0s\n",
      "[CV 5/5] END criterion=gini, max_depth=3, min_samples_leaf=1, min_samples_split=2;, score=0.917 total time=   0.0s\n",
      "[CV 1/5] END criterion=gini, max_depth=3, min_samples_leaf=1, min_samples_split=5;, score=0.958 total time=   0.0s\n",
      "[CV 2/5] END criterion=gini, max_depth=3, min_samples_leaf=1, min_samples_split=5;, score=1.000 total time=   0.0s\n",
      "[CV 3/5] END criterion=gini, max_depth=3, min_samples_leaf=1, min_samples_split=5;, score=0.833 total time=   0.0s\n",
      "[CV 4/5] END criterion=gini, max_depth=3, min_samples_leaf=1, min_samples_split=5;, score=0.958 total time=   0.0s\n",
      "[CV 5/5] END criterion=gini, max_depth=3, min_samples_leaf=1, min_samples_split=5;, score=0.917 total time=   0.0s\n",
      "[CV 1/5] END criterion=gini, max_depth=3, min_samples_leaf=1, min_samples_split=10;, score=0.958 total time=   0.0s\n",
      "[CV 2/5] END criterion=gini, max_depth=3, min_samples_leaf=1, min_samples_split=10;, score=1.000 total time=   0.0s\n",
      "[CV 3/5] END criterion=gini, max_depth=3, min_samples_leaf=1, min_samples_split=10;, score=0.833 total time=   0.0s\n",
      "[CV 4/5] END criterion=gini, max_depth=3, min_samples_leaf=1, min_samples_split=10;, score=0.958 total time=   0.0s\n",
      "[CV 5/5] END criterion=gini, max_depth=3, min_samples_leaf=1, min_samples_split=10;, score=0.917 total time=   0.0s\n",
      "[CV 1/5] END criterion=gini, max_depth=3, min_samples_leaf=2, min_samples_split=2;, score=0.958 total time=   0.0s\n",
      "[CV 2/5] END criterion=gini, max_depth=3, min_samples_leaf=2, min_samples_split=2;, score=1.000 total time=   0.0s\n",
      "[CV 3/5] END criterion=gini, max_depth=3, min_samples_leaf=2, min_samples_split=2;, score=0.833 total time=   0.0s\n",
      "[CV 4/5] END criterion=gini, max_depth=3, min_samples_leaf=2, min_samples_split=2;, score=0.958 total time=   0.0s\n",
      "[CV 5/5] END criterion=gini, max_depth=3, min_samples_leaf=2, min_samples_split=2;, score=0.917 total time=   0.0s\n",
      "[CV 1/5] END criterion=gini, max_depth=3, min_samples_leaf=2, min_samples_split=5;, score=0.958 total time=   0.0s\n",
      "[CV 2/5] END criterion=gini, max_depth=3, min_samples_leaf=2, min_samples_split=5;, score=1.000 total time=   0.0s\n",
      "[CV 3/5] END criterion=gini, max_depth=3, min_samples_leaf=2, min_samples_split=5;, score=0.833 total time=   0.0s\n",
      "[CV 4/5] END criterion=gini, max_depth=3, min_samples_leaf=2, min_samples_split=5;, score=0.958 total time=   0.0s\n",
      "[CV 5/5] END criterion=gini, max_depth=3, min_samples_leaf=2, min_samples_split=5;, score=0.917 total time=   0.0s\n",
      "[CV 1/5] END criterion=gini, max_depth=3, min_samples_leaf=2, min_samples_split=10;, score=0.958 total time=   0.0s\n",
      "[CV 2/5] END criterion=gini, max_depth=3, min_samples_leaf=2, min_samples_split=10;, score=1.000 total time=   0.0s\n",
      "[CV 3/5] END criterion=gini, max_depth=3, min_samples_leaf=2, min_samples_split=10;, score=0.833 total time=   0.0s\n",
      "[CV 4/5] END criterion=gini, max_depth=3, min_samples_leaf=2, min_samples_split=10;, score=0.958 total time=   0.0s\n",
      "[CV 5/5] END criterion=gini, max_depth=3, min_samples_leaf=2, min_samples_split=10;, score=0.917 total time=   0.0s\n",
      "[CV 1/5] END criterion=gini, max_depth=3, min_samples_leaf=4, min_samples_split=2;, score=1.000 total time=   0.0s\n",
      "[CV 2/5] END criterion=gini, max_depth=3, min_samples_leaf=4, min_samples_split=2;, score=1.000 total time=   0.0s\n",
      "[CV 3/5] END criterion=gini, max_depth=3, min_samples_leaf=4, min_samples_split=2;, score=0.833 total time=   0.0s\n",
      "[CV 4/5] END criterion=gini, max_depth=3, min_samples_leaf=4, min_samples_split=2;, score=1.000 total time=   0.0s\n",
      "[CV 5/5] END criterion=gini, max_depth=3, min_samples_leaf=4, min_samples_split=2;, score=0.917 total time=   0.0s\n",
      "[CV 1/5] END criterion=gini, max_depth=3, min_samples_leaf=4, min_samples_split=5;, score=1.000 total time=   0.0s\n",
      "[CV 2/5] END criterion=gini, max_depth=3, min_samples_leaf=4, min_samples_split=5;, score=1.000 total time=   0.0s\n",
      "[CV 3/5] END criterion=gini, max_depth=3, min_samples_leaf=4, min_samples_split=5;, score=0.833 total time=   0.0s\n",
      "[CV 4/5] END criterion=gini, max_depth=3, min_samples_leaf=4, min_samples_split=5;, score=1.000 total time=   0.0s\n",
      "[CV 5/5] END criterion=gini, max_depth=3, min_samples_leaf=4, min_samples_split=5;, score=0.917 total time=   0.0s\n",
      "[CV 1/5] END criterion=gini, max_depth=3, min_samples_leaf=4, min_samples_split=10;, score=1.000 total time=   0.0s\n",
      "[CV 2/5] END criterion=gini, max_depth=3, min_samples_leaf=4, min_samples_split=10;, score=1.000 total time=   0.0s\n",
      "[CV 3/5] END criterion=gini, max_depth=3, min_samples_leaf=4, min_samples_split=10;, score=0.833 total time=   0.0s\n",
      "[CV 4/5] END criterion=gini, max_depth=3, min_samples_leaf=4, min_samples_split=10;, score=1.000 total time=   0.0s\n",
      "[CV 5/5] END criterion=gini, max_depth=3, min_samples_leaf=4, min_samples_split=10;, score=0.917 total time=   0.0s\n",
      "[CV 1/5] END criterion=gini, max_depth=5, min_samples_leaf=1, min_samples_split=2;, score=0.958 total time=   0.0s\n",
      "[CV 2/5] END criterion=gini, max_depth=5, min_samples_leaf=1, min_samples_split=2;, score=1.000 total time=   0.0s\n",
      "[CV 3/5] END criterion=gini, max_depth=5, min_samples_leaf=1, min_samples_split=2;, score=0.833 total time=   0.0s\n",
      "[CV 4/5] END criterion=gini, max_depth=5, min_samples_leaf=1, min_samples_split=2;, score=0.958 total time=   0.0s\n",
      "[CV 5/5] END criterion=gini, max_depth=5, min_samples_leaf=1, min_samples_split=2;, score=0.917 total time=   0.0s\n",
      "[CV 1/5] END criterion=gini, max_depth=5, min_samples_leaf=1, min_samples_split=5;, score=0.958 total time=   0.0s\n",
      "[CV 2/5] END criterion=gini, max_depth=5, min_samples_leaf=1, min_samples_split=5;, score=1.000 total time=   0.0s\n",
      "[CV 3/5] END criterion=gini, max_depth=5, min_samples_leaf=1, min_samples_split=5;, score=0.833 total time=   0.0s\n",
      "[CV 4/5] END criterion=gini, max_depth=5, min_samples_leaf=1, min_samples_split=5;, score=0.917 total time=   0.0s\n",
      "[CV 5/5] END criterion=gini, max_depth=5, min_samples_leaf=1, min_samples_split=5;, score=0.917 total time=   0.0s\n",
      "[CV 1/5] END criterion=gini, max_depth=5, min_samples_leaf=1, min_samples_split=10;, score=0.958 total time=   0.0s\n",
      "[CV 2/5] END criterion=gini, max_depth=5, min_samples_leaf=1, min_samples_split=10;, score=1.000 total time=   0.0s\n",
      "[CV 3/5] END criterion=gini, max_depth=5, min_samples_leaf=1, min_samples_split=10;, score=0.833 total time=   0.0s\n",
      "[CV 4/5] END criterion=gini, max_depth=5, min_samples_leaf=1, min_samples_split=10;, score=0.958 total time=   0.0s\n",
      "[CV 5/5] END criterion=gini, max_depth=5, min_samples_leaf=1, min_samples_split=10;, score=0.917 total time=   0.0s\n",
      "[CV 1/5] END criterion=gini, max_depth=5, min_samples_leaf=2, min_samples_split=2;, score=0.958 total time=   0.0s\n",
      "[CV 2/5] END criterion=gini, max_depth=5, min_samples_leaf=2, min_samples_split=2;, score=0.917 total time=   0.0s\n",
      "[CV 3/5] END criterion=gini, max_depth=5, min_samples_leaf=2, min_samples_split=2;, score=0.833 total time=   0.0s\n",
      "[CV 4/5] END criterion=gini, max_depth=5, min_samples_leaf=2, min_samples_split=2;, score=0.917 total time=   0.0s\n",
      "[CV 5/5] END criterion=gini, max_depth=5, min_samples_leaf=2, min_samples_split=2;, score=0.917 total time=   0.0s\n",
      "[CV 1/5] END criterion=gini, max_depth=5, min_samples_leaf=2, min_samples_split=5;, score=0.958 total time=   0.0s\n",
      "[CV 2/5] END criterion=gini, max_depth=5, min_samples_leaf=2, min_samples_split=5;, score=1.000 total time=   0.0s\n",
      "[CV 3/5] END criterion=gini, max_depth=5, min_samples_leaf=2, min_samples_split=5;, score=0.833 total time=   0.0s\n",
      "[CV 4/5] END criterion=gini, max_depth=5, min_samples_leaf=2, min_samples_split=5;, score=0.917 total time=   0.0s\n",
      "[CV 5/5] END criterion=gini, max_depth=5, min_samples_leaf=2, min_samples_split=5;, score=0.917 total time=   0.0s\n",
      "[CV 1/5] END criterion=gini, max_depth=5, min_samples_leaf=2, min_samples_split=10;, score=0.958 total time=   0.0s\n",
      "[CV 2/5] END criterion=gini, max_depth=5, min_samples_leaf=2, min_samples_split=10;, score=1.000 total time=   0.0s\n",
      "[CV 3/5] END criterion=gini, max_depth=5, min_samples_leaf=2, min_samples_split=10;, score=0.833 total time=   0.0s\n",
      "[CV 4/5] END criterion=gini, max_depth=5, min_samples_leaf=2, min_samples_split=10;, score=0.958 total time=   0.0s\n",
      "[CV 5/5] END criterion=gini, max_depth=5, min_samples_leaf=2, min_samples_split=10;, score=0.917 total time=   0.0s\n",
      "[CV 1/5] END criterion=gini, max_depth=5, min_samples_leaf=4, min_samples_split=2;, score=1.000 total time=   0.0s\n",
      "[CV 2/5] END criterion=gini, max_depth=5, min_samples_leaf=4, min_samples_split=2;, score=1.000 total time=   0.0s\n",
      "[CV 3/5] END criterion=gini, max_depth=5, min_samples_leaf=4, min_samples_split=2;, score=0.833 total time=   0.0s\n",
      "[CV 4/5] END criterion=gini, max_depth=5, min_samples_leaf=4, min_samples_split=2;, score=1.000 total time=   0.0s\n",
      "[CV 5/5] END criterion=gini, max_depth=5, min_samples_leaf=4, min_samples_split=2;, score=0.917 total time=   0.0s\n",
      "[CV 1/5] END criterion=gini, max_depth=5, min_samples_leaf=4, min_samples_split=5;, score=1.000 total time=   0.0s\n",
      "[CV 2/5] END criterion=gini, max_depth=5, min_samples_leaf=4, min_samples_split=5;, score=1.000 total time=   0.0s\n",
      "[CV 3/5] END criterion=gini, max_depth=5, min_samples_leaf=4, min_samples_split=5;, score=0.833 total time=   0.0s\n",
      "[CV 4/5] END criterion=gini, max_depth=5, min_samples_leaf=4, min_samples_split=5;, score=1.000 total time=   0.0s\n",
      "[CV 5/5] END criterion=gini, max_depth=5, min_samples_leaf=4, min_samples_split=5;, score=0.917 total time=   0.0s\n",
      "[CV 1/5] END criterion=gini, max_depth=5, min_samples_leaf=4, min_samples_split=10;, score=1.000 total time=   0.0s\n",
      "[CV 2/5] END criterion=gini, max_depth=5, min_samples_leaf=4, min_samples_split=10;, score=1.000 total time=   0.0s\n",
      "[CV 3/5] END criterion=gini, max_depth=5, min_samples_leaf=4, min_samples_split=10;, score=0.833 total time=   0.0s\n",
      "[CV 4/5] END criterion=gini, max_depth=5, min_samples_leaf=4, min_samples_split=10;, score=1.000 total time=   0.0s\n",
      "[CV 5/5] END criterion=gini, max_depth=5, min_samples_leaf=4, min_samples_split=10;, score=0.917 total time=   0.0s\n",
      "[CV 1/5] END criterion=gini, max_depth=7, min_samples_leaf=1, min_samples_split=2;, score=0.958 total time=   0.0s\n",
      "[CV 2/5] END criterion=gini, max_depth=7, min_samples_leaf=1, min_samples_split=2;, score=1.000 total time=   0.0s\n",
      "[CV 3/5] END criterion=gini, max_depth=7, min_samples_leaf=1, min_samples_split=2;, score=0.833 total time=   0.0s\n",
      "[CV 4/5] END criterion=gini, max_depth=7, min_samples_leaf=1, min_samples_split=2;, score=0.958 total time=   0.0s\n",
      "[CV 5/5] END criterion=gini, max_depth=7, min_samples_leaf=1, min_samples_split=2;, score=0.958 total time=   0.0s\n",
      "[CV 1/5] END criterion=gini, max_depth=7, min_samples_leaf=1, min_samples_split=5;, score=0.958 total time=   0.0s\n",
      "[CV 2/5] END criterion=gini, max_depth=7, min_samples_leaf=1, min_samples_split=5;, score=1.000 total time=   0.0s\n",
      "[CV 3/5] END criterion=gini, max_depth=7, min_samples_leaf=1, min_samples_split=5;, score=0.833 total time=   0.0s\n",
      "[CV 4/5] END criterion=gini, max_depth=7, min_samples_leaf=1, min_samples_split=5;, score=0.917 total time=   0.0s\n",
      "[CV 5/5] END criterion=gini, max_depth=7, min_samples_leaf=1, min_samples_split=5;, score=0.917 total time=   0.0s\n",
      "[CV 1/5] END criterion=gini, max_depth=7, min_samples_leaf=1, min_samples_split=10;, score=0.958 total time=   0.0s\n",
      "[CV 2/5] END criterion=gini, max_depth=7, min_samples_leaf=1, min_samples_split=10;, score=1.000 total time=   0.0s\n",
      "[CV 3/5] END criterion=gini, max_depth=7, min_samples_leaf=1, min_samples_split=10;, score=0.833 total time=   0.0s\n",
      "[CV 4/5] END criterion=gini, max_depth=7, min_samples_leaf=1, min_samples_split=10;, score=0.958 total time=   0.0s\n",
      "[CV 5/5] END criterion=gini, max_depth=7, min_samples_leaf=1, min_samples_split=10;, score=0.917 total time=   0.0s\n",
      "[CV 1/5] END criterion=gini, max_depth=7, min_samples_leaf=2, min_samples_split=2;, score=0.958 total time=   0.0s\n",
      "[CV 2/5] END criterion=gini, max_depth=7, min_samples_leaf=2, min_samples_split=2;, score=0.917 total time=   0.0s\n",
      "[CV 3/5] END criterion=gini, max_depth=7, min_samples_leaf=2, min_samples_split=2;, score=0.833 total time=   0.0s\n",
      "[CV 4/5] END criterion=gini, max_depth=7, min_samples_leaf=2, min_samples_split=2;, score=0.917 total time=   0.0s\n",
      "[CV 5/5] END criterion=gini, max_depth=7, min_samples_leaf=2, min_samples_split=2;, score=0.917 total time=   0.0s\n",
      "[CV 1/5] END criterion=gini, max_depth=7, min_samples_leaf=2, min_samples_split=5;, score=0.958 total time=   0.0s\n",
      "[CV 2/5] END criterion=gini, max_depth=7, min_samples_leaf=2, min_samples_split=5;, score=1.000 total time=   0.0s\n",
      "[CV 3/5] END criterion=gini, max_depth=7, min_samples_leaf=2, min_samples_split=5;, score=0.833 total time=   0.0s\n",
      "[CV 4/5] END criterion=gini, max_depth=7, min_samples_leaf=2, min_samples_split=5;, score=0.917 total time=   0.0s\n",
      "[CV 5/5] END criterion=gini, max_depth=7, min_samples_leaf=2, min_samples_split=5;, score=0.917 total time=   0.0s\n",
      "[CV 1/5] END criterion=gini, max_depth=7, min_samples_leaf=2, min_samples_split=10;, score=0.958 total time=   0.0s\n",
      "[CV 2/5] END criterion=gini, max_depth=7, min_samples_leaf=2, min_samples_split=10;, score=1.000 total time=   0.0s\n",
      "[CV 3/5] END criterion=gini, max_depth=7, min_samples_leaf=2, min_samples_split=10;, score=0.833 total time=   0.0s\n",
      "[CV 4/5] END criterion=gini, max_depth=7, min_samples_leaf=2, min_samples_split=10;, score=0.958 total time=   0.0s\n",
      "[CV 5/5] END criterion=gini, max_depth=7, min_samples_leaf=2, min_samples_split=10;, score=0.917 total time=   0.0s\n",
      "[CV 1/5] END criterion=gini, max_depth=7, min_samples_leaf=4, min_samples_split=2;, score=1.000 total time=   0.0s\n",
      "[CV 2/5] END criterion=gini, max_depth=7, min_samples_leaf=4, min_samples_split=2;, score=1.000 total time=   0.0s\n",
      "[CV 3/5] END criterion=gini, max_depth=7, min_samples_leaf=4, min_samples_split=2;, score=0.833 total time=   0.0s\n",
      "[CV 4/5] END criterion=gini, max_depth=7, min_samples_leaf=4, min_samples_split=2;, score=1.000 total time=   0.0s\n",
      "[CV 5/5] END criterion=gini, max_depth=7, min_samples_leaf=4, min_samples_split=2;, score=0.917 total time=   0.0s\n",
      "[CV 1/5] END criterion=gini, max_depth=7, min_samples_leaf=4, min_samples_split=5;, score=1.000 total time=   0.0s\n",
      "[CV 2/5] END criterion=gini, max_depth=7, min_samples_leaf=4, min_samples_split=5;, score=1.000 total time=   0.0s\n",
      "[CV 3/5] END criterion=gini, max_depth=7, min_samples_leaf=4, min_samples_split=5;, score=0.833 total time=   0.0s\n",
      "[CV 4/5] END criterion=gini, max_depth=7, min_samples_leaf=4, min_samples_split=5;, score=1.000 total time=   0.0s\n",
      "[CV 5/5] END criterion=gini, max_depth=7, min_samples_leaf=4, min_samples_split=5;, score=0.917 total time=   0.0s\n",
      "[CV 1/5] END criterion=gini, max_depth=7, min_samples_leaf=4, min_samples_split=10;, score=1.000 total time=   0.0s\n",
      "[CV 2/5] END criterion=gini, max_depth=7, min_samples_leaf=4, min_samples_split=10;, score=1.000 total time=   0.0s\n",
      "[CV 3/5] END criterion=gini, max_depth=7, min_samples_leaf=4, min_samples_split=10;, score=0.833 total time=   0.0s\n",
      "[CV 4/5] END criterion=gini, max_depth=7, min_samples_leaf=4, min_samples_split=10;, score=1.000 total time=   0.0s\n",
      "[CV 5/5] END criterion=gini, max_depth=7, min_samples_leaf=4, min_samples_split=10;, score=0.917 total time=   0.0s\n",
      "[CV 1/5] END criterion=gini, max_depth=None, min_samples_leaf=1, min_samples_split=2;, score=0.958 total time=   0.0s\n",
      "[CV 2/5] END criterion=gini, max_depth=None, min_samples_leaf=1, min_samples_split=2;, score=1.000 total time=   0.0s\n",
      "[CV 3/5] END criterion=gini, max_depth=None, min_samples_leaf=1, min_samples_split=2;, score=0.833 total time=   0.0s\n"
     ]
    },
    {
     "name": "stdout",
     "output_type": "stream",
     "text": [
      "[CV 4/5] END criterion=gini, max_depth=None, min_samples_leaf=1, min_samples_split=2;, score=0.958 total time=   0.0s\n",
      "[CV 5/5] END criterion=gini, max_depth=None, min_samples_leaf=1, min_samples_split=2;, score=0.958 total time=   0.0s\n",
      "[CV 1/5] END criterion=gini, max_depth=None, min_samples_leaf=1, min_samples_split=5;, score=0.958 total time=   0.0s\n",
      "[CV 2/5] END criterion=gini, max_depth=None, min_samples_leaf=1, min_samples_split=5;, score=1.000 total time=   0.0s\n",
      "[CV 3/5] END criterion=gini, max_depth=None, min_samples_leaf=1, min_samples_split=5;, score=0.833 total time=   0.0s\n",
      "[CV 4/5] END criterion=gini, max_depth=None, min_samples_leaf=1, min_samples_split=5;, score=0.917 total time=   0.0s\n",
      "[CV 5/5] END criterion=gini, max_depth=None, min_samples_leaf=1, min_samples_split=5;, score=0.917 total time=   0.0s\n",
      "[CV 1/5] END criterion=gini, max_depth=None, min_samples_leaf=1, min_samples_split=10;, score=0.958 total time=   0.0s\n",
      "[CV 2/5] END criterion=gini, max_depth=None, min_samples_leaf=1, min_samples_split=10;, score=1.000 total time=   0.0s\n",
      "[CV 3/5] END criterion=gini, max_depth=None, min_samples_leaf=1, min_samples_split=10;, score=0.833 total time=   0.0s\n",
      "[CV 4/5] END criterion=gini, max_depth=None, min_samples_leaf=1, min_samples_split=10;, score=0.958 total time=   0.0s\n",
      "[CV 5/5] END criterion=gini, max_depth=None, min_samples_leaf=1, min_samples_split=10;, score=0.917 total time=   0.0s\n",
      "[CV 1/5] END criterion=gini, max_depth=None, min_samples_leaf=2, min_samples_split=2;, score=0.958 total time=   0.0s\n",
      "[CV 2/5] END criterion=gini, max_depth=None, min_samples_leaf=2, min_samples_split=2;, score=0.917 total time=   0.0s\n",
      "[CV 3/5] END criterion=gini, max_depth=None, min_samples_leaf=2, min_samples_split=2;, score=0.833 total time=   0.0s\n",
      "[CV 4/5] END criterion=gini, max_depth=None, min_samples_leaf=2, min_samples_split=2;, score=0.917 total time=   0.0s\n",
      "[CV 5/5] END criterion=gini, max_depth=None, min_samples_leaf=2, min_samples_split=2;, score=0.917 total time=   0.0s\n",
      "[CV 1/5] END criterion=gini, max_depth=None, min_samples_leaf=2, min_samples_split=5;, score=0.958 total time=   0.0s\n",
      "[CV 2/5] END criterion=gini, max_depth=None, min_samples_leaf=2, min_samples_split=5;, score=1.000 total time=   0.0s\n",
      "[CV 3/5] END criterion=gini, max_depth=None, min_samples_leaf=2, min_samples_split=5;, score=0.833 total time=   0.0s\n",
      "[CV 4/5] END criterion=gini, max_depth=None, min_samples_leaf=2, min_samples_split=5;, score=0.917 total time=   0.0s\n",
      "[CV 5/5] END criterion=gini, max_depth=None, min_samples_leaf=2, min_samples_split=5;, score=0.917 total time=   0.0s\n",
      "[CV 1/5] END criterion=gini, max_depth=None, min_samples_leaf=2, min_samples_split=10;, score=0.958 total time=   0.0s\n",
      "[CV 2/5] END criterion=gini, max_depth=None, min_samples_leaf=2, min_samples_split=10;, score=1.000 total time=   0.0s\n",
      "[CV 3/5] END criterion=gini, max_depth=None, min_samples_leaf=2, min_samples_split=10;, score=0.833 total time=   0.0s\n",
      "[CV 4/5] END criterion=gini, max_depth=None, min_samples_leaf=2, min_samples_split=10;, score=0.958 total time=   0.0s\n",
      "[CV 5/5] END criterion=gini, max_depth=None, min_samples_leaf=2, min_samples_split=10;, score=0.917 total time=   0.0s\n",
      "[CV 1/5] END criterion=gini, max_depth=None, min_samples_leaf=4, min_samples_split=2;, score=1.000 total time=   0.0s\n",
      "[CV 2/5] END criterion=gini, max_depth=None, min_samples_leaf=4, min_samples_split=2;, score=1.000 total time=   0.0s\n",
      "[CV 3/5] END criterion=gini, max_depth=None, min_samples_leaf=4, min_samples_split=2;, score=0.833 total time=   0.0s\n",
      "[CV 4/5] END criterion=gini, max_depth=None, min_samples_leaf=4, min_samples_split=2;, score=1.000 total time=   0.0s\n",
      "[CV 5/5] END criterion=gini, max_depth=None, min_samples_leaf=4, min_samples_split=2;, score=0.917 total time=   0.0s\n",
      "[CV 1/5] END criterion=gini, max_depth=None, min_samples_leaf=4, min_samples_split=5;, score=1.000 total time=   0.0s\n",
      "[CV 2/5] END criterion=gini, max_depth=None, min_samples_leaf=4, min_samples_split=5;, score=1.000 total time=   0.0s\n",
      "[CV 3/5] END criterion=gini, max_depth=None, min_samples_leaf=4, min_samples_split=5;, score=0.833 total time=   0.0s\n",
      "[CV 4/5] END criterion=gini, max_depth=None, min_samples_leaf=4, min_samples_split=5;, score=1.000 total time=   0.0s\n",
      "[CV 5/5] END criterion=gini, max_depth=None, min_samples_leaf=4, min_samples_split=5;, score=0.917 total time=   0.0s\n",
      "[CV 1/5] END criterion=gini, max_depth=None, min_samples_leaf=4, min_samples_split=10;, score=1.000 total time=   0.0s\n",
      "[CV 2/5] END criterion=gini, max_depth=None, min_samples_leaf=4, min_samples_split=10;, score=1.000 total time=   0.0s\n",
      "[CV 3/5] END criterion=gini, max_depth=None, min_samples_leaf=4, min_samples_split=10;, score=0.833 total time=   0.0s\n",
      "[CV 4/5] END criterion=gini, max_depth=None, min_samples_leaf=4, min_samples_split=10;, score=1.000 total time=   0.0s\n",
      "[CV 5/5] END criterion=gini, max_depth=None, min_samples_leaf=4, min_samples_split=10;, score=0.917 total time=   0.0s\n",
      "[CV 1/5] END criterion=entropy, max_depth=3, min_samples_leaf=1, min_samples_split=2;, score=0.958 total time=   0.0s\n",
      "[CV 2/5] END criterion=entropy, max_depth=3, min_samples_leaf=1, min_samples_split=2;, score=1.000 total time=   0.0s\n",
      "[CV 3/5] END criterion=entropy, max_depth=3, min_samples_leaf=1, min_samples_split=2;, score=0.833 total time=   0.0s\n",
      "[CV 4/5] END criterion=entropy, max_depth=3, min_samples_leaf=1, min_samples_split=2;, score=0.958 total time=   0.0s\n",
      "[CV 5/5] END criterion=entropy, max_depth=3, min_samples_leaf=1, min_samples_split=2;, score=0.917 total time=   0.0s\n",
      "[CV 1/5] END criterion=entropy, max_depth=3, min_samples_leaf=1, min_samples_split=5;, score=0.958 total time=   0.0s\n",
      "[CV 2/5] END criterion=entropy, max_depth=3, min_samples_leaf=1, min_samples_split=5;, score=1.000 total time=   0.0s\n",
      "[CV 3/5] END criterion=entropy, max_depth=3, min_samples_leaf=1, min_samples_split=5;, score=0.833 total time=   0.0s\n",
      "[CV 4/5] END criterion=entropy, max_depth=3, min_samples_leaf=1, min_samples_split=5;, score=0.958 total time=   0.0s\n",
      "[CV 5/5] END criterion=entropy, max_depth=3, min_samples_leaf=1, min_samples_split=5;, score=0.917 total time=   0.0s\n",
      "[CV 1/5] END criterion=entropy, max_depth=3, min_samples_leaf=1, min_samples_split=10;, score=0.958 total time=   0.0s\n",
      "[CV 2/5] END criterion=entropy, max_depth=3, min_samples_leaf=1, min_samples_split=10;, score=1.000 total time=   0.0s\n",
      "[CV 3/5] END criterion=entropy, max_depth=3, min_samples_leaf=1, min_samples_split=10;, score=0.833 total time=   0.0s\n",
      "[CV 4/5] END criterion=entropy, max_depth=3, min_samples_leaf=1, min_samples_split=10;, score=0.958 total time=   0.0s\n",
      "[CV 5/5] END criterion=entropy, max_depth=3, min_samples_leaf=1, min_samples_split=10;, score=0.917 total time=   0.0s\n",
      "[CV 1/5] END criterion=entropy, max_depth=3, min_samples_leaf=2, min_samples_split=2;, score=0.958 total time=   0.0s\n",
      "[CV 2/5] END criterion=entropy, max_depth=3, min_samples_leaf=2, min_samples_split=2;, score=1.000 total time=   0.0s\n",
      "[CV 3/5] END criterion=entropy, max_depth=3, min_samples_leaf=2, min_samples_split=2;, score=0.833 total time=   0.0s\n",
      "[CV 4/5] END criterion=entropy, max_depth=3, min_samples_leaf=2, min_samples_split=2;, score=0.958 total time=   0.0s\n",
      "[CV 5/5] END criterion=entropy, max_depth=3, min_samples_leaf=2, min_samples_split=2;, score=0.917 total time=   0.0s\n",
      "[CV 1/5] END criterion=entropy, max_depth=3, min_samples_leaf=2, min_samples_split=5;, score=0.958 total time=   0.0s\n",
      "[CV 2/5] END criterion=entropy, max_depth=3, min_samples_leaf=2, min_samples_split=5;, score=1.000 total time=   0.0s\n",
      "[CV 3/5] END criterion=entropy, max_depth=3, min_samples_leaf=2, min_samples_split=5;, score=0.833 total time=   0.0s\n",
      "[CV 4/5] END criterion=entropy, max_depth=3, min_samples_leaf=2, min_samples_split=5;, score=0.958 total time=   0.0s\n",
      "[CV 5/5] END criterion=entropy, max_depth=3, min_samples_leaf=2, min_samples_split=5;, score=0.917 total time=   0.0s\n",
      "[CV 1/5] END criterion=entropy, max_depth=3, min_samples_leaf=2, min_samples_split=10;, score=0.958 total time=   0.0s\n",
      "[CV 2/5] END criterion=entropy, max_depth=3, min_samples_leaf=2, min_samples_split=10;, score=1.000 total time=   0.0s\n",
      "[CV 3/5] END criterion=entropy, max_depth=3, min_samples_leaf=2, min_samples_split=10;, score=0.833 total time=   0.0s\n",
      "[CV 4/5] END criterion=entropy, max_depth=3, min_samples_leaf=2, min_samples_split=10;, score=0.958 total time=   0.0s\n",
      "[CV 5/5] END criterion=entropy, max_depth=3, min_samples_leaf=2, min_samples_split=10;, score=0.917 total time=   0.0s\n",
      "[CV 1/5] END criterion=entropy, max_depth=3, min_samples_leaf=4, min_samples_split=2;, score=1.000 total time=   0.0s\n",
      "[CV 2/5] END criterion=entropy, max_depth=3, min_samples_leaf=4, min_samples_split=2;, score=1.000 total time=   0.0s\n",
      "[CV 3/5] END criterion=entropy, max_depth=3, min_samples_leaf=4, min_samples_split=2;, score=0.833 total time=   0.0s\n",
      "[CV 4/5] END criterion=entropy, max_depth=3, min_samples_leaf=4, min_samples_split=2;, score=1.000 total time=   0.0s\n",
      "[CV 5/5] END criterion=entropy, max_depth=3, min_samples_leaf=4, min_samples_split=2;, score=0.917 total time=   0.0s\n",
      "[CV 1/5] END criterion=entropy, max_depth=3, min_samples_leaf=4, min_samples_split=5;, score=1.000 total time=   0.0s\n",
      "[CV 2/5] END criterion=entropy, max_depth=3, min_samples_leaf=4, min_samples_split=5;, score=1.000 total time=   0.0s\n",
      "[CV 3/5] END criterion=entropy, max_depth=3, min_samples_leaf=4, min_samples_split=5;, score=0.833 total time=   0.0s\n",
      "[CV 4/5] END criterion=entropy, max_depth=3, min_samples_leaf=4, min_samples_split=5;, score=1.000 total time=   0.0s\n",
      "[CV 5/5] END criterion=entropy, max_depth=3, min_samples_leaf=4, min_samples_split=5;, score=0.917 total time=   0.0s\n",
      "[CV 1/5] END criterion=entropy, max_depth=3, min_samples_leaf=4, min_samples_split=10;, score=1.000 total time=   0.0s\n",
      "[CV 2/5] END criterion=entropy, max_depth=3, min_samples_leaf=4, min_samples_split=10;, score=1.000 total time=   0.0s\n",
      "[CV 3/5] END criterion=entropy, max_depth=3, min_samples_leaf=4, min_samples_split=10;, score=0.833 total time=   0.0s\n",
      "[CV 4/5] END criterion=entropy, max_depth=3, min_samples_leaf=4, min_samples_split=10;, score=1.000 total time=   0.0s\n",
      "[CV 5/5] END criterion=entropy, max_depth=3, min_samples_leaf=4, min_samples_split=10;, score=0.917 total time=   0.0s\n",
      "[CV 1/5] END criterion=entropy, max_depth=5, min_samples_leaf=1, min_samples_split=2;, score=0.958 total time=   0.0s\n",
      "[CV 2/5] END criterion=entropy, max_depth=5, min_samples_leaf=1, min_samples_split=2;, score=1.000 total time=   0.0s\n",
      "[CV 3/5] END criterion=entropy, max_depth=5, min_samples_leaf=1, min_samples_split=2;, score=0.833 total time=   0.0s\n",
      "[CV 4/5] END criterion=entropy, max_depth=5, min_samples_leaf=1, min_samples_split=2;, score=0.958 total time=   0.0s\n",
      "[CV 5/5] END criterion=entropy, max_depth=5, min_samples_leaf=1, min_samples_split=2;, score=0.875 total time=   0.0s\n",
      "[CV 1/5] END criterion=entropy, max_depth=5, min_samples_leaf=1, min_samples_split=5;, score=0.958 total time=   0.0s\n",
      "[CV 2/5] END criterion=entropy, max_depth=5, min_samples_leaf=1, min_samples_split=5;, score=1.000 total time=   0.0s\n",
      "[CV 3/5] END criterion=entropy, max_depth=5, min_samples_leaf=1, min_samples_split=5;, score=0.833 total time=   0.0s\n",
      "[CV 4/5] END criterion=entropy, max_depth=5, min_samples_leaf=1, min_samples_split=5;, score=0.917 total time=   0.0s\n",
      "[CV 5/5] END criterion=entropy, max_depth=5, min_samples_leaf=1, min_samples_split=5;, score=0.917 total time=   0.0s\n",
      "[CV 1/5] END criterion=entropy, max_depth=5, min_samples_leaf=1, min_samples_split=10;, score=0.958 total time=   0.0s\n",
      "[CV 2/5] END criterion=entropy, max_depth=5, min_samples_leaf=1, min_samples_split=10;, score=1.000 total time=   0.0s\n",
      "[CV 3/5] END criterion=entropy, max_depth=5, min_samples_leaf=1, min_samples_split=10;, score=0.833 total time=   0.0s\n",
      "[CV 4/5] END criterion=entropy, max_depth=5, min_samples_leaf=1, min_samples_split=10;, score=0.958 total time=   0.0s\n",
      "[CV 5/5] END criterion=entropy, max_depth=5, min_samples_leaf=1, min_samples_split=10;, score=0.917 total time=   0.0s\n",
      "[CV 1/5] END criterion=entropy, max_depth=5, min_samples_leaf=2, min_samples_split=2;, score=0.958 total time=   0.0s\n",
      "[CV 2/5] END criterion=entropy, max_depth=5, min_samples_leaf=2, min_samples_split=2;, score=0.917 total time=   0.0s\n",
      "[CV 3/5] END criterion=entropy, max_depth=5, min_samples_leaf=2, min_samples_split=2;, score=0.833 total time=   0.0s\n",
      "[CV 4/5] END criterion=entropy, max_depth=5, min_samples_leaf=2, min_samples_split=2;, score=0.917 total time=   0.0s\n",
      "[CV 5/5] END criterion=entropy, max_depth=5, min_samples_leaf=2, min_samples_split=2;, score=0.958 total time=   0.0s\n",
      "[CV 1/5] END criterion=entropy, max_depth=5, min_samples_leaf=2, min_samples_split=5;, score=0.958 total time=   0.0s\n",
      "[CV 2/5] END criterion=entropy, max_depth=5, min_samples_leaf=2, min_samples_split=5;, score=1.000 total time=   0.0s\n",
      "[CV 3/5] END criterion=entropy, max_depth=5, min_samples_leaf=2, min_samples_split=5;, score=0.833 total time=   0.0s\n",
      "[CV 4/5] END criterion=entropy, max_depth=5, min_samples_leaf=2, min_samples_split=5;, score=0.917 total time=   0.0s\n",
      "[CV 5/5] END criterion=entropy, max_depth=5, min_samples_leaf=2, min_samples_split=5;, score=0.958 total time=   0.0s\n",
      "[CV 1/5] END criterion=entropy, max_depth=5, min_samples_leaf=2, min_samples_split=10;, score=0.958 total time=   0.0s\n",
      "[CV 2/5] END criterion=entropy, max_depth=5, min_samples_leaf=2, min_samples_split=10;, score=1.000 total time=   0.0s\n",
      "[CV 3/5] END criterion=entropy, max_depth=5, min_samples_leaf=2, min_samples_split=10;, score=0.833 total time=   0.0s\n",
      "[CV 4/5] END criterion=entropy, max_depth=5, min_samples_leaf=2, min_samples_split=10;, score=0.958 total time=   0.0s\n",
      "[CV 5/5] END criterion=entropy, max_depth=5, min_samples_leaf=2, min_samples_split=10;, score=0.917 total time=   0.0s\n",
      "[CV 1/5] END criterion=entropy, max_depth=5, min_samples_leaf=4, min_samples_split=2;, score=1.000 total time=   0.0s\n",
      "[CV 2/5] END criterion=entropy, max_depth=5, min_samples_leaf=4, min_samples_split=2;, score=1.000 total time=   0.0s\n",
      "[CV 3/5] END criterion=entropy, max_depth=5, min_samples_leaf=4, min_samples_split=2;, score=0.833 total time=   0.0s\n",
      "[CV 4/5] END criterion=entropy, max_depth=5, min_samples_leaf=4, min_samples_split=2;, score=1.000 total time=   0.0s\n",
      "[CV 5/5] END criterion=entropy, max_depth=5, min_samples_leaf=4, min_samples_split=2;, score=0.958 total time=   0.0s\n",
      "[CV 1/5] END criterion=entropy, max_depth=5, min_samples_leaf=4, min_samples_split=5;, score=1.000 total time=   0.0s\n",
      "[CV 2/5] END criterion=entropy, max_depth=5, min_samples_leaf=4, min_samples_split=5;, score=1.000 total time=   0.0s\n",
      "[CV 3/5] END criterion=entropy, max_depth=5, min_samples_leaf=4, min_samples_split=5;, score=0.833 total time=   0.0s\n",
      "[CV 4/5] END criterion=entropy, max_depth=5, min_samples_leaf=4, min_samples_split=5;, score=1.000 total time=   0.0s\n",
      "[CV 5/5] END criterion=entropy, max_depth=5, min_samples_leaf=4, min_samples_split=5;, score=0.958 total time=   0.0s\n"
     ]
    },
    {
     "name": "stdout",
     "output_type": "stream",
     "text": [
      "[CV 1/5] END criterion=entropy, max_depth=5, min_samples_leaf=4, min_samples_split=10;, score=1.000 total time=   0.0s\n",
      "[CV 2/5] END criterion=entropy, max_depth=5, min_samples_leaf=4, min_samples_split=10;, score=1.000 total time=   0.0s\n",
      "[CV 3/5] END criterion=entropy, max_depth=5, min_samples_leaf=4, min_samples_split=10;, score=0.833 total time=   0.0s\n",
      "[CV 4/5] END criterion=entropy, max_depth=5, min_samples_leaf=4, min_samples_split=10;, score=1.000 total time=   0.0s\n",
      "[CV 5/5] END criterion=entropy, max_depth=5, min_samples_leaf=4, min_samples_split=10;, score=0.917 total time=   0.0s\n",
      "[CV 1/5] END criterion=entropy, max_depth=7, min_samples_leaf=1, min_samples_split=2;, score=0.958 total time=   0.0s\n",
      "[CV 2/5] END criterion=entropy, max_depth=7, min_samples_leaf=1, min_samples_split=2;, score=1.000 total time=   0.0s\n",
      "[CV 3/5] END criterion=entropy, max_depth=7, min_samples_leaf=1, min_samples_split=2;, score=0.833 total time=   0.0s\n",
      "[CV 4/5] END criterion=entropy, max_depth=7, min_samples_leaf=1, min_samples_split=2;, score=0.958 total time=   0.0s\n",
      "[CV 5/5] END criterion=entropy, max_depth=7, min_samples_leaf=1, min_samples_split=2;, score=0.917 total time=   0.0s\n",
      "[CV 1/5] END criterion=entropy, max_depth=7, min_samples_leaf=1, min_samples_split=5;, score=0.958 total time=   0.0s\n",
      "[CV 2/5] END criterion=entropy, max_depth=7, min_samples_leaf=1, min_samples_split=5;, score=1.000 total time=   0.0s\n",
      "[CV 3/5] END criterion=entropy, max_depth=7, min_samples_leaf=1, min_samples_split=5;, score=0.833 total time=   0.0s\n",
      "[CV 4/5] END criterion=entropy, max_depth=7, min_samples_leaf=1, min_samples_split=5;, score=0.917 total time=   0.0s\n",
      "[CV 5/5] END criterion=entropy, max_depth=7, min_samples_leaf=1, min_samples_split=5;, score=0.875 total time=   0.0s\n",
      "[CV 1/5] END criterion=entropy, max_depth=7, min_samples_leaf=1, min_samples_split=10;, score=0.958 total time=   0.0s\n",
      "[CV 2/5] END criterion=entropy, max_depth=7, min_samples_leaf=1, min_samples_split=10;, score=1.000 total time=   0.0s\n",
      "[CV 3/5] END criterion=entropy, max_depth=7, min_samples_leaf=1, min_samples_split=10;, score=0.833 total time=   0.0s\n",
      "[CV 4/5] END criterion=entropy, max_depth=7, min_samples_leaf=1, min_samples_split=10;, score=0.958 total time=   0.0s\n",
      "[CV 5/5] END criterion=entropy, max_depth=7, min_samples_leaf=1, min_samples_split=10;, score=0.917 total time=   0.0s\n",
      "[CV 1/5] END criterion=entropy, max_depth=7, min_samples_leaf=2, min_samples_split=2;, score=0.958 total time=   0.0s\n",
      "[CV 2/5] END criterion=entropy, max_depth=7, min_samples_leaf=2, min_samples_split=2;, score=0.917 total time=   0.0s\n",
      "[CV 3/5] END criterion=entropy, max_depth=7, min_samples_leaf=2, min_samples_split=2;, score=0.833 total time=   0.0s\n",
      "[CV 4/5] END criterion=entropy, max_depth=7, min_samples_leaf=2, min_samples_split=2;, score=0.917 total time=   0.0s\n",
      "[CV 5/5] END criterion=entropy, max_depth=7, min_samples_leaf=2, min_samples_split=2;, score=0.875 total time=   0.0s\n",
      "[CV 1/5] END criterion=entropy, max_depth=7, min_samples_leaf=2, min_samples_split=5;, score=0.958 total time=   0.0s\n",
      "[CV 2/5] END criterion=entropy, max_depth=7, min_samples_leaf=2, min_samples_split=5;, score=1.000 total time=   0.0s\n",
      "[CV 3/5] END criterion=entropy, max_depth=7, min_samples_leaf=2, min_samples_split=5;, score=0.833 total time=   0.0s\n",
      "[CV 4/5] END criterion=entropy, max_depth=7, min_samples_leaf=2, min_samples_split=5;, score=0.917 total time=   0.0s\n",
      "[CV 5/5] END criterion=entropy, max_depth=7, min_samples_leaf=2, min_samples_split=5;, score=0.917 total time=   0.0s\n",
      "[CV 1/5] END criterion=entropy, max_depth=7, min_samples_leaf=2, min_samples_split=10;, score=0.958 total time=   0.0s\n",
      "[CV 2/5] END criterion=entropy, max_depth=7, min_samples_leaf=2, min_samples_split=10;, score=1.000 total time=   0.0s\n",
      "[CV 3/5] END criterion=entropy, max_depth=7, min_samples_leaf=2, min_samples_split=10;, score=0.833 total time=   0.0s\n",
      "[CV 4/5] END criterion=entropy, max_depth=7, min_samples_leaf=2, min_samples_split=10;, score=0.958 total time=   0.0s\n",
      "[CV 5/5] END criterion=entropy, max_depth=7, min_samples_leaf=2, min_samples_split=10;, score=0.917 total time=   0.0s\n",
      "[CV 1/5] END criterion=entropy, max_depth=7, min_samples_leaf=4, min_samples_split=2;, score=1.000 total time=   0.0s\n",
      "[CV 2/5] END criterion=entropy, max_depth=7, min_samples_leaf=4, min_samples_split=2;, score=1.000 total time=   0.0s\n",
      "[CV 3/5] END criterion=entropy, max_depth=7, min_samples_leaf=4, min_samples_split=2;, score=0.833 total time=   0.0s\n",
      "[CV 4/5] END criterion=entropy, max_depth=7, min_samples_leaf=4, min_samples_split=2;, score=1.000 total time=   0.0s\n",
      "[CV 5/5] END criterion=entropy, max_depth=7, min_samples_leaf=4, min_samples_split=2;, score=0.958 total time=   0.0s\n",
      "[CV 1/5] END criterion=entropy, max_depth=7, min_samples_leaf=4, min_samples_split=5;, score=1.000 total time=   0.0s\n",
      "[CV 2/5] END criterion=entropy, max_depth=7, min_samples_leaf=4, min_samples_split=5;, score=1.000 total time=   0.0s\n",
      "[CV 3/5] END criterion=entropy, max_depth=7, min_samples_leaf=4, min_samples_split=5;, score=0.833 total time=   0.0s\n",
      "[CV 4/5] END criterion=entropy, max_depth=7, min_samples_leaf=4, min_samples_split=5;, score=1.000 total time=   0.0s\n",
      "[CV 5/5] END criterion=entropy, max_depth=7, min_samples_leaf=4, min_samples_split=5;, score=0.958 total time=   0.0s\n",
      "[CV 1/5] END criterion=entropy, max_depth=7, min_samples_leaf=4, min_samples_split=10;, score=1.000 total time=   0.0s\n",
      "[CV 2/5] END criterion=entropy, max_depth=7, min_samples_leaf=4, min_samples_split=10;, score=1.000 total time=   0.0s\n",
      "[CV 3/5] END criterion=entropy, max_depth=7, min_samples_leaf=4, min_samples_split=10;, score=0.833 total time=   0.0s\n",
      "[CV 4/5] END criterion=entropy, max_depth=7, min_samples_leaf=4, min_samples_split=10;, score=1.000 total time=   0.0s\n",
      "[CV 5/5] END criterion=entropy, max_depth=7, min_samples_leaf=4, min_samples_split=10;, score=0.917 total time=   0.0s\n",
      "[CV 1/5] END criterion=entropy, max_depth=None, min_samples_leaf=1, min_samples_split=2;, score=0.958 total time=   0.0s\n",
      "[CV 2/5] END criterion=entropy, max_depth=None, min_samples_leaf=1, min_samples_split=2;, score=1.000 total time=   0.0s\n",
      "[CV 3/5] END criterion=entropy, max_depth=None, min_samples_leaf=1, min_samples_split=2;, score=0.833 total time=   0.0s\n",
      "[CV 4/5] END criterion=entropy, max_depth=None, min_samples_leaf=1, min_samples_split=2;, score=0.958 total time=   0.0s\n",
      "[CV 5/5] END criterion=entropy, max_depth=None, min_samples_leaf=1, min_samples_split=2;, score=0.958 total time=   0.0s\n",
      "[CV 1/5] END criterion=entropy, max_depth=None, min_samples_leaf=1, min_samples_split=5;, score=0.958 total time=   0.0s\n",
      "[CV 2/5] END criterion=entropy, max_depth=None, min_samples_leaf=1, min_samples_split=5;, score=1.000 total time=   0.0s\n",
      "[CV 3/5] END criterion=entropy, max_depth=None, min_samples_leaf=1, min_samples_split=5;, score=0.833 total time=   0.0s\n",
      "[CV 4/5] END criterion=entropy, max_depth=None, min_samples_leaf=1, min_samples_split=5;, score=0.917 total time=   0.0s\n",
      "[CV 5/5] END criterion=entropy, max_depth=None, min_samples_leaf=1, min_samples_split=5;, score=0.917 total time=   0.0s\n",
      "[CV 1/5] END criterion=entropy, max_depth=None, min_samples_leaf=1, min_samples_split=10;, score=0.958 total time=   0.0s\n",
      "[CV 2/5] END criterion=entropy, max_depth=None, min_samples_leaf=1, min_samples_split=10;, score=1.000 total time=   0.0s\n",
      "[CV 3/5] END criterion=entropy, max_depth=None, min_samples_leaf=1, min_samples_split=10;, score=0.833 total time=   0.0s\n",
      "[CV 4/5] END criterion=entropy, max_depth=None, min_samples_leaf=1, min_samples_split=10;, score=0.958 total time=   0.0s\n",
      "[CV 5/5] END criterion=entropy, max_depth=None, min_samples_leaf=1, min_samples_split=10;, score=0.917 total time=   0.0s\n",
      "[CV 1/5] END criterion=entropy, max_depth=None, min_samples_leaf=2, min_samples_split=2;, score=0.958 total time=   0.0s\n",
      "[CV 2/5] END criterion=entropy, max_depth=None, min_samples_leaf=2, min_samples_split=2;, score=0.917 total time=   0.0s\n",
      "[CV 3/5] END criterion=entropy, max_depth=None, min_samples_leaf=2, min_samples_split=2;, score=0.833 total time=   0.0s\n",
      "[CV 4/5] END criterion=entropy, max_depth=None, min_samples_leaf=2, min_samples_split=2;, score=0.917 total time=   0.0s\n",
      "[CV 5/5] END criterion=entropy, max_depth=None, min_samples_leaf=2, min_samples_split=2;, score=0.875 total time=   0.0s\n",
      "[CV 1/5] END criterion=entropy, max_depth=None, min_samples_leaf=2, min_samples_split=5;, score=0.958 total time=   0.0s\n",
      "[CV 2/5] END criterion=entropy, max_depth=None, min_samples_leaf=2, min_samples_split=5;, score=1.000 total time=   0.0s\n",
      "[CV 3/5] END criterion=entropy, max_depth=None, min_samples_leaf=2, min_samples_split=5;, score=0.833 total time=   0.0s\n",
      "[CV 4/5] END criterion=entropy, max_depth=None, min_samples_leaf=2, min_samples_split=5;, score=0.917 total time=   0.0s\n",
      "[CV 5/5] END criterion=entropy, max_depth=None, min_samples_leaf=2, min_samples_split=5;, score=0.917 total time=   0.0s\n",
      "[CV 1/5] END criterion=entropy, max_depth=None, min_samples_leaf=2, min_samples_split=10;, score=0.958 total time=   0.0s\n",
      "[CV 2/5] END criterion=entropy, max_depth=None, min_samples_leaf=2, min_samples_split=10;, score=1.000 total time=   0.0s\n",
      "[CV 3/5] END criterion=entropy, max_depth=None, min_samples_leaf=2, min_samples_split=10;, score=0.833 total time=   0.0s\n",
      "[CV 4/5] END criterion=entropy, max_depth=None, min_samples_leaf=2, min_samples_split=10;, score=0.958 total time=   0.0s\n",
      "[CV 5/5] END criterion=entropy, max_depth=None, min_samples_leaf=2, min_samples_split=10;, score=0.917 total time=   0.0s\n",
      "[CV 1/5] END criterion=entropy, max_depth=None, min_samples_leaf=4, min_samples_split=2;, score=1.000 total time=   0.0s\n",
      "[CV 2/5] END criterion=entropy, max_depth=None, min_samples_leaf=4, min_samples_split=2;, score=1.000 total time=   0.0s\n",
      "[CV 3/5] END criterion=entropy, max_depth=None, min_samples_leaf=4, min_samples_split=2;, score=0.833 total time=   0.0s\n",
      "[CV 4/5] END criterion=entropy, max_depth=None, min_samples_leaf=4, min_samples_split=2;, score=1.000 total time=   0.0s\n",
      "[CV 5/5] END criterion=entropy, max_depth=None, min_samples_leaf=4, min_samples_split=2;, score=0.958 total time=   0.0s\n",
      "[CV 1/5] END criterion=entropy, max_depth=None, min_samples_leaf=4, min_samples_split=5;, score=1.000 total time=   0.0s\n",
      "[CV 2/5] END criterion=entropy, max_depth=None, min_samples_leaf=4, min_samples_split=5;, score=1.000 total time=   0.0s\n",
      "[CV 3/5] END criterion=entropy, max_depth=None, min_samples_leaf=4, min_samples_split=5;, score=0.833 total time=   0.0s\n",
      "[CV 4/5] END criterion=entropy, max_depth=None, min_samples_leaf=4, min_samples_split=5;, score=1.000 total time=   0.0s\n",
      "[CV 5/5] END criterion=entropy, max_depth=None, min_samples_leaf=4, min_samples_split=5;, score=0.958 total time=   0.0s\n",
      "[CV 1/5] END criterion=entropy, max_depth=None, min_samples_leaf=4, min_samples_split=10;, score=1.000 total time=   0.0s\n",
      "[CV 2/5] END criterion=entropy, max_depth=None, min_samples_leaf=4, min_samples_split=10;, score=1.000 total time=   0.0s\n",
      "[CV 3/5] END criterion=entropy, max_depth=None, min_samples_leaf=4, min_samples_split=10;, score=0.833 total time=   0.0s\n",
      "[CV 4/5] END criterion=entropy, max_depth=None, min_samples_leaf=4, min_samples_split=10;, score=1.000 total time=   0.0s\n",
      "[CV 5/5] END criterion=entropy, max_depth=None, min_samples_leaf=4, min_samples_split=10;, score=0.917 total time=   0.0s\n",
      "Best parameters: {'criterion': 'entropy', 'max_depth': 5, 'min_samples_leaf': 4, 'min_samples_split': 2}\n",
      "Best cross-validation score: 0.9583333333333334\n"
     ]
    }
   ],
   "source": [
    "# Hyperparameter tuning\n",
    "param_grid = {\n",
    "    'criterion': ['gini', 'entropy'],\n",
    "    'max_depth': [3, 5, 7, None],\n",
    "    'min_samples_split': [2, 5, 10],\n",
    "    'min_samples_leaf': [1, 2, 4]\n",
    "}\n",
    "\n",
    "from sklearn.model_selection import GridSearchCV\n",
    "\n",
    "\n",
    "grid_search = GridSearchCV(estimator=DecisionTreeClassifier(), param_grid=param_grid, cv=5, verbose = 5)\n",
    "grid_search.fit(X_train, y_train)\n",
    "\n",
    "print(\"Best parameters:\", grid_search.best_params_)\n",
    "print(\"Best cross-validation score:\", grid_search.best_score_)\n"
   ]
  },
  {
   "cell_type": "code",
   "execution_count": 7,
   "id": "922bd68d",
   "metadata": {},
   "outputs": [
    {
     "name": "stdout",
     "output_type": "stream",
     "text": [
      "Accuracy with best parameters: 1.0\n"
     ]
    }
   ],
   "source": [
    "import matplotlib.pyplot as plt\n",
    "from sklearn.tree import plot_tree\n",
    "from sklearn.model_selection import GridSearchCV\n",
    "\n",
    "\n",
    "\n",
    "\n",
    "# Evaluate the model with best parameters\n",
    "best_clf = grid_search.best_estimator_\n",
    "best_clf.fit(X_train, y_train)\n",
    "y_pred_best = best_clf.predict(X_test)\n",
    "accuracy_best = accuracy_score(y_test, y_pred_best)\n",
    "print(\"Accuracy with best parameters:\", accuracy_best)\n"
   ]
  },
  {
   "cell_type": "code",
   "execution_count": 9,
   "id": "5dac4597",
   "metadata": {},
   "outputs": [
    {
     "name": "stdout",
     "output_type": "stream",
     "text": [
      "Predicted class: virginica\n"
     ]
    },
    {
     "name": "stderr",
     "output_type": "stream",
     "text": [
      "C:\\Users\\Lenovo\\anaconda3\\Lib\\site-packages\\sklearn\\base.py:464: UserWarning: X does not have valid feature names, but DecisionTreeClassifier was fitted with feature names\n",
      "  warnings.warn(\n"
     ]
    }
   ],
   "source": [
    "import numpy as np\n",
    "\n",
    "# Generate a random point for prediction\n",
    "random_point = np.array([[6.0, 3.0, 4.8, 1.8]])  # Example random point with features (sepal length, sepal width, petal length, petal width)\n",
    "\n",
    "# Predict the class of the random point\n",
    "predicted_class = clf.predict(random_point)\n",
    "\n",
    "print(\"Predicted class:\", iris.target_names[predicted_class][0])\n"
   ]
  },
  {
   "cell_type": "code",
   "execution_count": 10,
   "id": "ff592f12",
   "metadata": {},
   "outputs": [],
   "source": [
    "import pandas as pd\n",
    "import numpy as np\n",
    "from sklearn.datasets import load_iris\n",
    "from sklearn.model_selection import train_test_split\n",
    "from sklearn.metrics import accuracy_score"
   ]
  },
  {
   "cell_type": "code",
   "execution_count": 11,
   "id": "a2631238",
   "metadata": {},
   "outputs": [],
   "source": [
    "iris = load_iris()"
   ]
  },
  {
   "cell_type": "code",
   "execution_count": 12,
   "id": "28e4891a",
   "metadata": {},
   "outputs": [],
   "source": [
    "x = pd.DataFrame(iris.data, columns = iris.feature_names)"
   ]
  },
  {
   "cell_type": "code",
   "execution_count": 13,
   "id": "2848b0c9",
   "metadata": {},
   "outputs": [],
   "source": [
    "y = iris.target"
   ]
  },
  {
   "cell_type": "code",
   "execution_count": 14,
   "id": "8986dfed",
   "metadata": {},
   "outputs": [
    {
     "data": {
      "text/plain": [
       "(150, 4)"
      ]
     },
     "execution_count": 14,
     "metadata": {},
     "output_type": "execute_result"
    }
   ],
   "source": [
    "x.shape"
   ]
  },
  {
   "cell_type": "code",
   "execution_count": 15,
   "id": "fba26c6b",
   "metadata": {},
   "outputs": [
    {
     "data": {
      "text/plain": [
       "(150,)"
      ]
     },
     "execution_count": 15,
     "metadata": {},
     "output_type": "execute_result"
    }
   ],
   "source": [
    "y.shape"
   ]
  },
  {
   "cell_type": "code",
   "execution_count": 16,
   "id": "746470ba",
   "metadata": {},
   "outputs": [],
   "source": [
    "x_train, x_test, y_train, y_test = train_test_split(x, y, test_size=0.2, random_state=23)"
   ]
  },
  {
   "cell_type": "code",
   "execution_count": 17,
   "id": "401b7d5d",
   "metadata": {},
   "outputs": [
    {
     "name": "stdout",
     "output_type": "stream",
     "text": [
      "(120, 4) (30, 4) (120,) (30,)\n"
     ]
    }
   ],
   "source": [
    "print(x_train.shape, x_test.shape, y_train.shape, y_test.shape)"
   ]
  },
  {
   "cell_type": "code",
   "execution_count": 18,
   "id": "cfadc3c3",
   "metadata": {},
   "outputs": [],
   "source": [
    "from sklearn.tree import DecisionTreeClassifier"
   ]
  },
  {
   "cell_type": "code",
   "execution_count": 19,
   "id": "ae1efd28",
   "metadata": {},
   "outputs": [
    {
     "data": {
      "text/html": [
       "<style>#sk-container-id-2 {color: black;}#sk-container-id-2 pre{padding: 0;}#sk-container-id-2 div.sk-toggleable {background-color: white;}#sk-container-id-2 label.sk-toggleable__label {cursor: pointer;display: block;width: 100%;margin-bottom: 0;padding: 0.3em;box-sizing: border-box;text-align: center;}#sk-container-id-2 label.sk-toggleable__label-arrow:before {content: \"▸\";float: left;margin-right: 0.25em;color: #696969;}#sk-container-id-2 label.sk-toggleable__label-arrow:hover:before {color: black;}#sk-container-id-2 div.sk-estimator:hover label.sk-toggleable__label-arrow:before {color: black;}#sk-container-id-2 div.sk-toggleable__content {max-height: 0;max-width: 0;overflow: hidden;text-align: left;background-color: #f0f8ff;}#sk-container-id-2 div.sk-toggleable__content pre {margin: 0.2em;color: black;border-radius: 0.25em;background-color: #f0f8ff;}#sk-container-id-2 input.sk-toggleable__control:checked~div.sk-toggleable__content {max-height: 200px;max-width: 100%;overflow: auto;}#sk-container-id-2 input.sk-toggleable__control:checked~label.sk-toggleable__label-arrow:before {content: \"▾\";}#sk-container-id-2 div.sk-estimator input.sk-toggleable__control:checked~label.sk-toggleable__label {background-color: #d4ebff;}#sk-container-id-2 div.sk-label input.sk-toggleable__control:checked~label.sk-toggleable__label {background-color: #d4ebff;}#sk-container-id-2 input.sk-hidden--visually {border: 0;clip: rect(1px 1px 1px 1px);clip: rect(1px, 1px, 1px, 1px);height: 1px;margin: -1px;overflow: hidden;padding: 0;position: absolute;width: 1px;}#sk-container-id-2 div.sk-estimator {font-family: monospace;background-color: #f0f8ff;border: 1px dotted black;border-radius: 0.25em;box-sizing: border-box;margin-bottom: 0.5em;}#sk-container-id-2 div.sk-estimator:hover {background-color: #d4ebff;}#sk-container-id-2 div.sk-parallel-item::after {content: \"\";width: 100%;border-bottom: 1px solid gray;flex-grow: 1;}#sk-container-id-2 div.sk-label:hover label.sk-toggleable__label {background-color: #d4ebff;}#sk-container-id-2 div.sk-serial::before {content: \"\";position: absolute;border-left: 1px solid gray;box-sizing: border-box;top: 0;bottom: 0;left: 50%;z-index: 0;}#sk-container-id-2 div.sk-serial {display: flex;flex-direction: column;align-items: center;background-color: white;padding-right: 0.2em;padding-left: 0.2em;position: relative;}#sk-container-id-2 div.sk-item {position: relative;z-index: 1;}#sk-container-id-2 div.sk-parallel {display: flex;align-items: stretch;justify-content: center;background-color: white;position: relative;}#sk-container-id-2 div.sk-item::before, #sk-container-id-2 div.sk-parallel-item::before {content: \"\";position: absolute;border-left: 1px solid gray;box-sizing: border-box;top: 0;bottom: 0;left: 50%;z-index: -1;}#sk-container-id-2 div.sk-parallel-item {display: flex;flex-direction: column;z-index: 1;position: relative;background-color: white;}#sk-container-id-2 div.sk-parallel-item:first-child::after {align-self: flex-end;width: 50%;}#sk-container-id-2 div.sk-parallel-item:last-child::after {align-self: flex-start;width: 50%;}#sk-container-id-2 div.sk-parallel-item:only-child::after {width: 0;}#sk-container-id-2 div.sk-dashed-wrapped {border: 1px dashed gray;margin: 0 0.4em 0.5em 0.4em;box-sizing: border-box;padding-bottom: 0.4em;background-color: white;}#sk-container-id-2 div.sk-label label {font-family: monospace;font-weight: bold;display: inline-block;line-height: 1.2em;}#sk-container-id-2 div.sk-label-container {text-align: center;}#sk-container-id-2 div.sk-container {/* jupyter's `normalize.less` sets `[hidden] { display: none; }` but bootstrap.min.css set `[hidden] { display: none !important; }` so we also need the `!important` here to be able to override the default hidden behavior on the sphinx rendered scikit-learn.org. See: https://github.com/scikit-learn/scikit-learn/issues/21755 */display: inline-block !important;position: relative;}#sk-container-id-2 div.sk-text-repr-fallback {display: none;}</style><div id=\"sk-container-id-2\" class=\"sk-top-container\"><div class=\"sk-text-repr-fallback\"><pre>DecisionTreeClassifier()</pre><b>In a Jupyter environment, please rerun this cell to show the HTML representation or trust the notebook. <br />On GitHub, the HTML representation is unable to render, please try loading this page with nbviewer.org.</b></div><div class=\"sk-container\" hidden><div class=\"sk-item\"><div class=\"sk-estimator sk-toggleable\"><input class=\"sk-toggleable__control sk-hidden--visually\" id=\"sk-estimator-id-2\" type=\"checkbox\" checked><label for=\"sk-estimator-id-2\" class=\"sk-toggleable__label sk-toggleable__label-arrow\">DecisionTreeClassifier</label><div class=\"sk-toggleable__content\"><pre>DecisionTreeClassifier()</pre></div></div></div></div></div>"
      ],
      "text/plain": [
       "DecisionTreeClassifier()"
      ]
     },
     "execution_count": 19,
     "metadata": {},
     "output_type": "execute_result"
    }
   ],
   "source": [
    "clf = DecisionTreeClassifier()\n",
    "clf"
   ]
  },
  {
   "cell_type": "code",
   "execution_count": 20,
   "id": "5916dbfa",
   "metadata": {},
   "outputs": [
    {
     "data": {
      "text/html": [
       "<style>#sk-container-id-3 {color: black;}#sk-container-id-3 pre{padding: 0;}#sk-container-id-3 div.sk-toggleable {background-color: white;}#sk-container-id-3 label.sk-toggleable__label {cursor: pointer;display: block;width: 100%;margin-bottom: 0;padding: 0.3em;box-sizing: border-box;text-align: center;}#sk-container-id-3 label.sk-toggleable__label-arrow:before {content: \"▸\";float: left;margin-right: 0.25em;color: #696969;}#sk-container-id-3 label.sk-toggleable__label-arrow:hover:before {color: black;}#sk-container-id-3 div.sk-estimator:hover label.sk-toggleable__label-arrow:before {color: black;}#sk-container-id-3 div.sk-toggleable__content {max-height: 0;max-width: 0;overflow: hidden;text-align: left;background-color: #f0f8ff;}#sk-container-id-3 div.sk-toggleable__content pre {margin: 0.2em;color: black;border-radius: 0.25em;background-color: #f0f8ff;}#sk-container-id-3 input.sk-toggleable__control:checked~div.sk-toggleable__content {max-height: 200px;max-width: 100%;overflow: auto;}#sk-container-id-3 input.sk-toggleable__control:checked~label.sk-toggleable__label-arrow:before {content: \"▾\";}#sk-container-id-3 div.sk-estimator input.sk-toggleable__control:checked~label.sk-toggleable__label {background-color: #d4ebff;}#sk-container-id-3 div.sk-label input.sk-toggleable__control:checked~label.sk-toggleable__label {background-color: #d4ebff;}#sk-container-id-3 input.sk-hidden--visually {border: 0;clip: rect(1px 1px 1px 1px);clip: rect(1px, 1px, 1px, 1px);height: 1px;margin: -1px;overflow: hidden;padding: 0;position: absolute;width: 1px;}#sk-container-id-3 div.sk-estimator {font-family: monospace;background-color: #f0f8ff;border: 1px dotted black;border-radius: 0.25em;box-sizing: border-box;margin-bottom: 0.5em;}#sk-container-id-3 div.sk-estimator:hover {background-color: #d4ebff;}#sk-container-id-3 div.sk-parallel-item::after {content: \"\";width: 100%;border-bottom: 1px solid gray;flex-grow: 1;}#sk-container-id-3 div.sk-label:hover label.sk-toggleable__label {background-color: #d4ebff;}#sk-container-id-3 div.sk-serial::before {content: \"\";position: absolute;border-left: 1px solid gray;box-sizing: border-box;top: 0;bottom: 0;left: 50%;z-index: 0;}#sk-container-id-3 div.sk-serial {display: flex;flex-direction: column;align-items: center;background-color: white;padding-right: 0.2em;padding-left: 0.2em;position: relative;}#sk-container-id-3 div.sk-item {position: relative;z-index: 1;}#sk-container-id-3 div.sk-parallel {display: flex;align-items: stretch;justify-content: center;background-color: white;position: relative;}#sk-container-id-3 div.sk-item::before, #sk-container-id-3 div.sk-parallel-item::before {content: \"\";position: absolute;border-left: 1px solid gray;box-sizing: border-box;top: 0;bottom: 0;left: 50%;z-index: -1;}#sk-container-id-3 div.sk-parallel-item {display: flex;flex-direction: column;z-index: 1;position: relative;background-color: white;}#sk-container-id-3 div.sk-parallel-item:first-child::after {align-self: flex-end;width: 50%;}#sk-container-id-3 div.sk-parallel-item:last-child::after {align-self: flex-start;width: 50%;}#sk-container-id-3 div.sk-parallel-item:only-child::after {width: 0;}#sk-container-id-3 div.sk-dashed-wrapped {border: 1px dashed gray;margin: 0 0.4em 0.5em 0.4em;box-sizing: border-box;padding-bottom: 0.4em;background-color: white;}#sk-container-id-3 div.sk-label label {font-family: monospace;font-weight: bold;display: inline-block;line-height: 1.2em;}#sk-container-id-3 div.sk-label-container {text-align: center;}#sk-container-id-3 div.sk-container {/* jupyter's `normalize.less` sets `[hidden] { display: none; }` but bootstrap.min.css set `[hidden] { display: none !important; }` so we also need the `!important` here to be able to override the default hidden behavior on the sphinx rendered scikit-learn.org. See: https://github.com/scikit-learn/scikit-learn/issues/21755 */display: inline-block !important;position: relative;}#sk-container-id-3 div.sk-text-repr-fallback {display: none;}</style><div id=\"sk-container-id-3\" class=\"sk-top-container\"><div class=\"sk-text-repr-fallback\"><pre>DecisionTreeClassifier()</pre><b>In a Jupyter environment, please rerun this cell to show the HTML representation or trust the notebook. <br />On GitHub, the HTML representation is unable to render, please try loading this page with nbviewer.org.</b></div><div class=\"sk-container\" hidden><div class=\"sk-item\"><div class=\"sk-estimator sk-toggleable\"><input class=\"sk-toggleable__control sk-hidden--visually\" id=\"sk-estimator-id-3\" type=\"checkbox\" checked><label for=\"sk-estimator-id-3\" class=\"sk-toggleable__label sk-toggleable__label-arrow\">DecisionTreeClassifier</label><div class=\"sk-toggleable__content\"><pre>DecisionTreeClassifier()</pre></div></div></div></div></div>"
      ],
      "text/plain": [
       "DecisionTreeClassifier()"
      ]
     },
     "execution_count": 20,
     "metadata": {},
     "output_type": "execute_result"
    }
   ],
   "source": [
    "clf.fit(x_train, y_train)"
   ]
  },
  {
   "cell_type": "code",
   "execution_count": 21,
   "id": "458e5865",
   "metadata": {},
   "outputs": [],
   "source": [
    "y_pred = clf.predict(x_test)"
   ]
  },
  {
   "cell_type": "code",
   "execution_count": 22,
   "id": "876de4ab",
   "metadata": {},
   "outputs": [
    {
     "data": {
      "text/plain": [
       "array([2, 2, 1, 0, 2, 1, 0, 2, 0, 1, 1, 0, 2, 0, 0, 2, 1, 1, 2, 0, 2, 0,\n",
       "       0, 0, 2, 0, 0, 2, 1, 1])"
      ]
     },
     "execution_count": 22,
     "metadata": {},
     "output_type": "execute_result"
    }
   ],
   "source": [
    "y_test"
   ]
  },
  {
   "cell_type": "code",
   "execution_count": 23,
   "id": "b5ad96fc",
   "metadata": {},
   "outputs": [
    {
     "data": {
      "text/plain": [
       "array([2, 2, 1, 0, 2, 1, 0, 2, 0, 1, 1, 0, 2, 0, 0, 2, 1, 1, 2, 0, 2, 0,\n",
       "       0, 0, 2, 0, 0, 2, 1, 1])"
      ]
     },
     "execution_count": 23,
     "metadata": {},
     "output_type": "execute_result"
    }
   ],
   "source": [
    "y_pred"
   ]
  },
  {
   "cell_type": "code",
   "execution_count": 24,
   "id": "b3bc2c68",
   "metadata": {},
   "outputs": [
    {
     "name": "stdout",
     "output_type": "stream",
     "text": [
      "2 2\n",
      "2 2\n",
      "1 1\n",
      "0 0\n",
      "2 2\n",
      "1 1\n",
      "0 0\n",
      "2 2\n",
      "0 0\n",
      "1 1\n",
      "1 1\n",
      "0 0\n",
      "2 2\n",
      "0 0\n",
      "0 0\n",
      "2 2\n",
      "1 1\n",
      "1 1\n",
      "2 2\n",
      "0 0\n",
      "2 2\n",
      "0 0\n",
      "0 0\n",
      "0 0\n",
      "2 2\n",
      "0 0\n",
      "0 0\n",
      "2 2\n",
      "1 1\n",
      "1 1\n"
     ]
    }
   ],
   "source": [
    "for i in range(len(y_pred)):\n",
    "    print(y_test[i], y_pred[i])"
   ]
  },
  {
   "cell_type": "code",
   "execution_count": 25,
   "id": "a3a6bfe3",
   "metadata": {},
   "outputs": [
    {
     "name": "stdout",
     "output_type": "stream",
     "text": [
      "Accuracy of the model = 1.0\n"
     ]
    }
   ],
   "source": [
    "print(f\"Accuracy of the model = {accuracy_score(y_test, y_pred)}\")"
   ]
  },
  {
   "cell_type": "code",
   "execution_count": null,
   "id": "19e2b874",
   "metadata": {},
   "outputs": [],
   "source": [
    "DecisionTreeClassifier?`"
   ]
  },
  {
   "cell_type": "code",
   "execution_count": 48,
   "id": "198baf80",
   "metadata": {},
   "outputs": [],
   "source": [
    "import pandas as pd\n",
    "import numpy as np\n",
    "import matplotlib.pyplot as plt\n",
    "from sklearn.datasets import load_iris\n",
    "from sklearn.model_selection import train_test_split, GridSearchCV, cross_val_score\n",
    "from sklearn.metrics import classification_report, f1_score, accuracy_score"
   ]
  },
  {
   "cell_type": "code",
   "execution_count": 49,
   "id": "609f1561",
   "metadata": {},
   "outputs": [],
   "source": [
    "load = load_iris()"
   ]
  },
  {
   "cell_type": "code",
   "execution_count": 50,
   "id": "334aa335",
   "metadata": {},
   "outputs": [
    {
     "data": {
      "text/plain": [
       "dict_keys(['data', 'target', 'frame', 'target_names', 'DESCR', 'feature_names', 'filename', 'data_module'])"
      ]
     },
     "execution_count": 50,
     "metadata": {},
     "output_type": "execute_result"
    }
   ],
   "source": [
    "load.keys()"
   ]
  },
  {
   "cell_type": "code",
   "execution_count": 51,
   "id": "6db4a4d3",
   "metadata": {},
   "outputs": [],
   "source": [
    "x = pd.DataFrame(load.data, columns = load.feature_names)"
   ]
  },
  {
   "cell_type": "code",
   "execution_count": 52,
   "id": "529fe329",
   "metadata": {},
   "outputs": [
    {
     "data": {
      "text/html": [
       "<div>\n",
       "<style scoped>\n",
       "    .dataframe tbody tr th:only-of-type {\n",
       "        vertical-align: middle;\n",
       "    }\n",
       "\n",
       "    .dataframe tbody tr th {\n",
       "        vertical-align: top;\n",
       "    }\n",
       "\n",
       "    .dataframe thead th {\n",
       "        text-align: right;\n",
       "    }\n",
       "</style>\n",
       "<table border=\"1\" class=\"dataframe\">\n",
       "  <thead>\n",
       "    <tr style=\"text-align: right;\">\n",
       "      <th></th>\n",
       "      <th>sepal length (cm)</th>\n",
       "      <th>sepal width (cm)</th>\n",
       "      <th>petal length (cm)</th>\n",
       "      <th>petal width (cm)</th>\n",
       "    </tr>\n",
       "  </thead>\n",
       "  <tbody>\n",
       "    <tr>\n",
       "      <th>0</th>\n",
       "      <td>5.1</td>\n",
       "      <td>3.5</td>\n",
       "      <td>1.4</td>\n",
       "      <td>0.2</td>\n",
       "    </tr>\n",
       "    <tr>\n",
       "      <th>1</th>\n",
       "      <td>4.9</td>\n",
       "      <td>3.0</td>\n",
       "      <td>1.4</td>\n",
       "      <td>0.2</td>\n",
       "    </tr>\n",
       "    <tr>\n",
       "      <th>2</th>\n",
       "      <td>4.7</td>\n",
       "      <td>3.2</td>\n",
       "      <td>1.3</td>\n",
       "      <td>0.2</td>\n",
       "    </tr>\n",
       "    <tr>\n",
       "      <th>3</th>\n",
       "      <td>4.6</td>\n",
       "      <td>3.1</td>\n",
       "      <td>1.5</td>\n",
       "      <td>0.2</td>\n",
       "    </tr>\n",
       "    <tr>\n",
       "      <th>4</th>\n",
       "      <td>5.0</td>\n",
       "      <td>3.6</td>\n",
       "      <td>1.4</td>\n",
       "      <td>0.2</td>\n",
       "    </tr>\n",
       "  </tbody>\n",
       "</table>\n",
       "</div>"
      ],
      "text/plain": [
       "   sepal length (cm)  sepal width (cm)  petal length (cm)  petal width (cm)\n",
       "0                5.1               3.5                1.4               0.2\n",
       "1                4.9               3.0                1.4               0.2\n",
       "2                4.7               3.2                1.3               0.2\n",
       "3                4.6               3.1                1.5               0.2\n",
       "4                5.0               3.6                1.4               0.2"
      ]
     },
     "execution_count": 52,
     "metadata": {},
     "output_type": "execute_result"
    }
   ],
   "source": [
    "x.head()"
   ]
  },
  {
   "cell_type": "code",
   "execution_count": 53,
   "id": "ad93ce90",
   "metadata": {},
   "outputs": [],
   "source": [
    "y = load.target"
   ]
  },
  {
   "cell_type": "code",
   "execution_count": 54,
   "id": "03ea6fbb",
   "metadata": {},
   "outputs": [
    {
     "data": {
      "text/plain": [
       "array([0, 0, 0, 0, 0])"
      ]
     },
     "execution_count": 54,
     "metadata": {},
     "output_type": "execute_result"
    }
   ],
   "source": [
    "y[:5]"
   ]
  },
  {
   "cell_type": "code",
   "execution_count": 55,
   "id": "0079d97f",
   "metadata": {},
   "outputs": [],
   "source": [
    "x_train, x_test, y_train, y_test = train_test_split(x, y, test_size=0.2, random_state=432)"
   ]
  },
  {
   "cell_type": "code",
   "execution_count": 56,
   "id": "c66e7ee1",
   "metadata": {},
   "outputs": [
    {
     "data": {
      "text/html": [
       "<style>#sk-container-id-7 {color: black;}#sk-container-id-7 pre{padding: 0;}#sk-container-id-7 div.sk-toggleable {background-color: white;}#sk-container-id-7 label.sk-toggleable__label {cursor: pointer;display: block;width: 100%;margin-bottom: 0;padding: 0.3em;box-sizing: border-box;text-align: center;}#sk-container-id-7 label.sk-toggleable__label-arrow:before {content: \"▸\";float: left;margin-right: 0.25em;color: #696969;}#sk-container-id-7 label.sk-toggleable__label-arrow:hover:before {color: black;}#sk-container-id-7 div.sk-estimator:hover label.sk-toggleable__label-arrow:before {color: black;}#sk-container-id-7 div.sk-toggleable__content {max-height: 0;max-width: 0;overflow: hidden;text-align: left;background-color: #f0f8ff;}#sk-container-id-7 div.sk-toggleable__content pre {margin: 0.2em;color: black;border-radius: 0.25em;background-color: #f0f8ff;}#sk-container-id-7 input.sk-toggleable__control:checked~div.sk-toggleable__content {max-height: 200px;max-width: 100%;overflow: auto;}#sk-container-id-7 input.sk-toggleable__control:checked~label.sk-toggleable__label-arrow:before {content: \"▾\";}#sk-container-id-7 div.sk-estimator input.sk-toggleable__control:checked~label.sk-toggleable__label {background-color: #d4ebff;}#sk-container-id-7 div.sk-label input.sk-toggleable__control:checked~label.sk-toggleable__label {background-color: #d4ebff;}#sk-container-id-7 input.sk-hidden--visually {border: 0;clip: rect(1px 1px 1px 1px);clip: rect(1px, 1px, 1px, 1px);height: 1px;margin: -1px;overflow: hidden;padding: 0;position: absolute;width: 1px;}#sk-container-id-7 div.sk-estimator {font-family: monospace;background-color: #f0f8ff;border: 1px dotted black;border-radius: 0.25em;box-sizing: border-box;margin-bottom: 0.5em;}#sk-container-id-7 div.sk-estimator:hover {background-color: #d4ebff;}#sk-container-id-7 div.sk-parallel-item::after {content: \"\";width: 100%;border-bottom: 1px solid gray;flex-grow: 1;}#sk-container-id-7 div.sk-label:hover label.sk-toggleable__label {background-color: #d4ebff;}#sk-container-id-7 div.sk-serial::before {content: \"\";position: absolute;border-left: 1px solid gray;box-sizing: border-box;top: 0;bottom: 0;left: 50%;z-index: 0;}#sk-container-id-7 div.sk-serial {display: flex;flex-direction: column;align-items: center;background-color: white;padding-right: 0.2em;padding-left: 0.2em;position: relative;}#sk-container-id-7 div.sk-item {position: relative;z-index: 1;}#sk-container-id-7 div.sk-parallel {display: flex;align-items: stretch;justify-content: center;background-color: white;position: relative;}#sk-container-id-7 div.sk-item::before, #sk-container-id-7 div.sk-parallel-item::before {content: \"\";position: absolute;border-left: 1px solid gray;box-sizing: border-box;top: 0;bottom: 0;left: 50%;z-index: -1;}#sk-container-id-7 div.sk-parallel-item {display: flex;flex-direction: column;z-index: 1;position: relative;background-color: white;}#sk-container-id-7 div.sk-parallel-item:first-child::after {align-self: flex-end;width: 50%;}#sk-container-id-7 div.sk-parallel-item:last-child::after {align-self: flex-start;width: 50%;}#sk-container-id-7 div.sk-parallel-item:only-child::after {width: 0;}#sk-container-id-7 div.sk-dashed-wrapped {border: 1px dashed gray;margin: 0 0.4em 0.5em 0.4em;box-sizing: border-box;padding-bottom: 0.4em;background-color: white;}#sk-container-id-7 div.sk-label label {font-family: monospace;font-weight: bold;display: inline-block;line-height: 1.2em;}#sk-container-id-7 div.sk-label-container {text-align: center;}#sk-container-id-7 div.sk-container {/* jupyter's `normalize.less` sets `[hidden] { display: none; }` but bootstrap.min.css set `[hidden] { display: none !important; }` so we also need the `!important` here to be able to override the default hidden behavior on the sphinx rendered scikit-learn.org. See: https://github.com/scikit-learn/scikit-learn/issues/21755 */display: inline-block !important;position: relative;}#sk-container-id-7 div.sk-text-repr-fallback {display: none;}</style><div id=\"sk-container-id-7\" class=\"sk-top-container\"><div class=\"sk-text-repr-fallback\"><pre>DecisionTreeClassifier()</pre><b>In a Jupyter environment, please rerun this cell to show the HTML representation or trust the notebook. <br />On GitHub, the HTML representation is unable to render, please try loading this page with nbviewer.org.</b></div><div class=\"sk-container\" hidden><div class=\"sk-item\"><div class=\"sk-estimator sk-toggleable\"><input class=\"sk-toggleable__control sk-hidden--visually\" id=\"sk-estimator-id-7\" type=\"checkbox\" checked><label for=\"sk-estimator-id-7\" class=\"sk-toggleable__label sk-toggleable__label-arrow\">DecisionTreeClassifier</label><div class=\"sk-toggleable__content\"><pre>DecisionTreeClassifier()</pre></div></div></div></div></div>"
      ],
      "text/plain": [
       "DecisionTreeClassifier()"
      ]
     },
     "execution_count": 56,
     "metadata": {},
     "output_type": "execute_result"
    }
   ],
   "source": [
    "from sklearn.tree import DecisionTreeClassifier\n",
    "model = DecisionTreeClassifier(criterion='gini', max)\n",
    "model"
   ]
  },
  {
   "cell_type": "code",
   "execution_count": 57,
   "id": "2c0915b6",
   "metadata": {},
   "outputs": [
    {
     "data": {
      "text/html": [
       "<style>#sk-container-id-8 {color: black;}#sk-container-id-8 pre{padding: 0;}#sk-container-id-8 div.sk-toggleable {background-color: white;}#sk-container-id-8 label.sk-toggleable__label {cursor: pointer;display: block;width: 100%;margin-bottom: 0;padding: 0.3em;box-sizing: border-box;text-align: center;}#sk-container-id-8 label.sk-toggleable__label-arrow:before {content: \"▸\";float: left;margin-right: 0.25em;color: #696969;}#sk-container-id-8 label.sk-toggleable__label-arrow:hover:before {color: black;}#sk-container-id-8 div.sk-estimator:hover label.sk-toggleable__label-arrow:before {color: black;}#sk-container-id-8 div.sk-toggleable__content {max-height: 0;max-width: 0;overflow: hidden;text-align: left;background-color: #f0f8ff;}#sk-container-id-8 div.sk-toggleable__content pre {margin: 0.2em;color: black;border-radius: 0.25em;background-color: #f0f8ff;}#sk-container-id-8 input.sk-toggleable__control:checked~div.sk-toggleable__content {max-height: 200px;max-width: 100%;overflow: auto;}#sk-container-id-8 input.sk-toggleable__control:checked~label.sk-toggleable__label-arrow:before {content: \"▾\";}#sk-container-id-8 div.sk-estimator input.sk-toggleable__control:checked~label.sk-toggleable__label {background-color: #d4ebff;}#sk-container-id-8 div.sk-label input.sk-toggleable__control:checked~label.sk-toggleable__label {background-color: #d4ebff;}#sk-container-id-8 input.sk-hidden--visually {border: 0;clip: rect(1px 1px 1px 1px);clip: rect(1px, 1px, 1px, 1px);height: 1px;margin: -1px;overflow: hidden;padding: 0;position: absolute;width: 1px;}#sk-container-id-8 div.sk-estimator {font-family: monospace;background-color: #f0f8ff;border: 1px dotted black;border-radius: 0.25em;box-sizing: border-box;margin-bottom: 0.5em;}#sk-container-id-8 div.sk-estimator:hover {background-color: #d4ebff;}#sk-container-id-8 div.sk-parallel-item::after {content: \"\";width: 100%;border-bottom: 1px solid gray;flex-grow: 1;}#sk-container-id-8 div.sk-label:hover label.sk-toggleable__label {background-color: #d4ebff;}#sk-container-id-8 div.sk-serial::before {content: \"\";position: absolute;border-left: 1px solid gray;box-sizing: border-box;top: 0;bottom: 0;left: 50%;z-index: 0;}#sk-container-id-8 div.sk-serial {display: flex;flex-direction: column;align-items: center;background-color: white;padding-right: 0.2em;padding-left: 0.2em;position: relative;}#sk-container-id-8 div.sk-item {position: relative;z-index: 1;}#sk-container-id-8 div.sk-parallel {display: flex;align-items: stretch;justify-content: center;background-color: white;position: relative;}#sk-container-id-8 div.sk-item::before, #sk-container-id-8 div.sk-parallel-item::before {content: \"\";position: absolute;border-left: 1px solid gray;box-sizing: border-box;top: 0;bottom: 0;left: 50%;z-index: -1;}#sk-container-id-8 div.sk-parallel-item {display: flex;flex-direction: column;z-index: 1;position: relative;background-color: white;}#sk-container-id-8 div.sk-parallel-item:first-child::after {align-self: flex-end;width: 50%;}#sk-container-id-8 div.sk-parallel-item:last-child::after {align-self: flex-start;width: 50%;}#sk-container-id-8 div.sk-parallel-item:only-child::after {width: 0;}#sk-container-id-8 div.sk-dashed-wrapped {border: 1px dashed gray;margin: 0 0.4em 0.5em 0.4em;box-sizing: border-box;padding-bottom: 0.4em;background-color: white;}#sk-container-id-8 div.sk-label label {font-family: monospace;font-weight: bold;display: inline-block;line-height: 1.2em;}#sk-container-id-8 div.sk-label-container {text-align: center;}#sk-container-id-8 div.sk-container {/* jupyter's `normalize.less` sets `[hidden] { display: none; }` but bootstrap.min.css set `[hidden] { display: none !important; }` so we also need the `!important` here to be able to override the default hidden behavior on the sphinx rendered scikit-learn.org. See: https://github.com/scikit-learn/scikit-learn/issues/21755 */display: inline-block !important;position: relative;}#sk-container-id-8 div.sk-text-repr-fallback {display: none;}</style><div id=\"sk-container-id-8\" class=\"sk-top-container\"><div class=\"sk-text-repr-fallback\"><pre>DecisionTreeClassifier()</pre><b>In a Jupyter environment, please rerun this cell to show the HTML representation or trust the notebook. <br />On GitHub, the HTML representation is unable to render, please try loading this page with nbviewer.org.</b></div><div class=\"sk-container\" hidden><div class=\"sk-item\"><div class=\"sk-estimator sk-toggleable\"><input class=\"sk-toggleable__control sk-hidden--visually\" id=\"sk-estimator-id-8\" type=\"checkbox\" checked><label for=\"sk-estimator-id-8\" class=\"sk-toggleable__label sk-toggleable__label-arrow\">DecisionTreeClassifier</label><div class=\"sk-toggleable__content\"><pre>DecisionTreeClassifier()</pre></div></div></div></div></div>"
      ],
      "text/plain": [
       "DecisionTreeClassifier()"
      ]
     },
     "execution_count": 57,
     "metadata": {},
     "output_type": "execute_result"
    }
   ],
   "source": [
    "model.fit(x_train, y_train)"
   ]
  },
  {
   "cell_type": "code",
   "execution_count": 58,
   "id": "7f8508bf",
   "metadata": {},
   "outputs": [],
   "source": [
    "pred_1 = model.predict(x_test)"
   ]
  },
  {
   "cell_type": "code",
   "execution_count": 59,
   "id": "2a1fcac5",
   "metadata": {},
   "outputs": [
    {
     "name": "stdout",
     "output_type": "stream",
     "text": [
      "0 0\n",
      "1 1\n",
      "1 1\n",
      "0 0\n",
      "0 0\n",
      "1 1\n",
      "0 0\n",
      "1 1\n",
      "1 1\n",
      "1 1\n",
      "0 0\n",
      "2 1\n",
      "2 2\n",
      "2 2\n",
      "0 0\n",
      "1 1\n",
      "1 1\n",
      "1 1\n",
      "1 1\n",
      "2 2\n",
      "0 0\n",
      "2 2\n",
      "2 2\n",
      "2 2\n",
      "1 1\n",
      "1 1\n",
      "0 0\n",
      "0 0\n",
      "1 1\n",
      "0 0\n"
     ]
    }
   ],
   "source": [
    "for i in range(len(y_test)):\n",
    "    print(y_test[i], pred_1[i])"
   ]
  },
  {
   "cell_type": "code",
   "execution_count": 60,
   "id": "dccfe55f",
   "metadata": {},
   "outputs": [
    {
     "data": {
      "text/plain": [
       "0.9666666666666667"
      ]
     },
     "execution_count": 60,
     "metadata": {},
     "output_type": "execute_result"
    }
   ],
   "source": [
    "accuracy_score(y_test, pred_1)"
   ]
  },
  {
   "cell_type": "code",
   "execution_count": 61,
   "id": "eeae78c4",
   "metadata": {},
   "outputs": [
    {
     "name": "stdout",
     "output_type": "stream",
     "text": [
      "              precision    recall  f1-score   support\n",
      "\n",
      "           0       1.00      1.00      1.00        10\n",
      "           1       0.93      1.00      0.96        13\n",
      "           2       1.00      0.86      0.92         7\n",
      "\n",
      "    accuracy                           0.97        30\n",
      "   macro avg       0.98      0.95      0.96        30\n",
      "weighted avg       0.97      0.97      0.97        30\n",
      "\n"
     ]
    }
   ],
   "source": [
    "print(classification_report(y_test, pred_1))"
   ]
  },
  {
   "cell_type": "code",
   "execution_count": 65,
   "id": "1b0e7dc1",
   "metadata": {},
   "outputs": [
    {
     "name": "stderr",
     "output_type": "stream",
     "text": [
      "C:\\Users\\Lenovo\\anaconda3\\Lib\\site-packages\\sklearn\\base.py:464: UserWarning: X does not have valid feature names, but DecisionTreeClassifier was fitted with feature names\n",
      "  warnings.warn(\n"
     ]
    },
    {
     "data": {
      "text/plain": [
       "array([0])"
      ]
     },
     "execution_count": 65,
     "metadata": {},
     "output_type": "execute_result"
    }
   ],
   "source": [
    "model.predict([x_test.iloc[0]])"
   ]
  },
  {
   "cell_type": "code",
   "execution_count": 66,
   "id": "e78590ec",
   "metadata": {},
   "outputs": [
    {
     "data": {
      "text/plain": [
       "0"
      ]
     },
     "execution_count": 66,
     "metadata": {},
     "output_type": "execute_result"
    }
   ],
   "source": [
    "y_test[0]"
   ]
  },
  {
   "cell_type": "code",
   "execution_count": 67,
   "id": "fec25ac3",
   "metadata": {},
   "outputs": [
    {
     "data": {
      "text/plain": [
       "'setosa'"
      ]
     },
     "execution_count": 67,
     "metadata": {},
     "output_type": "execute_result"
    }
   ],
   "source": [
    "load.target_names[0]"
   ]
  },
  {
   "cell_type": "markdown",
   "id": "78c9b9d7",
   "metadata": {},
   "source": [
    "# Hyperparameter Tuning"
   ]
  },
  {
   "cell_type": "code",
   "execution_count": 68,
   "id": "0d4594cc",
   "metadata": {},
   "outputs": [],
   "source": [
    "\n",
    "param_grid = {\n",
    "    'criterion': ['gini', 'entropy'],\n",
    "    'max_depth': [3, 5, 7, None],\n",
    "    'min_samples_split': [2, 5, 10],\n",
    "    'min_samples_leaf': [1, 2, 4]\n",
    "}\n"
   ]
  },
  {
   "cell_type": "code",
   "execution_count": 70,
   "id": "e9d6f75f",
   "metadata": {
    "collapsed": true
   },
   "outputs": [
    {
     "name": "stdout",
     "output_type": "stream",
     "text": [
      "Fitting 5 folds for each of 72 candidates, totalling 360 fits\n",
      "[CV 1/5] END criterion=gini, max_depth=3, min_samples_leaf=1, min_samples_split=2;, score=0.917 total time=   0.0s\n",
      "[CV 2/5] END criterion=gini, max_depth=3, min_samples_leaf=1, min_samples_split=2;, score=0.917 total time=   0.0s\n",
      "[CV 3/5] END criterion=gini, max_depth=3, min_samples_leaf=1, min_samples_split=2;, score=0.917 total time=   0.0s\n",
      "[CV 4/5] END criterion=gini, max_depth=3, min_samples_leaf=1, min_samples_split=2;, score=0.958 total time=   0.0s\n",
      "[CV 5/5] END criterion=gini, max_depth=3, min_samples_leaf=1, min_samples_split=2;, score=0.917 total time=   0.0s\n",
      "[CV 1/5] END criterion=gini, max_depth=3, min_samples_leaf=1, min_samples_split=5;, score=0.917 total time=   0.0s\n",
      "[CV 2/5] END criterion=gini, max_depth=3, min_samples_leaf=1, min_samples_split=5;, score=0.917 total time=   0.0s\n",
      "[CV 3/5] END criterion=gini, max_depth=3, min_samples_leaf=1, min_samples_split=5;, score=0.917 total time=   0.0s\n",
      "[CV 4/5] END criterion=gini, max_depth=3, min_samples_leaf=1, min_samples_split=5;, score=0.958 total time=   0.0s\n",
      "[CV 5/5] END criterion=gini, max_depth=3, min_samples_leaf=1, min_samples_split=5;, score=0.917 total time=   0.0s\n",
      "[CV 1/5] END criterion=gini, max_depth=3, min_samples_leaf=1, min_samples_split=10;, score=0.917 total time=   0.0s\n",
      "[CV 2/5] END criterion=gini, max_depth=3, min_samples_leaf=1, min_samples_split=10;, score=0.917 total time=   0.0s\n",
      "[CV 3/5] END criterion=gini, max_depth=3, min_samples_leaf=1, min_samples_split=10;, score=0.917 total time=   0.0s\n",
      "[CV 4/5] END criterion=gini, max_depth=3, min_samples_leaf=1, min_samples_split=10;, score=0.958 total time=   0.0s\n",
      "[CV 5/5] END criterion=gini, max_depth=3, min_samples_leaf=1, min_samples_split=10;, score=0.917 total time=   0.0s\n",
      "[CV 1/5] END criterion=gini, max_depth=3, min_samples_leaf=2, min_samples_split=2;, score=0.917 total time=   0.0s\n",
      "[CV 2/5] END criterion=gini, max_depth=3, min_samples_leaf=2, min_samples_split=2;, score=0.917 total time=   0.0s\n",
      "[CV 3/5] END criterion=gini, max_depth=3, min_samples_leaf=2, min_samples_split=2;, score=0.917 total time=   0.0s\n",
      "[CV 4/5] END criterion=gini, max_depth=3, min_samples_leaf=2, min_samples_split=2;, score=0.958 total time=   0.0s\n",
      "[CV 5/5] END criterion=gini, max_depth=3, min_samples_leaf=2, min_samples_split=2;, score=0.917 total time=   0.0s\n",
      "[CV 1/5] END criterion=gini, max_depth=3, min_samples_leaf=2, min_samples_split=5;, score=0.917 total time=   0.0s\n",
      "[CV 2/5] END criterion=gini, max_depth=3, min_samples_leaf=2, min_samples_split=5;, score=0.917 total time=   0.0s\n",
      "[CV 3/5] END criterion=gini, max_depth=3, min_samples_leaf=2, min_samples_split=5;, score=0.917 total time=   0.0s\n",
      "[CV 4/5] END criterion=gini, max_depth=3, min_samples_leaf=2, min_samples_split=5;, score=0.958 total time=   0.0s\n",
      "[CV 5/5] END criterion=gini, max_depth=3, min_samples_leaf=2, min_samples_split=5;, score=0.917 total time=   0.0s\n",
      "[CV 1/5] END criterion=gini, max_depth=3, min_samples_leaf=2, min_samples_split=10;, score=0.917 total time=   0.0s\n",
      "[CV 2/5] END criterion=gini, max_depth=3, min_samples_leaf=2, min_samples_split=10;, score=0.917 total time=   0.0s\n",
      "[CV 3/5] END criterion=gini, max_depth=3, min_samples_leaf=2, min_samples_split=10;, score=0.917 total time=   0.0s\n",
      "[CV 4/5] END criterion=gini, max_depth=3, min_samples_leaf=2, min_samples_split=10;, score=0.958 total time=   0.0s\n",
      "[CV 5/5] END criterion=gini, max_depth=3, min_samples_leaf=2, min_samples_split=10;, score=0.917 total time=   0.0s\n",
      "[CV 1/5] END criterion=gini, max_depth=3, min_samples_leaf=4, min_samples_split=2;, score=0.917 total time=   0.0s\n",
      "[CV 2/5] END criterion=gini, max_depth=3, min_samples_leaf=4, min_samples_split=2;, score=0.917 total time=   0.0s\n",
      "[CV 3/5] END criterion=gini, max_depth=3, min_samples_leaf=4, min_samples_split=2;, score=0.917 total time=   0.0s\n",
      "[CV 4/5] END criterion=gini, max_depth=3, min_samples_leaf=4, min_samples_split=2;, score=0.958 total time=   0.0s\n",
      "[CV 5/5] END criterion=gini, max_depth=3, min_samples_leaf=4, min_samples_split=2;, score=0.875 total time=   0.0s\n",
      "[CV 1/5] END criterion=gini, max_depth=3, min_samples_leaf=4, min_samples_split=5;, score=0.917 total time=   0.0s\n",
      "[CV 2/5] END criterion=gini, max_depth=3, min_samples_leaf=4, min_samples_split=5;, score=0.917 total time=   0.0s\n",
      "[CV 3/5] END criterion=gini, max_depth=3, min_samples_leaf=4, min_samples_split=5;, score=0.917 total time=   0.0s\n",
      "[CV 4/5] END criterion=gini, max_depth=3, min_samples_leaf=4, min_samples_split=5;, score=0.958 total time=   0.0s\n",
      "[CV 5/5] END criterion=gini, max_depth=3, min_samples_leaf=4, min_samples_split=5;, score=0.875 total time=   0.0s\n",
      "[CV 1/5] END criterion=gini, max_depth=3, min_samples_leaf=4, min_samples_split=10;, score=0.917 total time=   0.0s\n",
      "[CV 2/5] END criterion=gini, max_depth=3, min_samples_leaf=4, min_samples_split=10;, score=0.917 total time=   0.0s\n",
      "[CV 3/5] END criterion=gini, max_depth=3, min_samples_leaf=4, min_samples_split=10;, score=0.917 total time=   0.0s\n",
      "[CV 4/5] END criterion=gini, max_depth=3, min_samples_leaf=4, min_samples_split=10;, score=0.958 total time=   0.0s\n",
      "[CV 5/5] END criterion=gini, max_depth=3, min_samples_leaf=4, min_samples_split=10;, score=0.875 total time=   0.0s\n",
      "[CV 1/5] END criterion=gini, max_depth=5, min_samples_leaf=1, min_samples_split=2;, score=0.917 total time=   0.0s\n",
      "[CV 2/5] END criterion=gini, max_depth=5, min_samples_leaf=1, min_samples_split=2;, score=0.958 total time=   0.0s\n",
      "[CV 3/5] END criterion=gini, max_depth=5, min_samples_leaf=1, min_samples_split=2;, score=0.917 total time=   0.0s\n",
      "[CV 4/5] END criterion=gini, max_depth=5, min_samples_leaf=1, min_samples_split=2;, score=0.958 total time=   0.0s\n",
      "[CV 5/5] END criterion=gini, max_depth=5, min_samples_leaf=1, min_samples_split=2;, score=0.917 total time=   0.0s\n",
      "[CV 1/5] END criterion=gini, max_depth=5, min_samples_leaf=1, min_samples_split=5;, score=0.875 total time=   0.0s\n",
      "[CV 2/5] END criterion=gini, max_depth=5, min_samples_leaf=1, min_samples_split=5;, score=0.958 total time=   0.0s\n",
      "[CV 3/5] END criterion=gini, max_depth=5, min_samples_leaf=1, min_samples_split=5;, score=0.917 total time=   0.0s\n",
      "[CV 4/5] END criterion=gini, max_depth=5, min_samples_leaf=1, min_samples_split=5;, score=0.958 total time=   0.0s\n",
      "[CV 5/5] END criterion=gini, max_depth=5, min_samples_leaf=1, min_samples_split=5;, score=0.917 total time=   0.0s\n",
      "[CV 1/5] END criterion=gini, max_depth=5, min_samples_leaf=1, min_samples_split=10;, score=0.917 total time=   0.0s\n",
      "[CV 2/5] END criterion=gini, max_depth=5, min_samples_leaf=1, min_samples_split=10;, score=0.917 total time=   0.0s\n",
      "[CV 3/5] END criterion=gini, max_depth=5, min_samples_leaf=1, min_samples_split=10;, score=0.917 total time=   0.0s\n",
      "[CV 4/5] END criterion=gini, max_depth=5, min_samples_leaf=1, min_samples_split=10;, score=0.958 total time=   0.0s\n",
      "[CV 5/5] END criterion=gini, max_depth=5, min_samples_leaf=1, min_samples_split=10;, score=0.917 total time=   0.0s\n",
      "[CV 1/5] END criterion=gini, max_depth=5, min_samples_leaf=2, min_samples_split=2;, score=0.917 total time=   0.0s\n",
      "[CV 2/5] END criterion=gini, max_depth=5, min_samples_leaf=2, min_samples_split=2;, score=0.958 total time=   0.0s\n",
      "[CV 3/5] END criterion=gini, max_depth=5, min_samples_leaf=2, min_samples_split=2;, score=0.917 total time=   0.0s\n",
      "[CV 4/5] END criterion=gini, max_depth=5, min_samples_leaf=2, min_samples_split=2;, score=0.958 total time=   0.0s\n",
      "[CV 5/5] END criterion=gini, max_depth=5, min_samples_leaf=2, min_samples_split=2;, score=0.917 total time=   0.0s\n",
      "[CV 1/5] END criterion=gini, max_depth=5, min_samples_leaf=2, min_samples_split=5;, score=0.875 total time=   0.0s\n",
      "[CV 2/5] END criterion=gini, max_depth=5, min_samples_leaf=2, min_samples_split=5;, score=0.917 total time=   0.0s\n",
      "[CV 3/5] END criterion=gini, max_depth=5, min_samples_leaf=2, min_samples_split=5;, score=0.917 total time=   0.0s\n",
      "[CV 4/5] END criterion=gini, max_depth=5, min_samples_leaf=2, min_samples_split=5;, score=0.958 total time=   0.0s\n",
      "[CV 5/5] END criterion=gini, max_depth=5, min_samples_leaf=2, min_samples_split=5;, score=0.917 total time=   0.0s\n",
      "[CV 1/5] END criterion=gini, max_depth=5, min_samples_leaf=2, min_samples_split=10;, score=0.917 total time=   0.0s\n",
      "[CV 2/5] END criterion=gini, max_depth=5, min_samples_leaf=2, min_samples_split=10;, score=0.917 total time=   0.0s\n",
      "[CV 3/5] END criterion=gini, max_depth=5, min_samples_leaf=2, min_samples_split=10;, score=0.917 total time=   0.0s\n",
      "[CV 4/5] END criterion=gini, max_depth=5, min_samples_leaf=2, min_samples_split=10;, score=0.958 total time=   0.0s\n",
      "[CV 5/5] END criterion=gini, max_depth=5, min_samples_leaf=2, min_samples_split=10;, score=0.917 total time=   0.0s\n",
      "[CV 1/5] END criterion=gini, max_depth=5, min_samples_leaf=4, min_samples_split=2;, score=0.917 total time=   0.0s\n",
      "[CV 2/5] END criterion=gini, max_depth=5, min_samples_leaf=4, min_samples_split=2;, score=0.917 total time=   0.0s\n",
      "[CV 3/5] END criterion=gini, max_depth=5, min_samples_leaf=4, min_samples_split=2;, score=0.917 total time=   0.0s\n",
      "[CV 4/5] END criterion=gini, max_depth=5, min_samples_leaf=4, min_samples_split=2;, score=0.958 total time=   0.0s\n",
      "[CV 5/5] END criterion=gini, max_depth=5, min_samples_leaf=4, min_samples_split=2;, score=0.875 total time=   0.0s\n",
      "[CV 1/5] END criterion=gini, max_depth=5, min_samples_leaf=4, min_samples_split=5;, score=0.917 total time=   0.0s\n"
     ]
    },
    {
     "name": "stdout",
     "output_type": "stream",
     "text": [
      "[CV 2/5] END criterion=gini, max_depth=5, min_samples_leaf=4, min_samples_split=5;, score=0.917 total time=   0.0s\n",
      "[CV 3/5] END criterion=gini, max_depth=5, min_samples_leaf=4, min_samples_split=5;, score=0.917 total time=   0.0s\n",
      "[CV 4/5] END criterion=gini, max_depth=5, min_samples_leaf=4, min_samples_split=5;, score=0.958 total time=   0.0s\n",
      "[CV 5/5] END criterion=gini, max_depth=5, min_samples_leaf=4, min_samples_split=5;, score=0.875 total time=   0.0s\n",
      "[CV 1/5] END criterion=gini, max_depth=5, min_samples_leaf=4, min_samples_split=10;, score=0.917 total time=   0.0s\n",
      "[CV 2/5] END criterion=gini, max_depth=5, min_samples_leaf=4, min_samples_split=10;, score=0.917 total time=   0.0s\n",
      "[CV 3/5] END criterion=gini, max_depth=5, min_samples_leaf=4, min_samples_split=10;, score=0.917 total time=   0.0s\n",
      "[CV 4/5] END criterion=gini, max_depth=5, min_samples_leaf=4, min_samples_split=10;, score=0.958 total time=   0.0s\n",
      "[CV 5/5] END criterion=gini, max_depth=5, min_samples_leaf=4, min_samples_split=10;, score=0.875 total time=   0.0s\n",
      "[CV 1/5] END criterion=gini, max_depth=7, min_samples_leaf=1, min_samples_split=2;, score=0.917 total time=   0.0s\n",
      "[CV 2/5] END criterion=gini, max_depth=7, min_samples_leaf=1, min_samples_split=2;, score=0.958 total time=   0.0s\n",
      "[CV 3/5] END criterion=gini, max_depth=7, min_samples_leaf=1, min_samples_split=2;, score=0.917 total time=   0.0s\n",
      "[CV 4/5] END criterion=gini, max_depth=7, min_samples_leaf=1, min_samples_split=2;, score=0.958 total time=   0.0s\n",
      "[CV 5/5] END criterion=gini, max_depth=7, min_samples_leaf=1, min_samples_split=2;, score=0.917 total time=   0.0s\n",
      "[CV 1/5] END criterion=gini, max_depth=7, min_samples_leaf=1, min_samples_split=5;, score=0.875 total time=   0.0s\n",
      "[CV 2/5] END criterion=gini, max_depth=7, min_samples_leaf=1, min_samples_split=5;, score=0.917 total time=   0.0s\n",
      "[CV 3/5] END criterion=gini, max_depth=7, min_samples_leaf=1, min_samples_split=5;, score=0.917 total time=   0.0s\n",
      "[CV 4/5] END criterion=gini, max_depth=7, min_samples_leaf=1, min_samples_split=5;, score=0.958 total time=   0.0s\n",
      "[CV 5/5] END criterion=gini, max_depth=7, min_samples_leaf=1, min_samples_split=5;, score=0.917 total time=   0.0s\n",
      "[CV 1/5] END criterion=gini, max_depth=7, min_samples_leaf=1, min_samples_split=10;, score=0.917 total time=   0.0s\n",
      "[CV 2/5] END criterion=gini, max_depth=7, min_samples_leaf=1, min_samples_split=10;, score=0.917 total time=   0.0s\n",
      "[CV 3/5] END criterion=gini, max_depth=7, min_samples_leaf=1, min_samples_split=10;, score=0.917 total time=   0.0s\n",
      "[CV 4/5] END criterion=gini, max_depth=7, min_samples_leaf=1, min_samples_split=10;, score=0.958 total time=   0.0s\n",
      "[CV 5/5] END criterion=gini, max_depth=7, min_samples_leaf=1, min_samples_split=10;, score=0.917 total time=   0.0s\n",
      "[CV 1/5] END criterion=gini, max_depth=7, min_samples_leaf=2, min_samples_split=2;, score=0.917 total time=   0.0s\n",
      "[CV 2/5] END criterion=gini, max_depth=7, min_samples_leaf=2, min_samples_split=2;, score=0.917 total time=   0.0s\n",
      "[CV 3/5] END criterion=gini, max_depth=7, min_samples_leaf=2, min_samples_split=2;, score=0.917 total time=   0.0s\n",
      "[CV 4/5] END criterion=gini, max_depth=7, min_samples_leaf=2, min_samples_split=2;, score=0.958 total time=   0.0s\n",
      "[CV 5/5] END criterion=gini, max_depth=7, min_samples_leaf=2, min_samples_split=2;, score=0.917 total time=   0.0s\n",
      "[CV 1/5] END criterion=gini, max_depth=7, min_samples_leaf=2, min_samples_split=5;, score=0.875 total time=   0.0s\n",
      "[CV 2/5] END criterion=gini, max_depth=7, min_samples_leaf=2, min_samples_split=5;, score=0.917 total time=   0.0s\n",
      "[CV 3/5] END criterion=gini, max_depth=7, min_samples_leaf=2, min_samples_split=5;, score=0.917 total time=   0.0s\n",
      "[CV 4/5] END criterion=gini, max_depth=7, min_samples_leaf=2, min_samples_split=5;, score=0.958 total time=   0.0s\n",
      "[CV 5/5] END criterion=gini, max_depth=7, min_samples_leaf=2, min_samples_split=5;, score=0.917 total time=   0.0s\n",
      "[CV 1/5] END criterion=gini, max_depth=7, min_samples_leaf=2, min_samples_split=10;, score=0.917 total time=   0.0s\n",
      "[CV 2/5] END criterion=gini, max_depth=7, min_samples_leaf=2, min_samples_split=10;, score=0.917 total time=   0.0s\n",
      "[CV 3/5] END criterion=gini, max_depth=7, min_samples_leaf=2, min_samples_split=10;, score=0.917 total time=   0.0s\n",
      "[CV 4/5] END criterion=gini, max_depth=7, min_samples_leaf=2, min_samples_split=10;, score=0.958 total time=   0.0s\n",
      "[CV 5/5] END criterion=gini, max_depth=7, min_samples_leaf=2, min_samples_split=10;, score=0.917 total time=   0.0s\n",
      "[CV 1/5] END criterion=gini, max_depth=7, min_samples_leaf=4, min_samples_split=2;, score=0.917 total time=   0.0s\n",
      "[CV 2/5] END criterion=gini, max_depth=7, min_samples_leaf=4, min_samples_split=2;, score=0.917 total time=   0.0s\n",
      "[CV 3/5] END criterion=gini, max_depth=7, min_samples_leaf=4, min_samples_split=2;, score=0.917 total time=   0.0s\n",
      "[CV 4/5] END criterion=gini, max_depth=7, min_samples_leaf=4, min_samples_split=2;, score=0.958 total time=   0.0s\n",
      "[CV 5/5] END criterion=gini, max_depth=7, min_samples_leaf=4, min_samples_split=2;, score=0.875 total time=   0.0s\n",
      "[CV 1/5] END criterion=gini, max_depth=7, min_samples_leaf=4, min_samples_split=5;, score=0.917 total time=   0.0s\n",
      "[CV 2/5] END criterion=gini, max_depth=7, min_samples_leaf=4, min_samples_split=5;, score=0.917 total time=   0.0s\n",
      "[CV 3/5] END criterion=gini, max_depth=7, min_samples_leaf=4, min_samples_split=5;, score=0.917 total time=   0.0s\n",
      "[CV 4/5] END criterion=gini, max_depth=7, min_samples_leaf=4, min_samples_split=5;, score=0.958 total time=   0.0s\n",
      "[CV 5/5] END criterion=gini, max_depth=7, min_samples_leaf=4, min_samples_split=5;, score=0.875 total time=   0.0s\n",
      "[CV 1/5] END criterion=gini, max_depth=7, min_samples_leaf=4, min_samples_split=10;, score=0.917 total time=   0.0s\n",
      "[CV 2/5] END criterion=gini, max_depth=7, min_samples_leaf=4, min_samples_split=10;, score=0.917 total time=   0.0s\n",
      "[CV 3/5] END criterion=gini, max_depth=7, min_samples_leaf=4, min_samples_split=10;, score=0.917 total time=   0.0s\n",
      "[CV 4/5] END criterion=gini, max_depth=7, min_samples_leaf=4, min_samples_split=10;, score=0.958 total time=   0.0s\n",
      "[CV 5/5] END criterion=gini, max_depth=7, min_samples_leaf=4, min_samples_split=10;, score=0.875 total time=   0.0s\n",
      "[CV 1/5] END criterion=gini, max_depth=None, min_samples_leaf=1, min_samples_split=2;, score=0.917 total time=   0.0s\n",
      "[CV 2/5] END criterion=gini, max_depth=None, min_samples_leaf=1, min_samples_split=2;, score=0.917 total time=   0.0s\n",
      "[CV 3/5] END criterion=gini, max_depth=None, min_samples_leaf=1, min_samples_split=2;, score=0.917 total time=   0.0s\n",
      "[CV 4/5] END criterion=gini, max_depth=None, min_samples_leaf=1, min_samples_split=2;, score=0.958 total time=   0.0s\n",
      "[CV 5/5] END criterion=gini, max_depth=None, min_samples_leaf=1, min_samples_split=2;, score=0.917 total time=   0.0s\n",
      "[CV 1/5] END criterion=gini, max_depth=None, min_samples_leaf=1, min_samples_split=5;, score=0.875 total time=   0.0s\n",
      "[CV 2/5] END criterion=gini, max_depth=None, min_samples_leaf=1, min_samples_split=5;, score=0.917 total time=   0.0s\n",
      "[CV 3/5] END criterion=gini, max_depth=None, min_samples_leaf=1, min_samples_split=5;, score=0.917 total time=   0.0s\n",
      "[CV 4/5] END criterion=gini, max_depth=None, min_samples_leaf=1, min_samples_split=5;, score=0.958 total time=   0.0s\n",
      "[CV 5/5] END criterion=gini, max_depth=None, min_samples_leaf=1, min_samples_split=5;, score=0.917 total time=   0.0s\n",
      "[CV 1/5] END criterion=gini, max_depth=None, min_samples_leaf=1, min_samples_split=10;, score=0.917 total time=   0.0s\n",
      "[CV 2/5] END criterion=gini, max_depth=None, min_samples_leaf=1, min_samples_split=10;, score=0.917 total time=   0.0s\n",
      "[CV 3/5] END criterion=gini, max_depth=None, min_samples_leaf=1, min_samples_split=10;, score=0.917 total time=   0.0s\n",
      "[CV 4/5] END criterion=gini, max_depth=None, min_samples_leaf=1, min_samples_split=10;, score=0.958 total time=   0.0s\n",
      "[CV 5/5] END criterion=gini, max_depth=None, min_samples_leaf=1, min_samples_split=10;, score=0.917 total time=   0.0s\n",
      "[CV 1/5] END criterion=gini, max_depth=None, min_samples_leaf=2, min_samples_split=2;, score=0.875 total time=   0.0s\n",
      "[CV 2/5] END criterion=gini, max_depth=None, min_samples_leaf=2, min_samples_split=2;, score=0.917 total time=   0.0s\n",
      "[CV 3/5] END criterion=gini, max_depth=None, min_samples_leaf=2, min_samples_split=2;, score=0.917 total time=   0.0s\n",
      "[CV 4/5] END criterion=gini, max_depth=None, min_samples_leaf=2, min_samples_split=2;, score=0.958 total time=   0.0s\n",
      "[CV 5/5] END criterion=gini, max_depth=None, min_samples_leaf=2, min_samples_split=2;, score=0.917 total time=   0.0s\n",
      "[CV 1/5] END criterion=gini, max_depth=None, min_samples_leaf=2, min_samples_split=5;, score=0.875 total time=   0.0s\n",
      "[CV 2/5] END criterion=gini, max_depth=None, min_samples_leaf=2, min_samples_split=5;, score=0.917 total time=   0.0s\n",
      "[CV 3/5] END criterion=gini, max_depth=None, min_samples_leaf=2, min_samples_split=5;, score=0.917 total time=   0.0s\n",
      "[CV 4/5] END criterion=gini, max_depth=None, min_samples_leaf=2, min_samples_split=5;, score=0.958 total time=   0.0s\n",
      "[CV 5/5] END criterion=gini, max_depth=None, min_samples_leaf=2, min_samples_split=5;, score=0.917 total time=   0.0s\n",
      "[CV 1/5] END criterion=gini, max_depth=None, min_samples_leaf=2, min_samples_split=10;, score=0.917 total time=   0.0s\n",
      "[CV 2/5] END criterion=gini, max_depth=None, min_samples_leaf=2, min_samples_split=10;, score=0.917 total time=   0.0s\n",
      "[CV 3/5] END criterion=gini, max_depth=None, min_samples_leaf=2, min_samples_split=10;, score=0.917 total time=   0.0s\n",
      "[CV 4/5] END criterion=gini, max_depth=None, min_samples_leaf=2, min_samples_split=10;, score=0.958 total time=   0.0s\n"
     ]
    },
    {
     "name": "stdout",
     "output_type": "stream",
     "text": [
      "[CV 5/5] END criterion=gini, max_depth=None, min_samples_leaf=2, min_samples_split=10;, score=0.917 total time=   0.0s\n",
      "[CV 1/5] END criterion=gini, max_depth=None, min_samples_leaf=4, min_samples_split=2;, score=0.917 total time=   0.0s\n",
      "[CV 2/5] END criterion=gini, max_depth=None, min_samples_leaf=4, min_samples_split=2;, score=0.917 total time=   0.0s\n",
      "[CV 3/5] END criterion=gini, max_depth=None, min_samples_leaf=4, min_samples_split=2;, score=0.917 total time=   0.0s\n",
      "[CV 4/5] END criterion=gini, max_depth=None, min_samples_leaf=4, min_samples_split=2;, score=0.958 total time=   0.0s\n",
      "[CV 5/5] END criterion=gini, max_depth=None, min_samples_leaf=4, min_samples_split=2;, score=0.875 total time=   0.0s\n",
      "[CV 1/5] END criterion=gini, max_depth=None, min_samples_leaf=4, min_samples_split=5;, score=0.917 total time=   0.0s\n",
      "[CV 2/5] END criterion=gini, max_depth=None, min_samples_leaf=4, min_samples_split=5;, score=0.917 total time=   0.0s\n",
      "[CV 3/5] END criterion=gini, max_depth=None, min_samples_leaf=4, min_samples_split=5;, score=0.917 total time=   0.0s\n",
      "[CV 4/5] END criterion=gini, max_depth=None, min_samples_leaf=4, min_samples_split=5;, score=0.958 total time=   0.0s\n",
      "[CV 5/5] END criterion=gini, max_depth=None, min_samples_leaf=4, min_samples_split=5;, score=0.875 total time=   0.0s\n",
      "[CV 1/5] END criterion=gini, max_depth=None, min_samples_leaf=4, min_samples_split=10;, score=0.917 total time=   0.0s\n",
      "[CV 2/5] END criterion=gini, max_depth=None, min_samples_leaf=4, min_samples_split=10;, score=0.917 total time=   0.0s\n",
      "[CV 3/5] END criterion=gini, max_depth=None, min_samples_leaf=4, min_samples_split=10;, score=0.917 total time=   0.0s\n",
      "[CV 4/5] END criterion=gini, max_depth=None, min_samples_leaf=4, min_samples_split=10;, score=0.958 total time=   0.0s\n",
      "[CV 5/5] END criterion=gini, max_depth=None, min_samples_leaf=4, min_samples_split=10;, score=0.875 total time=   0.0s\n",
      "[CV 1/5] END criterion=entropy, max_depth=3, min_samples_leaf=1, min_samples_split=2;, score=0.917 total time=   0.0s\n",
      "[CV 2/5] END criterion=entropy, max_depth=3, min_samples_leaf=1, min_samples_split=2;, score=0.917 total time=   0.0s\n",
      "[CV 3/5] END criterion=entropy, max_depth=3, min_samples_leaf=1, min_samples_split=2;, score=0.917 total time=   0.0s\n",
      "[CV 4/5] END criterion=entropy, max_depth=3, min_samples_leaf=1, min_samples_split=2;, score=0.958 total time=   0.0s\n",
      "[CV 5/5] END criterion=entropy, max_depth=3, min_samples_leaf=1, min_samples_split=2;, score=0.917 total time=   0.0s\n",
      "[CV 1/5] END criterion=entropy, max_depth=3, min_samples_leaf=1, min_samples_split=5;, score=0.917 total time=   0.0s\n",
      "[CV 2/5] END criterion=entropy, max_depth=3, min_samples_leaf=1, min_samples_split=5;, score=0.917 total time=   0.0s\n",
      "[CV 3/5] END criterion=entropy, max_depth=3, min_samples_leaf=1, min_samples_split=5;, score=0.917 total time=   0.0s\n",
      "[CV 4/5] END criterion=entropy, max_depth=3, min_samples_leaf=1, min_samples_split=5;, score=0.958 total time=   0.0s\n",
      "[CV 5/5] END criterion=entropy, max_depth=3, min_samples_leaf=1, min_samples_split=5;, score=0.917 total time=   0.0s\n",
      "[CV 1/5] END criterion=entropy, max_depth=3, min_samples_leaf=1, min_samples_split=10;, score=0.917 total time=   0.0s\n",
      "[CV 2/5] END criterion=entropy, max_depth=3, min_samples_leaf=1, min_samples_split=10;, score=0.917 total time=   0.0s\n",
      "[CV 3/5] END criterion=entropy, max_depth=3, min_samples_leaf=1, min_samples_split=10;, score=0.917 total time=   0.0s\n",
      "[CV 4/5] END criterion=entropy, max_depth=3, min_samples_leaf=1, min_samples_split=10;, score=0.958 total time=   0.0s\n",
      "[CV 5/5] END criterion=entropy, max_depth=3, min_samples_leaf=1, min_samples_split=10;, score=0.917 total time=   0.0s\n",
      "[CV 1/5] END criterion=entropy, max_depth=3, min_samples_leaf=2, min_samples_split=2;, score=0.917 total time=   0.0s\n",
      "[CV 2/5] END criterion=entropy, max_depth=3, min_samples_leaf=2, min_samples_split=2;, score=0.917 total time=   0.0s\n",
      "[CV 3/5] END criterion=entropy, max_depth=3, min_samples_leaf=2, min_samples_split=2;, score=0.917 total time=   0.0s\n",
      "[CV 4/5] END criterion=entropy, max_depth=3, min_samples_leaf=2, min_samples_split=2;, score=0.958 total time=   0.0s\n",
      "[CV 5/5] END criterion=entropy, max_depth=3, min_samples_leaf=2, min_samples_split=2;, score=0.917 total time=   0.0s\n",
      "[CV 1/5] END criterion=entropy, max_depth=3, min_samples_leaf=2, min_samples_split=5;, score=0.917 total time=   0.0s\n",
      "[CV 2/5] END criterion=entropy, max_depth=3, min_samples_leaf=2, min_samples_split=5;, score=0.917 total time=   0.0s\n",
      "[CV 3/5] END criterion=entropy, max_depth=3, min_samples_leaf=2, min_samples_split=5;, score=0.917 total time=   0.0s\n",
      "[CV 4/5] END criterion=entropy, max_depth=3, min_samples_leaf=2, min_samples_split=5;, score=0.958 total time=   0.0s\n",
      "[CV 5/5] END criterion=entropy, max_depth=3, min_samples_leaf=2, min_samples_split=5;, score=0.917 total time=   0.0s\n",
      "[CV 1/5] END criterion=entropy, max_depth=3, min_samples_leaf=2, min_samples_split=10;, score=0.917 total time=   0.0s\n",
      "[CV 2/5] END criterion=entropy, max_depth=3, min_samples_leaf=2, min_samples_split=10;, score=0.917 total time=   0.0s\n",
      "[CV 3/5] END criterion=entropy, max_depth=3, min_samples_leaf=2, min_samples_split=10;, score=0.917 total time=   0.0s\n",
      "[CV 4/5] END criterion=entropy, max_depth=3, min_samples_leaf=2, min_samples_split=10;, score=0.958 total time=   0.0s\n",
      "[CV 5/5] END criterion=entropy, max_depth=3, min_samples_leaf=2, min_samples_split=10;, score=0.917 total time=   0.0s\n",
      "[CV 1/5] END criterion=entropy, max_depth=3, min_samples_leaf=4, min_samples_split=2;, score=0.917 total time=   0.0s\n",
      "[CV 2/5] END criterion=entropy, max_depth=3, min_samples_leaf=4, min_samples_split=2;, score=0.917 total time=   0.0s\n",
      "[CV 3/5] END criterion=entropy, max_depth=3, min_samples_leaf=4, min_samples_split=2;, score=0.917 total time=   0.0s\n",
      "[CV 4/5] END criterion=entropy, max_depth=3, min_samples_leaf=4, min_samples_split=2;, score=0.958 total time=   0.0s\n",
      "[CV 5/5] END criterion=entropy, max_depth=3, min_samples_leaf=4, min_samples_split=2;, score=0.875 total time=   0.0s\n",
      "[CV 1/5] END criterion=entropy, max_depth=3, min_samples_leaf=4, min_samples_split=5;, score=0.917 total time=   0.0s\n",
      "[CV 2/5] END criterion=entropy, max_depth=3, min_samples_leaf=4, min_samples_split=5;, score=0.917 total time=   0.0s\n",
      "[CV 3/5] END criterion=entropy, max_depth=3, min_samples_leaf=4, min_samples_split=5;, score=0.917 total time=   0.0s\n",
      "[CV 4/5] END criterion=entropy, max_depth=3, min_samples_leaf=4, min_samples_split=5;, score=0.958 total time=   0.0s\n",
      "[CV 5/5] END criterion=entropy, max_depth=3, min_samples_leaf=4, min_samples_split=5;, score=0.875 total time=   0.0s\n",
      "[CV 1/5] END criterion=entropy, max_depth=3, min_samples_leaf=4, min_samples_split=10;, score=0.917 total time=   0.0s\n",
      "[CV 2/5] END criterion=entropy, max_depth=3, min_samples_leaf=4, min_samples_split=10;, score=0.917 total time=   0.0s\n",
      "[CV 3/5] END criterion=entropy, max_depth=3, min_samples_leaf=4, min_samples_split=10;, score=0.917 total time=   0.0s\n",
      "[CV 4/5] END criterion=entropy, max_depth=3, min_samples_leaf=4, min_samples_split=10;, score=0.958 total time=   0.0s\n",
      "[CV 5/5] END criterion=entropy, max_depth=3, min_samples_leaf=4, min_samples_split=10;, score=0.875 total time=   0.0s\n",
      "[CV 1/5] END criterion=entropy, max_depth=5, min_samples_leaf=1, min_samples_split=2;, score=0.917 total time=   0.0s\n",
      "[CV 2/5] END criterion=entropy, max_depth=5, min_samples_leaf=1, min_samples_split=2;, score=0.917 total time=   0.0s\n",
      "[CV 3/5] END criterion=entropy, max_depth=5, min_samples_leaf=1, min_samples_split=2;, score=0.917 total time=   0.0s\n",
      "[CV 4/5] END criterion=entropy, max_depth=5, min_samples_leaf=1, min_samples_split=2;, score=0.958 total time=   0.0s\n",
      "[CV 5/5] END criterion=entropy, max_depth=5, min_samples_leaf=1, min_samples_split=2;, score=0.958 total time=   0.0s\n",
      "[CV 1/5] END criterion=entropy, max_depth=5, min_samples_leaf=1, min_samples_split=5;, score=0.875 total time=   0.0s\n",
      "[CV 2/5] END criterion=entropy, max_depth=5, min_samples_leaf=1, min_samples_split=5;, score=0.917 total time=   0.0s\n",
      "[CV 3/5] END criterion=entropy, max_depth=5, min_samples_leaf=1, min_samples_split=5;, score=0.917 total time=   0.0s\n",
      "[CV 4/5] END criterion=entropy, max_depth=5, min_samples_leaf=1, min_samples_split=5;, score=0.958 total time=   0.0s\n",
      "[CV 5/5] END criterion=entropy, max_depth=5, min_samples_leaf=1, min_samples_split=5;, score=0.917 total time=   0.0s\n",
      "[CV 1/5] END criterion=entropy, max_depth=5, min_samples_leaf=1, min_samples_split=10;, score=0.917 total time=   0.0s\n"
     ]
    },
    {
     "name": "stdout",
     "output_type": "stream",
     "text": [
      "[CV 2/5] END criterion=entropy, max_depth=5, min_samples_leaf=1, min_samples_split=10;, score=0.917 total time=   0.0s\n",
      "[CV 3/5] END criterion=entropy, max_depth=5, min_samples_leaf=1, min_samples_split=10;, score=0.917 total time=   0.0s\n",
      "[CV 4/5] END criterion=entropy, max_depth=5, min_samples_leaf=1, min_samples_split=10;, score=0.958 total time=   0.0s\n",
      "[CV 5/5] END criterion=entropy, max_depth=5, min_samples_leaf=1, min_samples_split=10;, score=0.917 total time=   0.0s\n",
      "[CV 1/5] END criterion=entropy, max_depth=5, min_samples_leaf=2, min_samples_split=2;, score=0.917 total time=   0.0s\n",
      "[CV 2/5] END criterion=entropy, max_depth=5, min_samples_leaf=2, min_samples_split=2;, score=0.917 total time=   0.0s\n",
      "[CV 3/5] END criterion=entropy, max_depth=5, min_samples_leaf=2, min_samples_split=2;, score=0.917 total time=   0.0s\n",
      "[CV 4/5] END criterion=entropy, max_depth=5, min_samples_leaf=2, min_samples_split=2;, score=0.958 total time=   0.0s\n",
      "[CV 5/5] END criterion=entropy, max_depth=5, min_samples_leaf=2, min_samples_split=2;, score=0.917 total time=   0.0s\n",
      "[CV 1/5] END criterion=entropy, max_depth=5, min_samples_leaf=2, min_samples_split=5;, score=0.875 total time=   0.0s\n",
      "[CV 2/5] END criterion=entropy, max_depth=5, min_samples_leaf=2, min_samples_split=5;, score=0.917 total time=   0.0s\n",
      "[CV 3/5] END criterion=entropy, max_depth=5, min_samples_leaf=2, min_samples_split=5;, score=0.917 total time=   0.0s\n",
      "[CV 4/5] END criterion=entropy, max_depth=5, min_samples_leaf=2, min_samples_split=5;, score=0.958 total time=   0.0s\n",
      "[CV 5/5] END criterion=entropy, max_depth=5, min_samples_leaf=2, min_samples_split=5;, score=0.917 total time=   0.0s\n",
      "[CV 1/5] END criterion=entropy, max_depth=5, min_samples_leaf=2, min_samples_split=10;, score=0.917 total time=   0.0s\n",
      "[CV 2/5] END criterion=entropy, max_depth=5, min_samples_leaf=2, min_samples_split=10;, score=0.875 total time=   0.0s\n",
      "[CV 3/5] END criterion=entropy, max_depth=5, min_samples_leaf=2, min_samples_split=10;, score=0.917 total time=   0.0s\n",
      "[CV 4/5] END criterion=entropy, max_depth=5, min_samples_leaf=2, min_samples_split=10;, score=0.958 total time=   0.0s\n",
      "[CV 5/5] END criterion=entropy, max_depth=5, min_samples_leaf=2, min_samples_split=10;, score=0.917 total time=   0.0s\n",
      "[CV 1/5] END criterion=entropy, max_depth=5, min_samples_leaf=4, min_samples_split=2;, score=0.917 total time=   0.0s\n",
      "[CV 2/5] END criterion=entropy, max_depth=5, min_samples_leaf=4, min_samples_split=2;, score=0.875 total time=   0.0s\n",
      "[CV 3/5] END criterion=entropy, max_depth=5, min_samples_leaf=4, min_samples_split=2;, score=0.917 total time=   0.0s\n",
      "[CV 4/5] END criterion=entropy, max_depth=5, min_samples_leaf=4, min_samples_split=2;, score=0.958 total time=   0.0s\n",
      "[CV 5/5] END criterion=entropy, max_depth=5, min_samples_leaf=4, min_samples_split=2;, score=0.875 total time=   0.0s\n",
      "[CV 1/5] END criterion=entropy, max_depth=5, min_samples_leaf=4, min_samples_split=5;, score=0.917 total time=   0.0s\n",
      "[CV 2/5] END criterion=entropy, max_depth=5, min_samples_leaf=4, min_samples_split=5;, score=0.875 total time=   0.0s\n",
      "[CV 3/5] END criterion=entropy, max_depth=5, min_samples_leaf=4, min_samples_split=5;, score=0.917 total time=   0.0s\n",
      "[CV 4/5] END criterion=entropy, max_depth=5, min_samples_leaf=4, min_samples_split=5;, score=0.958 total time=   0.0s\n",
      "[CV 5/5] END criterion=entropy, max_depth=5, min_samples_leaf=4, min_samples_split=5;, score=0.875 total time=   0.0s\n",
      "[CV 1/5] END criterion=entropy, max_depth=5, min_samples_leaf=4, min_samples_split=10;, score=0.917 total time=   0.0s\n",
      "[CV 2/5] END criterion=entropy, max_depth=5, min_samples_leaf=4, min_samples_split=10;, score=0.917 total time=   0.0s\n",
      "[CV 3/5] END criterion=entropy, max_depth=5, min_samples_leaf=4, min_samples_split=10;, score=0.917 total time=   0.0s\n",
      "[CV 4/5] END criterion=entropy, max_depth=5, min_samples_leaf=4, min_samples_split=10;, score=0.958 total time=   0.0s\n",
      "[CV 5/5] END criterion=entropy, max_depth=5, min_samples_leaf=4, min_samples_split=10;, score=0.875 total time=   0.0s\n",
      "[CV 1/5] END criterion=entropy, max_depth=7, min_samples_leaf=1, min_samples_split=2;, score=0.917 total time=   0.0s\n",
      "[CV 2/5] END criterion=entropy, max_depth=7, min_samples_leaf=1, min_samples_split=2;, score=0.917 total time=   0.0s\n",
      "[CV 3/5] END criterion=entropy, max_depth=7, min_samples_leaf=1, min_samples_split=2;, score=0.917 total time=   0.0s\n",
      "[CV 4/5] END criterion=entropy, max_depth=7, min_samples_leaf=1, min_samples_split=2;, score=0.958 total time=   0.0s\n",
      "[CV 5/5] END criterion=entropy, max_depth=7, min_samples_leaf=1, min_samples_split=2;, score=0.958 total time=   0.0s\n",
      "[CV 1/5] END criterion=entropy, max_depth=7, min_samples_leaf=1, min_samples_split=5;, score=0.875 total time=   0.0s\n",
      "[CV 2/5] END criterion=entropy, max_depth=7, min_samples_leaf=1, min_samples_split=5;, score=0.917 total time=   0.0s\n",
      "[CV 3/5] END criterion=entropy, max_depth=7, min_samples_leaf=1, min_samples_split=5;, score=0.917 total time=   0.0s\n",
      "[CV 4/5] END criterion=entropy, max_depth=7, min_samples_leaf=1, min_samples_split=5;, score=0.958 total time=   0.0s\n",
      "[CV 5/5] END criterion=entropy, max_depth=7, min_samples_leaf=1, min_samples_split=5;, score=0.917 total time=   0.0s\n",
      "[CV 1/5] END criterion=entropy, max_depth=7, min_samples_leaf=1, min_samples_split=10;, score=0.917 total time=   0.0s\n",
      "[CV 2/5] END criterion=entropy, max_depth=7, min_samples_leaf=1, min_samples_split=10;, score=0.917 total time=   0.0s\n",
      "[CV 3/5] END criterion=entropy, max_depth=7, min_samples_leaf=1, min_samples_split=10;, score=0.917 total time=   0.0s\n",
      "[CV 4/5] END criterion=entropy, max_depth=7, min_samples_leaf=1, min_samples_split=10;, score=0.958 total time=   0.0s\n",
      "[CV 5/5] END criterion=entropy, max_depth=7, min_samples_leaf=1, min_samples_split=10;, score=0.917 total time=   0.0s\n",
      "[CV 1/5] END criterion=entropy, max_depth=7, min_samples_leaf=2, min_samples_split=2;, score=0.917 total time=   0.0s\n",
      "[CV 2/5] END criterion=entropy, max_depth=7, min_samples_leaf=2, min_samples_split=2;, score=0.917 total time=   0.0s\n",
      "[CV 3/5] END criterion=entropy, max_depth=7, min_samples_leaf=2, min_samples_split=2;, score=0.917 total time=   0.0s\n",
      "[CV 4/5] END criterion=entropy, max_depth=7, min_samples_leaf=2, min_samples_split=2;, score=0.958 total time=   0.0s\n",
      "[CV 5/5] END criterion=entropy, max_depth=7, min_samples_leaf=2, min_samples_split=2;, score=0.917 total time=   0.0s\n",
      "[CV 1/5] END criterion=entropy, max_depth=7, min_samples_leaf=2, min_samples_split=5;, score=0.875 total time=   0.0s\n",
      "[CV 2/5] END criterion=entropy, max_depth=7, min_samples_leaf=2, min_samples_split=5;, score=0.917 total time=   0.0s\n",
      "[CV 3/5] END criterion=entropy, max_depth=7, min_samples_leaf=2, min_samples_split=5;, score=0.917 total time=   0.0s\n",
      "[CV 4/5] END criterion=entropy, max_depth=7, min_samples_leaf=2, min_samples_split=5;, score=0.958 total time=   0.0s\n",
      "[CV 5/5] END criterion=entropy, max_depth=7, min_samples_leaf=2, min_samples_split=5;, score=0.917 total time=   0.0s\n",
      "[CV 1/5] END criterion=entropy, max_depth=7, min_samples_leaf=2, min_samples_split=10;, score=0.917 total time=   0.0s\n",
      "[CV 2/5] END criterion=entropy, max_depth=7, min_samples_leaf=2, min_samples_split=10;, score=0.917 total time=   0.0s\n",
      "[CV 3/5] END criterion=entropy, max_depth=7, min_samples_leaf=2, min_samples_split=10;, score=0.917 total time=   0.0s\n",
      "[CV 4/5] END criterion=entropy, max_depth=7, min_samples_leaf=2, min_samples_split=10;, score=0.958 total time=   0.0s\n",
      "[CV 5/5] END criterion=entropy, max_depth=7, min_samples_leaf=2, min_samples_split=10;, score=0.917 total time=   0.0s\n",
      "[CV 1/5] END criterion=entropy, max_depth=7, min_samples_leaf=4, min_samples_split=2;, score=0.917 total time=   0.0s\n",
      "[CV 2/5] END criterion=entropy, max_depth=7, min_samples_leaf=4, min_samples_split=2;, score=0.958 total time=   0.0s\n",
      "[CV 3/5] END criterion=entropy, max_depth=7, min_samples_leaf=4, min_samples_split=2;, score=0.917 total time=   0.0s\n",
      "[CV 4/5] END criterion=entropy, max_depth=7, min_samples_leaf=4, min_samples_split=2;, score=0.958 total time=   0.0s\n",
      "[CV 5/5] END criterion=entropy, max_depth=7, min_samples_leaf=4, min_samples_split=2;, score=0.875 total time=   0.0s\n",
      "[CV 1/5] END criterion=entropy, max_depth=7, min_samples_leaf=4, min_samples_split=5;, score=0.917 total time=   0.0s\n",
      "[CV 2/5] END criterion=entropy, max_depth=7, min_samples_leaf=4, min_samples_split=5;, score=0.958 total time=   0.0s\n",
      "[CV 3/5] END criterion=entropy, max_depth=7, min_samples_leaf=4, min_samples_split=5;, score=0.917 total time=   0.0s\n",
      "[CV 4/5] END criterion=entropy, max_depth=7, min_samples_leaf=4, min_samples_split=5;, score=0.958 total time=   0.0s\n",
      "[CV 5/5] END criterion=entropy, max_depth=7, min_samples_leaf=4, min_samples_split=5;, score=0.875 total time=   0.0s\n",
      "[CV 1/5] END criterion=entropy, max_depth=7, min_samples_leaf=4, min_samples_split=10;, score=0.917 total time=   0.0s\n",
      "[CV 2/5] END criterion=entropy, max_depth=7, min_samples_leaf=4, min_samples_split=10;, score=0.917 total time=   0.0s\n",
      "[CV 3/5] END criterion=entropy, max_depth=7, min_samples_leaf=4, min_samples_split=10;, score=0.917 total time=   0.0s\n",
      "[CV 4/5] END criterion=entropy, max_depth=7, min_samples_leaf=4, min_samples_split=10;, score=0.958 total time=   0.0s\n",
      "[CV 5/5] END criterion=entropy, max_depth=7, min_samples_leaf=4, min_samples_split=10;, score=0.875 total time=   0.0s\n",
      "[CV 1/5] END criterion=entropy, max_depth=None, min_samples_leaf=1, min_samples_split=2;, score=0.917 total time=   0.0s\n",
      "[CV 2/5] END criterion=entropy, max_depth=None, min_samples_leaf=1, min_samples_split=2;, score=0.875 total time=   0.0s\n",
      "[CV 3/5] END criterion=entropy, max_depth=None, min_samples_leaf=1, min_samples_split=2;, score=0.917 total time=   0.0s\n",
      "[CV 4/5] END criterion=entropy, max_depth=None, min_samples_leaf=1, min_samples_split=2;, score=0.958 total time=   0.0s\n",
      "[CV 5/5] END criterion=entropy, max_depth=None, min_samples_leaf=1, min_samples_split=2;, score=0.958 total time=   0.0s\n",
      "[CV 1/5] END criterion=entropy, max_depth=None, min_samples_leaf=1, min_samples_split=5;, score=0.875 total time=   0.0s\n",
      "[CV 2/5] END criterion=entropy, max_depth=None, min_samples_leaf=1, min_samples_split=5;, score=0.875 total time=   0.0s\n",
      "[CV 3/5] END criterion=entropy, max_depth=None, min_samples_leaf=1, min_samples_split=5;, score=0.917 total time=   0.0s\n"
     ]
    },
    {
     "name": "stdout",
     "output_type": "stream",
     "text": [
      "[CV 4/5] END criterion=entropy, max_depth=None, min_samples_leaf=1, min_samples_split=5;, score=0.958 total time=   0.0s\n",
      "[CV 5/5] END criterion=entropy, max_depth=None, min_samples_leaf=1, min_samples_split=5;, score=0.917 total time=   0.0s\n",
      "[CV 1/5] END criterion=entropy, max_depth=None, min_samples_leaf=1, min_samples_split=10;, score=0.917 total time=   0.0s\n",
      "[CV 2/5] END criterion=entropy, max_depth=None, min_samples_leaf=1, min_samples_split=10;, score=0.917 total time=   0.0s\n",
      "[CV 3/5] END criterion=entropy, max_depth=None, min_samples_leaf=1, min_samples_split=10;, score=0.917 total time=   0.0s\n",
      "[CV 4/5] END criterion=entropy, max_depth=None, min_samples_leaf=1, min_samples_split=10;, score=0.958 total time=   0.0s\n",
      "[CV 5/5] END criterion=entropy, max_depth=None, min_samples_leaf=1, min_samples_split=10;, score=0.917 total time=   0.0s\n",
      "[CV 1/5] END criterion=entropy, max_depth=None, min_samples_leaf=2, min_samples_split=2;, score=0.875 total time=   0.0s\n",
      "[CV 2/5] END criterion=entropy, max_depth=None, min_samples_leaf=2, min_samples_split=2;, score=0.917 total time=   0.0s\n",
      "[CV 3/5] END criterion=entropy, max_depth=None, min_samples_leaf=2, min_samples_split=2;, score=0.917 total time=   0.0s\n",
      "[CV 4/5] END criterion=entropy, max_depth=None, min_samples_leaf=2, min_samples_split=2;, score=0.958 total time=   0.0s\n",
      "[CV 5/5] END criterion=entropy, max_depth=None, min_samples_leaf=2, min_samples_split=2;, score=0.917 total time=   0.0s\n",
      "[CV 1/5] END criterion=entropy, max_depth=None, min_samples_leaf=2, min_samples_split=5;, score=0.875 total time=   0.0s\n",
      "[CV 2/5] END criterion=entropy, max_depth=None, min_samples_leaf=2, min_samples_split=5;, score=0.917 total time=   0.0s\n",
      "[CV 3/5] END criterion=entropy, max_depth=None, min_samples_leaf=2, min_samples_split=5;, score=0.917 total time=   0.0s\n",
      "[CV 4/5] END criterion=entropy, max_depth=None, min_samples_leaf=2, min_samples_split=5;, score=0.958 total time=   0.0s\n",
      "[CV 5/5] END criterion=entropy, max_depth=None, min_samples_leaf=2, min_samples_split=5;, score=0.917 total time=   0.0s\n",
      "[CV 1/5] END criterion=entropy, max_depth=None, min_samples_leaf=2, min_samples_split=10;, score=0.917 total time=   0.0s\n",
      "[CV 2/5] END criterion=entropy, max_depth=None, min_samples_leaf=2, min_samples_split=10;, score=0.875 total time=   0.0s\n",
      "[CV 3/5] END criterion=entropy, max_depth=None, min_samples_leaf=2, min_samples_split=10;, score=0.917 total time=   0.0s\n",
      "[CV 4/5] END criterion=entropy, max_depth=None, min_samples_leaf=2, min_samples_split=10;, score=0.958 total time=   0.0s\n",
      "[CV 5/5] END criterion=entropy, max_depth=None, min_samples_leaf=2, min_samples_split=10;, score=0.917 total time=   0.0s\n",
      "[CV 1/5] END criterion=entropy, max_depth=None, min_samples_leaf=4, min_samples_split=2;, score=0.917 total time=   0.0s\n",
      "[CV 2/5] END criterion=entropy, max_depth=None, min_samples_leaf=4, min_samples_split=2;, score=0.958 total time=   0.0s\n",
      "[CV 3/5] END criterion=entropy, max_depth=None, min_samples_leaf=4, min_samples_split=2;, score=0.917 total time=   0.0s\n",
      "[CV 4/5] END criterion=entropy, max_depth=None, min_samples_leaf=4, min_samples_split=2;, score=0.958 total time=   0.0s\n",
      "[CV 5/5] END criterion=entropy, max_depth=None, min_samples_leaf=4, min_samples_split=2;, score=0.875 total time=   0.0s\n",
      "[CV 1/5] END criterion=entropy, max_depth=None, min_samples_leaf=4, min_samples_split=5;, score=0.917 total time=   0.0s\n",
      "[CV 2/5] END criterion=entropy, max_depth=None, min_samples_leaf=4, min_samples_split=5;, score=0.958 total time=   0.0s\n",
      "[CV 3/5] END criterion=entropy, max_depth=None, min_samples_leaf=4, min_samples_split=5;, score=0.917 total time=   0.0s\n",
      "[CV 4/5] END criterion=entropy, max_depth=None, min_samples_leaf=4, min_samples_split=5;, score=0.958 total time=   0.0s\n",
      "[CV 5/5] END criterion=entropy, max_depth=None, min_samples_leaf=4, min_samples_split=5;, score=0.875 total time=   0.0s\n",
      "[CV 1/5] END criterion=entropy, max_depth=None, min_samples_leaf=4, min_samples_split=10;, score=0.917 total time=   0.0s\n",
      "[CV 2/5] END criterion=entropy, max_depth=None, min_samples_leaf=4, min_samples_split=10;, score=0.917 total time=   0.0s\n",
      "[CV 3/5] END criterion=entropy, max_depth=None, min_samples_leaf=4, min_samples_split=10;, score=0.917 total time=   0.0s\n",
      "[CV 4/5] END criterion=entropy, max_depth=None, min_samples_leaf=4, min_samples_split=10;, score=0.958 total time=   0.0s\n",
      "[CV 5/5] END criterion=entropy, max_depth=None, min_samples_leaf=4, min_samples_split=10;, score=0.875 total time=   0.0s\n"
     ]
    },
    {
     "data": {
      "text/html": [
       "<style>#sk-container-id-9 {color: black;}#sk-container-id-9 pre{padding: 0;}#sk-container-id-9 div.sk-toggleable {background-color: white;}#sk-container-id-9 label.sk-toggleable__label {cursor: pointer;display: block;width: 100%;margin-bottom: 0;padding: 0.3em;box-sizing: border-box;text-align: center;}#sk-container-id-9 label.sk-toggleable__label-arrow:before {content: \"▸\";float: left;margin-right: 0.25em;color: #696969;}#sk-container-id-9 label.sk-toggleable__label-arrow:hover:before {color: black;}#sk-container-id-9 div.sk-estimator:hover label.sk-toggleable__label-arrow:before {color: black;}#sk-container-id-9 div.sk-toggleable__content {max-height: 0;max-width: 0;overflow: hidden;text-align: left;background-color: #f0f8ff;}#sk-container-id-9 div.sk-toggleable__content pre {margin: 0.2em;color: black;border-radius: 0.25em;background-color: #f0f8ff;}#sk-container-id-9 input.sk-toggleable__control:checked~div.sk-toggleable__content {max-height: 200px;max-width: 100%;overflow: auto;}#sk-container-id-9 input.sk-toggleable__control:checked~label.sk-toggleable__label-arrow:before {content: \"▾\";}#sk-container-id-9 div.sk-estimator input.sk-toggleable__control:checked~label.sk-toggleable__label {background-color: #d4ebff;}#sk-container-id-9 div.sk-label input.sk-toggleable__control:checked~label.sk-toggleable__label {background-color: #d4ebff;}#sk-container-id-9 input.sk-hidden--visually {border: 0;clip: rect(1px 1px 1px 1px);clip: rect(1px, 1px, 1px, 1px);height: 1px;margin: -1px;overflow: hidden;padding: 0;position: absolute;width: 1px;}#sk-container-id-9 div.sk-estimator {font-family: monospace;background-color: #f0f8ff;border: 1px dotted black;border-radius: 0.25em;box-sizing: border-box;margin-bottom: 0.5em;}#sk-container-id-9 div.sk-estimator:hover {background-color: #d4ebff;}#sk-container-id-9 div.sk-parallel-item::after {content: \"\";width: 100%;border-bottom: 1px solid gray;flex-grow: 1;}#sk-container-id-9 div.sk-label:hover label.sk-toggleable__label {background-color: #d4ebff;}#sk-container-id-9 div.sk-serial::before {content: \"\";position: absolute;border-left: 1px solid gray;box-sizing: border-box;top: 0;bottom: 0;left: 50%;z-index: 0;}#sk-container-id-9 div.sk-serial {display: flex;flex-direction: column;align-items: center;background-color: white;padding-right: 0.2em;padding-left: 0.2em;position: relative;}#sk-container-id-9 div.sk-item {position: relative;z-index: 1;}#sk-container-id-9 div.sk-parallel {display: flex;align-items: stretch;justify-content: center;background-color: white;position: relative;}#sk-container-id-9 div.sk-item::before, #sk-container-id-9 div.sk-parallel-item::before {content: \"\";position: absolute;border-left: 1px solid gray;box-sizing: border-box;top: 0;bottom: 0;left: 50%;z-index: -1;}#sk-container-id-9 div.sk-parallel-item {display: flex;flex-direction: column;z-index: 1;position: relative;background-color: white;}#sk-container-id-9 div.sk-parallel-item:first-child::after {align-self: flex-end;width: 50%;}#sk-container-id-9 div.sk-parallel-item:last-child::after {align-self: flex-start;width: 50%;}#sk-container-id-9 div.sk-parallel-item:only-child::after {width: 0;}#sk-container-id-9 div.sk-dashed-wrapped {border: 1px dashed gray;margin: 0 0.4em 0.5em 0.4em;box-sizing: border-box;padding-bottom: 0.4em;background-color: white;}#sk-container-id-9 div.sk-label label {font-family: monospace;font-weight: bold;display: inline-block;line-height: 1.2em;}#sk-container-id-9 div.sk-label-container {text-align: center;}#sk-container-id-9 div.sk-container {/* jupyter's `normalize.less` sets `[hidden] { display: none; }` but bootstrap.min.css set `[hidden] { display: none !important; }` so we also need the `!important` here to be able to override the default hidden behavior on the sphinx rendered scikit-learn.org. See: https://github.com/scikit-learn/scikit-learn/issues/21755 */display: inline-block !important;position: relative;}#sk-container-id-9 div.sk-text-repr-fallback {display: none;}</style><div id=\"sk-container-id-9\" class=\"sk-top-container\"><div class=\"sk-text-repr-fallback\"><pre>GridSearchCV(cv=5, estimator=DecisionTreeClassifier(),\n",
       "             param_grid={&#x27;criterion&#x27;: [&#x27;gini&#x27;, &#x27;entropy&#x27;],\n",
       "                         &#x27;max_depth&#x27;: [3, 5, 7, None],\n",
       "                         &#x27;min_samples_leaf&#x27;: [1, 2, 4],\n",
       "                         &#x27;min_samples_split&#x27;: [2, 5, 10]},\n",
       "             verbose=5)</pre><b>In a Jupyter environment, please rerun this cell to show the HTML representation or trust the notebook. <br />On GitHub, the HTML representation is unable to render, please try loading this page with nbviewer.org.</b></div><div class=\"sk-container\" hidden><div class=\"sk-item sk-dashed-wrapped\"><div class=\"sk-label-container\"><div class=\"sk-label sk-toggleable\"><input class=\"sk-toggleable__control sk-hidden--visually\" id=\"sk-estimator-id-9\" type=\"checkbox\" ><label for=\"sk-estimator-id-9\" class=\"sk-toggleable__label sk-toggleable__label-arrow\">GridSearchCV</label><div class=\"sk-toggleable__content\"><pre>GridSearchCV(cv=5, estimator=DecisionTreeClassifier(),\n",
       "             param_grid={&#x27;criterion&#x27;: [&#x27;gini&#x27;, &#x27;entropy&#x27;],\n",
       "                         &#x27;max_depth&#x27;: [3, 5, 7, None],\n",
       "                         &#x27;min_samples_leaf&#x27;: [1, 2, 4],\n",
       "                         &#x27;min_samples_split&#x27;: [2, 5, 10]},\n",
       "             verbose=5)</pre></div></div></div><div class=\"sk-parallel\"><div class=\"sk-parallel-item\"><div class=\"sk-item\"><div class=\"sk-label-container\"><div class=\"sk-label sk-toggleable\"><input class=\"sk-toggleable__control sk-hidden--visually\" id=\"sk-estimator-id-10\" type=\"checkbox\" ><label for=\"sk-estimator-id-10\" class=\"sk-toggleable__label sk-toggleable__label-arrow\">estimator: DecisionTreeClassifier</label><div class=\"sk-toggleable__content\"><pre>DecisionTreeClassifier()</pre></div></div></div><div class=\"sk-serial\"><div class=\"sk-item\"><div class=\"sk-estimator sk-toggleable\"><input class=\"sk-toggleable__control sk-hidden--visually\" id=\"sk-estimator-id-11\" type=\"checkbox\" ><label for=\"sk-estimator-id-11\" class=\"sk-toggleable__label sk-toggleable__label-arrow\">DecisionTreeClassifier</label><div class=\"sk-toggleable__content\"><pre>DecisionTreeClassifier()</pre></div></div></div></div></div></div></div></div></div></div>"
      ],
      "text/plain": [
       "GridSearchCV(cv=5, estimator=DecisionTreeClassifier(),\n",
       "             param_grid={'criterion': ['gini', 'entropy'],\n",
       "                         'max_depth': [3, 5, 7, None],\n",
       "                         'min_samples_leaf': [1, 2, 4],\n",
       "                         'min_samples_split': [2, 5, 10]},\n",
       "             verbose=5)"
      ]
     },
     "execution_count": 70,
     "metadata": {},
     "output_type": "execute_result"
    }
   ],
   "source": [
    "grid_search = GridSearchCV(DecisionTreeClassifier(), param_grid, cv =5 , verbose = 5)\n",
    "grid_search.fit(x_train, y_train)"
   ]
  },
  {
   "cell_type": "code",
   "execution_count": 72,
   "id": "2947a4cf",
   "metadata": {},
   "outputs": [
    {
     "name": "stdout",
     "output_type": "stream",
     "text": [
      "best parameters for my model = {'criterion': 'gini', 'max_depth': 5, 'min_samples_leaf': 1, 'min_samples_split': 2}\n",
      "cross validation score of the model = 0.9333333333333333\n"
     ]
    }
   ],
   "source": [
    "print(f\"best parameters for my model = {grid_search.best_params_}\")\n",
    "print(f\"cross validation score of the model = {grid_search.best_score_}\")"
   ]
  },
  {
   "cell_type": "code",
   "execution_count": 73,
   "id": "69b24a62",
   "metadata": {},
   "outputs": [],
   "source": [
    "from sklearn.datasets import load_breast_cancer"
   ]
  },
  {
   "cell_type": "code",
   "execution_count": 74,
   "id": "663eaa13",
   "metadata": {},
   "outputs": [],
   "source": [
    "cancer = load_breast_cancer()"
   ]
  },
  {
   "cell_type": "code",
   "execution_count": 75,
   "id": "03913fc4",
   "metadata": {},
   "outputs": [],
   "source": [
    "x = pd.DataFrame(cancer.data, columns = cancer.feature_names)\n",
    "y = pd.DataFrame(cancer.target, columns = ['labels'])"
   ]
  },
  {
   "cell_type": "code",
   "execution_count": 77,
   "id": "d6a6e7af",
   "metadata": {},
   "outputs": [
    {
     "data": {
      "text/plain": [
       "(569, 30)"
      ]
     },
     "execution_count": 77,
     "metadata": {},
     "output_type": "execute_result"
    }
   ],
   "source": [
    "x.shape"
   ]
  },
  {
   "cell_type": "code",
   "execution_count": 78,
   "id": "22fdef48",
   "metadata": {},
   "outputs": [],
   "source": [
    "import pandas as pd\n",
    "import numpy as np\n",
    "import matplotlib.pyplot as plt\n",
    "from sklearn.datasets import load_iris\n",
    "from sklearn.model_selection import train_test_split, GridSearchCV, cross_val_score\n",
    "from sklearn.metrics import classification_report, f1_score, accuracy_score"
   ]
  },
  {
   "cell_type": "code",
   "execution_count": 79,
   "id": "68f25559",
   "metadata": {},
   "outputs": [],
   "source": [
    "x_train, x_test, y_train, y_test = train_test_split(x, y, test_size=0.2, random_state=3232)"
   ]
  },
  {
   "cell_type": "code",
   "execution_count": 81,
   "id": "4e5113fc",
   "metadata": {},
   "outputs": [
    {
     "data": {
      "text/html": [
       "<style>#sk-container-id-10 {color: black;}#sk-container-id-10 pre{padding: 0;}#sk-container-id-10 div.sk-toggleable {background-color: white;}#sk-container-id-10 label.sk-toggleable__label {cursor: pointer;display: block;width: 100%;margin-bottom: 0;padding: 0.3em;box-sizing: border-box;text-align: center;}#sk-container-id-10 label.sk-toggleable__label-arrow:before {content: \"▸\";float: left;margin-right: 0.25em;color: #696969;}#sk-container-id-10 label.sk-toggleable__label-arrow:hover:before {color: black;}#sk-container-id-10 div.sk-estimator:hover label.sk-toggleable__label-arrow:before {color: black;}#sk-container-id-10 div.sk-toggleable__content {max-height: 0;max-width: 0;overflow: hidden;text-align: left;background-color: #f0f8ff;}#sk-container-id-10 div.sk-toggleable__content pre {margin: 0.2em;color: black;border-radius: 0.25em;background-color: #f0f8ff;}#sk-container-id-10 input.sk-toggleable__control:checked~div.sk-toggleable__content {max-height: 200px;max-width: 100%;overflow: auto;}#sk-container-id-10 input.sk-toggleable__control:checked~label.sk-toggleable__label-arrow:before {content: \"▾\";}#sk-container-id-10 div.sk-estimator input.sk-toggleable__control:checked~label.sk-toggleable__label {background-color: #d4ebff;}#sk-container-id-10 div.sk-label input.sk-toggleable__control:checked~label.sk-toggleable__label {background-color: #d4ebff;}#sk-container-id-10 input.sk-hidden--visually {border: 0;clip: rect(1px 1px 1px 1px);clip: rect(1px, 1px, 1px, 1px);height: 1px;margin: -1px;overflow: hidden;padding: 0;position: absolute;width: 1px;}#sk-container-id-10 div.sk-estimator {font-family: monospace;background-color: #f0f8ff;border: 1px dotted black;border-radius: 0.25em;box-sizing: border-box;margin-bottom: 0.5em;}#sk-container-id-10 div.sk-estimator:hover {background-color: #d4ebff;}#sk-container-id-10 div.sk-parallel-item::after {content: \"\";width: 100%;border-bottom: 1px solid gray;flex-grow: 1;}#sk-container-id-10 div.sk-label:hover label.sk-toggleable__label {background-color: #d4ebff;}#sk-container-id-10 div.sk-serial::before {content: \"\";position: absolute;border-left: 1px solid gray;box-sizing: border-box;top: 0;bottom: 0;left: 50%;z-index: 0;}#sk-container-id-10 div.sk-serial {display: flex;flex-direction: column;align-items: center;background-color: white;padding-right: 0.2em;padding-left: 0.2em;position: relative;}#sk-container-id-10 div.sk-item {position: relative;z-index: 1;}#sk-container-id-10 div.sk-parallel {display: flex;align-items: stretch;justify-content: center;background-color: white;position: relative;}#sk-container-id-10 div.sk-item::before, #sk-container-id-10 div.sk-parallel-item::before {content: \"\";position: absolute;border-left: 1px solid gray;box-sizing: border-box;top: 0;bottom: 0;left: 50%;z-index: -1;}#sk-container-id-10 div.sk-parallel-item {display: flex;flex-direction: column;z-index: 1;position: relative;background-color: white;}#sk-container-id-10 div.sk-parallel-item:first-child::after {align-self: flex-end;width: 50%;}#sk-container-id-10 div.sk-parallel-item:last-child::after {align-self: flex-start;width: 50%;}#sk-container-id-10 div.sk-parallel-item:only-child::after {width: 0;}#sk-container-id-10 div.sk-dashed-wrapped {border: 1px dashed gray;margin: 0 0.4em 0.5em 0.4em;box-sizing: border-box;padding-bottom: 0.4em;background-color: white;}#sk-container-id-10 div.sk-label label {font-family: monospace;font-weight: bold;display: inline-block;line-height: 1.2em;}#sk-container-id-10 div.sk-label-container {text-align: center;}#sk-container-id-10 div.sk-container {/* jupyter's `normalize.less` sets `[hidden] { display: none; }` but bootstrap.min.css set `[hidden] { display: none !important; }` so we also need the `!important` here to be able to override the default hidden behavior on the sphinx rendered scikit-learn.org. See: https://github.com/scikit-learn/scikit-learn/issues/21755 */display: inline-block !important;position: relative;}#sk-container-id-10 div.sk-text-repr-fallback {display: none;}</style><div id=\"sk-container-id-10\" class=\"sk-top-container\"><div class=\"sk-text-repr-fallback\"><pre>DecisionTreeClassifier()</pre><b>In a Jupyter environment, please rerun this cell to show the HTML representation or trust the notebook. <br />On GitHub, the HTML representation is unable to render, please try loading this page with nbviewer.org.</b></div><div class=\"sk-container\" hidden><div class=\"sk-item\"><div class=\"sk-estimator sk-toggleable\"><input class=\"sk-toggleable__control sk-hidden--visually\" id=\"sk-estimator-id-12\" type=\"checkbox\" checked><label for=\"sk-estimator-id-12\" class=\"sk-toggleable__label sk-toggleable__label-arrow\">DecisionTreeClassifier</label><div class=\"sk-toggleable__content\"><pre>DecisionTreeClassifier()</pre></div></div></div></div></div>"
      ],
      "text/plain": [
       "DecisionTreeClassifier()"
      ]
     },
     "execution_count": 81,
     "metadata": {},
     "output_type": "execute_result"
    }
   ],
   "source": [
    "model = DecisionTreeClassifier()\n",
    "model"
   ]
  },
  {
   "cell_type": "code",
   "execution_count": 82,
   "id": "ec939728",
   "metadata": {},
   "outputs": [
    {
     "data": {
      "text/html": [
       "<style>#sk-container-id-11 {color: black;}#sk-container-id-11 pre{padding: 0;}#sk-container-id-11 div.sk-toggleable {background-color: white;}#sk-container-id-11 label.sk-toggleable__label {cursor: pointer;display: block;width: 100%;margin-bottom: 0;padding: 0.3em;box-sizing: border-box;text-align: center;}#sk-container-id-11 label.sk-toggleable__label-arrow:before {content: \"▸\";float: left;margin-right: 0.25em;color: #696969;}#sk-container-id-11 label.sk-toggleable__label-arrow:hover:before {color: black;}#sk-container-id-11 div.sk-estimator:hover label.sk-toggleable__label-arrow:before {color: black;}#sk-container-id-11 div.sk-toggleable__content {max-height: 0;max-width: 0;overflow: hidden;text-align: left;background-color: #f0f8ff;}#sk-container-id-11 div.sk-toggleable__content pre {margin: 0.2em;color: black;border-radius: 0.25em;background-color: #f0f8ff;}#sk-container-id-11 input.sk-toggleable__control:checked~div.sk-toggleable__content {max-height: 200px;max-width: 100%;overflow: auto;}#sk-container-id-11 input.sk-toggleable__control:checked~label.sk-toggleable__label-arrow:before {content: \"▾\";}#sk-container-id-11 div.sk-estimator input.sk-toggleable__control:checked~label.sk-toggleable__label {background-color: #d4ebff;}#sk-container-id-11 div.sk-label input.sk-toggleable__control:checked~label.sk-toggleable__label {background-color: #d4ebff;}#sk-container-id-11 input.sk-hidden--visually {border: 0;clip: rect(1px 1px 1px 1px);clip: rect(1px, 1px, 1px, 1px);height: 1px;margin: -1px;overflow: hidden;padding: 0;position: absolute;width: 1px;}#sk-container-id-11 div.sk-estimator {font-family: monospace;background-color: #f0f8ff;border: 1px dotted black;border-radius: 0.25em;box-sizing: border-box;margin-bottom: 0.5em;}#sk-container-id-11 div.sk-estimator:hover {background-color: #d4ebff;}#sk-container-id-11 div.sk-parallel-item::after {content: \"\";width: 100%;border-bottom: 1px solid gray;flex-grow: 1;}#sk-container-id-11 div.sk-label:hover label.sk-toggleable__label {background-color: #d4ebff;}#sk-container-id-11 div.sk-serial::before {content: \"\";position: absolute;border-left: 1px solid gray;box-sizing: border-box;top: 0;bottom: 0;left: 50%;z-index: 0;}#sk-container-id-11 div.sk-serial {display: flex;flex-direction: column;align-items: center;background-color: white;padding-right: 0.2em;padding-left: 0.2em;position: relative;}#sk-container-id-11 div.sk-item {position: relative;z-index: 1;}#sk-container-id-11 div.sk-parallel {display: flex;align-items: stretch;justify-content: center;background-color: white;position: relative;}#sk-container-id-11 div.sk-item::before, #sk-container-id-11 div.sk-parallel-item::before {content: \"\";position: absolute;border-left: 1px solid gray;box-sizing: border-box;top: 0;bottom: 0;left: 50%;z-index: -1;}#sk-container-id-11 div.sk-parallel-item {display: flex;flex-direction: column;z-index: 1;position: relative;background-color: white;}#sk-container-id-11 div.sk-parallel-item:first-child::after {align-self: flex-end;width: 50%;}#sk-container-id-11 div.sk-parallel-item:last-child::after {align-self: flex-start;width: 50%;}#sk-container-id-11 div.sk-parallel-item:only-child::after {width: 0;}#sk-container-id-11 div.sk-dashed-wrapped {border: 1px dashed gray;margin: 0 0.4em 0.5em 0.4em;box-sizing: border-box;padding-bottom: 0.4em;background-color: white;}#sk-container-id-11 div.sk-label label {font-family: monospace;font-weight: bold;display: inline-block;line-height: 1.2em;}#sk-container-id-11 div.sk-label-container {text-align: center;}#sk-container-id-11 div.sk-container {/* jupyter's `normalize.less` sets `[hidden] { display: none; }` but bootstrap.min.css set `[hidden] { display: none !important; }` so we also need the `!important` here to be able to override the default hidden behavior on the sphinx rendered scikit-learn.org. See: https://github.com/scikit-learn/scikit-learn/issues/21755 */display: inline-block !important;position: relative;}#sk-container-id-11 div.sk-text-repr-fallback {display: none;}</style><div id=\"sk-container-id-11\" class=\"sk-top-container\"><div class=\"sk-text-repr-fallback\"><pre>DecisionTreeClassifier()</pre><b>In a Jupyter environment, please rerun this cell to show the HTML representation or trust the notebook. <br />On GitHub, the HTML representation is unable to render, please try loading this page with nbviewer.org.</b></div><div class=\"sk-container\" hidden><div class=\"sk-item\"><div class=\"sk-estimator sk-toggleable\"><input class=\"sk-toggleable__control sk-hidden--visually\" id=\"sk-estimator-id-13\" type=\"checkbox\" checked><label for=\"sk-estimator-id-13\" class=\"sk-toggleable__label sk-toggleable__label-arrow\">DecisionTreeClassifier</label><div class=\"sk-toggleable__content\"><pre>DecisionTreeClassifier()</pre></div></div></div></div></div>"
      ],
      "text/plain": [
       "DecisionTreeClassifier()"
      ]
     },
     "execution_count": 82,
     "metadata": {},
     "output_type": "execute_result"
    }
   ],
   "source": [
    "model.fit(x_train, y_train)"
   ]
  },
  {
   "cell_type": "code",
   "execution_count": 83,
   "id": "4a827a70",
   "metadata": {},
   "outputs": [],
   "source": [
    "prediction = model.predict(x_test)"
   ]
  },
  {
   "cell_type": "code",
   "execution_count": 84,
   "id": "cf83e93e",
   "metadata": {},
   "outputs": [
    {
     "data": {
      "text/plain": [
       "1.0"
      ]
     },
     "execution_count": 84,
     "metadata": {},
     "output_type": "execute_result"
    }
   ],
   "source": [
    "model.score(x_train, y_train)"
   ]
  },
  {
   "cell_type": "code",
   "execution_count": 85,
   "id": "93761ee2",
   "metadata": {},
   "outputs": [
    {
     "data": {
      "text/plain": [
       "0.956140350877193"
      ]
     },
     "execution_count": 85,
     "metadata": {},
     "output_type": "execute_result"
    }
   ],
   "source": [
    "model.score(x_test, y_test)"
   ]
  },
  {
   "cell_type": "code",
   "execution_count": 86,
   "id": "335988d5",
   "metadata": {},
   "outputs": [
    {
     "data": {
      "text/plain": [
       "0.956140350877193"
      ]
     },
     "execution_count": 86,
     "metadata": {},
     "output_type": "execute_result"
    }
   ],
   "source": [
    "accuracy_score(y_test, prediction)"
   ]
  },
  {
   "cell_type": "code",
   "execution_count": 88,
   "id": "1291d376",
   "metadata": {},
   "outputs": [
    {
     "name": "stdout",
     "output_type": "stream",
     "text": [
      "              precision    recall  f1-score   support\n",
      "\n",
      "           0       0.96      0.93      0.95        46\n",
      "           1       0.96      0.97      0.96        68\n",
      "\n",
      "    accuracy                           0.96       114\n",
      "   macro avg       0.96      0.95      0.95       114\n",
      "weighted avg       0.96      0.96      0.96       114\n",
      "\n"
     ]
    }
   ],
   "source": [
    "print(classification_report(y_test, prediction))"
   ]
  },
  {
   "cell_type": "code",
   "execution_count": 89,
   "id": "27cc60eb",
   "metadata": {},
   "outputs": [],
   "source": [
    "from sklearn.metrics import confusion_matrix"
   ]
  },
  {
   "cell_type": "code",
   "execution_count": 93,
   "id": "22a2a052",
   "metadata": {},
   "outputs": [],
   "source": [
    "cn = confusion_matrix(y_test, prediction)"
   ]
  },
  {
   "cell_type": "code",
   "execution_count": 94,
   "id": "f9a7f906",
   "metadata": {},
   "outputs": [
    {
     "data": {
      "text/plain": [
       "<Axes: >"
      ]
     },
     "execution_count": 94,
     "metadata": {},
     "output_type": "execute_result"
    },
    {
     "data": {
      "image/png": "[encoded data removed]",
      "text/plain": [
       "<Figure size 640x480 with 2 Axes>"
      ]
     },
     "metadata": {},
     "output_type": "display_data"
    }
   ],
   "source": [
    "import seaborn as sns\n",
    "\n",
    "sns.heatmap(cn, annot = True)"
   ]
  },
  {
   "cell_type": "code",
   "execution_count": 102,
   "id": "412ad2c3",
   "metadata": {},
   "outputs": [],
   "source": [
    "\n",
    "param_grid = {\n",
    "    'criterion': ['gini', 'entropy'],\n",
    "    'max_depth': [1, 2, 4],\n",
    "    'min_samples_split': [1, 2, 3],\n",
    "    'min_samples_leaf': [1, 2, 4]\n",
    "}\n"
   ]
  },
  {
   "cell_type": "code",
   "execution_count": 103,
   "id": "d0277475",
   "metadata": {},
   "outputs": [
    {
     "name": "stdout",
     "output_type": "stream",
     "text": [
      "Fitting 5 folds for each of 54 candidates, totalling 270 fits\n",
      "[CV 1/5] END criterion=gini, max_depth=1, min_samples_leaf=1, min_samples_split=1;, score=nan total time=   0.0s\n",
      "[CV 2/5] END criterion=gini, max_depth=1, min_samples_leaf=1, min_samples_split=1;, score=nan total time=   0.0s\n",
      "[CV 3/5] END criterion=gini, max_depth=1, min_samples_leaf=1, min_samples_split=1;, score=nan total time=   0.0s\n",
      "[CV 4/5] END criterion=gini, max_depth=1, min_samples_leaf=1, min_samples_split=1;, score=nan total time=   0.0s\n",
      "[CV 5/5] END criterion=gini, max_depth=1, min_samples_leaf=1, min_samples_split=1;, score=nan total time=   0.0s\n",
      "[CV 1/5] END criterion=gini, max_depth=1, min_samples_leaf=1, min_samples_split=2;, score=0.879 total time=   0.0s\n",
      "[CV 2/5] END criterion=gini, max_depth=1, min_samples_leaf=1, min_samples_split=2;, score=0.890 total time=   0.0s\n",
      "[CV 3/5] END criterion=gini, max_depth=1, min_samples_leaf=1, min_samples_split=2;, score=0.890 total time=   0.0s\n",
      "[CV 4/5] END criterion=gini, max_depth=1, min_samples_leaf=1, min_samples_split=2;, score=0.901 total time=   0.0s\n",
      "[CV 5/5] END criterion=gini, max_depth=1, min_samples_leaf=1, min_samples_split=2;, score=0.879 total time=   0.0s\n",
      "[CV 1/5] END criterion=gini, max_depth=1, min_samples_leaf=1, min_samples_split=3;, score=0.879 total time=   0.0s\n",
      "[CV 2/5] END criterion=gini, max_depth=1, min_samples_leaf=1, min_samples_split=3;, score=0.890 total time=   0.0s\n",
      "[CV 3/5] END criterion=gini, max_depth=1, min_samples_leaf=1, min_samples_split=3;, score=0.890 total time=   0.0s\n",
      "[CV 4/5] END criterion=gini, max_depth=1, min_samples_leaf=1, min_samples_split=3;, score=0.901 total time=   0.0s\n",
      "[CV 5/5] END criterion=gini, max_depth=1, min_samples_leaf=1, min_samples_split=3;, score=0.879 total time=   0.0s\n",
      "[CV 1/5] END criterion=gini, max_depth=1, min_samples_leaf=2, min_samples_split=1;, score=nan total time=   0.0s\n",
      "[CV 2/5] END criterion=gini, max_depth=1, min_samples_leaf=2, min_samples_split=1;, score=nan total time=   0.0s\n",
      "[CV 3/5] END criterion=gini, max_depth=1, min_samples_leaf=2, min_samples_split=1;, score=nan total time=   0.0s\n",
      "[CV 4/5] END criterion=gini, max_depth=1, min_samples_leaf=2, min_samples_split=1;, score=nan total time=   0.0s\n",
      "[CV 5/5] END criterion=gini, max_depth=1, min_samples_leaf=2, min_samples_split=1;, score=nan total time=   0.0s\n",
      "[CV 1/5] END criterion=gini, max_depth=1, min_samples_leaf=2, min_samples_split=2;, score=0.879 total time=   0.0s\n",
      "[CV 2/5] END criterion=gini, max_depth=1, min_samples_leaf=2, min_samples_split=2;, score=0.890 total time=   0.0s\n",
      "[CV 3/5] END criterion=gini, max_depth=1, min_samples_leaf=2, min_samples_split=2;, score=0.890 total time=   0.0s\n",
      "[CV 4/5] END criterion=gini, max_depth=1, min_samples_leaf=2, min_samples_split=2;, score=0.901 total time=   0.0s\n",
      "[CV 5/5] END criterion=gini, max_depth=1, min_samples_leaf=2, min_samples_split=2;, score=0.879 total time=   0.0s\n",
      "[CV 1/5] END criterion=gini, max_depth=1, min_samples_leaf=2, min_samples_split=3;, score=0.879 total time=   0.0s\n",
      "[CV 2/5] END criterion=gini, max_depth=1, min_samples_leaf=2, min_samples_split=3;, score=0.890 total time=   0.0s\n",
      "[CV 3/5] END criterion=gini, max_depth=1, min_samples_leaf=2, min_samples_split=3;, score=0.890 total time=   0.0s\n",
      "[CV 4/5] END criterion=gini, max_depth=1, min_samples_leaf=2, min_samples_split=3;, score=0.901 total time=   0.0s\n",
      "[CV 5/5] END criterion=gini, max_depth=1, min_samples_leaf=2, min_samples_split=3;, score=0.879 total time=   0.0s\n",
      "[CV 1/5] END criterion=gini, max_depth=1, min_samples_leaf=4, min_samples_split=1;, score=nan total time=   0.0s\n",
      "[CV 2/5] END criterion=gini, max_depth=1, min_samples_leaf=4, min_samples_split=1;, score=nan total time=   0.0s\n",
      "[CV 3/5] END criterion=gini, max_depth=1, min_samples_leaf=4, min_samples_split=1;, score=nan total time=   0.0s\n",
      "[CV 4/5] END criterion=gini, max_depth=1, min_samples_leaf=4, min_samples_split=1;, score=nan total time=   0.0s\n",
      "[CV 5/5] END criterion=gini, max_depth=1, min_samples_leaf=4, min_samples_split=1;, score=nan total time=   0.0s\n",
      "[CV 1/5] END criterion=gini, max_depth=1, min_samples_leaf=4, min_samples_split=2;, score=0.879 total time=   0.0s\n",
      "[CV 2/5] END criterion=gini, max_depth=1, min_samples_leaf=4, min_samples_split=2;, score=0.890 total time=   0.0s\n",
      "[CV 3/5] END criterion=gini, max_depth=1, min_samples_leaf=4, min_samples_split=2;, score=0.890 total time=   0.0s\n",
      "[CV 4/5] END criterion=gini, max_depth=1, min_samples_leaf=4, min_samples_split=2;, score=0.901 total time=   0.0s\n",
      "[CV 5/5] END criterion=gini, max_depth=1, min_samples_leaf=4, min_samples_split=2;, score=0.879 total time=   0.0s\n",
      "[CV 1/5] END criterion=gini, max_depth=1, min_samples_leaf=4, min_samples_split=3;, score=0.879 total time=   0.0s\n",
      "[CV 2/5] END criterion=gini, max_depth=1, min_samples_leaf=4, min_samples_split=3;, score=0.890 total time=   0.0s\n",
      "[CV 3/5] END criterion=gini, max_depth=1, min_samples_leaf=4, min_samples_split=3;, score=0.890 total time=   0.0s\n",
      "[CV 4/5] END criterion=gini, max_depth=1, min_samples_leaf=4, min_samples_split=3;, score=0.901 total time=   0.0s\n",
      "[CV 5/5] END criterion=gini, max_depth=1, min_samples_leaf=4, min_samples_split=3;, score=0.879 total time=   0.0s\n",
      "[CV 1/5] END criterion=gini, max_depth=2, min_samples_leaf=1, min_samples_split=1;, score=nan total time=   0.0s\n",
      "[CV 2/5] END criterion=gini, max_depth=2, min_samples_leaf=1, min_samples_split=1;, score=nan total time=   0.0s\n",
      "[CV 3/5] END criterion=gini, max_depth=2, min_samples_leaf=1, min_samples_split=1;, score=nan total time=   0.0s\n",
      "[CV 4/5] END criterion=gini, max_depth=2, min_samples_leaf=1, min_samples_split=1;, score=nan total time=   0.0s\n",
      "[CV 5/5] END criterion=gini, max_depth=2, min_samples_leaf=1, min_samples_split=1;, score=nan total time=   0.0s\n",
      "[CV 1/5] END criterion=gini, max_depth=2, min_samples_leaf=1, min_samples_split=2;, score=0.912 total time=   0.0s\n",
      "[CV 2/5] END criterion=gini, max_depth=2, min_samples_leaf=1, min_samples_split=2;, score=0.879 total time=   0.0s\n",
      "[CV 3/5] END criterion=gini, max_depth=2, min_samples_leaf=1, min_samples_split=2;, score=0.912 total time=   0.0s\n",
      "[CV 4/5] END criterion=gini, max_depth=2, min_samples_leaf=1, min_samples_split=2;, score=0.956 total time=   0.0s\n",
      "[CV 5/5] END criterion=gini, max_depth=2, min_samples_leaf=1, min_samples_split=2;, score=0.923 total time=   0.0s\n",
      "[CV 1/5] END criterion=gini, max_depth=2, min_samples_leaf=1, min_samples_split=3;, score=0.923 total time=   0.0s\n",
      "[CV 2/5] END criterion=gini, max_depth=2, min_samples_leaf=1, min_samples_split=3;, score=0.879 total time=   0.0s\n",
      "[CV 3/5] END criterion=gini, max_depth=2, min_samples_leaf=1, min_samples_split=3;, score=0.912 total time=   0.0s\n",
      "[CV 4/5] END criterion=gini, max_depth=2, min_samples_leaf=1, min_samples_split=3;, score=0.956 total time=   0.0s\n",
      "[CV 5/5] END criterion=gini, max_depth=2, min_samples_leaf=1, min_samples_split=3;, score=0.923 total time=   0.0s\n",
      "[CV 1/5] END criterion=gini, max_depth=2, min_samples_leaf=2, min_samples_split=1;, score=nan total time=   0.0s\n",
      "[CV 2/5] END criterion=gini, max_depth=2, min_samples_leaf=2, min_samples_split=1;, score=nan total time=   0.0s\n",
      "[CV 3/5] END criterion=gini, max_depth=2, min_samples_leaf=2, min_samples_split=1;, score=nan total time=   0.0s\n",
      "[CV 4/5] END criterion=gini, max_depth=2, min_samples_leaf=2, min_samples_split=1;, score=nan total time=   0.0s\n",
      "[CV 5/5] END criterion=gini, max_depth=2, min_samples_leaf=2, min_samples_split=1;, score=nan total time=   0.0s\n",
      "[CV 1/5] END criterion=gini, max_depth=2, min_samples_leaf=2, min_samples_split=2;, score=0.923 total time=   0.0s\n",
      "[CV 2/5] END criterion=gini, max_depth=2, min_samples_leaf=2, min_samples_split=2;, score=0.879 total time=   0.0s\n",
      "[CV 3/5] END criterion=gini, max_depth=2, min_samples_leaf=2, min_samples_split=2;, score=0.912 total time=   0.0s\n",
      "[CV 4/5] END criterion=gini, max_depth=2, min_samples_leaf=2, min_samples_split=2;, score=0.956 total time=   0.0s\n",
      "[CV 5/5] END criterion=gini, max_depth=2, min_samples_leaf=2, min_samples_split=2;, score=0.923 total time=   0.0s\n",
      "[CV 1/5] END criterion=gini, max_depth=2, min_samples_leaf=2, min_samples_split=3;, score=0.912 total time=   0.0s\n",
      "[CV 2/5] END criterion=gini, max_depth=2, min_samples_leaf=2, min_samples_split=3;, score=0.879 total time=   0.0s\n"
     ]
    },
    {
     "name": "stdout",
     "output_type": "stream",
     "text": [
      "[CV 3/5] END criterion=gini, max_depth=2, min_samples_leaf=2, min_samples_split=3;, score=0.912 total time=   0.0s\n",
      "[CV 4/5] END criterion=gini, max_depth=2, min_samples_leaf=2, min_samples_split=3;, score=0.956 total time=   0.0s\n",
      "[CV 5/5] END criterion=gini, max_depth=2, min_samples_leaf=2, min_samples_split=3;, score=0.923 total time=   0.0s\n",
      "[CV 1/5] END criterion=gini, max_depth=2, min_samples_leaf=4, min_samples_split=1;, score=nan total time=   0.0s\n",
      "[CV 2/5] END criterion=gini, max_depth=2, min_samples_leaf=4, min_samples_split=1;, score=nan total time=   0.0s\n",
      "[CV 3/5] END criterion=gini, max_depth=2, min_samples_leaf=4, min_samples_split=1;, score=nan total time=   0.0s\n",
      "[CV 4/5] END criterion=gini, max_depth=2, min_samples_leaf=4, min_samples_split=1;, score=nan total time=   0.0s\n",
      "[CV 5/5] END criterion=gini, max_depth=2, min_samples_leaf=4, min_samples_split=1;, score=nan total time=   0.0s\n",
      "[CV 1/5] END criterion=gini, max_depth=2, min_samples_leaf=4, min_samples_split=2;, score=0.912 total time=   0.0s\n",
      "[CV 2/5] END criterion=gini, max_depth=2, min_samples_leaf=4, min_samples_split=2;, score=0.879 total time=   0.0s\n",
      "[CV 3/5] END criterion=gini, max_depth=2, min_samples_leaf=4, min_samples_split=2;, score=0.934 total time=   0.0s\n",
      "[CV 4/5] END criterion=gini, max_depth=2, min_samples_leaf=4, min_samples_split=2;, score=0.956 total time=   0.0s\n",
      "[CV 5/5] END criterion=gini, max_depth=2, min_samples_leaf=4, min_samples_split=2;, score=0.923 total time=   0.0s\n",
      "[CV 1/5] END criterion=gini, max_depth=2, min_samples_leaf=4, min_samples_split=3;, score=0.912 total time=   0.0s\n",
      "[CV 2/5] END criterion=gini, max_depth=2, min_samples_leaf=4, min_samples_split=3;, score=0.879 total time=   0.0s\n",
      "[CV 3/5] END criterion=gini, max_depth=2, min_samples_leaf=4, min_samples_split=3;, score=0.912 total time=   0.0s\n",
      "[CV 4/5] END criterion=gini, max_depth=2, min_samples_leaf=4, min_samples_split=3;, score=0.956 total time=   0.0s\n",
      "[CV 5/5] END criterion=gini, max_depth=2, min_samples_leaf=4, min_samples_split=3;, score=0.923 total time=   0.0s\n",
      "[CV 1/5] END criterion=gini, max_depth=4, min_samples_leaf=1, min_samples_split=1;, score=nan total time=   0.0s\n",
      "[CV 2/5] END criterion=gini, max_depth=4, min_samples_leaf=1, min_samples_split=1;, score=nan total time=   0.0s\n",
      "[CV 3/5] END criterion=gini, max_depth=4, min_samples_leaf=1, min_samples_split=1;, score=nan total time=   0.0s\n",
      "[CV 4/5] END criterion=gini, max_depth=4, min_samples_leaf=1, min_samples_split=1;, score=nan total time=   0.0s\n",
      "[CV 5/5] END criterion=gini, max_depth=4, min_samples_leaf=1, min_samples_split=1;, score=nan total time=   0.0s\n",
      "[CV 1/5] END criterion=gini, max_depth=4, min_samples_leaf=1, min_samples_split=2;, score=0.934 total time=   0.0s\n",
      "[CV 2/5] END criterion=gini, max_depth=4, min_samples_leaf=1, min_samples_split=2;, score=0.868 total time=   0.0s\n",
      "[CV 3/5] END criterion=gini, max_depth=4, min_samples_leaf=1, min_samples_split=2;, score=0.901 total time=   0.0s\n",
      "[CV 4/5] END criterion=gini, max_depth=4, min_samples_leaf=1, min_samples_split=2;, score=0.945 total time=   0.0s\n",
      "[CV 5/5] END criterion=gini, max_depth=4, min_samples_leaf=1, min_samples_split=2;, score=0.912 total time=   0.0s\n",
      "[CV 1/5] END criterion=gini, max_depth=4, min_samples_leaf=1, min_samples_split=3;, score=0.923 total time=   0.0s\n",
      "[CV 2/5] END criterion=gini, max_depth=4, min_samples_leaf=1, min_samples_split=3;, score=0.879 total time=   0.0s\n",
      "[CV 3/5] END criterion=gini, max_depth=4, min_samples_leaf=1, min_samples_split=3;, score=0.901 total time=   0.0s\n",
      "[CV 4/5] END criterion=gini, max_depth=4, min_samples_leaf=1, min_samples_split=3;, score=0.945 total time=   0.0s\n",
      "[CV 5/5] END criterion=gini, max_depth=4, min_samples_leaf=1, min_samples_split=3;, score=0.923 total time=   0.0s\n",
      "[CV 1/5] END criterion=gini, max_depth=4, min_samples_leaf=2, min_samples_split=1;, score=nan total time=   0.0s\n",
      "[CV 2/5] END criterion=gini, max_depth=4, min_samples_leaf=2, min_samples_split=1;, score=nan total time=   0.0s\n",
      "[CV 3/5] END criterion=gini, max_depth=4, min_samples_leaf=2, min_samples_split=1;, score=nan total time=   0.0s\n",
      "[CV 4/5] END criterion=gini, max_depth=4, min_samples_leaf=2, min_samples_split=1;, score=nan total time=   0.0s\n",
      "[CV 5/5] END criterion=gini, max_depth=4, min_samples_leaf=2, min_samples_split=1;, score=nan total time=   0.0s\n",
      "[CV 1/5] END criterion=gini, max_depth=4, min_samples_leaf=2, min_samples_split=2;, score=0.934 total time=   0.0s\n",
      "[CV 2/5] END criterion=gini, max_depth=4, min_samples_leaf=2, min_samples_split=2;, score=0.890 total time=   0.0s\n",
      "[CV 3/5] END criterion=gini, max_depth=4, min_samples_leaf=2, min_samples_split=2;, score=0.912 total time=   0.0s\n",
      "[CV 4/5] END criterion=gini, max_depth=4, min_samples_leaf=2, min_samples_split=2;, score=0.945 total time=   0.0s\n",
      "[CV 5/5] END criterion=gini, max_depth=4, min_samples_leaf=2, min_samples_split=2;, score=0.912 total time=   0.0s\n",
      "[CV 1/5] END criterion=gini, max_depth=4, min_samples_leaf=2, min_samples_split=3;, score=0.923 total time=   0.0s\n",
      "[CV 2/5] END criterion=gini, max_depth=4, min_samples_leaf=2, min_samples_split=3;, score=0.890 total time=   0.0s\n",
      "[CV 3/5] END criterion=gini, max_depth=4, min_samples_leaf=2, min_samples_split=3;, score=0.901 total time=   0.0s\n",
      "[CV 4/5] END criterion=gini, max_depth=4, min_samples_leaf=2, min_samples_split=3;, score=0.945 total time=   0.0s\n",
      "[CV 5/5] END criterion=gini, max_depth=4, min_samples_leaf=2, min_samples_split=3;, score=0.901 total time=   0.0s\n",
      "[CV 1/5] END criterion=gini, max_depth=4, min_samples_leaf=4, min_samples_split=1;, score=nan total time=   0.0s\n",
      "[CV 2/5] END criterion=gini, max_depth=4, min_samples_leaf=4, min_samples_split=1;, score=nan total time=   0.0s\n",
      "[CV 3/5] END criterion=gini, max_depth=4, min_samples_leaf=4, min_samples_split=1;, score=nan total time=   0.0s\n",
      "[CV 4/5] END criterion=gini, max_depth=4, min_samples_leaf=4, min_samples_split=1;, score=nan total time=   0.0s\n",
      "[CV 5/5] END criterion=gini, max_depth=4, min_samples_leaf=4, min_samples_split=1;, score=nan total time=   0.0s\n",
      "[CV 1/5] END criterion=gini, max_depth=4, min_samples_leaf=4, min_samples_split=2;, score=0.934 total time=   0.0s\n",
      "[CV 2/5] END criterion=gini, max_depth=4, min_samples_leaf=4, min_samples_split=2;, score=0.868 total time=   0.0s\n",
      "[CV 3/5] END criterion=gini, max_depth=4, min_samples_leaf=4, min_samples_split=2;, score=0.934 total time=   0.0s\n",
      "[CV 4/5] END criterion=gini, max_depth=4, min_samples_leaf=4, min_samples_split=2;, score=0.967 total time=   0.0s\n",
      "[CV 5/5] END criterion=gini, max_depth=4, min_samples_leaf=4, min_samples_split=2;, score=0.912 total time=   0.0s\n",
      "[CV 1/5] END criterion=gini, max_depth=4, min_samples_leaf=4, min_samples_split=3;, score=0.934 total time=   0.0s\n",
      "[CV 2/5] END criterion=gini, max_depth=4, min_samples_leaf=4, min_samples_split=3;, score=0.879 total time=   0.0s\n",
      "[CV 3/5] END criterion=gini, max_depth=4, min_samples_leaf=4, min_samples_split=3;, score=0.923 total time=   0.0s\n",
      "[CV 4/5] END criterion=gini, max_depth=4, min_samples_leaf=4, min_samples_split=3;, score=0.967 total time=   0.0s\n",
      "[CV 5/5] END criterion=gini, max_depth=4, min_samples_leaf=4, min_samples_split=3;, score=0.901 total time=   0.0s\n",
      "[CV 1/5] END criterion=entropy, max_depth=1, min_samples_leaf=1, min_samples_split=1;, score=nan total time=   0.0s\n",
      "[CV 2/5] END criterion=entropy, max_depth=1, min_samples_leaf=1, min_samples_split=1;, score=nan total time=   0.0s\n",
      "[CV 3/5] END criterion=entropy, max_depth=1, min_samples_leaf=1, min_samples_split=1;, score=nan total time=   0.0s\n",
      "[CV 4/5] END criterion=entropy, max_depth=1, min_samples_leaf=1, min_samples_split=1;, score=nan total time=   0.0s\n",
      "[CV 5/5] END criterion=entropy, max_depth=1, min_samples_leaf=1, min_samples_split=1;, score=nan total time=   0.0s\n",
      "[CV 1/5] END criterion=entropy, max_depth=1, min_samples_leaf=1, min_samples_split=2;, score=0.879 total time=   0.0s\n",
      "[CV 2/5] END criterion=entropy, max_depth=1, min_samples_leaf=1, min_samples_split=2;, score=0.890 total time=   0.0s\n",
      "[CV 3/5] END criterion=entropy, max_depth=1, min_samples_leaf=1, min_samples_split=2;, score=0.890 total time=   0.0s\n",
      "[CV 4/5] END criterion=entropy, max_depth=1, min_samples_leaf=1, min_samples_split=2;, score=0.923 total time=   0.0s\n",
      "[CV 5/5] END criterion=entropy, max_depth=1, min_samples_leaf=1, min_samples_split=2;, score=0.868 total time=   0.0s\n",
      "[CV 1/5] END criterion=entropy, max_depth=1, min_samples_leaf=1, min_samples_split=3;, score=0.879 total time=   0.0s\n"
     ]
    },
    {
     "name": "stdout",
     "output_type": "stream",
     "text": [
      "[CV 2/5] END criterion=entropy, max_depth=1, min_samples_leaf=1, min_samples_split=3;, score=0.890 total time=   0.0s\n",
      "[CV 3/5] END criterion=entropy, max_depth=1, min_samples_leaf=1, min_samples_split=3;, score=0.890 total time=   0.0s\n",
      "[CV 4/5] END criterion=entropy, max_depth=1, min_samples_leaf=1, min_samples_split=3;, score=0.923 total time=   0.0s\n",
      "[CV 5/5] END criterion=entropy, max_depth=1, min_samples_leaf=1, min_samples_split=3;, score=0.868 total time=   0.0s\n",
      "[CV 1/5] END criterion=entropy, max_depth=1, min_samples_leaf=2, min_samples_split=1;, score=nan total time=   0.0s\n",
      "[CV 2/5] END criterion=entropy, max_depth=1, min_samples_leaf=2, min_samples_split=1;, score=nan total time=   0.0s\n",
      "[CV 3/5] END criterion=entropy, max_depth=1, min_samples_leaf=2, min_samples_split=1;, score=nan total time=   0.0s\n",
      "[CV 4/5] END criterion=entropy, max_depth=1, min_samples_leaf=2, min_samples_split=1;, score=nan total time=   0.0s\n",
      "[CV 5/5] END criterion=entropy, max_depth=1, min_samples_leaf=2, min_samples_split=1;, score=nan total time=   0.0s\n",
      "[CV 1/5] END criterion=entropy, max_depth=1, min_samples_leaf=2, min_samples_split=2;, score=0.879 total time=   0.0s\n",
      "[CV 2/5] END criterion=entropy, max_depth=1, min_samples_leaf=2, min_samples_split=2;, score=0.890 total time=   0.0s\n",
      "[CV 3/5] END criterion=entropy, max_depth=1, min_samples_leaf=2, min_samples_split=2;, score=0.890 total time=   0.0s\n",
      "[CV 4/5] END criterion=entropy, max_depth=1, min_samples_leaf=2, min_samples_split=2;, score=0.923 total time=   0.0s\n",
      "[CV 5/5] END criterion=entropy, max_depth=1, min_samples_leaf=2, min_samples_split=2;, score=0.868 total time=   0.0s\n",
      "[CV 1/5] END criterion=entropy, max_depth=1, min_samples_leaf=2, min_samples_split=3;, score=0.879 total time=   0.0s\n",
      "[CV 2/5] END criterion=entropy, max_depth=1, min_samples_leaf=2, min_samples_split=3;, score=0.890 total time=   0.0s\n",
      "[CV 3/5] END criterion=entropy, max_depth=1, min_samples_leaf=2, min_samples_split=3;, score=0.890 total time=   0.0s\n",
      "[CV 4/5] END criterion=entropy, max_depth=1, min_samples_leaf=2, min_samples_split=3;, score=0.923 total time=   0.0s\n",
      "[CV 5/5] END criterion=entropy, max_depth=1, min_samples_leaf=2, min_samples_split=3;, score=0.868 total time=   0.0s\n",
      "[CV 1/5] END criterion=entropy, max_depth=1, min_samples_leaf=4, min_samples_split=1;, score=nan total time=   0.0s\n",
      "[CV 2/5] END criterion=entropy, max_depth=1, min_samples_leaf=4, min_samples_split=1;, score=nan total time=   0.0s\n",
      "[CV 3/5] END criterion=entropy, max_depth=1, min_samples_leaf=4, min_samples_split=1;, score=nan total time=   0.0s\n",
      "[CV 4/5] END criterion=entropy, max_depth=1, min_samples_leaf=4, min_samples_split=1;, score=nan total time=   0.0s\n",
      "[CV 5/5] END criterion=entropy, max_depth=1, min_samples_leaf=4, min_samples_split=1;, score=nan total time=   0.0s\n",
      "[CV 1/5] END criterion=entropy, max_depth=1, min_samples_leaf=4, min_samples_split=2;, score=0.879 total time=   0.0s\n",
      "[CV 2/5] END criterion=entropy, max_depth=1, min_samples_leaf=4, min_samples_split=2;, score=0.890 total time=   0.0s\n",
      "[CV 3/5] END criterion=entropy, max_depth=1, min_samples_leaf=4, min_samples_split=2;, score=0.890 total time=   0.0s\n",
      "[CV 4/5] END criterion=entropy, max_depth=1, min_samples_leaf=4, min_samples_split=2;, score=0.923 total time=   0.0s\n",
      "[CV 5/5] END criterion=entropy, max_depth=1, min_samples_leaf=4, min_samples_split=2;, score=0.868 total time=   0.0s\n",
      "[CV 1/5] END criterion=entropy, max_depth=1, min_samples_leaf=4, min_samples_split=3;, score=0.879 total time=   0.0s\n",
      "[CV 2/5] END criterion=entropy, max_depth=1, min_samples_leaf=4, min_samples_split=3;, score=0.890 total time=   0.0s\n",
      "[CV 3/5] END criterion=entropy, max_depth=1, min_samples_leaf=4, min_samples_split=3;, score=0.890 total time=   0.0s\n",
      "[CV 4/5] END criterion=entropy, max_depth=1, min_samples_leaf=4, min_samples_split=3;, score=0.923 total time=   0.0s\n",
      "[CV 5/5] END criterion=entropy, max_depth=1, min_samples_leaf=4, min_samples_split=3;, score=0.868 total time=   0.0s\n",
      "[CV 1/5] END criterion=entropy, max_depth=2, min_samples_leaf=1, min_samples_split=1;, score=nan total time=   0.0s\n",
      "[CV 2/5] END criterion=entropy, max_depth=2, min_samples_leaf=1, min_samples_split=1;, score=nan total time=   0.0s\n",
      "[CV 3/5] END criterion=entropy, max_depth=2, min_samples_leaf=1, min_samples_split=1;, score=nan total time=   0.0s\n",
      "[CV 4/5] END criterion=entropy, max_depth=2, min_samples_leaf=1, min_samples_split=1;, score=nan total time=   0.0s\n",
      "[CV 5/5] END criterion=entropy, max_depth=2, min_samples_leaf=1, min_samples_split=1;, score=nan total time=   0.0s\n",
      "[CV 1/5] END criterion=entropy, max_depth=2, min_samples_leaf=1, min_samples_split=2;, score=0.890 total time=   0.0s\n",
      "[CV 2/5] END criterion=entropy, max_depth=2, min_samples_leaf=1, min_samples_split=2;, score=0.890 total time=   0.0s\n",
      "[CV 3/5] END criterion=entropy, max_depth=2, min_samples_leaf=1, min_samples_split=2;, score=0.890 total time=   0.0s\n",
      "[CV 4/5] END criterion=entropy, max_depth=2, min_samples_leaf=1, min_samples_split=2;, score=0.934 total time=   0.0s\n",
      "[CV 5/5] END criterion=entropy, max_depth=2, min_samples_leaf=1, min_samples_split=2;, score=0.868 total time=   0.0s\n",
      "[CV 1/5] END criterion=entropy, max_depth=2, min_samples_leaf=1, min_samples_split=3;, score=0.890 total time=   0.0s\n",
      "[CV 2/5] END criterion=entropy, max_depth=2, min_samples_leaf=1, min_samples_split=3;, score=0.890 total time=   0.0s\n",
      "[CV 3/5] END criterion=entropy, max_depth=2, min_samples_leaf=1, min_samples_split=3;, score=0.890 total time=   0.0s\n",
      "[CV 4/5] END criterion=entropy, max_depth=2, min_samples_leaf=1, min_samples_split=3;, score=0.934 total time=   0.0s\n",
      "[CV 5/5] END criterion=entropy, max_depth=2, min_samples_leaf=1, min_samples_split=3;, score=0.868 total time=   0.0s\n",
      "[CV 1/5] END criterion=entropy, max_depth=2, min_samples_leaf=2, min_samples_split=1;, score=nan total time=   0.0s\n",
      "[CV 2/5] END criterion=entropy, max_depth=2, min_samples_leaf=2, min_samples_split=1;, score=nan total time=   0.0s\n",
      "[CV 3/5] END criterion=entropy, max_depth=2, min_samples_leaf=2, min_samples_split=1;, score=nan total time=   0.0s\n",
      "[CV 4/5] END criterion=entropy, max_depth=2, min_samples_leaf=2, min_samples_split=1;, score=nan total time=   0.0s\n",
      "[CV 5/5] END criterion=entropy, max_depth=2, min_samples_leaf=2, min_samples_split=1;, score=nan total time=   0.0s\n",
      "[CV 1/5] END criterion=entropy, max_depth=2, min_samples_leaf=2, min_samples_split=2;, score=0.912 total time=   0.0s\n",
      "[CV 2/5] END criterion=entropy, max_depth=2, min_samples_leaf=2, min_samples_split=2;, score=0.890 total time=   0.0s\n",
      "[CV 3/5] END criterion=entropy, max_depth=2, min_samples_leaf=2, min_samples_split=2;, score=0.890 total time=   0.0s\n",
      "[CV 4/5] END criterion=entropy, max_depth=2, min_samples_leaf=2, min_samples_split=2;, score=0.934 total time=   0.0s\n",
      "[CV 5/5] END criterion=entropy, max_depth=2, min_samples_leaf=2, min_samples_split=2;, score=0.868 total time=   0.0s\n",
      "[CV 1/5] END criterion=entropy, max_depth=2, min_samples_leaf=2, min_samples_split=3;, score=0.890 total time=   0.0s\n",
      "[CV 2/5] END criterion=entropy, max_depth=2, min_samples_leaf=2, min_samples_split=3;, score=0.890 total time=   0.0s\n",
      "[CV 3/5] END criterion=entropy, max_depth=2, min_samples_leaf=2, min_samples_split=3;, score=0.890 total time=   0.0s\n",
      "[CV 4/5] END criterion=entropy, max_depth=2, min_samples_leaf=2, min_samples_split=3;, score=0.934 total time=   0.0s\n",
      "[CV 5/5] END criterion=entropy, max_depth=2, min_samples_leaf=2, min_samples_split=3;, score=0.868 total time=   0.0s\n",
      "[CV 1/5] END criterion=entropy, max_depth=2, min_samples_leaf=4, min_samples_split=1;, score=nan total time=   0.0s\n",
      "[CV 2/5] END criterion=entropy, max_depth=2, min_samples_leaf=4, min_samples_split=1;, score=nan total time=   0.0s\n",
      "[CV 3/5] END criterion=entropy, max_depth=2, min_samples_leaf=4, min_samples_split=1;, score=nan total time=   0.0s\n",
      "[CV 4/5] END criterion=entropy, max_depth=2, min_samples_leaf=4, min_samples_split=1;, score=nan total time=   0.0s\n",
      "[CV 5/5] END criterion=entropy, max_depth=2, min_samples_leaf=4, min_samples_split=1;, score=nan total time=   0.0s\n",
      "[CV 1/5] END criterion=entropy, max_depth=2, min_samples_leaf=4, min_samples_split=2;, score=0.890 total time=   0.0s\n",
      "[CV 2/5] END criterion=entropy, max_depth=2, min_samples_leaf=4, min_samples_split=2;, score=0.890 total time=   0.0s\n",
      "[CV 3/5] END criterion=entropy, max_depth=2, min_samples_leaf=4, min_samples_split=2;, score=0.890 total time=   0.0s\n",
      "[CV 4/5] END criterion=entropy, max_depth=2, min_samples_leaf=4, min_samples_split=2;, score=0.934 total time=   0.0s\n",
      "[CV 5/5] END criterion=entropy, max_depth=2, min_samples_leaf=4, min_samples_split=2;, score=0.868 total time=   0.0s\n"
     ]
    },
    {
     "name": "stdout",
     "output_type": "stream",
     "text": [
      "[CV 1/5] END criterion=entropy, max_depth=2, min_samples_leaf=4, min_samples_split=3;, score=0.890 total time=   0.0s\n",
      "[CV 2/5] END criterion=entropy, max_depth=2, min_samples_leaf=4, min_samples_split=3;, score=0.890 total time=   0.0s\n",
      "[CV 3/5] END criterion=entropy, max_depth=2, min_samples_leaf=4, min_samples_split=3;, score=0.890 total time=   0.0s\n",
      "[CV 4/5] END criterion=entropy, max_depth=2, min_samples_leaf=4, min_samples_split=3;, score=0.934 total time=   0.0s\n",
      "[CV 5/5] END criterion=entropy, max_depth=2, min_samples_leaf=4, min_samples_split=3;, score=0.868 total time=   0.0s\n",
      "[CV 1/5] END criterion=entropy, max_depth=4, min_samples_leaf=1, min_samples_split=1;, score=nan total time=   0.0s\n",
      "[CV 2/5] END criterion=entropy, max_depth=4, min_samples_leaf=1, min_samples_split=1;, score=nan total time=   0.0s\n",
      "[CV 3/5] END criterion=entropy, max_depth=4, min_samples_leaf=1, min_samples_split=1;, score=nan total time=   0.0s\n",
      "[CV 4/5] END criterion=entropy, max_depth=4, min_samples_leaf=1, min_samples_split=1;, score=nan total time=   0.0s\n",
      "[CV 5/5] END criterion=entropy, max_depth=4, min_samples_leaf=1, min_samples_split=1;, score=nan total time=   0.0s\n",
      "[CV 1/5] END criterion=entropy, max_depth=4, min_samples_leaf=1, min_samples_split=2;, score=0.956 total time=   0.0s\n",
      "[CV 2/5] END criterion=entropy, max_depth=4, min_samples_leaf=1, min_samples_split=2;, score=0.923 total time=   0.0s\n",
      "[CV 3/5] END criterion=entropy, max_depth=4, min_samples_leaf=1, min_samples_split=2;, score=0.923 total time=   0.0s\n",
      "[CV 4/5] END criterion=entropy, max_depth=4, min_samples_leaf=1, min_samples_split=2;, score=0.956 total time=   0.0s\n",
      "[CV 5/5] END criterion=entropy, max_depth=4, min_samples_leaf=1, min_samples_split=2;, score=0.912 total time=   0.0s\n",
      "[CV 1/5] END criterion=entropy, max_depth=4, min_samples_leaf=1, min_samples_split=3;, score=0.967 total time=   0.0s\n",
      "[CV 2/5] END criterion=entropy, max_depth=4, min_samples_leaf=1, min_samples_split=3;, score=0.901 total time=   0.0s\n",
      "[CV 3/5] END criterion=entropy, max_depth=4, min_samples_leaf=1, min_samples_split=3;, score=0.912 total time=   0.0s\n",
      "[CV 4/5] END criterion=entropy, max_depth=4, min_samples_leaf=1, min_samples_split=3;, score=0.956 total time=   0.0s\n",
      "[CV 5/5] END criterion=entropy, max_depth=4, min_samples_leaf=1, min_samples_split=3;, score=0.912 total time=   0.0s\n",
      "[CV 1/5] END criterion=entropy, max_depth=4, min_samples_leaf=2, min_samples_split=1;, score=nan total time=   0.0s\n",
      "[CV 2/5] END criterion=entropy, max_depth=4, min_samples_leaf=2, min_samples_split=1;, score=nan total time=   0.0s\n",
      "[CV 3/5] END criterion=entropy, max_depth=4, min_samples_leaf=2, min_samples_split=1;, score=nan total time=   0.0s\n",
      "[CV 4/5] END criterion=entropy, max_depth=4, min_samples_leaf=2, min_samples_split=1;, score=nan total time=   0.0s\n",
      "[CV 5/5] END criterion=entropy, max_depth=4, min_samples_leaf=2, min_samples_split=1;, score=nan total time=   0.0s\n",
      "[CV 1/5] END criterion=entropy, max_depth=4, min_samples_leaf=2, min_samples_split=2;, score=0.967 total time=   0.0s\n",
      "[CV 2/5] END criterion=entropy, max_depth=4, min_samples_leaf=2, min_samples_split=2;, score=0.901 total time=   0.0s\n",
      "[CV 3/5] END criterion=entropy, max_depth=4, min_samples_leaf=2, min_samples_split=2;, score=0.912 total time=   0.0s\n",
      "[CV 4/5] END criterion=entropy, max_depth=4, min_samples_leaf=2, min_samples_split=2;, score=0.967 total time=   0.0s\n",
      "[CV 5/5] END criterion=entropy, max_depth=4, min_samples_leaf=2, min_samples_split=2;, score=0.912 total time=   0.0s\n",
      "[CV 1/5] END criterion=entropy, max_depth=4, min_samples_leaf=2, min_samples_split=3;, score=0.945 total time=   0.0s\n",
      "[CV 2/5] END criterion=entropy, max_depth=4, min_samples_leaf=2, min_samples_split=3;, score=0.890 total time=   0.0s\n",
      "[CV 3/5] END criterion=entropy, max_depth=4, min_samples_leaf=2, min_samples_split=3;, score=0.912 total time=   0.0s\n",
      "[CV 4/5] END criterion=entropy, max_depth=4, min_samples_leaf=2, min_samples_split=3;, score=0.967 total time=   0.0s\n",
      "[CV 5/5] END criterion=entropy, max_depth=4, min_samples_leaf=2, min_samples_split=3;, score=0.912 total time=   0.0s\n",
      "[CV 1/5] END criterion=entropy, max_depth=4, min_samples_leaf=4, min_samples_split=1;, score=nan total time=   0.0s\n",
      "[CV 2/5] END criterion=entropy, max_depth=4, min_samples_leaf=4, min_samples_split=1;, score=nan total time=   0.0s\n",
      "[CV 3/5] END criterion=entropy, max_depth=4, min_samples_leaf=4, min_samples_split=1;, score=nan total time=   0.0s\n",
      "[CV 4/5] END criterion=entropy, max_depth=4, min_samples_leaf=4, min_samples_split=1;, score=nan total time=   0.0s\n",
      "[CV 5/5] END criterion=entropy, max_depth=4, min_samples_leaf=4, min_samples_split=1;, score=nan total time=   0.0s\n",
      "[CV 1/5] END criterion=entropy, max_depth=4, min_samples_leaf=4, min_samples_split=2;, score=0.912 total time=   0.0s\n",
      "[CV 2/5] END criterion=entropy, max_depth=4, min_samples_leaf=4, min_samples_split=2;, score=0.901 total time=   0.0s\n",
      "[CV 3/5] END criterion=entropy, max_depth=4, min_samples_leaf=4, min_samples_split=2;, score=0.912 total time=   0.0s\n",
      "[CV 4/5] END criterion=entropy, max_depth=4, min_samples_leaf=4, min_samples_split=2;, score=0.978 total time=   0.0s\n",
      "[CV 5/5] END criterion=entropy, max_depth=4, min_samples_leaf=4, min_samples_split=2;, score=0.912 total time=   0.0s\n",
      "[CV 1/5] END criterion=entropy, max_depth=4, min_samples_leaf=4, min_samples_split=3;, score=0.934 total time=   0.0s\n",
      "[CV 2/5] END criterion=entropy, max_depth=4, min_samples_leaf=4, min_samples_split=3;, score=0.901 total time=   0.0s\n",
      "[CV 3/5] END criterion=entropy, max_depth=4, min_samples_leaf=4, min_samples_split=3;, score=0.912 total time=   0.0s\n",
      "[CV 4/5] END criterion=entropy, max_depth=4, min_samples_leaf=4, min_samples_split=3;, score=0.978 total time=   0.0s\n",
      "[CV 5/5] END criterion=entropy, max_depth=4, min_samples_leaf=4, min_samples_split=3;, score=0.912 total time=   0.0s\n"
     ]
    },
    {
     "name": "stderr",
     "output_type": "stream",
     "text": [
      "C:\\Users\\Lenovo\\anaconda3\\Lib\\site-packages\\sklearn\\model_selection\\_validation.py:425: FitFailedWarning: \n",
      "90 fits failed out of a total of 270.\n",
      "The score on these train-test partitions for these parameters will be set to nan.\n",
      "If these failures are not expected, you can try to debug them by setting error_score='raise'.\n",
      "\n",
      "Below are more details about the failures:\n",
      "--------------------------------------------------------------------------------\n",
      "90 fits failed with the following error:\n",
      "Traceback (most recent call last):\n",
      "  File \"C:\\Users\\Lenovo\\anaconda3\\Lib\\site-packages\\sklearn\\model_selection\\_validation.py\", line 732, in _fit_and_score\n",
      "    estimator.fit(X_train, y_train, **fit_params)\n",
      "  File \"C:\\Users\\Lenovo\\anaconda3\\Lib\\site-packages\\sklearn\\base.py\", line 1144, in wrapper\n",
      "    estimator._validate_params()\n",
      "  File \"C:\\Users\\Lenovo\\anaconda3\\Lib\\site-packages\\sklearn\\base.py\", line 637, in _validate_params\n",
      "    validate_parameter_constraints(\n",
      "  File \"C:\\Users\\Lenovo\\anaconda3\\Lib\\site-packages\\sklearn\\utils\\_param_validation.py\", line 95, in validate_parameter_constraints\n",
      "    raise InvalidParameterError(\n",
      "sklearn.utils._param_validation.InvalidParameterError: The 'min_samples_split' parameter of DecisionTreeClassifier must be an int in the range [2, inf) or a float in the range (0.0, 1.0]. Got 1 instead.\n",
      "\n",
      "  warnings.warn(some_fits_failed_message, FitFailedWarning)\n",
      "C:\\Users\\Lenovo\\anaconda3\\Lib\\site-packages\\sklearn\\model_selection\\_search.py:976: UserWarning: One or more of the test scores are non-finite: [       nan 0.88791209 0.88791209        nan 0.88791209 0.88791209\n",
      "        nan 0.88791209 0.88791209        nan 0.91648352 0.91868132\n",
      "        nan 0.91868132 0.91648352        nan 0.92087912 0.91648352\n",
      "        nan 0.91208791 0.91428571        nan 0.91868132 0.91208791\n",
      "        nan 0.92307692 0.92087912        nan 0.89010989 0.89010989\n",
      "        nan 0.89010989 0.89010989        nan 0.89010989 0.89010989\n",
      "        nan 0.89450549 0.89450549        nan 0.8989011  0.89450549\n",
      "        nan 0.89450549 0.89450549        nan 0.93406593 0.92967033\n",
      "        nan 0.93186813 0.92527473        nan 0.92307692 0.92747253]\n",
      "  warnings.warn(\n"
     ]
    },
    {
     "data": {
      "text/html": [
       "<style>#sk-container-id-14 {color: black;}#sk-container-id-14 pre{padding: 0;}#sk-container-id-14 div.sk-toggleable {background-color: white;}#sk-container-id-14 label.sk-toggleable__label {cursor: pointer;display: block;width: 100%;margin-bottom: 0;padding: 0.3em;box-sizing: border-box;text-align: center;}#sk-container-id-14 label.sk-toggleable__label-arrow:before {content: \"▸\";float: left;margin-right: 0.25em;color: #696969;}#sk-container-id-14 label.sk-toggleable__label-arrow:hover:before {color: black;}#sk-container-id-14 div.sk-estimator:hover label.sk-toggleable__label-arrow:before {color: black;}#sk-container-id-14 div.sk-toggleable__content {max-height: 0;max-width: 0;overflow: hidden;text-align: left;background-color: #f0f8ff;}#sk-container-id-14 div.sk-toggleable__content pre {margin: 0.2em;color: black;border-radius: 0.25em;background-color: #f0f8ff;}#sk-container-id-14 input.sk-toggleable__control:checked~div.sk-toggleable__content {max-height: 200px;max-width: 100%;overflow: auto;}#sk-container-id-14 input.sk-toggleable__control:checked~label.sk-toggleable__label-arrow:before {content: \"▾\";}#sk-container-id-14 div.sk-estimator input.sk-toggleable__control:checked~label.sk-toggleable__label {background-color: #d4ebff;}#sk-container-id-14 div.sk-label input.sk-toggleable__control:checked~label.sk-toggleable__label {background-color: #d4ebff;}#sk-container-id-14 input.sk-hidden--visually {border: 0;clip: rect(1px 1px 1px 1px);clip: rect(1px, 1px, 1px, 1px);height: 1px;margin: -1px;overflow: hidden;padding: 0;position: absolute;width: 1px;}#sk-container-id-14 div.sk-estimator {font-family: monospace;background-color: #f0f8ff;border: 1px dotted black;border-radius: 0.25em;box-sizing: border-box;margin-bottom: 0.5em;}#sk-container-id-14 div.sk-estimator:hover {background-color: #d4ebff;}#sk-container-id-14 div.sk-parallel-item::after {content: \"\";width: 100%;border-bottom: 1px solid gray;flex-grow: 1;}#sk-container-id-14 div.sk-label:hover label.sk-toggleable__label {background-color: #d4ebff;}#sk-container-id-14 div.sk-serial::before {content: \"\";position: absolute;border-left: 1px solid gray;box-sizing: border-box;top: 0;bottom: 0;left: 50%;z-index: 0;}#sk-container-id-14 div.sk-serial {display: flex;flex-direction: column;align-items: center;background-color: white;padding-right: 0.2em;padding-left: 0.2em;position: relative;}#sk-container-id-14 div.sk-item {position: relative;z-index: 1;}#sk-container-id-14 div.sk-parallel {display: flex;align-items: stretch;justify-content: center;background-color: white;position: relative;}#sk-container-id-14 div.sk-item::before, #sk-container-id-14 div.sk-parallel-item::before {content: \"\";position: absolute;border-left: 1px solid gray;box-sizing: border-box;top: 0;bottom: 0;left: 50%;z-index: -1;}#sk-container-id-14 div.sk-parallel-item {display: flex;flex-direction: column;z-index: 1;position: relative;background-color: white;}#sk-container-id-14 div.sk-parallel-item:first-child::after {align-self: flex-end;width: 50%;}#sk-container-id-14 div.sk-parallel-item:last-child::after {align-self: flex-start;width: 50%;}#sk-container-id-14 div.sk-parallel-item:only-child::after {width: 0;}#sk-container-id-14 div.sk-dashed-wrapped {border: 1px dashed gray;margin: 0 0.4em 0.5em 0.4em;box-sizing: border-box;padding-bottom: 0.4em;background-color: white;}#sk-container-id-14 div.sk-label label {font-family: monospace;font-weight: bold;display: inline-block;line-height: 1.2em;}#sk-container-id-14 div.sk-label-container {text-align: center;}#sk-container-id-14 div.sk-container {/* jupyter's `normalize.less` sets `[hidden] { display: none; }` but bootstrap.min.css set `[hidden] { display: none !important; }` so we also need the `!important` here to be able to override the default hidden behavior on the sphinx rendered scikit-learn.org. See: https://github.com/scikit-learn/scikit-learn/issues/21755 */display: inline-block !important;position: relative;}#sk-container-id-14 div.sk-text-repr-fallback {display: none;}</style><div id=\"sk-container-id-14\" class=\"sk-top-container\"><div class=\"sk-text-repr-fallback\"><pre>GridSearchCV(estimator=DecisionTreeClassifier(),\n",
       "             param_grid={&#x27;criterion&#x27;: [&#x27;gini&#x27;, &#x27;entropy&#x27;],\n",
       "                         &#x27;max_depth&#x27;: [1, 2, 4], &#x27;min_samples_leaf&#x27;: [1, 2, 4],\n",
       "                         &#x27;min_samples_split&#x27;: [1, 2, 3]},\n",
       "             verbose=5)</pre><b>In a Jupyter environment, please rerun this cell to show the HTML representation or trust the notebook. <br />On GitHub, the HTML representation is unable to render, please try loading this page with nbviewer.org.</b></div><div class=\"sk-container\" hidden><div class=\"sk-item sk-dashed-wrapped\"><div class=\"sk-label-container\"><div class=\"sk-label sk-toggleable\"><input class=\"sk-toggleable__control sk-hidden--visually\" id=\"sk-estimator-id-20\" type=\"checkbox\" ><label for=\"sk-estimator-id-20\" class=\"sk-toggleable__label sk-toggleable__label-arrow\">GridSearchCV</label><div class=\"sk-toggleable__content\"><pre>GridSearchCV(estimator=DecisionTreeClassifier(),\n",
       "             param_grid={&#x27;criterion&#x27;: [&#x27;gini&#x27;, &#x27;entropy&#x27;],\n",
       "                         &#x27;max_depth&#x27;: [1, 2, 4], &#x27;min_samples_leaf&#x27;: [1, 2, 4],\n",
       "                         &#x27;min_samples_split&#x27;: [1, 2, 3]},\n",
       "             verbose=5)</pre></div></div></div><div class=\"sk-parallel\"><div class=\"sk-parallel-item\"><div class=\"sk-item\"><div class=\"sk-label-container\"><div class=\"sk-label sk-toggleable\"><input class=\"sk-toggleable__control sk-hidden--visually\" id=\"sk-estimator-id-21\" type=\"checkbox\" ><label for=\"sk-estimator-id-21\" class=\"sk-toggleable__label sk-toggleable__label-arrow\">estimator: DecisionTreeClassifier</label><div class=\"sk-toggleable__content\"><pre>DecisionTreeClassifier()</pre></div></div></div><div class=\"sk-serial\"><div class=\"sk-item\"><div class=\"sk-estimator sk-toggleable\"><input class=\"sk-toggleable__control sk-hidden--visually\" id=\"sk-estimator-id-22\" type=\"checkbox\" ><label for=\"sk-estimator-id-22\" class=\"sk-toggleable__label sk-toggleable__label-arrow\">DecisionTreeClassifier</label><div class=\"sk-toggleable__content\"><pre>DecisionTreeClassifier()</pre></div></div></div></div></div></div></div></div></div></div>"
      ],
      "text/plain": [
       "GridSearchCV(estimator=DecisionTreeClassifier(),\n",
       "             param_grid={'criterion': ['gini', 'entropy'],\n",
       "                         'max_depth': [1, 2, 4], 'min_samples_leaf': [1, 2, 4],\n",
       "                         'min_samples_split': [1, 2, 3]},\n",
       "             verbose=5)"
      ]
     },
     "execution_count": 103,
     "metadata": {},
     "output_type": "execute_result"
    }
   ],
   "source": [
    "grid_search = GridSearchCV(DecisionTreeClassifier(),param_grid, verbose = 5)\n",
    "grid_search.fit(x_train, y_train)"
   ]
  },
  {
   "cell_type": "code",
   "execution_count": 105,
   "id": "f226f3b3",
   "metadata": {},
   "outputs": [
    {
     "data": {
      "text/html": [
       "<style>#sk-container-id-15 {color: black;}#sk-container-id-15 pre{padding: 0;}#sk-container-id-15 div.sk-toggleable {background-color: white;}#sk-container-id-15 label.sk-toggleable__label {cursor: pointer;display: block;width: 100%;margin-bottom: 0;padding: 0.3em;box-sizing: border-box;text-align: center;}#sk-container-id-15 label.sk-toggleable__label-arrow:before {content: \"▸\";float: left;margin-right: 0.25em;color: #696969;}#sk-container-id-15 label.sk-toggleable__label-arrow:hover:before {color: black;}#sk-container-id-15 div.sk-estimator:hover label.sk-toggleable__label-arrow:before {color: black;}#sk-container-id-15 div.sk-toggleable__content {max-height: 0;max-width: 0;overflow: hidden;text-align: left;background-color: #f0f8ff;}#sk-container-id-15 div.sk-toggleable__content pre {margin: 0.2em;color: black;border-radius: 0.25em;background-color: #f0f8ff;}#sk-container-id-15 input.sk-toggleable__control:checked~div.sk-toggleable__content {max-height: 200px;max-width: 100%;overflow: auto;}#sk-container-id-15 input.sk-toggleable__control:checked~label.sk-toggleable__label-arrow:before {content: \"▾\";}#sk-container-id-15 div.sk-estimator input.sk-toggleable__control:checked~label.sk-toggleable__label {background-color: #d4ebff;}#sk-container-id-15 div.sk-label input.sk-toggleable__control:checked~label.sk-toggleable__label {background-color: #d4ebff;}#sk-container-id-15 input.sk-hidden--visually {border: 0;clip: rect(1px 1px 1px 1px);clip: rect(1px, 1px, 1px, 1px);height: 1px;margin: -1px;overflow: hidden;padding: 0;position: absolute;width: 1px;}#sk-container-id-15 div.sk-estimator {font-family: monospace;background-color: #f0f8ff;border: 1px dotted black;border-radius: 0.25em;box-sizing: border-box;margin-bottom: 0.5em;}#sk-container-id-15 div.sk-estimator:hover {background-color: #d4ebff;}#sk-container-id-15 div.sk-parallel-item::after {content: \"\";width: 100%;border-bottom: 1px solid gray;flex-grow: 1;}#sk-container-id-15 div.sk-label:hover label.sk-toggleable__label {background-color: #d4ebff;}#sk-container-id-15 div.sk-serial::before {content: \"\";position: absolute;border-left: 1px solid gray;box-sizing: border-box;top: 0;bottom: 0;left: 50%;z-index: 0;}#sk-container-id-15 div.sk-serial {display: flex;flex-direction: column;align-items: center;background-color: white;padding-right: 0.2em;padding-left: 0.2em;position: relative;}#sk-container-id-15 div.sk-item {position: relative;z-index: 1;}#sk-container-id-15 div.sk-parallel {display: flex;align-items: stretch;justify-content: center;background-color: white;position: relative;}#sk-container-id-15 div.sk-item::before, #sk-container-id-15 div.sk-parallel-item::before {content: \"\";position: absolute;border-left: 1px solid gray;box-sizing: border-box;top: 0;bottom: 0;left: 50%;z-index: -1;}#sk-container-id-15 div.sk-parallel-item {display: flex;flex-direction: column;z-index: 1;position: relative;background-color: white;}#sk-container-id-15 div.sk-parallel-item:first-child::after {align-self: flex-end;width: 50%;}#sk-container-id-15 div.sk-parallel-item:last-child::after {align-self: flex-start;width: 50%;}#sk-container-id-15 div.sk-parallel-item:only-child::after {width: 0;}#sk-container-id-15 div.sk-dashed-wrapped {border: 1px dashed gray;margin: 0 0.4em 0.5em 0.4em;box-sizing: border-box;padding-bottom: 0.4em;background-color: white;}#sk-container-id-15 div.sk-label label {font-family: monospace;font-weight: bold;display: inline-block;line-height: 1.2em;}#sk-container-id-15 div.sk-label-container {text-align: center;}#sk-container-id-15 div.sk-container {/* jupyter's `normalize.less` sets `[hidden] { display: none; }` but bootstrap.min.css set `[hidden] { display: none !important; }` so we also need the `!important` here to be able to override the default hidden behavior on the sphinx rendered scikit-learn.org. See: https://github.com/scikit-learn/scikit-learn/issues/21755 */display: inline-block !important;position: relative;}#sk-container-id-15 div.sk-text-repr-fallback {display: none;}</style><div id=\"sk-container-id-15\" class=\"sk-top-container\"><div class=\"sk-text-repr-fallback\"><pre>DecisionTreeClassifier(criterion=&#x27;entropy&#x27;, max_depth=4)</pre><b>In a Jupyter environment, please rerun this cell to show the HTML representation or trust the notebook. <br />On GitHub, the HTML representation is unable to render, please try loading this page with nbviewer.org.</b></div><div class=\"sk-container\" hidden><div class=\"sk-item\"><div class=\"sk-estimator sk-toggleable\"><input class=\"sk-toggleable__control sk-hidden--visually\" id=\"sk-estimator-id-23\" type=\"checkbox\" checked><label for=\"sk-estimator-id-23\" class=\"sk-toggleable__label sk-toggleable__label-arrow\">DecisionTreeClassifier</label><div class=\"sk-toggleable__content\"><pre>DecisionTreeClassifier(criterion=&#x27;entropy&#x27;, max_depth=4)</pre></div></div></div></div></div>"
      ],
      "text/plain": [
       "DecisionTreeClassifier(criterion='entropy', max_depth=4)"
      ]
     },
     "execution_count": 105,
     "metadata": {},
     "output_type": "execute_result"
    }
   ],
   "source": [
    "grid_search.best_estimator_"
   ]
  },
  {
   "cell_type": "code",
   "execution_count": 106,
   "id": "3248e171",
   "metadata": {},
   "outputs": [],
   "source": [
    "model = DecisionTreeClassifier(criterion='entropy', max_depth=4)"
   ]
  },
  {
   "cell_type": "code",
   "execution_count": 107,
   "id": "88ea821a",
   "metadata": {},
   "outputs": [
    {
     "data": {
      "text/html": [
       "<style>#sk-container-id-16 {color: black;}#sk-container-id-16 pre{padding: 0;}#sk-container-id-16 div.sk-toggleable {background-color: white;}#sk-container-id-16 label.sk-toggleable__label {cursor: pointer;display: block;width: 100%;margin-bottom: 0;padding: 0.3em;box-sizing: border-box;text-align: center;}#sk-container-id-16 label.sk-toggleable__label-arrow:before {content: \"▸\";float: left;margin-right: 0.25em;color: #696969;}#sk-container-id-16 label.sk-toggleable__label-arrow:hover:before {color: black;}#sk-container-id-16 div.sk-estimator:hover label.sk-toggleable__label-arrow:before {color: black;}#sk-container-id-16 div.sk-toggleable__content {max-height: 0;max-width: 0;overflow: hidden;text-align: left;background-color: #f0f8ff;}#sk-container-id-16 div.sk-toggleable__content pre {margin: 0.2em;color: black;border-radius: 0.25em;background-color: #f0f8ff;}#sk-container-id-16 input.sk-toggleable__control:checked~div.sk-toggleable__content {max-height: 200px;max-width: 100%;overflow: auto;}#sk-container-id-16 input.sk-toggleable__control:checked~label.sk-toggleable__label-arrow:before {content: \"▾\";}#sk-container-id-16 div.sk-estimator input.sk-toggleable__control:checked~label.sk-toggleable__label {background-color: #d4ebff;}#sk-container-id-16 div.sk-label input.sk-toggleable__control:checked~label.sk-toggleable__label {background-color: #d4ebff;}#sk-container-id-16 input.sk-hidden--visually {border: 0;clip: rect(1px 1px 1px 1px);clip: rect(1px, 1px, 1px, 1px);height: 1px;margin: -1px;overflow: hidden;padding: 0;position: absolute;width: 1px;}#sk-container-id-16 div.sk-estimator {font-family: monospace;background-color: #f0f8ff;border: 1px dotted black;border-radius: 0.25em;box-sizing: border-box;margin-bottom: 0.5em;}#sk-container-id-16 div.sk-estimator:hover {background-color: #d4ebff;}#sk-container-id-16 div.sk-parallel-item::after {content: \"\";width: 100%;border-bottom: 1px solid gray;flex-grow: 1;}#sk-container-id-16 div.sk-label:hover label.sk-toggleable__label {background-color: #d4ebff;}#sk-container-id-16 div.sk-serial::before {content: \"\";position: absolute;border-left: 1px solid gray;box-sizing: border-box;top: 0;bottom: 0;left: 50%;z-index: 0;}#sk-container-id-16 div.sk-serial {display: flex;flex-direction: column;align-items: center;background-color: white;padding-right: 0.2em;padding-left: 0.2em;position: relative;}#sk-container-id-16 div.sk-item {position: relative;z-index: 1;}#sk-container-id-16 div.sk-parallel {display: flex;align-items: stretch;justify-content: center;background-color: white;position: relative;}#sk-container-id-16 div.sk-item::before, #sk-container-id-16 div.sk-parallel-item::before {content: \"\";position: absolute;border-left: 1px solid gray;box-sizing: border-box;top: 0;bottom: 0;left: 50%;z-index: -1;}#sk-container-id-16 div.sk-parallel-item {display: flex;flex-direction: column;z-index: 1;position: relative;background-color: white;}#sk-container-id-16 div.sk-parallel-item:first-child::after {align-self: flex-end;width: 50%;}#sk-container-id-16 div.sk-parallel-item:last-child::after {align-self: flex-start;width: 50%;}#sk-container-id-16 div.sk-parallel-item:only-child::after {width: 0;}#sk-container-id-16 div.sk-dashed-wrapped {border: 1px dashed gray;margin: 0 0.4em 0.5em 0.4em;box-sizing: border-box;padding-bottom: 0.4em;background-color: white;}#sk-container-id-16 div.sk-label label {font-family: monospace;font-weight: bold;display: inline-block;line-height: 1.2em;}#sk-container-id-16 div.sk-label-container {text-align: center;}#sk-container-id-16 div.sk-container {/* jupyter's `normalize.less` sets `[hidden] { display: none; }` but bootstrap.min.css set `[hidden] { display: none !important; }` so we also need the `!important` here to be able to override the default hidden behavior on the sphinx rendered scikit-learn.org. See: https://github.com/scikit-learn/scikit-learn/issues/21755 */display: inline-block !important;position: relative;}#sk-container-id-16 div.sk-text-repr-fallback {display: none;}</style><div id=\"sk-container-id-16\" class=\"sk-top-container\"><div class=\"sk-text-repr-fallback\"><pre>DecisionTreeClassifier(criterion=&#x27;entropy&#x27;, max_depth=4)</pre><b>In a Jupyter environment, please rerun this cell to show the HTML representation or trust the notebook. <br />On GitHub, the HTML representation is unable to render, please try loading this page with nbviewer.org.</b></div><div class=\"sk-container\" hidden><div class=\"sk-item\"><div class=\"sk-estimator sk-toggleable\"><input class=\"sk-toggleable__control sk-hidden--visually\" id=\"sk-estimator-id-24\" type=\"checkbox\" checked><label for=\"sk-estimator-id-24\" class=\"sk-toggleable__label sk-toggleable__label-arrow\">DecisionTreeClassifier</label><div class=\"sk-toggleable__content\"><pre>DecisionTreeClassifier(criterion=&#x27;entropy&#x27;, max_depth=4)</pre></div></div></div></div></div>"
      ],
      "text/plain": [
       "DecisionTreeClassifier(criterion='entropy', max_depth=4)"
      ]
     },
     "execution_count": 107,
     "metadata": {},
     "output_type": "execute_result"
    }
   ],
   "source": [
    "model.fit(x_train, y_train)"
   ]
  },
  {
   "cell_type": "code",
   "execution_count": 108,
   "id": "46944cad",
   "metadata": {},
   "outputs": [],
   "source": [
    "prediction = model.predict(x_test)"
   ]
  },
  {
   "cell_type": "code",
   "execution_count": 109,
   "id": "8e4fccda",
   "metadata": {},
   "outputs": [
    {
     "data": {
      "text/plain": [
       "0.9868131868131869"
      ]
     },
     "execution_count": 109,
     "metadata": {},
     "output_type": "execute_result"
    }
   ],
   "source": [
    "model.score(x_train, y_train)"
   ]
  },
  {
   "cell_type": "code",
   "execution_count": 110,
   "id": "cc744ec1",
   "metadata": {},
   "outputs": [
    {
     "data": {
      "text/plain": [
       "0.9473684210526315"
      ]
     },
     "execution_count": 110,
     "metadata": {},
     "output_type": "execute_result"
    }
   ],
   "source": [
    "model.score(x_test, y_test)"
   ]
  },
  {
   "cell_type": "code",
   "execution_count": 111,
   "id": "18e8c87e",
   "metadata": {},
   "outputs": [
    {
     "data": {
      "text/plain": [
       "0.9545454545454545"
      ]
     },
     "execution_count": 111,
     "metadata": {},
     "output_type": "execute_result"
    }
   ],
   "source": [
    "f1_score(y_test, prediction)"
   ]
  },
  {
   "cell_type": "code",
   "execution_count": 112,
   "id": "eaf71dec",
   "metadata": {},
   "outputs": [],
   "source": []
  },
  {
   "cell_type": "code",
   "execution_count": null,
   "id": "99ddd963",
   "metadata": {},
   "outputs": [],
   "source": []
  }
 ],
 "metadata": {
  "kernelspec": {
   "display_name": "Python 3 (ipykernel)",
   "language": "python",
   "name": "python3"
  },
  "language_info": {
   "codemirror_mode": {
    "name": "ipython",
    "version": 3
   },
   "file_extension": ".py",
   "mimetype": "text/x-python",
   "name": "python",
   "nbconvert_exporter": "python",
   "pygments_lexer": "ipython3",
   "version": "3.11.5"
  }
 },
 "nbformat": 4,
 "nbformat_minor": 5
}
