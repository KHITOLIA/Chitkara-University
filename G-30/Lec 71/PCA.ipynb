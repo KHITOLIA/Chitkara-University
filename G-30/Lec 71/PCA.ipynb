{
 "cells": [
  {
   "cell_type": "code",
   "execution_count": 38,
   "id": "b441e0cf",
   "metadata": {},
   "outputs": [],
   "source": [
    "import matplotlib.pyplot as plt\n",
    "import numpy as np\n"
   ]
  },
  {
   "cell_type": "code",
   "execution_count": 39,
   "id": "cbcd1c25",
   "metadata": {},
   "outputs": [],
   "source": [
    "x = np.random.randint(0, 100, 5000).reshape(1000, 5)"
   ]
  },
  {
   "cell_type": "code",
   "execution_count": 40,
   "id": "de13a3af",
   "metadata": {},
   "outputs": [
    {
     "data": {
      "text/plain": [
       "(1000, 5)"
      ]
     },
     "execution_count": 40,
     "metadata": {},
     "output_type": "execute_result"
    }
   ],
   "source": [
    "x.shape"
   ]
  },
  {
   "cell_type": "code",
   "execution_count": 41,
   "id": "74134bec",
   "metadata": {},
   "outputs": [],
   "source": [
    "covariance_mat = np.cov(x, rowvar = False)"
   ]
  },
  {
   "cell_type": "code",
   "execution_count": 42,
   "id": "caa990b1",
   "metadata": {},
   "outputs": [
    {
     "data": {
      "text/plain": [
       "(array([[821.23621121, -21.0449049 ,  18.76897898, -48.48567568,\n",
       "         -13.36143644],\n",
       "        [-21.0449049 , 830.55409009,   6.43974374,  31.52406807,\n",
       "         -17.50308308],\n",
       "        [ 18.76897898,   6.43974374, 816.6395956 ,  -6.19788188,\n",
       "          31.91454454],\n",
       "        [-48.48567568,  31.52406807,  -6.19788188, 825.24051652,\n",
       "          25.43486486],\n",
       "        [-13.36143644, -17.50308308,  31.91454454,  25.43486486,\n",
       "         846.00477978]]),\n",
       " (5, 5))"
      ]
     },
     "execution_count": 42,
     "metadata": {},
     "output_type": "execute_result"
    }
   ],
   "source": [
    "covariance_mat, covariance_mat.shape"
   ]
  },
  {
   "cell_type": "code",
   "execution_count": 45,
   "id": "88cccc49",
   "metadata": {},
   "outputs": [],
   "source": [
    "eigen_values, eigen_vector = np.linalg.eigh(covariance_mat)"
   ]
  },
  {
   "cell_type": "code",
   "execution_count": 46,
   "id": "107445f7",
   "metadata": {},
   "outputs": [
    {
     "name": "stdout",
     "output_type": "stream",
     "text": [
      "[769.59004041 773.31800902 827.31986422 870.30610821 899.14117134]\n",
      "[[-0.18566822 -0.72425364  0.30982563  0.13748165 -0.57104365]\n",
      " [ 0.44283887 -0.19340502  0.696038   -0.35722456  0.39295031]\n",
      " [-0.37437735  0.48009777  0.63290862  0.47743298 -0.02884717]\n",
      " [-0.65729022 -0.37448198 -0.06211251 -0.01717615  0.6508301 ]\n",
      " [ 0.44410833 -0.25946202 -0.12291415  0.79072887  0.30836217]]\n"
     ]
    }
   ],
   "source": [
    "print(eigen_values)\n",
    "print(eigen_vector)"
   ]
  },
  {
   "cell_type": "code",
   "execution_count": 47,
   "id": "1ef95788",
   "metadata": {},
   "outputs": [],
   "source": [
    "sort_index = np.argsort(eigen_values)"
   ]
  },
  {
   "cell_type": "code",
   "execution_count": 48,
   "id": "7915e3dc",
   "metadata": {},
   "outputs": [],
   "source": [
    "sort_index = sorted(sort_index, reverse=True)"
   ]
  },
  {
   "cell_type": "code",
   "execution_count": 49,
   "id": "330e3325",
   "metadata": {},
   "outputs": [
    {
     "data": {
      "text/plain": [
       "[4, 3, 2, 1, 0]"
      ]
     },
     "execution_count": 49,
     "metadata": {},
     "output_type": "execute_result"
    }
   ],
   "source": [
    "sort_index"
   ]
  },
  {
   "cell_type": "code",
   "execution_count": 50,
   "id": "f0e17614",
   "metadata": {},
   "outputs": [],
   "source": [
    "eigen_values = eigen_values[sort_index]\n",
    "eigen_vector = eigen_vector[sort_index, :]"
   ]
  },
  {
   "cell_type": "code",
   "execution_count": 51,
   "id": "765bb2a7",
   "metadata": {},
   "outputs": [
    {
     "data": {
      "text/plain": [
       "array([0.2172009 , 0.42743626, 0.62728765, 0.8140941 , 1.        ])"
      ]
     },
     "execution_count": 51,
     "metadata": {},
     "output_type": "execute_result"
    }
   ],
   "source": [
    "np.cumsum(sorted(eigen_values, reverse=True))/np.sum(eigen_values)"
   ]
  },
  {
   "cell_type": "code",
   "execution_count": 52,
   "id": "50f9d92a",
   "metadata": {},
   "outputs": [
    {
     "name": "stdout",
     "output_type": "stream",
     "text": [
      "[899.14117134 870.30610821 827.31986422 773.31800902 769.59004041]\n"
     ]
    }
   ],
   "source": [
    "print(eigen_values)"
   ]
  },
  {
   "cell_type": "code",
   "execution_count": 53,
   "id": "5a7ea6ee",
   "metadata": {},
   "outputs": [
    {
     "data": {
      "text/plain": [
       "(2, 5)"
      ]
     },
     "execution_count": 53,
     "metadata": {},
     "output_type": "execute_result"
    }
   ],
   "source": [
    "eigen_vector = eigen_vector[:2,: ]\n",
    "eigen_vector.shape"
   ]
  },
  {
   "cell_type": "code",
   "execution_count": 54,
   "id": "9c78190b",
   "metadata": {},
   "outputs": [],
   "source": [
    "x_reduced  = (np.dot(eigen_vector, x.T)).T"
   ]
  },
  {
   "cell_type": "code",
   "execution_count": null,
   "id": "b04ac4f1",
   "metadata": {},
   "outputs": [],
   "source": []
  },
  {
   "cell_type": "code",
   "execution_count": 56,
   "id": "7afa446b",
   "metadata": {},
   "outputs": [
    {
     "data": {
      "text/plain": [
       "(1000, 2)"
      ]
     },
     "execution_count": 56,
     "metadata": {},
     "output_type": "execute_result"
    }
   ],
   "source": [
    "x_reduced.shape"
   ]
  },
  {
   "cell_type": "code",
   "execution_count": 59,
   "id": "94aadd8f",
   "metadata": {},
   "outputs": [
    {
     "data": {
      "text/plain": [
       "<matplotlib.collections.PathCollection at 0x2b3b927f290>"
      ]
     },
     "execution_count": 59,
     "metadata": {},
     "output_type": "execute_result"
    },
    {
     "data": {
      "image/png": "[encoded data removed]",
      "text/plain": [
       "<Figure size 640x480 with 1 Axes>"
      ]
     },
     "metadata": {},
     "output_type": "display_data"
    }
   ],
   "source": [
    "plt.scatter(x_reduced[:, 0], x_reduced[:, 1], c = 'red')"
   ]
  },
  {
   "cell_type": "code",
   "execution_count": 61,
   "id": "ebbb84cc",
   "metadata": {},
   "outputs": [],
   "source": [
    "import matplotlib.pyplot as plt\n",
    "import numpy as np"
   ]
  },
  {
   "cell_type": "code",
   "execution_count": 62,
   "id": "d748362b",
   "metadata": {},
   "outputs": [],
   "source": [
    "x = np.random.randint(0, 100, 5000).reshape(1000, 5)"
   ]
  },
  {
   "cell_type": "code",
   "execution_count": 63,
   "id": "c36d4f42",
   "metadata": {},
   "outputs": [
    {
     "data": {
      "text/plain": [
       "(1000, 5)"
      ]
     },
     "execution_count": 63,
     "metadata": {},
     "output_type": "execute_result"
    }
   ],
   "source": [
    "x.shape"
   ]
  },
  {
   "cell_type": "code",
   "execution_count": 66,
   "id": "7b6e0385",
   "metadata": {},
   "outputs": [],
   "source": [
    "covariance_mat = np.cov(x, rowvar=False)"
   ]
  },
  {
   "cell_type": "code",
   "execution_count": 68,
   "id": "fbd5da75",
   "metadata": {},
   "outputs": [
    {
     "data": {
      "text/plain": [
       "(5, 5)"
      ]
     },
     "execution_count": 68,
     "metadata": {},
     "output_type": "execute_result"
    }
   ],
   "source": [
    "covariance_mat.shape"
   ]
  },
  {
   "cell_type": "code",
   "execution_count": 71,
   "id": "66585de1",
   "metadata": {},
   "outputs": [],
   "source": [
    "eigen_values , eigen_vector = np.linalg.eigh(covariance_mat)"
   ]
  },
  {
   "cell_type": "code",
   "execution_count": 73,
   "id": "47b68c09",
   "metadata": {},
   "outputs": [],
   "source": [
    "sort_index = np.argsort(eigen_values)"
   ]
  },
  {
   "cell_type": "code",
   "execution_count": 77,
   "id": "e5eb71ea",
   "metadata": {},
   "outputs": [],
   "source": [
    "sort_index = sorted(sort_index, reverse=True)"
   ]
  },
  {
   "cell_type": "code",
   "execution_count": 80,
   "id": "d12fac0d",
   "metadata": {},
   "outputs": [
    {
     "data": {
      "text/plain": [
       "898.8093219646997"
      ]
     },
     "execution_count": 80,
     "metadata": {},
     "output_type": "execute_result"
    }
   ],
   "source": [
    "sort_index\n",
    "eigen_values[4]"
   ]
  },
  {
   "cell_type": "code",
   "execution_count": 81,
   "id": "632d679f",
   "metadata": {},
   "outputs": [],
   "source": [
    "eigen_values = eigen_values[sort_index]"
   ]
  },
  {
   "cell_type": "code",
   "execution_count": 72,
   "id": "5dd05682",
   "metadata": {},
   "outputs": [
    {
     "name": "stdout",
     "output_type": "stream",
     "text": [
      "[749.84380515 795.92462332 805.99401996 834.84334272 898.80932196]\n",
      "[[ 0.56517465 -0.49159215 -0.03497158  0.49651023 -0.43722918]\n",
      " [ 0.40263874 -0.24374877  0.61383222 -0.1062013   0.62481987]\n",
      " [-0.626232   -0.1920196   0.61857571  0.37697225 -0.21498363]\n",
      " [ 0.35082138  0.64975636  0.47498233 -0.12859322 -0.46108199]\n",
      " [-0.05672297 -0.48976407  0.11722997 -0.76390745 -0.39951998]]\n"
     ]
    }
   ],
   "source": [
    "print(eigen_values)\n",
    "print(eigen_vector)"
   ]
  },
  {
   "cell_type": "code",
   "execution_count": 82,
   "id": "31955a6a",
   "metadata": {},
   "outputs": [
    {
     "data": {
      "text/plain": [
       "array([898.80932196, 834.84334272, 805.99401996, 795.92462332,\n",
       "       749.84380515])"
      ]
     },
     "execution_count": 82,
     "metadata": {},
     "output_type": "execute_result"
    }
   ],
   "source": [
    "eigen_values"
   ]
  },
  {
   "cell_type": "code",
   "execution_count": 83,
   "id": "5bda3df5",
   "metadata": {},
   "outputs": [],
   "source": [
    "eigen_values = eigen_values[sort_index]\n",
    "eigen_vector = eigen_vector[sort_index, :]"
   ]
  },
  {
   "cell_type": "code",
   "execution_count": 84,
   "id": "19aac819",
   "metadata": {},
   "outputs": [
    {
     "data": {
      "text/plain": [
       "array([[-0.05672297, -0.48976407,  0.11722997, -0.76390745, -0.39951998],\n",
       "       [ 0.35082138,  0.64975636,  0.47498233, -0.12859322, -0.46108199],\n",
       "       [-0.626232  , -0.1920196 ,  0.61857571,  0.37697225, -0.21498363],\n",
       "       [ 0.40263874, -0.24374877,  0.61383222, -0.1062013 ,  0.62481987],\n",
       "       [ 0.56517465, -0.49159215, -0.03497158,  0.49651023, -0.43722918]])"
      ]
     },
     "execution_count": 84,
     "metadata": {},
     "output_type": "execute_result"
    }
   ],
   "source": [
    "eigen_vector"
   ]
  },
  {
   "cell_type": "code",
   "execution_count": 85,
   "id": "12161884",
   "metadata": {},
   "outputs": [
    {
     "data": {
      "text/plain": [
       "array([0.22000441, 0.42435166, 0.62163736, 0.81645836, 1.        ])"
      ]
     },
     "execution_count": 85,
     "metadata": {},
     "output_type": "execute_result"
    }
   ],
   "source": [
    "np.cumsum(sorted(eigen_values, reverse=True))/np.sum(eigen_values)"
   ]
  },
  {
   "cell_type": "code",
   "execution_count": 86,
   "id": "25411b2e",
   "metadata": {},
   "outputs": [
    {
     "data": {
      "text/plain": [
       "(2, 5)"
      ]
     },
     "execution_count": 86,
     "metadata": {},
     "output_type": "execute_result"
    }
   ],
   "source": [
    "eigen_vector = eigen_vector[: 2, :]\n",
    "eigen_vector.shape"
   ]
  },
  {
   "cell_type": "code",
   "execution_count": 87,
   "id": "9ceac0b0",
   "metadata": {},
   "outputs": [],
   "source": [
    "x_reduced = (np.dot(eigen_vector, x.T)).T"
   ]
  },
  {
   "cell_type": "code",
   "execution_count": 88,
   "id": "788d29e8",
   "metadata": {},
   "outputs": [
    {
     "data": {
      "text/plain": [
       "(1000, 2)"
      ]
     },
     "execution_count": 88,
     "metadata": {},
     "output_type": "execute_result"
    }
   ],
   "source": [
    "x_reduced.shape"
   ]
  },
  {
   "cell_type": "code",
   "execution_count": 89,
   "id": "a4d61316",
   "metadata": {},
   "outputs": [
    {
     "data": {
      "text/plain": [
       "<matplotlib.collections.PathCollection at 0x2b3bc618e50>"
      ]
     },
     "execution_count": 89,
     "metadata": {},
     "output_type": "execute_result"
    },
    {
     "data": {
      "image/png": "[encoded data removed]",
      "text/plain": [
       "<Figure size 640x480 with 1 Axes>"
      ]
     },
     "metadata": {},
     "output_type": "display_data"
    }
   ],
   "source": [
    "plt.scatter(x_reduced[:, 0], x_reduced[:, 1], c = 'red')"
   ]
  },
  {
   "cell_type": "code",
   "execution_count": 90,
   "id": "2ad66f39",
   "metadata": {},
   "outputs": [],
   "source": [
    "from sklearn.datasets import load_breast_cancer"
   ]
  },
  {
   "cell_type": "code",
   "execution_count": 93,
   "id": "4e1c921c",
   "metadata": {},
   "outputs": [],
   "source": [
    "import pandas as pd\n",
    "cancer = load_breast_cancer()"
   ]
  },
  {
   "cell_type": "code",
   "execution_count": 94,
   "id": "f2a0138f",
   "metadata": {},
   "outputs": [],
   "source": [
    "x = pd.DataFrame(cancer.data, columns = cancer.feature_names)"
   ]
  },
  {
   "cell_type": "code",
   "execution_count": 96,
   "id": "caf8be0d",
   "metadata": {},
   "outputs": [],
   "source": [
    "covariance_mat = np.cov(x, rowvar=False)"
   ]
  },
  {
   "cell_type": "code",
   "execution_count": 97,
   "id": "0e47ac28",
   "metadata": {},
   "outputs": [
    {
     "data": {
      "text/plain": [
       "(30, 30)"
      ]
     },
     "execution_count": 97,
     "metadata": {},
     "output_type": "execute_result"
    }
   ],
   "source": [
    "covariance_mat.shape"
   ]
  },
  {
   "cell_type": "code",
   "execution_count": 98,
   "id": "9c0f1d2d",
   "metadata": {},
   "outputs": [
    {
     "name": "stdout",
     "output_type": "stream",
     "text": [
      "(30,)\n"
     ]
    }
   ],
   "source": [
    "eigen_values , eigen_vector = np.linalg.eigh(covariance_mat)\n",
    "print(eigen_values.shape)"
   ]
  },
  {
   "cell_type": "code",
   "execution_count": 105,
   "id": "dbd9d331",
   "metadata": {},
   "outputs": [],
   "source": [
    "sort_index = np.argsort(eigen_values)"
   ]
  },
  {
   "cell_type": "code",
   "execution_count": 107,
   "id": "c2d17cbc",
   "metadata": {},
   "outputs": [],
   "source": [
    "sort_index = sorted(sort_index, reverse=True)"
   ]
  },
  {
   "cell_type": "code",
   "execution_count": 108,
   "id": "71393318",
   "metadata": {
    "collapsed": true
   },
   "outputs": [
    {
     "data": {
      "text/plain": [
       "[29,\n",
       " 28,\n",
       " 27,\n",
       " 26,\n",
       " 25,\n",
       " 24,\n",
       " 23,\n",
       " 22,\n",
       " 21,\n",
       " 20,\n",
       " 19,\n",
       " 18,\n",
       " 17,\n",
       " 16,\n",
       " 15,\n",
       " 14,\n",
       " 13,\n",
       " 12,\n",
       " 11,\n",
       " 10,\n",
       " 9,\n",
       " 8,\n",
       " 7,\n",
       " 6,\n",
       " 5,\n",
       " 4,\n",
       " 3,\n",
       " 2,\n",
       " 1,\n",
       " 0]"
      ]
     },
     "execution_count": 108,
     "metadata": {},
     "output_type": "execute_result"
    }
   ],
   "source": [
    "sort_index"
   ]
  },
  {
   "cell_type": "code",
   "execution_count": 109,
   "id": "77aefc0e",
   "metadata": {},
   "outputs": [],
   "source": [
    "eigen_values = eigen_values[sort_index]"
   ]
  },
  {
   "cell_type": "code",
   "execution_count": 110,
   "id": "14284a76",
   "metadata": {},
   "outputs": [],
   "source": [
    "eigen_vector = eigen_vector[sort_index, :]"
   ]
  },
  {
   "cell_type": "code",
   "execution_count": 111,
   "id": "919bcc09",
   "metadata": {},
   "outputs": [
    {
     "data": {
      "text/plain": [
       "array([0.98204467, 0.99822116, 0.99977867, 0.9998996 , 0.99998788,\n",
       "       0.99999453, 0.99999854, 0.99999936, 0.99999971, 0.99999989,\n",
       "       0.99999996, 0.99999998, 0.99999999, 0.99999999, 1.        ,\n",
       "       1.        , 1.        , 1.        , 1.        , 1.        ,\n",
       "       1.        , 1.        , 1.        , 1.        , 1.        ,\n",
       "       1.        , 1.        , 1.        , 1.        , 1.        ])"
      ]
     },
     "execution_count": 111,
     "metadata": {},
     "output_type": "execute_result"
    }
   ],
   "source": [
    "np.cumsum(sorted(eigen_values, reverse=True))/np.sum(eigen_values)"
   ]
  },
  {
   "cell_type": "code",
   "execution_count": 112,
   "id": "3094db9b",
   "metadata": {},
   "outputs": [
    {
     "data": {
      "text/plain": [
       "(3, 30)"
      ]
     },
     "execution_count": 112,
     "metadata": {},
     "output_type": "execute_result"
    }
   ],
   "source": [
    "eigen_vector = eigen_vector[: 3, :]\n",
    "eigen_vector.shape"
   ]
  },
  {
   "cell_type": "code",
   "execution_count": 114,
   "id": "ca67c22c",
   "metadata": {},
   "outputs": [],
   "source": [
    "x_reduced = (np.dot(eigen_vector, x.T)).T"
   ]
  },
  {
   "cell_type": "code",
   "execution_count": 115,
   "id": "6dad4768",
   "metadata": {},
   "outputs": [
    {
     "data": {
      "text/plain": [
       "(569, 3)"
      ]
     },
     "execution_count": 115,
     "metadata": {},
     "output_type": "execute_result"
    }
   ],
   "source": [
    "x_reduced.shape"
   ]
  },
  {
   "cell_type": "code",
   "execution_count": 116,
   "id": "b5822484",
   "metadata": {},
   "outputs": [],
   "source": [
    "import plotly.express as plt"
   ]
  },
  {
   "cell_type": "code",
   "execution_count": 120,
   "id": "05d99a26",
   "metadata": {},
   "outputs": [
    {
     "data": {
      "application/vnd.plotly.v1+json": {
       "config": {
        "plotlyServerURL": "https://plot.ly"
       },
       "data": [
        {
         "hovertemplate": "x=%{x}<br>y=%{y}<br>z=%{z}<extra></extra>",
         "legendgroup": "",
         "marker": {
          "color": "#636efa",
          "symbol": "circle"
         },
         "mode": "markers",
         "name": "",
         "scene": "scene",
         "showlegend": false,
         "type": "scatter3d",
         "x": [
          -94.35892576144087,
          -127.73924292908592,
          -114.32463450369251,
          -28.913832437672312,
          -123.97917965314952,
          -38.32975678726592,
          -96.76603502838361,
          -49.12069162444522,
          -42.11782777328774,
          -37.62433565168877,
          -71.65010183198751,
          -70.04690762862886,
          -105.24679418917276,
          -69.41723830017445,
          -47.28465316940729,
          -56.57378664034067,
          -60.48092371759333,
          -71.1134283047142,
          -122.15191475034726,
          -47.49768592613489,
          -42.20772269396886,
          -19.163814259723978,
          -60.94490429181187,
          -136.95594135952055,
          -85.08481825727836,
          -84.21457272398237,
          -54.412029470582496,
          -103.21453934956838,
          -64.40594901918483,
          -87.84119660178527,
          -102.38083054805352,
          -35.736304044274775,
          -82.06607408690255,
          -109.57575050820707,
          -71.75592341224535,
          -78.54770503110139,
          -53.94828219166299,
          -43.293046862651174,
          -63.229592131668596,
          -46.30275605163226,
          -47.333872344943195,
          -27.885905209431424,
          -103.8138891654073,
          -45.44905385920761,
          -43.654289891575715,
          -100.4350571417088,
          -12.430154306085013,
          -44.1537983301685,
          -35.78486969389957,
          -46.85003913079286,
          -34.27376711120865,
          -47.837641741572426,
          -34.89514158380133,
          -96.49485329397788,
          -62.659539862234155,
          -32.27801924161358,
          -110.10326778983962,
          -56.81764684667105,
          -44.25555262292846,
          -14.488615152779172,
          -23.283708799082078,
          -14.492002023474809,
          -55.90593777723883,
          -18.192405465152092,
          -41.26349495883059,
          -57.49809519900744,
          -18.589349992883072,
          -30.665909979390293,
          -16.843944237338846,
          -41.157666410057644,
          -107.62297944444528,
          -16.306015287748107,
          -85.57930085209127,
          -48.94935423876916,
          -38.066433180155556,
          -74.77880135263354,
          -46.76558456834833,
          -94.50769580292076,
          -116.7300487553738,
          -41.283149729685036,
          -31.259469593604454,
          -41.97427991171047,
          -184.76785951641787,
          -105.46711415139985,
          -35.23540561624098,
          -101.1572098363312,
          -56.016870832408664,
          -100.56076625813095,
          -37.410878048374656,
          -56.20151234859969,
          -57.35871149333041,
          -63.61684341634279,
          -46.81462402910083,
          -46.38492738002907,
          -61.67780799664916,
          -120.78210071039095,
          -36.21117575848457,
          -21.282849738542325,
          -32.194898335744185,
          -54.90529803040519,
          -49.845993767874305,
          -7.495433930173288,
          -36.82370640708345,
          -21.05813480720126,
          -25.097333351907707,
          -43.69049982197109,
          -32.12938940275297,
          -37.20338702801577,
          -147.25995644660657,
          -30.739777263743967,
          -20.824627384519605,
          -38.57751232611176,
          -52.70755956471277,
          -24.476421241861587,
          -14.928965979859637,
          -35.03655047467704,
          -16.275711973539842,
          -59.20805298030393,
          -69.82563896146502,
          -90.9722452253858,
          -31.19315348563092,
          -101.46776847899285,
          -174.2734774981707,
          -54.59679487849694,
          -45.93479668242807,
          -49.69971390301282,
          -48.13965141937153,
          -107.94580389252145,
          -57.75636321449092,
          -112.04700707959306,
          -36.23633980973314,
          -66.4690643643636,
          -72.4045183312054,
          -67.14662547348655,
          -100.96834752536887,
          -41.56021929707299,
          -33.97124299280668,
          -30.849416488593192,
          -60.76312363790192,
          -29.486467318186044,
          -20.55873358025147,
          -73.84809817743842,
          -30.78502601700749,
          -41.792837913475196,
          -26.924208152757846,
          -34.05799900833165,
          -33.733416527464314,
          -59.94951384336375,
          -54.58328489644496,
          -49.41829139013309,
          -43.24759032513101,
          -12.382535637027202,
          -22.474201195530412,
          -29.384915450172333,
          -44.711711979070344,
          -36.92061308909086,
          -89.08185616453093,
          -80.08096551582435,
          -35.7400714883414,
          -28.19958961121047,
          -33.39447360204923,
          -110.27821333781144,
          -116.09186567332782,
          -37.17591101114984,
          -166.1486378050412,
          -59.892280870566566,
          -26.858960334621283,
          -81.2622608257088,
          -92.83804651783649,
          -59.466079274671266,
          -37.29710954644531,
          -48.503883084425674,
          -64.74165835568246,
          -28.53097540181216,
          -26.627420180951194,
          -14.892759328374902,
          -21.92319178018514,
          -73.86465626261062,
          -43.689020763219155,
          -42.020526284486394,
          -226.22290481105674,
          -124.11887417025014,
          -68.49656858396818,
          -31.27467305501769,
          -61.74661367719538,
          -23.829571189898246,
          -96.26430349323459,
          -33.10022011389337,
          -33.7876324937688,
          -37.2426802330058,
          -51.123773727288466,
          -42.68529443909621,
          -21.097656869479795,
          -38.86850297436123,
          -56.962710657923964,
          -42.49787270456231,
          -50.21653567414269,
          -95.57674078862776,
          -107.61486677757782,
          -54.928690643060555,
          -37.30141105934719,
          -86.84836545970741,
          -163.69841626315423,
          -51.32046638185684,
          -39.27917812024986,
          -62.68400706142837,
          -20.97261077732464,
          -83.25574519845806,
          -42.95650933320236,
          -63.6372465978132,
          -123.85975865909744,
          -33.765552593660296,
          -261.54064575720776,
          -86.77371989316678,
          -51.80856402757768,
          -48.11854006942228,
          -33.98189076180206,
          -23.911155546993,
          -118.62889241478099,
          -118.1791696797548,
          -47.48398142190695,
          -46.58430112625929,
          -22.63935514067734,
          -67.21453239643503,
          -45.82755072868321,
          -55.89529600313885,
          -24.125417782538108,
          -59.00187607307135,
          -40.46013616264247,
          -40.681418036431765,
          -80.39262906729962,
          -30.588282985754518,
          -29.992009257939223,
          -126.3508743973297,
          -19.725819916402617,
          -51.15319918735677,
          -165.9040231438878,
          -125.62245380797114,
          -53.0929811914082,
          -84.05579918110121,
          -48.58891945319064,
          -38.47113092504685,
          -29.65328688477444,
          -50.40485486648262,
          -107.95858547638191,
          -25.400575757550683,
          -44.88300642763433,
          -41.57511540870297,
          -25.963312109026653,
          -31.637965785845374,
          -132.30186586721896,
          -32.204425003769515,
          -114.65979603746555,
          -84.37975511651183,
          -111.01250811360603,
          -51.17090244292488,
          -114.62197435491923,
          -62.05621041757902,
          -69.81328999863857,
          -64.68458950790735,
          -122.61220300182147,
          -85.65983874495937,
          -87.94822956038792,
          -67.06288183300539,
          -85.2731477862464,
          -142.1930858668268,
          -26.021944130402048,
          -47.001858937610095,
          -42.093949065717446,
          -25.530649309711897,
          -54.1533971257562,
          -29.71003216020241,
          -146.04849769061062,
          -20.82280819094597,
          -92.46928361472047,
          -35.42282887272354,
          -30.962001536481246,
          -102.87469482791472,
          -48.40134805162033,
          -49.45250077204894,
          -107.14448362614382,
          -34.67812030640445,
          -107.1651980225725,
          -70.76818250728584,
          -42.38817193093152,
          -40.07013713939067,
          -35.0149109015216,
          -42.453149312383005,
          -30.753096024975253,
          -30.86319335040099,
          -56.639845686450855,
          -59.4644727052708,
          -42.037555865511834,
          -34.20254077930825,
          -39.732571507957,
          -49.03367641382892,
          -27.509684049130506,
          -35.19140853977403,
          -54.36796368512879,
          -24.895844637881474,
          -117.39331461278567,
          -38.05796798397594,
          -119.34699524091315,
          -24.52531484596738,
          -31.495066547361358,
          -32.85766597135999,
          -44.56428886742519,
          -16.628463308134243,
          -47.73769323286987,
          -44.61888892531189,
          -32.78824186892524,
          -57.96912161770315,
          -41.40651134507873,
          -31.771007398098078,
          -14.583691452220853,
          -39.041516789706975,
          -37.23875282591237,
          -95.17924665968887,
          -16.18984246707602,
          -39.22890854813251,
          -23.74984501216675,
          -121.84990786763777,
          -41.05300543286806,
          -119.77167335511402,
          -36.799398833879835,
          -39.747697427369665,
          -52.71377525885923,
          -35.715808784597996,
          -72.68076863685168,
          -74.16954621834647,
          -70.23142746889238,
          -42.008264205669164,
          -29.916941173759533,
          -30.219608685178486,
          -37.339275154933816,
          -85.06264492323272,
          -41.785565257421894,
          -103.06925999543058,
          -22.567890051424854,
          -174.4822174973885,
          -55.048026584107184,
          -19.526115844897888,
          -28.176487691505507,
          -112.65333751348268,
          -33.259854925916876,
          -23.567401362418416,
          -35.545029854622626,
          -58.025568711141446,
          -31.21169740111378,
          -33.57145231349038,
          -33.6673464924392,
          -66.19972997301332,
          -200.85400520870468,
          -63.83284946944313,
          -30.07715031979935,
          -39.44087671733571,
          -41.64160126298911,
          -50.25633742954968,
          -16.69545985223148,
          -20.322422381173425,
          -40.68778853564535,
          -45.498679435873065,
          -40.34440124974874,
          -75.18465105425327,
          -45.97152158705653,
          -123.5453812372039,
          -117.47834504537299,
          -36.830957207551904,
          -155.8858240969209,
          -144.28825821341863,
          -75.34888890395484,
          -62.00531872393054,
          -131.52479876798344,
          -128.42202695734693,
          -48.6050459787223,
          -68.91576246623312,
          -24.375724936159557,
          -47.054275972810316,
          -48.56487169526466,
          -26.399305503626884,
          -29.40731190273074,
          -28.268289212946748,
          -35.132276858559464,
          -36.83412939399133,
          -44.71436693236866,
          -57.70515621615827,
          -37.07085486758266,
          -50.80143240971776,
          -30.23673119531885,
          -110.47405177560823,
          -23.399735111664935,
          -16.12682867688246,
          -66.55717855812821,
          -134.8258007182808,
          -35.48223411524319,
          -51.61553660620555,
          -46.17665142247788,
          -41.82918191246806,
          -29.02233761900802,
          -34.54003195939613,
          -89.68171691381619,
          -35.398138912925404,
          -43.34390938539999,
          -41.14076368245921,
          -38.31487337595537,
          -28.458306958076697,
          -70.96087083906383,
          -42.89055718541678,
          -91.24928478664071,
          -37.831183247493776,
          -30.908775509451104,
          -28.267377268238963,
          -18.363203613902606,
          -60.2274295717227,
          -63.93148229149125,
          -34.3566930797183,
          -19.361510460366844,
          -76.15197727573414,
          -40.36366006691133,
          -29.285632574193116,
          -32.09163870733897,
          -56.35362692233301,
          -31.439951767158952,
          -47.939750130692424,
          -21.588170340769743,
          -22.251519830688835,
          -24.733250923059458,
          -27.49220729706491,
          -29.184412387751514,
          -41.29047810175017,
          -58.173856061821816,
          -37.0806565740843,
          -117.67931782532865,
          -104.99766183599908,
          -58.298602550153966,
          -50.45459805722863,
          -41.973974524849616,
          -52.44477735448231,
          -50.42517833982987,
          -51.51764219441766,
          -28.09544759817077,
          -85.20276273644004,
          -49.67579069895726,
          -25.534003882415377,
          -90.6395656052286,
          -34.9089305808548,
          -90.05060099059713,
          -58.15764056319318,
          -56.83030505326628,
          -133.5055760204511,
          -33.986176595294076,
          -112.25646415814425,
          -35.07374165577393,
          -55.172904067131824,
          -40.16389174017026,
          -46.722453827989575,
          -32.623893207911635,
          -44.64101909907146,
          -43.06113809820617,
          -20.658782241937647,
          -87.50221019005562,
          -264.11199828249704,
          -55.592187341400404,
          -32.209925886910945,
          -44.576206153158985,
          -45.05119593073833,
          -44.448750149271596,
          -20.609259067679574,
          -90.9720444162975,
          -31.719237259979888,
          -20.939293883209363,
          -36.9476841424857,
          -59.63439877324279,
          -38.31181228558988,
          -26.66053405117897,
          -41.206560983659436,
          -52.70171076076146,
          -50.746990718004014,
          -31.307618996491588,
          -71.87941809357942,
          -36.24476879773093,
          -51.640703808459456,
          -44.840917090246464,
          -47.83820623859373,
          -64.87110233570121,
          -38.45417172251144,
          -57.45294030210287,
          -109.96431937086692,
          -33.249673083160744,
          -77.1864763723626,
          -37.703744614695076,
          -91.84554465917547,
          -93.94010011232038,
          -39.00708937775639,
          -45.04942008121938,
          -58.77463188983957,
          -38.97223132300312,
          -38.611732583833614,
          -100.57596561391843,
          -125.68391949368767,
          -59.58163189967553,
          -50.25132250079096,
          -38.152502361313296,
          -168.12974399699831,
          -16.173639979586365,
          -18.15885386629777,
          -35.66555878135024,
          -27.411956048172566,
          -73.0954937824356,
          -63.27816236701998,
          -33.19020101318654,
          -59.1056195623034,
          -46.49632203624961,
          -57.14159807916254,
          -61.54931143751813,
          -30.12822672616551,
          -98.01073533616707,
          -114.7017600932854,
          -39.93036551478142,
          -40.27563139972346,
          -17.539839805596976,
          -182.3146339404737,
          -29.788666532154778,
          -47.788189536442594,
          -20.776254878592056,
          -14.02859382086512,
          -45.49561939760733,
          -37.46053756000334,
          -50.76494188383836,
          -35.33196444276079,
          -33.49598967358,
          -32.40513623789135,
          -48.37532326135697,
          -124.50478728509563,
          -27.26599095114324,
          -124.72058755212886,
          -53.263967232494046,
          -31.204091282240157,
          -10.990064480172279,
          -9.658455663815388,
          -31.103586257502325,
          -56.16434474744132,
          -57.93673165626781,
          -44.54680551679954,
          -49.08408517597343,
          -48.52177928480474,
          -23.90038802247126,
          -23.098189881171933,
          -20.451764456182744,
          -28.113859222684003,
          -27.589589586832115,
          -28.93863332736098,
          -41.81095597236309,
          -18.40405660190521,
          -42.2552323932763,
          -23.424029745681985,
          -22.642868070070836,
          -19.610825015636117,
          -55.918910269032956,
          -31.08347096109621,
          -50.732092780413765,
          -30.12819325494103,
          -61.443624632337404,
          -129.0229096833733,
          -145.42483564002995,
          -120.95603488162766,
          -77.6249409595262,
          -119.28150709578242,
          -11.265018702921285
         ],
         "y": [
          -31.810007347127183,
          -36.92027588027139,
          -33.008216897694915,
          -11.237879346272699,
          -33.47080610040237,
          -14.103361376875702,
          -29.715918838775384,
          -16.83736395547205,
          -14.738946080822949,
          -13.762879875157331,
          -22.382344419953775,
          -23.16807186756966,
          -28.669730408969343,
          -20.071613844413566,
          -15.464385315356521,
          -18.496261218868305,
          -20.38808867823457,
          -23.525101460644695,
          -38.918849429716474,
          -15.356777316830877,
          -14.074325647897517,
          -7.507237363641954,
          -19.592459966871917,
          -42.98036419703417,
          -31.828102737341226,
          -26.264604637322453,
          -18.047194613842837,
          -28.97845135787596,
          -22.164377439495393,
          -25.351641597448364,
          -30.849432511345444,
          -14.515064599617313,
          -25.437272305739327,
          -33.183939504133335,
          -23.39238221903016,
          -24.12364980753613,
          -17.029018111152837,
          -13.834971822809706,
          -16.990535307125747,
          -15.48619631344663,
          -15.841089970193128,
          -10.58985918141704,
          -30.663661103417375,
          -16.44327665097936,
          -15.017168692799265,
          -29.92246274012431,
          -5.75112758827371,
          -15.158794206757978,
          -12.42246418776379,
          -15.217911304573416,
          -11.54610878085228,
          -15.082339042296425,
          -11.83507913120831,
          -27.50152137463538,
          -20.058626739571622,
          -11.17809361727008,
          -35.45704428178217,
          -18.8484459283956,
          -14.070105166854658,
          -6.361992584062639,
          -8.513350727048039,
          -6.3852667133422125,
          -18.175703213131648,
          -7.4365555628261735,
          -15.491174889992637,
          -18.631179136806807,
          -7.655218283323008,
          -10.62225528722828,
          -6.981055242532461,
          -13.186940150912516,
          -32.91856781419767,
          -6.580489031914006,
          -28.42128374349972,
          -16.4524116719161,
          -13.052292980174125,
          -23.0419930250587,
          -14.496732006982963,
          -28.929298679267987,
          -32.808388714408935,
          -13.726841724815865,
          -11.375857439991211,
          -13.983563855361822,
          -50.14907677099726,
          -29.020017109337427,
          -12.325446620159632,
          -30.216148127895494,
          -17.546015258871495,
          -30.461348499343956,
          -12.6972125292019,
          -17.284287085977326,
          -17.626910765445047,
          -18.904335119075395,
          -16.00060989790708,
          -15.141547617474519,
          -19.895693859676296,
          -34.387833896202395,
          -11.922261341177968,
          -8.38872523807931,
          -11.314124042275168,
          -17.57545666914937,
          -16.974912335750474,
          -4.383458082446467,
          -12.421120491814607,
          -8.274629710393466,
          -9.279744825297145,
          -15.621423415309637,
          -11.410645810994126,
          -12.483051366219568,
          -42.46334152343944,
          -11.051315966976288,
          -8.15157253578773,
          -12.637404524720814,
          -16.33387845733796,
          -9.16214276548304,
          -6.486710652859096,
          -12.250845859567159,
          -6.436089850859416,
          -20.06403588531327,
          -22.96133643182931,
          -26.182079302339076,
          -11.171249224563173,
          -29.861703896102014,
          -44.87836924815254,
          -16.90548771626317,
          -14.646705031455218,
          -15.88519288779028,
          -16.479771162123527,
          -30.644701172778976,
          -17.605333871253173,
          -32.13452326634101,
          -12.309664224274309,
          -21.574824182160025,
          -22.803661905948676,
          -20.218113458872402,
          -30.084476140525677,
          -13.955369764129777,
          -11.901846795126348,
          -10.80391923212767,
          -18.59250426835369,
          -10.443917221931839,
          -7.97651485677919,
          -23.163876472476648,
          -11.160894130406579,
          -13.984000531919266,
          -9.888381745290326,
          -11.495956428553125,
          -12.259960687491677,
          -18.18366409537659,
          -17.000889772796356,
          -15.795573200461114,
          -13.857550508855844,
          -5.941705689327916,
          -8.33752366284521,
          -10.317059643105319,
          -14.670075069937813,
          -12.510029850159114,
          -26.063472100646255,
          -22.959725738224723,
          -12.118830117754063,
          -10.206747016272324,
          -11.562362946948374,
          -30.393455074347287,
          -37.106283616697304,
          -12.598591231313993,
          -45.96056946648148,
          -18.020065490583416,
          -9.685683855885594,
          -24.605222529274414,
          -28.84411028165195,
          -18.042738567102578,
          -12.482893732471418,
          -17.356759164101494,
          -21.073610973563284,
          -10.096003707851805,
          -9.694652490279257,
          -6.290237534878185,
          -8.593778470520503,
          -21.781846913885552,
          -13.997022779502721,
          -13.435882254274414,
          -61.08110940686821,
          -37.6211849872248,
          -22.77027448651449,
          -10.860096468289527,
          -19.678877357753294,
          -9.112410973738303,
          -28.28716391537898,
          -11.498719759745978,
          -11.671729368240303,
          -12.458326546708893,
          -16.55343666204189,
          -13.194503294825884,
          -8.580681123799545,
          -14.301388616514252,
          -17.492600348714266,
          -13.733887374275962,
          -16.2683093976211,
          -26.587507932558932,
          -32.065015358424745,
          -19.084405271242442,
          -13.058850103275622,
          -25.56476535535257,
          -42.967255406380126,
          -19.05106230991986,
          -13.682688232104741,
          -19.882719597293743,
          -8.061340360863964,
          -24.43996548808033,
          -14.256991140576654,
          -19.673238263646457,
          -33.84041541572606,
          -11.834321666186021,
          -58.143064839443774,
          -23.86118718474395,
          -16.814396943977023,
          -15.892932764385383,
          -11.824479211008208,
          -9.005782016223412,
          -35.553502613675796,
          -38.95281428939878,
          -15.418754606097787,
          -15.078819649185352,
          -8.688058795108086,
          -21.37193750910118,
          -14.982389998235444,
          -17.665978696352624,
          -9.135477954907534,
          -17.989825429060613,
          -13.546286859599043,
          -14.26977442142082,
          -24.345206359681193,
          -10.544083286333324,
          -10.603058214649295,
          -36.12061781622193,
          -7.803521907379665,
          -16.099728649904385,
          -49.446374173318624,
          -34.948759487279425,
          -16.839755291435214,
          -26.251051167304393,
          -15.263743004392433,
          -12.675456093661888,
          -10.623546072231742,
          -15.643004952079867,
          -30.267255928838157,
          -9.427535555672408,
          -14.294142095701044,
          -13.825455599879774,
          -9.82594664471174,
          -11.081944808022287,
          -37.64615564887029,
          -11.081582647605826,
          -34.77135880786893,
          -25.103951305483378,
          -34.47646162234263,
          -16.78713227203158,
          -34.458150256533884,
          -19.312705137479053,
          -22.08525005477025,
          -20.618089624289773,
          -35.49213450514242,
          -25.158099485992853,
          -25.72349545133543,
          -20.565451219090164,
          -26.605885362823724,
          -48.942351727143524,
          -9.393371453943557,
          -14.983037454121398,
          -13.674604801295535,
          -9.442509259337529,
          -16.344528721562558,
          -10.536200314547603,
          -42.37877261981611,
          -8.170358174481606,
          -26.971965409234166,
          -11.513391401717934,
          -10.766220529427027,
          -27.991042203434844,
          -15.714618256966961,
          -15.421402809110445,
          -32.0203320606384,
          -11.60254606291134,
          -31.63950421481781,
          -21.699853464971905,
          -13.726367783930224,
          -13.09180801991134,
          -11.928952202552727,
          -13.556247859668906,
          -10.557644846342281,
          -10.815610992501183,
          -17.162172835341956,
          -18.068554620737807,
          -13.615770683197024,
          -11.78973783525006,
          -13.020232704043698,
          -15.311028563367364,
          -9.732309722500485,
          -11.931266432462877,
          -17.23515262187561,
          -8.845235959487841,
          -35.56051652077269,
          -12.532834082719837,
          -33.42704070331663,
          -9.161476356668896,
          -10.953183579766115,
          -11.212227759113055,
          -14.349420022039482,
          -6.934463295909897,
          -15.314687799056486,
          -14.437595811925137,
          -11.346752549433987,
          -17.96252713585188,
          -13.578384612385332,
          -10.967414445867607,
          -6.383680389132393,
          -12.784940176606474,
          -12.142158949532233,
          -28.601377910208125,
          -6.7715275887271,
          -12.671204890829417,
          -9.080348550727711,
          -33.80796456298141,
          -13.561835236960551,
          -35.772479124469,
          -12.57548375344358,
          -13.141202339718552,
          -16.61064436298839,
          -11.998754107308919,
          -22.41469960184486,
          -21.67611971021275,
          -21.723960166507286,
          -13.815009436535002,
          -10.510981453229459,
          -10.83027274523421,
          -12.545179678959638,
          -25.764725403434046,
          -13.593519929527114,
          -32.50279089965733,
          -8.808020152726446,
          -50.54129229729779,
          -17.659867620890385,
          -7.894987353971421,
          -10.162084518668031,
          -31.731746990533395,
          -11.420835733576695,
          -8.928730016093576,
          -12.274618099985002,
          -18.250421346736424,
          -10.932974718055641,
          -11.456881458537207,
          -11.617810276770372,
          -20.039049011732672,
          -57.25654401625906,
          -20.22046787551839,
          -10.219950757796473,
          -12.745407482781252,
          -13.594448050156851,
          -15.752810950869444,
          -6.577448383867359,
          -8.360067995285249,
          -13.158305837890328,
          -14.401148407941834,
          -13.295051533647692,
          -22.13327704092317,
          -14.817374781742643,
          -35.06517197651425,
          -33.1161461325314,
          -12.894851463593083,
          -48.92652804203902,
          -41.165817134881195,
          -23.15727245216228,
          -18.5986980890905,
          -35.037103854213655,
          -36.93898755807107,
          -15.287815237892183,
          -20.216115584593542,
          -8.768226898258716,
          -15.067852338513777,
          -15.237969738131094,
          -10.365098658513102,
          -10.637107585402694,
          -10.252738891930179,
          -11.785279751762925,
          -12.793645569277828,
          -14.309787279261062,
          -17.271504736570588,
          -12.218076881302188,
          -16.114581669368153,
          -10.414160517258795,
          -29.835130792404332,
          -8.918863002931747,
          -6.8973958326259375,
          -22.984408824863728,
          -39.14830228875401,
          -12.375777518032285,
          -16.082290445286656,
          -15.056858877158644,
          -13.497267532251676,
          -10.634527942395401,
          -11.969738317864259,
          -26.765829491582277,
          -12.424763880186738,
          -14.01334621313104,
          -13.49854429782045,
          -12.37128044227739,
          -10.30608577232529,
          -21.006237793001894,
          -14.117797329168374,
          -27.060115050888356,
          -13.022034189821603,
          -11.130088864803643,
          -10.442348688798566,
          -7.329373912403038,
          -18.602919536294404,
          -19.465490977944093,
          -11.762462305103902,
          -8.004518846301533,
          -26.34462387288699,
          -13.11322690757765,
          -10.453873304188532,
          -11.336630483959516,
          -17.47359708888057,
          -10.975561861256756,
          -15.490771500421108,
          -8.091585455482717,
          -8.599350415084064,
          -9.386903820063662,
          -10.26366650415615,
          -10.21288775181338,
          -13.338090770985508,
          -18.088554325843123,
          -12.327597758186329,
          -32.22965591839066,
          -30.905673408088937,
          -17.667891361678205,
          -17.115483115806406,
          -13.674753042474133,
          -16.35245053867076,
          -16.17197056811979,
          -15.868190545722099,
          -10.264611633472585,
          -25.556851309739905,
          -15.601007147326106,
          -9.433528626120623,
          -26.66079640972059,
          -11.806175991099005,
          -27.470489457316773,
          -18.045603749192473,
          -17.82822916701544,
          -38.26465479431562,
          -11.646174791252362,
          -30.86890656362655,
          -11.95241164602365,
          -16.958425697983433,
          -13.611556703225505,
          -15.180449180206729,
          -11.639102803949935,
          -14.34317248302503,
          -14.001638978738221,
          -8.116985358444467,
          -27.98149977800769,
          -71.59370820759125,
          -16.80275593396649,
          -11.187932160540795,
          -14.727299665462851,
          -14.973041658922995,
          -14.639957954910022,
          -8.177075605437507,
          -27.357514491657252,
          -11.392302012314126,
          -8.1988050214697,
          -12.420356277153651,
          -18.80884683171336,
          -12.9486015429037,
          -9.830923104507294,
          -13.613224452319788,
          -17.04681319553869,
          -15.968373147138802,
          -10.896452004094161,
          -21.115921281196613,
          -12.293197019600921,
          -16.825700047482595,
          -14.72966502544176,
          -15.296921651611196,
          -19.523463497014976,
          -12.525566443022067,
          -17.945388502715232,
          -32.78174706613367,
          -11.708310347357347,
          -22.92599774941649,
          -13.040298799634805,
          -26.031995354122802,
          -27.71224617790455,
          -12.705994273645155,
          -14.450320359655775,
          -17.95440306690692,
          -13.451072127881798,
          -13.185001136733293,
          -30.025089947096912,
          -35.349842241874924,
          -18.519409529943612,
          -16.396715888720962,
          -12.764516243574572,
          -48.270876742037366,
          -6.884351813379515,
          -7.706414915888564,
          -12.088822972106016,
          -9.886216866651793,
          -21.21624963752887,
          -19.569862307227044,
          -11.276154909967776,
          -17.628000025835995,
          -16.04680498552139,
          -17.96572798464755,
          -19.453016291215395,
          -10.760890560959346,
          -29.100790460736327,
          -32.88524849552826,
          -13.823044026978332,
          -13.488030885341026,
          -7.30871239595764,
          -50.110307933835806,
          -10.400906330128818,
          -15.389115013723465,
          -8.30642599883556,
          -6.3172444868461035,
          -15.175022256316456,
          -12.677242687179454,
          -15.602022376769433,
          -12.143774666949758,
          -11.783430990381353,
          -11.634315038382288,
          -16.007834811896295,
          -34.20401428029896,
          -9.87926071060483,
          -35.494559203087746,
          -16.621276246770048,
          -11.193157274907964,
          -5.282886005473454,
          -5.016398098233886,
          -10.971053960435878,
          -17.50548663195048,
          -17.944786220811707,
          -14.349775092972308,
          -15.524477833496228,
          -15.663383865725178,
          -8.91753489878691,
          -8.697143962532165,
          -8.06169818590779,
          -10.364148896100742,
          -9.722504571518368,
          -10.204532454041276,
          -13.551897450495291,
          -7.3014228343524445,
          -13.639174040538382,
          -8.821191906198273,
          -8.675910306918995,
          -7.686605045793543,
          -17.01111296985733,
          -11.123573552140767,
          -15.842651874924357,
          -10.854273121813472,
          -19.295380870462484,
          -35.727768173460476,
          -39.5753154307804,
          -34.27363143005691,
          -23.065950838747423,
          -34.929828972653695,
          -5.473502191298254
         ],
         "z": [
          75.17351742978231,
          103.91406395796801,
          94.18024773117513,
          32.43623274937967,
          103.32331047662491,
          38.80679951615407,
          82.13864759779646,
          46.42561258699855,
          42.73361020646253,
          39.18727028113886,
          63.81876657673827,
          61.71555905882072,
          92.24370046653497,
          64.03590517416461,
          48.08588481254885,
          53.4876153791769,
          54.406179605165995,
          63.43814452985873,
          95.84033677651358,
          46.552381051475436,
          43.02370278676565,
          23.455060216564263,
          56.951965797939714,
          107.31461328185866,
          66.6708948153455,
          71.3860396850984,
          52.836631964518304,
          87.11951641870465,
          58.225792981622284,
          77.07137037058224,
          84.7729065802542,
          34.98333247855398,
          71.13404114674132,
          90.87966894273501,
          64.33138466399578,
          69.64129989430246,
          52.232447249194344,
          43.746968501365004,
          57.00233878471999,
          45.688872730425345,
          45.77056257109837,
          31.142023623005727,
          88.21956213660098,
          43.6926292550643,
          43.4306018548282,
          85.05856036938589,
          17.41012667798318,
          43.590116142072574,
          37.173151607814894,
          46.23113627113291,
          35.498119357923876,
          47.418462309966344,
          36.139359077949834,
          81.5403036151474,
          57.374128723952005,
          33.91189212680001,
          87.82351302801959,
          52.7190611753326,
          43.27898125592651,
          19.172571047623773,
          26.347389500068644,
          19.440395621195563,
          52.34120003067226,
          22.612596623237756,
          39.857955596815025,
          54.07205882563759,
          23.17092842193551,
          32.903740495725124,
          21.34726988965295,
          41.608036003711085,
          87.64572898756607,
          21.1677559603255,
          71.89872250614167,
          47.56932800536909,
          38.860651131688385,
          64.50631325127236,
          46.30585561657056,
          76.69776879097793,
          99.88806451930817,
          41.8653008821291,
          33.46991429457964,
          43.40534649708937,
          148.48182706767065,
          92.49207766046422,
          36.824074735184034,
          84.82797167302584,
          53.27549161976046,
          84.69021105330174,
          38.892434096284745,
          53.471157428002634,
          53.88819528067272,
          59.43191608857065,
          44.553034413363974,
          45.689237469471244,
          56.80314847965201,
          99.6958895750865,
          37.780416673213296,
          25.036759545000987,
          34.25425534241731,
          52.8881490630005,
          46.56899906036526,
          12.920012929050138,
          38.201243233018786,
          25.4176079695656,
          28.293879873666985,
          42.69144075054045,
          34.6607632977686,
          38.85061724140369,
          116.97594563727412,
          32.90598294808035,
          24.79130279735166,
          40.64151812410718,
          52.68328583625299,
          28.30894862183081,
          19.79454436483563,
          35.92770801696704,
          21.839215090183068,
          54.6529659578444,
          61.69287381767573,
          78.83784622723226,
          33.563641330269476,
          84.77978030454994,
          136.28962778709695,
          52.78700784393508,
          45.85183235775515,
          48.36148905721794,
          46.525702968704,
          90.57298652440336,
          55.19674881519821,
          94.50803554609877,
          38.21339552024974,
          59.506614057189786,
          64.89451755867833,
          62.105017888889435,
          84.83222660434407,
          41.61421775862326,
          35.486142482306946,
          33.44462125339401,
          54.63368629591432,
          31.965131293528753,
          24.245414200957985,
          64.22997708663708,
          33.328850579389695,
          42.37396129406053,
          29.824001464431134,
          36.39401764717557,
          35.90391003368276,
          56.74590800435526,
          52.79401959555488,
          47.82281212648746,
          42.753562480426844,
          17.78884858315358,
          25.249771558629295,
          31.902206657489103,
          44.2499120439034,
          38.16375252268459,
          76.29044040180834,
          71.8203331642241,
          37.27612596674041,
          30.569421800101132,
          35.12282268702117,
          91.2241583921575,
          92.99830468342478,
          38.62747885318619,
          131.99692493196412,
          56.72830175190552,
          29.93544534058621,
          70.4831523057399,
          76.00727739985001,
          56.35793345672527,
          38.54365019425136,
          44.881135160635026,
          58.860616575325594,
          31.1845755165603,
          29.508889448274672,
          19.501636427760133,
          25.928911081810572,
          68.18413167368526,
          43.43038162790736,
          42.13176040845401,
          175.76457729356292,
          102.43389205729524,
          60.676399133695845,
          33.45256933167328,
          57.406691437996216,
          26.619409420659064,
          83.57531170316092,
          34.87442430220299,
          35.836620554441396,
          38.46967094676564,
          50.10203512801327,
          42.23498191163702,
          25.091049679758864,
          38.62646291235195,
          56.05842920942377,
          42.829951946175576,
          48.68151803972141,
          81.79914142302951,
          91.46437419512166,
          51.54629058523723,
          37.88283874809568,
          76.8715618554281,
          134.8161015593433,
          47.29575812151567,
          39.3665662366728,
          57.854717475959454,
          25.2544166644746,
          71.94983763000873,
          43.823259360765526,
          58.96095473316568,
          102.44966800472727,
          35.33583394928133,
          187.8581326732194,
          76.89031410988044,
          50.629394683145065,
          47.67503162206741,
          36.15776234343849,
          27.44815217251418,
          94.73684874157601,
          91.80188371993037,
          46.64732464138892,
          46.29366272034398,
          26.48040148577747,
          61.324643781122205,
          44.77392821724345,
          51.90092427803606,
          27.679768993333646,
          56.509031235873984,
          40.79306578530555,
          41.26752801790662,
          72.19629929779968,
          33.06266483640977,
          32.14101993662926,
          104.20632150856537,
          23.501816978840232,
          49.67212551916463,
          126.7627447142226,
          103.61477758915126,
          51.22941561568599,
          72.61660678712305,
          47.11819369163039,
          39.53727042510477,
          33.23275197281905,
          47.994034516087424,
          93.10870044156403,
          28.864162999611384,
          44.96895124296407,
          42.774480089295125,
          28.92264678191277,
          33.885878875662726,
          105.22723928650589,
          33.8700454918685,
          93.32862136569567,
          74.87989342143695,
          90.86936796588354,
          48.78942401368806,
          94.54165624136509,
          57.608221321132206,
          61.08884063785562,
          60.534804107437154,
          102.00735656264355,
          74.88061183184952,
          75.45827600009741,
          61.69691446369162,
          73.50862605779896,
          101.36896651109305,
          29.518592904253012,
          46.6220770630553,
          42.49461425375829,
          29.139826588397824,
          52.180106690111955,
          32.29615158837766,
          115.13282685669171,
          24.58208912061395,
          80.13356655601555,
          36.28638378304708,
          33.18432228950273,
          89.34557075448888,
          46.85068068091388,
          48.68733561367186,
          89.82133144839486,
          35.63913278853632,
          91.0569410720968,
          65.69207209306545,
          43.058859543042296,
          40.40691974079391,
          37.33270800922638,
          42.70247149532431,
          32.89834854660219,
          33.45058255685384,
          52.16398439187281,
          56.514063128620975,
          42.36180863828131,
          36.059280358377386,
          40.964071926345895,
          48.10147889315154,
          30.719680963334465,
          35.635815890242796,
          51.67287308141321,
          28.208102276820057,
          93.5068731276784,
          39.07671401678785,
          98.1336567666302,
          28.26798319060799,
          33.719038567582274,
          35.04308860756809,
          44.22162550188212,
          21.12139252473604,
          46.3884685682417,
          43.383770120506426,
          35.04845870524518,
          54.058399551062145,
          41.64390589996165,
          34.2055874722096,
          19.479426652749318,
          39.85078701623173,
          38.32775693672073,
          81.3940541112768,
          21.801375704192097,
          39.71756616588042,
          27.004023440711826,
          100.96641834134614,
          42.033801324347614,
          99.65412312431963,
          38.00327475203222,
          40.56396762391427,
          50.416720295912164,
          36.955871772872065,
          65.68135082435717,
          66.39700315096879,
          64.29020996238619,
          42.64311596037633,
          32.6516413628018,
          32.56519464159734,
          38.72600613353549,
          73.1245669866131,
          42.44454976736176,
          84.51953960591872,
          26.468649092337376,
          132.51356373437903,
          52.2054541632109,
          23.788290166104144,
          31.485330092951163,
          96.42257832051287,
          34.89233642269539,
          27.76415941644431,
          36.86875447225182,
          54.43323861580532,
          33.50540201796771,
          35.58288183898478,
          34.60338889509195,
          61.665500732761934,
          154.74017814413767,
          57.04563308492525,
          32.44592206389849,
          40.85572778326613,
          42.98229567746045,
          49.10811919521174,
          21.246179301081778,
          23.339316895337824,
          40.479895444945974,
          45.40587744794068,
          41.25193947850676,
          68.2425146582915,
          45.41633060020307,
          102.44683353282704,
          98.18776508680564,
          37.78220797076021,
          112.01584031999268,
          115.49291855094815,
          67.41911543554458,
          58.30295560496726,
          112.48911402031517,
          105.03342098284247,
          47.820782044585194,
          64.90560978265955,
          29.556191542406804,
          46.266782449298034,
          48.038651024590415,
          30.47535980891447,
          32.530763366630964,
          31.299274816881542,
          37.9675262302854,
          38.449866927299745,
          44.94790746658671,
          54.858834301798325,
          38.640017281213716,
          48.68951937322924,
          33.07210395796989,
          95.60134816300393,
          27.045739979669445,
          20.220499101600414,
          58.37511063064583,
          110.52646605504216,
          37.054673923489304,
          50.60499668071041,
          46.066079300236964,
          42.09493528123543,
          31.386317215022313,
          35.73708118836219,
          80.3644636288737,
          36.676667837859,
          43.85791162709476,
          42.17496598571785,
          38.85452338628752,
          31.317017144008286,
          65.38014830216657,
          41.81002546125939,
          79.24587163872819,
          38.54603040509346,
          33.66019616880022,
          31.315329023421814,
          23.083756829125726,
          56.78125842963272,
          58.009067959956745,
          36.122511890797476,
          23.34330622973078,
          58.37638917184756,
          41.07623372888939,
          31.954885123849888,
          34.312796950932864,
          54.265299931144845,
          34.1468063707354,
          47.43071792131321,
          24.674775058135868,
          25.881205137245352,
          28.281190231621984,
          30.200531033790224,
          31.932459133829877,
          41.44751372565249,
          57.035778545781604,
          39.59395246487273,
          100.62841742790296,
          86.43058527377356,
          55.063532536744546,
          48.83224225222256,
          42.086466677290254,
          50.0948339605931,
          48.61430613817144,
          49.956795505006994,
          31.789514373867537,
          74.01111141671457,
          47.86664658454525,
          28.96991621210219,
          79.46478394670498,
          36.71491626783892,
          78.29524968074641,
          55.12378073749503,
          54.15633820355345,
          109.11966589320983,
          36.10905043546485,
          95.50728669620145,
          36.98695495003827,
          52.94835882229077,
          40.49138842116501,
          45.72294588981283,
          34.59961481985282,
          44.342297833373436,
          42.761892324483206,
          24.60829000167125,
          70.93714814498686,
          177.43439547470373,
          53.03576231640697,
          34.36287188275643,
          43.955456408415586,
          45.158206531342785,
          43.9915708338651,
          24.207928060189445,
          76.72484278829627,
          34.38102917940551,
          24.535805120428762,
          37.30364870537371,
          55.78127156883409,
          38.67481547524292,
          30.167046812192822,
          41.94143898343397,
          50.523805750293974,
          49.38150346644011,
          34.09951198184454,
          67.03124090091073,
          38.062402454946174,
          48.869542333335325,
          45.053587206342186,
          46.939258645657645,
          61.380678645979145,
          40.9183971593545,
          54.50090806129617,
          92.18641082406245,
          34.8657959541838,
          69.58083499550497,
          38.40765310189134,
          79.98226370691084,
          79.51409369453205,
          39.73146015477287,
          44.55243749023119,
          56.0193216448311,
          39.9543230690719,
          39.766010973939686,
          83.32768029250882,
          104.98686577696094,
          55.99444361571488,
          48.5999618924046,
          39.561860260807535,
          128.50872155589542,
          21.879448550625845,
          23.290850170202837,
          37.57070907840929,
          30.83427169854851,
          66.73491587322017,
          60.232583338279426,
          35.622247617448686,
          55.94146810266813,
          45.31085030250645,
          53.338238760563414,
          56.68817764164799,
          32.43221355951955,
          82.94095529442244,
          96.71476697243851,
          40.61585677711502,
          40.722364425888095,
          22.12824669129773,
          143.4740561230819,
          32.5535020169825,
          47.06629443527032,
          25.02741794502302,
          19.021576368182448,
          45.21614363189391,
          38.85536548235359,
          49.53859966486105,
          36.827350154391034,
          35.50497380550052,
          34.45043121579987,
          46.866103869952696,
          102.86352829191662,
          31.037834364998417,
          103.19891778407947,
          52.38435245200569,
          34.150194761880314,
          15.536235287834513,
          14.760012914558613,
          33.71739460717229,
          54.161459990215214,
          54.62913079359521,
          44.5350663400019,
          48.20522212235411,
          46.60289880993198,
          27.360403556579044,
          27.241856939148697,
          24.22619518523606,
          30.29889164698768,
          30.246042947853773,
          31.887943219744002,
          41.81907424604897,
          22.66951485597343,
          42.51671957827262,
          27.239713541172268,
          26.430642498530744,
          23.583503220874864,
          54.51769408918522,
          34.34549196838181,
          49.61617066843135,
          32.61354006880016,
          58.940391602779044,
          107.22666352291853,
          114.62401498147443,
          99.38555501278856,
          69.03707929947232,
          100.4215106641369,
          15.681228335201126
         ]
        }
       ],
       "layout": {
        "legend": {
         "tracegroupgap": 0
        },
        "margin": {
         "t": 60
        },
        "scene": {
         "domain": {
          "x": [
           0,
           1
          ],
          "y": [
           0,
           1
          ]
         },
         "xaxis": {
          "title": {
           "text": "x"
          }
         },
         "yaxis": {
          "title": {
           "text": "y"
          }
         },
         "zaxis": {
          "title": {
           "text": "z"
          }
         }
        },
        "template": {
         "data": {
          "bar": [
           {
            "error_x": {
             "color": "#2a3f5f"
            },
            "error_y": {
             "color": "#2a3f5f"
            },
            "marker": {
             "line": {
              "color": "#E5ECF6",
              "width": 0.5
             },
             "pattern": {
              "fillmode": "overlay",
              "size": 10,
              "solidity": 0.2
             }
            },
            "type": "bar"
           }
          ],
          "barpolar": [
           {
            "marker": {
             "line": {
              "color": "#E5ECF6",
              "width": 0.5
             },
             "pattern": {
              "fillmode": "overlay",
              "size": 10,
              "solidity": 0.2
             }
            },
            "type": "barpolar"
           }
          ],
          "carpet": [
           {
            "aaxis": {
             "endlinecolor": "#2a3f5f",
             "gridcolor": "white",
             "linecolor": "white",
             "minorgridcolor": "white",
             "startlinecolor": "#2a3f5f"
            },
            "baxis": {
             "endlinecolor": "#2a3f5f",
             "gridcolor": "white",
             "linecolor": "white",
             "minorgridcolor": "white",
             "startlinecolor": "#2a3f5f"
            },
            "type": "carpet"
           }
          ],
          "choropleth": [
           {
            "colorbar": {
             "outlinewidth": 0,
             "ticks": ""
            },
            "type": "choropleth"
           }
          ],
          "contour": [
           {
            "colorbar": {
             "outlinewidth": 0,
             "ticks": ""
            },
            "colorscale": [
             [
              0,
              "#0d0887"
             ],
             [
              0.1111111111111111,
              "#46039f"
             ],
             [
              0.2222222222222222,
              "#7201a8"
             ],
             [
              0.3333333333333333,
              "#9c179e"
             ],
             [
              0.4444444444444444,
              "#bd3786"
             ],
             [
              0.5555555555555556,
              "#d8576b"
             ],
             [
              0.6666666666666666,
              "#ed7953"
             ],
             [
              0.7777777777777778,
              "#fb9f3a"
             ],
             [
              0.8888888888888888,
              "#fdca26"
             ],
             [
              1,
              "#f0f921"
             ]
            ],
            "type": "contour"
           }
          ],
          "contourcarpet": [
           {
            "colorbar": {
             "outlinewidth": 0,
             "ticks": ""
            },
            "type": "contourcarpet"
           }
          ],
          "heatmap": [
           {
            "colorbar": {
             "outlinewidth": 0,
             "ticks": ""
            },
            "colorscale": [
             [
              0,
              "#0d0887"
             ],
             [
              0.1111111111111111,
              "#46039f"
             ],
             [
              0.2222222222222222,
              "#7201a8"
             ],
             [
              0.3333333333333333,
              "#9c179e"
             ],
             [
              0.4444444444444444,
              "#bd3786"
             ],
             [
              0.5555555555555556,
              "#d8576b"
             ],
             [
              0.6666666666666666,
              "#ed7953"
             ],
             [
              0.7777777777777778,
              "#fb9f3a"
             ],
             [
              0.8888888888888888,
              "#fdca26"
             ],
             [
              1,
              "#f0f921"
             ]
            ],
            "type": "heatmap"
           }
          ],
          "heatmapgl": [
           {
            "colorbar": {
             "outlinewidth": 0,
             "ticks": ""
            },
            "colorscale": [
             [
              0,
              "#0d0887"
             ],
             [
              0.1111111111111111,
              "#46039f"
             ],
             [
              0.2222222222222222,
              "#7201a8"
             ],
             [
              0.3333333333333333,
              "#9c179e"
             ],
             [
              0.4444444444444444,
              "#bd3786"
             ],
             [
              0.5555555555555556,
              "#d8576b"
             ],
             [
              0.6666666666666666,
              "#ed7953"
             ],
             [
              0.7777777777777778,
              "#fb9f3a"
             ],
             [
              0.8888888888888888,
              "#fdca26"
             ],
             [
              1,
              "#f0f921"
             ]
            ],
            "type": "heatmapgl"
           }
          ],
          "histogram": [
           {
            "marker": {
             "pattern": {
              "fillmode": "overlay",
              "size": 10,
              "solidity": 0.2
             }
            },
            "type": "histogram"
           }
          ],
          "histogram2d": [
           {
            "colorbar": {
             "outlinewidth": 0,
             "ticks": ""
            },
            "colorscale": [
             [
              0,
              "#0d0887"
             ],
             [
              0.1111111111111111,
              "#46039f"
             ],
             [
              0.2222222222222222,
              "#7201a8"
             ],
             [
              0.3333333333333333,
              "#9c179e"
             ],
             [
              0.4444444444444444,
              "#bd3786"
             ],
             [
              0.5555555555555556,
              "#d8576b"
             ],
             [
              0.6666666666666666,
              "#ed7953"
             ],
             [
              0.7777777777777778,
              "#fb9f3a"
             ],
             [
              0.8888888888888888,
              "#fdca26"
             ],
             [
              1,
              "#f0f921"
             ]
            ],
            "type": "histogram2d"
           }
          ],
          "histogram2dcontour": [
           {
            "colorbar": {
             "outlinewidth": 0,
             "ticks": ""
            },
            "colorscale": [
             [
              0,
              "#0d0887"
             ],
             [
              0.1111111111111111,
              "#46039f"
             ],
             [
              0.2222222222222222,
              "#7201a8"
             ],
             [
              0.3333333333333333,
              "#9c179e"
             ],
             [
              0.4444444444444444,
              "#bd3786"
             ],
             [
              0.5555555555555556,
              "#d8576b"
             ],
             [
              0.6666666666666666,
              "#ed7953"
             ],
             [
              0.7777777777777778,
              "#fb9f3a"
             ],
             [
              0.8888888888888888,
              "#fdca26"
             ],
             [
              1,
              "#f0f921"
             ]
            ],
            "type": "histogram2dcontour"
           }
          ],
          "mesh3d": [
           {
            "colorbar": {
             "outlinewidth": 0,
             "ticks": ""
            },
            "type": "mesh3d"
           }
          ],
          "parcoords": [
           {
            "line": {
             "colorbar": {
              "outlinewidth": 0,
              "ticks": ""
             }
            },
            "type": "parcoords"
           }
          ],
          "pie": [
           {
            "automargin": true,
            "type": "pie"
           }
          ],
          "scatter": [
           {
            "fillpattern": {
             "fillmode": "overlay",
             "size": 10,
             "solidity": 0.2
            },
            "type": "scatter"
           }
          ],
          "scatter3d": [
           {
            "line": {
             "colorbar": {
              "outlinewidth": 0,
              "ticks": ""
             }
            },
            "marker": {
             "colorbar": {
              "outlinewidth": 0,
              "ticks": ""
             }
            },
            "type": "scatter3d"
           }
          ],
          "scattercarpet": [
           {
            "marker": {
             "colorbar": {
              "outlinewidth": 0,
              "ticks": ""
             }
            },
            "type": "scattercarpet"
           }
          ],
          "scattergeo": [
           {
            "marker": {
             "colorbar": {
              "outlinewidth": 0,
              "ticks": ""
             }
            },
            "type": "scattergeo"
           }
          ],
          "scattergl": [
           {
            "marker": {
             "colorbar": {
              "outlinewidth": 0,
              "ticks": ""
             }
            },
            "type": "scattergl"
           }
          ],
          "scattermapbox": [
           {
            "marker": {
             "colorbar": {
              "outlinewidth": 0,
              "ticks": ""
             }
            },
            "type": "scattermapbox"
           }
          ],
          "scatterpolar": [
           {
            "marker": {
             "colorbar": {
              "outlinewidth": 0,
              "ticks": ""
             }
            },
            "type": "scatterpolar"
           }
          ],
          "scatterpolargl": [
           {
            "marker": {
             "colorbar": {
              "outlinewidth": 0,
              "ticks": ""
             }
            },
            "type": "scatterpolargl"
           }
          ],
          "scatterternary": [
           {
            "marker": {
             "colorbar": {
              "outlinewidth": 0,
              "ticks": ""
             }
            },
            "type": "scatterternary"
           }
          ],
          "surface": [
           {
            "colorbar": {
             "outlinewidth": 0,
             "ticks": ""
            },
            "colorscale": [
             [
              0,
              "#0d0887"
             ],
             [
              0.1111111111111111,
              "#46039f"
             ],
             [
              0.2222222222222222,
              "#7201a8"
             ],
             [
              0.3333333333333333,
              "#9c179e"
             ],
             [
              0.4444444444444444,
              "#bd3786"
             ],
             [
              0.5555555555555556,
              "#d8576b"
             ],
             [
              0.6666666666666666,
              "#ed7953"
             ],
             [
              0.7777777777777778,
              "#fb9f3a"
             ],
             [
              0.8888888888888888,
              "#fdca26"
             ],
             [
              1,
              "#f0f921"
             ]
            ],
            "type": "surface"
           }
          ],
          "table": [
           {
            "cells": {
             "fill": {
              "color": "#EBF0F8"
             },
             "line": {
              "color": "white"
             }
            },
            "header": {
             "fill": {
              "color": "#C8D4E3"
             },
             "line": {
              "color": "white"
             }
            },
            "type": "table"
           }
          ]
         },
         "layout": {
          "annotationdefaults": {
           "arrowcolor": "#2a3f5f",
           "arrowhead": 0,
           "arrowwidth": 1
          },
          "autotypenumbers": "strict",
          "coloraxis": {
           "colorbar": {
            "outlinewidth": 0,
            "ticks": ""
           }
          },
          "colorscale": {
           "diverging": [
            [
             0,
             "#8e0152"
            ],
            [
             0.1,
             "#c51b7d"
            ],
            [
             0.2,
             "#de77ae"
            ],
            [
             0.3,
             "#f1b6da"
            ],
            [
             0.4,
             "#fde0ef"
            ],
            [
             0.5,
             "#f7f7f7"
            ],
            [
             0.6,
             "#e6f5d0"
            ],
            [
             0.7,
             "#b8e186"
            ],
            [
             0.8,
             "#7fbc41"
            ],
            [
             0.9,
             "#4d9221"
            ],
            [
             1,
             "#276419"
            ]
           ],
           "sequential": [
            [
             0,
             "#0d0887"
            ],
            [
             0.1111111111111111,
             "#46039f"
            ],
            [
             0.2222222222222222,
             "#7201a8"
            ],
            [
             0.3333333333333333,
             "#9c179e"
            ],
            [
             0.4444444444444444,
             "#bd3786"
            ],
            [
             0.5555555555555556,
             "#d8576b"
            ],
            [
             0.6666666666666666,
             "#ed7953"
            ],
            [
             0.7777777777777778,
             "#fb9f3a"
            ],
            [
             0.8888888888888888,
             "#fdca26"
            ],
            [
             1,
             "#f0f921"
            ]
           ],
           "sequentialminus": [
            [
             0,
             "#0d0887"
            ],
            [
             0.1111111111111111,
             "#46039f"
            ],
            [
             0.2222222222222222,
             "#7201a8"
            ],
            [
             0.3333333333333333,
             "#9c179e"
            ],
            [
             0.4444444444444444,
             "#bd3786"
            ],
            [
             0.5555555555555556,
             "#d8576b"
            ],
            [
             0.6666666666666666,
             "#ed7953"
            ],
            [
             0.7777777777777778,
             "#fb9f3a"
            ],
            [
             0.8888888888888888,
             "#fdca26"
            ],
            [
             1,
             "#f0f921"
            ]
           ]
          },
          "colorway": [
           "#636efa",
           "#EF553B",
           "#00cc96",
           "#ab63fa",
           "#FFA15A",
           "#19d3f3",
           "#FF6692",
           "#B6E880",
           "#FF97FF",
           "#FECB52"
          ],
          "font": {
           "color": "#2a3f5f"
          },
          "geo": {
           "bgcolor": "white",
           "lakecolor": "white",
           "landcolor": "#E5ECF6",
           "showlakes": true,
           "showland": true,
           "subunitcolor": "white"
          },
          "hoverlabel": {
           "align": "left"
          },
          "hovermode": "closest",
          "mapbox": {
           "style": "light"
          },
          "paper_bgcolor": "white",
          "plot_bgcolor": "#E5ECF6",
          "polar": {
           "angularaxis": {
            "gridcolor": "white",
            "linecolor": "white",
            "ticks": ""
           },
           "bgcolor": "#E5ECF6",
           "radialaxis": {
            "gridcolor": "white",
            "linecolor": "white",
            "ticks": ""
           }
          },
          "scene": {
           "xaxis": {
            "backgroundcolor": "#E5ECF6",
            "gridcolor": "white",
            "gridwidth": 2,
            "linecolor": "white",
            "showbackground": true,
            "ticks": "",
            "zerolinecolor": "white"
           },
           "yaxis": {
            "backgroundcolor": "#E5ECF6",
            "gridcolor": "white",
            "gridwidth": 2,
            "linecolor": "white",
            "showbackground": true,
            "ticks": "",
            "zerolinecolor": "white"
           },
           "zaxis": {
            "backgroundcolor": "#E5ECF6",
            "gridcolor": "white",
            "gridwidth": 2,
            "linecolor": "white",
            "showbackground": true,
            "ticks": "",
            "zerolinecolor": "white"
           }
          },
          "shapedefaults": {
           "line": {
            "color": "#2a3f5f"
           }
          },
          "ternary": {
           "aaxis": {
            "gridcolor": "white",
            "linecolor": "white",
            "ticks": ""
           },
           "baxis": {
            "gridcolor": "white",
            "linecolor": "white",
            "ticks": ""
           },
           "bgcolor": "#E5ECF6",
           "caxis": {
            "gridcolor": "white",
            "linecolor": "white",
            "ticks": ""
           }
          },
          "title": {
           "x": 0.05
          },
          "xaxis": {
           "automargin": true,
           "gridcolor": "white",
           "linecolor": "white",
           "ticks": "",
           "title": {
            "standoff": 15
           },
           "zerolinecolor": "white",
           "zerolinewidth": 2
          },
          "yaxis": {
           "automargin": true,
           "gridcolor": "white",
           "linecolor": "white",
           "ticks": "",
           "title": {
            "standoff": 15
           },
           "zerolinecolor": "white",
           "zerolinewidth": 2
          }
         }
        }
       }
      },
      "text/html": [
       "<div>                            <div id=\"43f70cee-d05a-470c-a465-b37e08914b48\" class=\"plotly-graph-div\" style=\"height:525px; width:100%;\"></div>            <script type=\"text/javascript\">                require([\"plotly\"], function(Plotly) {                    window.PLOTLYENV=window.PLOTLYENV || {};                                    if (document.getElementById(\"43f70cee-d05a-470c-a465-b37e08914b48\")) {                    Plotly.newPlot(                        \"43f70cee-d05a-470c-a465-b37e08914b48\",                        [{\"hovertemplate\":\"x=%{x}<br>y=%{y}<br>z=%{z}<extra></extra>\",\"legendgroup\":\"\",\"marker\":{\"color\":\"#636efa\",\"symbol\":\"circle\"},\"mode\":\"markers\",\"name\":\"\",\"scene\":\"scene\",\"showlegend\":false,\"x\":[-94.35892576144087,-127.73924292908592,-114.32463450369251,-28.913832437672312,-123.97917965314952,-38.32975678726592,-96.76603502838361,-49.12069162444522,-42.11782777328774,-37.62433565168877,-71.65010183198751,-70.04690762862886,-105.24679418917276,-69.41723830017445,-47.28465316940729,-56.57378664034067,-60.48092371759333,-71.1134283047142,-122.15191475034726,-47.49768592613489,-42.20772269396886,-19.163814259723978,-60.94490429181187,-136.95594135952055,-85.08481825727836,-84.21457272398237,-54.412029470582496,-103.21453934956838,-64.40594901918483,-87.84119660178527,-102.38083054805352,-35.736304044274775,-82.06607408690255,-109.57575050820707,-71.75592341224535,-78.54770503110139,-53.94828219166299,-43.293046862651174,-63.229592131668596,-46.30275605163226,-47.333872344943195,-27.885905209431424,-103.8138891654073,-45.44905385920761,-43.654289891575715,-100.4350571417088,-12.430154306085013,-44.1537983301685,-35.78486969389957,-46.85003913079286,-34.27376711120865,-47.837641741572426,-34.89514158380133,-96.49485329397788,-62.659539862234155,-32.27801924161358,-110.10326778983962,-56.81764684667105,-44.25555262292846,-14.488615152779172,-23.283708799082078,-14.492002023474809,-55.90593777723883,-18.192405465152092,-41.26349495883059,-57.49809519900744,-18.589349992883072,-30.665909979390293,-16.843944237338846,-41.157666410057644,-107.62297944444528,-16.306015287748107,-85.57930085209127,-48.94935423876916,-38.066433180155556,-74.77880135263354,-46.76558456834833,-94.50769580292076,-116.7300487553738,-41.283149729685036,-31.259469593604454,-41.97427991171047,-184.76785951641787,-105.46711415139985,-35.23540561624098,-101.1572098363312,-56.016870832408664,-100.56076625813095,-37.410878048374656,-56.20151234859969,-57.35871149333041,-63.61684341634279,-46.81462402910083,-46.38492738002907,-61.67780799664916,-120.78210071039095,-36.21117575848457,-21.282849738542325,-32.194898335744185,-54.90529803040519,-49.845993767874305,-7.495433930173288,-36.82370640708345,-21.05813480720126,-25.097333351907707,-43.69049982197109,-32.12938940275297,-37.20338702801577,-147.25995644660657,-30.739777263743967,-20.824627384519605,-38.57751232611176,-52.70755956471277,-24.476421241861587,-14.928965979859637,-35.03655047467704,-16.275711973539842,-59.20805298030393,-69.82563896146502,-90.9722452253858,-31.19315348563092,-101.46776847899285,-174.2734774981707,-54.59679487849694,-45.93479668242807,-49.69971390301282,-48.13965141937153,-107.94580389252145,-57.75636321449092,-112.04700707959306,-36.23633980973314,-66.4690643643636,-72.4045183312054,-67.14662547348655,-100.96834752536887,-41.56021929707299,-33.97124299280668,-30.849416488593192,-60.76312363790192,-29.486467318186044,-20.55873358025147,-73.84809817743842,-30.78502601700749,-41.792837913475196,-26.924208152757846,-34.05799900833165,-33.733416527464314,-59.94951384336375,-54.58328489644496,-49.41829139013309,-43.24759032513101,-12.382535637027202,-22.474201195530412,-29.384915450172333,-44.711711979070344,-36.92061308909086,-89.08185616453093,-80.08096551582435,-35.7400714883414,-28.19958961121047,-33.39447360204923,-110.27821333781144,-116.09186567332782,-37.17591101114984,-166.1486378050412,-59.892280870566566,-26.858960334621283,-81.2622608257088,-92.83804651783649,-59.466079274671266,-37.29710954644531,-48.503883084425674,-64.74165835568246,-28.53097540181216,-26.627420180951194,-14.892759328374902,-21.92319178018514,-73.86465626261062,-43.689020763219155,-42.020526284486394,-226.22290481105674,-124.11887417025014,-68.49656858396818,-31.27467305501769,-61.74661367719538,-23.829571189898246,-96.26430349323459,-33.10022011389337,-33.7876324937688,-37.2426802330058,-51.123773727288466,-42.68529443909621,-21.097656869479795,-38.86850297436123,-56.962710657923964,-42.49787270456231,-50.21653567414269,-95.57674078862776,-107.61486677757782,-54.928690643060555,-37.30141105934719,-86.84836545970741,-163.69841626315423,-51.32046638185684,-39.27917812024986,-62.68400706142837,-20.97261077732464,-83.25574519845806,-42.95650933320236,-63.6372465978132,-123.85975865909744,-33.765552593660296,-261.54064575720776,-86.77371989316678,-51.80856402757768,-48.11854006942228,-33.98189076180206,-23.911155546993,-118.62889241478099,-118.1791696797548,-47.48398142190695,-46.58430112625929,-22.63935514067734,-67.21453239643503,-45.82755072868321,-55.89529600313885,-24.125417782538108,-59.00187607307135,-40.46013616264247,-40.681418036431765,-80.39262906729962,-30.588282985754518,-29.992009257939223,-126.3508743973297,-19.725819916402617,-51.15319918735677,-165.9040231438878,-125.62245380797114,-53.0929811914082,-84.05579918110121,-48.58891945319064,-38.47113092504685,-29.65328688477444,-50.40485486648262,-107.95858547638191,-25.400575757550683,-44.88300642763433,-41.57511540870297,-25.963312109026653,-31.637965785845374,-132.30186586721896,-32.204425003769515,-114.65979603746555,-84.37975511651183,-111.01250811360603,-51.17090244292488,-114.62197435491923,-62.05621041757902,-69.81328999863857,-64.68458950790735,-122.61220300182147,-85.65983874495937,-87.94822956038792,-67.06288183300539,-85.2731477862464,-142.1930858668268,-26.021944130402048,-47.001858937610095,-42.093949065717446,-25.530649309711897,-54.1533971257562,-29.71003216020241,-146.04849769061062,-20.82280819094597,-92.46928361472047,-35.42282887272354,-30.962001536481246,-102.87469482791472,-48.40134805162033,-49.45250077204894,-107.14448362614382,-34.67812030640445,-107.1651980225725,-70.76818250728584,-42.38817193093152,-40.07013713939067,-35.0149109015216,-42.453149312383005,-30.753096024975253,-30.86319335040099,-56.639845686450855,-59.4644727052708,-42.037555865511834,-34.20254077930825,-39.732571507957,-49.03367641382892,-27.509684049130506,-35.19140853977403,-54.36796368512879,-24.895844637881474,-117.39331461278567,-38.05796798397594,-119.34699524091315,-24.52531484596738,-31.495066547361358,-32.85766597135999,-44.56428886742519,-16.628463308134243,-47.73769323286987,-44.61888892531189,-32.78824186892524,-57.96912161770315,-41.40651134507873,-31.771007398098078,-14.583691452220853,-39.041516789706975,-37.23875282591237,-95.17924665968887,-16.18984246707602,-39.22890854813251,-23.74984501216675,-121.84990786763777,-41.05300543286806,-119.77167335511402,-36.799398833879835,-39.747697427369665,-52.71377525885923,-35.715808784597996,-72.68076863685168,-74.16954621834647,-70.23142746889238,-42.008264205669164,-29.916941173759533,-30.219608685178486,-37.339275154933816,-85.06264492323272,-41.785565257421894,-103.06925999543058,-22.567890051424854,-174.4822174973885,-55.048026584107184,-19.526115844897888,-28.176487691505507,-112.65333751348268,-33.259854925916876,-23.567401362418416,-35.545029854622626,-58.025568711141446,-31.21169740111378,-33.57145231349038,-33.6673464924392,-66.19972997301332,-200.85400520870468,-63.83284946944313,-30.07715031979935,-39.44087671733571,-41.64160126298911,-50.25633742954968,-16.69545985223148,-20.322422381173425,-40.68778853564535,-45.498679435873065,-40.34440124974874,-75.18465105425327,-45.97152158705653,-123.5453812372039,-117.47834504537299,-36.830957207551904,-155.8858240969209,-144.28825821341863,-75.34888890395484,-62.00531872393054,-131.52479876798344,-128.42202695734693,-48.6050459787223,-68.91576246623312,-24.375724936159557,-47.054275972810316,-48.56487169526466,-26.399305503626884,-29.40731190273074,-28.268289212946748,-35.132276858559464,-36.83412939399133,-44.71436693236866,-57.70515621615827,-37.07085486758266,-50.80143240971776,-30.23673119531885,-110.47405177560823,-23.399735111664935,-16.12682867688246,-66.55717855812821,-134.8258007182808,-35.48223411524319,-51.61553660620555,-46.17665142247788,-41.82918191246806,-29.02233761900802,-34.54003195939613,-89.68171691381619,-35.398138912925404,-43.34390938539999,-41.14076368245921,-38.31487337595537,-28.458306958076697,-70.96087083906383,-42.89055718541678,-91.24928478664071,-37.831183247493776,-30.908775509451104,-28.267377268238963,-18.363203613902606,-60.2274295717227,-63.93148229149125,-34.3566930797183,-19.361510460366844,-76.15197727573414,-40.36366006691133,-29.285632574193116,-32.09163870733897,-56.35362692233301,-31.439951767158952,-47.939750130692424,-21.588170340769743,-22.251519830688835,-24.733250923059458,-27.49220729706491,-29.184412387751514,-41.29047810175017,-58.173856061821816,-37.0806565740843,-117.67931782532865,-104.99766183599908,-58.298602550153966,-50.45459805722863,-41.973974524849616,-52.44477735448231,-50.42517833982987,-51.51764219441766,-28.09544759817077,-85.20276273644004,-49.67579069895726,-25.534003882415377,-90.6395656052286,-34.9089305808548,-90.05060099059713,-58.15764056319318,-56.83030505326628,-133.5055760204511,-33.986176595294076,-112.25646415814425,-35.07374165577393,-55.172904067131824,-40.16389174017026,-46.722453827989575,-32.623893207911635,-44.64101909907146,-43.06113809820617,-20.658782241937647,-87.50221019005562,-264.11199828249704,-55.592187341400404,-32.209925886910945,-44.576206153158985,-45.05119593073833,-44.448750149271596,-20.609259067679574,-90.9720444162975,-31.719237259979888,-20.939293883209363,-36.9476841424857,-59.63439877324279,-38.31181228558988,-26.66053405117897,-41.206560983659436,-52.70171076076146,-50.746990718004014,-31.307618996491588,-71.87941809357942,-36.24476879773093,-51.640703808459456,-44.840917090246464,-47.83820623859373,-64.87110233570121,-38.45417172251144,-57.45294030210287,-109.96431937086692,-33.249673083160744,-77.1864763723626,-37.703744614695076,-91.84554465917547,-93.94010011232038,-39.00708937775639,-45.04942008121938,-58.77463188983957,-38.97223132300312,-38.611732583833614,-100.57596561391843,-125.68391949368767,-59.58163189967553,-50.25132250079096,-38.152502361313296,-168.12974399699831,-16.173639979586365,-18.15885386629777,-35.66555878135024,-27.411956048172566,-73.0954937824356,-63.27816236701998,-33.19020101318654,-59.1056195623034,-46.49632203624961,-57.14159807916254,-61.54931143751813,-30.12822672616551,-98.01073533616707,-114.7017600932854,-39.93036551478142,-40.27563139972346,-17.539839805596976,-182.3146339404737,-29.788666532154778,-47.788189536442594,-20.776254878592056,-14.02859382086512,-45.49561939760733,-37.46053756000334,-50.76494188383836,-35.33196444276079,-33.49598967358,-32.40513623789135,-48.37532326135697,-124.50478728509563,-27.26599095114324,-124.72058755212886,-53.263967232494046,-31.204091282240157,-10.990064480172279,-9.658455663815388,-31.103586257502325,-56.16434474744132,-57.93673165626781,-44.54680551679954,-49.08408517597343,-48.52177928480474,-23.90038802247126,-23.098189881171933,-20.451764456182744,-28.113859222684003,-27.589589586832115,-28.93863332736098,-41.81095597236309,-18.40405660190521,-42.2552323932763,-23.424029745681985,-22.642868070070836,-19.610825015636117,-55.918910269032956,-31.08347096109621,-50.732092780413765,-30.12819325494103,-61.443624632337404,-129.0229096833733,-145.42483564002995,-120.95603488162766,-77.6249409595262,-119.28150709578242,-11.265018702921285],\"y\":[-31.810007347127183,-36.92027588027139,-33.008216897694915,-11.237879346272699,-33.47080610040237,-14.103361376875702,-29.715918838775384,-16.83736395547205,-14.738946080822949,-13.762879875157331,-22.382344419953775,-23.16807186756966,-28.669730408969343,-20.071613844413566,-15.464385315356521,-18.496261218868305,-20.38808867823457,-23.525101460644695,-38.918849429716474,-15.356777316830877,-14.074325647897517,-7.507237363641954,-19.592459966871917,-42.98036419703417,-31.828102737341226,-26.264604637322453,-18.047194613842837,-28.97845135787596,-22.164377439495393,-25.351641597448364,-30.849432511345444,-14.515064599617313,-25.437272305739327,-33.183939504133335,-23.39238221903016,-24.12364980753613,-17.029018111152837,-13.834971822809706,-16.990535307125747,-15.48619631344663,-15.841089970193128,-10.58985918141704,-30.663661103417375,-16.44327665097936,-15.017168692799265,-29.92246274012431,-5.75112758827371,-15.158794206757978,-12.42246418776379,-15.217911304573416,-11.54610878085228,-15.082339042296425,-11.83507913120831,-27.50152137463538,-20.058626739571622,-11.17809361727008,-35.45704428178217,-18.8484459283956,-14.070105166854658,-6.361992584062639,-8.513350727048039,-6.3852667133422125,-18.175703213131648,-7.4365555628261735,-15.491174889992637,-18.631179136806807,-7.655218283323008,-10.62225528722828,-6.981055242532461,-13.186940150912516,-32.91856781419767,-6.580489031914006,-28.42128374349972,-16.4524116719161,-13.052292980174125,-23.0419930250587,-14.496732006982963,-28.929298679267987,-32.808388714408935,-13.726841724815865,-11.375857439991211,-13.983563855361822,-50.14907677099726,-29.020017109337427,-12.325446620159632,-30.216148127895494,-17.546015258871495,-30.461348499343956,-12.6972125292019,-17.284287085977326,-17.626910765445047,-18.904335119075395,-16.00060989790708,-15.141547617474519,-19.895693859676296,-34.387833896202395,-11.922261341177968,-8.38872523807931,-11.314124042275168,-17.57545666914937,-16.974912335750474,-4.383458082446467,-12.421120491814607,-8.274629710393466,-9.279744825297145,-15.621423415309637,-11.410645810994126,-12.483051366219568,-42.46334152343944,-11.051315966976288,-8.15157253578773,-12.637404524720814,-16.33387845733796,-9.16214276548304,-6.486710652859096,-12.250845859567159,-6.436089850859416,-20.06403588531327,-22.96133643182931,-26.182079302339076,-11.171249224563173,-29.861703896102014,-44.87836924815254,-16.90548771626317,-14.646705031455218,-15.88519288779028,-16.479771162123527,-30.644701172778976,-17.605333871253173,-32.13452326634101,-12.309664224274309,-21.574824182160025,-22.803661905948676,-20.218113458872402,-30.084476140525677,-13.955369764129777,-11.901846795126348,-10.80391923212767,-18.59250426835369,-10.443917221931839,-7.97651485677919,-23.163876472476648,-11.160894130406579,-13.984000531919266,-9.888381745290326,-11.495956428553125,-12.259960687491677,-18.18366409537659,-17.000889772796356,-15.795573200461114,-13.857550508855844,-5.941705689327916,-8.33752366284521,-10.317059643105319,-14.670075069937813,-12.510029850159114,-26.063472100646255,-22.959725738224723,-12.118830117754063,-10.206747016272324,-11.562362946948374,-30.393455074347287,-37.106283616697304,-12.598591231313993,-45.96056946648148,-18.020065490583416,-9.685683855885594,-24.605222529274414,-28.84411028165195,-18.042738567102578,-12.482893732471418,-17.356759164101494,-21.073610973563284,-10.096003707851805,-9.694652490279257,-6.290237534878185,-8.593778470520503,-21.781846913885552,-13.997022779502721,-13.435882254274414,-61.08110940686821,-37.6211849872248,-22.77027448651449,-10.860096468289527,-19.678877357753294,-9.112410973738303,-28.28716391537898,-11.498719759745978,-11.671729368240303,-12.458326546708893,-16.55343666204189,-13.194503294825884,-8.580681123799545,-14.301388616514252,-17.492600348714266,-13.733887374275962,-16.2683093976211,-26.587507932558932,-32.065015358424745,-19.084405271242442,-13.058850103275622,-25.56476535535257,-42.967255406380126,-19.05106230991986,-13.682688232104741,-19.882719597293743,-8.061340360863964,-24.43996548808033,-14.256991140576654,-19.673238263646457,-33.84041541572606,-11.834321666186021,-58.143064839443774,-23.86118718474395,-16.814396943977023,-15.892932764385383,-11.824479211008208,-9.005782016223412,-35.553502613675796,-38.95281428939878,-15.418754606097787,-15.078819649185352,-8.688058795108086,-21.37193750910118,-14.982389998235444,-17.665978696352624,-9.135477954907534,-17.989825429060613,-13.546286859599043,-14.26977442142082,-24.345206359681193,-10.544083286333324,-10.603058214649295,-36.12061781622193,-7.803521907379665,-16.099728649904385,-49.446374173318624,-34.948759487279425,-16.839755291435214,-26.251051167304393,-15.263743004392433,-12.675456093661888,-10.623546072231742,-15.643004952079867,-30.267255928838157,-9.427535555672408,-14.294142095701044,-13.825455599879774,-9.82594664471174,-11.081944808022287,-37.64615564887029,-11.081582647605826,-34.77135880786893,-25.103951305483378,-34.47646162234263,-16.78713227203158,-34.458150256533884,-19.312705137479053,-22.08525005477025,-20.618089624289773,-35.49213450514242,-25.158099485992853,-25.72349545133543,-20.565451219090164,-26.605885362823724,-48.942351727143524,-9.393371453943557,-14.983037454121398,-13.674604801295535,-9.442509259337529,-16.344528721562558,-10.536200314547603,-42.37877261981611,-8.170358174481606,-26.971965409234166,-11.513391401717934,-10.766220529427027,-27.991042203434844,-15.714618256966961,-15.421402809110445,-32.0203320606384,-11.60254606291134,-31.63950421481781,-21.699853464971905,-13.726367783930224,-13.09180801991134,-11.928952202552727,-13.556247859668906,-10.557644846342281,-10.815610992501183,-17.162172835341956,-18.068554620737807,-13.615770683197024,-11.78973783525006,-13.020232704043698,-15.311028563367364,-9.732309722500485,-11.931266432462877,-17.23515262187561,-8.845235959487841,-35.56051652077269,-12.532834082719837,-33.42704070331663,-9.161476356668896,-10.953183579766115,-11.212227759113055,-14.349420022039482,-6.934463295909897,-15.314687799056486,-14.437595811925137,-11.346752549433987,-17.96252713585188,-13.578384612385332,-10.967414445867607,-6.383680389132393,-12.784940176606474,-12.142158949532233,-28.601377910208125,-6.7715275887271,-12.671204890829417,-9.080348550727711,-33.80796456298141,-13.561835236960551,-35.772479124469,-12.57548375344358,-13.141202339718552,-16.61064436298839,-11.998754107308919,-22.41469960184486,-21.67611971021275,-21.723960166507286,-13.815009436535002,-10.510981453229459,-10.83027274523421,-12.545179678959638,-25.764725403434046,-13.593519929527114,-32.50279089965733,-8.808020152726446,-50.54129229729779,-17.659867620890385,-7.894987353971421,-10.162084518668031,-31.731746990533395,-11.420835733576695,-8.928730016093576,-12.274618099985002,-18.250421346736424,-10.932974718055641,-11.456881458537207,-11.617810276770372,-20.039049011732672,-57.25654401625906,-20.22046787551839,-10.219950757796473,-12.745407482781252,-13.594448050156851,-15.752810950869444,-6.577448383867359,-8.360067995285249,-13.158305837890328,-14.401148407941834,-13.295051533647692,-22.13327704092317,-14.817374781742643,-35.06517197651425,-33.1161461325314,-12.894851463593083,-48.92652804203902,-41.165817134881195,-23.15727245216228,-18.5986980890905,-35.037103854213655,-36.93898755807107,-15.287815237892183,-20.216115584593542,-8.768226898258716,-15.067852338513777,-15.237969738131094,-10.365098658513102,-10.637107585402694,-10.252738891930179,-11.785279751762925,-12.793645569277828,-14.309787279261062,-17.271504736570588,-12.218076881302188,-16.114581669368153,-10.414160517258795,-29.835130792404332,-8.918863002931747,-6.8973958326259375,-22.984408824863728,-39.14830228875401,-12.375777518032285,-16.082290445286656,-15.056858877158644,-13.497267532251676,-10.634527942395401,-11.969738317864259,-26.765829491582277,-12.424763880186738,-14.01334621313104,-13.49854429782045,-12.37128044227739,-10.30608577232529,-21.006237793001894,-14.117797329168374,-27.060115050888356,-13.022034189821603,-11.130088864803643,-10.442348688798566,-7.329373912403038,-18.602919536294404,-19.465490977944093,-11.762462305103902,-8.004518846301533,-26.34462387288699,-13.11322690757765,-10.453873304188532,-11.336630483959516,-17.47359708888057,-10.975561861256756,-15.490771500421108,-8.091585455482717,-8.599350415084064,-9.386903820063662,-10.26366650415615,-10.21288775181338,-13.338090770985508,-18.088554325843123,-12.327597758186329,-32.22965591839066,-30.905673408088937,-17.667891361678205,-17.115483115806406,-13.674753042474133,-16.35245053867076,-16.17197056811979,-15.868190545722099,-10.264611633472585,-25.556851309739905,-15.601007147326106,-9.433528626120623,-26.66079640972059,-11.806175991099005,-27.470489457316773,-18.045603749192473,-17.82822916701544,-38.26465479431562,-11.646174791252362,-30.86890656362655,-11.95241164602365,-16.958425697983433,-13.611556703225505,-15.180449180206729,-11.639102803949935,-14.34317248302503,-14.001638978738221,-8.116985358444467,-27.98149977800769,-71.59370820759125,-16.80275593396649,-11.187932160540795,-14.727299665462851,-14.973041658922995,-14.639957954910022,-8.177075605437507,-27.357514491657252,-11.392302012314126,-8.1988050214697,-12.420356277153651,-18.80884683171336,-12.9486015429037,-9.830923104507294,-13.613224452319788,-17.04681319553869,-15.968373147138802,-10.896452004094161,-21.115921281196613,-12.293197019600921,-16.825700047482595,-14.72966502544176,-15.296921651611196,-19.523463497014976,-12.525566443022067,-17.945388502715232,-32.78174706613367,-11.708310347357347,-22.92599774941649,-13.040298799634805,-26.031995354122802,-27.71224617790455,-12.705994273645155,-14.450320359655775,-17.95440306690692,-13.451072127881798,-13.185001136733293,-30.025089947096912,-35.349842241874924,-18.519409529943612,-16.396715888720962,-12.764516243574572,-48.270876742037366,-6.884351813379515,-7.706414915888564,-12.088822972106016,-9.886216866651793,-21.21624963752887,-19.569862307227044,-11.276154909967776,-17.628000025835995,-16.04680498552139,-17.96572798464755,-19.453016291215395,-10.760890560959346,-29.100790460736327,-32.88524849552826,-13.823044026978332,-13.488030885341026,-7.30871239595764,-50.110307933835806,-10.400906330128818,-15.389115013723465,-8.30642599883556,-6.3172444868461035,-15.175022256316456,-12.677242687179454,-15.602022376769433,-12.143774666949758,-11.783430990381353,-11.634315038382288,-16.007834811896295,-34.20401428029896,-9.87926071060483,-35.494559203087746,-16.621276246770048,-11.193157274907964,-5.282886005473454,-5.016398098233886,-10.971053960435878,-17.50548663195048,-17.944786220811707,-14.349775092972308,-15.524477833496228,-15.663383865725178,-8.91753489878691,-8.697143962532165,-8.06169818590779,-10.364148896100742,-9.722504571518368,-10.204532454041276,-13.551897450495291,-7.3014228343524445,-13.639174040538382,-8.821191906198273,-8.675910306918995,-7.686605045793543,-17.01111296985733,-11.123573552140767,-15.842651874924357,-10.854273121813472,-19.295380870462484,-35.727768173460476,-39.5753154307804,-34.27363143005691,-23.065950838747423,-34.929828972653695,-5.473502191298254],\"z\":[75.17351742978231,103.91406395796801,94.18024773117513,32.43623274937967,103.32331047662491,38.80679951615407,82.13864759779646,46.42561258699855,42.73361020646253,39.18727028113886,63.81876657673827,61.71555905882072,92.24370046653497,64.03590517416461,48.08588481254885,53.4876153791769,54.406179605165995,63.43814452985873,95.84033677651358,46.552381051475436,43.02370278676565,23.455060216564263,56.951965797939714,107.31461328185866,66.6708948153455,71.3860396850984,52.836631964518304,87.11951641870465,58.225792981622284,77.07137037058224,84.7729065802542,34.98333247855398,71.13404114674132,90.87966894273501,64.33138466399578,69.64129989430246,52.232447249194344,43.746968501365004,57.00233878471999,45.688872730425345,45.77056257109837,31.142023623005727,88.21956213660098,43.6926292550643,43.4306018548282,85.05856036938589,17.41012667798318,43.590116142072574,37.173151607814894,46.23113627113291,35.498119357923876,47.418462309966344,36.139359077949834,81.5403036151474,57.374128723952005,33.91189212680001,87.82351302801959,52.7190611753326,43.27898125592651,19.172571047623773,26.347389500068644,19.440395621195563,52.34120003067226,22.612596623237756,39.857955596815025,54.07205882563759,23.17092842193551,32.903740495725124,21.34726988965295,41.608036003711085,87.64572898756607,21.1677559603255,71.89872250614167,47.56932800536909,38.860651131688385,64.50631325127236,46.30585561657056,76.69776879097793,99.88806451930817,41.8653008821291,33.46991429457964,43.40534649708937,148.48182706767065,92.49207766046422,36.824074735184034,84.82797167302584,53.27549161976046,84.69021105330174,38.892434096284745,53.471157428002634,53.88819528067272,59.43191608857065,44.553034413363974,45.689237469471244,56.80314847965201,99.6958895750865,37.780416673213296,25.036759545000987,34.25425534241731,52.8881490630005,46.56899906036526,12.920012929050138,38.201243233018786,25.4176079695656,28.293879873666985,42.69144075054045,34.6607632977686,38.85061724140369,116.97594563727412,32.90598294808035,24.79130279735166,40.64151812410718,52.68328583625299,28.30894862183081,19.79454436483563,35.92770801696704,21.839215090183068,54.6529659578444,61.69287381767573,78.83784622723226,33.563641330269476,84.77978030454994,136.28962778709695,52.78700784393508,45.85183235775515,48.36148905721794,46.525702968704,90.57298652440336,55.19674881519821,94.50803554609877,38.21339552024974,59.506614057189786,64.89451755867833,62.105017888889435,84.83222660434407,41.61421775862326,35.486142482306946,33.44462125339401,54.63368629591432,31.965131293528753,24.245414200957985,64.22997708663708,33.328850579389695,42.37396129406053,29.824001464431134,36.39401764717557,35.90391003368276,56.74590800435526,52.79401959555488,47.82281212648746,42.753562480426844,17.78884858315358,25.249771558629295,31.902206657489103,44.2499120439034,38.16375252268459,76.29044040180834,71.8203331642241,37.27612596674041,30.569421800101132,35.12282268702117,91.2241583921575,92.99830468342478,38.62747885318619,131.99692493196412,56.72830175190552,29.93544534058621,70.4831523057399,76.00727739985001,56.35793345672527,38.54365019425136,44.881135160635026,58.860616575325594,31.1845755165603,29.508889448274672,19.501636427760133,25.928911081810572,68.18413167368526,43.43038162790736,42.13176040845401,175.76457729356292,102.43389205729524,60.676399133695845,33.45256933167328,57.406691437996216,26.619409420659064,83.57531170316092,34.87442430220299,35.836620554441396,38.46967094676564,50.10203512801327,42.23498191163702,25.091049679758864,38.62646291235195,56.05842920942377,42.829951946175576,48.68151803972141,81.79914142302951,91.46437419512166,51.54629058523723,37.88283874809568,76.8715618554281,134.8161015593433,47.29575812151567,39.3665662366728,57.854717475959454,25.2544166644746,71.94983763000873,43.823259360765526,58.96095473316568,102.44966800472727,35.33583394928133,187.8581326732194,76.89031410988044,50.629394683145065,47.67503162206741,36.15776234343849,27.44815217251418,94.73684874157601,91.80188371993037,46.64732464138892,46.29366272034398,26.48040148577747,61.324643781122205,44.77392821724345,51.90092427803606,27.679768993333646,56.509031235873984,40.79306578530555,41.26752801790662,72.19629929779968,33.06266483640977,32.14101993662926,104.20632150856537,23.501816978840232,49.67212551916463,126.7627447142226,103.61477758915126,51.22941561568599,72.61660678712305,47.11819369163039,39.53727042510477,33.23275197281905,47.994034516087424,93.10870044156403,28.864162999611384,44.96895124296407,42.774480089295125,28.92264678191277,33.885878875662726,105.22723928650589,33.8700454918685,93.32862136569567,74.87989342143695,90.86936796588354,48.78942401368806,94.54165624136509,57.608221321132206,61.08884063785562,60.534804107437154,102.00735656264355,74.88061183184952,75.45827600009741,61.69691446369162,73.50862605779896,101.36896651109305,29.518592904253012,46.6220770630553,42.49461425375829,29.139826588397824,52.180106690111955,32.29615158837766,115.13282685669171,24.58208912061395,80.13356655601555,36.28638378304708,33.18432228950273,89.34557075448888,46.85068068091388,48.68733561367186,89.82133144839486,35.63913278853632,91.0569410720968,65.69207209306545,43.058859543042296,40.40691974079391,37.33270800922638,42.70247149532431,32.89834854660219,33.45058255685384,52.16398439187281,56.514063128620975,42.36180863828131,36.059280358377386,40.964071926345895,48.10147889315154,30.719680963334465,35.635815890242796,51.67287308141321,28.208102276820057,93.5068731276784,39.07671401678785,98.1336567666302,28.26798319060799,33.719038567582274,35.04308860756809,44.22162550188212,21.12139252473604,46.3884685682417,43.383770120506426,35.04845870524518,54.058399551062145,41.64390589996165,34.2055874722096,19.479426652749318,39.85078701623173,38.32775693672073,81.3940541112768,21.801375704192097,39.71756616588042,27.004023440711826,100.96641834134614,42.033801324347614,99.65412312431963,38.00327475203222,40.56396762391427,50.416720295912164,36.955871772872065,65.68135082435717,66.39700315096879,64.29020996238619,42.64311596037633,32.6516413628018,32.56519464159734,38.72600613353549,73.1245669866131,42.44454976736176,84.51953960591872,26.468649092337376,132.51356373437903,52.2054541632109,23.788290166104144,31.485330092951163,96.42257832051287,34.89233642269539,27.76415941644431,36.86875447225182,54.43323861580532,33.50540201796771,35.58288183898478,34.60338889509195,61.665500732761934,154.74017814413767,57.04563308492525,32.44592206389849,40.85572778326613,42.98229567746045,49.10811919521174,21.246179301081778,23.339316895337824,40.479895444945974,45.40587744794068,41.25193947850676,68.2425146582915,45.41633060020307,102.44683353282704,98.18776508680564,37.78220797076021,112.01584031999268,115.49291855094815,67.41911543554458,58.30295560496726,112.48911402031517,105.03342098284247,47.820782044585194,64.90560978265955,29.556191542406804,46.266782449298034,48.038651024590415,30.47535980891447,32.530763366630964,31.299274816881542,37.9675262302854,38.449866927299745,44.94790746658671,54.858834301798325,38.640017281213716,48.68951937322924,33.07210395796989,95.60134816300393,27.045739979669445,20.220499101600414,58.37511063064583,110.52646605504216,37.054673923489304,50.60499668071041,46.066079300236964,42.09493528123543,31.386317215022313,35.73708118836219,80.3644636288737,36.676667837859,43.85791162709476,42.17496598571785,38.85452338628752,31.317017144008286,65.38014830216657,41.81002546125939,79.24587163872819,38.54603040509346,33.66019616880022,31.315329023421814,23.083756829125726,56.78125842963272,58.009067959956745,36.122511890797476,23.34330622973078,58.37638917184756,41.07623372888939,31.954885123849888,34.312796950932864,54.265299931144845,34.1468063707354,47.43071792131321,24.674775058135868,25.881205137245352,28.281190231621984,30.200531033790224,31.932459133829877,41.44751372565249,57.035778545781604,39.59395246487273,100.62841742790296,86.43058527377356,55.063532536744546,48.83224225222256,42.086466677290254,50.0948339605931,48.61430613817144,49.956795505006994,31.789514373867537,74.01111141671457,47.86664658454525,28.96991621210219,79.46478394670498,36.71491626783892,78.29524968074641,55.12378073749503,54.15633820355345,109.11966589320983,36.10905043546485,95.50728669620145,36.98695495003827,52.94835882229077,40.49138842116501,45.72294588981283,34.59961481985282,44.342297833373436,42.761892324483206,24.60829000167125,70.93714814498686,177.43439547470373,53.03576231640697,34.36287188275643,43.955456408415586,45.158206531342785,43.9915708338651,24.207928060189445,76.72484278829627,34.38102917940551,24.535805120428762,37.30364870537371,55.78127156883409,38.67481547524292,30.167046812192822,41.94143898343397,50.523805750293974,49.38150346644011,34.09951198184454,67.03124090091073,38.062402454946174,48.869542333335325,45.053587206342186,46.939258645657645,61.380678645979145,40.9183971593545,54.50090806129617,92.18641082406245,34.8657959541838,69.58083499550497,38.40765310189134,79.98226370691084,79.51409369453205,39.73146015477287,44.55243749023119,56.0193216448311,39.9543230690719,39.766010973939686,83.32768029250882,104.98686577696094,55.99444361571488,48.5999618924046,39.561860260807535,128.50872155589542,21.879448550625845,23.290850170202837,37.57070907840929,30.83427169854851,66.73491587322017,60.232583338279426,35.622247617448686,55.94146810266813,45.31085030250645,53.338238760563414,56.68817764164799,32.43221355951955,82.94095529442244,96.71476697243851,40.61585677711502,40.722364425888095,22.12824669129773,143.4740561230819,32.5535020169825,47.06629443527032,25.02741794502302,19.021576368182448,45.21614363189391,38.85536548235359,49.53859966486105,36.827350154391034,35.50497380550052,34.45043121579987,46.866103869952696,102.86352829191662,31.037834364998417,103.19891778407947,52.38435245200569,34.150194761880314,15.536235287834513,14.760012914558613,33.71739460717229,54.161459990215214,54.62913079359521,44.5350663400019,48.20522212235411,46.60289880993198,27.360403556579044,27.241856939148697,24.22619518523606,30.29889164698768,30.246042947853773,31.887943219744002,41.81907424604897,22.66951485597343,42.51671957827262,27.239713541172268,26.430642498530744,23.583503220874864,54.51769408918522,34.34549196838181,49.61617066843135,32.61354006880016,58.940391602779044,107.22666352291853,114.62401498147443,99.38555501278856,69.03707929947232,100.4215106641369,15.681228335201126],\"type\":\"scatter3d\"}],                        {\"template\":{\"data\":{\"histogram2dcontour\":[{\"type\":\"histogram2dcontour\",\"colorbar\":{\"outlinewidth\":0,\"ticks\":\"\"},\"colorscale\":[[0.0,\"#0d0887\"],[0.1111111111111111,\"#46039f\"],[0.2222222222222222,\"#7201a8\"],[0.3333333333333333,\"#9c179e\"],[0.4444444444444444,\"#bd3786\"],[0.5555555555555556,\"#d8576b\"],[0.6666666666666666,\"#ed7953\"],[0.7777777777777778,\"#fb9f3a\"],[0.8888888888888888,\"#fdca26\"],[1.0,\"#f0f921\"]]}],\"choropleth\":[{\"type\":\"choropleth\",\"colorbar\":{\"outlinewidth\":0,\"ticks\":\"\"}}],\"histogram2d\":[{\"type\":\"histogram2d\",\"colorbar\":{\"outlinewidth\":0,\"ticks\":\"\"},\"colorscale\":[[0.0,\"#0d0887\"],[0.1111111111111111,\"#46039f\"],[0.2222222222222222,\"#7201a8\"],[0.3333333333333333,\"#9c179e\"],[0.4444444444444444,\"#bd3786\"],[0.5555555555555556,\"#d8576b\"],[0.6666666666666666,\"#ed7953\"],[0.7777777777777778,\"#fb9f3a\"],[0.8888888888888888,\"#fdca26\"],[1.0,\"#f0f921\"]]}],\"heatmap\":[{\"type\":\"heatmap\",\"colorbar\":{\"outlinewidth\":0,\"ticks\":\"\"},\"colorscale\":[[0.0,\"#0d0887\"],[0.1111111111111111,\"#46039f\"],[0.2222222222222222,\"#7201a8\"],[0.3333333333333333,\"#9c179e\"],[0.4444444444444444,\"#bd3786\"],[0.5555555555555556,\"#d8576b\"],[0.6666666666666666,\"#ed7953\"],[0.7777777777777778,\"#fb9f3a\"],[0.8888888888888888,\"#fdca26\"],[1.0,\"#f0f921\"]]}],\"heatmapgl\":[{\"type\":\"heatmapgl\",\"colorbar\":{\"outlinewidth\":0,\"ticks\":\"\"},\"colorscale\":[[0.0,\"#0d0887\"],[0.1111111111111111,\"#46039f\"],[0.2222222222222222,\"#7201a8\"],[0.3333333333333333,\"#9c179e\"],[0.4444444444444444,\"#bd3786\"],[0.5555555555555556,\"#d8576b\"],[0.6666666666666666,\"#ed7953\"],[0.7777777777777778,\"#fb9f3a\"],[0.8888888888888888,\"#fdca26\"],[1.0,\"#f0f921\"]]}],\"contourcarpet\":[{\"type\":\"contourcarpet\",\"colorbar\":{\"outlinewidth\":0,\"ticks\":\"\"}}],\"contour\":[{\"type\":\"contour\",\"colorbar\":{\"outlinewidth\":0,\"ticks\":\"\"},\"colorscale\":[[0.0,\"#0d0887\"],[0.1111111111111111,\"#46039f\"],[0.2222222222222222,\"#7201a8\"],[0.3333333333333333,\"#9c179e\"],[0.4444444444444444,\"#bd3786\"],[0.5555555555555556,\"#d8576b\"],[0.6666666666666666,\"#ed7953\"],[0.7777777777777778,\"#fb9f3a\"],[0.8888888888888888,\"#fdca26\"],[1.0,\"#f0f921\"]]}],\"surface\":[{\"type\":\"surface\",\"colorbar\":{\"outlinewidth\":0,\"ticks\":\"\"},\"colorscale\":[[0.0,\"#0d0887\"],[0.1111111111111111,\"#46039f\"],[0.2222222222222222,\"#7201a8\"],[0.3333333333333333,\"#9c179e\"],[0.4444444444444444,\"#bd3786\"],[0.5555555555555556,\"#d8576b\"],[0.6666666666666666,\"#ed7953\"],[0.7777777777777778,\"#fb9f3a\"],[0.8888888888888888,\"#fdca26\"],[1.0,\"#f0f921\"]]}],\"mesh3d\":[{\"type\":\"mesh3d\",\"colorbar\":{\"outlinewidth\":0,\"ticks\":\"\"}}],\"scatter\":[{\"fillpattern\":{\"fillmode\":\"overlay\",\"size\":10,\"solidity\":0.2},\"type\":\"scatter\"}],\"parcoords\":[{\"type\":\"parcoords\",\"line\":{\"colorbar\":{\"outlinewidth\":0,\"ticks\":\"\"}}}],\"scatterpolargl\":[{\"type\":\"scatterpolargl\",\"marker\":{\"colorbar\":{\"outlinewidth\":0,\"ticks\":\"\"}}}],\"bar\":[{\"error_x\":{\"color\":\"#2a3f5f\"},\"error_y\":{\"color\":\"#2a3f5f\"},\"marker\":{\"line\":{\"color\":\"#E5ECF6\",\"width\":0.5},\"pattern\":{\"fillmode\":\"overlay\",\"size\":10,\"solidity\":0.2}},\"type\":\"bar\"}],\"scattergeo\":[{\"type\":\"scattergeo\",\"marker\":{\"colorbar\":{\"outlinewidth\":0,\"ticks\":\"\"}}}],\"scatterpolar\":[{\"type\":\"scatterpolar\",\"marker\":{\"colorbar\":{\"outlinewidth\":0,\"ticks\":\"\"}}}],\"histogram\":[{\"marker\":{\"pattern\":{\"fillmode\":\"overlay\",\"size\":10,\"solidity\":0.2}},\"type\":\"histogram\"}],\"scattergl\":[{\"type\":\"scattergl\",\"marker\":{\"colorbar\":{\"outlinewidth\":0,\"ticks\":\"\"}}}],\"scatter3d\":[{\"type\":\"scatter3d\",\"line\":{\"colorbar\":{\"outlinewidth\":0,\"ticks\":\"\"}},\"marker\":{\"colorbar\":{\"outlinewidth\":0,\"ticks\":\"\"}}}],\"scattermapbox\":[{\"type\":\"scattermapbox\",\"marker\":{\"colorbar\":{\"outlinewidth\":0,\"ticks\":\"\"}}}],\"scatterternary\":[{\"type\":\"scatterternary\",\"marker\":{\"colorbar\":{\"outlinewidth\":0,\"ticks\":\"\"}}}],\"scattercarpet\":[{\"type\":\"scattercarpet\",\"marker\":{\"colorbar\":{\"outlinewidth\":0,\"ticks\":\"\"}}}],\"carpet\":[{\"aaxis\":{\"endlinecolor\":\"#2a3f5f\",\"gridcolor\":\"white\",\"linecolor\":\"white\",\"minorgridcolor\":\"white\",\"startlinecolor\":\"#2a3f5f\"},\"baxis\":{\"endlinecolor\":\"#2a3f5f\",\"gridcolor\":\"white\",\"linecolor\":\"white\",\"minorgridcolor\":\"white\",\"startlinecolor\":\"#2a3f5f\"},\"type\":\"carpet\"}],\"table\":[{\"cells\":{\"fill\":{\"color\":\"#EBF0F8\"},\"line\":{\"color\":\"white\"}},\"header\":{\"fill\":{\"color\":\"#C8D4E3\"},\"line\":{\"color\":\"white\"}},\"type\":\"table\"}],\"barpolar\":[{\"marker\":{\"line\":{\"color\":\"#E5ECF6\",\"width\":0.5},\"pattern\":{\"fillmode\":\"overlay\",\"size\":10,\"solidity\":0.2}},\"type\":\"barpolar\"}],\"pie\":[{\"automargin\":true,\"type\":\"pie\"}]},\"layout\":{\"autotypenumbers\":\"strict\",\"colorway\":[\"#636efa\",\"#EF553B\",\"#00cc96\",\"#ab63fa\",\"#FFA15A\",\"#19d3f3\",\"#FF6692\",\"#B6E880\",\"#FF97FF\",\"#FECB52\"],\"font\":{\"color\":\"#2a3f5f\"},\"hovermode\":\"closest\",\"hoverlabel\":{\"align\":\"left\"},\"paper_bgcolor\":\"white\",\"plot_bgcolor\":\"#E5ECF6\",\"polar\":{\"bgcolor\":\"#E5ECF6\",\"angularaxis\":{\"gridcolor\":\"white\",\"linecolor\":\"white\",\"ticks\":\"\"},\"radialaxis\":{\"gridcolor\":\"white\",\"linecolor\":\"white\",\"ticks\":\"\"}},\"ternary\":{\"bgcolor\":\"#E5ECF6\",\"aaxis\":{\"gridcolor\":\"white\",\"linecolor\":\"white\",\"ticks\":\"\"},\"baxis\":{\"gridcolor\":\"white\",\"linecolor\":\"white\",\"ticks\":\"\"},\"caxis\":{\"gridcolor\":\"white\",\"linecolor\":\"white\",\"ticks\":\"\"}},\"coloraxis\":{\"colorbar\":{\"outlinewidth\":0,\"ticks\":\"\"}},\"colorscale\":{\"sequential\":[[0.0,\"#0d0887\"],[0.1111111111111111,\"#46039f\"],[0.2222222222222222,\"#7201a8\"],[0.3333333333333333,\"#9c179e\"],[0.4444444444444444,\"#bd3786\"],[0.5555555555555556,\"#d8576b\"],[0.6666666666666666,\"#ed7953\"],[0.7777777777777778,\"#fb9f3a\"],[0.8888888888888888,\"#fdca26\"],[1.0,\"#f0f921\"]],\"sequentialminus\":[[0.0,\"#0d0887\"],[0.1111111111111111,\"#46039f\"],[0.2222222222222222,\"#7201a8\"],[0.3333333333333333,\"#9c179e\"],[0.4444444444444444,\"#bd3786\"],[0.5555555555555556,\"#d8576b\"],[0.6666666666666666,\"#ed7953\"],[0.7777777777777778,\"#fb9f3a\"],[0.8888888888888888,\"#fdca26\"],[1.0,\"#f0f921\"]],\"diverging\":[[0,\"#8e0152\"],[0.1,\"#c51b7d\"],[0.2,\"#de77ae\"],[0.3,\"#f1b6da\"],[0.4,\"#fde0ef\"],[0.5,\"#f7f7f7\"],[0.6,\"#e6f5d0\"],[0.7,\"#b8e186\"],[0.8,\"#7fbc41\"],[0.9,\"#4d9221\"],[1,\"#276419\"]]},\"xaxis\":{\"gridcolor\":\"white\",\"linecolor\":\"white\",\"ticks\":\"\",\"title\":{\"standoff\":15},\"zerolinecolor\":\"white\",\"automargin\":true,\"zerolinewidth\":2},\"yaxis\":{\"gridcolor\":\"white\",\"linecolor\":\"white\",\"ticks\":\"\",\"title\":{\"standoff\":15},\"zerolinecolor\":\"white\",\"automargin\":true,\"zerolinewidth\":2},\"scene\":{\"xaxis\":{\"backgroundcolor\":\"#E5ECF6\",\"gridcolor\":\"white\",\"linecolor\":\"white\",\"showbackground\":true,\"ticks\":\"\",\"zerolinecolor\":\"white\",\"gridwidth\":2},\"yaxis\":{\"backgroundcolor\":\"#E5ECF6\",\"gridcolor\":\"white\",\"linecolor\":\"white\",\"showbackground\":true,\"ticks\":\"\",\"zerolinecolor\":\"white\",\"gridwidth\":2},\"zaxis\":{\"backgroundcolor\":\"#E5ECF6\",\"gridcolor\":\"white\",\"linecolor\":\"white\",\"showbackground\":true,\"ticks\":\"\",\"zerolinecolor\":\"white\",\"gridwidth\":2}},\"shapedefaults\":{\"line\":{\"color\":\"#2a3f5f\"}},\"annotationdefaults\":{\"arrowcolor\":\"#2a3f5f\",\"arrowhead\":0,\"arrowwidth\":1},\"geo\":{\"bgcolor\":\"white\",\"landcolor\":\"#E5ECF6\",\"subunitcolor\":\"white\",\"showland\":true,\"showlakes\":true,\"lakecolor\":\"white\"},\"title\":{\"x\":0.05},\"mapbox\":{\"style\":\"light\"}}},\"scene\":{\"domain\":{\"x\":[0.0,1.0],\"y\":[0.0,1.0]},\"xaxis\":{\"title\":{\"text\":\"x\"}},\"yaxis\":{\"title\":{\"text\":\"y\"}},\"zaxis\":{\"title\":{\"text\":\"z\"}}},\"legend\":{\"tracegroupgap\":0},\"margin\":{\"t\":60}},                        {\"responsive\": true}                    ).then(function(){\n",
       "                            \n",
       "var gd = document.getElementById('43f70cee-d05a-470c-a465-b37e08914b48');\n",
       "var x = new MutationObserver(function (mutations, observer) {{\n",
       "        var display = window.getComputedStyle(gd).display;\n",
       "        if (!display || display === 'none') {{\n",
       "            console.log([gd, 'removed!']);\n",
       "            Plotly.purge(gd);\n",
       "            observer.disconnect();\n",
       "        }}\n",
       "}});\n",
       "\n",
       "// Listen for the removal of the full notebook cells\n",
       "var notebookContainer = gd.closest('#notebook-container');\n",
       "if (notebookContainer) {{\n",
       "    x.observe(notebookContainer, {childList: true});\n",
       "}}\n",
       "\n",
       "// Listen for the clearing of the current output cell\n",
       "var outputEl = gd.closest('.output');\n",
       "if (outputEl) {{\n",
       "    x.observe(outputEl, {childList: true});\n",
       "}}\n",
       "\n",
       "                        })                };                });            </script>        </div>"
      ]
     },
     "metadata": {},
     "output_type": "display_data"
    }
   ],
   "source": [
    "plt.scatter_3d(x = x_reduced[:, 0], y = x_reduced[:, 1], z = x_reduced[:, 2])"
   ]
  },
  {
   "cell_type": "code",
   "execution_count": null,
   "id": "cb0492f2",
   "metadata": {},
   "outputs": [],
   "source": []
  }
 ],
 "metadata": {
  "kernelspec": {
   "display_name": "Python 3 (ipykernel)",
   "language": "python",
   "name": "python3"
  },
  "language_info": {
   "codemirror_mode": {
    "name": "ipython",
    "version": 3
   },
   "file_extension": ".py",
   "mimetype": "text/x-python",
   "name": "python",
   "nbconvert_exporter": "python",
   "pygments_lexer": "ipython3",
   "version": "3.11.5"
  }
 },
 "nbformat": 4,
 "nbformat_minor": 5
}
