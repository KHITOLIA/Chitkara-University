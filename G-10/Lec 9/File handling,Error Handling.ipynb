{
 "cells": [
  {
   "cell_type": "markdown",
   "id": "501fc0ff",
   "metadata": {},
   "source": [
    "# File Handling"
   ]
  },
  {
   "cell_type": "code",
   "execution_count": 2,
   "id": "9a1b1e5d",
   "metadata": {},
   "outputs": [],
   "source": [
    "open?"
   ]
  },
  {
   "cell_type": "code",
   "execution_count": 3,
   "id": "81eaeb6a",
   "metadata": {},
   "outputs": [],
   "source": [
    "file = open('ML.txt', 'r')\n"
   ]
  },
  {
   "cell_type": "code",
   "execution_count": 4,
   "id": "e58c1e02",
   "metadata": {},
   "outputs": [
    {
     "data": {
      "text/plain": [
       "'Machine learning (ML) is a field of study in artificial intelligence concerned with the development achine learning (ML) is a field of study in artificial intelligence concerned with the development and study of statistical algorithms that can learn from data and generalize to unseen datachine learning (ML) is a field of study in artificial intelligence concerned with the development and study of statistical algorithms that can learn from data and generalize to unseen data, hine learning (ML) is a field of study in artificial intelligence concerned with the development andine learning (ML) is a field of study in artificial intelligence concerned with the development and study of statistical algorithms that can learn from data and generalize to unseen data, and thusperform tasks without explicit instructions.[1] Recently, generative artificial neural networks have been able to surpass many previous approaches in performance.Hello how are you ?'"
      ]
     },
     "execution_count": 4,
     "metadata": {},
     "output_type": "execute_result"
    }
   ],
   "source": [
    "file.read(-1)"
   ]
  },
  {
   "cell_type": "code",
   "execution_count": 5,
   "id": "7c5e9e34",
   "metadata": {},
   "outputs": [
    {
     "data": {
      "text/plain": [
       "''"
      ]
     },
     "execution_count": 5,
     "metadata": {},
     "output_type": "execute_result"
    }
   ],
   "source": [
    "file.readline(2)"
   ]
  },
  {
   "cell_type": "code",
   "execution_count": 6,
   "id": "437675ca",
   "metadata": {},
   "outputs": [
    {
     "data": {
      "text/plain": [
       "''"
      ]
     },
     "execution_count": 6,
     "metadata": {},
     "output_type": "execute_result"
    }
   ],
   "source": [
    "file.readline()"
   ]
  },
  {
   "cell_type": "code",
   "execution_count": 7,
   "id": "cdfcdfaa",
   "metadata": {},
   "outputs": [
    {
     "data": {
      "text/plain": [
       "[]"
      ]
     },
     "execution_count": 7,
     "metadata": {},
     "output_type": "execute_result"
    }
   ],
   "source": [
    "file.readlines()"
   ]
  },
  {
   "cell_type": "code",
   "execution_count": 8,
   "id": "4c1656e3",
   "metadata": {},
   "outputs": [
    {
     "data": {
      "text/plain": [
       "3"
      ]
     },
     "execution_count": 8,
     "metadata": {},
     "output_type": "execute_result"
    }
   ],
   "source": [
    "file = open('file.txt','r')\n",
    "file.seek(3)"
   ]
  },
  {
   "cell_type": "code",
   "execution_count": 9,
   "id": "5d9f94f5",
   "metadata": {},
   "outputs": [
    {
     "data": {
      "text/plain": [
       "'llo : 2 machine : 1 learning : 1 artificial : 1 intelligence : 1'"
      ]
     },
     "execution_count": 9,
     "metadata": {},
     "output_type": "execute_result"
    }
   ],
   "source": [
    "file.read()"
   ]
  },
  {
   "cell_type": "code",
   "execution_count": 10,
   "id": "8f8d684e",
   "metadata": {},
   "outputs": [],
   "source": [
    "file.close()"
   ]
  },
  {
   "cell_type": "code",
   "execution_count": 11,
   "id": "dcf894df",
   "metadata": {},
   "outputs": [
    {
     "name": "stdout",
     "output_type": "stream",
     "text": [
      "hello hello\n",
      "machine learning\n",
      "Artificial intelligence\n"
     ]
    }
   ],
   "source": [
    "with open('Machine.txt','r') as file:\n",
    "    print(file.read())"
   ]
  },
  {
   "cell_type": "code",
   "execution_count": 12,
   "id": "ca7667dd",
   "metadata": {},
   "outputs": [
    {
     "name": "stdout",
     "output_type": "stream",
     "text": [
      " hello : 2 machine : 1 learning : 1 artificial : 1 intelligence : 1\n"
     ]
    }
   ],
   "source": [
    "with open('file.txt','r') as file:\n",
    "    print(file.readlines()[0])   #indexing"
   ]
  },
  {
   "cell_type": "code",
   "execution_count": 13,
   "id": "2edf2247",
   "metadata": {},
   "outputs": [],
   "source": [
    "with open('file.txt', 'w') as file:\n",
    "    file.write('Hello how are you ?')    # Delete the previous data and write the provided string"
   ]
  },
  {
   "cell_type": "code",
   "execution_count": 14,
   "id": "53e166a2",
   "metadata": {},
   "outputs": [
    {
     "name": "stdout",
     "output_type": "stream",
     "text": [
      "['Hello how are you ?']\n"
     ]
    }
   ],
   "source": [
    "with open('file.txt', 'r') as file:\n",
    "    print(file.readlines())"
   ]
  },
  {
   "cell_type": "code",
   "execution_count": 15,
   "id": "a12d7b49",
   "metadata": {},
   "outputs": [],
   "source": [
    "st = 'Machine learning (ML) is a field of study in artificial intelligence concerned with the development and study of statistical algorithms that can learn from data and generalize to unseen data, and thusperform tasks without explicit instructions.[1] Recently, generative artificial neural networks have been able to surpass many previous approaches in performance.Hello how are you ?'"
   ]
  },
  {
   "cell_type": "code",
   "execution_count": 17,
   "id": "a30276fa",
   "metadata": {},
   "outputs": [
    {
     "name": "stdout",
     "output_type": "stream",
     "text": [
      "enter the part of string : 21\n",
      "enter the part of string : 112\n",
      "enter the part of string : 234\n",
      "enter the part of string : 733\n"
     ]
    }
   ],
   "source": [
    "file = open('ML.txt', 'w')\n",
    "for i in range(len(st)):\n",
    "    n = int(input('enter the part of string : '))\n",
    "    part_string = st[i:i+n]\n",
    "    file.write(part_string)\n",
    "    i = i+n\n",
    "    if i >=len(st):\n",
    "        break"
   ]
  },
  {
   "cell_type": "code",
   "execution_count": 18,
   "id": "3e6ecbf1",
   "metadata": {},
   "outputs": [],
   "source": [
    "file.close()"
   ]
  },
  {
   "cell_type": "code",
   "execution_count": 19,
   "id": "99fa322f",
   "metadata": {},
   "outputs": [
    {
     "data": {
      "text/plain": [
       "'Machine learning (ML)achine learning (ML) is a field of study in artificial intelligence concerned with the development and study of chine learning (ML) is a field of study in artificial intelligence concerned with the development and study of statistical algorithms that can learn from data and generalize to unseen data, and thusperform tasks without explicit instrhine learning (ML) is a field of study in artificial intelligence concerned with the development and study of statistical algorithms that can learn from data and generalize to unseen data, and thusperform tasks without explicit instructions.[1] Recently, generative artificial neural networks have been able to surpass many previous approaches in performance.Hello how are you ?'"
      ]
     },
     "execution_count": 19,
     "metadata": {},
     "output_type": "execute_result"
    }
   ],
   "source": [
    "file = open('ML.txt','r')\n",
    "file.read()"
   ]
  },
  {
   "cell_type": "code",
   "execution_count": 20,
   "id": "8454f5f3",
   "metadata": {},
   "outputs": [],
   "source": [
    "string = \"Supervised learning algorithms build a mathematical model of a set of data that contains both the inputs and the desired outputs.[39] The data is known as training data, and consists of a set of training examples. Each training example has one or more inputs and the desired output, also known as a supervisory signal. In the mathematical model, each training example is represented by an array or vector, sometimes called a feature vector, and the training data is represented by a matrix. Through iterative optimization of an objective function, supervised learning algorithms learn a function that can be used to predict the output associated with new inputs.[40] An optimal function allows the algorithm to correctly determine the output for inputs that were not a part of the training data. An algorithm that improves the accuracy of its outputs or predictions over time is said to have learned to perform that task\""
   ]
  },
  {
   "cell_type": "code",
   "execution_count": 21,
   "id": "3dbf7037",
   "metadata": {},
   "outputs": [],
   "source": [
    "d = {}\n",
    "count = 0\n",
    "idx = 0\n",
    "for i in range(len(string)):\n",
    "    if string[i] == '.':\n",
    "        d[count] = string[idx:i] + '.'\n",
    "        count += 1\n",
    "        idx = i\n",
    "    else:\n",
    "        pass"
   ]
  },
  {
   "cell_type": "code",
   "execution_count": 22,
   "id": "d69a4a76",
   "metadata": {},
   "outputs": [
    {
     "data": {
      "text/plain": [
       "{0: 'Supervised learning algorithms build a mathematical model of a set of data that contains both the inputs and the desired outputs.',\n",
       " 1: '.[39] The data is known as training data, and consists of a set of training examples.',\n",
       " 2: '. Each training example has one or more inputs and the desired output, also known as a supervisory signal.',\n",
       " 3: '. In the mathematical model, each training example is represented by an array or vector, sometimes called a feature vector, and the training data is represented by a matrix.',\n",
       " 4: '. Through iterative optimization of an objective function, supervised learning algorithms learn a function that can be used to predict the output associated with new inputs.',\n",
       " 5: '.[40] An optimal function allows the algorithm to correctly determine the output for inputs that were not a part of the training data.'}"
      ]
     },
     "execution_count": 22,
     "metadata": {},
     "output_type": "execute_result"
    }
   ],
   "source": [
    "d"
   ]
  },
  {
   "cell_type": "code",
   "execution_count": 23,
   "id": "100b53fa",
   "metadata": {},
   "outputs": [],
   "source": [
    "d = {}\n",
    "l = string.split('.')\n",
    "count = 0\n",
    "for i in l:\n",
    "    d[count] = i\n",
    "    count+=1"
   ]
  },
  {
   "cell_type": "code",
   "execution_count": 24,
   "id": "dd3326c7",
   "metadata": {},
   "outputs": [
    {
     "data": {
      "text/plain": [
       "{0: 'Supervised learning algorithms build a mathematical model of a set of data that contains both the inputs and the desired outputs',\n",
       " 1: '[39] The data is known as training data, and consists of a set of training examples',\n",
       " 2: ' Each training example has one or more inputs and the desired output, also known as a supervisory signal',\n",
       " 3: ' In the mathematical model, each training example is represented by an array or vector, sometimes called a feature vector, and the training data is represented by a matrix',\n",
       " 4: ' Through iterative optimization of an objective function, supervised learning algorithms learn a function that can be used to predict the output associated with new inputs',\n",
       " 5: '[40] An optimal function allows the algorithm to correctly determine the output for inputs that were not a part of the training data',\n",
       " 6: ' An algorithm that improves the accuracy of its outputs or predictions over time is said to have learned to perform that task'}"
      ]
     },
     "execution_count": 24,
     "metadata": {},
     "output_type": "execute_result"
    }
   ],
   "source": [
    "d"
   ]
  },
  {
   "cell_type": "markdown",
   "id": "e96e86ba",
   "metadata": {},
   "source": [
    "# Error Handling"
   ]
  },
  {
   "cell_type": "code",
   "execution_count": 25,
   "id": "8bd9bcc4",
   "metadata": {},
   "outputs": [],
   "source": [
    "def divider(a,b):\n",
    "    return a/b"
   ]
  },
  {
   "cell_type": "code",
   "execution_count": 26,
   "id": "be96b05f",
   "metadata": {},
   "outputs": [
    {
     "ename": "ZeroDivisionError",
     "evalue": "division by zero",
     "output_type": "error",
     "traceback": [
      "\u001b[1;31m---------------------------------------------------------------------------\u001b[0m",
      "\u001b[1;31mZeroDivisionError\u001b[0m                         Traceback (most recent call last)",
      "Cell \u001b[1;32mIn[26], line 1\u001b[0m\n\u001b[1;32m----> 1\u001b[0m divider(\u001b[38;5;241m10\u001b[39m,\u001b[38;5;241m0\u001b[39m)\n",
      "Cell \u001b[1;32mIn[25], line 2\u001b[0m, in \u001b[0;36mdivider\u001b[1;34m(a, b)\u001b[0m\n\u001b[0;32m      1\u001b[0m \u001b[38;5;28;01mdef\u001b[39;00m \u001b[38;5;21mdivider\u001b[39m(a,b):\n\u001b[1;32m----> 2\u001b[0m     \u001b[38;5;28;01mreturn\u001b[39;00m a\u001b[38;5;241m/\u001b[39mb\n",
      "\u001b[1;31mZeroDivisionError\u001b[0m: division by zero"
     ]
    }
   ],
   "source": [
    "divider(10,0)"
   ]
  },
  {
   "cell_type": "markdown",
   "id": "81b104ab",
   "metadata": {},
   "source": [
    "# How to handle error"
   ]
  },
  {
   "cell_type": "code",
   "execution_count": 27,
   "id": "7186e9fd",
   "metadata": {},
   "outputs": [],
   "source": [
    "def divider(a,b):\n",
    "    try:\n",
    "        return a/b\n",
    "    except ZeroDivisionError:\n",
    "        print('something went wrong')"
   ]
  },
  {
   "cell_type": "code",
   "execution_count": 28,
   "id": "077ff8f2",
   "metadata": {},
   "outputs": [
    {
     "name": "stdout",
     "output_type": "stream",
     "text": [
      "something went wrong\n"
     ]
    }
   ],
   "source": [
    "divider(10,0)"
   ]
  },
  {
   "cell_type": "code",
   "execution_count": 29,
   "id": "18322f89",
   "metadata": {},
   "outputs": [],
   "source": [
    "def divider(a,b):\n",
    "    try:\n",
    "        return a/b\n",
    "    except TypeError:\n",
    "        print('Hello')\n",
    "    except ZeroDivisionError:\n",
    "        print('something went wrong')    "
   ]
  },
  {
   "cell_type": "code",
   "execution_count": 30,
   "id": "4812965f",
   "metadata": {},
   "outputs": [
    {
     "name": "stdout",
     "output_type": "stream",
     "text": [
      "something went wrong\n"
     ]
    }
   ],
   "source": [
    "divider(9,0)"
   ]
  },
  {
   "cell_type": "code",
   "execution_count": 31,
   "id": "fd629df4",
   "metadata": {},
   "outputs": [
    {
     "name": "stdout",
     "output_type": "stream",
     "text": [
      "Hello\n"
     ]
    }
   ],
   "source": [
    "divider('wr','33')"
   ]
  },
  {
   "cell_type": "code",
   "execution_count": null,
   "id": "49a6a735",
   "metadata": {},
   "outputs": [],
   "source": []
  }
 ],
 "metadata": {
  "kernelspec": {
   "display_name": "Python 3 (ipykernel)",
   "language": "python",
   "name": "python3"
  },
  "language_info": {
   "codemirror_mode": {
    "name": "ipython",
    "version": 3
   },
   "file_extension": ".py",
   "mimetype": "text/x-python",
   "name": "python",
   "nbconvert_exporter": "python",
   "pygments_lexer": "ipython3",
   "version": "3.11.5"
  }
 },
 "nbformat": 4,
 "nbformat_minor": 5
}
