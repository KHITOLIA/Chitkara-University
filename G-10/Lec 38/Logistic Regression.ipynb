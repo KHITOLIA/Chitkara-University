{
 "cells": [
  {
   "cell_type": "code",
   "execution_count": 2,
   "id": "3c4c7bd7",
   "metadata": {},
   "outputs": [],
   "source": [
    "import matplotlib.pyplot as plt\n",
    "import pandas as pd\n",
    "import numpy as np\n",
    "import sklearn"
   ]
  },
  {
   "cell_type": "code",
   "execution_count": 3,
   "id": "ac15c548",
   "metadata": {},
   "outputs": [],
   "source": [
    "u_1 = np.array([2, 2])\n",
    "u_2 = np.array([-5, -3])"
   ]
  },
  {
   "cell_type": "code",
   "execution_count": 4,
   "id": "37333f52",
   "metadata": {},
   "outputs": [],
   "source": [
    "cov_1 = np.array([[0.5, 1], [1, 1]])\n",
    "cov_2 = np.array([[1.5, 1], [2, 1]])"
   ]
  },
  {
   "cell_type": "code",
   "execution_count": 5,
   "id": "cce557b9",
   "metadata": {},
   "outputs": [
    {
     "name": "stderr",
     "output_type": "stream",
     "text": [
      "C:\\Users\\Lenovo\\AppData\\Local\\Temp\\ipykernel_2952\\1073053494.py:1: RuntimeWarning: covariance is not symmetric positive-semidefinite.\n",
      "  d1 = np.random.multivariate_normal(u_1, cov_1, 500)\n",
      "C:\\Users\\Lenovo\\AppData\\Local\\Temp\\ipykernel_2952\\1073053494.py:2: RuntimeWarning: covariance is not symmetric positive-semidefinite.\n",
      "  d2 = np.random.multivariate_normal(u_2, cov_2, 500)\n"
     ]
    }
   ],
   "source": [
    "d1 = np.random.multivariate_normal(u_1, cov_1, 500)\n",
    "d2 = np.random.multivariate_normal(u_2, cov_2, 500)"
   ]
  },
  {
   "cell_type": "code",
   "execution_count": 6,
   "id": "ed7e97e9",
   "metadata": {},
   "outputs": [
    {
     "data": {
      "text/plain": [
       "<matplotlib.collections.PathCollection at 0x296375a8690>"
      ]
     },
     "execution_count": 6,
     "metadata": {},
     "output_type": "execute_result"
    },
    {
     "data": {
      "image/png": "[encoded data removed]",
      "text/plain": [
       "<Figure size 640x480 with 1 Axes>"
      ]
     },
     "metadata": {},
     "output_type": "display_data"
    }
   ],
   "source": [
    "plt.scatter(d1[:, 0], d1[:, 1], color = 'red')  #0 dogs\n",
    "plt.scatter(d2[:, 0], d2[:, 1], color = 'black') #1 cats"
   ]
  },
  {
   "cell_type": "code",
   "execution_count": 7,
   "id": "7c900511",
   "metadata": {},
   "outputs": [
    {
     "data": {
      "text/plain": [
       "(500, 2)"
      ]
     },
     "execution_count": 7,
     "metadata": {},
     "output_type": "execute_result"
    }
   ],
   "source": [
    "d1.shape"
   ]
  },
  {
   "cell_type": "code",
   "execution_count": 8,
   "id": "32af3b24",
   "metadata": {},
   "outputs": [
    {
     "data": {
      "text/plain": [
       "(500, 2)"
      ]
     },
     "execution_count": 8,
     "metadata": {},
     "output_type": "execute_result"
    }
   ],
   "source": [
    "d2.shape"
   ]
  },
  {
   "cell_type": "code",
   "execution_count": 9,
   "id": "2c04d41a",
   "metadata": {},
   "outputs": [],
   "source": [
    "dataset = np.ones((1000, 4))"
   ]
  },
  {
   "cell_type": "code",
   "execution_count": 10,
   "id": "fc93ca56",
   "metadata": {},
   "outputs": [
    {
     "data": {
      "text/plain": [
       "(1000, 4)"
      ]
     },
     "execution_count": 10,
     "metadata": {},
     "output_type": "execute_result"
    }
   ],
   "source": [
    "dataset.shape"
   ]
  },
  {
   "cell_type": "code",
   "execution_count": 11,
   "id": "9fa12601",
   "metadata": {},
   "outputs": [
    {
     "data": {
      "text/plain": [
       "array([[1., 1., 1., 1.],\n",
       "       [1., 1., 1., 1.],\n",
       "       [1., 1., 1., 1.],\n",
       "       [1., 1., 1., 1.]])"
      ]
     },
     "execution_count": 11,
     "metadata": {},
     "output_type": "execute_result"
    }
   ],
   "source": [
    "dataset[:4]"
   ]
  },
  {
   "cell_type": "code",
   "execution_count": 12,
   "id": "1bd089d2",
   "metadata": {},
   "outputs": [],
   "source": [
    "dataset[:500, 1:3] = d1"
   ]
  },
  {
   "cell_type": "code",
   "execution_count": 13,
   "id": "8871fc0f",
   "metadata": {},
   "outputs": [],
   "source": [
    "dataset[500:, 1:3] = d2"
   ]
  },
  {
   "cell_type": "code",
   "execution_count": 14,
   "id": "43cc5d41",
   "metadata": {},
   "outputs": [
    {
     "data": {
      "text/plain": [
       "array([[1.        , 1.31833779, 1.35577404, 1.        ],\n",
       "       [1.        , 1.49009573, 1.41178081, 1.        ],\n",
       "       [1.        , 0.98171605, 0.79180883, 1.        ],\n",
       "       [1.        , 0.17367387, 1.24764884, 1.        ]])"
      ]
     },
     "execution_count": 14,
     "metadata": {},
     "output_type": "execute_result"
    }
   ],
   "source": [
    "dataset[:4]"
   ]
  },
  {
   "cell_type": "code",
   "execution_count": 15,
   "id": "04c98fe0",
   "metadata": {},
   "outputs": [],
   "source": [
    "dataset[:500, -1] = 0"
   ]
  },
  {
   "cell_type": "code",
   "execution_count": 16,
   "id": "f70b932d",
   "metadata": {},
   "outputs": [
    {
     "data": {
      "text/plain": [
       "array([[1.        , 1.31833779, 1.35577404, 0.        ],\n",
       "       [1.        , 1.49009573, 1.41178081, 0.        ],\n",
       "       [1.        , 0.98171605, 0.79180883, 0.        ],\n",
       "       [1.        , 0.17367387, 1.24764884, 0.        ]])"
      ]
     },
     "execution_count": 16,
     "metadata": {},
     "output_type": "execute_result"
    }
   ],
   "source": [
    "dataset[:4]"
   ]
  },
  {
   "cell_type": "code",
   "execution_count": 17,
   "id": "cfbaf9af",
   "metadata": {},
   "outputs": [
    {
     "data": {
      "text/plain": [
       "array([[ 1.        , -4.19672059, -3.95511282,  1.        ],\n",
       "       [ 1.        , -3.79564385, -1.41445601,  1.        ],\n",
       "       [ 1.        , -2.99934023, -2.35344566,  1.        ],\n",
       "       [ 1.        , -4.89042501, -3.53062683,  1.        ]])"
      ]
     },
     "execution_count": 17,
     "metadata": {},
     "output_type": "execute_result"
    }
   ],
   "source": [
    "dataset[-4:]"
   ]
  },
  {
   "cell_type": "code",
   "execution_count": 18,
   "id": "d31fae51",
   "metadata": {},
   "outputs": [],
   "source": [
    "x_train = dataset[:800,:-1]\n",
    "y_train = dataset[:800, -1]\n",
    "x_test = dataset[800:, :-1]\n",
    "y_test = dataset[800:, -1]"
   ]
  },
  {
   "cell_type": "code",
   "execution_count": 19,
   "id": "f403602e",
   "metadata": {},
   "outputs": [
    {
     "name": "stdout",
     "output_type": "stream",
     "text": [
      "(800, 3) (800,) (200, 3) (200,)\n"
     ]
    }
   ],
   "source": [
    "print(x_train.shape,y_train.shape, x_test.shape, y_test.shape)"
   ]
  },
  {
   "cell_type": "code",
   "execution_count": 20,
   "id": "1fbf97f5",
   "metadata": {},
   "outputs": [],
   "source": [
    "y_train = y_train.reshape((-1, 1))"
   ]
  },
  {
   "cell_type": "code",
   "execution_count": 21,
   "id": "9d7fbeab",
   "metadata": {},
   "outputs": [
    {
     "data": {
      "text/plain": [
       "(800, 1)"
      ]
     },
     "execution_count": 21,
     "metadata": {},
     "output_type": "execute_result"
    }
   ],
   "source": [
    "y_train.shape"
   ]
  },
  {
   "cell_type": "code",
   "execution_count": 22,
   "id": "16c588f7",
   "metadata": {},
   "outputs": [],
   "source": [
    "def sigmoid(x):\n",
    "    return 1/(1 + np.exp(-x))"
   ]
  },
  {
   "cell_type": "code",
   "execution_count": 23,
   "id": "17880932",
   "metadata": {},
   "outputs": [],
   "source": [
    "# def hypothesis(X, theta):\n",
    "#     return sigmoid(np.dot(X, theta))\n",
    "\n",
    "def hypothesis(X, theta):\n",
    "    return 1/(1 + np.exp(np.dot(X, theta)))"
   ]
  },
  {
   "cell_type": "code",
   "execution_count": 24,
   "id": "394be820",
   "metadata": {},
   "outputs": [],
   "source": [
    "def cost(X, Y, theta):\n",
    "    \n",
    "    y_p = hypothesis(X, theta)\n",
    "    \n",
    "\n",
    "    loss = -1*(np.mean(Y*np.log(y_p) + (1-Y)*np.log(1 - y_p)))\n",
    "    \n",
    "    return loss"
   ]
  },
  {
   "cell_type": "code",
   "execution_count": 25,
   "id": "6bf2da36",
   "metadata": {},
   "outputs": [],
   "source": [
    "def gradient(X, Y, theta):\n",
    "    \n",
    "    y_p = hypothesis(X, theta)\n",
    "    \n",
    "    grad = np.dot(X, (Y - y_p))\n",
    "    \n",
    "    return grad/X.shape[0]"
   ]
  },
  {
   "cell_type": "code",
   "execution_count": 26,
   "id": "6cc9642c",
   "metadata": {},
   "outputs": [],
   "source": [
    "def gradient_descent(X, Y, learning_rate = 0.3, epochs = 100):\n",
    "    \n",
    "    m,n = X.shape\n",
    "    \n",
    "    theta = np.zeros((n, 1))\n",
    "    \n",
    "    cost_epoch = []\n",
    "    \n",
    "    for i in range(epochs):\n",
    "        \n",
    "        print(\"Epochs no: \", i, end = '\\r')\n",
    "        \n",
    "        loss = cost(X,Y, theta)\n",
    "        \n",
    "        grad = gradient(X, Y, theta)\n",
    "        \n",
    "        cost_epoch.append(loss)\n",
    "        \n",
    "        theta = theta + learning_rate*grad\n",
    "        \n",
    "    return theta, cost_epoch    \n",
    "        "
   ]
  },
  {
   "cell_type": "code",
   "execution_count": 27,
   "id": "0ac325e2",
   "metadata": {},
   "outputs": [
    {
     "name": "stdout",
     "output_type": "stream",
     "text": [
      "Epochs no:  0\r"
     ]
    },
    {
     "ename": "ValueError",
     "evalue": "shapes (800,3) and (800,1) not aligned: 3 (dim 1) != 800 (dim 0)",
     "output_type": "error",
     "traceback": [
      "\u001b[1;31m---------------------------------------------------------------------------\u001b[0m",
      "\u001b[1;31mValueError\u001b[0m                                Traceback (most recent call last)",
      "Cell \u001b[1;32mIn[27], line 1\u001b[0m\n\u001b[1;32m----> 1\u001b[0m theta, cost \u001b[38;5;241m=\u001b[39m gradient_descent(x_train, y_train)\n",
      "Cell \u001b[1;32mIn[26], line 15\u001b[0m, in \u001b[0;36mgradient_descent\u001b[1;34m(X, Y, learning_rate, epochs)\u001b[0m\n\u001b[0;32m     11\u001b[0m \u001b[38;5;28mprint\u001b[39m(\u001b[38;5;124m\"\u001b[39m\u001b[38;5;124mEpochs no: \u001b[39m\u001b[38;5;124m\"\u001b[39m, i, end \u001b[38;5;241m=\u001b[39m \u001b[38;5;124m'\u001b[39m\u001b[38;5;130;01m\\r\u001b[39;00m\u001b[38;5;124m'\u001b[39m)\n\u001b[0;32m     13\u001b[0m loss \u001b[38;5;241m=\u001b[39m cost(X,Y, theta)\n\u001b[1;32m---> 15\u001b[0m grad \u001b[38;5;241m=\u001b[39m gradient(X, Y, theta)\n\u001b[0;32m     17\u001b[0m cost_epoch\u001b[38;5;241m.\u001b[39mappend(loss)\n\u001b[0;32m     19\u001b[0m theta \u001b[38;5;241m=\u001b[39m theta \u001b[38;5;241m+\u001b[39m learning_rate\u001b[38;5;241m*\u001b[39mgrad\n",
      "Cell \u001b[1;32mIn[25], line 5\u001b[0m, in \u001b[0;36mgradient\u001b[1;34m(X, Y, theta)\u001b[0m\n\u001b[0;32m      1\u001b[0m \u001b[38;5;28;01mdef\u001b[39;00m \u001b[38;5;21mgradient\u001b[39m(X, Y, theta):\n\u001b[0;32m      3\u001b[0m     y_p \u001b[38;5;241m=\u001b[39m hypothesis(X, theta)\n\u001b[1;32m----> 5\u001b[0m     grad \u001b[38;5;241m=\u001b[39m np\u001b[38;5;241m.\u001b[39mdot(X, (Y \u001b[38;5;241m-\u001b[39m y_p))\n\u001b[0;32m      7\u001b[0m     \u001b[38;5;28;01mreturn\u001b[39;00m grad\u001b[38;5;241m/\u001b[39mX\u001b[38;5;241m.\u001b[39mshape[\u001b[38;5;241m0\u001b[39m]\n",
      "File \u001b[1;32m<__array_function__ internals>:200\u001b[0m, in \u001b[0;36mdot\u001b[1;34m(*args, **kwargs)\u001b[0m\n",
      "\u001b[1;31mValueError\u001b[0m: shapes (800,3) and (800,1) not aligned: 3 (dim 1) != 800 (dim 0)"
     ]
    }
   ],
   "source": [
    "theta, cost = gradient_descent(x_train, y_train)"
   ]
  },
  {
   "cell_type": "code",
   "execution_count": 31,
   "id": "9f5c410d",
   "metadata": {},
   "outputs": [
    {
     "name": "stdout",
     "output_type": "stream",
     "text": [
      "Collecting geopy\n",
      "  Obtaining dependency information for geopy from https://files.pythonhosted.org/packages/e5/15/cf2a69ade4b194aa524ac75112d5caac37414b20a3a03e6865dfe0bd1539/geopy-2.4.1-py3-none-any.whl.metadata\n",
      "  Downloading geopy-2.4.1-py3-none-any.whl.metadata (6.8 kB)\n",
      "Collecting phonenumbers\n",
      "  Obtaining dependency information for phonenumbers from https://files.pythonhosted.org/packages/c6/17/cccaee08b0eedf016b10ef8d3322595df46365959e38c3086eb38d719080/phonenumbers-8.13.32-py2.py3-none-any.whl.metadata\n",
      "  Downloading phonenumbers-8.13.32-py2.py3-none-any.whl.metadata (11 kB)\n",
      "Collecting geographiclib<3,>=1.52 (from geopy)\n",
      "  Obtaining dependency information for geographiclib<3,>=1.52 from https://files.pythonhosted.org/packages/9f/5a/a26132406f1f40cf51ea349a5f11b0a46cec02a2031ff82e391c2537247a/geographiclib-2.0-py3-none-any.whl.metadata\n",
      "  Downloading geographiclib-2.0-py3-none-any.whl.metadata (1.4 kB)\n",
      "Downloading geopy-2.4.1-py3-none-any.whl (125 kB)\n",
      "   ---------------------------------------- 0.0/125.4 kB ? eta -:--:--\n",
      "   --- ------------------------------------ 10.2/125.4 kB ? eta -:--:--\n",
      "   ------------ -------------------------- 41.0/125.4 kB 495.5 kB/s eta 0:00:01\n",
      "   ---------------------------------------- 125.4/125.4 kB 1.1 MB/s eta 0:00:00\n",
      "Downloading phonenumbers-8.13.32-py2.py3-none-any.whl (2.6 MB)\n",
      "   ---------------------------------------- 0.0/2.6 MB ? eta -:--:--\n",
      "   --- ------------------------------------ 0.3/2.6 MB 5.2 MB/s eta 0:00:01\n",
      "   -------- ------------------------------- 0.5/2.6 MB 5.6 MB/s eta 0:00:01\n",
      "   ------------- -------------------------- 0.9/2.6 MB 6.2 MB/s eta 0:00:01\n",
      "   ---------------------- ----------------- 1.5/2.6 MB 7.8 MB/s eta 0:00:01\n",
      "   -------------------------------- ------- 2.1/2.6 MB 8.8 MB/s eta 0:00:01\n",
      "   ---------------------------------------  2.6/2.6 MB 9.1 MB/s eta 0:00:01\n",
      "   ---------------------------------------- 2.6/2.6 MB 8.7 MB/s eta 0:00:00\n",
      "Downloading geographiclib-2.0-py3-none-any.whl (40 kB)\n",
      "   ---------------------------------------- 0.0/40.3 kB ? eta -:--:--\n",
      "   ---------------------------------------- 40.3/40.3 kB 1.9 MB/s eta 0:00:00\n",
      "Installing collected packages: phonenumbers, geographiclib, geopy\n",
      "Successfully installed geographiclib-2.0 geopy-2.4.1 phonenumbers-8.13.32\n"
     ]
    }
   ],
   "source": [
    "!pip install geopy phonenumbers"
   ]
  },
  {
   "cell_type": "code",
   "execution_count": 1,
   "id": "d649aeab",
   "metadata": {},
   "outputs": [],
   "source": [
    "# import phonenumbers\n",
    "# from phonenumbers import geocoder\n",
    "# from geopy.geocoders import Nominatim\n",
    "\n",
    "# def track_phone_number(phone_number):\n",
    "#     try:\n",
    "#         phone_number_parsed = phonenumbers.parse(phone_number)\n",
    "#         if not phonenumbers.is_valid_number(phone_number_parsed):\n",
    "#             return \"Invalid phone number\"\n",
    "\n",
    "#         geolocator = Nominatim(user_agent=\"phone_tracker\")\n",
    "#         location = geolocator.geocode(geocoder.description_for_number(phone_number_parsed, \"en\"))\n",
    "\n",
    "#         if location:\n",
    "#             return f\"The phone is likely in: {location.address}\"\n",
    "#         else:\n",
    "#             return \"Location not found\"\n",
    "\n",
    "#     except Exception as e:\n",
    "#         return f\"Error: {str(e)}\"\n",
    "\n",
    "# if __name__ == \"__main__\":\n",
    "#     phone_number = input(\"Enter the phone number to track: \")\n",
    "#     print(track_phone_number(phone_number))"
   ]
  },
  {
   "cell_type": "code",
   "execution_count": 39,
   "id": "2222ae61",
   "metadata": {},
   "outputs": [
    {
     "name": "stdout",
     "output_type": "stream",
     "text": [
      "computing...\n",
      "recognizing...\n",
      "user said: \n",
      "stop\n"
     ]
    },
    {
     "ename": "AttributeError",
     "evalue": "module 'os' has no attribute 'exit'",
     "output_type": "error",
     "traceback": [
      "\u001b[1;31m---------------------------------------------------------------------------\u001b[0m",
      "\u001b[1;31mAttributeError\u001b[0m                            Traceback (most recent call last)",
      "Cell \u001b[1;32mIn[39], line 75\u001b[0m\n\u001b[0;32m     73\u001b[0m     webbrowser\u001b[38;5;241m.\u001b[39mopen(\u001b[38;5;124m'\u001b[39m\u001b[38;5;124mhttps://github.com/\u001b[39m\u001b[38;5;124m'\u001b[39m)\n\u001b[0;32m     74\u001b[0m \u001b[38;5;28;01melif\u001b[39;00m \u001b[38;5;124m'\u001b[39m\u001b[38;5;124mstop\u001b[39m\u001b[38;5;124m'\u001b[39m \u001b[38;5;129;01mor\u001b[39;00m \u001b[38;5;124m'\u001b[39m\u001b[38;5;124mgo\u001b[39m\u001b[38;5;124m'\u001b[39m \u001b[38;5;129;01mor\u001b[39;00m \u001b[38;5;124m'\u001b[39m\u001b[38;5;124mshut\u001b[39m\u001b[38;5;124m'\u001b[39m \u001b[38;5;129;01mor\u001b[39;00m \u001b[38;5;124m'\u001b[39m\u001b[38;5;124mdown\u001b[39m\u001b[38;5;124m'\u001b[39m \u001b[38;5;129;01min\u001b[39;00m query:\n\u001b[1;32m---> 75\u001b[0m     os\u001b[38;5;241m.\u001b[39mexit(\u001b[38;5;241m0\u001b[39m)\n\u001b[0;32m     77\u001b[0m \u001b[38;5;28;01melse\u001b[39;00m:\n\u001b[0;32m     78\u001b[0m     speak(\u001b[38;5;124m'\u001b[39m\u001b[38;5;124mthese are the end of my capabilities, sir...\u001b[39m\u001b[38;5;124m'\u001b[39m)\n",
      "\u001b[1;31mAttributeError\u001b[0m: module 'os' has no attribute 'exit'"
     ]
    }
   ],
   "source": [
    "import pyttsx3 \n",
    "import speech_recognition as sr\n",
    "import datetime \n",
    "import wikipedia \n",
    "import webbrowser\n",
    "import os\n",
    "\n",
    "# pyttsx3.speak('kshitij Raj shukla')\n",
    "engine = pyttsx3.init('sapi5')\n",
    "voices = engine.getProperty('voices')\n",
    "\n",
    "engine.setProperty('voice', voices[1].id)\n",
    "\n",
    "def speak(audio):\n",
    "    engine.say(audio)\n",
    "    engine.runAndWait()\n",
    "\n",
    "def wishMe():\n",
    "    hour = int(datetime.datetime.now().hour)\n",
    "\n",
    "    if hour >= 0 and hour <12:\n",
    "        speak('good morning my sir')\n",
    "    \n",
    "    elif hour >= 12 and hour<18:\n",
    "        speak('good afternoon my sir')\n",
    "    \n",
    "    else:\n",
    "        speak('good evening my sir')\n",
    "    \n",
    "    speak('how can i help you sir')\n",
    "\n",
    "\n",
    "def takeCommand():\n",
    "    r = sr.Recognizer()\n",
    "    with sr.Microphone() as source:\n",
    "        print('computing...')\n",
    "        r.pause_threshold = 1\n",
    "        audio = r.listen(source)\n",
    "\n",
    "    try:\n",
    "        print('recognizing...')\n",
    "        query = r.recognize_google(audio, language = 'en-in')\n",
    "        print(f'user said: \\n{query}')\n",
    "    \n",
    "    except Exception as e:\n",
    "        print('say that again sir...')\n",
    "        return \"None\"\n",
    "    return query\n",
    "\n",
    "\n",
    "if __name__ == '__main__':\n",
    "    wishMe()\n",
    "    while True:\n",
    "        query = takeCommand().lower()\n",
    "        \n",
    "        if 'wikipedia' in query:\n",
    "            speak('searching in wikipedia...')\n",
    "            query = query.replace('wikipedia',\" \") \n",
    "            results = wikipedia.summary(query, sentences = 4)\n",
    "            speak('according to wikipedia')\n",
    "            print(results)\n",
    "            speak(results)\n",
    "\n",
    "        elif 'open youtube' in query:\n",
    "            speak('searching for youtube...')\n",
    "            webbrowser.open('http://www.youtube.com/watch')\n",
    "\n",
    "        elif 'open google' in query:\n",
    "            speak('searching for google...')\n",
    "            webbrowser.open('http://www.google.com')\n",
    "        elif 'open github' in query:\n",
    "            speak('searching for github...')\n",
    "            webbrowser.open('https://github.com/')\n",
    "        elif 'stop' or 'go' or 'shut' or 'down' in query:\n",
    "            os.exit(0)\n",
    "\n",
    "        else:\n",
    "            speak('these are the end of my capabilities, sir...')\n",
    "            "
   ]
  },
  {
   "cell_type": "code",
   "execution_count": null,
   "id": "78858b93",
   "metadata": {},
   "outputs": [],
   "source": []
  },
  {
   "cell_type": "code",
   "execution_count": null,
   "id": "bf8908e3",
   "metadata": {},
   "outputs": [],
   "source": []
  },
  {
   "cell_type": "code",
   "execution_count": null,
   "id": "85d84f22",
   "metadata": {},
   "outputs": [],
   "source": []
  },
  {
   "cell_type": "code",
   "execution_count": null,
   "id": "4fd3b52d",
   "metadata": {},
   "outputs": [],
   "source": []
  }
 ],
 "metadata": {
  "kernelspec": {
   "display_name": "Python 3 (ipykernel)",
   "language": "python",
   "name": "python3"
  },
  "language_info": {
   "codemirror_mode": {
    "name": "ipython",
    "version": 3
   },
   "file_extension": ".py",
   "mimetype": "text/x-python",
   "name": "python",
   "nbconvert_exporter": "python",
   "pygments_lexer": "ipython3",
   "version": "3.11.5"
  }
 },
 "nbformat": 4,
 "nbformat_minor": 5
}
