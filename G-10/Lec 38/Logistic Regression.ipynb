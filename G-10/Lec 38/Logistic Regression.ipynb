{
 "cells": [
  {
   "cell_type": "code",
   "execution_count": 1,
   "id": "3c4c7bd7",
   "metadata": {},
   "outputs": [],
   "source": [
    "import matplotlib.pyplot as plt\n",
    "import pandas as pd\n",
    "import numpy as np\n",
    "import sklearn"
   ]
  },
  {
   "cell_type": "code",
   "execution_count": 2,
   "id": "ac15c548",
   "metadata": {},
   "outputs": [],
   "source": [
    "u_1 = np.array([2, 2])\n",
    "u_2 = np.array([-5, -3])"
   ]
  },
  {
   "cell_type": "code",
   "execution_count": 8,
   "id": "37333f52",
   "metadata": {},
   "outputs": [],
   "source": [
    "cov_1 = np.array([[0.5, 1], [1, 1]])\n",
    "cov_2 = np.array([[1.5, 1], [2, 1]])"
   ]
  },
  {
   "cell_type": "code",
   "execution_count": 9,
   "id": "cce557b9",
   "metadata": {},
   "outputs": [
    {
     "name": "stderr",
     "output_type": "stream",
     "text": [
      "C:\\Users\\Lenovo\\AppData\\Local\\Temp\\ipykernel_15580\\1073053494.py:1: RuntimeWarning: covariance is not symmetric positive-semidefinite.\n",
      "  d1 = np.random.multivariate_normal(u_1, cov_1, 500)\n",
      "C:\\Users\\Lenovo\\AppData\\Local\\Temp\\ipykernel_15580\\1073053494.py:2: RuntimeWarning: covariance is not symmetric positive-semidefinite.\n",
      "  d2 = np.random.multivariate_normal(u_2, cov_2, 500)\n"
     ]
    }
   ],
   "source": [
    "d1 = np.random.multivariate_normal(u_1, cov_1, 500)\n",
    "d2 = np.random.multivariate_normal(u_2, cov_2, 500)"
   ]
  },
  {
   "cell_type": "code",
   "execution_count": 13,
   "id": "ed7e97e9",
   "metadata": {},
   "outputs": [
    {
     "data": {
      "text/plain": [
       "<matplotlib.collections.PathCollection at 0x1aea5916610>"
      ]
     },
     "execution_count": 13,
     "metadata": {},
     "output_type": "execute_result"
    },
    {
     "data": {
      "image/png": "[encoded data removed]",
      "text/plain": [
       "<Figure size 640x480 with 1 Axes>"
      ]
     },
     "metadata": {},
     "output_type": "display_data"
    }
   ],
   "source": [
    "plt.scatter(d1[:, 0], d1[:, 1], color = 'red')  #0 dogs\n",
    "plt.scatter(d2[:, 0], d2[:, 1], color = 'black') #1 cats"
   ]
  },
  {
   "cell_type": "code",
   "execution_count": 14,
   "id": "7c900511",
   "metadata": {},
   "outputs": [
    {
     "data": {
      "text/plain": [
       "(500, 2)"
      ]
     },
     "execution_count": 14,
     "metadata": {},
     "output_type": "execute_result"
    }
   ],
   "source": [
    "d1.shape"
   ]
  },
  {
   "cell_type": "code",
   "execution_count": 15,
   "id": "32af3b24",
   "metadata": {},
   "outputs": [
    {
     "data": {
      "text/plain": [
       "(500, 2)"
      ]
     },
     "execution_count": 15,
     "metadata": {},
     "output_type": "execute_result"
    }
   ],
   "source": [
    "d2.shape"
   ]
  },
  {
   "cell_type": "code",
   "execution_count": 17,
   "id": "2c04d41a",
   "metadata": {},
   "outputs": [],
   "source": [
    "dataset = np.ones((1000, 4))"
   ]
  },
  {
   "cell_type": "code",
   "execution_count": 18,
   "id": "fc93ca56",
   "metadata": {},
   "outputs": [
    {
     "data": {
      "text/plain": [
       "(1000, 4)"
      ]
     },
     "execution_count": 18,
     "metadata": {},
     "output_type": "execute_result"
    }
   ],
   "source": [
    "dataset.shape"
   ]
  },
  {
   "cell_type": "code",
   "execution_count": 20,
   "id": "9fa12601",
   "metadata": {},
   "outputs": [
    {
     "data": {
      "text/plain": [
       "array([[1., 1., 1., 1.],\n",
       "       [1., 1., 1., 1.],\n",
       "       [1., 1., 1., 1.],\n",
       "       [1., 1., 1., 1.]])"
      ]
     },
     "execution_count": 20,
     "metadata": {},
     "output_type": "execute_result"
    }
   ],
   "source": [
    "dataset[:4]"
   ]
  },
  {
   "cell_type": "code",
   "execution_count": 22,
   "id": "1bd089d2",
   "metadata": {},
   "outputs": [],
   "source": [
    "dataset[:500, 1:3] = d1"
   ]
  },
  {
   "cell_type": "code",
   "execution_count": 23,
   "id": "8871fc0f",
   "metadata": {},
   "outputs": [],
   "source": [
    "dataset[500:, 1:3] = d2"
   ]
  },
  {
   "cell_type": "code",
   "execution_count": 24,
   "id": "43cc5d41",
   "metadata": {},
   "outputs": [
    {
     "data": {
      "text/plain": [
       "array([[1.        , 1.98704193, 2.08234513, 1.        ],\n",
       "       [1.        , 2.18252152, 1.31555186, 1.        ],\n",
       "       [1.        , 2.32368307, 1.32480204, 1.        ],\n",
       "       [1.        , 0.94777987, 1.04595874, 1.        ]])"
      ]
     },
     "execution_count": 24,
     "metadata": {},
     "output_type": "execute_result"
    }
   ],
   "source": [
    "dataset[:4]"
   ]
  },
  {
   "cell_type": "code",
   "execution_count": 25,
   "id": "04c98fe0",
   "metadata": {},
   "outputs": [],
   "source": [
    "dataset[:500, -1] = 0"
   ]
  },
  {
   "cell_type": "code",
   "execution_count": 26,
   "id": "f70b932d",
   "metadata": {},
   "outputs": [
    {
     "data": {
      "text/plain": [
       "array([[1.        , 1.98704193, 2.08234513, 0.        ],\n",
       "       [1.        , 2.18252152, 1.31555186, 0.        ],\n",
       "       [1.        , 2.32368307, 1.32480204, 0.        ],\n",
       "       [1.        , 0.94777987, 1.04595874, 0.        ]])"
      ]
     },
     "execution_count": 26,
     "metadata": {},
     "output_type": "execute_result"
    }
   ],
   "source": [
    "dataset[:4]"
   ]
  },
  {
   "cell_type": "code",
   "execution_count": 27,
   "id": "cfbaf9af",
   "metadata": {},
   "outputs": [
    {
     "data": {
      "text/plain": [
       "array([[ 1.        , -6.26656097, -3.99271175,  1.        ],\n",
       "       [ 1.        , -5.85070498, -3.47220914,  1.        ],\n",
       "       [ 1.        , -4.00366169, -2.87900151,  1.        ],\n",
       "       [ 1.        , -3.09665006, -2.34823502,  1.        ]])"
      ]
     },
     "execution_count": 27,
     "metadata": {},
     "output_type": "execute_result"
    }
   ],
   "source": [
    "dataset[-4:]"
   ]
  },
  {
   "cell_type": "code",
   "execution_count": 30,
   "id": "d31fae51",
   "metadata": {},
   "outputs": [],
   "source": [
    "x_train = dataset[:800,:-1]\n",
    "y_train = dataset[:800, -1]\n",
    "x_test = dataset[800:, :-1]\n",
    "y_test = dataset[800:, -1]"
   ]
  },
  {
   "cell_type": "code",
   "execution_count": 31,
   "id": "f403602e",
   "metadata": {},
   "outputs": [
    {
     "name": "stdout",
     "output_type": "stream",
     "text": [
      "(800, 3) (800,) (200, 3) (200,)\n"
     ]
    }
   ],
   "source": [
    "print(x_train.shape,y_train.shape, x_test.shape, y_test.shape)"
   ]
  },
  {
   "cell_type": "code",
   "execution_count": 32,
   "id": "1fbf97f5",
   "metadata": {},
   "outputs": [],
   "source": [
    "y_train = y_train.reshape((-1, 1))"
   ]
  },
  {
   "cell_type": "code",
   "execution_count": 34,
   "id": "9d7fbeab",
   "metadata": {},
   "outputs": [
    {
     "data": {
      "text/plain": [
       "(800, 1)"
      ]
     },
     "execution_count": 34,
     "metadata": {},
     "output_type": "execute_result"
    }
   ],
   "source": [
    "y_train.shape"
   ]
  },
  {
   "cell_type": "code",
   "execution_count": 35,
   "id": "16c588f7",
   "metadata": {},
   "outputs": [],
   "source": [
    "def sigmoid(x):\n",
    "    return 1/(1 + np.exp(-x))"
   ]
  },
  {
   "cell_type": "code",
   "execution_count": 37,
   "id": "17880932",
   "metadata": {},
   "outputs": [],
   "source": [
    "# def hypothesis(X, theta):\n",
    "#     return sigmoid(np.dot(X, theta))\n",
    "\n",
    "def hypothesis(X, theta):\n",
    "    return 1/(1 + np.exp(np.dot(X, theta)))"
   ]
  },
  {
   "cell_type": "code",
   "execution_count": 39,
   "id": "394be820",
   "metadata": {},
   "outputs": [],
   "source": [
    "def cost(X, Y, theta):\n",
    "    \n",
    "    y_p = hypothesis(X, theta)\n",
    "    \n",
    "\n",
    "    loss = -1*(np.mean(Y*np.log(y_p) + (1-Y)*np.log(1 - y_p)))\n",
    "    \n",
    "    return loss"
   ]
  },
  {
   "cell_type": "code",
   "execution_count": null,
   "id": "6bf2da36",
   "metadata": {},
   "outputs": [],
   "source": []
  }
 ],
 "metadata": {
  "kernelspec": {
   "display_name": "Python 3 (ipykernel)",
   "language": "python",
   "name": "python3"
  },
  "language_info": {
   "codemirror_mode": {
    "name": "ipython",
    "version": 3
   },
   "file_extension": ".py",
   "mimetype": "text/x-python",
   "name": "python",
   "nbconvert_exporter": "python",
   "pygments_lexer": "ipython3",
   "version": "3.11.5"
  }
 },
 "nbformat": 4,
 "nbformat_minor": 5
}
