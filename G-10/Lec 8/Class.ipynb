{
 "cells": [
  {
   "cell_type": "markdown",
   "id": "4669d292",
   "metadata": {},
   "source": [
    "# oops concept"
   ]
  },
  {
   "cell_type": "code",
   "execution_count": null,
   "id": "d8bf3243",
   "metadata": {},
   "outputs": [],
   "source": [
    "class Student:\n",
    "    mentor = 'Tushar'\n",
    "    age = 40"
   ]
  },
  {
   "cell_type": "code",
   "execution_count": null,
   "id": "47844644",
   "metadata": {},
   "outputs": [],
   "source": [
    "a = Student()"
   ]
  },
  {
   "cell_type": "code",
   "execution_count": 5,
   "id": "9dd6c06d",
   "metadata": {},
   "outputs": [
    {
     "name": "stdout",
     "output_type": "stream",
     "text": [
      "Tushar 40\n"
     ]
    }
   ],
   "source": [
    "print(a.mentor, a.age)"
   ]
  },
  {
   "cell_type": "code",
   "execution_count": 6,
   "id": "1d0e4134",
   "metadata": {},
   "outputs": [],
   "source": [
    "class Student:\n",
    "    mentor = 'Tushar'\n",
    "    age = 40\n",
    "    name = None\n",
    "    \n",
    "    def hello(self,name_person,age_person):\n",
    "        self.name = name_person\n",
    "        self.age = age_person\n",
    "        print(self.name,self.age)\n",
    "        "
   ]
  },
  {
   "cell_type": "code",
   "execution_count": 7,
   "id": "93f787cf",
   "metadata": {},
   "outputs": [],
   "source": [
    "a = Student()"
   ]
  },
  {
   "cell_type": "code",
   "execution_count": 8,
   "id": "b70fa1b0",
   "metadata": {},
   "outputs": [
    {
     "name": "stdout",
     "output_type": "stream",
     "text": [
      "Lakshay 19\n",
      "enter the name : Purab\n",
      "enter the age : 20\n",
      "Purab 20\n"
     ]
    }
   ],
   "source": [
    "a.hello('Lakshay',19)\n",
    "a.hello(input(\"enter the name : \"), int(input(\"enter the age : \")))"
   ]
  },
  {
   "cell_type": "code",
   "execution_count": 9,
   "id": "3a1c9510",
   "metadata": {},
   "outputs": [],
   "source": [
    "class Student:\n",
    "    mentor = 'Tushar'\n",
    "    age = 40\n",
    "    name = None\n",
    "    \n",
    "    def __init__(self,name_person,age_person,mentor):\n",
    "        self.name = name_person\n",
    "        self.age = age_person\n",
    "        self.mentor = mentor\n",
    "        print(self.name,self.age,self.mentor)\n",
    "    \n",
    "#     def hello(self,name_person,age_person):\n",
    "#         self.name = name_person\n",
    "#         self.age = age_person\n",
    "#         print(self.name,self.age)"
   ]
  },
  {
   "cell_type": "code",
   "execution_count": 10,
   "id": "0f0e997c",
   "metadata": {},
   "outputs": [
    {
     "name": "stdout",
     "output_type": "stream",
     "text": [
      "Lakshay 19 Purab\n"
     ]
    }
   ],
   "source": [
    "a = Student('Lakshay',19,'Purab')"
   ]
  },
  {
   "cell_type": "code",
   "execution_count": 11,
   "id": "b18eb39e",
   "metadata": {},
   "outputs": [
    {
     "data": {
      "text/plain": [
       "'Purab'"
      ]
     },
     "execution_count": 11,
     "metadata": {},
     "output_type": "execute_result"
    }
   ],
   "source": [
    "a.mentor"
   ]
  },
  {
   "cell_type": "code",
   "execution_count": 12,
   "id": "2646654a",
   "metadata": {},
   "outputs": [],
   "source": [
    "class Car:\n",
    "    def __init__(self,model,mileage):\n",
    "        self.model = model\n",
    "        self.mileage = mileage\n",
    "        print(self.model,self.mileage)\n",
    "    def __add__(self,other):\n",
    "        return int(self.mileage) + int(other.mileage)\n",
    "    \n",
    "    def __eq__(self,other):\n",
    "        return str(self.mileage) == str(other.mileage)\n",
    "    \n",
    "    def __str__(self):\n",
    "        return \"{} {}\".format(self.model,self.mileage)"
   ]
  },
  {
   "cell_type": "code",
   "execution_count": 14,
   "id": "2e82ceac",
   "metadata": {},
   "outputs": [
    {
     "name": "stdout",
     "output_type": "stream",
     "text": [
      "Tesla 8\n",
      "BMW 7\n",
      "False\n"
     ]
    }
   ],
   "source": [
    "C1 = Car('Tesla',8)\n",
    "C2 = Car('BMW',7)\n",
    "print(C1 == C2)"
   ]
  },
  {
   "cell_type": "code",
   "execution_count": 15,
   "id": "4b14a3a8",
   "metadata": {},
   "outputs": [
    {
     "data": {
      "text/plain": [
       "'BMW 7'"
      ]
     },
     "execution_count": 15,
     "metadata": {},
     "output_type": "execute_result"
    }
   ],
   "source": [
    "str(C2)"
   ]
  },
  {
   "cell_type": "code",
   "execution_count": 16,
   "id": "4863a237",
   "metadata": {},
   "outputs": [],
   "source": [
    "class Dog:\n",
    "    \n",
    "    def __init__(self,name,breed):\n",
    "        self.name = name\n",
    "        self.breed = breed\n",
    "        self.total_tricks = []\n",
    "        \n",
    "    def trick(self,tricks):\n",
    "        self.total_tricks.append(tricks)\n",
    "        print(f'{self.name}, {self.breed}, {self.total_tricks}')"
   ]
  },
  {
   "cell_type": "code",
   "execution_count": 17,
   "id": "d7440653",
   "metadata": {},
   "outputs": [],
   "source": [
    "a = Dog('max','german')"
   ]
  },
  {
   "cell_type": "code",
   "execution_count": 18,
   "id": "d2c14576",
   "metadata": {},
   "outputs": [
    {
     "name": "stdout",
     "output_type": "stream",
     "text": [
      "max, german, ['sit']\n"
     ]
    }
   ],
   "source": [
    "a.trick('sit')"
   ]
  },
  {
   "cell_type": "code",
   "execution_count": 19,
   "id": "9c606c03",
   "metadata": {},
   "outputs": [
    {
     "data": {
      "text/plain": [
       "['sit']"
      ]
     },
     "execution_count": 19,
     "metadata": {},
     "output_type": "execute_result"
    }
   ],
   "source": [
    "a.total_tricks"
   ]
  },
  {
   "cell_type": "code",
   "execution_count": null,
   "id": "5f4e0eb9",
   "metadata": {},
   "outputs": [],
   "source": []
  }
 ],
 "metadata": {
  "kernelspec": {
   "display_name": "Python 3 (ipykernel)",
   "language": "python",
   "name": "python3"
  },
  "language_info": {
   "codemirror_mode": {
    "name": "ipython",
    "version": 3
   },
   "file_extension": ".py",
   "mimetype": "text/x-python",
   "name": "python",
   "nbconvert_exporter": "python",
   "pygments_lexer": "ipython3",
   "version": "3.11.5"
  }
 },
 "nbformat": 4,
 "nbformat_minor": 5
}
