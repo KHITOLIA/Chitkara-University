{
 "cells": [
  {
   "cell_type": "markdown",
   "id": "b1e557b8",
   "metadata": {},
   "source": [
    "# In built Data Structures\n",
    "1. string\n",
    "2. list\n",
    "3. tuple\n",
    "4. dictionary\n",
    "5. set"
   ]
  },
  {
   "cell_type": "markdown",
   "id": "3cd6c00e",
   "metadata": {},
   "source": [
    "# Strings"
   ]
  },
  {
   "cell_type": "code",
   "execution_count": 1,
   "id": "2038f32e",
   "metadata": {},
   "outputs": [
    {
     "name": "stdout",
     "output_type": "stream",
     "text": [
      "tushar\n",
      "khitoliya tushar\n"
     ]
    }
   ],
   "source": [
    "name = 'tushar'\n",
    "print(name)\n",
    "n = 'khitoliya'\n",
    "print(n,name)"
   ]
  },
  {
   "cell_type": "code",
   "execution_count": 2,
   "id": "d1482e07",
   "metadata": {},
   "outputs": [
    {
     "name": "stdout",
     "output_type": "stream",
     "text": [
      "hello khitoliya tushar\n"
     ]
    }
   ],
   "source": [
    "print('hello {} {}'.format(n,name))"
   ]
  },
  {
   "cell_type": "code",
   "execution_count": 3,
   "id": "2eb7e58c",
   "metadata": {},
   "outputs": [
    {
     "name": "stdout",
     "output_type": "stream",
     "text": [
      "hello tushar\n"
     ]
    }
   ],
   "source": [
    "print(f\"hello {name}\")"
   ]
  },
  {
   "cell_type": "code",
   "execution_count": 4,
   "id": "d6bfa797",
   "metadata": {},
   "outputs": [
    {
     "data": {
      "text/plain": [
       "'tushar'"
      ]
     },
     "execution_count": 4,
     "metadata": {},
     "output_type": "execute_result"
    }
   ],
   "source": [
    "name = \"   tushar   \"\n",
    "name.strip()"
   ]
  },
  {
   "cell_type": "code",
   "execution_count": 5,
   "id": "c6352215",
   "metadata": {},
   "outputs": [
    {
     "data": {
      "text/plain": [
       "'   tushar   '"
      ]
     },
     "execution_count": 5,
     "metadata": {},
     "output_type": "execute_result"
    }
   ],
   "source": [
    "name"
   ]
  },
  {
   "cell_type": "code",
   "execution_count": 6,
   "id": "b2a53ef3",
   "metadata": {},
   "outputs": [],
   "source": [
    "name = name.strip()"
   ]
  },
  {
   "cell_type": "code",
   "execution_count": 7,
   "id": "2ff26a0e",
   "metadata": {},
   "outputs": [
    {
     "data": {
      "text/plain": [
       "'whar'"
      ]
     },
     "execution_count": 7,
     "metadata": {},
     "output_type": "execute_result"
    }
   ],
   "source": [
    "name.replace('tus','w')"
   ]
  },
  {
   "cell_type": "code",
   "execution_count": 8,
   "id": "09d3ebfa",
   "metadata": {},
   "outputs": [
    {
     "name": "stdout",
     "output_type": "stream",
     "text": [
      "enter the password : tushar\n",
      "try again\n",
      "enter the password : Tushar\n",
      "password authenticated\n"
     ]
    }
   ],
   "source": [
    "while True:\n",
    "    a = input('enter the password : ').strip()\n",
    "    if a=='Tushar':\n",
    "        print('password authenticated')\n",
    "        break\n",
    "    else:\n",
    "        print('try again')"
   ]
  },
  {
   "cell_type": "code",
   "execution_count": 9,
   "id": "50bb87dc",
   "metadata": {},
   "outputs": [
    {
     "name": "stdout",
     "output_type": "stream",
     "text": [
      "enter the password :    Tushar q2313\n",
      "password authenticated\n"
     ]
    }
   ],
   "source": [
    "while True:\n",
    "    a = input('enter the password : ').strip().split()[0]\n",
    "    if a=='Tushar':\n",
    "        print('password authenticated')\n",
    "        break\n",
    "    else:\n",
    "        print('try again')"
   ]
  },
  {
   "cell_type": "code",
   "execution_count": 10,
   "id": "6b9b8dfe",
   "metadata": {},
   "outputs": [
    {
     "data": {
      "text/plain": [
       "['harry', 'Potter']"
      ]
     },
     "execution_count": 10,
     "metadata": {},
     "output_type": "execute_result"
    }
   ],
   "source": [
    "name = 'harry Potter'\n",
    "name.split()"
   ]
  },
  {
   "cell_type": "code",
   "execution_count": 11,
   "id": "826d7659",
   "metadata": {},
   "outputs": [
    {
     "data": {
      "text/plain": [
       "'harry'"
      ]
     },
     "execution_count": 11,
     "metadata": {},
     "output_type": "execute_result"
    }
   ],
   "source": [
    "name.split()[0]\n"
   ]
  },
  {
   "cell_type": "code",
   "execution_count": 12,
   "id": "8c4cce0a",
   "metadata": {},
   "outputs": [
    {
     "name": "stdout",
     "output_type": "stream",
     "text": [
      "harry\n"
     ]
    }
   ],
   "source": [
    "print(name.split()[0])"
   ]
  },
  {
   "cell_type": "markdown",
   "id": "9c6a189d",
   "metadata": {},
   "source": [
    "# operations\n",
    "\n",
    "1. strip()\n",
    "2. split()\n",
    "3. occurence of any character : count()\n",
    "4. to replace something : replace()    "
   ]
  },
  {
   "cell_type": "code",
   "execution_count": 13,
   "id": "768474a7",
   "metadata": {},
   "outputs": [
    {
     "data": {
      "text/plain": [
       "3"
      ]
     },
     "execution_count": 13,
     "metadata": {},
     "output_type": "execute_result"
    }
   ],
   "source": [
    "st = 'harry potter'\n",
    "st.count('r')"
   ]
  },
  {
   "cell_type": "code",
   "execution_count": 14,
   "id": "d45252ea",
   "metadata": {},
   "outputs": [
    {
     "data": {
      "text/plain": [
       "'rrry potter'"
      ]
     },
     "execution_count": 14,
     "metadata": {},
     "output_type": "execute_result"
    }
   ],
   "source": [
    "st.replace('ha','r')"
   ]
  },
  {
   "cell_type": "code",
   "execution_count": 15,
   "id": "62408226",
   "metadata": {},
   "outputs": [
    {
     "data": {
      "text/plain": [
       "True"
      ]
     },
     "execution_count": 15,
     "metadata": {},
     "output_type": "execute_result"
    }
   ],
   "source": [
    "st.startswith('ha')"
   ]
  },
  {
   "cell_type": "code",
   "execution_count": 16,
   "id": "b9d79bf8",
   "metadata": {},
   "outputs": [
    {
     "name": "stdout",
     "output_type": "stream",
     "text": [
      "H\n",
      "A\n",
      "R\n",
      "R\n",
      "Y\n",
      "\u0000\n",
      "P\n",
      "O\n",
      "T\n",
      "T\n",
      "E\n",
      "R\n"
     ]
    }
   ],
   "source": [
    "def count_(string):\n",
    "    for i in string:\n",
    "        print(chr(ord(i) - 32))\n",
    "count_('harry potter')        \n",
    "# chr?"
   ]
  },
  {
   "cell_type": "code",
   "execution_count": 17,
   "id": "9f5c867d",
   "metadata": {},
   "outputs": [
    {
     "data": {
      "text/plain": [
       "'HARRY POTTER'"
      ]
     },
     "execution_count": 17,
     "metadata": {},
     "output_type": "execute_result"
    }
   ],
   "source": [
    "st.upper()"
   ]
  },
  {
   "cell_type": "code",
   "execution_count": 20,
   "id": "24293f3c",
   "metadata": {},
   "outputs": [
    {
     "data": {
      "text/plain": [
       "'HARRY POTTER'"
      ]
     },
     "execution_count": 20,
     "metadata": {},
     "output_type": "execute_result"
    }
   ],
   "source": [
    "st = st.upper()\n",
    "st"
   ]
  },
  {
   "cell_type": "code",
   "execution_count": 19,
   "id": "d89fe94a",
   "metadata": {},
   "outputs": [
    {
     "data": {
      "text/plain": [
       "False"
      ]
     },
     "execution_count": 19,
     "metadata": {},
     "output_type": "execute_result"
    }
   ],
   "source": [
    "st.isalpha()"
   ]
  },
  {
   "cell_type": "code",
   "execution_count": 21,
   "id": "dada81c8",
   "metadata": {},
   "outputs": [
    {
     "data": {
      "text/plain": [
       "'RETTOP YRRAH'"
      ]
     },
     "execution_count": 21,
     "metadata": {},
     "output_type": "execute_result"
    }
   ],
   "source": [
    "st[::-1] #reverse"
   ]
  },
  {
   "cell_type": "markdown",
   "id": "f77d2c8d",
   "metadata": {},
   "source": [
    "# List"
   ]
  },
  {
   "cell_type": "code",
   "execution_count": 22,
   "id": "f035a4a4",
   "metadata": {},
   "outputs": [],
   "source": [
    "a = ['purab',19,34.53,True,[32,45,23,4,324,4]]"
   ]
  },
  {
   "cell_type": "code",
   "execution_count": 23,
   "id": "6ebced11",
   "metadata": {},
   "outputs": [
    {
     "data": {
      "text/plain": [
       "4"
      ]
     },
     "execution_count": 23,
     "metadata": {},
     "output_type": "execute_result"
    }
   ],
   "source": [
    "a[4][3]"
   ]
  },
  {
   "cell_type": "code",
   "execution_count": 24,
   "id": "38828361",
   "metadata": {},
   "outputs": [],
   "source": [
    "a.append('hi')"
   ]
  },
  {
   "cell_type": "code",
   "execution_count": 25,
   "id": "c63884b3",
   "metadata": {},
   "outputs": [
    {
     "data": {
      "text/plain": [
       "['purab', 19, 34.53, True, [32, 45, 23, 4, 324, 4], 'hi']"
      ]
     },
     "execution_count": 25,
     "metadata": {},
     "output_type": "execute_result"
    }
   ],
   "source": [
    "a"
   ]
  },
  {
   "cell_type": "code",
   "execution_count": 26,
   "id": "fa24a999",
   "metadata": {},
   "outputs": [],
   "source": [
    "a.insert(2,3)"
   ]
  },
  {
   "cell_type": "code",
   "execution_count": 27,
   "id": "d3f13c00",
   "metadata": {},
   "outputs": [
    {
     "data": {
      "text/plain": [
       "['purab', 19, 3, 34.53, True, [32, 45, 23, 4, 324, 4], 'hi']"
      ]
     },
     "execution_count": 27,
     "metadata": {},
     "output_type": "execute_result"
    }
   ],
   "source": [
    "a"
   ]
  },
  {
   "cell_type": "code",
   "execution_count": 28,
   "id": "ca532fe7",
   "metadata": {},
   "outputs": [
    {
     "data": {
      "text/plain": [
       "'hi'"
      ]
     },
     "execution_count": 28,
     "metadata": {},
     "output_type": "execute_result"
    }
   ],
   "source": [
    "a.pop()   #always return the deleted item "
   ]
  },
  {
   "cell_type": "code",
   "execution_count": 29,
   "id": "2d2f6778",
   "metadata": {},
   "outputs": [],
   "source": [
    "b= a.pop(5)"
   ]
  },
  {
   "cell_type": "code",
   "execution_count": 30,
   "id": "539f1eeb",
   "metadata": {},
   "outputs": [
    {
     "data": {
      "text/plain": [
       "[32, 45, 23, 4, 324, 4]"
      ]
     },
     "execution_count": 30,
     "metadata": {},
     "output_type": "execute_result"
    }
   ],
   "source": [
    "b"
   ]
  },
  {
   "cell_type": "code",
   "execution_count": 31,
   "id": "ce14afef",
   "metadata": {},
   "outputs": [],
   "source": [
    "a.remove('purab')"
   ]
  },
  {
   "cell_type": "code",
   "execution_count": 32,
   "id": "a2bdc916",
   "metadata": {},
   "outputs": [
    {
     "data": {
      "text/plain": [
       "[324, 45, 32, 23, 4, 4]"
      ]
     },
     "execution_count": 32,
     "metadata": {},
     "output_type": "execute_result"
    }
   ],
   "source": [
    "sorted(b, reverse = True)"
   ]
  },
  {
   "cell_type": "code",
   "execution_count": 33,
   "id": "150e934e",
   "metadata": {},
   "outputs": [
    {
     "data": {
      "text/plain": [
       "[4, 4, 23, 32, 45, 324]"
      ]
     },
     "execution_count": 33,
     "metadata": {},
     "output_type": "execute_result"
    }
   ],
   "source": [
    "sorted(b)"
   ]
  },
  {
   "cell_type": "code",
   "execution_count": null,
   "id": "89d79bd4",
   "metadata": {},
   "outputs": [],
   "source": []
  }
 ],
 "metadata": {
  "kernelspec": {
   "display_name": "Python 3 (ipykernel)",
   "language": "python",
   "name": "python3"
  },
  "language_info": {
   "codemirror_mode": {
    "name": "ipython",
    "version": 3
   },
   "file_extension": ".py",
   "mimetype": "text/x-python",
   "name": "python",
   "nbconvert_exporter": "python",
   "pygments_lexer": "ipython3",
   "version": "3.11.5"
  }
 },
 "nbformat": 4,
 "nbformat_minor": 5
}
