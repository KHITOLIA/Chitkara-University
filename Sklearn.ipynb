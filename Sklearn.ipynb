{
 "cells": [
  {
   "cell_type": "code",
   "execution_count": 30,
   "id": "eb7d5fe7",
   "metadata": {},
   "outputs": [],
   "source": [
    "from sklearn.datasets import load_iris"
   ]
  },
  {
   "cell_type": "code",
   "execution_count": 27,
   "id": "d58ac3b1",
   "metadata": {},
   "outputs": [],
   "source": [
    "iris = load_iris()"
   ]
  },
  {
   "cell_type": "code",
   "execution_count": 28,
   "id": "9df3cd0f",
   "metadata": {},
   "outputs": [
    {
     "data": {
      "text/html": [
       "<div>\n",
       "<style scoped>\n",
       "    .dataframe tbody tr th:only-of-type {\n",
       "        vertical-align: middle;\n",
       "    }\n",
       "\n",
       "    .dataframe tbody tr th {\n",
       "        vertical-align: top;\n",
       "    }\n",
       "\n",
       "    .dataframe thead th {\n",
       "        text-align: right;\n",
       "    }\n",
       "</style>\n",
       "<table border=\"1\" class=\"dataframe\">\n",
       "  <thead>\n",
       "    <tr style=\"text-align: right;\">\n",
       "      <th></th>\n",
       "      <th>sepal length (cm)</th>\n",
       "      <th>sepal width (cm)</th>\n",
       "      <th>petal length (cm)</th>\n",
       "      <th>petal width (cm)</th>\n",
       "    </tr>\n",
       "  </thead>\n",
       "  <tbody>\n",
       "    <tr>\n",
       "      <th>0</th>\n",
       "      <td>5.1</td>\n",
       "      <td>3.5</td>\n",
       "      <td>1.4</td>\n",
       "      <td>0.2</td>\n",
       "    </tr>\n",
       "    <tr>\n",
       "      <th>1</th>\n",
       "      <td>4.9</td>\n",
       "      <td>3.0</td>\n",
       "      <td>1.4</td>\n",
       "      <td>0.2</td>\n",
       "    </tr>\n",
       "    <tr>\n",
       "      <th>2</th>\n",
       "      <td>4.7</td>\n",
       "      <td>3.2</td>\n",
       "      <td>1.3</td>\n",
       "      <td>0.2</td>\n",
       "    </tr>\n",
       "    <tr>\n",
       "      <th>3</th>\n",
       "      <td>4.6</td>\n",
       "      <td>3.1</td>\n",
       "      <td>1.5</td>\n",
       "      <td>0.2</td>\n",
       "    </tr>\n",
       "    <tr>\n",
       "      <th>4</th>\n",
       "      <td>5.0</td>\n",
       "      <td>3.6</td>\n",
       "      <td>1.4</td>\n",
       "      <td>0.2</td>\n",
       "    </tr>\n",
       "  </tbody>\n",
       "</table>\n",
       "</div>"
      ],
      "text/plain": [
       "   sepal length (cm)  sepal width (cm)  petal length (cm)  petal width (cm)\n",
       "0                5.1               3.5                1.4               0.2\n",
       "1                4.9               3.0                1.4               0.2\n",
       "2                4.7               3.2                1.3               0.2\n",
       "3                4.6               3.1                1.5               0.2\n",
       "4                5.0               3.6                1.4               0.2"
      ]
     },
     "execution_count": 28,
     "metadata": {},
     "output_type": "execute_result"
    }
   ],
   "source": [
    "import numpy as np\n",
    "import pandas as pd\n",
    "\n",
    "x = pd.DataFrame(iris.data, columns = iris.feature_names)\n",
    "y = iris.target\n",
    "\n",
    "x.head()         1000 \n",
    "\n",
    "                  800 - training, 200  - Testing  12.9, 14.7, 15.9, 19    "
   ]
  },
  {
   "cell_type": "code",
   "execution_count": 12,
   "id": "f6f6fe36",
   "metadata": {},
   "outputs": [
    {
     "data": {
      "text/plain": [
       "array([0, 0, 0, 0, 0, 0, 0, 0, 0, 0, 0, 0, 0, 0, 0, 0, 0, 0, 0, 0, 0, 0,\n",
       "       0, 0, 0, 0, 0, 0, 0, 0, 0, 0, 0, 0, 0, 0, 0, 0, 0, 0, 0, 0, 0, 0,\n",
       "       0, 0, 0, 0, 0, 0, 1, 1, 1, 1, 1, 1, 1, 1, 1, 1, 1, 1, 1, 1, 1, 1,\n",
       "       1, 1, 1, 1, 1, 1, 1, 1, 1, 1, 1, 1, 1, 1, 1, 1, 1, 1, 1, 1, 1, 1,\n",
       "       1, 1, 1, 1, 1, 1, 1, 1, 1, 1, 1, 1, 2, 2, 2, 2, 2, 2, 2, 2, 2, 2,\n",
       "       2, 2, 2, 2, 2, 2, 2, 2, 2, 2, 2, 2, 2, 2, 2, 2, 2, 2, 2, 2, 2, 2,\n",
       "       2, 2, 2, 2, 2, 2, 2, 2, 2, 2, 2, 2, 2, 2, 2, 2, 2, 2])"
      ]
     },
     "execution_count": 12,
     "metadata": {},
     "output_type": "execute_result"
    }
   ],
   "source": []
  },
  {
   "cell_type": "code",
   "execution_count": 14,
   "id": "0bac3699",
   "metadata": {},
   "outputs": [],
   "source": [
    "x_train, x_test, y_train, y_test = train_test_split(x, y, test_size = 0.2, random_state=345)"
   ]
  },
  {
   "cell_type": "code",
   "execution_count": 19,
   "id": "2617a8cb",
   "metadata": {},
   "outputs": [
    {
     "data": {
      "text/plain": [
       "(120, 4)"
      ]
     },
     "execution_count": 19,
     "metadata": {},
     "output_type": "execute_result"
    }
   ],
   "source": [
    "x_train.shape"
   ]
  },
  {
   "cell_type": "code",
   "execution_count": 20,
   "id": "1f25f8d0",
   "metadata": {},
   "outputs": [
    {
     "data": {
      "text/html": [
       "<div>\n",
       "<style scoped>\n",
       "    .dataframe tbody tr th:only-of-type {\n",
       "        vertical-align: middle;\n",
       "    }\n",
       "\n",
       "    .dataframe tbody tr th {\n",
       "        vertical-align: top;\n",
       "    }\n",
       "\n",
       "    .dataframe thead th {\n",
       "        text-align: right;\n",
       "    }\n",
       "</style>\n",
       "<table border=\"1\" class=\"dataframe\">\n",
       "  <thead>\n",
       "    <tr style=\"text-align: right;\">\n",
       "      <th></th>\n",
       "      <th>sepal length (cm)</th>\n",
       "      <th>sepal width (cm)</th>\n",
       "      <th>petal length (cm)</th>\n",
       "      <th>petal width (cm)</th>\n",
       "    </tr>\n",
       "  </thead>\n",
       "  <tbody>\n",
       "    <tr>\n",
       "      <th>31</th>\n",
       "      <td>5.4</td>\n",
       "      <td>3.4</td>\n",
       "      <td>1.5</td>\n",
       "      <td>0.4</td>\n",
       "    </tr>\n",
       "    <tr>\n",
       "      <th>92</th>\n",
       "      <td>5.8</td>\n",
       "      <td>2.6</td>\n",
       "      <td>4.0</td>\n",
       "      <td>1.2</td>\n",
       "    </tr>\n",
       "    <tr>\n",
       "      <th>65</th>\n",
       "      <td>6.7</td>\n",
       "      <td>3.1</td>\n",
       "      <td>4.4</td>\n",
       "      <td>1.4</td>\n",
       "    </tr>\n",
       "    <tr>\n",
       "      <th>19</th>\n",
       "      <td>5.1</td>\n",
       "      <td>3.8</td>\n",
       "      <td>1.5</td>\n",
       "      <td>0.3</td>\n",
       "    </tr>\n",
       "    <tr>\n",
       "      <th>7</th>\n",
       "      <td>5.0</td>\n",
       "      <td>3.4</td>\n",
       "      <td>1.5</td>\n",
       "      <td>0.2</td>\n",
       "    </tr>\n",
       "  </tbody>\n",
       "</table>\n",
       "</div>"
      ],
      "text/plain": [
       "    sepal length (cm)  sepal width (cm)  petal length (cm)  petal width (cm)\n",
       "31                5.4               3.4                1.5               0.4\n",
       "92                5.8               2.6                4.0               1.2\n",
       "65                6.7               3.1                4.4               1.4\n",
       "19                5.1               3.8                1.5               0.3\n",
       "7                 5.0               3.4                1.5               0.2"
      ]
     },
     "execution_count": 20,
     "metadata": {},
     "output_type": "execute_result"
    }
   ],
   "source": [
    "x_train.head()"
   ]
  },
  {
   "cell_type": "code",
   "execution_count": null,
   "id": "b86698be",
   "metadata": {},
   "outputs": [],
   "source": [
    "from sklearn.preprocessing import StandardScaler"
   ]
  },
  {
   "cell_type": "code",
   "execution_count": 22,
   "id": "beb89cac",
   "metadata": {},
   "outputs": [
    {
     "data": {
      "text/html": [
       "<style>#sk-container-id-1 {color: black;}#sk-container-id-1 pre{padding: 0;}#sk-container-id-1 div.sk-toggleable {background-color: white;}#sk-container-id-1 label.sk-toggleable__label {cursor: pointer;display: block;width: 100%;margin-bottom: 0;padding: 0.3em;box-sizing: border-box;text-align: center;}#sk-container-id-1 label.sk-toggleable__label-arrow:before {content: \"▸\";float: left;margin-right: 0.25em;color: #696969;}#sk-container-id-1 label.sk-toggleable__label-arrow:hover:before {color: black;}#sk-container-id-1 div.sk-estimator:hover label.sk-toggleable__label-arrow:before {color: black;}#sk-container-id-1 div.sk-toggleable__content {max-height: 0;max-width: 0;overflow: hidden;text-align: left;background-color: #f0f8ff;}#sk-container-id-1 div.sk-toggleable__content pre {margin: 0.2em;color: black;border-radius: 0.25em;background-color: #f0f8ff;}#sk-container-id-1 input.sk-toggleable__control:checked~div.sk-toggleable__content {max-height: 200px;max-width: 100%;overflow: auto;}#sk-container-id-1 input.sk-toggleable__control:checked~label.sk-toggleable__label-arrow:before {content: \"▾\";}#sk-container-id-1 div.sk-estimator input.sk-toggleable__control:checked~label.sk-toggleable__label {background-color: #d4ebff;}#sk-container-id-1 div.sk-label input.sk-toggleable__control:checked~label.sk-toggleable__label {background-color: #d4ebff;}#sk-container-id-1 input.sk-hidden--visually {border: 0;clip: rect(1px 1px 1px 1px);clip: rect(1px, 1px, 1px, 1px);height: 1px;margin: -1px;overflow: hidden;padding: 0;position: absolute;width: 1px;}#sk-container-id-1 div.sk-estimator {font-family: monospace;background-color: #f0f8ff;border: 1px dotted black;border-radius: 0.25em;box-sizing: border-box;margin-bottom: 0.5em;}#sk-container-id-1 div.sk-estimator:hover {background-color: #d4ebff;}#sk-container-id-1 div.sk-parallel-item::after {content: \"\";width: 100%;border-bottom: 1px solid gray;flex-grow: 1;}#sk-container-id-1 div.sk-label:hover label.sk-toggleable__label {background-color: #d4ebff;}#sk-container-id-1 div.sk-serial::before {content: \"\";position: absolute;border-left: 1px solid gray;box-sizing: border-box;top: 0;bottom: 0;left: 50%;z-index: 0;}#sk-container-id-1 div.sk-serial {display: flex;flex-direction: column;align-items: center;background-color: white;padding-right: 0.2em;padding-left: 0.2em;position: relative;}#sk-container-id-1 div.sk-item {position: relative;z-index: 1;}#sk-container-id-1 div.sk-parallel {display: flex;align-items: stretch;justify-content: center;background-color: white;position: relative;}#sk-container-id-1 div.sk-item::before, #sk-container-id-1 div.sk-parallel-item::before {content: \"\";position: absolute;border-left: 1px solid gray;box-sizing: border-box;top: 0;bottom: 0;left: 50%;z-index: -1;}#sk-container-id-1 div.sk-parallel-item {display: flex;flex-direction: column;z-index: 1;position: relative;background-color: white;}#sk-container-id-1 div.sk-parallel-item:first-child::after {align-self: flex-end;width: 50%;}#sk-container-id-1 div.sk-parallel-item:last-child::after {align-self: flex-start;width: 50%;}#sk-container-id-1 div.sk-parallel-item:only-child::after {width: 0;}#sk-container-id-1 div.sk-dashed-wrapped {border: 1px dashed gray;margin: 0 0.4em 0.5em 0.4em;box-sizing: border-box;padding-bottom: 0.4em;background-color: white;}#sk-container-id-1 div.sk-label label {font-family: monospace;font-weight: bold;display: inline-block;line-height: 1.2em;}#sk-container-id-1 div.sk-label-container {text-align: center;}#sk-container-id-1 div.sk-container {/* jupyter's `normalize.less` sets `[hidden] { display: none; }` but bootstrap.min.css set `[hidden] { display: none !important; }` so we also need the `!important` here to be able to override the default hidden behavior on the sphinx rendered scikit-learn.org. See: https://github.com/scikit-learn/scikit-learn/issues/21755 */display: inline-block !important;position: relative;}#sk-container-id-1 div.sk-text-repr-fallback {display: none;}</style><div id=\"sk-container-id-1\" class=\"sk-top-container\"><div class=\"sk-text-repr-fallback\"><pre>StandardScaler()</pre><b>In a Jupyter environment, please rerun this cell to show the HTML representation or trust the notebook. <br />On GitHub, the HTML representation is unable to render, please try loading this page with nbviewer.org.</b></div><div class=\"sk-container\" hidden><div class=\"sk-item\"><div class=\"sk-estimator sk-toggleable\"><input class=\"sk-toggleable__control sk-hidden--visually\" id=\"sk-estimator-id-1\" type=\"checkbox\" checked><label for=\"sk-estimator-id-1\" class=\"sk-toggleable__label sk-toggleable__label-arrow\">StandardScaler</label><div class=\"sk-toggleable__content\"><pre>StandardScaler()</pre></div></div></div></div></div>"
      ],
      "text/plain": [
       "StandardScaler()"
      ]
     },
     "execution_count": 22,
     "metadata": {},
     "output_type": "execute_result"
    }
   ],
   "source": [
    "scaler = StandardScaler()\n",
    "scaler"
   ]
  },
  {
   "cell_type": "code",
   "execution_count": 23,
   "id": "5eda20d9",
   "metadata": {},
   "outputs": [],
   "source": [
    "x_train_scaler = scaler.fit_transform(x_train)\n",
    "\n",
    "x_test_scaler = scaler.transform(x_test)\n",
    "\n"
   ]
  },
  {
   "cell_type": "code",
   "execution_count": 24,
   "id": "28d3e621",
   "metadata": {
    "collapsed": true
   },
   "outputs": [
    {
     "data": {
      "text/plain": [
       "array([[-0.56887351,  0.79179288, -1.31930858, -1.1078819 ],\n",
       "       [-0.0939878 , -1.05765035,  0.10902983, -0.04004392],\n",
       "       [ 0.97450506,  0.09825167,  0.33756398,  0.22691557],\n",
       "       [-0.9250378 ,  1.71651449, -1.31930858, -1.24136165],\n",
       "       [-1.04375923,  0.79179288, -1.31930858, -1.37484139],\n",
       "       [-1.7560878 , -0.13292873, -1.43357565, -1.37484139],\n",
       "       [-0.0939878 , -0.82646994,  0.0518963 , -0.04004392],\n",
       "       [ 0.38089792, -0.59528954,  0.56609812,  0.76083456],\n",
       "       [-1.16248065,  0.09825167, -1.31930858, -1.50832114],\n",
       "       [ 0.02473363,  0.32943207,  0.56609812,  0.76083456],\n",
       "       [ 1.09322649,  0.32943207,  1.19456702,  1.42823329],\n",
       "       [-1.28120208, -0.13292873, -1.37644212, -1.24136165],\n",
       "       [-1.16248065, -1.52001115, -0.29090492, -0.30700342],\n",
       "       [-1.04375923,  0.32943207, -1.49070919, -1.37484139],\n",
       "       [-0.56887351,  1.9476949 , -1.43357565, -1.1078819 ],\n",
       "       [-0.21270923, -0.59528954,  0.16616337,  0.09343582],\n",
       "       [-1.7560878 , -0.36410914, -1.37644212, -1.37484139],\n",
       "       [-1.16248065, -0.13292873, -1.37644212, -1.37484139],\n",
       "       [-0.9250378 ,  0.79179288, -1.31930858, -1.37484139],\n",
       "       [-0.45015208, -1.52001115, -0.06237078, -0.30700342],\n",
       "       [ 0.49961935, -0.36410914,  1.02316642,  0.76083456],\n",
       "       [ 1.21194792,  0.09825167,  0.90889934,  1.1612738 ],\n",
       "       [ 0.97450506, -0.13292873,  0.6803652 ,  0.62735481],\n",
       "       [-0.0939878 , -0.59528954,  0.73749873,  1.56171304],\n",
       "       [-0.45015208,  1.02297328, -1.43357565, -1.37484139],\n",
       "       [ 0.49961935,  0.56061248,  0.50896459,  0.49387506],\n",
       "       [-1.51864494,  0.79179288, -1.37644212, -1.24136165],\n",
       "       [ 0.97450506,  0.56061248,  1.08029995,  1.69519279],\n",
       "       [ 1.44939077, -0.13292873,  1.19456702,  1.1612738 ],\n",
       "       [ 2.04299792, -0.13292873,  1.59450178,  1.1612738 ],\n",
       "       [ 2.16171934, -0.13292873,  1.3088341 ,  1.42823329],\n",
       "       [ 1.21194792,  0.09825167,  0.62323166,  0.36039532],\n",
       "       [ 2.3991622 ,  1.71651449,  1.48023471,  1.02779405],\n",
       "       [ 0.61834077, -0.36410914,  0.28043044,  0.09343582],\n",
       "       [-1.16248065, -1.28883075,  0.39469751,  0.62735481],\n",
       "       [-0.68759494,  1.48533409, -1.31930858, -1.37484139],\n",
       "       [ 0.97450506, -1.28883075,  1.13743349,  0.76083456],\n",
       "       [ 0.14345506,  0.79179288,  0.39469751,  0.49387506],\n",
       "       [ 0.61834077, -0.59528954,  1.02316642,  1.29475355],\n",
       "       [ 0.7370622 ,  0.32943207,  0.73749873,  1.02779405],\n",
       "       [-0.21270923,  3.10359691, -1.31930858, -1.1078819 ],\n",
       "       [-0.45015208,  2.64123611, -1.37644212, -1.37484139],\n",
       "       [-0.45015208, -1.28883075,  0.10902983,  0.09343582],\n",
       "       [-1.04375923,  1.02297328, -1.43357565, -1.24136165],\n",
       "       [ 0.14345506, -0.13292873,  0.56609812,  0.76083456],\n",
       "       [ 0.49961935, -0.59528954,  0.73749873,  0.36039532],\n",
       "       [ 0.26217649, -0.13292873,  0.45183105,  0.22691557],\n",
       "       [ 0.97450506,  0.09825167,  1.02316642,  1.56171304],\n",
       "       [ 0.49961935,  0.56061248,  1.25170056,  1.69519279],\n",
       "       [-1.51864494,  0.32943207, -1.37644212, -1.37484139],\n",
       "       [-0.45015208, -1.05765035,  0.33756398, -0.04004392],\n",
       "       [ 0.49961935, -1.28883075,  0.62323166,  0.36039532],\n",
       "       [-0.9250378 , -1.28883075, -0.46230553, -0.17352367],\n",
       "       [ 0.97450506,  0.56061248,  1.08029995,  1.1612738 ],\n",
       "       [-0.21270923, -0.59528954,  0.39469751,  0.09343582],\n",
       "       [-1.39992351,  0.32943207, -1.43357565, -1.37484139],\n",
       "       [-0.33143065, -0.59528954,  0.62323166,  1.02779405],\n",
       "       [-0.33143065, -0.36410914, -0.11950431,  0.09343582],\n",
       "       [ 0.02473363, -0.13292873,  0.73749873,  0.76083456],\n",
       "       [ 0.02473363, -0.13292873,  0.2232969 ,  0.36039532],\n",
       "       [-0.80631637,  0.79179288, -1.37644212, -1.37484139],\n",
       "       [-0.33143065, -0.13292873,  0.16616337,  0.09343582],\n",
       "       [-1.51864494,  1.25415369, -1.60497626, -1.37484139],\n",
       "       [ 0.61834077, -0.59528954,  1.02316642,  1.1612738 ],\n",
       "       [ 0.49961935, -1.75119156,  0.33756398,  0.09343582],\n",
       "       [-0.9250378 ,  1.71651449, -1.26217504, -1.37484139],\n",
       "       [ 0.85578363, -0.36410914,  0.45183105,  0.09343582],\n",
       "       [-1.16248065,  1.25415369, -1.37644212, -1.50832114],\n",
       "       [-1.63736637, -1.75119156, -1.43357565, -1.24136165],\n",
       "       [-0.9250378 ,  1.48533409, -1.31930858, -1.1078819 ],\n",
       "       [ 0.97450506, -0.13292873,  0.79463227,  1.42823329],\n",
       "       [ 0.7370622 , -0.13292873,  0.79463227,  1.02779405],\n",
       "       [-0.80631637, -0.82646994,  0.0518963 ,  0.22691557],\n",
       "       [ 2.16171934, -1.05765035,  1.76590239,  1.42823329],\n",
       "       [ 1.09322649, -0.59528954,  0.56609812,  0.22691557],\n",
       "       [ 0.49961935, -0.82646994,  0.62323166,  0.76083456],\n",
       "       [-0.0939878 ,  2.1788753 , -1.49070919, -1.37484139],\n",
       "       [ 0.14345506, -1.98237196,  0.6803652 ,  0.36039532],\n",
       "       [ 1.5681122 ,  0.32943207,  1.25170056,  0.76083456],\n",
       "       [-0.33143065, -0.13292873,  0.39469751,  0.36039532],\n",
       "       [-1.04375923,  0.79179288, -1.26217504, -1.1078819 ],\n",
       "       [ 1.5681122 , -0.13292873,  1.13743349,  0.49387506],\n",
       "       [-1.04375923, -2.44473277, -0.17663785, -0.30700342],\n",
       "       [ 0.61834077, -0.82646994,  0.85176581,  0.8943143 ],\n",
       "       [ 1.33066934,  0.32943207,  0.50896459,  0.22691557],\n",
       "       [-0.56887351, -0.13292873,  0.39469751,  0.36039532],\n",
       "       [ 0.61834077,  0.32943207,  0.39469751,  0.36039532],\n",
       "       [ 0.14345506, -1.98237196,  0.10902983, -0.30700342],\n",
       "       [-0.0939878 , -0.82646994,  0.16616337, -0.30700342],\n",
       "       [ 0.7370622 , -0.59528954,  0.45183105,  0.36039532],\n",
       "       [-0.56887351,  1.9476949 , -1.20504151, -1.1078819 ],\n",
       "       [ 0.7370622 , -0.13292873,  1.13743349,  1.29475355],\n",
       "       [ 1.09322649, -0.13292873,  0.96603288,  1.1612738 ],\n",
       "       [-1.28120208,  0.79179288, -1.26217504, -1.37484139],\n",
       "       [ 1.21194792,  0.09825167,  0.73749873,  1.42823329],\n",
       "       [-1.04375923,  1.02297328, -1.26217504, -0.84092241],\n",
       "       [ 2.16171934,  1.71651449,  1.65163532,  1.29475355],\n",
       "       [ 0.7370622 , -0.13292873,  0.96603288,  0.76083456],\n",
       "       [ 0.26217649, -0.59528954,  0.10902983,  0.09343582],\n",
       "       [-0.33143065, -1.28883075,  0.0518963 , -0.17352367],\n",
       "       [-0.9250378 ,  1.02297328, -1.37644212, -1.24136165],\n",
       "       [ 1.5681122 ,  1.25415369,  1.3088341 ,  1.69519279],\n",
       "       [ 0.38089792,  0.79179288,  0.90889934,  1.42823329],\n",
       "       [ 1.68683363, -0.36410914,  1.42310117,  0.76083456],\n",
       "       [-0.21270923, -0.36410914,  0.2232969 ,  0.09343582],\n",
       "       [-1.28120208, -0.13292873, -1.37644212, -1.50832114],\n",
       "       [ 0.97450506,  0.09825167,  0.50896459,  0.36039532],\n",
       "       [-0.45015208, -1.52001115, -0.00523724, -0.17352367],\n",
       "       [-0.9250378 ,  0.56061248, -1.20504151, -0.97440215],\n",
       "       [ 0.38089792, -0.36410914,  0.28043044,  0.09343582],\n",
       "       [ 0.49961935, -1.28883075,  0.6803652 ,  0.8943143 ],\n",
       "       [-1.04375923,  1.25415369, -1.37644212, -1.37484139],\n",
       "       [-1.51864494,  0.09825167, -1.31930858, -1.37484139],\n",
       "       [-1.39992351,  0.32943207, -1.26217504, -1.37484139],\n",
       "       [ 0.38089792, -1.98237196,  0.39469751,  0.36039532],\n",
       "       [ 0.85578363, -0.13292873,  0.33756398,  0.22691557],\n",
       "       [-1.7560878 ,  0.32943207, -1.43357565, -1.37484139],\n",
       "       [ 0.61834077,  0.09825167,  0.96603288,  0.76083456],\n",
       "       [ 0.14345506, -0.82646994,  0.73749873,  0.49387506],\n",
       "       [-1.28120208,  0.79179288, -1.09077443, -1.37484139]])"
      ]
     },
     "execution_count": 24,
     "metadata": {},
     "output_type": "execute_result"
    }
   ],
   "source": [
    "x_train_scaler"
   ]
  },
  {
   "cell_type": "code",
   "execution_count": 9,
   "id": "0c637f1f",
   "metadata": {},
   "outputs": [],
   "source": [
    "import numpy as np\n",
    "import pandas as pd\n",
    "x = pd.DataFrame(iris.data, columns = iris.feature_names)\n",
    "y = iris.target"
   ]
  },
  {
   "cell_type": "code",
   "execution_count": 20,
   "id": "97e145f0",
   "metadata": {},
   "outputs": [
    {
     "data": {
      "text/plain": [
       "5.7891666666666675"
      ]
     },
     "execution_count": 20,
     "metadata": {},
     "output_type": "execute_result"
    },
    {
     "data": {
      "image/png": "[encoded data removed]",
      "text/plain": [
       "<Figure size 640x480 with 1 Axes>"
      ]
     },
     "metadata": {},
     "output_type": "display_data"
    }
   ],
   "source": [
    "import matplotlib.pyplot as plt\n",
    "plt.hist(x_train['sepal length (cm)'])\n",
    "\n",
    "x_train['sepal length (cm)'].mean()"
   ]
  },
  {
   "cell_type": "code",
   "execution_count": 10,
   "id": "872179f7",
   "metadata": {},
   "outputs": [
    {
     "data": {
      "text/plain": [
       "(150, 4)"
      ]
     },
     "execution_count": 10,
     "metadata": {},
     "output_type": "execute_result"
    }
   ],
   "source": [
    "x.shape"
   ]
  },
  {
   "cell_type": "code",
   "execution_count": 11,
   "id": "dc7b0d74",
   "metadata": {},
   "outputs": [],
   "source": [
    "x_train, x_test, y_train, y_test = train_test_split(x, y, test_size=0.2, random_state=100)"
   ]
  },
  {
   "cell_type": "code",
   "execution_count": 12,
   "id": "2e88a107",
   "metadata": {},
   "outputs": [
    {
     "data": {
      "text/plain": [
       "(120, 4)"
      ]
     },
     "execution_count": 12,
     "metadata": {},
     "output_type": "execute_result"
    }
   ],
   "source": [
    "x_train.shape"
   ]
  },
  {
   "cell_type": "code",
   "execution_count": 13,
   "id": "7b0c3343",
   "metadata": {},
   "outputs": [
    {
     "data": {
      "text/plain": [
       "(30, 4)"
      ]
     },
     "execution_count": 13,
     "metadata": {},
     "output_type": "execute_result"
    }
   ],
   "source": [
    "x_test.shape"
   ]
  },
  {
   "cell_type": "code",
   "execution_count": 14,
   "id": "c2ee870c",
   "metadata": {},
   "outputs": [
    {
     "data": {
      "text/plain": [
       "(120,)"
      ]
     },
     "execution_count": 14,
     "metadata": {},
     "output_type": "execute_result"
    }
   ],
   "source": [
    "y_train.shape"
   ]
  },
  {
   "cell_type": "code",
   "execution_count": 15,
   "id": "1400d694",
   "metadata": {},
   "outputs": [],
   "source": [
    "from sklearn.preprocessing import StandardScaler\n"
   ]
  },
  {
   "cell_type": "code",
   "execution_count": 16,
   "id": "5a2afecf",
   "metadata": {},
   "outputs": [],
   "source": [
    "scaler = StandardScaler()"
   ]
  },
  {
   "cell_type": "code",
   "execution_count": 17,
   "id": "ebb72fb2",
   "metadata": {},
   "outputs": [
    {
     "data": {
      "text/html": [
       "<style>#sk-container-id-1 {color: black;}#sk-container-id-1 pre{padding: 0;}#sk-container-id-1 div.sk-toggleable {background-color: white;}#sk-container-id-1 label.sk-toggleable__label {cursor: pointer;display: block;width: 100%;margin-bottom: 0;padding: 0.3em;box-sizing: border-box;text-align: center;}#sk-container-id-1 label.sk-toggleable__label-arrow:before {content: \"▸\";float: left;margin-right: 0.25em;color: #696969;}#sk-container-id-1 label.sk-toggleable__label-arrow:hover:before {color: black;}#sk-container-id-1 div.sk-estimator:hover label.sk-toggleable__label-arrow:before {color: black;}#sk-container-id-1 div.sk-toggleable__content {max-height: 0;max-width: 0;overflow: hidden;text-align: left;background-color: #f0f8ff;}#sk-container-id-1 div.sk-toggleable__content pre {margin: 0.2em;color: black;border-radius: 0.25em;background-color: #f0f8ff;}#sk-container-id-1 input.sk-toggleable__control:checked~div.sk-toggleable__content {max-height: 200px;max-width: 100%;overflow: auto;}#sk-container-id-1 input.sk-toggleable__control:checked~label.sk-toggleable__label-arrow:before {content: \"▾\";}#sk-container-id-1 div.sk-estimator input.sk-toggleable__control:checked~label.sk-toggleable__label {background-color: #d4ebff;}#sk-container-id-1 div.sk-label input.sk-toggleable__control:checked~label.sk-toggleable__label {background-color: #d4ebff;}#sk-container-id-1 input.sk-hidden--visually {border: 0;clip: rect(1px 1px 1px 1px);clip: rect(1px, 1px, 1px, 1px);height: 1px;margin: -1px;overflow: hidden;padding: 0;position: absolute;width: 1px;}#sk-container-id-1 div.sk-estimator {font-family: monospace;background-color: #f0f8ff;border: 1px dotted black;border-radius: 0.25em;box-sizing: border-box;margin-bottom: 0.5em;}#sk-container-id-1 div.sk-estimator:hover {background-color: #d4ebff;}#sk-container-id-1 div.sk-parallel-item::after {content: \"\";width: 100%;border-bottom: 1px solid gray;flex-grow: 1;}#sk-container-id-1 div.sk-label:hover label.sk-toggleable__label {background-color: #d4ebff;}#sk-container-id-1 div.sk-serial::before {content: \"\";position: absolute;border-left: 1px solid gray;box-sizing: border-box;top: 0;bottom: 0;left: 50%;z-index: 0;}#sk-container-id-1 div.sk-serial {display: flex;flex-direction: column;align-items: center;background-color: white;padding-right: 0.2em;padding-left: 0.2em;position: relative;}#sk-container-id-1 div.sk-item {position: relative;z-index: 1;}#sk-container-id-1 div.sk-parallel {display: flex;align-items: stretch;justify-content: center;background-color: white;position: relative;}#sk-container-id-1 div.sk-item::before, #sk-container-id-1 div.sk-parallel-item::before {content: \"\";position: absolute;border-left: 1px solid gray;box-sizing: border-box;top: 0;bottom: 0;left: 50%;z-index: -1;}#sk-container-id-1 div.sk-parallel-item {display: flex;flex-direction: column;z-index: 1;position: relative;background-color: white;}#sk-container-id-1 div.sk-parallel-item:first-child::after {align-self: flex-end;width: 50%;}#sk-container-id-1 div.sk-parallel-item:last-child::after {align-self: flex-start;width: 50%;}#sk-container-id-1 div.sk-parallel-item:only-child::after {width: 0;}#sk-container-id-1 div.sk-dashed-wrapped {border: 1px dashed gray;margin: 0 0.4em 0.5em 0.4em;box-sizing: border-box;padding-bottom: 0.4em;background-color: white;}#sk-container-id-1 div.sk-label label {font-family: monospace;font-weight: bold;display: inline-block;line-height: 1.2em;}#sk-container-id-1 div.sk-label-container {text-align: center;}#sk-container-id-1 div.sk-container {/* jupyter's `normalize.less` sets `[hidden] { display: none; }` but bootstrap.min.css set `[hidden] { display: none !important; }` so we also need the `!important` here to be able to override the default hidden behavior on the sphinx rendered scikit-learn.org. See: https://github.com/scikit-learn/scikit-learn/issues/21755 */display: inline-block !important;position: relative;}#sk-container-id-1 div.sk-text-repr-fallback {display: none;}</style><div id=\"sk-container-id-1\" class=\"sk-top-container\"><div class=\"sk-text-repr-fallback\"><pre>StandardScaler()</pre><b>In a Jupyter environment, please rerun this cell to show the HTML representation or trust the notebook. <br />On GitHub, the HTML representation is unable to render, please try loading this page with nbviewer.org.</b></div><div class=\"sk-container\" hidden><div class=\"sk-item\"><div class=\"sk-estimator sk-toggleable\"><input class=\"sk-toggleable__control sk-hidden--visually\" id=\"sk-estimator-id-1\" type=\"checkbox\" checked><label for=\"sk-estimator-id-1\" class=\"sk-toggleable__label sk-toggleable__label-arrow\">StandardScaler</label><div class=\"sk-toggleable__content\"><pre>StandardScaler()</pre></div></div></div></div></div>"
      ],
      "text/plain": [
       "StandardScaler()"
      ]
     },
     "execution_count": 17,
     "metadata": {},
     "output_type": "execute_result"
    }
   ],
   "source": [
    "scaler"
   ]
  },
  {
   "cell_type": "code",
   "execution_count": 18,
   "id": "fccd87cf",
   "metadata": {},
   "outputs": [],
   "source": [
    "x_train_scaled = scaler.fit_transform(x_train)\n",
    "x_test_scaled = scaler.transform(x_test)\n",
    "\n",
    "# x_train.head()"
   ]
  },
  {
   "cell_type": "code",
   "execution_count": 19,
   "id": "76892285",
   "metadata": {},
   "outputs": [
    {
     "data": {
      "text/plain": [
       "array([[ 0.76366141, -0.57607153,  1.09064548,  1.22845033],\n",
       "       [-1.23665225,  0.80650014, -1.24020862, -1.32941885],\n",
       "       [ 2.38891626, -1.03692875,  1.84817306,  1.49769972],\n",
       "       [-0.11147581,  3.11078626, -1.29847997, -1.06016947],\n",
       "       [ 0.63864181, -0.80650014,  0.68274601,  0.82457625],\n",
       "       [ 2.38891626, -0.11521431,  1.38200224,  1.49769972],\n",
       "       [-0.73657383,  2.41950042, -1.29847997, -1.46404355],\n",
       "       [-1.11163264, -0.11521431, -1.35675132, -1.32941885],\n",
       "       [ 0.88868102, -0.11521431,  1.03237413,  0.82457625],\n",
       "       [-1.23665225, -0.11521431, -1.35675132, -1.19479416],\n",
       "       [-0.98661304,  1.03692875, -1.41502267, -1.19479416],\n",
       "       [ 0.76366141,  0.34564292,  0.91583142,  1.49769972],\n",
       "       [-0.98661304,  0.80650014, -1.24020862, -1.06016947],\n",
       "       [-0.73657383,  0.80650014, -1.35675132, -1.32941885],\n",
       "       [ 1.13872022, -0.11521431,  0.85756007,  1.49769972],\n",
       "       [ 0.51362221, -0.34564292,  0.3331179 ,  0.15145278],\n",
       "       [ 0.263583  , -1.9586432 ,  0.15830384, -0.2524213 ],\n",
       "       [ 1.13872022, -0.11521431,  0.74101736,  0.68995156],\n",
       "       [ 2.38891626, -0.57607153,  1.73163035,  1.09382564],\n",
       "       [ 1.26373983, -0.11521431,  1.03237413,  1.22845033],\n",
       "       [ 1.76381824,  0.34564292,  1.32373089,  0.82457625],\n",
       "       [-0.48653462,  0.80650014, -1.29847997, -1.06016947],\n",
       "       [ 0.63864181, -1.26735736,  0.74101736,  0.95920095],\n",
       "       [-1.36167185,  0.34564292, -1.24020862, -1.32941885],\n",
       "       [-0.23649542, -1.26735736,  0.10003249, -0.11779661],\n",
       "       [ 0.13856339, -0.11521431,  0.79928872,  0.82457625],\n",
       "       [ 1.01370062, -0.11521431,  0.39138925,  0.28607747],\n",
       "       [-0.48653462,  0.80650014, -1.18193726, -1.32941885],\n",
       "       [ 0.3886026 , -0.57607153,  0.56620331,  0.01682809],\n",
       "       [ 1.38875943,  0.34564292,  1.14891683,  1.49769972]])"
      ]
     },
     "execution_count": 19,
     "metadata": {},
     "output_type": "execute_result"
    }
   ],
   "source": [
    "x_test_scaled"
   ]
  },
  {
   "cell_type": "code",
   "execution_count": null,
   "id": "db18a607",
   "metadata": {},
   "outputs": [],
   "source": []
  },
  {
   "cell_type": "code",
   "execution_count": null,
   "id": "8e79555a",
   "metadata": {},
   "outputs": [],
   "source": []
  }
 ],
 "metadata": {
  "kernelspec": {
   "display_name": "Python 3 (ipykernel)",
   "language": "python",
   "name": "python3"
  },
  "language_info": {
   "codemirror_mode": {
    "name": "ipython",
    "version": 3
   },
   "file_extension": ".py",
   "mimetype": "text/x-python",
   "name": "python",
   "nbconvert_exporter": "python",
   "pygments_lexer": "ipython3",
   "version": "3.11.5"
  }
 },
 "nbformat": 4,
 "nbformat_minor": 5
}
