{
 "cells": [
  {
   "cell_type": "markdown",
   "id": "0d8dff73",
   "metadata": {},
   "source": [
    "# Generators"
   ]
  },
  {
   "cell_type": "code",
   "execution_count": 18,
   "id": "9614b2fd",
   "metadata": {},
   "outputs": [],
   "source": [
    "def yrange(n):\n",
    "    i = 0\n",
    "    while i <n:\n",
    "        yield i\n",
    "        i += 1"
   ]
  },
  {
   "cell_type": "code",
   "execution_count": 19,
   "id": "28b64d4d",
   "metadata": {},
   "outputs": [
    {
     "data": {
      "text/plain": [
       "function"
      ]
     },
     "execution_count": 19,
     "metadata": {},
     "output_type": "execute_result"
    }
   ],
   "source": [
    "type(yrange)"
   ]
  },
  {
   "cell_type": "code",
   "execution_count": 20,
   "id": "31a8e1bf",
   "metadata": {},
   "outputs": [
    {
     "data": {
      "text/plain": [
       "generator"
      ]
     },
     "execution_count": 20,
     "metadata": {},
     "output_type": "execute_result"
    }
   ],
   "source": [
    "type(yrange(2))"
   ]
  },
  {
   "cell_type": "code",
   "execution_count": 34,
   "id": "ea762cac",
   "metadata": {},
   "outputs": [],
   "source": [
    "gen = yrange(5)"
   ]
  },
  {
   "cell_type": "code",
   "execution_count": 36,
   "id": "039a4de1",
   "metadata": {},
   "outputs": [
    {
     "data": {
      "text/plain": [
       "1"
      ]
     },
     "execution_count": 36,
     "metadata": {},
     "output_type": "execute_result"
    }
   ],
   "source": [
    "next(gen)"
   ]
  },
  {
   "cell_type": "code",
   "execution_count": 37,
   "id": "d5ae2404",
   "metadata": {},
   "outputs": [
    {
     "name": "stdout",
     "output_type": "stream",
     "text": [
      "0\n",
      "1\n",
      "2\n",
      "3\n",
      "4\n",
      "5\n",
      "6\n",
      "7\n",
      "8\n",
      "9\n"
     ]
    }
   ],
   "source": [
    "for i in yrange(10):\n",
    "    print(i)"
   ]
  },
  {
   "cell_type": "code",
   "execution_count": 45,
   "id": "0701623c",
   "metadata": {},
   "outputs": [],
   "source": [
    "def fib(n):\n",
    "    a = 0\n",
    "    b = 1\n",
    "    while True:\n",
    "        yield a+b\n",
    "        a, b = b, a+b"
   ]
  },
  {
   "cell_type": "code",
   "execution_count": 46,
   "id": "b7da89f7",
   "metadata": {},
   "outputs": [],
   "source": [
    "gen = fib(10)"
   ]
  },
  {
   "cell_type": "code",
   "execution_count": 53,
   "id": "06e47c96",
   "metadata": {},
   "outputs": [
    {
     "data": {
      "text/plain": [
       "21"
      ]
     },
     "execution_count": 53,
     "metadata": {},
     "output_type": "execute_result"
    }
   ],
   "source": [
    "next(gen)"
   ]
  },
  {
   "cell_type": "markdown",
   "id": "92601678",
   "metadata": {},
   "source": [
    "# Generator Comprehension"
   ]
  },
  {
   "cell_type": "code",
   "execution_count": 56,
   "id": "aa816dc3",
   "metadata": {},
   "outputs": [
    {
     "name": "stdout",
     "output_type": "stream",
     "text": [
      "[0, 1, 4, 9, 16, 25, 36, 49, 64, 81]\n"
     ]
    }
   ],
   "source": [
    "l = [i**2 for i in range(10)]\n",
    "print(l)"
   ]
  },
  {
   "cell_type": "code",
   "execution_count": 60,
   "id": "e599abc6",
   "metadata": {},
   "outputs": [],
   "source": [
    "gen1 = (i**2 for i in range(10)) # it returns a generator object on the fly"
   ]
  },
  {
   "cell_type": "code",
   "execution_count": 61,
   "id": "e28c4d36",
   "metadata": {},
   "outputs": [
    {
     "data": {
      "text/plain": [
       "generator"
      ]
     },
     "execution_count": 61,
     "metadata": {},
     "output_type": "execute_result"
    }
   ],
   "source": [
    "type(gen1)  "
   ]
  },
  {
   "cell_type": "code",
   "execution_count": 67,
   "id": "f0937e24",
   "metadata": {},
   "outputs": [
    {
     "data": {
      "text/plain": [
       "25"
      ]
     },
     "execution_count": 67,
     "metadata": {},
     "output_type": "execute_result"
    }
   ],
   "source": [
    "next(gen1)"
   ]
  },
  {
   "cell_type": "code",
   "execution_count": 68,
   "id": "7915d451",
   "metadata": {},
   "outputs": [],
   "source": [
    "def square(n):\n",
    "    i = 0\n",
    "    while i<n:\n",
    "        yield i**2\n",
    "        i += 1"
   ]
  },
  {
   "cell_type": "code",
   "execution_count": 69,
   "id": "7bcc780e",
   "metadata": {},
   "outputs": [],
   "source": [
    "gen2 = square(5)"
   ]
  },
  {
   "cell_type": "code",
   "execution_count": 73,
   "id": "9e4280e3",
   "metadata": {},
   "outputs": [
    {
     "data": {
      "text/plain": [
       "9"
      ]
     },
     "execution_count": 73,
     "metadata": {},
     "output_type": "execute_result"
    }
   ],
   "source": [
    "next(gen2)"
   ]
  },
  {
   "cell_type": "code",
   "execution_count": 74,
   "id": "933a4283",
   "metadata": {},
   "outputs": [
    {
     "data": {
      "text/plain": [
       "<generator object square at 0x0000021830384040>"
      ]
     },
     "execution_count": 74,
     "metadata": {},
     "output_type": "execute_result"
    }
   ],
   "source": [
    "iter(gen2)"
   ]
  },
  {
   "cell_type": "code",
   "execution_count": 75,
   "id": "56c6c4d6",
   "metadata": {},
   "outputs": [
    {
     "data": {
      "text/plain": [
       "True"
      ]
     },
     "execution_count": 75,
     "metadata": {},
     "output_type": "execute_result"
    }
   ],
   "source": [
    "gen2 is iter(gen2)"
   ]
  },
  {
   "cell_type": "code",
   "execution_count": null,
   "id": "6d634572",
   "metadata": {},
   "outputs": [],
   "source": []
  }
 ],
 "metadata": {
  "kernelspec": {
   "display_name": "Python 3 (ipykernel)",
   "language": "python",
   "name": "python3"
  },
  "language_info": {
   "codemirror_mode": {
    "name": "ipython",
    "version": 3
   },
   "file_extension": ".py",
   "mimetype": "text/x-python",
   "name": "python",
   "nbconvert_exporter": "python",
   "pygments_lexer": "ipython3",
   "version": "3.11.5"
  }
 },
 "nbformat": 4,
 "nbformat_minor": 5
}
